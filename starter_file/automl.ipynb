{
  "cells": [
    {
      "cell_type": "markdown",
      "source": [
        "# Automated ML\n",
        "\n",
        "Below are the dependencies that will be needed to complete the project."
      ],
      "metadata": {}
    },
    {
      "cell_type": "code",
      "source": [
        "import azureml.core\n",
        "from azureml.core.compute import ComputeTarget, AmlCompute\n",
        "from azureml.core.compute_target import ComputeTargetException\n",
        "from azureml.core.dataset import Dataset\n",
        "from azureml.core.workspace import Workspace\n",
        "from azureml.core import Experiment, Webservice, Model\n",
        "from azureml.train.automl import AutoMLConfig\n",
        "from azureml.widgets import RunDetails\n",
        "from azureml.core.environment import Environment\n",
        "from azureml.core.model import InferenceConfig\n",
        "from azureml.core.webservice import AciWebservice\n",
        "\n",
        "\n",
        "import pandas as pd\n",
        "import sklearn\n",
        "import json\n",
        "\n",
        "# Check core SDK version number\n",
        "print(\"SDK version:\", azureml.core.VERSION)"
      ],
      "outputs": [
        {
          "output_type": "stream",
          "name": "stdout",
          "text": [
            "SDK version: 1.19.0\n"
          ]
        }
      ],
      "execution_count": 1,
      "metadata": {
        "gather": {
          "logged": 1598423888013
        },
        "jupyter": {
          "outputs_hidden": false,
          "source_hidden": false
        },
        "nteract": {
          "transient": {
            "deleting": false
          }
        }
      }
    },
    {
      "cell_type": "markdown",
      "source": [
        "## Dataset\n",
        "\n",
        "### Overview\n",
        "TODO: In this markdown cell, give an overview of the dataset you are using. Also mention the task you will be performing.\n",
        "\n",
        "\n",
        "TODO: Get data. In the cell below, write code to access the data you will be using in this project. Remember that the dataset needs to be external."
      ],
      "metadata": {}
    },
    {
      "cell_type": "code",
      "source": [
        "ws = Workspace.from_config()\n",
        "print(ws.name, ws.resource_group, ws.subscription_id, sep = '\\n')"
      ],
      "outputs": [
        {
          "output_type": "stream",
          "name": "stdout",
          "text": [
            "quick-starts-ws-132623\n",
            "aml-quickstarts-132623\n",
            "61c5c3f0-6dc7-4ed9-a7f3-c704b20e3b30\n"
          ]
        }
      ],
      "execution_count": 2,
      "metadata": {}
    },
    {
      "cell_type": "code",
      "source": [
        "# choose a name for experiment\n",
        "experiment_name = 'capstone-heart-failure-exp'\n",
        "\n",
        "experiment=Experiment(ws, experiment_name)\n",
        "experiment"
      ],
      "outputs": [
        {
          "output_type": "execute_result",
          "execution_count": 3,
          "data": {
            "text/html": "<table style=\"width:100%\"><tr><th>Name</th><th>Workspace</th><th>Report Page</th><th>Docs Page</th></tr><tr><td>capstone-heart-failure-exp</td><td>quick-starts-ws-132623</td><td><a href=\"https://ml.azure.com/experiments/capstone-heart-failure-exp?wsid=/subscriptions/61c5c3f0-6dc7-4ed9-a7f3-c704b20e3b30/resourcegroups/aml-quickstarts-132623/workspaces/quick-starts-ws-132623\" target=\"_blank\" rel=\"noopener\">Link to Azure Machine Learning studio</a></td><td><a href=\"https://docs.microsoft.com/en-us/python/api/azureml-core/azureml.core.experiment.Experiment?view=azure-ml-py\" target=\"_blank\" rel=\"noopener\">Link to Documentation</a></td></tr></table>",
            "text/plain": "Experiment(Name: capstone-heart-failure-exp,\nWorkspace: quick-starts-ws-132623)"
          },
          "metadata": {}
        }
      ],
      "execution_count": 3,
      "metadata": {
        "gather": {
          "logged": 1598423890461
        },
        "jupyter": {
          "outputs_hidden": false,
          "source_hidden": false
        },
        "nteract": {
          "transient": {
            "deleting": false
          }
        }
      }
    },
    {
      "cell_type": "code",
      "source": [
        "# TODO: Create compute cluster\n",
        "# Use vm_size = \"Standard_D2_V2\" in your provisioning configuration.\n",
        "# max_nodes should be no greater than 4.\n",
        "\n",
        "### YOUR CODE HERE ###\n",
        "cluster_name=\"cpu-cluster\"\n",
        "\n",
        "try:\n",
        "    new_cluster=ComputeTarget(workspace=ws, name=\"cpu-cluster\")\n",
        "    print(\"Existing cluster detected, make use of it!\")\n",
        "    \n",
        "except ComputeTargetException:\n",
        "    print(\"New compute cluster creation in progress...\")\n",
        "    compute_config = AmlCompute.provisioning_configuration(vm_size='STANDARD_D2_V2',vm_priority='dedicated',min_nodes=None,max_nodes=4)\n",
        "    new_cluster = ComputeTarget.create(ws, \"new_cluster\", compute_config)    \n",
        "    new_cluster.wait_for_completion(show_output=True)         \n",
        "    print(\"Cluster is ready\")"
      ],
      "outputs": [
        {
          "output_type": "stream",
          "name": "stdout",
          "text": [
            "Existing cluster detected, make use of it!\n"
          ]
        }
      ],
      "execution_count": 4,
      "metadata": {}
    },
    {
      "cell_type": "code",
      "source": [
        "datastore = ws.get_default_datastore()\n",
        "\n",
        "datastore.upload(src_dir='./', target_path='dataset/')"
      ],
      "outputs": [
        {
          "output_type": "stream",
          "name": "stdout",
          "text": [
            "Uploading an estimated of 4 files\n",
            "Uploading ./automl.ipynb\n",
            "Uploaded ./automl.ipynb, 1 files out of an estimated total of 4\n",
            "Uploading ./score.py\n",
            "Uploaded ./score.py, 2 files out of an estimated total of 4\n",
            "Uploading ./.ipynb_aml_checkpoints/automl-checkpoint2020-11-31-10-52-12.ipynb\n",
            "Uploaded ./.ipynb_aml_checkpoints/automl-checkpoint2020-11-31-10-52-12.ipynb, 3 files out of an estimated total of 4\n",
            "Uploading ./.ipynb_checkpoints/automl-checkpoint.ipynb\n",
            "Uploaded ./.ipynb_checkpoints/automl-checkpoint.ipynb, 4 files out of an estimated total of 4\n",
            "Uploaded 4 files\n"
          ]
        },
        {
          "output_type": "execute_result",
          "execution_count": 5,
          "data": {
            "text/plain": "$AZUREML_DATAREFERENCE_497e925be9784bcf912ead1b17cb71c6"
          },
          "metadata": {}
        }
      ],
      "execution_count": 5,
      "metadata": {}
    },
    {
      "cell_type": "code",
      "source": [
        "dataset = Dataset.get_by_name(ws, name=\"heart-failure\")\n",
        "print(\"Dataset is registered\")\n",
        "dataset"
      ],
      "outputs": [
        {
          "output_type": "stream",
          "name": "stdout",
          "text": [
            "Dataset is registered\n"
          ]
        },
        {
          "output_type": "execute_result",
          "execution_count": 6,
          "data": {
            "text/plain": "{\n  \"source\": [\n    \"('workspaceblobstore', 'UI/12-31-2020_105053_UTC/heart_failure_clinical_records_dataset.csv')\"\n  ],\n  \"definition\": [\n    \"GetDatastoreFiles\",\n    \"ParseDelimited\",\n    \"DropColumns\",\n    \"SetColumnTypes\"\n  ],\n  \"registration\": {\n    \"id\": \"ecb3e856-5d14-464f-a1d3-d4f78b5ef872\",\n    \"name\": \"heart-failure\",\n    \"version\": 1,\n    \"description\": \"External data from kaggle\",\n    \"workspace\": \"Workspace.create(name='quick-starts-ws-132623', subscription_id='61c5c3f0-6dc7-4ed9-a7f3-c704b20e3b30', resource_group='aml-quickstarts-132623')\"\n  }\n}"
          },
          "metadata": {}
        }
      ],
      "execution_count": 6,
      "metadata": {}
    },
    {
      "cell_type": "code",
      "source": [
        "dataset.take(5).to_pandas_dataframe()"
      ],
      "outputs": [
        {
          "output_type": "execute_result",
          "execution_count": 7,
          "data": {
            "text/html": "<div>\n<style scoped>\n    .dataframe tbody tr th:only-of-type {\n        vertical-align: middle;\n    }\n\n    .dataframe tbody tr th {\n        vertical-align: top;\n    }\n\n    .dataframe thead th {\n        text-align: right;\n    }\n</style>\n<table border=\"1\" class=\"dataframe\">\n  <thead>\n    <tr style=\"text-align: right;\">\n      <th></th>\n      <th>age</th>\n      <th>anaemia</th>\n      <th>creatinine_phosphokinase</th>\n      <th>diabetes</th>\n      <th>ejection_fraction</th>\n      <th>high_blood_pressure</th>\n      <th>platelets</th>\n      <th>serum_creatinine</th>\n      <th>serum_sodium</th>\n      <th>sex</th>\n      <th>smoking</th>\n      <th>time</th>\n      <th>DEATH_EVENT</th>\n    </tr>\n  </thead>\n  <tbody>\n    <tr>\n      <th>0</th>\n      <td>75.0</td>\n      <td>0</td>\n      <td>582</td>\n      <td>0</td>\n      <td>20</td>\n      <td>1</td>\n      <td>265000.00</td>\n      <td>1.9</td>\n      <td>130</td>\n      <td>1</td>\n      <td>0</td>\n      <td>4</td>\n      <td>1</td>\n    </tr>\n    <tr>\n      <th>1</th>\n      <td>55.0</td>\n      <td>0</td>\n      <td>7861</td>\n      <td>0</td>\n      <td>38</td>\n      <td>0</td>\n      <td>263358.03</td>\n      <td>1.1</td>\n      <td>136</td>\n      <td>1</td>\n      <td>0</td>\n      <td>6</td>\n      <td>1</td>\n    </tr>\n    <tr>\n      <th>2</th>\n      <td>65.0</td>\n      <td>0</td>\n      <td>146</td>\n      <td>0</td>\n      <td>20</td>\n      <td>0</td>\n      <td>162000.00</td>\n      <td>1.3</td>\n      <td>129</td>\n      <td>1</td>\n      <td>1</td>\n      <td>7</td>\n      <td>1</td>\n    </tr>\n    <tr>\n      <th>3</th>\n      <td>50.0</td>\n      <td>1</td>\n      <td>111</td>\n      <td>0</td>\n      <td>20</td>\n      <td>0</td>\n      <td>210000.00</td>\n      <td>1.9</td>\n      <td>137</td>\n      <td>1</td>\n      <td>0</td>\n      <td>7</td>\n      <td>1</td>\n    </tr>\n    <tr>\n      <th>4</th>\n      <td>65.0</td>\n      <td>1</td>\n      <td>160</td>\n      <td>1</td>\n      <td>20</td>\n      <td>0</td>\n      <td>327000.00</td>\n      <td>2.7</td>\n      <td>116</td>\n      <td>0</td>\n      <td>0</td>\n      <td>8</td>\n      <td>1</td>\n    </tr>\n  </tbody>\n</table>\n</div>",
            "text/plain": "    age  anaemia  creatinine_phosphokinase  diabetes  ejection_fraction  \\\n0  75.0        0                       582         0                 20   \n1  55.0        0                      7861         0                 38   \n2  65.0        0                       146         0                 20   \n3  50.0        1                       111         0                 20   \n4  65.0        1                       160         1                 20   \n\n   high_blood_pressure  platelets  serum_creatinine  serum_sodium  sex  \\\n0                    1  265000.00               1.9           130    1   \n1                    0  263358.03               1.1           136    1   \n2                    0  162000.00               1.3           129    1   \n3                    0  210000.00               1.9           137    1   \n4                    0  327000.00               2.7           116    0   \n\n   smoking  time  DEATH_EVENT  \n0        0     4            1  \n1        0     6            1  \n2        1     7            1  \n3        0     7            1  \n4        0     8            1  "
          },
          "metadata": {}
        }
      ],
      "execution_count": 7,
      "metadata": {}
    },
    {
      "cell_type": "markdown",
      "source": [
        "## AutoML Configuration\n",
        "\n",
        "The following code shows a basic example of creating an AutoMLConfig object and submitting an experiment for classification.\n",
        "I chose the automl settings below because I wanted to specify the experiment type as classification. The classification experiment will be carried out using AUC weighted as the primary metric with experiment timeout minutes set to 30 minutes and 5 cross-validation folds with the maximum number of iterations that would be executed concurrently set to 4.\n",
        "All of these settings defines the machine learning task.\n",
        "\n",
        "\n",
        "The configuration object below contains and persists the parameters for configuring the experiment run, as well as the training data to be used at run time."
      ],
      "metadata": {}
    },
    {
      "cell_type": "code",
      "source": [
        "automl_settings = {\n",
        "    \"experiment_timeout_minutes\": 30,\n",
        "    \"max_concurrent_iterations\": 5,\n",
        "    \"primary_metric\" : 'AUC_weighted',\n",
        "    \"n_cross_validations\": 5\n",
        "}\n",
        "automl_config = AutoMLConfig(compute_target=new_cluster,\n",
        "                             task = \"classification\",\n",
        "                             training_data=dataset,\n",
        "                             label_column_name=\"DEATH_EVENT\", \n",
        "                             enable_early_stopping= True,\n",
        "                             featurization= 'auto',\n",
        "                             enable_voting_ensemble= True,\n",
        "                             **automl_settings\n",
        "                            )"
      ],
      "outputs": [],
      "execution_count": 8,
      "metadata": {
        "gather": {
          "logged": 1598429217746
        },
        "jupyter": {
          "outputs_hidden": false,
          "source_hidden": false
        },
        "nteract": {
          "transient": {
            "deleting": false
          }
        }
      }
    },
    {
      "cell_type": "code",
      "source": [
        "# TODO: Submit your experiment\n",
        "\n",
        "remote_run = experiment.submit(automl_config, show_output=True)"
      ],
      "outputs": [
        {
          "output_type": "stream",
          "name": "stdout",
          "text": [
            "Running on remote.\n",
            "No run_configuration provided, running on cpu-cluster with default configuration\n",
            "Running on remote compute: cpu-cluster\n",
            "Parent Run ID: AutoML_e500a9dd-6430-47c6-afdf-76f59ad1bbd2\n",
            "\n",
            "Current status: FeaturesGeneration. Generating features for the dataset.\n",
            "Current status: DatasetCrossValidationSplit. Generating individually featurized CV splits.\n",
            "Current status: ModelSelection. Beginning model selection.\n",
            "\n",
            "****************************************************************************************************\n",
            "DATA GUARDRAILS: \n",
            "\n",
            "TYPE:         Class balancing detection\n",
            "STATUS:       PASSED\n",
            "DESCRIPTION:  Your inputs were analyzed, and all classes are balanced in your training data.\n",
            "              Learn more about imbalanced data: https://aka.ms/AutomatedMLImbalancedData\n",
            "\n",
            "****************************************************************************************************\n",
            "\n",
            "TYPE:         Missing feature values imputation\n",
            "STATUS:       PASSED\n",
            "DESCRIPTION:  No feature missing values were detected in the training data.\n",
            "              Learn more about missing value imputation: https://aka.ms/AutomatedMLFeaturization\n",
            "\n",
            "****************************************************************************************************\n",
            "\n",
            "TYPE:         High cardinality feature detection\n",
            "STATUS:       PASSED\n",
            "DESCRIPTION:  Your inputs were analyzed, and no high cardinality features were detected.\n",
            "              Learn more about high cardinality feature handling: https://aka.ms/AutomatedMLFeaturization\n",
            "\n",
            "****************************************************************************************************\n",
            "\n",
            "****************************************************************************************************\n",
            "ITERATION: The iteration being evaluated.\n",
            "PIPELINE: A summary description of the pipeline being evaluated.\n",
            "DURATION: Time taken for the current iteration.\n",
            "METRIC: The result of computing score on the fitted pipeline.\n",
            "BEST: The best observed score thus far.\n",
            "****************************************************************************************************\n",
            "\n",
            " ITERATION   PIPELINE                                       DURATION      METRIC      BEST\n",
            "         0   MaxAbsScaler LightGBM                          0:00:39       0.8811    0.8811\n",
            "         1   MaxAbsScaler XGBoostClassifier                 0:00:52       0.8930    0.8930\n",
            "         3   RobustScaler ExtremeRandomTrees                0:00:52       0.8749    0.8930\n",
            "         4   MinMaxScaler RandomForest                      0:00:43       0.8941    0.8941\n",
            "         7   MinMaxScaler ExtremeRandomTrees                0:00:50       0.8939    0.8941\n",
            "         8   MinMaxScaler ExtremeRandomTrees                0:00:50       0.8569    0.8941\n",
            "         6   StandardScalerWrapper RandomForest             0:03:12       0.8869    0.8941\n",
            "         5   MinMaxScaler RandomForest                      0:03:26       0.9026    0.9026\n",
            "         9   SparseNormalizer KNN                           0:00:48       0.7515    0.9026\n",
            "         2   MinMaxScaler RandomForest                      0:03:44       0.8866    0.9026\n",
            "        10   MinMaxScaler ExtremeRandomTrees                0:00:52       0.8782    0.9026\n",
            "        11   RobustScaler ExtremeRandomTrees                0:00:40       0.8800    0.9026\n",
            "        12   StandardScalerWrapper RandomForest             0:00:46       0.9063    0.9063\n",
            "        13   StandardScalerWrapper SGD                      0:00:44       0.8712    0.9063\n",
            "        14   RobustScaler RandomForest                      0:00:47       0.8754    0.9063\n",
            "        15   StandardScalerWrapper KNN                      0:00:41       0.4823    0.9063\n",
            "        16   MinMaxScaler RandomForest                      0:00:46       0.9020    0.9063\n",
            "        17   MinMaxScaler ExtremeRandomTrees                0:00:37       0.8137    0.9063\n",
            "        18   MaxAbsScaler RandomForest                      0:00:47       0.8954    0.9063\n",
            "        19   StandardScalerWrapper XGBoostClassifier        0:00:43       0.9072    0.9072\n",
            "        20   MaxAbsScaler RandomForest                      0:00:43       0.8849    0.9072\n",
            "        21   MaxAbsScaler ExtremeRandomTrees                0:00:40       0.8556    0.9072\n",
            "        22   MaxAbsScaler ExtremeRandomTrees                0:00:51       0.8755    0.9072\n",
            "        23   MinMaxScaler RandomForest                      0:00:40       0.9064    0.9072\n",
            "        24   MinMaxScaler ExtremeRandomTrees                0:00:42       0.9123    0.9123\n",
            "        25   PCA XGBoostClassifier                          0:00:42       0.4565    0.9123\n",
            "        26   MaxAbsScaler ExtremeRandomTrees                0:00:48       0.8944    0.9123\n",
            "        27   StandardScalerWrapper LightGBM                 0:00:36       0.8361    0.9123\n",
            "        28   StandardScalerWrapper LightGBM                 0:00:37       0.8772    0.9123\n",
            "        29   RobustScaler LightGBM                          0:00:48       0.8916    0.9123\n",
            "        30   StandardScalerWrapper ExtremeRandomTrees       0:00:50       0.9068    0.9123\n",
            "        31   StandardScalerWrapper XGBoostClassifier        0:00:42       0.9034    0.9123\n",
            "        32   StandardScalerWrapper XGBoostClassifier        0:00:47       0.9016    0.9123\n",
            "        33   StandardScalerWrapper XGBoostClassifier        0:00:48       0.9110    0.9123\n",
            "        34   StandardScalerWrapper XGBoostClassifier        0:00:46       0.9039    0.9123\n",
            "        35   StandardScalerWrapper ExtremeRandomTrees       0:00:41       0.7302    0.9123\n",
            "        36   StandardScalerWrapper LightGBM                 0:00:39       0.8985    0.9123\n",
            "        37   StandardScalerWrapper XGBoostClassifier        0:00:44       0.9018    0.9123\n",
            "        38   RobustScaler GradientBoosting                  0:00:46       0.8979    0.9123\n",
            "        39   StandardScalerWrapper LightGBM                 0:00:43       0.9015    0.9123\n",
            "        40   StandardScalerWrapper ExtremeRandomTrees       0:00:32       0.8734    0.9123\n",
            "        41   StandardScalerWrapper XGBoostClassifier        0:00:29       0.9091    0.9123\n",
            "        42                                                  0:00:32          nan    0.9123\n",
            "        43    VotingEnsemble                                0:01:40       0.9223    0.9223\n",
            "        44    StackEnsemble                                 0:01:42       0.9035    0.9223\n"
          ]
        }
      ],
      "execution_count": 9,
      "metadata": {
        "gather": {
          "logged": 1598431107951
        },
        "jupyter": {
          "outputs_hidden": false,
          "source_hidden": false
        },
        "nteract": {
          "transient": {
            "deleting": false
          }
        }
      }
    },
    {
      "cell_type": "markdown",
      "source": [
        "## Run Details\n",
        "\n",
        "OPTIONAL: Write about the different models trained and their performance. Why do you think some models did better than others?\n",
        "\n",
        "TODO: In the cell below, use the `RunDetails` widget to show the different experiments."
      ],
      "metadata": {}
    },
    {
      "cell_type": "code",
      "source": [
        "RunDetails(remote_run).show()"
      ],
      "outputs": [
        {
          "output_type": "display_data",
          "data": {
            "application/vnd.jupyter.widget-view+json": {
              "model_id": "2fa00802e69245108a285c8605892979",
              "version_major": 2,
              "version_minor": 0
            },
            "text/plain": "_AutoMLWidget(widget_settings={'childWidgetDisplay': 'popup', 'send_telemetry': False, 'log_level': 'INFO', 's…"
          },
          "metadata": {}
        },
        {
          "output_type": "display_data",
          "data": {
            "application/aml.mini.widget.v1": "{\"status\": \"Completed\", \"workbench_run_details_uri\": \"https://ml.azure.com/experiments/capstone-heart-failure-exp/runs/AutoML_e500a9dd-6430-47c6-afdf-76f59ad1bbd2?wsid=/subscriptions/61c5c3f0-6dc7-4ed9-a7f3-c704b20e3b30/resourcegroups/aml-quickstarts-132623/workspaces/quick-starts-ws-132623\", \"run_id\": \"AutoML_e500a9dd-6430-47c6-afdf-76f59ad1bbd2\", \"run_properties\": {\"run_id\": \"AutoML_e500a9dd-6430-47c6-afdf-76f59ad1bbd2\", \"created_utc\": \"2020-12-31T10:58:17.860297Z\", \"properties\": {\"num_iterations\": \"1000\", \"training_type\": \"TrainFull\", \"acquisition_function\": \"EI\", \"primary_metric\": \"AUC_weighted\", \"train_split\": \"0\", \"acquisition_parameter\": \"0\", \"num_cross_validation\": \"5\", \"target\": \"cpu-cluster\", \"AMLSettingsJsonString\": \"{\\\"path\\\":null,\\\"name\\\":\\\"capstone-heart-failure-exp\\\",\\\"subscription_id\\\":\\\"61c5c3f0-6dc7-4ed9-a7f3-c704b20e3b30\\\",\\\"resource_group\\\":\\\"aml-quickstarts-132623\\\",\\\"workspace_name\\\":\\\"quick-starts-ws-132623\\\",\\\"region\\\":\\\"southcentralus\\\",\\\"compute_target\\\":\\\"cpu-cluster\\\",\\\"spark_service\\\":null,\\\"azure_service\\\":\\\"remote\\\",\\\"many_models\\\":false,\\\"pipeline_fetch_max_batch_size\\\":1,\\\"iterations\\\":1000,\\\"primary_metric\\\":\\\"AUC_weighted\\\",\\\"task_type\\\":\\\"classification\\\",\\\"data_script\\\":null,\\\"validation_size\\\":0.0,\\\"n_cross_validations\\\":5,\\\"y_min\\\":null,\\\"y_max\\\":null,\\\"num_classes\\\":null,\\\"featurization\\\":\\\"auto\\\",\\\"_ignore_package_version_incompatibilities\\\":false,\\\"is_timeseries\\\":false,\\\"max_cores_per_iteration\\\":1,\\\"max_concurrent_iterations\\\":5,\\\"iteration_timeout_minutes\\\":null,\\\"mem_in_mb\\\":null,\\\"enforce_time_on_windows\\\":false,\\\"experiment_timeout_minutes\\\":30,\\\"experiment_exit_score\\\":null,\\\"whitelist_models\\\":null,\\\"blacklist_algos\\\":[\\\"TensorFlowLinearClassifier\\\",\\\"TensorFlowDNN\\\"],\\\"supported_models\\\":[\\\"LinearSVM\\\",\\\"RandomForest\\\",\\\"LightGBM\\\",\\\"LogisticRegression\\\",\\\"SGD\\\",\\\"KNN\\\",\\\"XGBoostClassifier\\\",\\\"GradientBoosting\\\",\\\"BernoulliNaiveBayes\\\",\\\"TensorFlowLinearClassifier\\\",\\\"TensorFlowDNN\\\",\\\"ExtremeRandomTrees\\\",\\\"SVM\\\",\\\"DecisionTree\\\",\\\"AveragedPerceptronClassifier\\\",\\\"MultinomialNaiveBayes\\\"],\\\"auto_blacklist\\\":true,\\\"blacklist_samples_reached\\\":false,\\\"exclude_nan_labels\\\":true,\\\"verbosity\\\":20,\\\"_debug_log\\\":\\\"azureml_automl.log\\\",\\\"show_warnings\\\":false,\\\"model_explainability\\\":true,\\\"service_url\\\":null,\\\"sdk_url\\\":null,\\\"sdk_packages\\\":null,\\\"enable_onnx_compatible_models\\\":false,\\\"enable_split_onnx_featurizer_estimator_models\\\":false,\\\"vm_type\\\":\\\"STANDARD_D2_V2\\\",\\\"telemetry_verbosity\\\":20,\\\"send_telemetry\\\":true,\\\"enable_dnn\\\":false,\\\"scenario\\\":\\\"SDK-1.13.0\\\",\\\"environment_label\\\":null,\\\"force_text_dnn\\\":false,\\\"enable_feature_sweeping\\\":true,\\\"enable_early_stopping\\\":true,\\\"early_stopping_n_iters\\\":10,\\\"metrics\\\":null,\\\"enable_ensembling\\\":true,\\\"enable_stack_ensembling\\\":true,\\\"ensemble_iterations\\\":15,\\\"enable_tf\\\":false,\\\"enable_subsampling\\\":null,\\\"subsample_seed\\\":null,\\\"enable_nimbusml\\\":false,\\\"enable_streaming\\\":false,\\\"force_streaming\\\":false,\\\"track_child_runs\\\":true,\\\"allowed_private_models\\\":[],\\\"label_column_name\\\":\\\"DEATH_EVENT\\\",\\\"weight_column_name\\\":null,\\\"cv_split_column_names\\\":null,\\\"enable_local_managed\\\":false,\\\"_local_managed_run_id\\\":null,\\\"cost_mode\\\":1,\\\"lag_length\\\":0,\\\"metric_operation\\\":\\\"maximize\\\",\\\"preprocess\\\":true}\", \"DataPrepJsonString\": \"{\\\\\\\"training_data\\\\\\\": \\\\\\\"{\\\\\\\\\\\\\\\"blocks\\\\\\\\\\\\\\\": [{\\\\\\\\\\\\\\\"id\\\\\\\\\\\\\\\": \\\\\\\\\\\\\\\"3bca3095-3528-41c1-9dc2-615de70ac59c\\\\\\\\\\\\\\\", \\\\\\\\\\\\\\\"type\\\\\\\\\\\\\\\": \\\\\\\\\\\\\\\"Microsoft.DPrep.GetDatastoreFilesBlock\\\\\\\\\\\\\\\", \\\\\\\\\\\\\\\"arguments\\\\\\\\\\\\\\\": {\\\\\\\\\\\\\\\"datastores\\\\\\\\\\\\\\\": [{\\\\\\\\\\\\\\\"datastoreName\\\\\\\\\\\\\\\": \\\\\\\\\\\\\\\"workspaceblobstore\\\\\\\\\\\\\\\", \\\\\\\\\\\\\\\"path\\\\\\\\\\\\\\\": \\\\\\\\\\\\\\\"UI/12-31-2020_105053_UTC/heart_failure_clinical_records_dataset.csv\\\\\\\\\\\\\\\", \\\\\\\\\\\\\\\"resourceGroup\\\\\\\\\\\\\\\": \\\\\\\\\\\\\\\"aml-quickstarts-132623\\\\\\\\\\\\\\\", \\\\\\\\\\\\\\\"subscription\\\\\\\\\\\\\\\": \\\\\\\\\\\\\\\"61c5c3f0-6dc7-4ed9-a7f3-c704b20e3b30\\\\\\\\\\\\\\\", \\\\\\\\\\\\\\\"workspaceName\\\\\\\\\\\\\\\": \\\\\\\\\\\\\\\"quick-starts-ws-132623\\\\\\\\\\\\\\\"}]}, \\\\\\\\\\\\\\\"localData\\\\\\\\\\\\\\\": {}, \\\\\\\\\\\\\\\"isEnabled\\\\\\\\\\\\\\\": true, \\\\\\\\\\\\\\\"name\\\\\\\\\\\\\\\": null, \\\\\\\\\\\\\\\"annotation\\\\\\\\\\\\\\\": null}, {\\\\\\\\\\\\\\\"id\\\\\\\\\\\\\\\": \\\\\\\\\\\\\\\"dbbd994f-f172-4370-9791-5e4d0d29f163\\\\\\\\\\\\\\\", \\\\\\\\\\\\\\\"type\\\\\\\\\\\\\\\": \\\\\\\\\\\\\\\"Microsoft.DPrep.ParseDelimitedBlock\\\\\\\\\\\\\\\", \\\\\\\\\\\\\\\"arguments\\\\\\\\\\\\\\\": {\\\\\\\\\\\\\\\"columnHeadersMode\\\\\\\\\\\\\\\": 1, \\\\\\\\\\\\\\\"fileEncoding\\\\\\\\\\\\\\\": 0, \\\\\\\\\\\\\\\"handleQuotedLineBreaks\\\\\\\\\\\\\\\": false, \\\\\\\\\\\\\\\"preview\\\\\\\\\\\\\\\": false, \\\\\\\\\\\\\\\"separator\\\\\\\\\\\\\\\": \\\\\\\\\\\\\\\",\\\\\\\\\\\\\\\", \\\\\\\\\\\\\\\"skipRows\\\\\\\\\\\\\\\": 0, \\\\\\\\\\\\\\\"skipRowsMode\\\\\\\\\\\\\\\": 0}, \\\\\\\\\\\\\\\"localData\\\\\\\\\\\\\\\": {}, \\\\\\\\\\\\\\\"isEnabled\\\\\\\\\\\\\\\": true, \\\\\\\\\\\\\\\"name\\\\\\\\\\\\\\\": null, \\\\\\\\\\\\\\\"annotation\\\\\\\\\\\\\\\": null}, {\\\\\\\\\\\\\\\"id\\\\\\\\\\\\\\\": \\\\\\\\\\\\\\\"c08bdae2-2a95-4215-8e00-e55e58411996\\\\\\\\\\\\\\\", \\\\\\\\\\\\\\\"type\\\\\\\\\\\\\\\": \\\\\\\\\\\\\\\"Microsoft.DPrep.DropColumnsBlock\\\\\\\\\\\\\\\", \\\\\\\\\\\\\\\"arguments\\\\\\\\\\\\\\\": {\\\\\\\\\\\\\\\"columns\\\\\\\\\\\\\\\": {\\\\\\\\\\\\\\\"type\\\\\\\\\\\\\\\": 0, \\\\\\\\\\\\\\\"details\\\\\\\\\\\\\\\": {\\\\\\\\\\\\\\\"selectedColumns\\\\\\\\\\\\\\\": [\\\\\\\\\\\\\\\"Path\\\\\\\\\\\\\\\"]}}}, \\\\\\\\\\\\\\\"localData\\\\\\\\\\\\\\\": {}, \\\\\\\\\\\\\\\"isEnabled\\\\\\\\\\\\\\\": true, \\\\\\\\\\\\\\\"name\\\\\\\\\\\\\\\": null, \\\\\\\\\\\\\\\"annotation\\\\\\\\\\\\\\\": null}, {\\\\\\\\\\\\\\\"id\\\\\\\\\\\\\\\": \\\\\\\\\\\\\\\"a1023664-4b57-41a5-8eb0-74cacf1ff3cf\\\\\\\\\\\\\\\", \\\\\\\\\\\\\\\"type\\\\\\\\\\\\\\\": \\\\\\\\\\\\\\\"Microsoft.DPrep.SetColumnTypesBlock\\\\\\\\\\\\\\\", \\\\\\\\\\\\\\\"arguments\\\\\\\\\\\\\\\": {\\\\\\\\\\\\\\\"columnConversion\\\\\\\\\\\\\\\": [{\\\\\\\\\\\\\\\"column\\\\\\\\\\\\\\\": {\\\\\\\\\\\\\\\"type\\\\\\\\\\\\\\\": 2, \\\\\\\\\\\\\\\"details\\\\\\\\\\\\\\\": {\\\\\\\\\\\\\\\"selectedColumn\\\\\\\\\\\\\\\": \\\\\\\\\\\\\\\"Path\\\\\\\\\\\\\\\"}}, \\\\\\\\\\\\\\\"typeProperty\\\\\\\\\\\\\\\": 0}, {\\\\\\\\\\\\\\\"column\\\\\\\\\\\\\\\": {\\\\\\\\\\\\\\\"type\\\\\\\\\\\\\\\": 2, \\\\\\\\\\\\\\\"details\\\\\\\\\\\\\\\": {\\\\\\\\\\\\\\\"selectedColumn\\\\\\\\\\\\\\\": \\\\\\\\\\\\\\\"age\\\\\\\\\\\\\\\"}}, \\\\\\\\\\\\\\\"typeProperty\\\\\\\\\\\\\\\": 3}, {\\\\\\\\\\\\\\\"column\\\\\\\\\\\\\\\": {\\\\\\\\\\\\\\\"type\\\\\\\\\\\\\\\": 2, \\\\\\\\\\\\\\\"details\\\\\\\\\\\\\\\": {\\\\\\\\\\\\\\\"selectedColumn\\\\\\\\\\\\\\\": \\\\\\\\\\\\\\\"anaemia\\\\\\\\\\\\\\\"}}, \\\\\\\\\\\\\\\"typeProperty\\\\\\\\\\\\\\\": 2}, {\\\\\\\\\\\\\\\"column\\\\\\\\\\\\\\\": {\\\\\\\\\\\\\\\"type\\\\\\\\\\\\\\\": 2, \\\\\\\\\\\\\\\"details\\\\\\\\\\\\\\\": {\\\\\\\\\\\\\\\"selectedColumn\\\\\\\\\\\\\\\": \\\\\\\\\\\\\\\"creatinine_phosphokinase\\\\\\\\\\\\\\\"}}, \\\\\\\\\\\\\\\"typeProperty\\\\\\\\\\\\\\\": 2}, {\\\\\\\\\\\\\\\"column\\\\\\\\\\\\\\\": {\\\\\\\\\\\\\\\"type\\\\\\\\\\\\\\\": 2, \\\\\\\\\\\\\\\"details\\\\\\\\\\\\\\\": {\\\\\\\\\\\\\\\"selectedColumn\\\\\\\\\\\\\\\": \\\\\\\\\\\\\\\"diabetes\\\\\\\\\\\\\\\"}}, \\\\\\\\\\\\\\\"typeProperty\\\\\\\\\\\\\\\": 2}, {\\\\\\\\\\\\\\\"column\\\\\\\\\\\\\\\": {\\\\\\\\\\\\\\\"type\\\\\\\\\\\\\\\": 2, \\\\\\\\\\\\\\\"details\\\\\\\\\\\\\\\": {\\\\\\\\\\\\\\\"selectedColumn\\\\\\\\\\\\\\\": \\\\\\\\\\\\\\\"ejection_fraction\\\\\\\\\\\\\\\"}}, \\\\\\\\\\\\\\\"typeProperty\\\\\\\\\\\\\\\": 2}, {\\\\\\\\\\\\\\\"column\\\\\\\\\\\\\\\": {\\\\\\\\\\\\\\\"type\\\\\\\\\\\\\\\": 2, \\\\\\\\\\\\\\\"details\\\\\\\\\\\\\\\": {\\\\\\\\\\\\\\\"selectedColumn\\\\\\\\\\\\\\\": \\\\\\\\\\\\\\\"high_blood_pressure\\\\\\\\\\\\\\\"}}, \\\\\\\\\\\\\\\"typeProperty\\\\\\\\\\\\\\\": 2}, {\\\\\\\\\\\\\\\"column\\\\\\\\\\\\\\\": {\\\\\\\\\\\\\\\"type\\\\\\\\\\\\\\\": 2, \\\\\\\\\\\\\\\"details\\\\\\\\\\\\\\\": {\\\\\\\\\\\\\\\"selectedColumn\\\\\\\\\\\\\\\": \\\\\\\\\\\\\\\"platelets\\\\\\\\\\\\\\\"}}, \\\\\\\\\\\\\\\"typeProperty\\\\\\\\\\\\\\\": 3}, {\\\\\\\\\\\\\\\"column\\\\\\\\\\\\\\\": {\\\\\\\\\\\\\\\"type\\\\\\\\\\\\\\\": 2, \\\\\\\\\\\\\\\"details\\\\\\\\\\\\\\\": {\\\\\\\\\\\\\\\"selectedColumn\\\\\\\\\\\\\\\": \\\\\\\\\\\\\\\"serum_creatinine\\\\\\\\\\\\\\\"}}, \\\\\\\\\\\\\\\"typeProperty\\\\\\\\\\\\\\\": 3}, {\\\\\\\\\\\\\\\"column\\\\\\\\\\\\\\\": {\\\\\\\\\\\\\\\"type\\\\\\\\\\\\\\\": 2, \\\\\\\\\\\\\\\"details\\\\\\\\\\\\\\\": {\\\\\\\\\\\\\\\"selectedColumn\\\\\\\\\\\\\\\": \\\\\\\\\\\\\\\"serum_sodium\\\\\\\\\\\\\\\"}}, \\\\\\\\\\\\\\\"typeProperty\\\\\\\\\\\\\\\": 2}, {\\\\\\\\\\\\\\\"column\\\\\\\\\\\\\\\": {\\\\\\\\\\\\\\\"type\\\\\\\\\\\\\\\": 2, \\\\\\\\\\\\\\\"details\\\\\\\\\\\\\\\": {\\\\\\\\\\\\\\\"selectedColumn\\\\\\\\\\\\\\\": \\\\\\\\\\\\\\\"sex\\\\\\\\\\\\\\\"}}, \\\\\\\\\\\\\\\"typeProperty\\\\\\\\\\\\\\\": 2}, {\\\\\\\\\\\\\\\"column\\\\\\\\\\\\\\\": {\\\\\\\\\\\\\\\"type\\\\\\\\\\\\\\\": 2, \\\\\\\\\\\\\\\"details\\\\\\\\\\\\\\\": {\\\\\\\\\\\\\\\"selectedColumn\\\\\\\\\\\\\\\": \\\\\\\\\\\\\\\"smoking\\\\\\\\\\\\\\\"}}, \\\\\\\\\\\\\\\"typeProperty\\\\\\\\\\\\\\\": 2}, {\\\\\\\\\\\\\\\"column\\\\\\\\\\\\\\\": {\\\\\\\\\\\\\\\"type\\\\\\\\\\\\\\\": 2, \\\\\\\\\\\\\\\"details\\\\\\\\\\\\\\\": {\\\\\\\\\\\\\\\"selectedColumn\\\\\\\\\\\\\\\": \\\\\\\\\\\\\\\"time\\\\\\\\\\\\\\\"}}, \\\\\\\\\\\\\\\"typeProperty\\\\\\\\\\\\\\\": 2}, {\\\\\\\\\\\\\\\"column\\\\\\\\\\\\\\\": {\\\\\\\\\\\\\\\"type\\\\\\\\\\\\\\\": 2, \\\\\\\\\\\\\\\"details\\\\\\\\\\\\\\\": {\\\\\\\\\\\\\\\"selectedColumn\\\\\\\\\\\\\\\": \\\\\\\\\\\\\\\"DEATH_EVENT\\\\\\\\\\\\\\\"}}, \\\\\\\\\\\\\\\"typeProperty\\\\\\\\\\\\\\\": 2}]}, \\\\\\\\\\\\\\\"localData\\\\\\\\\\\\\\\": {}, \\\\\\\\\\\\\\\"isEnabled\\\\\\\\\\\\\\\": true, \\\\\\\\\\\\\\\"name\\\\\\\\\\\\\\\": null, \\\\\\\\\\\\\\\"annotation\\\\\\\\\\\\\\\": null}], \\\\\\\\\\\\\\\"inspectors\\\\\\\\\\\\\\\": [], \\\\\\\\\\\\\\\"meta\\\\\\\\\\\\\\\": {\\\\\\\\\\\\\\\"savedDatasetId\\\\\\\\\\\\\\\": \\\\\\\\\\\\\\\"ecb3e856-5d14-464f-a1d3-d4f78b5ef872\\\\\\\\\\\\\\\", \\\\\\\\\\\\\\\"datasetType\\\\\\\\\\\\\\\": \\\\\\\\\\\\\\\"tabular\\\\\\\\\\\\\\\", \\\\\\\\\\\\\\\"subscriptionId\\\\\\\\\\\\\\\": \\\\\\\\\\\\\\\"61c5c3f0-6dc7-4ed9-a7f3-c704b20e3b30\\\\\\\\\\\\\\\", \\\\\\\\\\\\\\\"workspaceId\\\\\\\\\\\\\\\": \\\\\\\\\\\\\\\"0e88cae8-92c4-47d0-8df2-2c3cb168ff2e\\\\\\\\\\\\\\\", \\\\\\\\\\\\\\\"workspaceLocation\\\\\\\\\\\\\\\": \\\\\\\\\\\\\\\"southcentralus\\\\\\\\\\\\\\\"}}\\\\\\\", \\\\\\\"activities\\\\\\\": 0}\", \"EnableSubsampling\": null, \"runTemplate\": \"AutoML\", \"azureml.runsource\": \"automl\", \"display_task_type\": \"classification\", \"dependencies_versions\": \"{\\\"azureml-widgets\\\": \\\"1.19.0\\\", \\\"azureml-train\\\": \\\"1.19.0\\\", \\\"azureml-train-restclients-hyperdrive\\\": \\\"1.19.0\\\", \\\"azureml-train-core\\\": \\\"1.19.0\\\", \\\"azureml-train-automl\\\": \\\"1.19.0\\\", \\\"azureml-train-automl-runtime\\\": \\\"1.19.0\\\", \\\"azureml-train-automl-client\\\": \\\"1.19.0\\\", \\\"azureml-tensorboard\\\": \\\"1.19.0\\\", \\\"azureml-telemetry\\\": \\\"1.19.0\\\", \\\"azureml-sdk\\\": \\\"1.19.0\\\", \\\"azureml-samples\\\": \\\"0+unknown\\\", \\\"azureml-pipeline\\\": \\\"1.19.0\\\", \\\"azureml-pipeline-steps\\\": \\\"1.19.0\\\", \\\"azureml-pipeline-core\\\": \\\"1.19.0\\\", \\\"azureml-opendatasets\\\": \\\"1.19.0\\\", \\\"azureml-model-management-sdk\\\": \\\"1.0.1b6.post1\\\", \\\"azureml-mlflow\\\": \\\"1.19.0\\\", \\\"azureml-interpret\\\": \\\"1.19.0\\\", \\\"azureml-explain-model\\\": \\\"1.19.0\\\", \\\"azureml-defaults\\\": \\\"1.19.0\\\", \\\"azureml-dataset-runtime\\\": \\\"1.19.0\\\", \\\"azureml-dataprep\\\": \\\"2.6.1\\\", \\\"azureml-dataprep-rslex\\\": \\\"1.4.0\\\", \\\"azureml-dataprep-native\\\": \\\"26.0.0\\\", \\\"azureml-datadrift\\\": \\\"1.19.0\\\", \\\"azureml-core\\\": \\\"1.19.0\\\", \\\"azureml-contrib-services\\\": \\\"1.19.0\\\", \\\"azureml-contrib-server\\\": \\\"1.19.0\\\", \\\"azureml-contrib-reinforcementlearning\\\": \\\"1.19.0\\\", \\\"azureml-contrib-pipeline-steps\\\": \\\"1.19.0\\\", \\\"azureml-contrib-notebook\\\": \\\"1.19.0\\\", \\\"azureml-contrib-interpret\\\": \\\"1.19.0\\\", \\\"azureml-contrib-gbdt\\\": \\\"1.19.0\\\", \\\"azureml-contrib-fairness\\\": \\\"1.19.0\\\", \\\"azureml-contrib-dataset\\\": \\\"1.19.0\\\", \\\"azureml-cli-common\\\": \\\"1.19.0\\\", \\\"azureml-automl-runtime\\\": \\\"1.19.0\\\", \\\"azureml-automl-core\\\": \\\"1.19.0\\\", \\\"azureml-accel-models\\\": \\\"1.19.0\\\"}\", \"_aml_system_scenario_identification\": \"Remote.Parent\", \"ClientType\": \"SDK\", \"environment_cpu_name\": \"AzureML-AutoML\", \"environment_cpu_label\": \"prod\", \"environment_gpu_name\": \"AzureML-AutoML-GPU\", \"environment_gpu_label\": \"prod\", \"root_attribution\": \"automl\", \"attribution\": \"AutoML\", \"Orchestrator\": \"AutoML\", \"CancelUri\": \"https://southcentralus.experiments.azureml.net/jasmine/v1.0/subscriptions/61c5c3f0-6dc7-4ed9-a7f3-c704b20e3b30/resourceGroups/aml-quickstarts-132623/providers/Microsoft.MachineLearningServices/workspaces/quick-starts-ws-132623/experimentids/95e16941-b790-4fa4-b121-4bf5713ebaf8/cancel/AutoML_e500a9dd-6430-47c6-afdf-76f59ad1bbd2\", \"ClientSdkVersion\": \"1.19.0\", \"snapshotId\": \"00000000-0000-0000-0000-000000000000\", \"SetupRunId\": \"AutoML_e500a9dd-6430-47c6-afdf-76f59ad1bbd2_setup\", \"SetupRunContainerId\": \"dcid.AutoML_e500a9dd-6430-47c6-afdf-76f59ad1bbd2_setup\", \"FeaturizationRunJsonPath\": \"featurizer_container.json\", \"FeaturizationRunId\": \"AutoML_e500a9dd-6430-47c6-afdf-76f59ad1bbd2_featurize\", \"ProblemInfoJsonString\": \"{\\\"dataset_num_categorical\\\": 0, \\\"is_sparse\\\": false, \\\"subsampling\\\": false, \\\"dataset_classes\\\": 2, \\\"dataset_features\\\": 12, \\\"dataset_samples\\\": 299, \\\"single_frequency_class_detected\\\": false}\", \"ModelExplainRunId\": \"AutoML_e500a9dd-6430-47c6-afdf-76f59ad1bbd2_ModelExplain\"}, \"tags\": {\"model_explain_run\": \"best_run\", \"_aml_system_azureml.automlComponent\": \"AutoML\", \"pipeline_id\": \"\", \"score\": \"\", \"predicted_cost\": \"\", \"fit_time\": \"\", \"training_percent\": \"\", \"iteration\": \"\", \"run_preprocessor\": \"\", \"run_algorithm\": \"\", \"dynamic_whitelisting_iterations\": \"<25>;<30>;<35>;<40>;\", \"automl_best_child_run_id\": \"AutoML_e500a9dd-6430-47c6-afdf-76f59ad1bbd2_43\", \"model_explain_best_run_child_id\": \"AutoML_e500a9dd-6430-47c6-afdf-76f59ad1bbd2_43\"}, \"end_time_utc\": \"2020-12-31T11:20:29.470548Z\", \"status\": \"Completed\", \"log_files\": {}, \"log_groups\": [], \"run_duration\": \"0:22:11\"}, \"child_runs\": [{\"run_id\": \"AutoML_e500a9dd-6430-47c6-afdf-76f59ad1bbd2_0\", \"run_number\": 5, \"metric\": null, \"status\": \"Completed\", \"run_type\": \"azureml.scriptrun\", \"training_percent\": \"100\", \"start_time\": \"2020-12-31T11:05:32.33099Z\", \"end_time\": \"2020-12-31T11:06:11.506539Z\", \"created_time\": \"2020-12-31T11:05:20.879568Z\", \"created_time_dt\": \"2020-12-31T11:05:20.879568Z\", \"duration\": \"0:00:50\", \"iteration\": \"0\", \"goal\": \"AUC_weighted_max\", \"run_name\": \"MaxAbsScaler, LightGBM\", \"run_properties\": \"copy=True\", \"primary_metric\": 0.88113312, \"best_metric\": 0.88113312}, {\"run_id\": \"AutoML_e500a9dd-6430-47c6-afdf-76f59ad1bbd2_1\", \"run_number\": 6, \"metric\": null, \"status\": \"Completed\", \"run_type\": \"azureml.scriptrun\", \"training_percent\": \"100\", \"start_time\": \"2020-12-31T11:06:14.4798Z\", \"end_time\": \"2020-12-31T11:07:06.061083Z\", \"created_time\": \"2020-12-31T11:05:20.888822Z\", \"created_time_dt\": \"2020-12-31T11:05:20.888822Z\", \"duration\": \"0:01:45\", \"iteration\": \"1\", \"goal\": \"AUC_weighted_max\", \"run_name\": \"MaxAbsScaler, XGBoostClassifier\", \"run_properties\": \"copy=True\", \"primary_metric\": 0.89295912, \"best_metric\": 0.89295912}, {\"run_id\": \"AutoML_e500a9dd-6430-47c6-afdf-76f59ad1bbd2_2\", \"run_number\": 7, \"metric\": null, \"status\": \"Completed\", \"run_type\": \"azureml.scriptrun\", \"training_percent\": \"100\", \"start_time\": \"2020-12-31T11:08:11.980185Z\", \"end_time\": \"2020-12-31T11:11:56.235411Z\", \"created_time\": \"2020-12-31T11:05:21.044297Z\", \"created_time_dt\": \"2020-12-31T11:05:21.044297Z\", \"duration\": \"0:06:35\", \"iteration\": \"2\", \"goal\": \"AUC_weighted_max\", \"run_name\": \"MinMaxScaler, RandomForest\", \"run_properties\": \"copy=True, feature_range=(0, 1\", \"primary_metric\": 0.88664438, \"best_metric\": 0.89295912}, {\"run_id\": \"AutoML_e500a9dd-6430-47c6-afdf-76f59ad1bbd2_4\", \"run_number\": 8, \"metric\": null, \"status\": \"Completed\", \"run_type\": \"azureml.scriptrun\", \"training_percent\": \"100\", \"start_time\": \"2020-12-31T11:08:02.415749Z\", \"end_time\": \"2020-12-31T11:08:45.85092Z\", \"created_time\": \"2020-12-31T11:05:21.10505Z\", \"created_time_dt\": \"2020-12-31T11:05:21.10505Z\", \"duration\": \"0:03:24\", \"iteration\": \"4\", \"goal\": \"AUC_weighted_max\", \"run_name\": \"MinMaxScaler, RandomForest\", \"run_properties\": \"copy=True, feature_range=(0, 1\", \"primary_metric\": 0.89405932, \"best_metric\": 0.89405932}, {\"run_id\": \"AutoML_e500a9dd-6430-47c6-afdf-76f59ad1bbd2_3\", \"run_number\": 9, \"metric\": null, \"status\": \"Completed\", \"run_type\": \"azureml.scriptrun\", \"training_percent\": \"100\", \"start_time\": \"2020-12-31T11:07:07.076669Z\", \"end_time\": \"2020-12-31T11:07:58.865808Z\", \"created_time\": \"2020-12-31T11:05:21.08893Z\", \"created_time_dt\": \"2020-12-31T11:05:21.08893Z\", \"duration\": \"0:02:37\", \"iteration\": \"3\", \"goal\": \"AUC_weighted_max\", \"run_name\": \"RobustScaler, ExtremeRandomTrees\", \"run_properties\": \"copy=True, quantile_range=[10, 90], with_centering=False,\\n             with_scaling=False\", \"primary_metric\": 0.87490042, \"best_metric\": 0.89295912}, {\"run_id\": \"AutoML_e500a9dd-6430-47c6-afdf-76f59ad1bbd2_5\", \"run_number\": 10, \"metric\": null, \"status\": \"Completed\", \"run_type\": \"azureml.scriptrun\", \"training_percent\": \"100\", \"start_time\": \"2020-12-31T11:08:11.984651Z\", \"end_time\": \"2020-12-31T11:11:38.429226Z\", \"created_time\": \"2020-12-31T11:06:13.374822Z\", \"created_time_dt\": \"2020-12-31T11:06:13.374822Z\", \"duration\": \"0:05:25\", \"iteration\": \"5\", \"goal\": \"AUC_weighted_max\", \"run_name\": \"MinMaxScaler, RandomForest\", \"run_properties\": \"copy=True, feature_range=(0, 1\", \"primary_metric\": 0.90255726, \"best_metric\": 0.90255726}, {\"run_id\": \"AutoML_e500a9dd-6430-47c6-afdf-76f59ad1bbd2_6\", \"run_number\": 11, \"metric\": null, \"status\": \"Completed\", \"run_type\": \"azureml.scriptrun\", \"training_percent\": \"100\", \"start_time\": \"2020-12-31T11:08:12.787289Z\", \"end_time\": \"2020-12-31T11:11:25.079091Z\", \"created_time\": \"2020-12-31T11:07:07.97206Z\", \"created_time_dt\": \"2020-12-31T11:07:07.97206Z\", \"duration\": \"0:04:17\", \"iteration\": \"6\", \"goal\": \"AUC_weighted_max\", \"run_name\": \"StandardScalerWrapper, RandomForest\", \"run_properties\": \"<azureml.automl.runtime.shared.model_wrappers.StandardScalerWrapper object at 0x7f95983aebe0\", \"primary_metric\": 0.88693344, \"best_metric\": 0.90255726}, {\"run_id\": \"AutoML_e500a9dd-6430-47c6-afdf-76f59ad1bbd2_7\", \"run_number\": 12, \"metric\": null, \"status\": \"Completed\", \"run_type\": \"azureml.scriptrun\", \"training_percent\": \"100\", \"start_time\": \"2020-12-31T11:09:03.381272Z\", \"end_time\": \"2020-12-31T11:09:53.005538Z\", \"created_time\": \"2020-12-31T11:08:02.588197Z\", \"created_time_dt\": \"2020-12-31T11:08:02.588197Z\", \"duration\": \"0:01:50\", \"iteration\": \"7\", \"goal\": \"AUC_weighted_max\", \"run_name\": \"MinMaxScaler, ExtremeRandomTrees\", \"run_properties\": \"copy=True, feature_range=(0, 1\", \"primary_metric\": 0.89391261, \"best_metric\": 0.90255726}, {\"run_id\": \"AutoML_e500a9dd-6430-47c6-afdf-76f59ad1bbd2_8\", \"run_number\": 13, \"metric\": null, \"status\": \"Completed\", \"run_type\": \"azureml.scriptrun\", \"training_percent\": \"100\", \"start_time\": \"2020-12-31T11:09:52.943321Z\", \"end_time\": \"2020-12-31T11:10:42.796726Z\", \"created_time\": \"2020-12-31T11:08:49.19779Z\", \"created_time_dt\": \"2020-12-31T11:08:49.19779Z\", \"duration\": \"0:01:53\", \"iteration\": \"8\", \"goal\": \"AUC_weighted_max\", \"run_name\": \"MinMaxScaler, ExtremeRandomTrees\", \"run_properties\": \"copy=True, feature_range=(0, 1\", \"primary_metric\": 0.85688843, \"best_metric\": 0.90255726}, {\"run_id\": \"AutoML_e500a9dd-6430-47c6-afdf-76f59ad1bbd2_9\", \"run_number\": 14, \"metric\": null, \"status\": \"Completed\", \"run_type\": \"azureml.scriptrun\", \"training_percent\": \"100\", \"start_time\": \"2020-12-31T11:10:47.070306Z\", \"end_time\": \"2020-12-31T11:11:35.061996Z\", \"created_time\": \"2020-12-31T11:09:56.058968Z\", \"created_time_dt\": \"2020-12-31T11:09:56.058968Z\", \"duration\": \"0:01:39\", \"iteration\": \"9\", \"goal\": \"AUC_weighted_max\", \"run_name\": \"SparseNormalizer, KNN\", \"run_properties\": \"<azureml.automl.runtime.shared.model_wrappers.SparseNormalizer object at 0x7ff18c915438\", \"primary_metric\": 0.75147268, \"best_metric\": 0.90255726}, {\"run_id\": \"AutoML_e500a9dd-6430-47c6-afdf-76f59ad1bbd2_10\", \"run_number\": 15, \"metric\": null, \"status\": \"Completed\", \"run_type\": \"azureml.scriptrun\", \"training_percent\": \"100\", \"start_time\": \"2020-12-31T11:11:27.976691Z\", \"end_time\": \"2020-12-31T11:12:20.256743Z\", \"created_time\": \"2020-12-31T11:10:45.619015Z\", \"created_time_dt\": \"2020-12-31T11:10:45.619015Z\", \"duration\": \"0:01:34\", \"iteration\": \"10\", \"goal\": \"AUC_weighted_max\", \"run_name\": \"MinMaxScaler, ExtremeRandomTrees\", \"run_properties\": \"copy=True, feature_range=(0, 1\", \"primary_metric\": 0.87817954, \"best_metric\": 0.90255726}, {\"run_id\": \"AutoML_e500a9dd-6430-47c6-afdf-76f59ad1bbd2_11\", \"run_number\": 16, \"metric\": null, \"status\": \"Completed\", \"run_type\": \"azureml.scriptrun\", \"training_percent\": \"100\", \"start_time\": \"2020-12-31T11:11:40.058978Z\", \"end_time\": \"2020-12-31T11:12:19.944781Z\", \"created_time\": \"2020-12-31T11:11:28.192687Z\", \"created_time_dt\": \"2020-12-31T11:11:28.192687Z\", \"duration\": \"0:00:51\", \"iteration\": \"11\", \"goal\": \"AUC_weighted_max\", \"run_name\": \"RobustScaler, ExtremeRandomTrees\", \"run_properties\": \"copy=True, quantile_range=[10, 90], with_centering=True,\\n             with_scaling=False\", \"primary_metric\": 0.88003569, \"best_metric\": 0.90255726}, {\"run_id\": \"AutoML_e500a9dd-6430-47c6-afdf-76f59ad1bbd2_12\", \"run_number\": 17, \"metric\": null, \"status\": \"Completed\", \"run_type\": \"azureml.scriptrun\", \"training_percent\": \"100\", \"start_time\": \"2020-12-31T11:11:50.591564Z\", \"end_time\": \"2020-12-31T11:12:36.518313Z\", \"created_time\": \"2020-12-31T11:11:38.884915Z\", \"created_time_dt\": \"2020-12-31T11:11:38.884915Z\", \"duration\": \"0:00:57\", \"iteration\": \"12\", \"goal\": \"AUC_weighted_max\", \"run_name\": \"StandardScalerWrapper, RandomForest\", \"run_properties\": \"<azureml.automl.runtime.shared.model_wrappers.StandardScalerWrapper object at 0x7fc4e15bcc88\", \"primary_metric\": 0.90631857, \"best_metric\": 0.90631857}, {\"run_id\": \"AutoML_e500a9dd-6430-47c6-afdf-76f59ad1bbd2_13\", \"run_number\": 18, \"metric\": null, \"status\": \"Completed\", \"run_type\": \"azureml.scriptrun\", \"training_percent\": \"100\", \"start_time\": \"2020-12-31T11:11:59.363384Z\", \"end_time\": \"2020-12-31T11:12:43.753169Z\", \"created_time\": \"2020-12-31T11:11:44.257429Z\", \"created_time_dt\": \"2020-12-31T11:11:44.257429Z\", \"duration\": \"0:00:59\", \"iteration\": \"13\", \"goal\": \"AUC_weighted_max\", \"run_name\": \"StandardScalerWrapper, SGD\", \"run_properties\": \"<azureml.automl.runtime.shared.model_wrappers.StandardScalerWrapper object at 0x7f5bac1c7080\", \"primary_metric\": 0.87124746, \"best_metric\": 0.90631857}, {\"run_id\": \"AutoML_e500a9dd-6430-47c6-afdf-76f59ad1bbd2_14\", \"run_number\": 19, \"metric\": null, \"status\": \"Completed\", \"run_type\": \"azureml.scriptrun\", \"training_percent\": \"100\", \"start_time\": \"2020-12-31T11:12:22.530987Z\", \"end_time\": \"2020-12-31T11:13:09.193576Z\", \"created_time\": \"2020-12-31T11:11:59.490778Z\", \"created_time_dt\": \"2020-12-31T11:11:59.490778Z\", \"duration\": \"0:01:09\", \"iteration\": \"14\", \"goal\": \"AUC_weighted_max\", \"run_name\": \"RobustScaler, RandomForest\", \"run_properties\": \"copy=True, quantile_range=[10, 90], with_centering=True,\\n             with_scaling=False\", \"primary_metric\": 0.87537378, \"best_metric\": 0.90631857}, {\"run_id\": \"AutoML_e500a9dd-6430-47c6-afdf-76f59ad1bbd2_15\", \"run_number\": 20, \"metric\": null, \"status\": \"Completed\", \"run_type\": \"azureml.scriptrun\", \"training_percent\": \"100\", \"start_time\": \"2020-12-31T11:12:36.193755Z\", \"end_time\": \"2020-12-31T11:13:17.139848Z\", \"created_time\": \"2020-12-31T11:12:22.855189Z\", \"created_time_dt\": \"2020-12-31T11:12:22.855189Z\", \"duration\": \"0:00:54\", \"iteration\": \"15\", \"goal\": \"AUC_weighted_max\", \"run_name\": \"StandardScalerWrapper, KNN\", \"run_properties\": \"<azureml.automl.runtime.shared.model_wrappers.StandardScalerWrapper object at 0x7f9ce011f0b8\", \"primary_metric\": 0.48227656, \"best_metric\": 0.90631857}, {\"run_id\": \"AutoML_e500a9dd-6430-47c6-afdf-76f59ad1bbd2_16\", \"run_number\": 21, \"metric\": null, \"status\": \"Completed\", \"run_type\": \"azureml.scriptrun\", \"training_percent\": \"100\", \"start_time\": \"2020-12-31T11:12:41.334645Z\", \"end_time\": \"2020-12-31T11:13:27.25703Z\", \"created_time\": \"2020-12-31T11:12:29.27579Z\", \"created_time_dt\": \"2020-12-31T11:12:29.27579Z\", \"duration\": \"0:00:57\", \"iteration\": \"16\", \"goal\": \"AUC_weighted_max\", \"run_name\": \"MinMaxScaler, RandomForest\", \"run_properties\": \"copy=True, feature_range=(0, 1\", \"primary_metric\": 0.90197428, \"best_metric\": 0.90631857}, {\"run_id\": \"AutoML_e500a9dd-6430-47c6-afdf-76f59ad1bbd2_17\", \"run_number\": 22, \"metric\": null, \"status\": \"Completed\", \"run_type\": \"azureml.scriptrun\", \"training_percent\": \"100\", \"start_time\": \"2020-12-31T11:12:51.633116Z\", \"end_time\": \"2020-12-31T11:13:28.26211Z\", \"created_time\": \"2020-12-31T11:12:39.374207Z\", \"created_time_dt\": \"2020-12-31T11:12:39.374207Z\", \"duration\": \"0:00:48\", \"iteration\": \"17\", \"goal\": \"AUC_weighted_max\", \"run_name\": \"MinMaxScaler, ExtremeRandomTrees\", \"run_properties\": \"copy=True, feature_range=(0, 1\", \"primary_metric\": 0.81374472, \"best_metric\": 0.90631857}, {\"run_id\": \"AutoML_e500a9dd-6430-47c6-afdf-76f59ad1bbd2_18\", \"run_number\": 23, \"metric\": null, \"status\": \"Completed\", \"run_type\": \"azureml.scriptrun\", \"training_percent\": \"100\", \"start_time\": \"2020-12-31T11:13:13.732718Z\", \"end_time\": \"2020-12-31T11:14:01.123166Z\", \"created_time\": \"2020-12-31T11:12:47.93137Z\", \"created_time_dt\": \"2020-12-31T11:12:47.93137Z\", \"duration\": \"0:01:13\", \"iteration\": \"18\", \"goal\": \"AUC_weighted_max\", \"run_name\": \"MaxAbsScaler, RandomForest\", \"run_properties\": \"copy=True\", \"primary_metric\": 0.89539489, \"best_metric\": 0.90631857}, {\"run_id\": \"AutoML_e500a9dd-6430-47c6-afdf-76f59ad1bbd2_19\", \"run_number\": 24, \"metric\": null, \"status\": \"Completed\", \"run_type\": \"azureml.scriptrun\", \"training_percent\": \"100\", \"start_time\": \"2020-12-31T11:13:25.043635Z\", \"end_time\": \"2020-12-31T11:14:07.5451Z\", \"created_time\": \"2020-12-31T11:13:12.136338Z\", \"created_time_dt\": \"2020-12-31T11:13:12.136338Z\", \"duration\": \"0:00:55\", \"iteration\": \"19\", \"goal\": \"AUC_weighted_max\", \"run_name\": \"StandardScalerWrapper, XGBoostClassifier\", \"run_properties\": \"<azureml.automl.runtime.shared.model_wrappers.StandardScalerWrapper object at 0x7ff23c943710\", \"primary_metric\": 0.90716837, \"best_metric\": 0.90716837}, {\"run_id\": \"AutoML_e500a9dd-6430-47c6-afdf-76f59ad1bbd2_20\", \"run_number\": 25, \"metric\": null, \"status\": \"Completed\", \"run_type\": \"azureml.scriptrun\", \"training_percent\": \"100\", \"start_time\": \"2020-12-31T11:13:31.713924Z\", \"end_time\": \"2020-12-31T11:14:14.434622Z\", \"created_time\": \"2020-12-31T11:13:20.012902Z\", \"created_time_dt\": \"2020-12-31T11:13:20.012902Z\", \"duration\": \"0:00:54\", \"iteration\": \"20\", \"goal\": \"AUC_weighted_max\", \"run_name\": \"MaxAbsScaler, RandomForest\", \"run_properties\": \"copy=True\", \"primary_metric\": 0.88493984, \"best_metric\": 0.90716837}, {\"run_id\": \"AutoML_e500a9dd-6430-47c6-afdf-76f59ad1bbd2_21\", \"run_number\": 26, \"metric\": null, \"status\": \"Completed\", \"run_type\": \"azureml.scriptrun\", \"training_percent\": \"100\", \"start_time\": \"2020-12-31T11:13:43.293685Z\", \"end_time\": \"2020-12-31T11:14:23.784946Z\", \"created_time\": \"2020-12-31T11:13:31.186588Z\", \"created_time_dt\": \"2020-12-31T11:13:31.186588Z\", \"duration\": \"0:00:52\", \"iteration\": \"21\", \"goal\": \"AUC_weighted_max\", \"run_name\": \"MaxAbsScaler, ExtremeRandomTrees\", \"run_properties\": \"copy=True\", \"primary_metric\": 0.85563427, \"best_metric\": 0.90716837}, {\"run_id\": \"AutoML_e500a9dd-6430-47c6-afdf-76f59ad1bbd2_22\", \"run_number\": 27, \"metric\": null, \"status\": \"Completed\", \"run_type\": \"azureml.scriptrun\", \"training_percent\": \"100\", \"start_time\": \"2020-12-31T11:14:05.121235Z\", \"end_time\": \"2020-12-31T11:14:55.711171Z\", \"created_time\": \"2020-12-31T11:13:35.779665Z\", \"created_time_dt\": \"2020-12-31T11:13:35.779665Z\", \"duration\": \"0:01:19\", \"iteration\": \"22\", \"goal\": \"AUC_weighted_max\", \"run_name\": \"MaxAbsScaler, ExtremeRandomTrees\", \"run_properties\": \"copy=True\", \"primary_metric\": 0.87548853, \"best_metric\": 0.90716837}, {\"run_id\": \"AutoML_e500a9dd-6430-47c6-afdf-76f59ad1bbd2_23\", \"run_number\": 28, \"metric\": null, \"status\": \"Completed\", \"run_type\": \"azureml.scriptrun\", \"training_percent\": \"100\", \"start_time\": \"2020-12-31T11:14:18.281702Z\", \"end_time\": \"2020-12-31T11:14:58.160112Z\", \"created_time\": \"2020-12-31T11:14:04.787246Z\", \"created_time_dt\": \"2020-12-31T11:14:04.787246Z\", \"duration\": \"0:00:53\", \"iteration\": \"23\", \"goal\": \"AUC_weighted_max\", \"run_name\": \"MinMaxScaler, RandomForest\", \"run_properties\": \"copy=True, feature_range=(0, 1\", \"primary_metric\": 0.90637315, \"best_metric\": 0.90716837}, {\"run_id\": \"AutoML_e500a9dd-6430-47c6-afdf-76f59ad1bbd2_24\", \"run_number\": 29, \"metric\": null, \"status\": \"Completed\", \"run_type\": \"azureml.scriptrun\", \"training_percent\": \"100\", \"start_time\": \"2020-12-31T11:14:20.211557Z\", \"end_time\": \"2020-12-31T11:15:02.5141Z\", \"created_time\": \"2020-12-31T11:14:09.856093Z\", \"created_time_dt\": \"2020-12-31T11:14:09.856093Z\", \"duration\": \"0:00:52\", \"iteration\": \"24\", \"goal\": \"AUC_weighted_max\", \"run_name\": \"MinMaxScaler, ExtremeRandomTrees\", \"run_properties\": \"copy=True, feature_range=(0, 1\", \"primary_metric\": 0.91227907, \"best_metric\": 0.91227907}, {\"run_id\": \"AutoML_e500a9dd-6430-47c6-afdf-76f59ad1bbd2_25\", \"run_number\": 30, \"metric\": null, \"status\": \"Completed\", \"run_type\": \"azureml.scriptrun\", \"training_percent\": \"100\", \"start_time\": \"2020-12-31T11:14:27.637008Z\", \"end_time\": \"2020-12-31T11:15:09.425841Z\", \"created_time\": \"2020-12-31T11:14:17.576703Z\", \"created_time_dt\": \"2020-12-31T11:14:17.576703Z\", \"duration\": \"0:00:51\", \"iteration\": \"25\", \"goal\": \"AUC_weighted_max\", \"run_name\": \"PCA, XGBoostClassifier\", \"run_properties\": \"copy=True, iterated_power='auto', n_components=0.01, random_state=None,\\n    svd_solver='auto', tol=0.0, whiten=False\", \"primary_metric\": 0.45647436, \"best_metric\": 0.91227907}, {\"run_id\": \"AutoML_e500a9dd-6430-47c6-afdf-76f59ad1bbd2_26\", \"run_number\": 31, \"metric\": null, \"status\": \"Completed\", \"run_type\": \"azureml.scriptrun\", \"training_percent\": \"100\", \"start_time\": \"2020-12-31T11:14:57.508702Z\", \"end_time\": \"2020-12-31T11:15:45.612181Z\", \"created_time\": \"2020-12-31T11:14:25.794798Z\", \"created_time_dt\": \"2020-12-31T11:14:25.794798Z\", \"duration\": \"0:01:19\", \"iteration\": \"26\", \"goal\": \"AUC_weighted_max\", \"run_name\": \"MaxAbsScaler, ExtremeRandomTrees\", \"run_properties\": \"copy=True\", \"primary_metric\": 0.89436706, \"best_metric\": 0.91227907}, {\"run_id\": \"AutoML_e500a9dd-6430-47c6-afdf-76f59ad1bbd2_27\", \"run_number\": 32, \"metric\": null, \"status\": \"Completed\", \"run_type\": \"azureml.scriptrun\", \"training_percent\": \"100\", \"start_time\": \"2020-12-31T11:15:09.106168Z\", \"end_time\": \"2020-12-31T11:15:45.474783Z\", \"created_time\": \"2020-12-31T11:14:58.826569Z\", \"created_time_dt\": \"2020-12-31T11:14:58.826569Z\", \"duration\": \"0:00:46\", \"iteration\": \"27\", \"goal\": \"AUC_weighted_max\", \"run_name\": \"StandardScalerWrapper, LightGBM\", \"run_properties\": \"<azureml.automl.runtime.shared.model_wrappers.StandardScalerWrapper object at 0x7f95a0084828\", \"primary_metric\": 0.83613861, \"best_metric\": 0.91227907}, {\"run_id\": \"AutoML_e500a9dd-6430-47c6-afdf-76f59ad1bbd2_28\", \"run_number\": 33, \"metric\": null, \"status\": \"Completed\", \"run_type\": \"azureml.scriptrun\", \"training_percent\": \"100\", \"start_time\": \"2020-12-31T11:15:14.442892Z\", \"end_time\": \"2020-12-31T11:15:51.776995Z\", \"created_time\": \"2020-12-31T11:15:02.070069Z\", \"created_time_dt\": \"2020-12-31T11:15:02.070069Z\", \"duration\": \"0:00:49\", \"iteration\": \"28\", \"goal\": \"AUC_weighted_max\", \"run_name\": \"StandardScalerWrapper, LightGBM\", \"run_properties\": \"<azureml.automl.runtime.shared.model_wrappers.StandardScalerWrapper object at 0x7fb0e802f518\", \"primary_metric\": 0.87718381, \"best_metric\": 0.91227907}, {\"run_id\": \"AutoML_e500a9dd-6430-47c6-afdf-76f59ad1bbd2_29\", \"run_number\": 34, \"metric\": null, \"status\": \"Completed\", \"run_type\": \"azureml.scriptrun\", \"training_percent\": \"100\", \"start_time\": \"2020-12-31T11:15:15.468468Z\", \"end_time\": \"2020-12-31T11:16:03.109596Z\", \"created_time\": \"2020-12-31T11:15:05.371415Z\", \"created_time_dt\": \"2020-12-31T11:15:05.371415Z\", \"duration\": \"0:00:57\", \"iteration\": \"29\", \"goal\": \"AUC_weighted_max\", \"run_name\": \"RobustScaler, LightGBM\", \"run_properties\": \"copy=True, quantile_range=[10, 90], with_centering=True,\\n             with_scaling=True\", \"primary_metric\": 0.89164569, \"best_metric\": 0.91227907}, {\"run_id\": \"AutoML_e500a9dd-6430-47c6-afdf-76f59ad1bbd2_30\", \"run_number\": 35, \"metric\": null, \"status\": \"Completed\", \"run_type\": \"azureml.scriptrun\", \"training_percent\": \"100\", \"start_time\": \"2020-12-31T11:15:47.553769Z\", \"end_time\": \"2020-12-31T11:16:37.154922Z\", \"created_time\": \"2020-12-31T11:15:11.927936Z\", \"created_time_dt\": \"2020-12-31T11:15:11.927936Z\", \"duration\": \"0:01:25\", \"iteration\": \"30\", \"goal\": \"AUC_weighted_max\", \"run_name\": \"StandardScalerWrapper, ExtremeRandomTrees\", \"run_properties\": \"<azureml.automl.runtime.shared.model_wrappers.StandardScalerWrapper object at 0x7fde34818470\", \"primary_metric\": 0.90676991, \"best_metric\": 0.91227907}, {\"run_id\": \"AutoML_e500a9dd-6430-47c6-afdf-76f59ad1bbd2_31\", \"run_number\": 36, \"metric\": null, \"status\": \"Completed\", \"run_type\": \"azureml.scriptrun\", \"training_percent\": \"100\", \"start_time\": \"2020-12-31T11:15:57.339865Z\", \"end_time\": \"2020-12-31T11:16:39.158894Z\", \"created_time\": \"2020-12-31T11:15:47.264542Z\", \"created_time_dt\": \"2020-12-31T11:15:47.264542Z\", \"duration\": \"0:00:51\", \"iteration\": \"31\", \"goal\": \"AUC_weighted_max\", \"run_name\": \"StandardScalerWrapper, XGBoostClassifier\", \"run_properties\": \"<azureml.automl.runtime.shared.model_wrappers.StandardScalerWrapper object at 0x7fc3243eb668\", \"primary_metric\": 0.90339971, \"best_metric\": 0.91227907}, {\"run_id\": \"AutoML_e500a9dd-6430-47c6-afdf-76f59ad1bbd2_32\", \"run_number\": 37, \"metric\": null, \"status\": \"Completed\", \"run_type\": \"azureml.scriptrun\", \"training_percent\": \"100\", \"start_time\": \"2020-12-31T11:15:58.592226Z\", \"end_time\": \"2020-12-31T11:16:45.514905Z\", \"created_time\": \"2020-12-31T11:15:47.291237Z\", \"created_time_dt\": \"2020-12-31T11:15:47.291237Z\", \"duration\": \"0:00:58\", \"iteration\": \"32\", \"goal\": \"AUC_weighted_max\", \"run_name\": \"StandardScalerWrapper, XGBoostClassifier\", \"run_properties\": \"<azureml.automl.runtime.shared.model_wrappers.StandardScalerWrapper object at 0x7fcfc0cd1be0\", \"primary_metric\": 0.90162032, \"best_metric\": 0.91227907}, {\"run_id\": \"AutoML_e500a9dd-6430-47c6-afdf-76f59ad1bbd2_33\", \"run_number\": 38, \"metric\": null, \"status\": \"Completed\", \"run_type\": \"azureml.scriptrun\", \"training_percent\": \"100\", \"start_time\": \"2020-12-31T11:16:05.801478Z\", \"end_time\": \"2020-12-31T11:16:54.299224Z\", \"created_time\": \"2020-12-31T11:15:53.625921Z\", \"created_time_dt\": \"2020-12-31T11:15:53.625921Z\", \"duration\": \"0:01:00\", \"iteration\": \"33\", \"goal\": \"AUC_weighted_max\", \"run_name\": \"StandardScalerWrapper, XGBoostClassifier\", \"run_properties\": \"<azureml.automl.runtime.shared.model_wrappers.StandardScalerWrapper object at 0x7f09c41ec470\", \"primary_metric\": 0.911018, \"best_metric\": 0.91227907}, {\"run_id\": \"AutoML_e500a9dd-6430-47c6-afdf-76f59ad1bbd2_34\", \"run_number\": 39, \"metric\": null, \"status\": \"Completed\", \"run_type\": \"azureml.scriptrun\", \"training_percent\": \"100\", \"start_time\": \"2020-12-31T11:16:38.672883Z\", \"end_time\": \"2020-12-31T11:17:24.266618Z\", \"created_time\": \"2020-12-31T11:16:04.802579Z\", \"created_time_dt\": \"2020-12-31T11:16:04.802579Z\", \"duration\": \"0:01:19\", \"iteration\": \"34\", \"goal\": \"AUC_weighted_max\", \"run_name\": \"StandardScalerWrapper, XGBoostClassifier\", \"run_properties\": \"<azureml.automl.runtime.shared.model_wrappers.StandardScalerWrapper object at 0x7f6f8643f780\", \"primary_metric\": 0.90391288, \"best_metric\": 0.91227907}, {\"run_id\": \"AutoML_e500a9dd-6430-47c6-afdf-76f59ad1bbd2_35\", \"run_number\": 40, \"metric\": null, \"status\": \"Completed\", \"run_type\": \"azureml.scriptrun\", \"training_percent\": \"100\", \"start_time\": \"2020-12-31T11:16:51.340947Z\", \"end_time\": \"2020-12-31T11:17:32.340913Z\", \"created_time\": \"2020-12-31T11:16:39.823756Z\", \"created_time_dt\": \"2020-12-31T11:16:39.823756Z\", \"duration\": \"0:00:52\", \"iteration\": \"35\", \"goal\": \"AUC_weighted_max\", \"run_name\": \"StandardScalerWrapper, ExtremeRandomTrees\", \"run_properties\": \"<azureml.automl.runtime.shared.model_wrappers.StandardScalerWrapper object at 0x7f930c546a90\", \"primary_metric\": 0.73023798, \"best_metric\": 0.91227907}, {\"run_id\": \"AutoML_e500a9dd-6430-47c6-afdf-76f59ad1bbd2_36\", \"run_number\": 41, \"metric\": null, \"status\": \"Completed\", \"run_type\": \"azureml.scriptrun\", \"training_percent\": \"100\", \"start_time\": \"2020-12-31T11:16:53.936299Z\", \"end_time\": \"2020-12-31T11:17:33.035728Z\", \"created_time\": \"2020-12-31T11:16:43.372731Z\", \"created_time_dt\": \"2020-12-31T11:16:43.372731Z\", \"duration\": \"0:00:49\", \"iteration\": \"36\", \"goal\": \"AUC_weighted_max\", \"run_name\": \"StandardScalerWrapper, LightGBM\", \"run_properties\": \"<azureml.automl.runtime.shared.model_wrappers.StandardScalerWrapper object at 0x7fdb85ac9860\", \"primary_metric\": 0.89854363, \"best_metric\": 0.91227907}, {\"run_id\": \"AutoML_e500a9dd-6430-47c6-afdf-76f59ad1bbd2_37\", \"run_number\": 42, \"metric\": null, \"status\": \"Completed\", \"run_type\": \"azureml.scriptrun\", \"training_percent\": \"100\", \"start_time\": \"2020-12-31T11:17:01.106359Z\", \"end_time\": \"2020-12-31T11:17:44.834071Z\", \"created_time\": \"2020-12-31T11:16:49.011258Z\", \"created_time_dt\": \"2020-12-31T11:16:49.011258Z\", \"duration\": \"0:00:55\", \"iteration\": \"37\", \"goal\": \"AUC_weighted_max\", \"run_name\": \"StandardScalerWrapper, XGBoostClassifier\", \"run_properties\": \"<azureml.automl.runtime.shared.model_wrappers.StandardScalerWrapper object at 0x7f7ca4e49240\", \"primary_metric\": 0.9018224, \"best_metric\": 0.91227907}, {\"run_id\": \"AutoML_e500a9dd-6430-47c6-afdf-76f59ad1bbd2_38\", \"run_number\": 43, \"metric\": null, \"status\": \"Completed\", \"run_type\": \"azureml.scriptrun\", \"training_percent\": \"100\", \"start_time\": \"2020-12-31T11:17:24.720145Z\", \"end_time\": \"2020-12-31T11:18:10.5308Z\", \"created_time\": \"2020-12-31T11:16:56.009108Z\", \"created_time_dt\": \"2020-12-31T11:16:56.009108Z\", \"duration\": \"0:01:14\", \"iteration\": \"38\", \"goal\": \"AUC_weighted_max\", \"run_name\": \"RobustScaler, GradientBoosting\", \"run_properties\": \"copy=True, quantile_range=[10, 90], with_centering=True,\\n             with_scaling=False\", \"primary_metric\": 0.89792377, \"best_metric\": 0.91227907}, {\"run_id\": \"AutoML_e500a9dd-6430-47c6-afdf-76f59ad1bbd2_39\", \"run_number\": 44, \"metric\": null, \"status\": \"Canceled\", \"run_type\": \"azureml.scriptrun\", \"training_percent\": \"100\", \"start_time\": \"2020-12-31T11:17:37.801613Z\", \"end_time\": \"2020-12-31T11:18:20.545039Z\", \"created_time\": \"2020-12-31T11:17:26.210232Z\", \"created_time_dt\": \"2020-12-31T11:17:26.210232Z\", \"duration\": \"0:00:54\", \"iteration\": \"39\", \"goal\": \"AUC_weighted_max\", \"run_name\": \"StandardScalerWrapper, LightGBM\", \"run_properties\": \"<azureml.automl.runtime.shared.model_wrappers.StandardScalerWrapper object at 0x7f699467a080\", \"primary_metric\": 0.90150009, \"best_metric\": 0.91227907}, {\"run_id\": \"AutoML_e500a9dd-6430-47c6-afdf-76f59ad1bbd2_40\", \"run_number\": 45, \"metric\": null, \"status\": \"Canceled\", \"run_type\": \"azureml.scriptrun\", \"training_percent\": \"100\", \"start_time\": \"2020-12-31T11:17:46.821133Z\", \"end_time\": \"2020-12-31T11:18:19.103947Z\", \"created_time\": \"2020-12-31T11:17:35.126572Z\", \"created_time_dt\": \"2020-12-31T11:17:35.126572Z\", \"duration\": \"0:00:43\", \"iteration\": \"40\", \"goal\": \"AUC_weighted_max\", \"run_name\": \"StandardScalerWrapper, ExtremeRandomTrees\", \"run_properties\": \"<azureml.automl.runtime.shared.model_wrappers.StandardScalerWrapper object at 0x7fdbe0ee9550\", \"primary_metric\": 0.87342539, \"best_metric\": 0.91227907}, {\"run_id\": \"AutoML_e500a9dd-6430-47c6-afdf-76f59ad1bbd2_41\", \"run_number\": 46, \"metric\": null, \"status\": \"Canceled\", \"run_type\": \"azureml.scriptrun\", \"training_percent\": \"100\", \"start_time\": \"2020-12-31T11:17:50.055299Z\", \"end_time\": \"2020-12-31T11:18:19.204156Z\", \"created_time\": \"2020-12-31T11:17:38.27249Z\", \"created_time_dt\": \"2020-12-31T11:17:38.27249Z\", \"duration\": \"0:00:40\", \"iteration\": \"41\", \"goal\": \"AUC_weighted_max\", \"run_name\": \"StandardScalerWrapper, XGBoostClassifier\", \"run_properties\": \"<azureml.automl.runtime.shared.model_wrappers.StandardScalerWrapper object at 0x7fc776143630\", \"primary_metric\": 0.90911104, \"best_metric\": 0.91227907}, {\"run_id\": \"AutoML_e500a9dd-6430-47c6-afdf-76f59ad1bbd2_42\", \"run_number\": 47, \"metric\": null, \"status\": \"Canceled\", \"run_type\": \"azureml.scriptrun\", \"training_percent\": \"100\", \"start_time\": \"2020-12-31T11:17:46.524278Z\", \"end_time\": \"2020-12-31T11:18:18.51691Z\", \"created_time\": \"2020-12-31T11:17:46.524278Z\", \"created_time_dt\": \"2020-12-31T11:17:46.524278Z\", \"duration\": \"0:00:31\", \"iteration\": \"42\", \"goal\": null, \"run_name\": \"Canceled\", \"run_properties\": null}, {\"run_id\": \"AutoML_e500a9dd-6430-47c6-afdf-76f59ad1bbd2_43\", \"run_number\": 48, \"metric\": null, \"status\": \"Completed\", \"run_type\": \"azureml.scriptrun\", \"training_percent\": \"100\", \"start_time\": \"2020-12-31T11:18:32.449502Z\", \"end_time\": \"2020-12-31T11:20:12.515206Z\", \"created_time\": \"2020-12-31T11:18:21.522983Z\", \"created_time_dt\": \"2020-12-31T11:18:21.522983Z\", \"duration\": \"0:01:50\", \"iteration\": \"43\", \"goal\": \"AUC_weighted_max\", \"run_name\": \"VotingEnsemble\", \"run_properties\": \"classification_labels=None,\\n                              estimators=[('24',\\n                                           Pipeline(memory=None,\\n                                                    steps=[('minmaxscaler',\\n                                                            MinMaxScaler(copy=True,\\n                                                                         feature_range=(0,\\n                                                                                        1\", \"primary_metric\": 0.92234378, \"best_metric\": 0.92234378}, {\"run_id\": \"AutoML_e500a9dd-6430-47c6-afdf-76f59ad1bbd2_44\", \"run_number\": 49, \"metric\": null, \"status\": \"Completed\", \"run_type\": \"azureml.scriptrun\", \"training_percent\": \"100\", \"start_time\": \"2020-12-31T11:18:35.160025Z\", \"end_time\": \"2020-12-31T11:20:17.075077Z\", \"created_time\": \"2020-12-31T11:18:21.551278Z\", \"created_time_dt\": \"2020-12-31T11:18:21.551278Z\", \"duration\": \"0:01:55\", \"iteration\": \"44\", \"goal\": \"AUC_weighted_max\", \"run_name\": \"StackEnsemble\", \"run_properties\": \"base_learners=[('24',\\n                                        Pipeline(memory=None,\\n                                                 steps=[('minmaxscaler',\\n                                                         MinMaxScaler(copy=True,\\n                                                                      feature_range=(0,\\n                                                                                     1\", \"primary_metric\": 0.90351214, \"best_metric\": 0.92234378}], \"children_metrics\": {\"categories\": [0], \"series\": {\"weighted_accuracy\": [{\"categories\": [\"0\", \"1\", \"2\", \"3\", \"4\", \"5\", \"6\", \"7\", \"8\", \"9\", \"10\", \"11\", \"12\", \"13\", \"14\", \"15\", \"16\", \"17\", \"18\", \"19\", \"20\", \"21\", \"22\", \"23\", \"24\", \"25\", \"26\", \"27\", \"28\", \"29\", \"30\", \"31\", \"32\", \"33\", \"34\", \"35\", \"36\", \"37\", \"38\", \"39\", \"40\", \"41\", \"43\", \"44\"], \"mode\": \"markers\", \"name\": \"weighted_accuracy\", \"stepped\": false, \"type\": \"scatter\", \"data\": [0.8252063202764133, 0.8406325321291572, 0.8351312307236393, 0.835865113800339, 0.8326474450205114, 0.8657116110101999, 0.832756069001077, 0.8865528898209275, 0.82379445582702, 0.8191552656124355, 0.856225254644771, 0.8590590848409235, 0.7822974400951603, 0.843066254008803, 0.8171960087757804, 0.6722707401586747, 0.8513068724515429, 0.7835074920977998, 0.8357668120366514, 0.8430591145166788, 0.849873047118917, 0.793513204680691, 0.8526937400230729, 0.8706764563686026, 0.8427067388282117, 0.7711539879063055, 0.8426237761326968, 0.8143824446475036, 0.8404297403824792, 0.8459107147199578, 0.8799490475525127, 0.8543029713262138, 0.8486474450205114, 0.8539015927225158, 0.8573695682548553, 0.7971865900207855, 0.8573695682548553, 0.8632911368823064, 0.8462847767909215, 0.8468826789623215, 0.8807732710472204, 0.8497069024570288, 0.8839490475525127, 0.8516331796376508]}, {\"categories\": [\"0\", \"1\", \"2\", \"3\", \"4\", \"5\", \"6\", \"7\", \"8\", \"9\", \"10\", \"11\", \"12\", \"13\", \"14\", \"15\", \"16\", \"17\", \"18\", \"19\", \"20\", \"21\", \"22\", \"23\", \"24\", \"25\", \"26\", \"27\", \"28\", \"29\", \"30\", \"31\", \"32\", \"33\", \"34\", \"35\", \"36\", \"37\", \"38\", \"39\", \"40\", \"41\", \"43\", \"44\"], \"mode\": \"lines\", \"name\": \"weighted_accuracy_max\", \"stepped\": true, \"type\": \"scatter\", \"data\": [0.8252063202764133, 0.8406325321291572, 0.8406325321291572, 0.8406325321291572, 0.8406325321291572, 0.8657116110101999, 0.8657116110101999, 0.8865528898209275, 0.8865528898209275, 0.8865528898209275, 0.8865528898209275, 0.8865528898209275, 0.8865528898209275, 0.8865528898209275, 0.8865528898209275, 0.8865528898209275, 0.8865528898209275, 0.8865528898209275, 0.8865528898209275, 0.8865528898209275, 0.8865528898209275, 0.8865528898209275, 0.8865528898209275, 0.8865528898209275, 0.8865528898209275, 0.8865528898209275, 0.8865528898209275, 0.8865528898209275, 0.8865528898209275, 0.8865528898209275, 0.8865528898209275, 0.8865528898209275, 0.8865528898209275, 0.8865528898209275, 0.8865528898209275, 0.8865528898209275, 0.8865528898209275, 0.8865528898209275, 0.8865528898209275, 0.8865528898209275, 0.8865528898209275, 0.8865528898209275, 0.8865528898209275, 0.8865528898209275]}], \"average_precision_score_weighted\": [{\"categories\": [\"0\", \"1\", \"2\", \"3\", \"4\", \"5\", \"6\", \"7\", \"8\", \"9\", \"10\", \"11\", \"12\", \"13\", \"14\", \"15\", \"16\", \"17\", \"18\", \"19\", \"20\", \"21\", \"22\", \"23\", \"24\", \"25\", \"26\", \"27\", \"28\", \"29\", \"30\", \"31\", \"32\", \"33\", \"34\", \"35\", \"36\", \"37\", \"38\", \"39\", \"40\", \"41\", \"43\", \"44\"], \"mode\": \"markers\", \"name\": \"average_precision_score_weighted\", \"stepped\": false, \"type\": \"scatter\", \"data\": [0.8955370396295249, 0.9103506263314479, 0.8962063940072225, 0.891664376616583, 0.9104627441379016, 0.9176783263791168, 0.8996098356803894, 0.9070741527478076, 0.8798979852441983, 0.7862334416854537, 0.8899375048130738, 0.8997439288589092, 0.9194610881102167, 0.888884844558115, 0.8918713811068658, 0.6031702289152213, 0.9154895946751156, 0.8344049065264422, 0.9095703485443334, 0.919057585478878, 0.8981492376175548, 0.872601746541986, 0.8900453125338776, 0.9194124450735511, 0.919045475503889, 0.5685077432640913, 0.9087987749307234, 0.857171522290308, 0.893482159270525, 0.9028193205003493, 0.9192324962149596, 0.9122039970215299, 0.91252175945386, 0.9212069292070428, 0.9191165615272467, 0.7678828629007155, 0.9139643298661845, 0.9108850108348202, 0.9169485962770045, 0.9166322681370476, 0.892838014833899, 0.9229927545709377, 0.9318146781982012, 0.9173072264932232]}, {\"categories\": [\"0\", \"1\", \"2\", \"3\", \"4\", \"5\", \"6\", \"7\", \"8\", \"9\", \"10\", \"11\", \"12\", \"13\", \"14\", \"15\", \"16\", \"17\", \"18\", \"19\", \"20\", \"21\", \"22\", \"23\", \"24\", \"25\", \"26\", \"27\", \"28\", \"29\", \"30\", \"31\", \"32\", \"33\", \"34\", \"35\", \"36\", \"37\", \"38\", \"39\", \"40\", \"41\", \"43\", \"44\"], \"mode\": \"lines\", \"name\": \"average_precision_score_weighted_max\", \"stepped\": true, \"type\": \"scatter\", \"data\": [0.8955370396295249, 0.9103506263314479, 0.9103506263314479, 0.9103506263314479, 0.9104627441379016, 0.9176783263791168, 0.9176783263791168, 0.9176783263791168, 0.9176783263791168, 0.9176783263791168, 0.9176783263791168, 0.9176783263791168, 0.9194610881102167, 0.9194610881102167, 0.9194610881102167, 0.9194610881102167, 0.9194610881102167, 0.9194610881102167, 0.9194610881102167, 0.9194610881102167, 0.9194610881102167, 0.9194610881102167, 0.9194610881102167, 0.9194610881102167, 0.9194610881102167, 0.9194610881102167, 0.9194610881102167, 0.9194610881102167, 0.9194610881102167, 0.9194610881102167, 0.9194610881102167, 0.9194610881102167, 0.9194610881102167, 0.9212069292070428, 0.9212069292070428, 0.9212069292070428, 0.9212069292070428, 0.9212069292070428, 0.9212069292070428, 0.9212069292070428, 0.9212069292070428, 0.9229927545709377, 0.9318146781982012, 0.9318146781982012]}], \"matthews_correlation\": [{\"categories\": [\"0\", \"1\", \"2\", \"3\", \"4\", \"5\", \"6\", \"7\", \"8\", \"9\", \"10\", \"11\", \"12\", \"13\", \"14\", \"15\", \"16\", \"17\", \"18\", \"19\", \"20\", \"21\", \"22\", \"23\", \"24\", \"25\", \"26\", \"27\", \"28\", \"29\", \"30\", \"31\", \"32\", \"33\", \"34\", \"35\", \"36\", \"37\", \"38\", \"39\", \"40\", \"41\", \"43\", \"44\"], \"mode\": \"markers\", \"name\": \"matthews_correlation\", \"stepped\": false, \"type\": \"scatter\", \"data\": [0.5628617041183437, 0.6132552509330647, 0.5962131738209033, 0.49149309664977353, 0.5930326482793832, 0.6502905199257987, 0.5706518817862734, 0.6635152379877605, 0.46277883773258505, 0.416717014557646, 0.48798942349640956, 0.5860647380081992, 0.5607163966836654, 0.6019732997198831, 0.569769864707833, 0.06532248141362067, 0.5472460962247991, 0.49617514759825215, 0.6322207348501826, 0.6085141333410464, 0.6150108935279222, 0.5597113461899433, 0.5962123855516114, 0.642707233472083, 0.6247587049112614, 0.07032893008673508, 0.6063145753238512, 0.2719166927469664, 0.4639144623899164, 0.5065501115861701, 0.656585723755556, 0.6263801611359413, 0.6168013327606616, 0.627863785641453, 0.634823089648606, 0.0, 0.6247295897834755, 0.6228767540971064, 0.5958779110644613, 0.6244385273467987, 0.6516233947550578, 0.6142666135718409, 0.6726900611432679, 0.6370294982429899]}, {\"categories\": [\"0\", \"1\", \"2\", \"3\", \"4\", \"5\", \"6\", \"7\", \"8\", \"9\", \"10\", \"11\", \"12\", \"13\", \"14\", \"15\", \"16\", \"17\", \"18\", \"19\", \"20\", \"21\", \"22\", \"23\", \"24\", \"25\", \"26\", \"27\", \"28\", \"29\", \"30\", \"31\", \"32\", \"33\", \"34\", \"35\", \"36\", \"37\", \"38\", \"39\", \"40\", \"41\", \"43\", \"44\"], \"mode\": \"lines\", \"name\": \"matthews_correlation_max\", \"stepped\": true, \"type\": \"scatter\", \"data\": [0.5628617041183437, 0.6132552509330647, 0.6132552509330647, 0.6132552509330647, 0.6132552509330647, 0.6502905199257987, 0.6502905199257987, 0.6635152379877605, 0.6635152379877605, 0.6635152379877605, 0.6635152379877605, 0.6635152379877605, 0.6635152379877605, 0.6635152379877605, 0.6635152379877605, 0.6635152379877605, 0.6635152379877605, 0.6635152379877605, 0.6635152379877605, 0.6635152379877605, 0.6635152379877605, 0.6635152379877605, 0.6635152379877605, 0.6635152379877605, 0.6635152379877605, 0.6635152379877605, 0.6635152379877605, 0.6635152379877605, 0.6635152379877605, 0.6635152379877605, 0.6635152379877605, 0.6635152379877605, 0.6635152379877605, 0.6635152379877605, 0.6635152379877605, 0.6635152379877605, 0.6635152379877605, 0.6635152379877605, 0.6635152379877605, 0.6635152379877605, 0.6635152379877605, 0.6635152379877605, 0.6726900611432679, 0.6726900611432679]}], \"average_precision_score_macro\": [{\"categories\": [\"0\", \"1\", \"2\", \"3\", \"4\", \"5\", \"6\", \"7\", \"8\", \"9\", \"10\", \"11\", \"12\", \"13\", \"14\", \"15\", \"16\", \"17\", \"18\", \"19\", \"20\", \"21\", \"22\", \"23\", \"24\", \"25\", \"26\", \"27\", \"28\", \"29\", \"30\", \"31\", \"32\", \"33\", \"34\", \"35\", \"36\", \"37\", \"38\", \"39\", \"40\", \"41\", \"43\", \"44\"], \"mode\": \"markers\", \"name\": \"average_precision_score_macro\", \"stepped\": false, \"type\": \"scatter\", \"data\": [0.8655792376041671, 0.8826936933050062, 0.8634471810330948, 0.8606631034464887, 0.8834421151025662, 0.8932973907122378, 0.8713940535582294, 0.8780979507225734, 0.8485538958360006, 0.7455889577323558, 0.8560162904997736, 0.8775888385825589, 0.8944270516518685, 0.8518665615543334, 0.854040383997078, 0.5525347928626576, 0.8884673613066898, 0.7948051130418012, 0.881370965793059, 0.8968251072606875, 0.8656990379665291, 0.8412510409793077, 0.8504195004507515, 0.8929750524652734, 0.8917476086035865, 0.5002708990723186, 0.8849926701647896, 0.8219306543453037, 0.863074589488048, 0.8778949409495468, 0.8972347583208122, 0.8827862902851654, 0.8828824081484375, 0.8959599361595287, 0.8957170294640491, 0.7026015593247981, 0.8910123645126603, 0.8884661827782068, 0.8942699666643354, 0.8935046702267672, 0.8672421994775583, 0.8994978339890594, 0.9097831179883465, 0.8934399435062301]}, {\"categories\": [\"0\", \"1\", \"2\", \"3\", \"4\", \"5\", \"6\", \"7\", \"8\", \"9\", \"10\", \"11\", \"12\", \"13\", \"14\", \"15\", \"16\", \"17\", \"18\", \"19\", \"20\", \"21\", \"22\", \"23\", \"24\", \"25\", \"26\", \"27\", \"28\", \"29\", \"30\", \"31\", \"32\", \"33\", \"34\", \"35\", \"36\", \"37\", \"38\", \"39\", \"40\", \"41\", \"43\", \"44\"], \"mode\": \"lines\", \"name\": \"average_precision_score_macro_max\", \"stepped\": true, \"type\": \"scatter\", \"data\": [0.8655792376041671, 0.8826936933050062, 0.8826936933050062, 0.8826936933050062, 0.8834421151025662, 0.8932973907122378, 0.8932973907122378, 0.8932973907122378, 0.8932973907122378, 0.8932973907122378, 0.8932973907122378, 0.8932973907122378, 0.8944270516518685, 0.8944270516518685, 0.8944270516518685, 0.8944270516518685, 0.8944270516518685, 0.8944270516518685, 0.8944270516518685, 0.8968251072606875, 0.8968251072606875, 0.8968251072606875, 0.8968251072606875, 0.8968251072606875, 0.8968251072606875, 0.8968251072606875, 0.8968251072606875, 0.8968251072606875, 0.8968251072606875, 0.8968251072606875, 0.8972347583208122, 0.8972347583208122, 0.8972347583208122, 0.8972347583208122, 0.8972347583208122, 0.8972347583208122, 0.8972347583208122, 0.8972347583208122, 0.8972347583208122, 0.8972347583208122, 0.8972347583208122, 0.8994978339890594, 0.9097831179883465, 0.9097831179883465]}], \"precision_score_micro\": [{\"categories\": [\"0\", \"1\", \"2\", \"3\", \"4\", \"5\", \"6\", \"7\", \"8\", \"9\", \"10\", \"11\", \"12\", \"13\", \"14\", \"15\", \"16\", \"17\", \"18\", \"19\", \"20\", \"21\", \"22\", \"23\", \"24\", \"25\", \"26\", \"27\", \"28\", \"29\", \"30\", \"31\", \"32\", \"33\", \"34\", \"35\", \"36\", \"37\", \"38\", \"39\", \"40\", \"41\", \"43\", \"44\"], \"mode\": \"markers\", \"name\": \"precision_score_micro\", \"stepped\": false, \"type\": \"scatter\", \"data\": [0.8059887005649717, 0.8259322033898304, 0.8192655367231637, 0.7793785310734462, 0.8192655367231637, 0.8429378531073446, 0.8125988700564972, 0.8528248587570622, 0.7661016949152543, 0.7593220338983051, 0.7925423728813559, 0.8194350282485875, 0.7890395480225989, 0.8227118644067797, 0.8092090395480225, 0.6153107344632769, 0.7994350282485875, 0.7694350282485876, 0.8326553672316385, 0.822768361581921, 0.8325423728813559, 0.7925423728813559, 0.8293220338983052, 0.8461581920903954, 0.8327118644067797, 0.6724293785310734, 0.8260451977401129, 0.7125423728813558, 0.7727118644067796, 0.7861016949152542, 0.8494915254237287, 0.8359887005649718, 0.8325988700564972, 0.836045197740113, 0.8393785310734463, 0.67909604519774, 0.836045197740113, 0.836045197740113, 0.8225988700564972, 0.8327118644067797, 0.8461581920903954, 0.8293785310734464, 0.8561581920903955, 0.8329378531073447]}, {\"categories\": [\"0\", \"1\", \"2\", \"3\", \"4\", \"5\", \"6\", \"7\", \"8\", \"9\", \"10\", \"11\", \"12\", \"13\", \"14\", \"15\", \"16\", \"17\", \"18\", \"19\", \"20\", \"21\", \"22\", \"23\", \"24\", \"25\", \"26\", \"27\", \"28\", \"29\", \"30\", \"31\", \"32\", \"33\", \"34\", \"35\", \"36\", \"37\", \"38\", \"39\", \"40\", \"41\", \"43\", \"44\"], \"mode\": \"lines\", \"name\": \"precision_score_micro_max\", \"stepped\": true, \"type\": \"scatter\", \"data\": [0.8059887005649717, 0.8259322033898304, 0.8259322033898304, 0.8259322033898304, 0.8259322033898304, 0.8429378531073446, 0.8429378531073446, 0.8528248587570622, 0.8528248587570622, 0.8528248587570622, 0.8528248587570622, 0.8528248587570622, 0.8528248587570622, 0.8528248587570622, 0.8528248587570622, 0.8528248587570622, 0.8528248587570622, 0.8528248587570622, 0.8528248587570622, 0.8528248587570622, 0.8528248587570622, 0.8528248587570622, 0.8528248587570622, 0.8528248587570622, 0.8528248587570622, 0.8528248587570622, 0.8528248587570622, 0.8528248587570622, 0.8528248587570622, 0.8528248587570622, 0.8528248587570622, 0.8528248587570622, 0.8528248587570622, 0.8528248587570622, 0.8528248587570622, 0.8528248587570622, 0.8528248587570622, 0.8528248587570622, 0.8528248587570622, 0.8528248587570622, 0.8528248587570622, 0.8528248587570622, 0.8561581920903955, 0.8561581920903955]}], \"precision_score_weighted\": [{\"categories\": [\"0\", \"1\", \"2\", \"3\", \"4\", \"5\", \"6\", \"7\", \"8\", \"9\", \"10\", \"11\", \"12\", \"13\", \"14\", \"15\", \"16\", \"17\", \"18\", \"19\", \"20\", \"21\", \"22\", \"23\", \"24\", \"25\", \"26\", \"27\", \"28\", \"29\", \"30\", \"31\", \"32\", \"33\", \"34\", \"35\", \"36\", \"37\", \"38\", \"39\", \"40\", \"41\", \"43\", \"44\"], \"mode\": \"markers\", \"name\": \"precision_score_weighted\", \"stepped\": false, \"type\": \"scatter\", \"data\": [0.8237683758533973, 0.8403871377947292, 0.8315779041235232, 0.8133772168703566, 0.8360769015661317, 0.8608752792411792, 0.821851447957745, 0.8679347347320542, 0.8029867677065369, 0.7695882951514441, 0.8080210187395114, 0.8375547295289912, 0.8259444708441913, 0.8438901283454351, 0.8259943687098014, 0.6019922322856948, 0.835183746564009, 0.795657433198222, 0.8562102221701883, 0.8449394581537387, 0.8439515608141253, 0.8191555219715158, 0.8379447139562233, 0.8555600466271469, 0.847166124900658, 0.5542051490946873, 0.8417910942885151, 0.793737268094523, 0.8074960999494782, 0.8186281319775418, 0.8622267285128251, 0.8473369241958079, 0.8458486361626629, 0.8485003181717466, 0.8526632989845184, 0.4689005075169971, 0.8479626195469969, 0.8468313643428893, 0.8409216885131418, 0.8487947888300058, 0.8603793243412017, 0.8436351769016127, 0.8690965052851567, 0.8550461302472045]}, {\"categories\": [\"0\", \"1\", \"2\", \"3\", \"4\", \"5\", \"6\", \"7\", \"8\", \"9\", \"10\", \"11\", \"12\", \"13\", \"14\", \"15\", \"16\", \"17\", \"18\", \"19\", \"20\", \"21\", \"22\", \"23\", \"24\", \"25\", \"26\", \"27\", \"28\", \"29\", \"30\", \"31\", \"32\", \"33\", \"34\", \"35\", \"36\", \"37\", \"38\", \"39\", \"40\", \"41\", \"43\", \"44\"], \"mode\": \"lines\", \"name\": \"precision_score_weighted_max\", \"stepped\": true, \"type\": \"scatter\", \"data\": [0.8237683758533973, 0.8403871377947292, 0.8403871377947292, 0.8403871377947292, 0.8403871377947292, 0.8608752792411792, 0.8608752792411792, 0.8679347347320542, 0.8679347347320542, 0.8679347347320542, 0.8679347347320542, 0.8679347347320542, 0.8679347347320542, 0.8679347347320542, 0.8679347347320542, 0.8679347347320542, 0.8679347347320542, 0.8679347347320542, 0.8679347347320542, 0.8679347347320542, 0.8679347347320542, 0.8679347347320542, 0.8679347347320542, 0.8679347347320542, 0.8679347347320542, 0.8679347347320542, 0.8679347347320542, 0.8679347347320542, 0.8679347347320542, 0.8679347347320542, 0.8679347347320542, 0.8679347347320542, 0.8679347347320542, 0.8679347347320542, 0.8679347347320542, 0.8679347347320542, 0.8679347347320542, 0.8679347347320542, 0.8679347347320542, 0.8679347347320542, 0.8679347347320542, 0.8679347347320542, 0.8690965052851567, 0.8690965052851567]}], \"accuracy\": [{\"categories\": [\"0\", \"1\", \"2\", \"3\", \"4\", \"5\", \"6\", \"7\", \"8\", \"9\", \"10\", \"11\", \"12\", \"13\", \"14\", \"15\", \"16\", \"17\", \"18\", \"19\", \"20\", \"21\", \"22\", \"23\", \"24\", \"25\", \"26\", \"27\", \"28\", \"29\", \"30\", \"31\", \"32\", \"33\", \"34\", \"35\", \"36\", \"37\", \"38\", \"39\", \"40\", \"41\", \"43\", \"44\"], \"mode\": \"markers\", \"name\": \"accuracy\", \"stepped\": false, \"type\": \"scatter\", \"data\": [0.8059887005649717, 0.8259322033898304, 0.8192655367231637, 0.7793785310734462, 0.8192655367231637, 0.8429378531073446, 0.8125988700564972, 0.8528248587570622, 0.7661016949152543, 0.7593220338983051, 0.7925423728813559, 0.8194350282485875, 0.7890395480225989, 0.8227118644067797, 0.8092090395480225, 0.6153107344632769, 0.7994350282485875, 0.7694350282485876, 0.8326553672316385, 0.822768361581921, 0.8325423728813559, 0.7925423728813559, 0.8293220338983052, 0.8461581920903954, 0.8327118644067797, 0.6724293785310734, 0.8260451977401129, 0.7125423728813558, 0.7727118644067796, 0.7861016949152542, 0.8494915254237287, 0.8359887005649718, 0.8325988700564972, 0.836045197740113, 0.8393785310734463, 0.67909604519774, 0.836045197740113, 0.836045197740113, 0.8225988700564972, 0.8327118644067797, 0.8461581920903954, 0.8293785310734464, 0.8561581920903955, 0.8329378531073447]}, {\"categories\": [\"0\", \"1\", \"2\", \"3\", \"4\", \"5\", \"6\", \"7\", \"8\", \"9\", \"10\", \"11\", \"12\", \"13\", \"14\", \"15\", \"16\", \"17\", \"18\", \"19\", \"20\", \"21\", \"22\", \"23\", \"24\", \"25\", \"26\", \"27\", \"28\", \"29\", \"30\", \"31\", \"32\", \"33\", \"34\", \"35\", \"36\", \"37\", \"38\", \"39\", \"40\", \"41\", \"43\", \"44\"], \"mode\": \"lines\", \"name\": \"accuracy_max\", \"stepped\": true, \"type\": \"scatter\", \"data\": [0.8059887005649717, 0.8259322033898304, 0.8259322033898304, 0.8259322033898304, 0.8259322033898304, 0.8429378531073446, 0.8429378531073446, 0.8528248587570622, 0.8528248587570622, 0.8528248587570622, 0.8528248587570622, 0.8528248587570622, 0.8528248587570622, 0.8528248587570622, 0.8528248587570622, 0.8528248587570622, 0.8528248587570622, 0.8528248587570622, 0.8528248587570622, 0.8528248587570622, 0.8528248587570622, 0.8528248587570622, 0.8528248587570622, 0.8528248587570622, 0.8528248587570622, 0.8528248587570622, 0.8528248587570622, 0.8528248587570622, 0.8528248587570622, 0.8528248587570622, 0.8528248587570622, 0.8528248587570622, 0.8528248587570622, 0.8528248587570622, 0.8528248587570622, 0.8528248587570622, 0.8528248587570622, 0.8528248587570622, 0.8528248587570622, 0.8528248587570622, 0.8528248587570622, 0.8528248587570622, 0.8561581920903955, 0.8561581920903955]}], \"f1_score_weighted\": [{\"categories\": [\"0\", \"1\", \"2\", \"3\", \"4\", \"5\", \"6\", \"7\", \"8\", \"9\", \"10\", \"11\", \"12\", \"13\", \"14\", \"15\", \"16\", \"17\", \"18\", \"19\", \"20\", \"21\", \"22\", \"23\", \"24\", \"25\", \"26\", \"27\", \"28\", \"29\", \"30\", \"31\", \"32\", \"33\", \"34\", \"35\", \"36\", \"37\", \"38\", \"39\", \"40\", \"41\", \"43\", \"44\"], \"mode\": \"markers\", \"name\": \"f1_score_weighted\", \"stepped\": false, \"type\": \"scatter\", \"data\": [0.8014398448329555, 0.8237396450256732, 0.8177459489468882, 0.7502191646258023, 0.8190016362808737, 0.8373290401496956, 0.8097581785419597, 0.8441390385776849, 0.7347210877233004, 0.7359836357954517, 0.7681631825608592, 0.8045011671284177, 0.7959349720789508, 0.8183010761922818, 0.812994548737733, 0.5942320550697178, 0.7737475008315096, 0.7673254257410485, 0.8366497947790486, 0.8150351468661906, 0.8299757517332471, 0.7946308888475409, 0.8269631260433122, 0.8415856624955644, 0.8333365819091311, 0.5819730190202076, 0.8234343018144994, 0.6269395226395883, 0.7401894037319698, 0.757136168162142, 0.8415422538801302, 0.8325064455842914, 0.8316548792498116, 0.8330883683147782, 0.8349621006512068, 0.5526564268547016, 0.8311988535041992, 0.829842011681512, 0.816493723439128, 0.829728211188591, 0.8362461669764473, 0.8243611962570394, 0.8486501965947358, 0.8280052634035515]}, {\"categories\": [\"0\", \"1\", \"2\", \"3\", \"4\", \"5\", \"6\", \"7\", \"8\", \"9\", \"10\", \"11\", \"12\", \"13\", \"14\", \"15\", \"16\", \"17\", \"18\", \"19\", \"20\", \"21\", \"22\", \"23\", \"24\", \"25\", \"26\", \"27\", \"28\", \"29\", \"30\", \"31\", \"32\", \"33\", \"34\", \"35\", \"36\", \"37\", \"38\", \"39\", \"40\", \"41\", \"43\", \"44\"], \"mode\": \"lines\", \"name\": \"f1_score_weighted_max\", \"stepped\": true, \"type\": \"scatter\", \"data\": [0.8014398448329555, 0.8237396450256732, 0.8237396450256732, 0.8237396450256732, 0.8237396450256732, 0.8373290401496956, 0.8373290401496956, 0.8441390385776849, 0.8441390385776849, 0.8441390385776849, 0.8441390385776849, 0.8441390385776849, 0.8441390385776849, 0.8441390385776849, 0.8441390385776849, 0.8441390385776849, 0.8441390385776849, 0.8441390385776849, 0.8441390385776849, 0.8441390385776849, 0.8441390385776849, 0.8441390385776849, 0.8441390385776849, 0.8441390385776849, 0.8441390385776849, 0.8441390385776849, 0.8441390385776849, 0.8441390385776849, 0.8441390385776849, 0.8441390385776849, 0.8441390385776849, 0.8441390385776849, 0.8441390385776849, 0.8441390385776849, 0.8441390385776849, 0.8441390385776849, 0.8441390385776849, 0.8441390385776849, 0.8441390385776849, 0.8441390385776849, 0.8441390385776849, 0.8441390385776849, 0.8486501965947358, 0.8486501965947358]}], \"average_precision_score_micro\": [{\"categories\": [\"0\", \"1\", \"2\", \"3\", \"4\", \"5\", \"6\", \"7\", \"8\", \"9\", \"10\", \"11\", \"12\", \"13\", \"14\", \"15\", \"16\", \"17\", \"18\", \"19\", \"20\", \"21\", \"22\", \"23\", \"24\", \"25\", \"26\", \"27\", \"28\", \"29\", \"30\", \"31\", \"32\", \"33\", \"34\", \"35\", \"36\", \"37\", \"38\", \"39\", \"40\", \"41\", \"43\", \"44\"], \"mode\": \"markers\", \"name\": \"average_precision_score_micro\", \"stepped\": false, \"type\": \"scatter\", \"data\": [0.887958292631032, 0.9018582931163117, 0.8981937256452566, 0.8712371020649557, 0.9029112804127996, 0.9097024091645387, 0.8986687411894551, 0.9043723043242642, 0.864902999106899, 0.7923478012471382, 0.8755843160823872, 0.8842773952957756, 0.9046819432702916, 0.8825971889592703, 0.889767604030476, 0.6180888504381511, 0.8913019334074676, 0.8200843088658655, 0.900187912761508, 0.906038430526013, 0.896741426671736, 0.8535464405773767, 0.8928976482247633, 0.9168754042227991, 0.9111355345255522, 0.6281118298574266, 0.9026819535458273, 0.8282269645119303, 0.8750459071842365, 0.8758497582445456, 0.9079400385723853, 0.9082194516756118, 0.906762304911736, 0.916794742832654, 0.9123606751158974, 0.784594224455022, 0.9050630453870339, 0.9028718832554301, 0.9059600058193752, 0.9106477005831689, 0.8825969293909933, 0.9148356601547295, 0.9167353541059207, 0.9050394062618489]}, {\"categories\": [\"0\", \"1\", \"2\", \"3\", \"4\", \"5\", \"6\", \"7\", \"8\", \"9\", \"10\", \"11\", \"12\", \"13\", \"14\", \"15\", \"16\", \"17\", \"18\", \"19\", \"20\", \"21\", \"22\", \"23\", \"24\", \"25\", \"26\", \"27\", \"28\", \"29\", \"30\", \"31\", \"32\", \"33\", \"34\", \"35\", \"36\", \"37\", \"38\", \"39\", \"40\", \"41\", \"43\", \"44\"], \"mode\": \"lines\", \"name\": \"average_precision_score_micro_max\", \"stepped\": true, \"type\": \"scatter\", \"data\": [0.887958292631032, 0.9018582931163117, 0.9018582931163117, 0.9018582931163117, 0.9029112804127996, 0.9097024091645387, 0.9097024091645387, 0.9097024091645387, 0.9097024091645387, 0.9097024091645387, 0.9097024091645387, 0.9097024091645387, 0.9097024091645387, 0.9097024091645387, 0.9097024091645387, 0.9097024091645387, 0.9097024091645387, 0.9097024091645387, 0.9097024091645387, 0.9097024091645387, 0.9097024091645387, 0.9097024091645387, 0.9097024091645387, 0.9168754042227991, 0.9168754042227991, 0.9168754042227991, 0.9168754042227991, 0.9168754042227991, 0.9168754042227991, 0.9168754042227991, 0.9168754042227991, 0.9168754042227991, 0.9168754042227991, 0.9168754042227991, 0.9168754042227991, 0.9168754042227991, 0.9168754042227991, 0.9168754042227991, 0.9168754042227991, 0.9168754042227991, 0.9168754042227991, 0.9168754042227991, 0.9168754042227991, 0.9168754042227991]}], \"precision_score_macro\": [{\"categories\": [\"0\", \"1\", \"2\", \"3\", \"4\", \"5\", \"6\", \"7\", \"8\", \"9\", \"10\", \"11\", \"12\", \"13\", \"14\", \"15\", \"16\", \"17\", \"18\", \"19\", \"20\", \"21\", \"22\", \"23\", \"24\", \"25\", \"26\", \"27\", \"28\", \"29\", \"30\", \"31\", \"32\", \"33\", \"34\", \"35\", \"36\", \"37\", \"38\", \"39\", \"40\", \"41\", \"43\", \"44\"], \"mode\": \"markers\", \"name\": \"precision_score_macro\", \"stepped\": false, \"type\": \"scatter\", \"data\": [0.7889041743265773, 0.8086642059265495, 0.8017603672357435, 0.8098619779691208, 0.7948172108329427, 0.8455301494843829, 0.7881044937369935, 0.8701212051391769, 0.8033742026255899, 0.7573881765399129, 0.8056959179624817, 0.8326239018513533, 0.7653861683223668, 0.8109524825683231, 0.7757920600025863, 0.5343494917780632, 0.8382743817194918, 0.7504526153869022, 0.8055425351997881, 0.8193051204115033, 0.8097153787914657, 0.7708763197449167, 0.8046240379779983, 0.8363196308398491, 0.8079782678621686, 0.49430512016718914, 0.8062046254437558, 0.8320753320525691, 0.8177697213438453, 0.8272373203159326, 0.8556636363712606, 0.819081168924394, 0.8085154889850588, 0.8189886562867532, 0.8239806341637006, 0.33954802259887, 0.8213425704730053, 0.8275454657390007, 0.8099904748343383, 0.8142569533187383, 0.8605211688008041, 0.8157388248507583, 0.8616690821256039, 0.8376782478897594]}, {\"categories\": [\"0\", \"1\", \"2\", \"3\", \"4\", \"5\", \"6\", \"7\", \"8\", \"9\", \"10\", \"11\", \"12\", \"13\", \"14\", \"15\", \"16\", \"17\", \"18\", \"19\", \"20\", \"21\", \"22\", \"23\", \"24\", \"25\", \"26\", \"27\", \"28\", \"29\", \"30\", \"31\", \"32\", \"33\", \"34\", \"35\", \"36\", \"37\", \"38\", \"39\", \"40\", \"41\", \"43\", \"44\"], \"mode\": \"lines\", \"name\": \"precision_score_macro_max\", \"stepped\": true, \"type\": \"scatter\", \"data\": [0.7889041743265773, 0.8086642059265495, 0.8086642059265495, 0.8098619779691208, 0.8098619779691208, 0.8455301494843829, 0.8455301494843829, 0.8701212051391769, 0.8701212051391769, 0.8701212051391769, 0.8701212051391769, 0.8701212051391769, 0.8701212051391769, 0.8701212051391769, 0.8701212051391769, 0.8701212051391769, 0.8701212051391769, 0.8701212051391769, 0.8701212051391769, 0.8701212051391769, 0.8701212051391769, 0.8701212051391769, 0.8701212051391769, 0.8701212051391769, 0.8701212051391769, 0.8701212051391769, 0.8701212051391769, 0.8701212051391769, 0.8701212051391769, 0.8701212051391769, 0.8701212051391769, 0.8701212051391769, 0.8701212051391769, 0.8701212051391769, 0.8701212051391769, 0.8701212051391769, 0.8701212051391769, 0.8701212051391769, 0.8701212051391769, 0.8701212051391769, 0.8701212051391769, 0.8701212051391769, 0.8701212051391769, 0.8701212051391769]}], \"AUC_macro\": [{\"categories\": [\"0\", \"1\", \"2\", \"3\", \"4\", \"5\", \"6\", \"7\", \"8\", \"9\", \"10\", \"11\", \"12\", \"13\", \"14\", \"15\", \"16\", \"17\", \"18\", \"19\", \"20\", \"21\", \"22\", \"23\", \"24\", \"25\", \"26\", \"27\", \"28\", \"29\", \"30\", \"31\", \"32\", \"33\", \"34\", \"35\", \"36\", \"37\", \"38\", \"39\", \"40\", \"41\", \"43\", \"44\"], \"mode\": \"markers\", \"name\": \"AUC_macro\", \"stepped\": false, \"type\": \"scatter\", \"data\": [0.8811331210778885, 0.8929591177556295, 0.8866443798449613, 0.8749004245108896, 0.8940593161683278, 0.9025572628276116, 0.8868061381044665, 0.8939126061277225, 0.8568884274640087, 0.7514726836471023, 0.8781795404208192, 0.8800356912144703, 0.9063185677371723, 0.8712474621631598, 0.875373777224068, 0.48227655500184563, 0.9019742755629384, 0.8137447166851237, 0.8953948874123292, 0.9071683739387228, 0.8849398417312662, 0.8556342746400887, 0.8754885335917312, 0.9063731543004799, 0.9122790697674418, 0.45647435631229233, 0.8943670634920634, 0.836138612033961, 0.8771838086009598, 0.8916456949058693, 0.9067699104835732, 0.9033997093023256, 0.9016203165374677, 0.9110179955703211, 0.9039128829826504, 0.7302379798818752, 0.8985436277224069, 0.9018223975636767, 0.897923772609819, 0.901500092284976, 0.8734253875968992, 0.9091110418973789, 0.922343784606866, 0.903512135474345]}, {\"categories\": [\"0\", \"1\", \"2\", \"3\", \"4\", \"5\", \"6\", \"7\", \"8\", \"9\", \"10\", \"11\", \"12\", \"13\", \"14\", \"15\", \"16\", \"17\", \"18\", \"19\", \"20\", \"21\", \"22\", \"23\", \"24\", \"25\", \"26\", \"27\", \"28\", \"29\", \"30\", \"31\", \"32\", \"33\", \"34\", \"35\", \"36\", \"37\", \"38\", \"39\", \"40\", \"41\", \"43\", \"44\"], \"mode\": \"lines\", \"name\": \"AUC_macro_max\", \"stepped\": true, \"type\": \"scatter\", \"data\": [0.8811331210778885, 0.8929591177556295, 0.8929591177556295, 0.8929591177556295, 0.8940593161683278, 0.9025572628276116, 0.9025572628276116, 0.9025572628276116, 0.9025572628276116, 0.9025572628276116, 0.9025572628276116, 0.9025572628276116, 0.9063185677371723, 0.9063185677371723, 0.9063185677371723, 0.9063185677371723, 0.9063185677371723, 0.9063185677371723, 0.9063185677371723, 0.9071683739387228, 0.9071683739387228, 0.9071683739387228, 0.9071683739387228, 0.9071683739387228, 0.9122790697674418, 0.9122790697674418, 0.9122790697674418, 0.9122790697674418, 0.9122790697674418, 0.9122790697674418, 0.9122790697674418, 0.9122790697674418, 0.9122790697674418, 0.9122790697674418, 0.9122790697674418, 0.9122790697674418, 0.9122790697674418, 0.9122790697674418, 0.9122790697674418, 0.9122790697674418, 0.9122790697674418, 0.9122790697674418, 0.922343784606866, 0.922343784606866]}], \"f1_score_macro\": [{\"categories\": [\"0\", \"1\", \"2\", \"3\", \"4\", \"5\", \"6\", \"7\", \"8\", \"9\", \"10\", \"11\", \"12\", \"13\", \"14\", \"15\", \"16\", \"17\", \"18\", \"19\", \"20\", \"21\", \"22\", \"23\", \"24\", \"25\", \"26\", \"27\", \"28\", \"29\", \"30\", \"31\", \"32\", \"33\", \"34\", \"35\", \"36\", \"37\", \"38\", \"39\", \"40\", \"41\", \"43\", \"44\"], \"mode\": \"markers\", \"name\": \"f1_score_macro\", \"stepped\": false, \"type\": \"scatter\", \"data\": [0.7682096405971308, 0.7972526241921125, 0.790331192129476, 0.7002932403070551, 0.7873295116878809, 0.8097751212411474, 0.777830405901744, 0.8139894623158392, 0.6829001424136892, 0.677864504364746, 0.7087601786006607, 0.7685517371304844, 0.767078349691446, 0.7858167613018765, 0.7795801096030297, 0.5173668796330508, 0.731203643321588, 0.7323140989445338, 0.8069797236775065, 0.7866232883423862, 0.7991726317023249, 0.7677531242648392, 0.7914470000434913, 0.8117952588347326, 0.8054543057176156, 0.4692989500259014, 0.7922770539394203, 0.5162412864637295, 0.6801468241929619, 0.7072838568350738, 0.8133405006570571, 0.8041722712027326, 0.8004234469220253, 0.8048275787728626, 0.8064034950176502, 0.40276783177038933, 0.8016414545470578, 0.7999041325185823, 0.7830221713163539, 0.8012035260088654, 0.8080926667548922, 0.7952777933796835, 0.8217746418488272, 0.8016686924087825]}, {\"categories\": [\"0\", \"1\", \"2\", \"3\", \"4\", \"5\", \"6\", \"7\", \"8\", \"9\", \"10\", \"11\", \"12\", \"13\", \"14\", \"15\", \"16\", \"17\", \"18\", \"19\", \"20\", \"21\", \"22\", \"23\", \"24\", \"25\", \"26\", \"27\", \"28\", \"29\", \"30\", \"31\", \"32\", \"33\", \"34\", \"35\", \"36\", \"37\", \"38\", \"39\", \"40\", \"41\", \"43\", \"44\"], \"mode\": \"lines\", \"name\": \"f1_score_macro_max\", \"stepped\": true, \"type\": \"scatter\", \"data\": [0.7682096405971308, 0.7972526241921125, 0.7972526241921125, 0.7972526241921125, 0.7972526241921125, 0.8097751212411474, 0.8097751212411474, 0.8139894623158392, 0.8139894623158392, 0.8139894623158392, 0.8139894623158392, 0.8139894623158392, 0.8139894623158392, 0.8139894623158392, 0.8139894623158392, 0.8139894623158392, 0.8139894623158392, 0.8139894623158392, 0.8139894623158392, 0.8139894623158392, 0.8139894623158392, 0.8139894623158392, 0.8139894623158392, 0.8139894623158392, 0.8139894623158392, 0.8139894623158392, 0.8139894623158392, 0.8139894623158392, 0.8139894623158392, 0.8139894623158392, 0.8139894623158392, 0.8139894623158392, 0.8139894623158392, 0.8139894623158392, 0.8139894623158392, 0.8139894623158392, 0.8139894623158392, 0.8139894623158392, 0.8139894623158392, 0.8139894623158392, 0.8139894623158392, 0.8139894623158392, 0.8217746418488272, 0.8217746418488272]}], \"recall_score_micro\": [{\"categories\": [\"0\", \"1\", \"2\", \"3\", \"4\", \"5\", \"6\", \"7\", \"8\", \"9\", \"10\", \"11\", \"12\", \"13\", \"14\", \"15\", \"16\", \"17\", \"18\", \"19\", \"20\", \"21\", \"22\", \"23\", \"24\", \"25\", \"26\", \"27\", \"28\", \"29\", \"30\", \"31\", \"32\", \"33\", \"34\", \"35\", \"36\", \"37\", \"38\", \"39\", \"40\", \"41\", \"43\", \"44\"], \"mode\": \"markers\", \"name\": \"recall_score_micro\", \"stepped\": false, \"type\": \"scatter\", \"data\": [0.8059887005649717, 0.8259322033898304, 0.8192655367231637, 0.7793785310734462, 0.8192655367231637, 0.8429378531073446, 0.8125988700564972, 0.8528248587570622, 0.7661016949152543, 0.7593220338983051, 0.7925423728813559, 0.8194350282485875, 0.7890395480225989, 0.8227118644067797, 0.8092090395480225, 0.6153107344632769, 0.7994350282485875, 0.7694350282485876, 0.8326553672316385, 0.822768361581921, 0.8325423728813559, 0.7925423728813559, 0.8293220338983052, 0.8461581920903954, 0.8327118644067797, 0.6724293785310734, 0.8260451977401129, 0.7125423728813558, 0.7727118644067796, 0.7861016949152542, 0.8494915254237287, 0.8359887005649718, 0.8325988700564972, 0.836045197740113, 0.8393785310734463, 0.67909604519774, 0.836045197740113, 0.836045197740113, 0.8225988700564972, 0.8327118644067797, 0.8461581920903954, 0.8293785310734464, 0.8561581920903955, 0.8329378531073447]}, {\"categories\": [\"0\", \"1\", \"2\", \"3\", \"4\", \"5\", \"6\", \"7\", \"8\", \"9\", \"10\", \"11\", \"12\", \"13\", \"14\", \"15\", \"16\", \"17\", \"18\", \"19\", \"20\", \"21\", \"22\", \"23\", \"24\", \"25\", \"26\", \"27\", \"28\", \"29\", \"30\", \"31\", \"32\", \"33\", \"34\", \"35\", \"36\", \"37\", \"38\", \"39\", \"40\", \"41\", \"43\", \"44\"], \"mode\": \"lines\", \"name\": \"recall_score_micro_max\", \"stepped\": true, \"type\": \"scatter\", \"data\": [0.8059887005649717, 0.8259322033898304, 0.8259322033898304, 0.8259322033898304, 0.8259322033898304, 0.8429378531073446, 0.8429378531073446, 0.8528248587570622, 0.8528248587570622, 0.8528248587570622, 0.8528248587570622, 0.8528248587570622, 0.8528248587570622, 0.8528248587570622, 0.8528248587570622, 0.8528248587570622, 0.8528248587570622, 0.8528248587570622, 0.8528248587570622, 0.8528248587570622, 0.8528248587570622, 0.8528248587570622, 0.8528248587570622, 0.8528248587570622, 0.8528248587570622, 0.8528248587570622, 0.8528248587570622, 0.8528248587570622, 0.8528248587570622, 0.8528248587570622, 0.8528248587570622, 0.8528248587570622, 0.8528248587570622, 0.8528248587570622, 0.8528248587570622, 0.8528248587570622, 0.8528248587570622, 0.8528248587570622, 0.8528248587570622, 0.8528248587570622, 0.8528248587570622, 0.8528248587570622, 0.8561581920903955, 0.8561581920903955]}], \"recall_score_macro\": [{\"categories\": [\"0\", \"1\", \"2\", \"3\", \"4\", \"5\", \"6\", \"7\", \"8\", \"9\", \"10\", \"11\", \"12\", \"13\", \"14\", \"15\", \"16\", \"17\", \"18\", \"19\", \"20\", \"21\", \"22\", \"23\", \"24\", \"25\", \"26\", \"27\", \"28\", \"29\", \"30\", \"31\", \"32\", \"33\", \"34\", \"35\", \"36\", \"37\", \"38\", \"39\", \"40\", \"41\", \"43\", \"44\"], \"mode\": \"markers\", \"name\": \"recall_score_macro\", \"stepped\": false, \"type\": \"scatter\", \"data\": [0.7760209025470652, 0.8060125968992248, 0.7952090254706533, 0.7003529900332225, 0.7996477021040975, 0.8095535714285715, 0.7835465116279069, 0.8010416666666667, 0.6828571428571429, 0.6706803709856035, 0.6961226467331117, 0.7612756090808416, 0.7969144518272424, 0.7942095791805094, 0.7948096622369878, 0.5313406699889258, 0.7261863233665559, 0.7477214839424141, 0.8284828349944628, 0.7934952934662236, 0.8064929401993355, 0.7902858527131782, 0.7923899501661129, 0.8082952657807307, 0.8178024640088593, 0.5261821705426357, 0.8021560077519381, 0.5588095238095238, 0.6716666666666666, 0.6995833333333333, 0.8051446566998892, 0.8085804263565892, 0.8096477021040975, 0.8102470930232558, 0.8127512458471762, 0.5, 0.805251245847176, 0.7973345791805094, 0.7891459025470653, 0.8120923311184939, 0.796156561461794, 0.8006042358803986, 0.8151446566998892, 0.8041369047619048]}, {\"categories\": [\"0\", \"1\", \"2\", \"3\", \"4\", \"5\", \"6\", \"7\", \"8\", \"9\", \"10\", \"11\", \"12\", \"13\", \"14\", \"15\", \"16\", \"17\", \"18\", \"19\", \"20\", \"21\", \"22\", \"23\", \"24\", \"25\", \"26\", \"27\", \"28\", \"29\", \"30\", \"31\", \"32\", \"33\", \"34\", \"35\", \"36\", \"37\", \"38\", \"39\", \"40\", \"41\", \"43\", \"44\"], \"mode\": \"lines\", \"name\": \"recall_score_macro_max\", \"stepped\": true, \"type\": \"scatter\", \"data\": [0.7760209025470652, 0.8060125968992248, 0.8060125968992248, 0.8060125968992248, 0.8060125968992248, 0.8095535714285715, 0.8095535714285715, 0.8095535714285715, 0.8095535714285715, 0.8095535714285715, 0.8095535714285715, 0.8095535714285715, 0.8095535714285715, 0.8095535714285715, 0.8095535714285715, 0.8095535714285715, 0.8095535714285715, 0.8095535714285715, 0.8284828349944628, 0.8284828349944628, 0.8284828349944628, 0.8284828349944628, 0.8284828349944628, 0.8284828349944628, 0.8284828349944628, 0.8284828349944628, 0.8284828349944628, 0.8284828349944628, 0.8284828349944628, 0.8284828349944628, 0.8284828349944628, 0.8284828349944628, 0.8284828349944628, 0.8284828349944628, 0.8284828349944628, 0.8284828349944628, 0.8284828349944628, 0.8284828349944628, 0.8284828349944628, 0.8284828349944628, 0.8284828349944628, 0.8284828349944628, 0.8284828349944628, 0.8284828349944628]}], \"AUC_micro\": [{\"categories\": [\"0\", \"1\", \"2\", \"3\", \"4\", \"5\", \"6\", \"7\", \"8\", \"9\", \"10\", \"11\", \"12\", \"13\", \"14\", \"15\", \"16\", \"17\", \"18\", \"19\", \"20\", \"21\", \"22\", \"23\", \"24\", \"25\", \"26\", \"27\", \"28\", \"29\", \"30\", \"31\", \"32\", \"33\", \"34\", \"35\", \"36\", \"37\", \"38\", \"39\", \"40\", \"41\", \"43\", \"44\"], \"mode\": \"markers\", \"name\": \"AUC_micro\", \"stepped\": false, \"type\": \"scatter\", \"data\": [0.8880105014523284, 0.8999905678444892, 0.8975318873886813, 0.8650826869673466, 0.9016800248970602, 0.9069084075457244, 0.9012806904146318, 0.9063015736218839, 0.8600152574292188, 0.8076344600849055, 0.8734768106227456, 0.8830765105812507, 0.9011999744645536, 0.8803186823709662, 0.8874022630789364, 0.6273795684509559, 0.882972517475821, 0.8287260844584889, 0.8981035781544258, 0.9034644418908998, 0.8953319847425707, 0.8537370168214753, 0.8916729068913785, 0.9147939768265824, 0.9145290146509624, 0.6552855182099652, 0.9039164831306458, 0.8222194452424272, 0.8701045197740115, 0.8762298828561397, 0.9063091704171853, 0.904710890867886, 0.9036448817389638, 0.9140299722302021, 0.9101387053528679, 0.7751226020619872, 0.9053633055635354, 0.9052384212710269, 0.9045465862300105, 0.9093381371891859, 0.8811700501133135, 0.9113215231893774, 0.9126035621947717, 0.9037854224520412]}, {\"categories\": [\"0\", \"1\", \"2\", \"3\", \"4\", \"5\", \"6\", \"7\", \"8\", \"9\", \"10\", \"11\", \"12\", \"13\", \"14\", \"15\", \"16\", \"17\", \"18\", \"19\", \"20\", \"21\", \"22\", \"23\", \"24\", \"25\", \"26\", \"27\", \"28\", \"29\", \"30\", \"31\", \"32\", \"33\", \"34\", \"35\", \"36\", \"37\", \"38\", \"39\", \"40\", \"41\", \"43\", \"44\"], \"mode\": \"lines\", \"name\": \"AUC_micro_max\", \"stepped\": true, \"type\": \"scatter\", \"data\": [0.8880105014523284, 0.8999905678444892, 0.8999905678444892, 0.8999905678444892, 0.9016800248970602, 0.9069084075457244, 0.9069084075457244, 0.9069084075457244, 0.9069084075457244, 0.9069084075457244, 0.9069084075457244, 0.9069084075457244, 0.9069084075457244, 0.9069084075457244, 0.9069084075457244, 0.9069084075457244, 0.9069084075457244, 0.9069084075457244, 0.9069084075457244, 0.9069084075457244, 0.9069084075457244, 0.9069084075457244, 0.9069084075457244, 0.9147939768265824, 0.9147939768265824, 0.9147939768265824, 0.9147939768265824, 0.9147939768265824, 0.9147939768265824, 0.9147939768265824, 0.9147939768265824, 0.9147939768265824, 0.9147939768265824, 0.9147939768265824, 0.9147939768265824, 0.9147939768265824, 0.9147939768265824, 0.9147939768265824, 0.9147939768265824, 0.9147939768265824, 0.9147939768265824, 0.9147939768265824, 0.9147939768265824, 0.9147939768265824]}], \"AUC_weighted\": [{\"categories\": [\"0\", \"1\", \"2\", \"3\", \"4\", \"5\", \"6\", \"7\", \"8\", \"9\", \"10\", \"11\", \"12\", \"13\", \"14\", \"15\", \"16\", \"17\", \"18\", \"19\", \"20\", \"21\", \"22\", \"23\", \"24\", \"25\", \"26\", \"27\", \"28\", \"29\", \"30\", \"31\", \"32\", \"33\", \"34\", \"35\", \"36\", \"37\", \"38\", \"39\", \"40\", \"41\", \"43\", \"44\"], \"mode\": \"markers\", \"name\": \"AUC_weighted\", \"stepped\": false, \"type\": \"scatter\", \"data\": [0.8811331210778885, 0.8929591177556293, 0.8866443798449613, 0.8749004245108896, 0.8940593161683278, 0.9025572628276116, 0.8869334412207269, 0.8939126061277225, 0.8568884274640087, 0.7514726836471023, 0.8781795404208195, 0.8800356912144702, 0.9063185677371723, 0.8712474621631598, 0.875373777224068, 0.48227655500184563, 0.9019742755629382, 0.8137447166851237, 0.8953948874123293, 0.9071683739387228, 0.8849398417312662, 0.8556342746400887, 0.8754885335917313, 0.9063731543004799, 0.9122790697674418, 0.45647435631229233, 0.8943670634920634, 0.8361386120339607, 0.8771838086009598, 0.8916456949058693, 0.9067699104835732, 0.9033997093023256, 0.9016203165374677, 0.9110179955703211, 0.9039128829826504, 0.7302379798818753, 0.8985436277224069, 0.9018223975636767, 0.8979237726098193, 0.901500092284976, 0.8734253875968992, 0.9091110418973789, 0.922343784606866, 0.9035121354743447]}, {\"categories\": [\"0\", \"1\", \"2\", \"3\", \"4\", \"5\", \"6\", \"7\", \"8\", \"9\", \"10\", \"11\", \"12\", \"13\", \"14\", \"15\", \"16\", \"17\", \"18\", \"19\", \"20\", \"21\", \"22\", \"23\", \"24\", \"25\", \"26\", \"27\", \"28\", \"29\", \"30\", \"31\", \"32\", \"33\", \"34\", \"35\", \"36\", \"37\", \"38\", \"39\", \"40\", \"41\", \"43\", \"44\"], \"mode\": \"lines\", \"name\": \"AUC_weighted_max\", \"stepped\": true, \"type\": \"scatter\", \"data\": [0.8811331210778885, 0.8929591177556293, 0.8929591177556293, 0.8929591177556293, 0.8940593161683278, 0.9025572628276116, 0.9025572628276116, 0.9025572628276116, 0.9025572628276116, 0.9025572628276116, 0.9025572628276116, 0.9025572628276116, 0.9063185677371723, 0.9063185677371723, 0.9063185677371723, 0.9063185677371723, 0.9063185677371723, 0.9063185677371723, 0.9063185677371723, 0.9071683739387228, 0.9071683739387228, 0.9071683739387228, 0.9071683739387228, 0.9071683739387228, 0.9122790697674418, 0.9122790697674418, 0.9122790697674418, 0.9122790697674418, 0.9122790697674418, 0.9122790697674418, 0.9122790697674418, 0.9122790697674418, 0.9122790697674418, 0.9122790697674418, 0.9122790697674418, 0.9122790697674418, 0.9122790697674418, 0.9122790697674418, 0.9122790697674418, 0.9122790697674418, 0.9122790697674418, 0.9122790697674418, 0.922343784606866, 0.922343784606866]}], \"norm_macro_recall\": [{\"categories\": [\"0\", \"1\", \"2\", \"3\", \"4\", \"5\", \"6\", \"7\", \"8\", \"9\", \"10\", \"11\", \"12\", \"13\", \"14\", \"15\", \"16\", \"17\", \"18\", \"19\", \"20\", \"21\", \"22\", \"23\", \"24\", \"25\", \"26\", \"27\", \"28\", \"29\", \"30\", \"31\", \"32\", \"33\", \"34\", \"35\", \"36\", \"37\", \"38\", \"39\", \"40\", \"41\", \"43\", \"44\"], \"mode\": \"markers\", \"name\": \"norm_macro_recall\", \"stepped\": false, \"type\": \"scatter\", \"data\": [0.5520418050941306, 0.6120251937984496, 0.5904180509413067, 0.4007059800664452, 0.5992954042081949, 0.6191071428571429, 0.5670930232558138, 0.6020833333333333, 0.3657142857142857, 0.34136074197120714, 0.3922452934662236, 0.5225512181616832, 0.593828903654485, 0.5884191583610188, 0.5896193244739757, 0.07768133997785158, 0.45237264673311184, 0.49544296788482833, 0.6569656699889259, 0.5869905869324474, 0.6129858803986711, 0.5805717054263566, 0.5847799003322258, 0.6165905315614617, 0.6356049280177187, 0.062364341085271356, 0.6043120155038759, 0.11761904761904765, 0.34333333333333327, 0.39916666666666667, 0.6102893133997785, 0.6171608527131782, 0.6192954042081948, 0.6204941860465116, 0.6255024916943521, 0.0, 0.6105024916943522, 0.5946691583610189, 0.5782918050941307, 0.6241846622369879, 0.5923131229235881, 0.6012084717607973, 0.6302893133997787, 0.6082738095238096]}, {\"categories\": [\"0\", \"1\", \"2\", \"3\", \"4\", \"5\", \"6\", \"7\", \"8\", \"9\", \"10\", \"11\", \"12\", \"13\", \"14\", \"15\", \"16\", \"17\", \"18\", \"19\", \"20\", \"21\", \"22\", \"23\", \"24\", \"25\", \"26\", \"27\", \"28\", \"29\", \"30\", \"31\", \"32\", \"33\", \"34\", \"35\", \"36\", \"37\", \"38\", \"39\", \"40\", \"41\", \"43\", \"44\"], \"mode\": \"lines\", \"name\": \"norm_macro_recall_max\", \"stepped\": true, \"type\": \"scatter\", \"data\": [0.5520418050941306, 0.6120251937984496, 0.6120251937984496, 0.6120251937984496, 0.6120251937984496, 0.6191071428571429, 0.6191071428571429, 0.6191071428571429, 0.6191071428571429, 0.6191071428571429, 0.6191071428571429, 0.6191071428571429, 0.6191071428571429, 0.6191071428571429, 0.6191071428571429, 0.6191071428571429, 0.6191071428571429, 0.6191071428571429, 0.6569656699889259, 0.6569656699889259, 0.6569656699889259, 0.6569656699889259, 0.6569656699889259, 0.6569656699889259, 0.6569656699889259, 0.6569656699889259, 0.6569656699889259, 0.6569656699889259, 0.6569656699889259, 0.6569656699889259, 0.6569656699889259, 0.6569656699889259, 0.6569656699889259, 0.6569656699889259, 0.6569656699889259, 0.6569656699889259, 0.6569656699889259, 0.6569656699889259, 0.6569656699889259, 0.6569656699889259, 0.6569656699889259, 0.6569656699889259, 0.6569656699889259, 0.6569656699889259]}], \"log_loss\": [{\"categories\": [\"0\", \"1\", \"2\", \"3\", \"4\", \"5\", \"6\", \"7\", \"8\", \"9\", \"10\", \"11\", \"12\", \"13\", \"14\", \"15\", \"16\", \"17\", \"18\", \"19\", \"20\", \"21\", \"22\", \"23\", \"24\", \"25\", \"26\", \"27\", \"28\", \"29\", \"30\", \"31\", \"32\", \"33\", \"34\", \"35\", \"36\", \"37\", \"38\", \"39\", \"40\", \"41\", \"43\", \"44\"], \"mode\": \"markers\", \"name\": \"log_loss\", \"stepped\": false, \"type\": \"scatter\", \"data\": [0.5282491261622873, 0.43217688137359717, 0.40997893153203985, 0.480235690539111, 0.4084733549376899, 0.4049268602633919, 0.4970452228866752, 0.4067958253567321, 0.4878089743849823, 1.292911173952953, 0.4844727078525013, 0.4623926776761379, 0.4240938273487253, 0.42682510295603143, 0.46182280188373637, 0.8093375881662283, 0.4733925854145367, 0.6388599403506037, 0.5265995483316289, 0.4840841195277533, 0.39779980300090223, 0.5131754565337269, 0.4836617938978116, 0.4015134885192529, 0.39267698448671484, 0.6864479130767581, 0.4231432237721659, 0.5556798155280688, 0.47494271628629675, 0.4875601161515622, 0.4180295634001496, 0.4107023317269777, 0.5056321998522333, 0.39182422837988024, 0.38014112946324496, 0.629889525943139, 0.3899201413464256, 0.4127910820701167, 0.3943333743577166, 0.38332599098233516, 0.456852627065963, 0.390867435119119, 0.44588356304188925, 0.4216967587156272]}, {\"categories\": [\"0\", \"1\", \"2\", \"3\", \"4\", \"5\", \"6\", \"7\", \"8\", \"9\", \"10\", \"11\", \"12\", \"13\", \"14\", \"15\", \"16\", \"17\", \"18\", \"19\", \"20\", \"21\", \"22\", \"23\", \"24\", \"25\", \"26\", \"27\", \"28\", \"29\", \"30\", \"31\", \"32\", \"33\", \"34\", \"35\", \"36\", \"37\", \"38\", \"39\", \"40\", \"41\", \"43\", \"44\"], \"mode\": \"lines\", \"name\": \"log_loss_min\", \"stepped\": true, \"type\": \"scatter\", \"data\": [0.5282491261622873, 0.43217688137359717, 0.40997893153203985, 0.40997893153203985, 0.4084733549376899, 0.4049268602633919, 0.4049268602633919, 0.4049268602633919, 0.4049268602633919, 0.4049268602633919, 0.4049268602633919, 0.4049268602633919, 0.4049268602633919, 0.4049268602633919, 0.4049268602633919, 0.4049268602633919, 0.4049268602633919, 0.4049268602633919, 0.4049268602633919, 0.4049268602633919, 0.39779980300090223, 0.39779980300090223, 0.39779980300090223, 0.39779980300090223, 0.39267698448671484, 0.39267698448671484, 0.39267698448671484, 0.39267698448671484, 0.39267698448671484, 0.39267698448671484, 0.39267698448671484, 0.39267698448671484, 0.39267698448671484, 0.39182422837988024, 0.38014112946324496, 0.38014112946324496, 0.38014112946324496, 0.38014112946324496, 0.38014112946324496, 0.38014112946324496, 0.38014112946324496, 0.38014112946324496, 0.38014112946324496, 0.38014112946324496]}], \"balanced_accuracy\": [{\"categories\": [\"0\", \"1\", \"2\", \"3\", \"4\", \"5\", \"6\", \"7\", \"8\", \"9\", \"10\", \"11\", \"12\", \"13\", \"14\", \"15\", \"16\", \"17\", \"18\", \"19\", \"20\", \"21\", \"22\", \"23\", \"24\", \"25\", \"26\", \"27\", \"28\", \"29\", \"30\", \"31\", \"32\", \"33\", \"34\", \"35\", \"36\", \"37\", \"38\", \"39\", \"40\", \"41\", \"43\", \"44\"], \"mode\": \"markers\", \"name\": \"balanced_accuracy\", \"stepped\": false, \"type\": \"scatter\", \"data\": [0.7760209025470652, 0.8060125968992248, 0.7952090254706533, 0.7003529900332225, 0.7996477021040975, 0.8095535714285715, 0.7835465116279069, 0.8010416666666667, 0.6828571428571429, 0.6706803709856035, 0.6961226467331117, 0.7612756090808416, 0.7969144518272424, 0.7942095791805094, 0.7948096622369878, 0.5313406699889258, 0.7261863233665559, 0.7477214839424141, 0.8284828349944628, 0.7934952934662236, 0.8064929401993355, 0.7902858527131782, 0.7923899501661129, 0.8082952657807307, 0.8178024640088593, 0.5261821705426357, 0.8021560077519381, 0.5588095238095238, 0.6716666666666666, 0.6995833333333333, 0.8051446566998892, 0.8085804263565892, 0.8096477021040975, 0.8102470930232558, 0.8127512458471762, 0.5, 0.805251245847176, 0.7973345791805094, 0.7891459025470653, 0.8120923311184939, 0.796156561461794, 0.8006042358803986, 0.8151446566998892, 0.8041369047619048]}, {\"categories\": [\"0\", \"1\", \"2\", \"3\", \"4\", \"5\", \"6\", \"7\", \"8\", \"9\", \"10\", \"11\", \"12\", \"13\", \"14\", \"15\", \"16\", \"17\", \"18\", \"19\", \"20\", \"21\", \"22\", \"23\", \"24\", \"25\", \"26\", \"27\", \"28\", \"29\", \"30\", \"31\", \"32\", \"33\", \"34\", \"35\", \"36\", \"37\", \"38\", \"39\", \"40\", \"41\", \"43\", \"44\"], \"mode\": \"lines\", \"name\": \"balanced_accuracy_max\", \"stepped\": true, \"type\": \"scatter\", \"data\": [0.7760209025470652, 0.8060125968992248, 0.8060125968992248, 0.8060125968992248, 0.8060125968992248, 0.8095535714285715, 0.8095535714285715, 0.8095535714285715, 0.8095535714285715, 0.8095535714285715, 0.8095535714285715, 0.8095535714285715, 0.8095535714285715, 0.8095535714285715, 0.8095535714285715, 0.8095535714285715, 0.8095535714285715, 0.8095535714285715, 0.8284828349944628, 0.8284828349944628, 0.8284828349944628, 0.8284828349944628, 0.8284828349944628, 0.8284828349944628, 0.8284828349944628, 0.8284828349944628, 0.8284828349944628, 0.8284828349944628, 0.8284828349944628, 0.8284828349944628, 0.8284828349944628, 0.8284828349944628, 0.8284828349944628, 0.8284828349944628, 0.8284828349944628, 0.8284828349944628, 0.8284828349944628, 0.8284828349944628, 0.8284828349944628, 0.8284828349944628, 0.8284828349944628, 0.8284828349944628, 0.8284828349944628, 0.8284828349944628]}], \"recall_score_weighted\": [{\"categories\": [\"0\", \"1\", \"2\", \"3\", \"4\", \"5\", \"6\", \"7\", \"8\", \"9\", \"10\", \"11\", \"12\", \"13\", \"14\", \"15\", \"16\", \"17\", \"18\", \"19\", \"20\", \"21\", \"22\", \"23\", \"24\", \"25\", \"26\", \"27\", \"28\", \"29\", \"30\", \"31\", \"32\", \"33\", \"34\", \"35\", \"36\", \"37\", \"38\", \"39\", \"40\", \"41\", \"43\", \"44\"], \"mode\": \"markers\", \"name\": \"recall_score_weighted\", \"stepped\": false, \"type\": \"scatter\", \"data\": [0.8059887005649717, 0.8259322033898304, 0.8192655367231637, 0.7793785310734462, 0.8192655367231637, 0.8429378531073446, 0.8125988700564972, 0.8528248587570622, 0.7661016949152543, 0.7593220338983051, 0.7925423728813559, 0.8194350282485875, 0.7890395480225989, 0.8227118644067797, 0.8092090395480225, 0.6153107344632769, 0.7994350282485875, 0.7694350282485876, 0.8326553672316385, 0.822768361581921, 0.8325423728813559, 0.7925423728813559, 0.8293220338983052, 0.8461581920903954, 0.8327118644067797, 0.6724293785310734, 0.8260451977401129, 0.7125423728813558, 0.7727118644067796, 0.7861016949152542, 0.8494915254237287, 0.8359887005649718, 0.8325988700564972, 0.836045197740113, 0.8393785310734463, 0.67909604519774, 0.836045197740113, 0.836045197740113, 0.8225988700564972, 0.8327118644067797, 0.8461581920903954, 0.8293785310734464, 0.8561581920903955, 0.8329378531073447]}, {\"categories\": [\"0\", \"1\", \"2\", \"3\", \"4\", \"5\", \"6\", \"7\", \"8\", \"9\", \"10\", \"11\", \"12\", \"13\", \"14\", \"15\", \"16\", \"17\", \"18\", \"19\", \"20\", \"21\", \"22\", \"23\", \"24\", \"25\", \"26\", \"27\", \"28\", \"29\", \"30\", \"31\", \"32\", \"33\", \"34\", \"35\", \"36\", \"37\", \"38\", \"39\", \"40\", \"41\", \"43\", \"44\"], \"mode\": \"lines\", \"name\": \"recall_score_weighted_max\", \"stepped\": true, \"type\": \"scatter\", \"data\": [0.8059887005649717, 0.8259322033898304, 0.8259322033898304, 0.8259322033898304, 0.8259322033898304, 0.8429378531073446, 0.8429378531073446, 0.8528248587570622, 0.8528248587570622, 0.8528248587570622, 0.8528248587570622, 0.8528248587570622, 0.8528248587570622, 0.8528248587570622, 0.8528248587570622, 0.8528248587570622, 0.8528248587570622, 0.8528248587570622, 0.8528248587570622, 0.8528248587570622, 0.8528248587570622, 0.8528248587570622, 0.8528248587570622, 0.8528248587570622, 0.8528248587570622, 0.8528248587570622, 0.8528248587570622, 0.8528248587570622, 0.8528248587570622, 0.8528248587570622, 0.8528248587570622, 0.8528248587570622, 0.8528248587570622, 0.8528248587570622, 0.8528248587570622, 0.8528248587570622, 0.8528248587570622, 0.8528248587570622, 0.8528248587570622, 0.8528248587570622, 0.8528248587570622, 0.8528248587570622, 0.8561581920903955, 0.8561581920903955]}], \"f1_score_micro\": [{\"categories\": [\"0\", \"1\", \"2\", \"3\", \"4\", \"5\", \"6\", \"7\", \"8\", \"9\", \"10\", \"11\", \"12\", \"13\", \"14\", \"15\", \"16\", \"17\", \"18\", \"19\", \"20\", \"21\", \"22\", \"23\", \"24\", \"25\", \"26\", \"27\", \"28\", \"29\", \"30\", \"31\", \"32\", \"33\", \"34\", \"35\", \"36\", \"37\", \"38\", \"39\", \"40\", \"41\", \"43\", \"44\"], \"mode\": \"markers\", \"name\": \"f1_score_micro\", \"stepped\": false, \"type\": \"scatter\", \"data\": [0.8059887005649718, 0.8259322033898304, 0.8192655367231639, 0.7793785310734462, 0.8192655367231639, 0.8429378531073446, 0.8125988700564972, 0.8528248587570622, 0.7661016949152543, 0.7593220338983051, 0.7925423728813559, 0.8194350282485875, 0.7890395480225989, 0.8227118644067797, 0.8092090395480227, 0.6153107344632769, 0.7994350282485876, 0.7694350282485876, 0.8326553672316385, 0.822768361581921, 0.8325423728813559, 0.7925423728813559, 0.8293220338983052, 0.8461581920903954, 0.8327118644067799, 0.6724293785310734, 0.8260451977401131, 0.7125423728813558, 0.7727118644067796, 0.7861016949152542, 0.8494915254237287, 0.8359887005649718, 0.8325988700564972, 0.836045197740113, 0.8393785310734463, 0.67909604519774, 0.836045197740113, 0.836045197740113, 0.8225988700564972, 0.8327118644067797, 0.8461581920903954, 0.8293785310734464, 0.8561581920903955, 0.8329378531073447]}, {\"categories\": [\"0\", \"1\", \"2\", \"3\", \"4\", \"5\", \"6\", \"7\", \"8\", \"9\", \"10\", \"11\", \"12\", \"13\", \"14\", \"15\", \"16\", \"17\", \"18\", \"19\", \"20\", \"21\", \"22\", \"23\", \"24\", \"25\", \"26\", \"27\", \"28\", \"29\", \"30\", \"31\", \"32\", \"33\", \"34\", \"35\", \"36\", \"37\", \"38\", \"39\", \"40\", \"41\", \"43\", \"44\"], \"mode\": \"lines\", \"name\": \"f1_score_micro_max\", \"stepped\": true, \"type\": \"scatter\", \"data\": [0.8059887005649718, 0.8259322033898304, 0.8259322033898304, 0.8259322033898304, 0.8259322033898304, 0.8429378531073446, 0.8429378531073446, 0.8528248587570622, 0.8528248587570622, 0.8528248587570622, 0.8528248587570622, 0.8528248587570622, 0.8528248587570622, 0.8528248587570622, 0.8528248587570622, 0.8528248587570622, 0.8528248587570622, 0.8528248587570622, 0.8528248587570622, 0.8528248587570622, 0.8528248587570622, 0.8528248587570622, 0.8528248587570622, 0.8528248587570622, 0.8528248587570622, 0.8528248587570622, 0.8528248587570622, 0.8528248587570622, 0.8528248587570622, 0.8528248587570622, 0.8528248587570622, 0.8528248587570622, 0.8528248587570622, 0.8528248587570622, 0.8528248587570622, 0.8528248587570622, 0.8528248587570622, 0.8528248587570622, 0.8528248587570622, 0.8528248587570622, 0.8528248587570622, 0.8528248587570622, 0.8561581920903955, 0.8561581920903955]}]}, \"metricName\": null, \"primaryMetricName\": \"AUC_weighted\", \"showLegend\": false}, \"run_metrics\": [{\"name\": \"experiment_status\", \"run_id\": \"AutoML_e500a9dd-6430-47c6-afdf-76f59ad1bbd2\", \"categories\": [0, 1, 2, 3, 4, 5, 6, 7, 8, 9, 10, 11, 12, 13], \"series\": [{\"data\": [\"DatasetEvaluation\", \"FeaturesGeneration\", \"DatasetFeaturization\", \"DatasetFeaturizationCompleted\", \"DatasetCrossValidationSplit\", \"ModelSelection\", \"BestRunExplainModel\", \"ModelExplanationDataSetSetup\", \"PickSurrogateModel\", \"EngineeredFeatureExplanations\", \"EngineeredFeatureExplanations\", \"RawFeaturesExplanations\", \"RawFeaturesExplanations\", \"BestRunExplainModel\"]}]}, {\"name\": \"experiment_status_description\", \"run_id\": \"AutoML_e500a9dd-6430-47c6-afdf-76f59ad1bbd2\", \"categories\": [0, 1, 2, 3, 4, 5, 6, 7, 8, 9, 10, 11, 12, 13], \"series\": [{\"data\": [\"Gathering dataset statistics.\", \"Generating features for the dataset.\", \"Beginning to fit featurizers and featurize the dataset.\", \"Completed fit featurizers and featurizing the dataset.\", \"Generating individually featurized CV splits.\", \"Beginning model selection.\", \"Best run model explanations started\", \"Model explanations data setup completed\", \"Choosing LightGBM as the surrogate model for explanations\", \"Computation of engineered features started\", \"Computation of engineered features completed\", \"Computation of raw features started\", \"Computation of raw features completed\", \"Best run model explanations completed\"]}]}, {\"name\": \"f1_score_weighted\", \"run_id\": \"AutoML_e500a9dd-6430-47c6-afdf-76f59ad1bbd2\", \"categories\": [0], \"series\": [{\"data\": [0.8486501965947358]}]}, {\"name\": \"f1_score_micro\", \"run_id\": \"AutoML_e500a9dd-6430-47c6-afdf-76f59ad1bbd2\", \"categories\": [0], \"series\": [{\"data\": [0.8561581920903955]}]}, {\"name\": \"precision_score_weighted\", \"run_id\": \"AutoML_e500a9dd-6430-47c6-afdf-76f59ad1bbd2\", \"categories\": [0], \"series\": [{\"data\": [0.8690965052851567]}]}, {\"name\": \"log_loss\", \"run_id\": \"AutoML_e500a9dd-6430-47c6-afdf-76f59ad1bbd2\", \"categories\": [0], \"series\": [{\"data\": [0.44588356304188925]}]}, {\"name\": \"precision_score_micro\", \"run_id\": \"AutoML_e500a9dd-6430-47c6-afdf-76f59ad1bbd2\", \"categories\": [0], \"series\": [{\"data\": [0.8561581920903955]}]}, {\"name\": \"recall_score_macro\", \"run_id\": \"AutoML_e500a9dd-6430-47c6-afdf-76f59ad1bbd2\", \"categories\": [0], \"series\": [{\"data\": [0.8151446566998892]}]}, {\"name\": \"norm_macro_recall\", \"run_id\": \"AutoML_e500a9dd-6430-47c6-afdf-76f59ad1bbd2\", \"categories\": [0], \"series\": [{\"data\": [0.6302893133997787]}]}, {\"name\": \"recall_score_weighted\", \"run_id\": \"AutoML_e500a9dd-6430-47c6-afdf-76f59ad1bbd2\", \"categories\": [0], \"series\": [{\"data\": [0.8561581920903955]}]}, {\"name\": \"accuracy\", \"run_id\": \"AutoML_e500a9dd-6430-47c6-afdf-76f59ad1bbd2\", \"categories\": [0], \"series\": [{\"data\": [0.8561581920903955]}]}, {\"name\": \"average_precision_score_weighted\", \"run_id\": \"AutoML_e500a9dd-6430-47c6-afdf-76f59ad1bbd2\", \"categories\": [0], \"series\": [{\"data\": [0.9318146781982012]}]}, {\"name\": \"average_precision_score_micro\", \"run_id\": \"AutoML_e500a9dd-6430-47c6-afdf-76f59ad1bbd2\", \"categories\": [0], \"series\": [{\"data\": [0.9167353541059207]}]}, {\"name\": \"AUC_macro\", \"run_id\": \"AutoML_e500a9dd-6430-47c6-afdf-76f59ad1bbd2\", \"categories\": [0], \"series\": [{\"data\": [0.922343784606866]}]}, {\"name\": \"balanced_accuracy\", \"run_id\": \"AutoML_e500a9dd-6430-47c6-afdf-76f59ad1bbd2\", \"categories\": [0], \"series\": [{\"data\": [0.8151446566998892]}]}, {\"name\": \"recall_score_micro\", \"run_id\": \"AutoML_e500a9dd-6430-47c6-afdf-76f59ad1bbd2\", \"categories\": [0], \"series\": [{\"data\": [0.8561581920903955]}]}, {\"name\": \"precision_score_macro\", \"run_id\": \"AutoML_e500a9dd-6430-47c6-afdf-76f59ad1bbd2\", \"categories\": [0], \"series\": [{\"data\": [0.8616690821256039]}]}, {\"name\": \"AUC_weighted\", \"run_id\": \"AutoML_e500a9dd-6430-47c6-afdf-76f59ad1bbd2\", \"categories\": [0], \"series\": [{\"data\": [0.922343784606866]}]}, {\"name\": \"f1_score_macro\", \"run_id\": \"AutoML_e500a9dd-6430-47c6-afdf-76f59ad1bbd2\", \"categories\": [0], \"series\": [{\"data\": [0.8217746418488272]}]}, {\"name\": \"average_precision_score_macro\", \"run_id\": \"AutoML_e500a9dd-6430-47c6-afdf-76f59ad1bbd2\", \"categories\": [0], \"series\": [{\"data\": [0.9097831179883465]}]}, {\"name\": \"matthews_correlation\", \"run_id\": \"AutoML_e500a9dd-6430-47c6-afdf-76f59ad1bbd2\", \"categories\": [0], \"series\": [{\"data\": [0.6726900611432679]}]}, {\"name\": \"weighted_accuracy\", \"run_id\": \"AutoML_e500a9dd-6430-47c6-afdf-76f59ad1bbd2\", \"categories\": [0], \"series\": [{\"data\": [0.8839490475525127]}]}, {\"name\": \"AUC_micro\", \"run_id\": \"AutoML_e500a9dd-6430-47c6-afdf-76f59ad1bbd2\", \"categories\": [0], \"series\": [{\"data\": [0.9126035621947717]}]}], \"run_logs\": \"\\nRun is completed.\", \"graph\": {}, \"widget_settings\": {\"childWidgetDisplay\": \"popup\", \"send_telemetry\": false, \"log_level\": \"INFO\", \"sdk_version\": \"1.19.0\"}, \"loading\": false}"
          },
          "metadata": {}
        }
      ],
      "execution_count": 10,
      "metadata": {
        "gather": {
          "logged": 1598431121770
        },
        "jupyter": {
          "outputs_hidden": false,
          "source_hidden": false
        },
        "nteract": {
          "transient": {
            "deleting": false
          }
        }
      }
    },
    {
      "cell_type": "code",
      "source": [
        "remote_run.wait_for_completion(show_output=True)"
      ],
      "outputs": [
        {
          "output_type": "stream",
          "name": "stdout",
          "text": [
            "\n",
            "\n",
            "****************************************************************************************************\n",
            "DATA GUARDRAILS: \n",
            "\n",
            "TYPE:         Class balancing detection\n",
            "STATUS:       PASSED\n",
            "DESCRIPTION:  Your inputs were analyzed, and all classes are balanced in your training data.\n",
            "              Learn more about imbalanced data: https://aka.ms/AutomatedMLImbalancedData\n",
            "\n",
            "****************************************************************************************************\n",
            "\n",
            "TYPE:         Missing feature values imputation\n",
            "STATUS:       PASSED\n",
            "DESCRIPTION:  No feature missing values were detected in the training data.\n",
            "              Learn more about missing value imputation: https://aka.ms/AutomatedMLFeaturization\n",
            "\n",
            "****************************************************************************************************\n",
            "\n",
            "TYPE:         High cardinality feature detection\n",
            "STATUS:       PASSED\n",
            "DESCRIPTION:  Your inputs were analyzed, and no high cardinality features were detected.\n",
            "              Learn more about high cardinality feature handling: https://aka.ms/AutomatedMLFeaturization\n",
            "\n",
            "****************************************************************************************************\n",
            "\n",
            "****************************************************************************************************\n",
            "ITERATION: The iteration being evaluated.\n",
            "PIPELINE: A summary description of the pipeline being evaluated.\n",
            "DURATION: Time taken for the current iteration.\n",
            "METRIC: The result of computing score on the fitted pipeline.\n",
            "BEST: The best observed score thus far.\n",
            "****************************************************************************************************\n",
            "\n",
            " ITERATION   PIPELINE                                       DURATION      METRIC      BEST\n",
            "         0   MaxAbsScaler LightGBM                          0:00:39       0.8811    0.8811\n",
            "         1   MaxAbsScaler XGBoostClassifier                 0:00:52       0.8930    0.8930\n",
            "         2   MinMaxScaler RandomForest                      0:03:44       0.8866    0.8930\n",
            "         3   RobustScaler ExtremeRandomTrees                0:00:52       0.8749    0.8930\n",
            "         4   MinMaxScaler RandomForest                      0:00:43       0.8941    0.8941\n",
            "         5   MinMaxScaler RandomForest                      0:03:26       0.9026    0.9026\n",
            "         6   StandardScalerWrapper RandomForest             0:03:12       0.8869    0.9026\n",
            "         7   MinMaxScaler ExtremeRandomTrees                0:00:50       0.8939    0.9026\n",
            "         8   MinMaxScaler ExtremeRandomTrees                0:00:50       0.8569    0.9026\n",
            "         9   SparseNormalizer KNN                           0:00:48       0.7515    0.9026\n",
            "        10   MinMaxScaler ExtremeRandomTrees                0:00:52       0.8782    0.9026\n",
            "        11   RobustScaler ExtremeRandomTrees                0:00:40       0.8800    0.9026\n",
            "        12   StandardScalerWrapper RandomForest             0:00:46       0.9063    0.9063\n",
            "        13   StandardScalerWrapper SGD                      0:00:44       0.8712    0.9063\n",
            "        14   RobustScaler RandomForest                      0:00:47       0.8754    0.9063\n",
            "        15   StandardScalerWrapper KNN                      0:00:41       0.4823    0.9063\n",
            "        16   MinMaxScaler RandomForest                      0:00:46       0.9020    0.9063\n",
            "        17   MinMaxScaler ExtremeRandomTrees                0:00:37       0.8137    0.9063\n",
            "        18   MaxAbsScaler RandomForest                      0:00:47       0.8954    0.9063\n",
            "        19   StandardScalerWrapper XGBoostClassifier        0:00:43       0.9072    0.9072\n",
            "        20   MaxAbsScaler RandomForest                      0:00:43       0.8849    0.9072\n",
            "        21   MaxAbsScaler ExtremeRandomTrees                0:00:40       0.8556    0.9072\n",
            "        22   MaxAbsScaler ExtremeRandomTrees                0:00:51       0.8755    0.9072\n",
            "        23   MinMaxScaler RandomForest                      0:00:40       0.9064    0.9072\n",
            "        24   MinMaxScaler ExtremeRandomTrees                0:00:42       0.9123    0.9123\n",
            "        25   PCA XGBoostClassifier                          0:00:42       0.4565    0.9123\n",
            "        26   MaxAbsScaler ExtremeRandomTrees                0:00:48       0.8944    0.9123\n",
            "        27   StandardScalerWrapper LightGBM                 0:00:36       0.8361    0.9123\n",
            "        28   StandardScalerWrapper LightGBM                 0:00:37       0.8772    0.9123\n",
            "        29   RobustScaler LightGBM                          0:00:48       0.8916    0.9123\n",
            "        30   StandardScalerWrapper ExtremeRandomTrees       0:00:50       0.9068    0.9123\n",
            "        31   StandardScalerWrapper XGBoostClassifier        0:00:42       0.9034    0.9123\n",
            "        32   StandardScalerWrapper XGBoostClassifier        0:00:47       0.9016    0.9123\n",
            "        33   StandardScalerWrapper XGBoostClassifier        0:00:48       0.9110    0.9123\n",
            "        34   StandardScalerWrapper XGBoostClassifier        0:00:46       0.9039    0.9123\n",
            "        35   StandardScalerWrapper ExtremeRandomTrees       0:00:41       0.7302    0.9123\n",
            "        36   StandardScalerWrapper LightGBM                 0:00:39       0.8985    0.9123\n",
            "        37   StandardScalerWrapper XGBoostClassifier        0:00:44       0.9018    0.9123\n",
            "        38   RobustScaler GradientBoosting                  0:00:46       0.8979    0.9123\n",
            "        39   StandardScalerWrapper LightGBM                 0:00:43       0.9015    0.9123\n",
            "        40   StandardScalerWrapper ExtremeRandomTrees       0:00:32       0.8734    0.9123\n",
            "        41   StandardScalerWrapper XGBoostClassifier        0:00:29       0.9091    0.9123\n",
            "        42                                                  0:00:32          nan    0.9123\n",
            "        43    VotingEnsemble                                0:01:40       0.9223    0.9223\n",
            "        44    StackEnsemble                                 0:01:42       0.9035    0.9223\n"
          ]
        },
        {
          "output_type": "execute_result",
          "execution_count": 11,
          "data": {
            "text/plain": "{'runId': 'AutoML_e500a9dd-6430-47c6-afdf-76f59ad1bbd2',\n 'target': 'cpu-cluster',\n 'status': 'Completed',\n 'startTimeUtc': '2020-12-31T10:58:37.0875Z',\n 'endTimeUtc': '2020-12-31T11:20:29.470548Z',\n 'properties': {'num_iterations': '1000',\n  'training_type': 'TrainFull',\n  'acquisition_function': 'EI',\n  'primary_metric': 'AUC_weighted',\n  'train_split': '0',\n  'acquisition_parameter': '0',\n  'num_cross_validation': '5',\n  'target': 'cpu-cluster',\n  'AMLSettingsJsonString': '{\"path\":null,\"name\":\"capstone-heart-failure-exp\",\"subscription_id\":\"61c5c3f0-6dc7-4ed9-a7f3-c704b20e3b30\",\"resource_group\":\"aml-quickstarts-132623\",\"workspace_name\":\"quick-starts-ws-132623\",\"region\":\"southcentralus\",\"compute_target\":\"cpu-cluster\",\"spark_service\":null,\"azure_service\":\"remote\",\"many_models\":false,\"pipeline_fetch_max_batch_size\":1,\"iterations\":1000,\"primary_metric\":\"AUC_weighted\",\"task_type\":\"classification\",\"data_script\":null,\"validation_size\":0.0,\"n_cross_validations\":5,\"y_min\":null,\"y_max\":null,\"num_classes\":null,\"featurization\":\"auto\",\"_ignore_package_version_incompatibilities\":false,\"is_timeseries\":false,\"max_cores_per_iteration\":1,\"max_concurrent_iterations\":5,\"iteration_timeout_minutes\":null,\"mem_in_mb\":null,\"enforce_time_on_windows\":false,\"experiment_timeout_minutes\":30,\"experiment_exit_score\":null,\"whitelist_models\":null,\"blacklist_algos\":[\"TensorFlowLinearClassifier\",\"TensorFlowDNN\"],\"supported_models\":[\"LinearSVM\",\"RandomForest\",\"LightGBM\",\"LogisticRegression\",\"SGD\",\"KNN\",\"XGBoostClassifier\",\"GradientBoosting\",\"BernoulliNaiveBayes\",\"TensorFlowLinearClassifier\",\"TensorFlowDNN\",\"ExtremeRandomTrees\",\"SVM\",\"DecisionTree\",\"AveragedPerceptronClassifier\",\"MultinomialNaiveBayes\"],\"auto_blacklist\":true,\"blacklist_samples_reached\":false,\"exclude_nan_labels\":true,\"verbosity\":20,\"_debug_log\":\"azureml_automl.log\",\"show_warnings\":false,\"model_explainability\":true,\"service_url\":null,\"sdk_url\":null,\"sdk_packages\":null,\"enable_onnx_compatible_models\":false,\"enable_split_onnx_featurizer_estimator_models\":false,\"vm_type\":\"STANDARD_D2_V2\",\"telemetry_verbosity\":20,\"send_telemetry\":true,\"enable_dnn\":false,\"scenario\":\"SDK-1.13.0\",\"environment_label\":null,\"force_text_dnn\":false,\"enable_feature_sweeping\":true,\"enable_early_stopping\":true,\"early_stopping_n_iters\":10,\"metrics\":null,\"enable_ensembling\":true,\"enable_stack_ensembling\":true,\"ensemble_iterations\":15,\"enable_tf\":false,\"enable_subsampling\":null,\"subsample_seed\":null,\"enable_nimbusml\":false,\"enable_streaming\":false,\"force_streaming\":false,\"track_child_runs\":true,\"allowed_private_models\":[],\"label_column_name\":\"DEATH_EVENT\",\"weight_column_name\":null,\"cv_split_column_names\":null,\"enable_local_managed\":false,\"_local_managed_run_id\":null,\"cost_mode\":1,\"lag_length\":0,\"metric_operation\":\"maximize\",\"preprocess\":true}',\n  'DataPrepJsonString': '{\\\\\"training_data\\\\\": \\\\\"{\\\\\\\\\\\\\"blocks\\\\\\\\\\\\\": [{\\\\\\\\\\\\\"id\\\\\\\\\\\\\": \\\\\\\\\\\\\"3bca3095-3528-41c1-9dc2-615de70ac59c\\\\\\\\\\\\\", \\\\\\\\\\\\\"type\\\\\\\\\\\\\": \\\\\\\\\\\\\"Microsoft.DPrep.GetDatastoreFilesBlock\\\\\\\\\\\\\", \\\\\\\\\\\\\"arguments\\\\\\\\\\\\\": {\\\\\\\\\\\\\"datastores\\\\\\\\\\\\\": [{\\\\\\\\\\\\\"datastoreName\\\\\\\\\\\\\": \\\\\\\\\\\\\"workspaceblobstore\\\\\\\\\\\\\", \\\\\\\\\\\\\"path\\\\\\\\\\\\\": \\\\\\\\\\\\\"UI/12-31-2020_105053_UTC/heart_failure_clinical_records_dataset.csv\\\\\\\\\\\\\", \\\\\\\\\\\\\"resourceGroup\\\\\\\\\\\\\": \\\\\\\\\\\\\"aml-quickstarts-132623\\\\\\\\\\\\\", \\\\\\\\\\\\\"subscription\\\\\\\\\\\\\": \\\\\\\\\\\\\"61c5c3f0-6dc7-4ed9-a7f3-c704b20e3b30\\\\\\\\\\\\\", \\\\\\\\\\\\\"workspaceName\\\\\\\\\\\\\": \\\\\\\\\\\\\"quick-starts-ws-132623\\\\\\\\\\\\\"}]}, \\\\\\\\\\\\\"localData\\\\\\\\\\\\\": {}, \\\\\\\\\\\\\"isEnabled\\\\\\\\\\\\\": true, \\\\\\\\\\\\\"name\\\\\\\\\\\\\": null, \\\\\\\\\\\\\"annotation\\\\\\\\\\\\\": null}, {\\\\\\\\\\\\\"id\\\\\\\\\\\\\": \\\\\\\\\\\\\"dbbd994f-f172-4370-9791-5e4d0d29f163\\\\\\\\\\\\\", \\\\\\\\\\\\\"type\\\\\\\\\\\\\": \\\\\\\\\\\\\"Microsoft.DPrep.ParseDelimitedBlock\\\\\\\\\\\\\", \\\\\\\\\\\\\"arguments\\\\\\\\\\\\\": {\\\\\\\\\\\\\"columnHeadersMode\\\\\\\\\\\\\": 1, \\\\\\\\\\\\\"fileEncoding\\\\\\\\\\\\\": 0, \\\\\\\\\\\\\"handleQuotedLineBreaks\\\\\\\\\\\\\": false, \\\\\\\\\\\\\"preview\\\\\\\\\\\\\": false, \\\\\\\\\\\\\"separator\\\\\\\\\\\\\": \\\\\\\\\\\\\",\\\\\\\\\\\\\", \\\\\\\\\\\\\"skipRows\\\\\\\\\\\\\": 0, \\\\\\\\\\\\\"skipRowsMode\\\\\\\\\\\\\": 0}, \\\\\\\\\\\\\"localData\\\\\\\\\\\\\": {}, \\\\\\\\\\\\\"isEnabled\\\\\\\\\\\\\": true, \\\\\\\\\\\\\"name\\\\\\\\\\\\\": null, \\\\\\\\\\\\\"annotation\\\\\\\\\\\\\": null}, {\\\\\\\\\\\\\"id\\\\\\\\\\\\\": \\\\\\\\\\\\\"c08bdae2-2a95-4215-8e00-e55e58411996\\\\\\\\\\\\\", \\\\\\\\\\\\\"type\\\\\\\\\\\\\": \\\\\\\\\\\\\"Microsoft.DPrep.DropColumnsBlock\\\\\\\\\\\\\", \\\\\\\\\\\\\"arguments\\\\\\\\\\\\\": {\\\\\\\\\\\\\"columns\\\\\\\\\\\\\": {\\\\\\\\\\\\\"type\\\\\\\\\\\\\": 0, \\\\\\\\\\\\\"details\\\\\\\\\\\\\": {\\\\\\\\\\\\\"selectedColumns\\\\\\\\\\\\\": [\\\\\\\\\\\\\"Path\\\\\\\\\\\\\"]}}}, \\\\\\\\\\\\\"localData\\\\\\\\\\\\\": {}, \\\\\\\\\\\\\"isEnabled\\\\\\\\\\\\\": true, \\\\\\\\\\\\\"name\\\\\\\\\\\\\": null, \\\\\\\\\\\\\"annotation\\\\\\\\\\\\\": null}, {\\\\\\\\\\\\\"id\\\\\\\\\\\\\": \\\\\\\\\\\\\"a1023664-4b57-41a5-8eb0-74cacf1ff3cf\\\\\\\\\\\\\", \\\\\\\\\\\\\"type\\\\\\\\\\\\\": \\\\\\\\\\\\\"Microsoft.DPrep.SetColumnTypesBlock\\\\\\\\\\\\\", \\\\\\\\\\\\\"arguments\\\\\\\\\\\\\": {\\\\\\\\\\\\\"columnConversion\\\\\\\\\\\\\": [{\\\\\\\\\\\\\"column\\\\\\\\\\\\\": {\\\\\\\\\\\\\"type\\\\\\\\\\\\\": 2, \\\\\\\\\\\\\"details\\\\\\\\\\\\\": {\\\\\\\\\\\\\"selectedColumn\\\\\\\\\\\\\": \\\\\\\\\\\\\"Path\\\\\\\\\\\\\"}}, \\\\\\\\\\\\\"typeProperty\\\\\\\\\\\\\": 0}, {\\\\\\\\\\\\\"column\\\\\\\\\\\\\": {\\\\\\\\\\\\\"type\\\\\\\\\\\\\": 2, \\\\\\\\\\\\\"details\\\\\\\\\\\\\": {\\\\\\\\\\\\\"selectedColumn\\\\\\\\\\\\\": \\\\\\\\\\\\\"age\\\\\\\\\\\\\"}}, \\\\\\\\\\\\\"typeProperty\\\\\\\\\\\\\": 3}, {\\\\\\\\\\\\\"column\\\\\\\\\\\\\": {\\\\\\\\\\\\\"type\\\\\\\\\\\\\": 2, \\\\\\\\\\\\\"details\\\\\\\\\\\\\": {\\\\\\\\\\\\\"selectedColumn\\\\\\\\\\\\\": \\\\\\\\\\\\\"anaemia\\\\\\\\\\\\\"}}, \\\\\\\\\\\\\"typeProperty\\\\\\\\\\\\\": 2}, {\\\\\\\\\\\\\"column\\\\\\\\\\\\\": {\\\\\\\\\\\\\"type\\\\\\\\\\\\\": 2, \\\\\\\\\\\\\"details\\\\\\\\\\\\\": {\\\\\\\\\\\\\"selectedColumn\\\\\\\\\\\\\": \\\\\\\\\\\\\"creatinine_phosphokinase\\\\\\\\\\\\\"}}, \\\\\\\\\\\\\"typeProperty\\\\\\\\\\\\\": 2}, {\\\\\\\\\\\\\"column\\\\\\\\\\\\\": {\\\\\\\\\\\\\"type\\\\\\\\\\\\\": 2, \\\\\\\\\\\\\"details\\\\\\\\\\\\\": {\\\\\\\\\\\\\"selectedColumn\\\\\\\\\\\\\": \\\\\\\\\\\\\"diabetes\\\\\\\\\\\\\"}}, \\\\\\\\\\\\\"typeProperty\\\\\\\\\\\\\": 2}, {\\\\\\\\\\\\\"column\\\\\\\\\\\\\": {\\\\\\\\\\\\\"type\\\\\\\\\\\\\": 2, \\\\\\\\\\\\\"details\\\\\\\\\\\\\": {\\\\\\\\\\\\\"selectedColumn\\\\\\\\\\\\\": \\\\\\\\\\\\\"ejection_fraction\\\\\\\\\\\\\"}}, \\\\\\\\\\\\\"typeProperty\\\\\\\\\\\\\": 2}, {\\\\\\\\\\\\\"column\\\\\\\\\\\\\": {\\\\\\\\\\\\\"type\\\\\\\\\\\\\": 2, \\\\\\\\\\\\\"details\\\\\\\\\\\\\": {\\\\\\\\\\\\\"selectedColumn\\\\\\\\\\\\\": \\\\\\\\\\\\\"high_blood_pressure\\\\\\\\\\\\\"}}, \\\\\\\\\\\\\"typeProperty\\\\\\\\\\\\\": 2}, {\\\\\\\\\\\\\"column\\\\\\\\\\\\\": {\\\\\\\\\\\\\"type\\\\\\\\\\\\\": 2, \\\\\\\\\\\\\"details\\\\\\\\\\\\\": {\\\\\\\\\\\\\"selectedColumn\\\\\\\\\\\\\": \\\\\\\\\\\\\"platelets\\\\\\\\\\\\\"}}, \\\\\\\\\\\\\"typeProperty\\\\\\\\\\\\\": 3}, {\\\\\\\\\\\\\"column\\\\\\\\\\\\\": {\\\\\\\\\\\\\"type\\\\\\\\\\\\\": 2, \\\\\\\\\\\\\"details\\\\\\\\\\\\\": {\\\\\\\\\\\\\"selectedColumn\\\\\\\\\\\\\": \\\\\\\\\\\\\"serum_creatinine\\\\\\\\\\\\\"}}, \\\\\\\\\\\\\"typeProperty\\\\\\\\\\\\\": 3}, {\\\\\\\\\\\\\"column\\\\\\\\\\\\\": {\\\\\\\\\\\\\"type\\\\\\\\\\\\\": 2, \\\\\\\\\\\\\"details\\\\\\\\\\\\\": {\\\\\\\\\\\\\"selectedColumn\\\\\\\\\\\\\": \\\\\\\\\\\\\"serum_sodium\\\\\\\\\\\\\"}}, \\\\\\\\\\\\\"typeProperty\\\\\\\\\\\\\": 2}, {\\\\\\\\\\\\\"column\\\\\\\\\\\\\": {\\\\\\\\\\\\\"type\\\\\\\\\\\\\": 2, \\\\\\\\\\\\\"details\\\\\\\\\\\\\": {\\\\\\\\\\\\\"selectedColumn\\\\\\\\\\\\\": \\\\\\\\\\\\\"sex\\\\\\\\\\\\\"}}, \\\\\\\\\\\\\"typeProperty\\\\\\\\\\\\\": 2}, {\\\\\\\\\\\\\"column\\\\\\\\\\\\\": {\\\\\\\\\\\\\"type\\\\\\\\\\\\\": 2, \\\\\\\\\\\\\"details\\\\\\\\\\\\\": {\\\\\\\\\\\\\"selectedColumn\\\\\\\\\\\\\": \\\\\\\\\\\\\"smoking\\\\\\\\\\\\\"}}, \\\\\\\\\\\\\"typeProperty\\\\\\\\\\\\\": 2}, {\\\\\\\\\\\\\"column\\\\\\\\\\\\\": {\\\\\\\\\\\\\"type\\\\\\\\\\\\\": 2, \\\\\\\\\\\\\"details\\\\\\\\\\\\\": {\\\\\\\\\\\\\"selectedColumn\\\\\\\\\\\\\": \\\\\\\\\\\\\"time\\\\\\\\\\\\\"}}, \\\\\\\\\\\\\"typeProperty\\\\\\\\\\\\\": 2}, {\\\\\\\\\\\\\"column\\\\\\\\\\\\\": {\\\\\\\\\\\\\"type\\\\\\\\\\\\\": 2, \\\\\\\\\\\\\"details\\\\\\\\\\\\\": {\\\\\\\\\\\\\"selectedColumn\\\\\\\\\\\\\": \\\\\\\\\\\\\"DEATH_EVENT\\\\\\\\\\\\\"}}, \\\\\\\\\\\\\"typeProperty\\\\\\\\\\\\\": 2}]}, \\\\\\\\\\\\\"localData\\\\\\\\\\\\\": {}, \\\\\\\\\\\\\"isEnabled\\\\\\\\\\\\\": true, \\\\\\\\\\\\\"name\\\\\\\\\\\\\": null, \\\\\\\\\\\\\"annotation\\\\\\\\\\\\\": null}], \\\\\\\\\\\\\"inspectors\\\\\\\\\\\\\": [], \\\\\\\\\\\\\"meta\\\\\\\\\\\\\": {\\\\\\\\\\\\\"savedDatasetId\\\\\\\\\\\\\": \\\\\\\\\\\\\"ecb3e856-5d14-464f-a1d3-d4f78b5ef872\\\\\\\\\\\\\", \\\\\\\\\\\\\"datasetType\\\\\\\\\\\\\": \\\\\\\\\\\\\"tabular\\\\\\\\\\\\\", \\\\\\\\\\\\\"subscriptionId\\\\\\\\\\\\\": \\\\\\\\\\\\\"61c5c3f0-6dc7-4ed9-a7f3-c704b20e3b30\\\\\\\\\\\\\", \\\\\\\\\\\\\"workspaceId\\\\\\\\\\\\\": \\\\\\\\\\\\\"0e88cae8-92c4-47d0-8df2-2c3cb168ff2e\\\\\\\\\\\\\", \\\\\\\\\\\\\"workspaceLocation\\\\\\\\\\\\\": \\\\\\\\\\\\\"southcentralus\\\\\\\\\\\\\"}}\\\\\", \\\\\"activities\\\\\": 0}',\n  'EnableSubsampling': None,\n  'runTemplate': 'AutoML',\n  'azureml.runsource': 'automl',\n  'display_task_type': 'classification',\n  'dependencies_versions': '{\"azureml-widgets\": \"1.19.0\", \"azureml-train\": \"1.19.0\", \"azureml-train-restclients-hyperdrive\": \"1.19.0\", \"azureml-train-core\": \"1.19.0\", \"azureml-train-automl\": \"1.19.0\", \"azureml-train-automl-runtime\": \"1.19.0\", \"azureml-train-automl-client\": \"1.19.0\", \"azureml-tensorboard\": \"1.19.0\", \"azureml-telemetry\": \"1.19.0\", \"azureml-sdk\": \"1.19.0\", \"azureml-samples\": \"0+unknown\", \"azureml-pipeline\": \"1.19.0\", \"azureml-pipeline-steps\": \"1.19.0\", \"azureml-pipeline-core\": \"1.19.0\", \"azureml-opendatasets\": \"1.19.0\", \"azureml-model-management-sdk\": \"1.0.1b6.post1\", \"azureml-mlflow\": \"1.19.0\", \"azureml-interpret\": \"1.19.0\", \"azureml-explain-model\": \"1.19.0\", \"azureml-defaults\": \"1.19.0\", \"azureml-dataset-runtime\": \"1.19.0\", \"azureml-dataprep\": \"2.6.1\", \"azureml-dataprep-rslex\": \"1.4.0\", \"azureml-dataprep-native\": \"26.0.0\", \"azureml-datadrift\": \"1.19.0\", \"azureml-core\": \"1.19.0\", \"azureml-contrib-services\": \"1.19.0\", \"azureml-contrib-server\": \"1.19.0\", \"azureml-contrib-reinforcementlearning\": \"1.19.0\", \"azureml-contrib-pipeline-steps\": \"1.19.0\", \"azureml-contrib-notebook\": \"1.19.0\", \"azureml-contrib-interpret\": \"1.19.0\", \"azureml-contrib-gbdt\": \"1.19.0\", \"azureml-contrib-fairness\": \"1.19.0\", \"azureml-contrib-dataset\": \"1.19.0\", \"azureml-cli-common\": \"1.19.0\", \"azureml-automl-runtime\": \"1.19.0\", \"azureml-automl-core\": \"1.19.0\", \"azureml-accel-models\": \"1.19.0\"}',\n  '_aml_system_scenario_identification': 'Remote.Parent',\n  'ClientType': 'SDK',\n  'environment_cpu_name': 'AzureML-AutoML',\n  'environment_cpu_label': 'prod',\n  'environment_gpu_name': 'AzureML-AutoML-GPU',\n  'environment_gpu_label': 'prod',\n  'root_attribution': 'automl',\n  'attribution': 'AutoML',\n  'Orchestrator': 'AutoML',\n  'CancelUri': 'https://southcentralus.experiments.azureml.net/jasmine/v1.0/subscriptions/61c5c3f0-6dc7-4ed9-a7f3-c704b20e3b30/resourceGroups/aml-quickstarts-132623/providers/Microsoft.MachineLearningServices/workspaces/quick-starts-ws-132623/experimentids/95e16941-b790-4fa4-b121-4bf5713ebaf8/cancel/AutoML_e500a9dd-6430-47c6-afdf-76f59ad1bbd2',\n  'ClientSdkVersion': '1.19.0',\n  'snapshotId': '00000000-0000-0000-0000-000000000000',\n  'SetupRunId': 'AutoML_e500a9dd-6430-47c6-afdf-76f59ad1bbd2_setup',\n  'SetupRunContainerId': 'dcid.AutoML_e500a9dd-6430-47c6-afdf-76f59ad1bbd2_setup',\n  'FeaturizationRunJsonPath': 'featurizer_container.json',\n  'FeaturizationRunId': 'AutoML_e500a9dd-6430-47c6-afdf-76f59ad1bbd2_featurize',\n  'ProblemInfoJsonString': '{\"dataset_num_categorical\": 0, \"is_sparse\": false, \"subsampling\": false, \"dataset_classes\": 2, \"dataset_features\": 12, \"dataset_samples\": 299, \"single_frequency_class_detected\": false}',\n  'ModelExplainRunId': 'AutoML_e500a9dd-6430-47c6-afdf-76f59ad1bbd2_ModelExplain'},\n 'inputDatasets': [{'dataset': {'id': 'ecb3e856-5d14-464f-a1d3-d4f78b5ef872'}, 'consumptionDetails': {'type': 'RunInput', 'inputName': 'training_data', 'mechanism': 'Direct'}}],\n 'outputDatasets': [],\n 'logFiles': {}}"
          },
          "metadata": {}
        }
      ],
      "execution_count": 11,
      "metadata": {}
    },
    {
      "cell_type": "markdown",
      "source": [
        "## Best Model\n",
        "\n",
        "TODO: In the cell below, get the best model from the automl experiments and display all the properties of the model.\n",
        "\n"
      ],
      "metadata": {}
    },
    {
      "cell_type": "code",
      "source": [
        "best_run_Id, fitted_model = remote_run.get_output()\n",
        "print(best_run_Id)\n",
        "print(fitted_model)\n",
        "\n",
        "best_run_metrics = best_run.get_metrics()\n",
        "for metric_name in best_run_metrics:\n",
        "    metric = best_run_metrics[metric_name]\n",
        "    print(metric_name)\n",
        "    print(metric)"
      ],
      "outputs": [
        {
          "output_type": "stream",
          "name": "stdout",
          "text": [
            "Run(Experiment: capstone-heart-failure-exp,\n",
            "Id: AutoML_e500a9dd-6430-47c6-afdf-76f59ad1bbd2_43,\n",
            "Type: azureml.scriptrun,\n",
            "Status: Completed)\n",
            "Pipeline(memory=None,\n",
            "         steps=[('datatransformer',\n",
            "                 DataTransformer(enable_dnn=None, enable_feature_sweeping=None,\n",
            "                                 feature_sweeping_config=None,\n",
            "                                 feature_sweeping_timeout=None,\n",
            "                                 featurization_config=None, force_text_dnn=None,\n",
            "                                 is_cross_validation=None,\n",
            "                                 is_onnx_compatible=None, logger=None,\n",
            "                                 observer=None, task=None, working_dir=None)),\n",
            "                ('prefittedsoftvotingclassifier',...\n",
            "                                                                                                reg_alpha=0.42105263157894735,\n",
            "                                                                                                reg_lambda=0.10526315789473684,\n",
            "                                                                                                silent=True,\n",
            "                                                                                                subsample=0.5447368421052632,\n",
            "                                                                                                subsample_for_bin=200000,\n",
            "                                                                                                subsample_freq=0,\n",
            "                                                                                                verbose=-10))],\n",
            "                                                                     verbose=False))],\n",
            "                                               flatten_transform=None,\n",
            "                                               weights=[0.3333333333333333,\n",
            "                                                        0.06666666666666667,\n",
            "                                                        0.06666666666666667,\n",
            "                                                        0.06666666666666667,\n",
            "                                                        0.06666666666666667,\n",
            "                                                        0.26666666666666666,\n",
            "                                                        0.13333333333333333]))],\n",
            "         verbose=False)\n",
            "weighted_accuracy\n",
            "0.8839490475525127\n",
            "AUC_micro\n",
            "0.9126035621947717\n",
            "matthews_correlation\n",
            "0.6726900611432679\n",
            "recall_score_micro\n",
            "0.8561581920903955\n",
            "average_precision_score_macro\n",
            "0.9097831179883465\n",
            "accuracy\n",
            "0.8561581920903955\n",
            "norm_macro_recall\n",
            "0.6302893133997787\n",
            "average_precision_score_micro\n",
            "0.9167353541059207\n",
            "log_loss\n",
            "0.44588356304188925\n",
            "recall_score_macro\n",
            "0.8151446566998892\n",
            "recall_score_weighted\n",
            "0.8561581920903955\n",
            "AUC_weighted\n",
            "0.922343784606866\n",
            "average_precision_score_weighted\n",
            "0.9318146781982012\n",
            "f1_score_weighted\n",
            "0.8486501965947358\n",
            "f1_score_macro\n",
            "0.8217746418488272\n",
            "f1_score_micro\n",
            "0.8561581920903955\n",
            "precision_score_macro\n",
            "0.8616690821256039\n",
            "precision_score_micro\n",
            "0.8561581920903955\n",
            "balanced_accuracy\n",
            "0.8151446566998892\n",
            "precision_score_weighted\n",
            "0.8690965052851567\n",
            "AUC_macro\n",
            "0.922343784606866\n",
            "accuracy_table\n",
            "aml://artifactId/ExperimentRun/dcid.AutoML_e500a9dd-6430-47c6-afdf-76f59ad1bbd2_43/accuracy_table\n",
            "confusion_matrix\n",
            "aml://artifactId/ExperimentRun/dcid.AutoML_e500a9dd-6430-47c6-afdf-76f59ad1bbd2_43/confusion_matrix\n"
          ]
        }
      ],
      "execution_count": 19,
      "metadata": {
        "gather": {
          "logged": 1598431425670
        },
        "jupyter": {
          "outputs_hidden": false,
          "source_hidden": false
        },
        "nteract": {
          "transient": {
            "deleting": false
          }
        }
      }
    },
    {
      "cell_type": "code",
      "source": [
        "#TODO: Save the best model\n",
        "\n",
        "best_run.register_model(model_name='automl_model',model_path='/outputs',properties={'AUC_weighted':best_run_metrics['AUC_weighted']},tags={'Training context':'Auto ML'})"
      ],
      "outputs": [
        {
          "output_type": "execute_result",
          "execution_count": 20,
          "data": {
            "text/plain": "Model(workspace=Workspace.create(name='quick-starts-ws-132623', subscription_id='61c5c3f0-6dc7-4ed9-a7f3-c704b20e3b30', resource_group='aml-quickstarts-132623'), name=automl_model, id=automl_model:1, version=1, tags={'Training context': 'Auto ML'}, properties={'AUC_weighted': '0.922343784606866'})"
          },
          "metadata": {}
        }
      ],
      "execution_count": 20,
      "metadata": {
        "gather": {
          "logged": 1598431426111
        },
        "jupyter": {
          "outputs_hidden": false,
          "source_hidden": false
        },
        "nteract": {
          "transient": {
            "deleting": false
          }
        }
      }
    },
    {
      "cell_type": "code",
      "source": [
        "best_run"
      ],
      "outputs": [
        {
          "output_type": "execute_result",
          "execution_count": 21,
          "data": {
            "text/html": "<table style=\"width:100%\"><tr><th>Experiment</th><th>Id</th><th>Type</th><th>Status</th><th>Details Page</th><th>Docs Page</th></tr><tr><td>capstone-heart-failure-exp</td><td>AutoML_e500a9dd-6430-47c6-afdf-76f59ad1bbd2_43</td><td>azureml.scriptrun</td><td>Completed</td><td><a href=\"https://ml.azure.com/experiments/capstone-heart-failure-exp/runs/AutoML_e500a9dd-6430-47c6-afdf-76f59ad1bbd2_43?wsid=/subscriptions/61c5c3f0-6dc7-4ed9-a7f3-c704b20e3b30/resourcegroups/aml-quickstarts-132623/workspaces/quick-starts-ws-132623\" target=\"_blank\" rel=\"noopener\">Link to Azure Machine Learning studio</a></td><td><a href=\"https://docs.microsoft.com/en-us/python/api/azureml-core/azureml.core.run.Run?view=azure-ml-py\" target=\"_blank\" rel=\"noopener\">Link to Documentation</a></td></tr></table>",
            "text/plain": "Run(Experiment: capstone-heart-failure-exp,\nId: AutoML_e500a9dd-6430-47c6-afdf-76f59ad1bbd2_43,\nType: azureml.scriptrun,\nStatus: Completed)"
          },
          "metadata": {}
        }
      ],
      "execution_count": 21,
      "metadata": {}
    },
    {
      "cell_type": "code",
      "source": [
        "model_name = best_run.properties['model_name']"
      ],
      "outputs": [],
      "execution_count": 31,
      "metadata": {}
    },
    {
      "cell_type": "markdown",
      "source": [
        "## Model Deployment\n",
        "\n",
        "Remember you have to deploy only one of the two models you trained.. Perform the steps in the rest of this notebook only if you wish to deploy this model.\n",
        "\n",
        "TODO: In the cell below, register the model, create an inference config and deploy the model as a web service."
      ],
      "metadata": {}
    },
    {
      "cell_type": "code",
      "source": [
        "# Register the model\n",
        "\n",
        "model = remote_run.register_model(model_name = model_name,\n",
        "                                  description = 'Automl model')\n",
        "\n",
        "print('Name:', model.name)"
      ],
      "outputs": [
        {
          "output_type": "stream",
          "name": "stdout",
          "text": [
            "Name: AutoMLe500a9dd643\n"
          ]
        }
      ],
      "execution_count": 32,
      "metadata": {}
    },
    {
      "cell_type": "code",
      "source": [
        "env = best_run.get_environment()\n",
        "\n",
        "script_name = 'score.py'\n",
        "\n",
        "\n",
        "best_run.download_file('outputs/scoring_file_v_1_0_0.py', script_name)"
      ],
      "outputs": [],
      "execution_count": 46,
      "metadata": {}
    },
    {
      "cell_type": "code",
      "source": [
        "with open('score.py') as f:\n",
        "    print(f.read())"
      ],
      "outputs": [
        {
          "output_type": "stream",
          "name": "stdout",
          "text": [
            "# ---------------------------------------------------------\n",
            "# Copyright (c) Microsoft Corporation. All rights reserved.\n",
            "# ---------------------------------------------------------\n",
            "import json\n",
            "import logging\n",
            "import os\n",
            "import pickle\n",
            "import numpy as np\n",
            "import pandas as pd\n",
            "import joblib\n",
            "\n",
            "import azureml.automl.core\n",
            "from azureml.automl.core.shared import logging_utilities, log_server\n",
            "from azureml.telemetry import INSTRUMENTATION_KEY\n",
            "\n",
            "from inference_schema.schema_decorators import input_schema, output_schema\n",
            "from inference_schema.parameter_types.numpy_parameter_type import NumpyParameterType\n",
            "from inference_schema.parameter_types.pandas_parameter_type import PandasParameterType\n",
            "\n",
            "\n",
            "input_sample = pd.DataFrame({\"age\": pd.Series([0.0], dtype=\"float64\"), \"anaemia\": pd.Series([0.0], dtype=\"float64\"), \"creatinine_phosphokinase\": pd.Series([0.0], dtype=\"float64\"), \"diabetes\": pd.Series([0.0], dtype=\"float64\"), \"ejection_fraction\": pd.Series([0.0], dtype=\"float64\"), \"high_blood_pressure\": pd.Series([0.0], dtype=\"float64\"), \"platelets\": pd.Series([0.0], dtype=\"float64\"), \"serum_creatinine\": pd.Series([0.0], dtype=\"float64\"), \"serum_sodium\": pd.Series([0.0], dtype=\"float64\"), \"sex\": pd.Series([0.0], dtype=\"float64\"), \"smoking\": pd.Series([0.0], dtype=\"float64\"), \"time\": pd.Series([0.0], dtype=\"float64\")})\n",
            "output_sample = np.array([0])\n",
            "try:\n",
            "    log_server.enable_telemetry(INSTRUMENTATION_KEY)\n",
            "    log_server.set_verbosity('INFO')\n",
            "    logger = logging.getLogger('azureml.automl.core.scoring_script')\n",
            "except:\n",
            "    pass\n",
            "\n",
            "\n",
            "def init():\n",
            "    global model\n",
            "    # This name is model.id of model that we want to deploy deserialize the model file back\n",
            "    # into a sklearn model\n",
            "    model_path = os.path.join(os.getenv('AZUREML_MODEL_DIR'), 'model.pkl')\n",
            "    path = os.path.normpath(model_path)\n",
            "    path_split = path.split(os.sep)\n",
            "    log_server.update_custom_dimensions({'model_name': path_split[1], 'model_version': path_split[2]})\n",
            "    try:\n",
            "        logger.info(\"Loading model from path.\")\n",
            "        model = joblib.load(model_path)\n",
            "        logger.info(\"Loading successful.\")\n",
            "    except Exception as e:\n",
            "        logging_utilities.log_traceback(e, logger)\n",
            "        raise\n",
            "\n",
            "\n",
            "@input_schema('data', PandasParameterType(input_sample))\n",
            "@output_schema(NumpyParameterType(output_sample))\n",
            "def run(data):\n",
            "    try:\n",
            "        result = model.predict(data)\n",
            "        return json.dumps({\"result\": result.tolist()})\n",
            "    except Exception as e:\n",
            "        result = str(e)\n",
            "        return json.dumps({\"error\": result})\n",
            "\n"
          ]
        }
      ],
      "execution_count": 47,
      "metadata": {}
    },
    {
      "cell_type": "code",
      "source": [
        "# Create an inference config\n",
        "\n",
        "inference_config = InferenceConfig(entry_script= script_name, environment=env)\n",
        "\n",
        "aci_config = AciWebservice.deploy_configuration(cpu_cores=1, memory_gb=1, enable_app_insights=True)\n",
        "aci_service_name='capstone-service'\n"
      ],
      "outputs": [],
      "execution_count": 48,
      "metadata": {}
    },
    {
      "cell_type": "code",
      "source": [
        "service = Model.deploy(workspace=ws,\n",
        "                       name='capstone-encrypted-deploy',\n",
        "                       models=[model],\n",
        "                       inference_config=inference_config,\n",
        "                       deployment_config=aci_config\n",
        "                       )"
      ],
      "outputs": [],
      "execution_count": 49,
      "metadata": {}
    },
    {
      "cell_type": "code",
      "source": [
        "aci_service.wait_for_deployment(show_output=True)\n",
        "\n",
        "print(aci_service.state)"
      ],
      "outputs": [
        {
          "output_type": "stream",
          "name": "stdout",
          "text": [
            "Tips: You can try get_logs(): https://aka.ms/debugimage#dockerlog or local deployment: https://aka.ms/debugimage#debug-locally to debug if deployment takes longer than 10 minutes.\n",
            "Running..............\n",
            "Succeeded\n",
            "ACI service creation operation finished, operation \"Succeeded\"\n",
            "Healthy\n"
          ]
        }
      ],
      "execution_count": 53,
      "metadata": {}
    },
    {
      "cell_type": "markdown",
      "source": [
        "TODO: In the cell below, send a request to the web service you deployed to test it."
      ],
      "metadata": {
        "collapsed": true,
        "gather": {
          "logged": 1598431657736
        },
        "jupyter": {
          "outputs_hidden": false,
          "source_hidden": false
        },
        "nteract": {
          "transient": {
            "deleting": false
          }
        }
      }
    },
    {
      "cell_type": "code",
      "source": [],
      "outputs": [],
      "execution_count": null,
      "metadata": {}
    },
    {
      "cell_type": "markdown",
      "source": [
        "TODO: In the cell below, print the logs of the web service and delete the service"
      ],
      "metadata": {
        "collapsed": true,
        "gather": {
          "logged": 1598432765711
        },
        "jupyter": {
          "outputs_hidden": false,
          "source_hidden": false
        },
        "nteract": {
          "transient": {
            "deleting": false
          }
        }
      }
    },
    {
      "cell_type": "code",
      "source": [
        "logs = rest_service.get_logs()\n",
        "\n",
        "for line in logs.split('\\n'):\n",
        "    print(line)"
      ],
      "outputs": [],
      "execution_count": null,
      "metadata": {}
    },
    {
      "cell_type": "code",
      "source": [
        "# Delete the service\n",
        "service.delete()"
      ],
      "outputs": [],
      "execution_count": null,
      "metadata": {
        "jupyter": {
          "outputs_hidden": false,
          "source_hidden": false
        },
        "nteract": {
          "transient": {
            "deleting": false
          }
        }
      }
    },
    {
      "cell_type": "code",
      "source": [
        "new_cluster.delete()"
      ],
      "outputs": [],
      "execution_count": null,
      "metadata": {}
    }
  ],
  "metadata": {
    "kernel_info": {
      "name": "python3-azureml"
    },
    "kernelspec": {
      "display_name": "Python 3.6 - AzureML",
      "language": "python",
      "name": "python3-azureml"
    },
    "language_info": {
      "codemirror_mode": {
        "name": "ipython",
        "version": 3
      },
      "file_extension": ".py",
      "mimetype": "text/x-python",
      "name": "python",
      "nbconvert_exporter": "python",
      "pygments_lexer": "ipython3",
      "version": "3.6.9"
    },
    "nteract": {
      "version": "nteract-front-end@1.0.0"
    }
  },
  "nbformat": 4,
  "nbformat_minor": 2
}