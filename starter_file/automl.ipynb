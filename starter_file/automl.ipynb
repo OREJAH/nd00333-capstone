{
  "cells": [
    {
      "cell_type": "markdown",
      "source": [
        "# Automated ML\n",
        "\n",
        "Below are the dependencies that will be needed to complete the project."
      ],
      "metadata": {}
    },
    {
      "cell_type": "code",
      "source": [
        "import azureml.core\n",
        "from azureml.core.compute import ComputeTarget, AmlCompute\n",
        "from azureml.core.compute_target import ComputeTargetException\n",
        "from azureml.core.dataset import Dataset\n",
        "from azureml.core.workspace import Workspace\n",
        "from azureml.core import Experiment, Webservice, Model\n",
        "from azureml.train.automl import AutoMLConfig\n",
        "from azureml.widgets import RunDetails\n",
        "from azureml.core.environment import Environment\n",
        "from azureml.core.model import InferenceConfig\n",
        "from azureml.core.webservice import AciWebservice\n",
        "\n",
        "\n",
        "import pandas as pd\n",
        "import sklearn\n",
        "import json\n",
        "\n",
        "# Check core SDK version number\n",
        "print(\"SDK version:\", azureml.core.VERSION)"
      ],
      "outputs": [
        {
          "output_type": "stream",
          "name": "stdout",
          "text": [
            "SDK version: 1.19.0\n"
          ]
        }
      ],
      "execution_count": 1,
      "metadata": {
        "gather": {
          "logged": 1598423888013
        },
        "jupyter": {
          "outputs_hidden": false,
          "source_hidden": false
        },
        "nteract": {
          "transient": {
            "deleting": false
          }
        }
      }
    },
    {
      "cell_type": "markdown",
      "source": [
        "## Dataset\n",
        "\n",
        "### Overview\n",
        "\n",
        "\n",
        "  This is an analyzed dataset containing the medical records of 299 heart failure patients collected at the Faisalabad Institute of Cardiology and at the Allied Hospital in Faisalabad (Punjab, Pakistan), during April–December 2015. The patients consisted of 105 women and 194 men, and their ages range between 40 and 95 years old. All 299 patients had left ventricular systolic dysfunction and had previous heart failures that put them in classes III or IV of New York Heart Association (NYHA) classification of the stages of heart failure. As done by the original data curators, this dataset was represented as a table having 299 rows (patients) and 13 columns (features).\n",
        "  \n",
        "  \n",
        "\n",
        "###  Task\n",
        "  With the kaggle heart failure dataset I'll be using the knowledge I have obtained from the Machine Learning Engineer with Microsoft Azure Nanodegree Program to create a machine learning model that can assess the likelihood of a death by heart failure event. This can be used to help hospitals in assessing the severity of patients with cardiovascular disease. In this project, I will create two models: one using Automated ML (denoted as AutoML from now on) and one customized model whose hyperparameters are tuned using HyperDrive."
      ],
      "metadata": {}
    },
    {
      "cell_type": "code",
      "source": [
        "ws = Workspace.from_config()\n",
        "print(ws.name, ws.resource_group, ws.subscription_id, sep = '\\n')"
      ],
      "outputs": [
        {
          "output_type": "stream",
          "name": "stdout",
          "text": [
            "quick-starts-ws-133024\n",
            "aml-quickstarts-133024\n",
            "6971f5ac-8af1-446e-8034-05acea24681f\n"
          ]
        }
      ],
      "execution_count": 2,
      "metadata": {}
    },
    {
      "cell_type": "code",
      "source": [
        "# choose a name for experiment\n",
        "experiment_name = 'capstone-heart-failure-exp'\n",
        "\n",
        "experiment=Experiment(ws, experiment_name)\n",
        "experiment"
      ],
      "outputs": [
        {
          "output_type": "execute_result",
          "execution_count": 3,
          "data": {
            "text/html": "<table style=\"width:100%\"><tr><th>Name</th><th>Workspace</th><th>Report Page</th><th>Docs Page</th></tr><tr><td>capstone-heart-failure-exp</td><td>quick-starts-ws-133024</td><td><a href=\"https://ml.azure.com/experiments/capstone-heart-failure-exp?wsid=/subscriptions/6971f5ac-8af1-446e-8034-05acea24681f/resourcegroups/aml-quickstarts-133024/workspaces/quick-starts-ws-133024\" target=\"_blank\" rel=\"noopener\">Link to Azure Machine Learning studio</a></td><td><a href=\"https://docs.microsoft.com/en-us/python/api/azureml-core/azureml.core.experiment.Experiment?view=azure-ml-py\" target=\"_blank\" rel=\"noopener\">Link to Documentation</a></td></tr></table>",
            "text/plain": "Experiment(Name: capstone-heart-failure-exp,\nWorkspace: quick-starts-ws-133024)"
          },
          "metadata": {}
        }
      ],
      "execution_count": 3,
      "metadata": {
        "gather": {
          "logged": 1598423890461
        },
        "jupyter": {
          "outputs_hidden": false,
          "source_hidden": false
        },
        "nteract": {
          "transient": {
            "deleting": false
          }
        }
      }
    },
    {
      "cell_type": "code",
      "source": [
        "# TODO: Create compute cluster\n",
        "# Use vm_size = \"Standard_D2_V2\" in your provisioning configuration.\n",
        "# max_nodes should be no greater than 4.\n",
        "\n",
        "### YOUR CODE HERE ###\n",
        "cluster_name=\"cpu-cluster\"\n",
        "\n",
        "try:\n",
        "    new_cluster=ComputeTarget(workspace=ws, name=\"cpu-cluster\")\n",
        "    print(\"Existing cluster detected, make use of it!\")\n",
        "    \n",
        "except ComputeTargetException:\n",
        "    print(\"New compute cluster creation in progress...\")\n",
        "    compute_config = AmlCompute.provisioning_configuration(vm_size='STANDARD_D2_V2',vm_priority='dedicated',min_nodes=None,max_nodes=4)\n",
        "    new_cluster = ComputeTarget.create(ws, \"new_cluster\", compute_config)    \n",
        "    new_cluster.wait_for_completion(show_output=True)         \n",
        "    print(\"Cluster is ready\")"
      ],
      "outputs": [
        {
          "output_type": "stream",
          "name": "stdout",
          "text": [
            "Existing cluster detected, make use of it!\n"
          ]
        }
      ],
      "execution_count": 4,
      "metadata": {}
    },
    {
      "cell_type": "code",
      "source": [
        "datastore = ws.get_default_datastore()\n",
        "\n",
        "datastore.upload(src_dir='./', target_path='dataset/')"
      ],
      "outputs": [
        {
          "output_type": "stream",
          "name": "stdout",
          "text": [
            "Uploading an estimated of 3 files\n",
            "Uploading ./automl.ipynb\n",
            "Uploaded ./automl.ipynb, 1 files out of an estimated total of 3\n",
            "Uploading ./.ipynb_aml_checkpoints/automl-checkpoint2021-0-2-20-55-58.ipynb\n",
            "Uploaded ./.ipynb_aml_checkpoints/automl-checkpoint2021-0-2-20-55-58.ipynb, 2 files out of an estimated total of 3\n",
            "Uploading ./.ipynb_checkpoints/automl-checkpoint.ipynb\n",
            "Uploaded ./.ipynb_checkpoints/automl-checkpoint.ipynb, 3 files out of an estimated total of 3\n",
            "Uploaded 3 files\n"
          ]
        },
        {
          "output_type": "execute_result",
          "execution_count": 5,
          "data": {
            "text/plain": "$AZUREML_DATAREFERENCE_ee00e3ff4b154cffb9446c2b940dce59"
          },
          "metadata": {}
        }
      ],
      "execution_count": 5,
      "metadata": {}
    },
    {
      "cell_type": "code",
      "source": [
        "dataset = Dataset.get_by_name(ws, name=\"heart-failure\")\n",
        "print(\"Dataset is registered\")\n",
        "dataset"
      ],
      "outputs": [
        {
          "output_type": "stream",
          "name": "stdout",
          "text": [
            "Dataset is registered\n"
          ]
        },
        {
          "output_type": "execute_result",
          "execution_count": 6,
          "data": {
            "text/plain": "{\n  \"source\": [\n    \"('workspaceblobstore', 'UI/01-02-2021_085414_UTC/heart_failure_clinical_records_dataset.csv')\"\n  ],\n  \"definition\": [\n    \"GetDatastoreFiles\",\n    \"ParseDelimited\",\n    \"DropColumns\",\n    \"SetColumnTypes\"\n  ],\n  \"registration\": {\n    \"id\": \"0c56c727-865c-40dd-bbc0-429abeef289c\",\n    \"name\": \"heart-failure\",\n    \"version\": 1,\n    \"description\": \"External data from kaggle\",\n    \"workspace\": \"Workspace.create(name='quick-starts-ws-133024', subscription_id='6971f5ac-8af1-446e-8034-05acea24681f', resource_group='aml-quickstarts-133024')\"\n  }\n}"
          },
          "metadata": {}
        }
      ],
      "execution_count": 6,
      "metadata": {}
    },
    {
      "cell_type": "code",
      "source": [
        "dataset.take(5).to_pandas_dataframe()"
      ],
      "outputs": [
        {
          "output_type": "execute_result",
          "execution_count": 7,
          "data": {
            "text/html": "<div>\n<style scoped>\n    .dataframe tbody tr th:only-of-type {\n        vertical-align: middle;\n    }\n\n    .dataframe tbody tr th {\n        vertical-align: top;\n    }\n\n    .dataframe thead th {\n        text-align: right;\n    }\n</style>\n<table border=\"1\" class=\"dataframe\">\n  <thead>\n    <tr style=\"text-align: right;\">\n      <th></th>\n      <th>age</th>\n      <th>anaemia</th>\n      <th>creatinine_phosphokinase</th>\n      <th>diabetes</th>\n      <th>ejection_fraction</th>\n      <th>high_blood_pressure</th>\n      <th>platelets</th>\n      <th>serum_creatinine</th>\n      <th>serum_sodium</th>\n      <th>sex</th>\n      <th>smoking</th>\n      <th>time</th>\n      <th>DEATH_EVENT</th>\n    </tr>\n  </thead>\n  <tbody>\n    <tr>\n      <th>0</th>\n      <td>75.0</td>\n      <td>0</td>\n      <td>582</td>\n      <td>0</td>\n      <td>20</td>\n      <td>1</td>\n      <td>265000.00</td>\n      <td>1.9</td>\n      <td>130</td>\n      <td>1</td>\n      <td>0</td>\n      <td>4</td>\n      <td>1</td>\n    </tr>\n    <tr>\n      <th>1</th>\n      <td>55.0</td>\n      <td>0</td>\n      <td>7861</td>\n      <td>0</td>\n      <td>38</td>\n      <td>0</td>\n      <td>263358.03</td>\n      <td>1.1</td>\n      <td>136</td>\n      <td>1</td>\n      <td>0</td>\n      <td>6</td>\n      <td>1</td>\n    </tr>\n    <tr>\n      <th>2</th>\n      <td>65.0</td>\n      <td>0</td>\n      <td>146</td>\n      <td>0</td>\n      <td>20</td>\n      <td>0</td>\n      <td>162000.00</td>\n      <td>1.3</td>\n      <td>129</td>\n      <td>1</td>\n      <td>1</td>\n      <td>7</td>\n      <td>1</td>\n    </tr>\n    <tr>\n      <th>3</th>\n      <td>50.0</td>\n      <td>1</td>\n      <td>111</td>\n      <td>0</td>\n      <td>20</td>\n      <td>0</td>\n      <td>210000.00</td>\n      <td>1.9</td>\n      <td>137</td>\n      <td>1</td>\n      <td>0</td>\n      <td>7</td>\n      <td>1</td>\n    </tr>\n    <tr>\n      <th>4</th>\n      <td>65.0</td>\n      <td>1</td>\n      <td>160</td>\n      <td>1</td>\n      <td>20</td>\n      <td>0</td>\n      <td>327000.00</td>\n      <td>2.7</td>\n      <td>116</td>\n      <td>0</td>\n      <td>0</td>\n      <td>8</td>\n      <td>1</td>\n    </tr>\n  </tbody>\n</table>\n</div>",
            "text/plain": "    age  anaemia  creatinine_phosphokinase  diabetes  ejection_fraction  \\\n0  75.0        0                       582         0                 20   \n1  55.0        0                      7861         0                 38   \n2  65.0        0                       146         0                 20   \n3  50.0        1                       111         0                 20   \n4  65.0        1                       160         1                 20   \n\n   high_blood_pressure  platelets  serum_creatinine  serum_sodium  sex  \\\n0                    1  265000.00               1.9           130    1   \n1                    0  263358.03               1.1           136    1   \n2                    0  162000.00               1.3           129    1   \n3                    0  210000.00               1.9           137    1   \n4                    0  327000.00               2.7           116    0   \n\n   smoking  time  DEATH_EVENT  \n0        0     4            1  \n1        0     6            1  \n2        1     7            1  \n3        0     7            1  \n4        0     8            1  "
          },
          "metadata": {}
        }
      ],
      "execution_count": 7,
      "metadata": {}
    },
    {
      "cell_type": "markdown",
      "source": [
        "## AutoML Configuration\n",
        "\n",
        "The following code shows a basic example of creating an AutoMLConfig object and submitting an experiment for classification.\n",
        "I chose the automl settings below because I wanted to specify the experiment type as classification. The classification experiment will be carried out using AUC weighted as the primary metric with experiment timeout minutes set to 30 minutes and 5 cross-validation folds with the maximum number of iterations that would be executed concurrently set to 4.\n",
        "All of these settings defines the machine learning task.\n",
        "\n",
        "\n",
        "The configuration object below contains and persists the parameters for configuring the experiment run, as well as the training data to be used at run time."
      ],
      "metadata": {}
    },
    {
      "cell_type": "code",
      "source": [
        "automl_settings = {\n",
        "    \"experiment_timeout_minutes\": 30,\n",
        "    \"max_concurrent_iterations\": 5,\n",
        "    \"primary_metric\" : 'AUC_weighted',\n",
        "    \"n_cross_validations\": 5\n",
        "}\n",
        "automl_config = AutoMLConfig(compute_target=new_cluster,\n",
        "                             task = \"classification\",\n",
        "                             training_data=dataset,\n",
        "                             label_column_name=\"DEATH_EVENT\", \n",
        "                             enable_early_stopping= True,\n",
        "                             featurization= 'auto',\n",
        "                             enable_voting_ensemble= True,\n",
        "                             **automl_settings\n",
        "                            )"
      ],
      "outputs": [],
      "execution_count": 8,
      "metadata": {
        "gather": {
          "logged": 1598429217746
        },
        "jupyter": {
          "outputs_hidden": false,
          "source_hidden": false
        },
        "nteract": {
          "transient": {
            "deleting": false
          }
        }
      }
    },
    {
      "cell_type": "code",
      "source": [
        "# TODO: Submit your experiment\n",
        "\n",
        "remote_run = experiment.submit(automl_config, show_output=True)"
      ],
      "outputs": [
        {
          "output_type": "stream",
          "name": "stdout",
          "text": [
            "Running on remote.\n",
            "No run_configuration provided, running on cpu-cluster with default configuration\n",
            "Running on remote compute: cpu-cluster\n",
            "Parent Run ID: AutoML_4fd07cb0-ac80-4b7d-b7e2-ef09714ad672\n",
            "\n",
            "Current status: FeaturesGeneration. Generating features for the dataset.\n",
            "Current status: ModelSelection. Beginning model selection.\n",
            "\n",
            "****************************************************************************************************\n",
            "DATA GUARDRAILS: \n",
            "\n",
            "TYPE:         Class balancing detection\n",
            "STATUS:       PASSED\n",
            "DESCRIPTION:  Your inputs were analyzed, and all classes are balanced in your training data.\n",
            "              Learn more about imbalanced data: https://aka.ms/AutomatedMLImbalancedData\n",
            "\n",
            "****************************************************************************************************\n",
            "\n",
            "TYPE:         Missing feature values imputation\n",
            "STATUS:       PASSED\n",
            "DESCRIPTION:  No feature missing values were detected in the training data.\n",
            "              Learn more about missing value imputation: https://aka.ms/AutomatedMLFeaturization\n",
            "\n",
            "****************************************************************************************************\n",
            "\n",
            "TYPE:         High cardinality feature detection\n",
            "STATUS:       PASSED\n",
            "DESCRIPTION:  Your inputs were analyzed, and no high cardinality features were detected.\n",
            "              Learn more about high cardinality feature handling: https://aka.ms/AutomatedMLFeaturization\n",
            "\n",
            "****************************************************************************************************\n",
            "\n",
            "****************************************************************************************************\n",
            "ITERATION: The iteration being evaluated.\n",
            "PIPELINE: A summary description of the pipeline being evaluated.\n",
            "DURATION: Time taken for the current iteration.\n",
            "METRIC: The result of computing score on the fitted pipeline.\n",
            "BEST: The best observed score thus far.\n",
            "****************************************************************************************************\n",
            "\n",
            " ITERATION   PIPELINE                                       DURATION      METRIC      BEST\n",
            "         0   MaxAbsScaler LightGBM                          0:00:45       0.8811    0.8811\n",
            "         3   RobustScaler ExtremeRandomTrees                0:00:42       0.8837    0.8837\n",
            "         1   MaxAbsScaler XGBoostClassifier                 0:00:49       0.8930    0.8930\n",
            "         4   MinMaxScaler RandomForest                      0:00:59       0.8986    0.8986\n",
            "         2   MinMaxScaler RandomForest                      0:00:46       0.9013    0.9013\n",
            "         8   MinMaxScaler ExtremeRandomTrees                0:00:46       0.8715    0.9013\n",
            "         9   SparseNormalizer KNN                           0:00:45       0.7515    0.9013\n",
            "        10   MinMaxScaler ExtremeRandomTrees                0:00:52       0.8689    0.9013\n",
            "         6   StandardScalerWrapper RandomForest             0:03:14       0.8947    0.9013\n",
            "         5   MinMaxScaler RandomForest                      0:03:15       0.8905    0.9013\n",
            "         7   MinMaxScaler ExtremeRandomTrees                0:03:20       0.8863    0.9013\n",
            "        11   RobustScaler ExtremeRandomTrees                0:00:44       0.9003    0.9013\n",
            "        12   StandardScalerWrapper RandomForest             0:00:47       0.8955    0.9013\n",
            "        13   StandardScalerWrapper SGD                      0:00:40       0.8725    0.9013\n",
            "        15   StandardScalerWrapper KNN                      0:00:39       0.4823    0.9013\n",
            "        14   RobustScaler RandomForest                      0:00:50       0.8865    0.9013\n",
            "        16   MinMaxScaler RandomForest                      0:00:55       0.8853    0.9013\n",
            "        17   MinMaxScaler ExtremeRandomTrees                0:00:41       0.8465    0.9013\n",
            "        18   MaxAbsScaler RandomForest                      0:00:40       0.8983    0.9013\n",
            "        19   StandardScalerWrapper XGBoostClassifier        0:00:46       0.9072    0.9072\n",
            "        20   MaxAbsScaler RandomForest                      0:00:50       0.9013    0.9072\n",
            "        21   MaxAbsScaler ExtremeRandomTrees                0:00:40       0.8589    0.9072\n",
            "        22   MaxAbsScaler ExtremeRandomTrees                0:00:39       0.8632    0.9072\n",
            "        23   MinMaxScaler RandomForest                      0:00:53       0.9097    0.9097\n",
            "        24   MaxAbsScaler RandomForest                      0:00:43       0.8916    0.9097\n",
            "        25   PCA XGBoostClassifier                          0:00:48       0.4565    0.9097\n",
            "        26   MinMaxScaler ExtremeRandomTrees                0:00:37       0.9057    0.9097\n",
            "        27   MaxAbsScaler ExtremeRandomTrees                0:00:49       0.8956    0.9097\n",
            "        28   StandardScalerWrapper LightGBM                 0:00:44       0.8361    0.9097\n",
            "        29   MaxAbsScaler LightGBM                          0:00:47       0.8960    0.9097\n",
            "        30   RobustScaler RandomForest                      0:00:39       0.8939    0.9097\n",
            "        31   StandardScalerWrapper LightGBM                 0:00:47       0.9019    0.9097\n",
            "        32   StandardScalerWrapper LightGBM                 0:00:41       0.8959    0.9097\n",
            "        33   StandardScalerWrapper SVM                      0:00:49       0.8734    0.9097\n",
            "        34   StandardScalerWrapper XGBoostClassifier        0:00:46       0.9016    0.9097\n",
            "        35   RobustScaler RandomForest                      0:00:44       0.7369    0.9097\n",
            "        36   StandardScalerWrapper XGBoostClassifier        0:00:45       0.8886    0.9097\n",
            "        37   StandardScalerWrapper XGBoostClassifier        0:00:42       0.9039    0.9097\n",
            "        38   RobustScaler GradientBoosting                  0:00:41       0.9045    0.9097\n",
            "        39   MaxAbsScaler RandomForest                      0:00:29       0.9051    0.9097\n",
            "        40                                                  0:00:19          nan    0.9097\n",
            "        41                                                  0:00:24          nan    0.9097\n",
            "        42    VotingEnsemble                                0:01:31       0.9186    0.9186\n",
            "        43    StackEnsemble                                 0:01:29       0.9165    0.9186\n"
          ]
        }
      ],
      "execution_count": 9,
      "metadata": {
        "gather": {
          "logged": 1598431107951
        },
        "jupyter": {
          "outputs_hidden": false,
          "source_hidden": false
        },
        "nteract": {
          "transient": {
            "deleting": false
          }
        }
      }
    },
    {
      "cell_type": "markdown",
      "source": [
        "## Run  Details "
      ],
      "metadata": {}
    },
    {
      "cell_type": "code",
      "source": [
        "RunDetails(remote_run).show()"
      ],
      "outputs": [
        {
          "output_type": "display_data",
          "data": {
            "application/vnd.jupyter.widget-view+json": {
              "model_id": "cfa3dd35dea44848bff1e2df6c6e4848",
              "version_major": 2,
              "version_minor": 0
            },
            "text/plain": "_AutoMLWidget(widget_settings={'childWidgetDisplay': 'popup', 'send_telemetry': False, 'log_level': 'INFO', 's…"
          },
          "metadata": {}
        },
        {
          "output_type": "display_data",
          "data": {
            "application/aml.mini.widget.v1": "{\"status\": \"Completed\", \"workbench_run_details_uri\": \"https://ml.azure.com/experiments/capstone-heart-failure-exp/runs/AutoML_4fd07cb0-ac80-4b7d-b7e2-ef09714ad672?wsid=/subscriptions/6971f5ac-8af1-446e-8034-05acea24681f/resourcegroups/aml-quickstarts-133024/workspaces/quick-starts-ws-133024\", \"run_id\": \"AutoML_4fd07cb0-ac80-4b7d-b7e2-ef09714ad672\", \"run_properties\": {\"run_id\": \"AutoML_4fd07cb0-ac80-4b7d-b7e2-ef09714ad672\", \"created_utc\": \"2021-01-02T21:03:54.559892Z\", \"properties\": {\"num_iterations\": \"1000\", \"training_type\": \"TrainFull\", \"acquisition_function\": \"EI\", \"primary_metric\": \"AUC_weighted\", \"train_split\": \"0\", \"acquisition_parameter\": \"0\", \"num_cross_validation\": \"5\", \"target\": \"cpu-cluster\", \"AMLSettingsJsonString\": \"{\\\"path\\\":null,\\\"name\\\":\\\"capstone-heart-failure-exp\\\",\\\"subscription_id\\\":\\\"6971f5ac-8af1-446e-8034-05acea24681f\\\",\\\"resource_group\\\":\\\"aml-quickstarts-133024\\\",\\\"workspace_name\\\":\\\"quick-starts-ws-133024\\\",\\\"region\\\":\\\"southcentralus\\\",\\\"compute_target\\\":\\\"cpu-cluster\\\",\\\"spark_service\\\":null,\\\"azure_service\\\":\\\"remote\\\",\\\"many_models\\\":false,\\\"pipeline_fetch_max_batch_size\\\":1,\\\"iterations\\\":1000,\\\"primary_metric\\\":\\\"AUC_weighted\\\",\\\"task_type\\\":\\\"classification\\\",\\\"data_script\\\":null,\\\"validation_size\\\":0.0,\\\"n_cross_validations\\\":5,\\\"y_min\\\":null,\\\"y_max\\\":null,\\\"num_classes\\\":null,\\\"featurization\\\":\\\"auto\\\",\\\"_ignore_package_version_incompatibilities\\\":false,\\\"is_timeseries\\\":false,\\\"max_cores_per_iteration\\\":1,\\\"max_concurrent_iterations\\\":5,\\\"iteration_timeout_minutes\\\":null,\\\"mem_in_mb\\\":null,\\\"enforce_time_on_windows\\\":false,\\\"experiment_timeout_minutes\\\":30,\\\"experiment_exit_score\\\":null,\\\"whitelist_models\\\":null,\\\"blacklist_algos\\\":[\\\"TensorFlowLinearClassifier\\\",\\\"TensorFlowDNN\\\"],\\\"supported_models\\\":[\\\"LightGBM\\\",\\\"TensorFlowLinearClassifier\\\",\\\"BernoulliNaiveBayes\\\",\\\"KNN\\\",\\\"SVM\\\",\\\"LinearSVM\\\",\\\"GradientBoosting\\\",\\\"LogisticRegression\\\",\\\"MultinomialNaiveBayes\\\",\\\"DecisionTree\\\",\\\"AveragedPerceptronClassifier\\\",\\\"SGD\\\",\\\"TensorFlowDNN\\\",\\\"RandomForest\\\",\\\"ExtremeRandomTrees\\\",\\\"XGBoostClassifier\\\"],\\\"auto_blacklist\\\":true,\\\"blacklist_samples_reached\\\":false,\\\"exclude_nan_labels\\\":true,\\\"verbosity\\\":20,\\\"_debug_log\\\":\\\"azureml_automl.log\\\",\\\"show_warnings\\\":false,\\\"model_explainability\\\":true,\\\"service_url\\\":null,\\\"sdk_url\\\":null,\\\"sdk_packages\\\":null,\\\"enable_onnx_compatible_models\\\":false,\\\"enable_split_onnx_featurizer_estimator_models\\\":false,\\\"vm_type\\\":\\\"STANDARD_D2_V2\\\",\\\"telemetry_verbosity\\\":20,\\\"send_telemetry\\\":true,\\\"enable_dnn\\\":false,\\\"scenario\\\":\\\"SDK-1.13.0\\\",\\\"environment_label\\\":null,\\\"force_text_dnn\\\":false,\\\"enable_feature_sweeping\\\":true,\\\"enable_early_stopping\\\":true,\\\"early_stopping_n_iters\\\":10,\\\"metrics\\\":null,\\\"enable_ensembling\\\":true,\\\"enable_stack_ensembling\\\":true,\\\"ensemble_iterations\\\":15,\\\"enable_tf\\\":false,\\\"enable_subsampling\\\":null,\\\"subsample_seed\\\":null,\\\"enable_nimbusml\\\":false,\\\"enable_streaming\\\":false,\\\"force_streaming\\\":false,\\\"track_child_runs\\\":true,\\\"allowed_private_models\\\":[],\\\"label_column_name\\\":\\\"DEATH_EVENT\\\",\\\"weight_column_name\\\":null,\\\"cv_split_column_names\\\":null,\\\"enable_local_managed\\\":false,\\\"_local_managed_run_id\\\":null,\\\"cost_mode\\\":1,\\\"lag_length\\\":0,\\\"metric_operation\\\":\\\"maximize\\\",\\\"preprocess\\\":true}\", \"DataPrepJsonString\": \"{\\\\\\\"training_data\\\\\\\": \\\\\\\"{\\\\\\\\\\\\\\\"blocks\\\\\\\\\\\\\\\": [{\\\\\\\\\\\\\\\"id\\\\\\\\\\\\\\\": \\\\\\\\\\\\\\\"1d0c95a3-8dee-4f88-84f6-8411aff6e924\\\\\\\\\\\\\\\", \\\\\\\\\\\\\\\"type\\\\\\\\\\\\\\\": \\\\\\\\\\\\\\\"Microsoft.DPrep.GetDatastoreFilesBlock\\\\\\\\\\\\\\\", \\\\\\\\\\\\\\\"arguments\\\\\\\\\\\\\\\": {\\\\\\\\\\\\\\\"datastores\\\\\\\\\\\\\\\": [{\\\\\\\\\\\\\\\"datastoreName\\\\\\\\\\\\\\\": \\\\\\\\\\\\\\\"workspaceblobstore\\\\\\\\\\\\\\\", \\\\\\\\\\\\\\\"path\\\\\\\\\\\\\\\": \\\\\\\\\\\\\\\"UI/01-02-2021_085414_UTC/heart_failure_clinical_records_dataset.csv\\\\\\\\\\\\\\\", \\\\\\\\\\\\\\\"resourceGroup\\\\\\\\\\\\\\\": \\\\\\\\\\\\\\\"aml-quickstarts-133024\\\\\\\\\\\\\\\", \\\\\\\\\\\\\\\"subscription\\\\\\\\\\\\\\\": \\\\\\\\\\\\\\\"6971f5ac-8af1-446e-8034-05acea24681f\\\\\\\\\\\\\\\", \\\\\\\\\\\\\\\"workspaceName\\\\\\\\\\\\\\\": \\\\\\\\\\\\\\\"quick-starts-ws-133024\\\\\\\\\\\\\\\"}]}, \\\\\\\\\\\\\\\"localData\\\\\\\\\\\\\\\": {}, \\\\\\\\\\\\\\\"isEnabled\\\\\\\\\\\\\\\": true, \\\\\\\\\\\\\\\"name\\\\\\\\\\\\\\\": null, \\\\\\\\\\\\\\\"annotation\\\\\\\\\\\\\\\": null}, {\\\\\\\\\\\\\\\"id\\\\\\\\\\\\\\\": \\\\\\\\\\\\\\\"7ae63c35-456e-44ac-a3ef-53a80076b2fd\\\\\\\\\\\\\\\", \\\\\\\\\\\\\\\"type\\\\\\\\\\\\\\\": \\\\\\\\\\\\\\\"Microsoft.DPrep.ParseDelimitedBlock\\\\\\\\\\\\\\\", \\\\\\\\\\\\\\\"arguments\\\\\\\\\\\\\\\": {\\\\\\\\\\\\\\\"columnHeadersMode\\\\\\\\\\\\\\\": 1, \\\\\\\\\\\\\\\"fileEncoding\\\\\\\\\\\\\\\": 0, \\\\\\\\\\\\\\\"handleQuotedLineBreaks\\\\\\\\\\\\\\\": false, \\\\\\\\\\\\\\\"preview\\\\\\\\\\\\\\\": false, \\\\\\\\\\\\\\\"separator\\\\\\\\\\\\\\\": \\\\\\\\\\\\\\\",\\\\\\\\\\\\\\\", \\\\\\\\\\\\\\\"skipRows\\\\\\\\\\\\\\\": 0, \\\\\\\\\\\\\\\"skipRowsMode\\\\\\\\\\\\\\\": 0}, \\\\\\\\\\\\\\\"localData\\\\\\\\\\\\\\\": {}, \\\\\\\\\\\\\\\"isEnabled\\\\\\\\\\\\\\\": true, \\\\\\\\\\\\\\\"name\\\\\\\\\\\\\\\": null, \\\\\\\\\\\\\\\"annotation\\\\\\\\\\\\\\\": null}, {\\\\\\\\\\\\\\\"id\\\\\\\\\\\\\\\": \\\\\\\\\\\\\\\"cdd36863-b3ec-4f65-9ee5-9a04a3989ffc\\\\\\\\\\\\\\\", \\\\\\\\\\\\\\\"type\\\\\\\\\\\\\\\": \\\\\\\\\\\\\\\"Microsoft.DPrep.DropColumnsBlock\\\\\\\\\\\\\\\", \\\\\\\\\\\\\\\"arguments\\\\\\\\\\\\\\\": {\\\\\\\\\\\\\\\"columns\\\\\\\\\\\\\\\": {\\\\\\\\\\\\\\\"type\\\\\\\\\\\\\\\": 0, \\\\\\\\\\\\\\\"details\\\\\\\\\\\\\\\": {\\\\\\\\\\\\\\\"selectedColumns\\\\\\\\\\\\\\\": [\\\\\\\\\\\\\\\"Path\\\\\\\\\\\\\\\"]}}}, \\\\\\\\\\\\\\\"localData\\\\\\\\\\\\\\\": {}, \\\\\\\\\\\\\\\"isEnabled\\\\\\\\\\\\\\\": true, \\\\\\\\\\\\\\\"name\\\\\\\\\\\\\\\": null, \\\\\\\\\\\\\\\"annotation\\\\\\\\\\\\\\\": null}, {\\\\\\\\\\\\\\\"id\\\\\\\\\\\\\\\": \\\\\\\\\\\\\\\"f0eb8085-44f9-49b1-bea2-716b4c081c80\\\\\\\\\\\\\\\", \\\\\\\\\\\\\\\"type\\\\\\\\\\\\\\\": \\\\\\\\\\\\\\\"Microsoft.DPrep.SetColumnTypesBlock\\\\\\\\\\\\\\\", \\\\\\\\\\\\\\\"arguments\\\\\\\\\\\\\\\": {\\\\\\\\\\\\\\\"columnConversion\\\\\\\\\\\\\\\": [{\\\\\\\\\\\\\\\"column\\\\\\\\\\\\\\\": {\\\\\\\\\\\\\\\"type\\\\\\\\\\\\\\\": 2, \\\\\\\\\\\\\\\"details\\\\\\\\\\\\\\\": {\\\\\\\\\\\\\\\"selectedColumn\\\\\\\\\\\\\\\": \\\\\\\\\\\\\\\"Path\\\\\\\\\\\\\\\"}}, \\\\\\\\\\\\\\\"typeProperty\\\\\\\\\\\\\\\": 0}, {\\\\\\\\\\\\\\\"column\\\\\\\\\\\\\\\": {\\\\\\\\\\\\\\\"type\\\\\\\\\\\\\\\": 2, \\\\\\\\\\\\\\\"details\\\\\\\\\\\\\\\": {\\\\\\\\\\\\\\\"selectedColumn\\\\\\\\\\\\\\\": \\\\\\\\\\\\\\\"age\\\\\\\\\\\\\\\"}}, \\\\\\\\\\\\\\\"typeProperty\\\\\\\\\\\\\\\": 3}, {\\\\\\\\\\\\\\\"column\\\\\\\\\\\\\\\": {\\\\\\\\\\\\\\\"type\\\\\\\\\\\\\\\": 2, \\\\\\\\\\\\\\\"details\\\\\\\\\\\\\\\": {\\\\\\\\\\\\\\\"selectedColumn\\\\\\\\\\\\\\\": \\\\\\\\\\\\\\\"anaemia\\\\\\\\\\\\\\\"}}, \\\\\\\\\\\\\\\"typeProperty\\\\\\\\\\\\\\\": 2}, {\\\\\\\\\\\\\\\"column\\\\\\\\\\\\\\\": {\\\\\\\\\\\\\\\"type\\\\\\\\\\\\\\\": 2, \\\\\\\\\\\\\\\"details\\\\\\\\\\\\\\\": {\\\\\\\\\\\\\\\"selectedColumn\\\\\\\\\\\\\\\": \\\\\\\\\\\\\\\"creatinine_phosphokinase\\\\\\\\\\\\\\\"}}, \\\\\\\\\\\\\\\"typeProperty\\\\\\\\\\\\\\\": 2}, {\\\\\\\\\\\\\\\"column\\\\\\\\\\\\\\\": {\\\\\\\\\\\\\\\"type\\\\\\\\\\\\\\\": 2, \\\\\\\\\\\\\\\"details\\\\\\\\\\\\\\\": {\\\\\\\\\\\\\\\"selectedColumn\\\\\\\\\\\\\\\": \\\\\\\\\\\\\\\"diabetes\\\\\\\\\\\\\\\"}}, \\\\\\\\\\\\\\\"typeProperty\\\\\\\\\\\\\\\": 2}, {\\\\\\\\\\\\\\\"column\\\\\\\\\\\\\\\": {\\\\\\\\\\\\\\\"type\\\\\\\\\\\\\\\": 2, \\\\\\\\\\\\\\\"details\\\\\\\\\\\\\\\": {\\\\\\\\\\\\\\\"selectedColumn\\\\\\\\\\\\\\\": \\\\\\\\\\\\\\\"ejection_fraction\\\\\\\\\\\\\\\"}}, \\\\\\\\\\\\\\\"typeProperty\\\\\\\\\\\\\\\": 2}, {\\\\\\\\\\\\\\\"column\\\\\\\\\\\\\\\": {\\\\\\\\\\\\\\\"type\\\\\\\\\\\\\\\": 2, \\\\\\\\\\\\\\\"details\\\\\\\\\\\\\\\": {\\\\\\\\\\\\\\\"selectedColumn\\\\\\\\\\\\\\\": \\\\\\\\\\\\\\\"high_blood_pressure\\\\\\\\\\\\\\\"}}, \\\\\\\\\\\\\\\"typeProperty\\\\\\\\\\\\\\\": 2}, {\\\\\\\\\\\\\\\"column\\\\\\\\\\\\\\\": {\\\\\\\\\\\\\\\"type\\\\\\\\\\\\\\\": 2, \\\\\\\\\\\\\\\"details\\\\\\\\\\\\\\\": {\\\\\\\\\\\\\\\"selectedColumn\\\\\\\\\\\\\\\": \\\\\\\\\\\\\\\"platelets\\\\\\\\\\\\\\\"}}, \\\\\\\\\\\\\\\"typeProperty\\\\\\\\\\\\\\\": 3}, {\\\\\\\\\\\\\\\"column\\\\\\\\\\\\\\\": {\\\\\\\\\\\\\\\"type\\\\\\\\\\\\\\\": 2, \\\\\\\\\\\\\\\"details\\\\\\\\\\\\\\\": {\\\\\\\\\\\\\\\"selectedColumn\\\\\\\\\\\\\\\": \\\\\\\\\\\\\\\"serum_creatinine\\\\\\\\\\\\\\\"}}, \\\\\\\\\\\\\\\"typeProperty\\\\\\\\\\\\\\\": 3}, {\\\\\\\\\\\\\\\"column\\\\\\\\\\\\\\\": {\\\\\\\\\\\\\\\"type\\\\\\\\\\\\\\\": 2, \\\\\\\\\\\\\\\"details\\\\\\\\\\\\\\\": {\\\\\\\\\\\\\\\"selectedColumn\\\\\\\\\\\\\\\": \\\\\\\\\\\\\\\"serum_sodium\\\\\\\\\\\\\\\"}}, \\\\\\\\\\\\\\\"typeProperty\\\\\\\\\\\\\\\": 2}, {\\\\\\\\\\\\\\\"column\\\\\\\\\\\\\\\": {\\\\\\\\\\\\\\\"type\\\\\\\\\\\\\\\": 2, \\\\\\\\\\\\\\\"details\\\\\\\\\\\\\\\": {\\\\\\\\\\\\\\\"selectedColumn\\\\\\\\\\\\\\\": \\\\\\\\\\\\\\\"sex\\\\\\\\\\\\\\\"}}, \\\\\\\\\\\\\\\"typeProperty\\\\\\\\\\\\\\\": 2}, {\\\\\\\\\\\\\\\"column\\\\\\\\\\\\\\\": {\\\\\\\\\\\\\\\"type\\\\\\\\\\\\\\\": 2, \\\\\\\\\\\\\\\"details\\\\\\\\\\\\\\\": {\\\\\\\\\\\\\\\"selectedColumn\\\\\\\\\\\\\\\": \\\\\\\\\\\\\\\"smoking\\\\\\\\\\\\\\\"}}, \\\\\\\\\\\\\\\"typeProperty\\\\\\\\\\\\\\\": 2}, {\\\\\\\\\\\\\\\"column\\\\\\\\\\\\\\\": {\\\\\\\\\\\\\\\"type\\\\\\\\\\\\\\\": 2, \\\\\\\\\\\\\\\"details\\\\\\\\\\\\\\\": {\\\\\\\\\\\\\\\"selectedColumn\\\\\\\\\\\\\\\": \\\\\\\\\\\\\\\"time\\\\\\\\\\\\\\\"}}, \\\\\\\\\\\\\\\"typeProperty\\\\\\\\\\\\\\\": 2}, {\\\\\\\\\\\\\\\"column\\\\\\\\\\\\\\\": {\\\\\\\\\\\\\\\"type\\\\\\\\\\\\\\\": 2, \\\\\\\\\\\\\\\"details\\\\\\\\\\\\\\\": {\\\\\\\\\\\\\\\"selectedColumn\\\\\\\\\\\\\\\": \\\\\\\\\\\\\\\"DEATH_EVENT\\\\\\\\\\\\\\\"}}, \\\\\\\\\\\\\\\"typeProperty\\\\\\\\\\\\\\\": 2}]}, \\\\\\\\\\\\\\\"localData\\\\\\\\\\\\\\\": {}, \\\\\\\\\\\\\\\"isEnabled\\\\\\\\\\\\\\\": true, \\\\\\\\\\\\\\\"name\\\\\\\\\\\\\\\": null, \\\\\\\\\\\\\\\"annotation\\\\\\\\\\\\\\\": null}], \\\\\\\\\\\\\\\"inspectors\\\\\\\\\\\\\\\": [], \\\\\\\\\\\\\\\"meta\\\\\\\\\\\\\\\": {\\\\\\\\\\\\\\\"savedDatasetId\\\\\\\\\\\\\\\": \\\\\\\\\\\\\\\"0c56c727-865c-40dd-bbc0-429abeef289c\\\\\\\\\\\\\\\", \\\\\\\\\\\\\\\"datasetType\\\\\\\\\\\\\\\": \\\\\\\\\\\\\\\"tabular\\\\\\\\\\\\\\\", \\\\\\\\\\\\\\\"subscriptionId\\\\\\\\\\\\\\\": \\\\\\\\\\\\\\\"6971f5ac-8af1-446e-8034-05acea24681f\\\\\\\\\\\\\\\", \\\\\\\\\\\\\\\"workspaceId\\\\\\\\\\\\\\\": \\\\\\\\\\\\\\\"a6459fb7-b53d-4a0f-8403-bcfbe0fb6a1d\\\\\\\\\\\\\\\", \\\\\\\\\\\\\\\"workspaceLocation\\\\\\\\\\\\\\\": \\\\\\\\\\\\\\\"southcentralus\\\\\\\\\\\\\\\"}}\\\\\\\", \\\\\\\"activities\\\\\\\": 0}\", \"EnableSubsampling\": null, \"runTemplate\": \"AutoML\", \"azureml.runsource\": \"automl\", \"display_task_type\": \"classification\", \"dependencies_versions\": \"{\\\"azureml-widgets\\\": \\\"1.19.0\\\", \\\"azureml-train\\\": \\\"1.19.0\\\", \\\"azureml-train-restclients-hyperdrive\\\": \\\"1.19.0\\\", \\\"azureml-train-core\\\": \\\"1.19.0\\\", \\\"azureml-train-automl\\\": \\\"1.19.0\\\", \\\"azureml-train-automl-runtime\\\": \\\"1.19.0\\\", \\\"azureml-train-automl-client\\\": \\\"1.19.0\\\", \\\"azureml-tensorboard\\\": \\\"1.19.0\\\", \\\"azureml-telemetry\\\": \\\"1.19.0\\\", \\\"azureml-sdk\\\": \\\"1.19.0\\\", \\\"azureml-samples\\\": \\\"0+unknown\\\", \\\"azureml-pipeline\\\": \\\"1.19.0\\\", \\\"azureml-pipeline-steps\\\": \\\"1.19.0\\\", \\\"azureml-pipeline-core\\\": \\\"1.19.0\\\", \\\"azureml-opendatasets\\\": \\\"1.19.0\\\", \\\"azureml-model-management-sdk\\\": \\\"1.0.1b6.post1\\\", \\\"azureml-mlflow\\\": \\\"1.19.0\\\", \\\"azureml-interpret\\\": \\\"1.19.0\\\", \\\"azureml-explain-model\\\": \\\"1.19.0\\\", \\\"azureml-defaults\\\": \\\"1.19.0\\\", \\\"azureml-dataset-runtime\\\": \\\"1.19.0\\\", \\\"azureml-dataprep\\\": \\\"2.6.1\\\", \\\"azureml-dataprep-rslex\\\": \\\"1.4.0\\\", \\\"azureml-dataprep-native\\\": \\\"26.0.0\\\", \\\"azureml-datadrift\\\": \\\"1.19.0\\\", \\\"azureml-core\\\": \\\"1.19.0\\\", \\\"azureml-contrib-services\\\": \\\"1.19.0\\\", \\\"azureml-contrib-server\\\": \\\"1.19.0\\\", \\\"azureml-contrib-reinforcementlearning\\\": \\\"1.19.0\\\", \\\"azureml-contrib-pipeline-steps\\\": \\\"1.19.0\\\", \\\"azureml-contrib-notebook\\\": \\\"1.19.0\\\", \\\"azureml-contrib-interpret\\\": \\\"1.19.0\\\", \\\"azureml-contrib-gbdt\\\": \\\"1.19.0\\\", \\\"azureml-contrib-fairness\\\": \\\"1.19.0\\\", \\\"azureml-contrib-dataset\\\": \\\"1.19.0\\\", \\\"azureml-cli-common\\\": \\\"1.19.0\\\", \\\"azureml-automl-runtime\\\": \\\"1.19.0\\\", \\\"azureml-automl-core\\\": \\\"1.19.0\\\", \\\"azureml-accel-models\\\": \\\"1.19.0\\\"}\", \"_aml_system_scenario_identification\": \"Remote.Parent\", \"ClientType\": \"SDK\", \"environment_cpu_name\": \"AzureML-AutoML\", \"environment_cpu_label\": \"prod\", \"environment_gpu_name\": \"AzureML-AutoML-GPU\", \"environment_gpu_label\": \"prod\", \"root_attribution\": \"automl\", \"attribution\": \"AutoML\", \"Orchestrator\": \"AutoML\", \"CancelUri\": \"https://southcentralus.experiments.azureml.net/jasmine/v1.0/subscriptions/6971f5ac-8af1-446e-8034-05acea24681f/resourceGroups/aml-quickstarts-133024/providers/Microsoft.MachineLearningServices/workspaces/quick-starts-ws-133024/experimentids/cf884178-1240-4f98-8fa1-a7bb053fb78d/cancel/AutoML_4fd07cb0-ac80-4b7d-b7e2-ef09714ad672\", \"ClientSdkVersion\": \"1.19.0\", \"snapshotId\": \"00000000-0000-0000-0000-000000000000\", \"SetupRunId\": \"AutoML_4fd07cb0-ac80-4b7d-b7e2-ef09714ad672_setup\", \"SetupRunContainerId\": \"dcid.AutoML_4fd07cb0-ac80-4b7d-b7e2-ef09714ad672_setup\", \"FeaturizationRunJsonPath\": \"featurizer_container.json\", \"FeaturizationRunId\": \"AutoML_4fd07cb0-ac80-4b7d-b7e2-ef09714ad672_featurize\", \"ProblemInfoJsonString\": \"{\\\"dataset_num_categorical\\\": 0, \\\"is_sparse\\\": false, \\\"subsampling\\\": false, \\\"dataset_classes\\\": 2, \\\"dataset_features\\\": 12, \\\"dataset_samples\\\": 299, \\\"single_frequency_class_detected\\\": false}\", \"ModelExplainRunId\": \"AutoML_4fd07cb0-ac80-4b7d-b7e2-ef09714ad672_ModelExplain\"}, \"tags\": {\"model_explain_run\": \"best_run\", \"_aml_system_azureml.automlComponent\": \"AutoML\", \"pipeline_id\": \"\", \"score\": \"\", \"predicted_cost\": \"\", \"fit_time\": \"\", \"training_percent\": \"\", \"iteration\": \"\", \"run_preprocessor\": \"\", \"run_algorithm\": \"\", \"dynamic_whitelisting_iterations\": \"<25>;<30>;<35>;<40>;\", \"automl_best_child_run_id\": \"AutoML_4fd07cb0-ac80-4b7d-b7e2-ef09714ad672_42\"}, \"end_time_utc\": \"2021-01-02T21:24:30.2221Z\", \"status\": \"Completed\", \"log_files\": {}, \"log_groups\": [], \"run_duration\": \"0:20:35\"}, \"child_runs\": [{\"run_id\": \"AutoML_4fd07cb0-ac80-4b7d-b7e2-ef09714ad672_0\", \"run_number\": 5, \"metric\": null, \"status\": \"Completed\", \"run_type\": \"azureml.scriptrun\", \"training_percent\": \"100\", \"start_time\": \"2021-01-02T21:09:06.597281Z\", \"end_time\": \"2021-01-02T21:09:51.237699Z\", \"created_time\": \"2021-01-02T21:08:54.936984Z\", \"created_time_dt\": \"2021-01-02T21:08:54.936984Z\", \"duration\": \"0:00:56\", \"iteration\": \"0\", \"goal\": \"AUC_weighted_max\", \"run_name\": \"MaxAbsScaler, LightGBM\", \"run_properties\": \"copy=True\", \"primary_metric\": 0.88113312, \"best_metric\": 0.88113312}, {\"run_id\": \"AutoML_4fd07cb0-ac80-4b7d-b7e2-ef09714ad672_2\", \"run_number\": 6, \"metric\": null, \"status\": \"Completed\", \"run_type\": \"azureml.scriptrun\", \"training_percent\": \"100\", \"start_time\": \"2021-01-02T21:12:36.874003Z\", \"end_time\": \"2021-01-02T21:13:22.950003Z\", \"created_time\": \"2021-01-02T21:08:55.062487Z\", \"created_time_dt\": \"2021-01-02T21:08:55.062487Z\", \"duration\": \"0:04:27\", \"iteration\": \"2\", \"goal\": \"AUC_weighted_max\", \"run_name\": \"MinMaxScaler, RandomForest\", \"run_properties\": \"copy=True, feature_range=(0, 1\", \"primary_metric\": 0.90128082, \"best_metric\": 0.90128082}, {\"run_id\": \"AutoML_4fd07cb0-ac80-4b7d-b7e2-ef09714ad672_3\", \"run_number\": 7, \"metric\": null, \"status\": \"Completed\", \"run_type\": \"azureml.scriptrun\", \"training_percent\": \"100\", \"start_time\": \"2021-01-02T21:09:57.046321Z\", \"end_time\": \"2021-01-02T21:10:39.222251Z\", \"created_time\": \"2021-01-02T21:08:55.066479Z\", \"created_time_dt\": \"2021-01-02T21:08:55.066479Z\", \"duration\": \"0:01:44\", \"iteration\": \"3\", \"goal\": \"AUC_weighted_max\", \"run_name\": \"RobustScaler, ExtremeRandomTrees\", \"run_properties\": \"copy=True, quantile_range=[10, 90], with_centering=False,\\n             with_scaling=False\", \"primary_metric\": 0.88367043, \"best_metric\": 0.90128082}, {\"run_id\": \"AutoML_4fd07cb0-ac80-4b7d-b7e2-ef09714ad672_1\", \"run_number\": 8, \"metric\": null, \"status\": \"Completed\", \"run_type\": \"azureml.scriptrun\", \"training_percent\": \"100\", \"start_time\": \"2021-01-02T21:10:43.36521Z\", \"end_time\": \"2021-01-02T21:11:32.512416Z\", \"created_time\": \"2021-01-02T21:08:55.198955Z\", \"created_time_dt\": \"2021-01-02T21:08:55.198955Z\", \"duration\": \"0:02:37\", \"iteration\": \"1\", \"goal\": \"AUC_weighted_max\", \"run_name\": \"MaxAbsScaler, XGBoostClassifier\", \"run_properties\": \"copy=True\", \"primary_metric\": 0.89295912, \"best_metric\": 0.89295912}, {\"run_id\": \"AutoML_4fd07cb0-ac80-4b7d-b7e2-ef09714ad672_4\", \"run_number\": 9, \"metric\": null, \"status\": \"Completed\", \"run_type\": \"azureml.scriptrun\", \"training_percent\": \"100\", \"start_time\": \"2021-01-02T21:11:33.346516Z\", \"end_time\": \"2021-01-02T21:12:31.893971Z\", \"created_time\": \"2021-01-02T21:08:55.209657Z\", \"created_time_dt\": \"2021-01-02T21:08:55.209657Z\", \"duration\": \"0:03:36\", \"iteration\": \"4\", \"goal\": \"AUC_weighted_max\", \"run_name\": \"MinMaxScaler, RandomForest\", \"run_properties\": \"copy=True, feature_range=(0, 1\", \"primary_metric\": 0.89856536, \"best_metric\": 0.90128082}, {\"run_id\": \"AutoML_4fd07cb0-ac80-4b7d-b7e2-ef09714ad672_5\", \"run_number\": 10, \"metric\": null, \"status\": \"Completed\", \"run_type\": \"azureml.scriptrun\", \"training_percent\": \"100\", \"start_time\": \"2021-01-02T21:12:51.324074Z\", \"end_time\": \"2021-01-02T21:16:06.429422Z\", \"created_time\": \"2021-01-02T21:09:54.2368Z\", \"created_time_dt\": \"2021-01-02T21:09:54.2368Z\", \"duration\": \"0:06:12\", \"iteration\": \"5\", \"goal\": \"AUC_weighted_max\", \"run_name\": \"MinMaxScaler, RandomForest\", \"run_properties\": \"copy=True, feature_range=(0, 1\", \"primary_metric\": 0.89052683, \"best_metric\": 0.90128082}, {\"run_id\": \"AutoML_4fd07cb0-ac80-4b7d-b7e2-ef09714ad672_6\", \"run_number\": 11, \"metric\": null, \"status\": \"Completed\", \"run_type\": \"azureml.scriptrun\", \"training_percent\": \"100\", \"start_time\": \"2021-01-02T21:12:49.21595Z\", \"end_time\": \"2021-01-02T21:16:03.441369Z\", \"created_time\": \"2021-01-02T21:10:44.426011Z\", \"created_time_dt\": \"2021-01-02T21:10:44.426011Z\", \"duration\": \"0:05:19\", \"iteration\": \"6\", \"goal\": \"AUC_weighted_max\", \"run_name\": \"StandardScalerWrapper, RandomForest\", \"run_properties\": \"<azureml.automl.runtime.shared.model_wrappers.StandardScalerWrapper object at 0x7f0e769c8ba8\", \"primary_metric\": 0.89468429, \"best_metric\": 0.90128082}, {\"run_id\": \"AutoML_4fd07cb0-ac80-4b7d-b7e2-ef09714ad672_7\", \"run_number\": 12, \"metric\": null, \"status\": \"Completed\", \"run_type\": \"azureml.scriptrun\", \"training_percent\": \"100\", \"start_time\": \"2021-01-02T21:12:49.501488Z\", \"end_time\": \"2021-01-02T21:16:09.220606Z\", \"created_time\": \"2021-01-02T21:11:37.432133Z\", \"created_time_dt\": \"2021-01-02T21:11:37.432133Z\", \"duration\": \"0:04:31\", \"iteration\": \"7\", \"goal\": \"AUC_weighted_max\", \"run_name\": \"MinMaxScaler, ExtremeRandomTrees\", \"run_properties\": \"copy=True, feature_range=(0, 1\", \"primary_metric\": 0.88630302, \"best_metric\": 0.90128082}, {\"run_id\": \"AutoML_4fd07cb0-ac80-4b7d-b7e2-ef09714ad672_8\", \"run_number\": 13, \"metric\": null, \"status\": \"Completed\", \"run_type\": \"azureml.scriptrun\", \"training_percent\": \"100\", \"start_time\": \"2021-01-02T21:13:23.384842Z\", \"end_time\": \"2021-01-02T21:14:09.160311Z\", \"created_time\": \"2021-01-02T21:12:36.465419Z\", \"created_time_dt\": \"2021-01-02T21:12:36.465419Z\", \"duration\": \"0:01:32\", \"iteration\": \"8\", \"goal\": \"AUC_weighted_max\", \"run_name\": \"MinMaxScaler, ExtremeRandomTrees\", \"run_properties\": \"copy=True, feature_range=(0, 1\", \"primary_metric\": 0.87148057, \"best_metric\": 0.90128082}, {\"run_id\": \"AutoML_4fd07cb0-ac80-4b7d-b7e2-ef09714ad672_9\", \"run_number\": 14, \"metric\": null, \"status\": \"Completed\", \"run_type\": \"azureml.scriptrun\", \"training_percent\": \"100\", \"start_time\": \"2021-01-02T21:14:09.644966Z\", \"end_time\": \"2021-01-02T21:14:54.19492Z\", \"created_time\": \"2021-01-02T21:13:28.456124Z\", \"created_time_dt\": \"2021-01-02T21:13:28.456124Z\", \"duration\": \"0:01:25\", \"iteration\": \"9\", \"goal\": \"AUC_weighted_max\", \"run_name\": \"SparseNormalizer, KNN\", \"run_properties\": \"<azureml.automl.runtime.shared.model_wrappers.SparseNormalizer object at 0x7f8a0a839588\", \"primary_metric\": 0.75147268, \"best_metric\": 0.90128082}, {\"run_id\": \"AutoML_4fd07cb0-ac80-4b7d-b7e2-ef09714ad672_10\", \"run_number\": 15, \"metric\": null, \"status\": \"Completed\", \"run_type\": \"azureml.scriptrun\", \"training_percent\": \"100\", \"start_time\": \"2021-01-02T21:14:58.576954Z\", \"end_time\": \"2021-01-02T21:15:50.344977Z\", \"created_time\": \"2021-01-02T21:14:13.995817Z\", \"created_time_dt\": \"2021-01-02T21:14:13.995817Z\", \"duration\": \"0:01:36\", \"iteration\": \"10\", \"goal\": \"AUC_weighted_max\", \"run_name\": \"MinMaxScaler, ExtremeRandomTrees\", \"run_properties\": \"copy=True, feature_range=(0, 1\", \"primary_metric\": 0.86887828, \"best_metric\": 0.90128082}, {\"run_id\": \"AutoML_4fd07cb0-ac80-4b7d-b7e2-ef09714ad672_11\", \"run_number\": 16, \"metric\": null, \"status\": \"Completed\", \"run_type\": \"azureml.scriptrun\", \"training_percent\": \"100\", \"start_time\": \"2021-01-02T21:15:53.929016Z\", \"end_time\": \"2021-01-02T21:16:38.117427Z\", \"created_time\": \"2021-01-02T21:14:58.857958Z\", \"created_time_dt\": \"2021-01-02T21:14:58.857958Z\", \"duration\": \"0:01:39\", \"iteration\": \"11\", \"goal\": \"AUC_weighted_max\", \"run_name\": \"RobustScaler, ExtremeRandomTrees\", \"run_properties\": \"copy=True, quantile_range=[10, 90], with_centering=True,\\n             with_scaling=False\", \"primary_metric\": 0.90028511, \"best_metric\": 0.90128082}, {\"run_id\": \"AutoML_4fd07cb0-ac80-4b7d-b7e2-ef09714ad672_12\", \"run_number\": 17, \"metric\": null, \"status\": \"Completed\", \"run_type\": \"azureml.scriptrun\", \"training_percent\": \"100\", \"start_time\": \"2021-01-02T21:16:07.525531Z\", \"end_time\": \"2021-01-02T21:16:55.00094Z\", \"created_time\": \"2021-01-02T21:15:54.971738Z\", \"created_time_dt\": \"2021-01-02T21:15:54.971738Z\", \"duration\": \"0:01:00\", \"iteration\": \"12\", \"goal\": \"AUC_weighted_max\", \"run_name\": \"StandardScalerWrapper, RandomForest\", \"run_properties\": \"<azureml.automl.runtime.shared.model_wrappers.StandardScalerWrapper object at 0x7f1939566278\", \"primary_metric\": 0.89547289, \"best_metric\": 0.90128082}, {\"run_id\": \"AutoML_4fd07cb0-ac80-4b7d-b7e2-ef09714ad672_13\", \"run_number\": 18, \"metric\": null, \"status\": \"Completed\", \"run_type\": \"azureml.scriptrun\", \"training_percent\": \"100\", \"start_time\": \"2021-01-02T21:16:22.866261Z\", \"end_time\": \"2021-01-02T21:17:03.265807Z\", \"created_time\": \"2021-01-02T21:16:07.978692Z\", \"created_time_dt\": \"2021-01-02T21:16:07.978692Z\", \"duration\": \"0:00:55\", \"iteration\": \"13\", \"goal\": \"AUC_weighted_max\", \"run_name\": \"StandardScalerWrapper, SGD\", \"run_properties\": \"<azureml.automl.runtime.shared.model_wrappers.StandardScalerWrapper object at 0x7fcad9346748\", \"primary_metric\": 0.87249259, \"best_metric\": 0.90128082}, {\"run_id\": \"AutoML_4fd07cb0-ac80-4b7d-b7e2-ef09714ad672_14\", \"run_number\": 19, \"metric\": null, \"status\": \"Completed\", \"run_type\": \"azureml.scriptrun\", \"training_percent\": \"100\", \"start_time\": \"2021-01-02T21:16:43.310494Z\", \"end_time\": \"2021-01-02T21:17:33.414626Z\", \"created_time\": \"2021-01-02T21:16:16.195041Z\", \"created_time_dt\": \"2021-01-02T21:16:16.195041Z\", \"duration\": \"0:01:17\", \"iteration\": \"14\", \"goal\": \"AUC_weighted_max\", \"run_name\": \"RobustScaler, RandomForest\", \"run_properties\": \"copy=True, quantile_range=[10, 90], with_centering=True,\\n             with_scaling=False\", \"primary_metric\": 0.88646168, \"best_metric\": 0.90128082}, {\"run_id\": \"AutoML_4fd07cb0-ac80-4b7d-b7e2-ef09714ad672_15\", \"run_number\": 20, \"metric\": null, \"status\": \"Completed\", \"run_type\": \"azureml.scriptrun\", \"training_percent\": \"100\", \"start_time\": \"2021-01-02T21:16:26.968615Z\", \"end_time\": \"2021-01-02T21:17:05.970865Z\", \"created_time\": \"2021-01-02T21:16:16.331581Z\", \"created_time_dt\": \"2021-01-02T21:16:16.331581Z\", \"duration\": \"0:00:49\", \"iteration\": \"15\", \"goal\": \"AUC_weighted_max\", \"run_name\": \"StandardScalerWrapper, KNN\", \"run_properties\": \"<azureml.automl.runtime.shared.model_wrappers.StandardScalerWrapper object at 0x7ffb51866be0\", \"primary_metric\": 0.48227656, \"best_metric\": 0.90128082}, {\"run_id\": \"AutoML_4fd07cb0-ac80-4b7d-b7e2-ef09714ad672_16\", \"run_number\": 21, \"metric\": null, \"status\": \"Completed\", \"run_type\": \"azureml.scriptrun\", \"training_percent\": \"100\", \"start_time\": \"2021-01-02T21:16:58.304138Z\", \"end_time\": \"2021-01-02T21:17:53.211314Z\", \"created_time\": \"2021-01-02T21:16:42.101219Z\", \"created_time_dt\": \"2021-01-02T21:16:42.101219Z\", \"duration\": \"0:01:11\", \"iteration\": \"16\", \"goal\": \"AUC_weighted_max\", \"run_name\": \"MinMaxScaler, RandomForest\", \"run_properties\": \"copy=True, feature_range=(0, 1\", \"primary_metric\": 0.88530034, \"best_metric\": 0.90128082}, {\"run_id\": \"AutoML_4fd07cb0-ac80-4b7d-b7e2-ef09714ad672_17\", \"run_number\": 22, \"metric\": null, \"status\": \"Completed\", \"run_type\": \"azureml.scriptrun\", \"training_percent\": \"100\", \"start_time\": \"2021-01-02T21:17:13.200178Z\", \"end_time\": \"2021-01-02T21:17:54.150102Z\", \"created_time\": \"2021-01-02T21:16:58.775046Z\", \"created_time_dt\": \"2021-01-02T21:16:58.775046Z\", \"duration\": \"0:00:55\", \"iteration\": \"17\", \"goal\": \"AUC_weighted_max\", \"run_name\": \"MinMaxScaler, ExtremeRandomTrees\", \"run_properties\": \"copy=True, feature_range=(0, 1\", \"primary_metric\": 0.84647937, \"best_metric\": 0.90128082}, {\"run_id\": \"AutoML_4fd07cb0-ac80-4b7d-b7e2-ef09714ad672_18\", \"run_number\": 23, \"metric\": null, \"status\": \"Completed\", \"run_type\": \"azureml.scriptrun\", \"training_percent\": \"100\", \"start_time\": \"2021-01-02T21:17:21.198119Z\", \"end_time\": \"2021-01-02T21:18:01.141093Z\", \"created_time\": \"2021-01-02T21:17:06.869955Z\", \"created_time_dt\": \"2021-01-02T21:17:06.869955Z\", \"duration\": \"0:00:54\", \"iteration\": \"18\", \"goal\": \"AUC_weighted_max\", \"run_name\": \"MaxAbsScaler, RandomForest\", \"run_properties\": \"copy=True\", \"primary_metric\": 0.89829151, \"best_metric\": 0.90128082}, {\"run_id\": \"AutoML_4fd07cb0-ac80-4b7d-b7e2-ef09714ad672_19\", \"run_number\": 24, \"metric\": null, \"status\": \"Completed\", \"run_type\": \"azureml.scriptrun\", \"training_percent\": \"100\", \"start_time\": \"2021-01-02T21:17:37.308474Z\", \"end_time\": \"2021-01-02T21:18:22.861674Z\", \"created_time\": \"2021-01-02T21:17:14.744531Z\", \"created_time_dt\": \"2021-01-02T21:17:14.744531Z\", \"duration\": \"0:01:08\", \"iteration\": \"19\", \"goal\": \"AUC_weighted_max\", \"run_name\": \"StandardScalerWrapper, XGBoostClassifier\", \"run_properties\": \"<azureml.automl.runtime.shared.model_wrappers.StandardScalerWrapper object at 0x7fcfd00699b0\", \"primary_metric\": 0.90716837, \"best_metric\": 0.90716837}, {\"run_id\": \"AutoML_4fd07cb0-ac80-4b7d-b7e2-ef09714ad672_20\", \"run_number\": 25, \"metric\": null, \"status\": \"Completed\", \"run_type\": \"azureml.scriptrun\", \"training_percent\": \"100\", \"start_time\": \"2021-01-02T21:17:55.067717Z\", \"end_time\": \"2021-01-02T21:18:45.373446Z\", \"created_time\": \"2021-01-02T21:17:37.214466Z\", \"created_time_dt\": \"2021-01-02T21:17:37.214466Z\", \"duration\": \"0:01:08\", \"iteration\": \"20\", \"goal\": \"AUC_weighted_max\", \"run_name\": \"MaxAbsScaler, RandomForest\", \"run_properties\": \"copy=True\", \"primary_metric\": 0.9013346, \"best_metric\": 0.90716837}, {\"run_id\": \"AutoML_4fd07cb0-ac80-4b7d-b7e2-ef09714ad672_21\", \"run_number\": 26, \"metric\": null, \"status\": \"Completed\", \"run_type\": \"azureml.scriptrun\", \"training_percent\": \"100\", \"start_time\": \"2021-01-02T21:18:10.173276Z\", \"end_time\": \"2021-01-02T21:18:49.688838Z\", \"created_time\": \"2021-01-02T21:17:57.886641Z\", \"created_time_dt\": \"2021-01-02T21:17:57.886641Z\", \"duration\": \"0:00:51\", \"iteration\": \"21\", \"goal\": \"AUC_weighted_max\", \"run_name\": \"MaxAbsScaler, ExtremeRandomTrees\", \"run_properties\": \"copy=True\", \"primary_metric\": 0.85889546, \"best_metric\": 0.90716837}, {\"run_id\": \"AutoML_4fd07cb0-ac80-4b7d-b7e2-ef09714ad672_22\", \"run_number\": 27, \"metric\": null, \"status\": \"Completed\", \"run_type\": \"azureml.scriptrun\", \"training_percent\": \"100\", \"start_time\": \"2021-01-02T21:18:15.736301Z\", \"end_time\": \"2021-01-02T21:18:54.775843Z\", \"created_time\": \"2021-01-02T21:18:04.489928Z\", \"created_time_dt\": \"2021-01-02T21:18:04.489928Z\", \"duration\": \"0:00:50\", \"iteration\": \"22\", \"goal\": \"AUC_weighted_max\", \"run_name\": \"MaxAbsScaler, ExtremeRandomTrees\", \"run_properties\": \"copy=True\", \"primary_metric\": 0.86321537, \"best_metric\": 0.90716837}, {\"run_id\": \"AutoML_4fd07cb0-ac80-4b7d-b7e2-ef09714ad672_23\", \"run_number\": 28, \"metric\": null, \"status\": \"Completed\", \"run_type\": \"azureml.scriptrun\", \"training_percent\": \"100\", \"start_time\": \"2021-01-02T21:18:25.231031Z\", \"end_time\": \"2021-01-02T21:19:18.306176Z\", \"created_time\": \"2021-01-02T21:18:04.494152Z\", \"created_time_dt\": \"2021-01-02T21:18:04.494152Z\", \"duration\": \"0:01:13\", \"iteration\": \"23\", \"goal\": \"AUC_weighted_max\", \"run_name\": \"MinMaxScaler, RandomForest\", \"run_properties\": \"copy=True, feature_range=(0, 1\", \"primary_metric\": 0.90972619, \"best_metric\": 0.90972619}, {\"run_id\": \"AutoML_4fd07cb0-ac80-4b7d-b7e2-ef09714ad672_24\", \"run_number\": 29, \"metric\": null, \"status\": \"Completed\", \"run_type\": \"azureml.scriptrun\", \"training_percent\": \"100\", \"start_time\": \"2021-01-02T21:18:51.283328Z\", \"end_time\": \"2021-01-02T21:19:34.08118Z\", \"created_time\": \"2021-01-02T21:18:26.2932Z\", \"created_time_dt\": \"2021-01-02T21:18:26.2932Z\", \"duration\": \"0:01:07\", \"iteration\": \"24\", \"goal\": \"AUC_weighted_max\", \"run_name\": \"MaxAbsScaler, RandomForest\", \"run_properties\": \"copy=True\", \"primary_metric\": 0.89161914, \"best_metric\": 0.90972619}, {\"run_id\": \"AutoML_4fd07cb0-ac80-4b7d-b7e2-ef09714ad672_25\", \"run_number\": 30, \"metric\": null, \"status\": \"Completed\", \"run_type\": \"azureml.scriptrun\", \"training_percent\": \"100\", \"start_time\": \"2021-01-02T21:19:03.276875Z\", \"end_time\": \"2021-01-02T21:19:50.888392Z\", \"created_time\": \"2021-01-02T21:18:51.115929Z\", \"created_time_dt\": \"2021-01-02T21:18:51.115929Z\", \"duration\": \"0:00:59\", \"iteration\": \"25\", \"goal\": \"AUC_weighted_max\", \"run_name\": \"PCA, XGBoostClassifier\", \"run_properties\": \"copy=True, iterated_power='auto', n_components=0.01, random_state=None,\\n    svd_solver='auto', tol=0.0, whiten=False\", \"primary_metric\": 0.45647436, \"best_metric\": 0.90972619}, {\"run_id\": \"AutoML_4fd07cb0-ac80-4b7d-b7e2-ef09714ad672_27\", \"run_number\": 31, \"metric\": null, \"status\": \"Completed\", \"run_type\": \"azureml.scriptrun\", \"training_percent\": \"100\", \"start_time\": \"2021-01-02T21:19:22.055227Z\", \"end_time\": \"2021-01-02T21:20:11.465746Z\", \"created_time\": \"2021-01-02T21:18:57.401632Z\", \"created_time_dt\": \"2021-01-02T21:18:57.401632Z\", \"duration\": \"0:01:14\", \"iteration\": \"27\", \"goal\": \"AUC_weighted_max\", \"run_name\": \"MaxAbsScaler, ExtremeRandomTrees\", \"run_properties\": \"copy=True\", \"primary_metric\": 0.89562996, \"best_metric\": 0.90972619}, {\"run_id\": \"AutoML_4fd07cb0-ac80-4b7d-b7e2-ef09714ad672_26\", \"run_number\": 32, \"metric\": null, \"status\": \"Completed\", \"run_type\": \"azureml.scriptrun\", \"training_percent\": \"100\", \"start_time\": \"2021-01-02T21:19:10.046127Z\", \"end_time\": \"2021-01-02T21:19:47.202904Z\", \"created_time\": \"2021-01-02T21:18:57.434214Z\", \"created_time_dt\": \"2021-01-02T21:18:57.434214Z\", \"duration\": \"0:00:49\", \"iteration\": \"26\", \"goal\": \"AUC_weighted_max\", \"run_name\": \"MinMaxScaler, ExtremeRandomTrees\", \"run_properties\": \"copy=True, feature_range=(0, 1\", \"primary_metric\": 0.90572552, \"best_metric\": 0.90972619}, {\"run_id\": \"AutoML_4fd07cb0-ac80-4b7d-b7e2-ef09714ad672_28\", \"run_number\": 33, \"metric\": null, \"status\": \"Completed\", \"run_type\": \"azureml.scriptrun\", \"training_percent\": \"100\", \"start_time\": \"2021-01-02T21:19:40.289313Z\", \"end_time\": \"2021-01-02T21:20:24.554201Z\", \"created_time\": \"2021-01-02T21:19:21.870311Z\", \"created_time_dt\": \"2021-01-02T21:19:21.870311Z\", \"duration\": \"0:01:02\", \"iteration\": \"28\", \"goal\": \"AUC_weighted_max\", \"run_name\": \"StandardScalerWrapper, LightGBM\", \"run_properties\": \"<azureml.automl.runtime.shared.model_wrappers.StandardScalerWrapper object at 0x7f1045050f60\", \"primary_metric\": 0.83613861, \"best_metric\": 0.90972619}, {\"run_id\": \"AutoML_4fd07cb0-ac80-4b7d-b7e2-ef09714ad672_29\", \"run_number\": 34, \"metric\": null, \"status\": \"Completed\", \"run_type\": \"azureml.scriptrun\", \"training_percent\": \"100\", \"start_time\": \"2021-01-02T21:19:52.678122Z\", \"end_time\": \"2021-01-02T21:20:39.861077Z\", \"created_time\": \"2021-01-02T21:19:37.466698Z\", \"created_time_dt\": \"2021-01-02T21:19:37.466698Z\", \"duration\": \"0:01:02\", \"iteration\": \"29\", \"goal\": \"AUC_weighted_max\", \"run_name\": \"MaxAbsScaler, LightGBM\", \"run_properties\": \"copy=True\", \"primary_metric\": 0.89600794, \"best_metric\": 0.90972619}, {\"run_id\": \"AutoML_4fd07cb0-ac80-4b7d-b7e2-ef09714ad672_30\", \"run_number\": 35, \"metric\": null, \"status\": \"Completed\", \"run_type\": \"azureml.scriptrun\", \"training_percent\": \"100\", \"start_time\": \"2021-01-02T21:20:01.603776Z\", \"end_time\": \"2021-01-02T21:20:40.607667Z\", \"created_time\": \"2021-01-02T21:19:50.528541Z\", \"created_time_dt\": \"2021-01-02T21:19:50.528541Z\", \"duration\": \"0:00:50\", \"iteration\": \"30\", \"goal\": \"AUC_weighted_max\", \"run_name\": \"RobustScaler, RandomForest\", \"run_properties\": \"copy=True, quantile_range=[25, 75], with_centering=False,\\n             with_scaling=True\", \"primary_metric\": 0.89390259, \"best_metric\": 0.90972619}, {\"run_id\": \"AutoML_4fd07cb0-ac80-4b7d-b7e2-ef09714ad672_31\", \"run_number\": 36, \"metric\": null, \"status\": \"Completed\", \"run_type\": \"azureml.scriptrun\", \"training_percent\": \"100\", \"start_time\": \"2021-01-02T21:20:13.85156Z\", \"end_time\": \"2021-01-02T21:21:00.577624Z\", \"created_time\": \"2021-01-02T21:19:55.782736Z\", \"created_time_dt\": \"2021-01-02T21:19:55.782736Z\", \"duration\": \"0:01:04\", \"iteration\": \"31\", \"goal\": \"AUC_weighted_max\", \"run_name\": \"StandardScalerWrapper, LightGBM\", \"run_properties\": \"<azureml.automl.runtime.shared.model_wrappers.StandardScalerWrapper object at 0x7f5158050a58\", \"primary_metric\": 0.90194055, \"best_metric\": 0.90972619}, {\"run_id\": \"AutoML_4fd07cb0-ac80-4b7d-b7e2-ef09714ad672_32\", \"run_number\": 37, \"metric\": null, \"status\": \"Completed\", \"run_type\": \"azureml.scriptrun\", \"training_percent\": \"100\", \"start_time\": \"2021-01-02T21:20:29.208324Z\", \"end_time\": \"2021-01-02T21:21:10.556695Z\", \"created_time\": \"2021-01-02T21:20:13.950506Z\", \"created_time_dt\": \"2021-01-02T21:20:13.950506Z\", \"duration\": \"0:00:56\", \"iteration\": \"32\", \"goal\": \"AUC_weighted_max\", \"run_name\": \"StandardScalerWrapper, LightGBM\", \"run_properties\": \"<azureml.automl.runtime.shared.model_wrappers.StandardScalerWrapper object at 0x7f4e98085ac8\", \"primary_metric\": 0.89588554, \"best_metric\": 0.90972619}, {\"run_id\": \"AutoML_4fd07cb0-ac80-4b7d-b7e2-ef09714ad672_33\", \"run_number\": 38, \"metric\": null, \"status\": \"Completed\", \"run_type\": \"azureml.scriptrun\", \"training_percent\": \"100\", \"start_time\": \"2021-01-02T21:20:43.36983Z\", \"end_time\": \"2021-01-02T21:21:32.309468Z\", \"created_time\": \"2021-01-02T21:20:27.736406Z\", \"created_time_dt\": \"2021-01-02T21:20:27.736406Z\", \"duration\": \"0:01:04\", \"iteration\": \"33\", \"goal\": \"AUC_weighted_max\", \"run_name\": \"StandardScalerWrapper, SVM\", \"run_properties\": \"<azureml.automl.runtime.shared.model_wrappers.StandardScalerWrapper object at 0x7f5c64d1a550\", \"primary_metric\": 0.87337069, \"best_metric\": 0.90972619}, {\"run_id\": \"AutoML_4fd07cb0-ac80-4b7d-b7e2-ef09714ad672_34\", \"run_number\": 39, \"metric\": null, \"status\": \"Completed\", \"run_type\": \"azureml.scriptrun\", \"training_percent\": \"100\", \"start_time\": \"2021-01-02T21:20:55.774928Z\", \"end_time\": \"2021-01-02T21:21:41.410425Z\", \"created_time\": \"2021-01-02T21:20:42.321628Z\", \"created_time_dt\": \"2021-01-02T21:20:42.321628Z\", \"duration\": \"0:00:59\", \"iteration\": \"34\", \"goal\": \"AUC_weighted_max\", \"run_name\": \"StandardScalerWrapper, XGBoostClassifier\", \"run_properties\": \"<azureml.automl.runtime.shared.model_wrappers.StandardScalerWrapper object at 0x7fc2bcc6c400\", \"primary_metric\": 0.90162032, \"best_metric\": 0.90972619}, {\"run_id\": \"AutoML_4fd07cb0-ac80-4b7d-b7e2-ef09714ad672_35\", \"run_number\": 40, \"metric\": null, \"status\": \"Completed\", \"run_type\": \"azureml.scriptrun\", \"training_percent\": \"100\", \"start_time\": \"2021-01-02T21:21:07.236611Z\", \"end_time\": \"2021-01-02T21:21:51.366226Z\", \"created_time\": \"2021-01-02T21:20:49.191555Z\", \"created_time_dt\": \"2021-01-02T21:20:49.191555Z\", \"duration\": \"0:01:02\", \"iteration\": \"35\", \"goal\": \"AUC_weighted_max\", \"run_name\": \"RobustScaler, RandomForest\", \"run_properties\": \"copy=True, quantile_range=[10, 90], with_centering=False,\\n             with_scaling=False\", \"primary_metric\": 0.73693917, \"best_metric\": 0.90972619}, {\"run_id\": \"AutoML_4fd07cb0-ac80-4b7d-b7e2-ef09714ad672_36\", \"run_number\": 41, \"metric\": null, \"status\": \"Completed\", \"run_type\": \"azureml.scriptrun\", \"training_percent\": \"100\", \"start_time\": \"2021-01-02T21:21:16.163742Z\", \"end_time\": \"2021-01-02T21:22:00.691683Z\", \"created_time\": \"2021-01-02T21:21:02.965842Z\", \"created_time_dt\": \"2021-01-02T21:21:02.965842Z\", \"duration\": \"0:00:57\", \"iteration\": \"36\", \"goal\": \"AUC_weighted_max\", \"run_name\": \"StandardScalerWrapper, XGBoostClassifier\", \"run_properties\": \"<azureml.automl.runtime.shared.model_wrappers.StandardScalerWrapper object at 0x7fb5282b9668\", \"primary_metric\": 0.88861388, \"best_metric\": 0.90972619}, {\"run_id\": \"AutoML_4fd07cb0-ac80-4b7d-b7e2-ef09714ad672_37\", \"run_number\": 42, \"metric\": null, \"status\": \"Completed\", \"run_type\": \"azureml.scriptrun\", \"training_percent\": \"100\", \"start_time\": \"2021-01-02T21:21:35.51912Z\", \"end_time\": \"2021-01-02T21:22:17.706932Z\", \"created_time\": \"2021-01-02T21:21:13.19264Z\", \"created_time_dt\": \"2021-01-02T21:21:13.19264Z\", \"duration\": \"0:01:04\", \"iteration\": \"37\", \"goal\": \"AUC_weighted_max\", \"run_name\": \"StandardScalerWrapper, XGBoostClassifier\", \"run_properties\": \"<azureml.automl.runtime.shared.model_wrappers.StandardScalerWrapper object at 0x7f40d017bbe0\", \"primary_metric\": 0.90391288, \"best_metric\": 0.90972619}, {\"run_id\": \"AutoML_4fd07cb0-ac80-4b7d-b7e2-ef09714ad672_38\", \"run_number\": 43, \"metric\": null, \"status\": \"Canceled\", \"run_type\": \"azureml.scriptrun\", \"training_percent\": \"100\", \"start_time\": \"2021-01-02T21:21:46.514156Z\", \"end_time\": \"2021-01-02T21:22:27.949843Z\", \"created_time\": \"2021-01-02T21:21:35.08581Z\", \"created_time_dt\": \"2021-01-02T21:21:35.08581Z\", \"duration\": \"0:00:52\", \"iteration\": \"38\", \"goal\": \"AUC_weighted_max\", \"run_name\": \"RobustScaler, GradientBoosting\", \"run_properties\": \"copy=True, quantile_range=[10, 90], with_centering=True,\\n             with_scaling=False\", \"primary_metric\": 0.90451924, \"best_metric\": 0.90972619}, {\"run_id\": \"AutoML_4fd07cb0-ac80-4b7d-b7e2-ef09714ad672_39\", \"run_number\": 44, \"metric\": null, \"status\": \"Canceled\", \"run_type\": \"azureml.scriptrun\", \"training_percent\": \"100\", \"start_time\": \"2021-01-02T21:21:57.540525Z\", \"end_time\": \"2021-01-02T21:22:26.780066Z\", \"created_time\": \"2021-01-02T21:21:43.909311Z\", \"created_time_dt\": \"2021-01-02T21:21:43.909311Z\", \"duration\": \"0:00:42\", \"iteration\": \"39\", \"goal\": null, \"run_name\": \"MaxAbsScaler, RandomForest\", \"run_properties\": null, \"primary_metric\": 0.90505775, \"best_metric\": 0.90972619}, {\"run_id\": \"AutoML_4fd07cb0-ac80-4b7d-b7e2-ef09714ad672_40\", \"run_number\": 45, \"metric\": null, \"status\": \"Canceled\", \"run_type\": \"azureml.scriptrun\", \"training_percent\": \"100\", \"start_time\": \"2021-01-02T21:22:07.082401Z\", \"end_time\": \"2021-01-02T21:22:26.380025Z\", \"created_time\": \"2021-01-02T21:21:54.764083Z\", \"created_time_dt\": \"2021-01-02T21:21:54.764083Z\", \"duration\": \"0:00:31\", \"iteration\": \"40\", \"goal\": null, \"run_name\": \"Canceled\", \"run_properties\": null}, {\"run_id\": \"AutoML_4fd07cb0-ac80-4b7d-b7e2-ef09714ad672_41\", \"run_number\": 46, \"metric\": null, \"status\": \"Canceled\", \"run_type\": \"azureml.scriptrun\", \"training_percent\": \"100\", \"start_time\": \"2021-01-02T21:22:02.746711Z\", \"end_time\": \"2021-01-02T21:22:26.781017Z\", \"created_time\": \"2021-01-02T21:22:02.746711Z\", \"created_time_dt\": \"2021-01-02T21:22:02.746711Z\", \"duration\": \"0:00:24\", \"iteration\": \"41\", \"goal\": null, \"run_name\": \"Canceled\", \"run_properties\": null}, {\"run_id\": \"AutoML_4fd07cb0-ac80-4b7d-b7e2-ef09714ad672_42\", \"run_number\": 47, \"metric\": null, \"status\": \"Completed\", \"run_type\": \"azureml.scriptrun\", \"training_percent\": \"100\", \"start_time\": \"2021-01-02T21:22:41.848866Z\", \"end_time\": \"2021-01-02T21:24:12.825897Z\", \"created_time\": \"2021-01-02T21:22:29.105348Z\", \"created_time_dt\": \"2021-01-02T21:22:29.105348Z\", \"duration\": \"0:01:43\", \"iteration\": \"42\", \"goal\": \"AUC_weighted_max\", \"run_name\": \"VotingEnsemble\", \"run_properties\": \"classification_labels=None,\\n                              estimators=[('23',\\n                                           Pipeline(memory=None,\\n                                                    steps=[('minmaxscaler',\\n                                                            MinMaxScaler(copy=True,\\n                                                                         feature_range=(0,\\n                                                                                        1\", \"primary_metric\": 0.91858264, \"best_metric\": 0.91858264}, {\"run_id\": \"AutoML_4fd07cb0-ac80-4b7d-b7e2-ef09714ad672_43\", \"run_number\": 48, \"metric\": null, \"status\": \"Completed\", \"run_type\": \"azureml.scriptrun\", \"training_percent\": \"100\", \"start_time\": \"2021-01-02T21:22:41.636301Z\", \"end_time\": \"2021-01-02T21:24:10.485046Z\", \"created_time\": \"2021-01-02T21:22:29.264284Z\", \"created_time_dt\": \"2021-01-02T21:22:29.264284Z\", \"duration\": \"0:01:41\", \"iteration\": \"43\", \"goal\": \"AUC_weighted_max\", \"run_name\": \"StackEnsemble\", \"run_properties\": \"base_learners=[('23',\\n                                        Pipeline(memory=None,\\n                                                 steps=[('minmaxscaler',\\n                                                         MinMaxScaler(copy=True,\\n                                                                      feature_range=(0,\\n                                                                                     1\", \"primary_metric\": 0.9165161, \"best_metric\": 0.91858264}], \"children_metrics\": {\"categories\": [0], \"series\": {\"average_precision_score_weighted\": [{\"categories\": [\"0\", \"1\", \"2\", \"3\", \"4\", \"5\", \"6\", \"7\", \"8\", \"9\", \"10\", \"11\", \"12\", \"13\", \"14\", \"15\", \"16\", \"17\", \"18\", \"19\", \"20\", \"21\", \"22\", \"23\", \"24\", \"25\", \"26\", \"27\", \"28\", \"29\", \"30\", \"31\", \"32\", \"33\", \"34\", \"35\", \"36\", \"37\", \"38\", \"39\", \"42\", \"43\"], \"mode\": \"markers\", \"name\": \"average_precision_score_weighted\", \"stepped\": false, \"type\": \"scatter\", \"data\": [0.8955370396295249, 0.9103506263314479, 0.9135229212123177, 0.8985987541142968, 0.9104638664061687, 0.9037953594237134, 0.9112405013402458, 0.9030877768330455, 0.8844711192715693, 0.7862334416854537, 0.8873538746983746, 0.9126672778610437, 0.9132338329498794, 0.8907934896978537, 0.903981459166696, 0.6031702289152213, 0.9020375701292739, 0.8687802595178822, 0.9096408942705889, 0.919057585478878, 0.9112665414133083, 0.8765840058257723, 0.8756425268671759, 0.9212892608988806, 0.9073548525697731, 0.5685077432640913, 0.9173913956606972, 0.9086581813232651, 0.857171522290308, 0.9102791215546692, 0.9113113159083597, 0.9173034744878923, 0.9076840129386989, 0.8896966481317425, 0.91252175945386, 0.759944640457907, 0.9008368702271264, 0.9191165615272467, 0.9173296082716028, 0.9183210789708592, 0.9305214589292345, 0.9291561404218214]}, {\"categories\": [\"0\", \"1\", \"2\", \"3\", \"4\", \"5\", \"6\", \"7\", \"8\", \"9\", \"10\", \"11\", \"12\", \"13\", \"14\", \"15\", \"16\", \"17\", \"18\", \"19\", \"20\", \"21\", \"22\", \"23\", \"24\", \"25\", \"26\", \"27\", \"28\", \"29\", \"30\", \"31\", \"32\", \"33\", \"34\", \"35\", \"36\", \"37\", \"38\", \"39\", \"42\", \"43\"], \"mode\": \"lines\", \"name\": \"average_precision_score_weighted_max\", \"stepped\": true, \"type\": \"scatter\", \"data\": [0.8955370396295249, 0.9103506263314479, 0.9135229212123177, 0.9135229212123177, 0.9135229212123177, 0.9135229212123177, 0.9135229212123177, 0.9135229212123177, 0.9135229212123177, 0.9135229212123177, 0.9135229212123177, 0.9135229212123177, 0.9135229212123177, 0.9135229212123177, 0.9135229212123177, 0.9135229212123177, 0.9135229212123177, 0.9135229212123177, 0.9135229212123177, 0.919057585478878, 0.919057585478878, 0.919057585478878, 0.919057585478878, 0.9212892608988806, 0.9212892608988806, 0.9212892608988806, 0.9212892608988806, 0.9212892608988806, 0.9212892608988806, 0.9212892608988806, 0.9212892608988806, 0.9212892608988806, 0.9212892608988806, 0.9212892608988806, 0.9212892608988806, 0.9212892608988806, 0.9212892608988806, 0.9212892608988806, 0.9212892608988806, 0.9212892608988806, 0.9305214589292345, 0.9305214589292345]}], \"accuracy\": [{\"categories\": [\"0\", \"1\", \"2\", \"3\", \"4\", \"5\", \"6\", \"7\", \"8\", \"9\", \"10\", \"11\", \"12\", \"13\", \"14\", \"15\", \"16\", \"17\", \"18\", \"19\", \"20\", \"21\", \"22\", \"23\", \"24\", \"25\", \"26\", \"27\", \"28\", \"29\", \"30\", \"31\", \"32\", \"33\", \"34\", \"35\", \"36\", \"37\", \"38\", \"39\", \"42\", \"43\"], \"mode\": \"markers\", \"name\": \"accuracy\", \"stepped\": false, \"type\": \"scatter\", \"data\": [0.8059887005649717, 0.8259322033898304, 0.8528248587570622, 0.7926553672316385, 0.8124858757062146, 0.8059322033898306, 0.8292090395480226, 0.8428248587570621, 0.7559322033898306, 0.7593220338983051, 0.7926553672316385, 0.8193785310734463, 0.772316384180791, 0.8227118644067797, 0.8193220338983049, 0.6153107344632769, 0.7624293785310734, 0.782542372881356, 0.8024293785310734, 0.822768361581921, 0.8327683615819209, 0.7959322033898306, 0.8159887005649716, 0.8192655367231637, 0.8026553672316383, 0.6724293785310734, 0.8361016949152542, 0.8160451977401131, 0.7125423728813558, 0.8359887005649718, 0.8159322033898306, 0.8258757062146893, 0.8361581920903955, 0.7993220338983051, 0.8325988700564972, 0.67909604519774, 0.8158757062146892, 0.8393785310734463, 0.8227118644067797, 0.8024293785310734, 0.8461581920903954, 0.67909604519774]}, {\"categories\": [\"0\", \"1\", \"2\", \"3\", \"4\", \"5\", \"6\", \"7\", \"8\", \"9\", \"10\", \"11\", \"12\", \"13\", \"14\", \"15\", \"16\", \"17\", \"18\", \"19\", \"20\", \"21\", \"22\", \"23\", \"24\", \"25\", \"26\", \"27\", \"28\", \"29\", \"30\", \"31\", \"32\", \"33\", \"34\", \"35\", \"36\", \"37\", \"38\", \"39\", \"42\", \"43\"], \"mode\": \"lines\", \"name\": \"accuracy_max\", \"stepped\": true, \"type\": \"scatter\", \"data\": [0.8059887005649717, 0.8259322033898304, 0.8528248587570622, 0.8528248587570622, 0.8528248587570622, 0.8528248587570622, 0.8528248587570622, 0.8528248587570622, 0.8528248587570622, 0.8528248587570622, 0.8528248587570622, 0.8528248587570622, 0.8528248587570622, 0.8528248587570622, 0.8528248587570622, 0.8528248587570622, 0.8528248587570622, 0.8528248587570622, 0.8528248587570622, 0.8528248587570622, 0.8528248587570622, 0.8528248587570622, 0.8528248587570622, 0.8528248587570622, 0.8528248587570622, 0.8528248587570622, 0.8528248587570622, 0.8528248587570622, 0.8528248587570622, 0.8528248587570622, 0.8528248587570622, 0.8528248587570622, 0.8528248587570622, 0.8528248587570622, 0.8528248587570622, 0.8528248587570622, 0.8528248587570622, 0.8528248587570622, 0.8528248587570622, 0.8528248587570622, 0.8528248587570622, 0.8528248587570622]}], \"recall_score_micro\": [{\"categories\": [\"0\", \"1\", \"2\", \"3\", \"4\", \"5\", \"6\", \"7\", \"8\", \"9\", \"10\", \"11\", \"12\", \"13\", \"14\", \"15\", \"16\", \"17\", \"18\", \"19\", \"20\", \"21\", \"22\", \"23\", \"24\", \"25\", \"26\", \"27\", \"28\", \"29\", \"30\", \"31\", \"32\", \"33\", \"34\", \"35\", \"36\", \"37\", \"38\", \"39\", \"42\", \"43\"], \"mode\": \"markers\", \"name\": \"recall_score_micro\", \"stepped\": false, \"type\": \"scatter\", \"data\": [0.8059887005649717, 0.8259322033898304, 0.8528248587570622, 0.7926553672316385, 0.8124858757062146, 0.8059322033898306, 0.8292090395480226, 0.8428248587570621, 0.7559322033898306, 0.7593220338983051, 0.7926553672316385, 0.8193785310734463, 0.772316384180791, 0.8227118644067797, 0.8193220338983049, 0.6153107344632769, 0.7624293785310734, 0.782542372881356, 0.8024293785310734, 0.822768361581921, 0.8327683615819209, 0.7959322033898306, 0.8159887005649716, 0.8192655367231637, 0.8026553672316383, 0.6724293785310734, 0.8361016949152542, 0.8160451977401131, 0.7125423728813558, 0.8359887005649718, 0.8159322033898306, 0.8258757062146893, 0.8361581920903955, 0.7993220338983051, 0.8325988700564972, 0.67909604519774, 0.8158757062146892, 0.8393785310734463, 0.8227118644067797, 0.8024293785310734, 0.8461581920903954, 0.67909604519774]}, {\"categories\": [\"0\", \"1\", \"2\", \"3\", \"4\", \"5\", \"6\", \"7\", \"8\", \"9\", \"10\", \"11\", \"12\", \"13\", \"14\", \"15\", \"16\", \"17\", \"18\", \"19\", \"20\", \"21\", \"22\", \"23\", \"24\", \"25\", \"26\", \"27\", \"28\", \"29\", \"30\", \"31\", \"32\", \"33\", \"34\", \"35\", \"36\", \"37\", \"38\", \"39\", \"42\", \"43\"], \"mode\": \"lines\", \"name\": \"recall_score_micro_max\", \"stepped\": true, \"type\": \"scatter\", \"data\": [0.8059887005649717, 0.8259322033898304, 0.8528248587570622, 0.8528248587570622, 0.8528248587570622, 0.8528248587570622, 0.8528248587570622, 0.8528248587570622, 0.8528248587570622, 0.8528248587570622, 0.8528248587570622, 0.8528248587570622, 0.8528248587570622, 0.8528248587570622, 0.8528248587570622, 0.8528248587570622, 0.8528248587570622, 0.8528248587570622, 0.8528248587570622, 0.8528248587570622, 0.8528248587570622, 0.8528248587570622, 0.8528248587570622, 0.8528248587570622, 0.8528248587570622, 0.8528248587570622, 0.8528248587570622, 0.8528248587570622, 0.8528248587570622, 0.8528248587570622, 0.8528248587570622, 0.8528248587570622, 0.8528248587570622, 0.8528248587570622, 0.8528248587570622, 0.8528248587570622, 0.8528248587570622, 0.8528248587570622, 0.8528248587570622, 0.8528248587570622, 0.8528248587570622, 0.8528248587570622]}], \"precision_score_weighted\": [{\"categories\": [\"0\", \"1\", \"2\", \"3\", \"4\", \"5\", \"6\", \"7\", \"8\", \"9\", \"10\", \"11\", \"12\", \"13\", \"14\", \"15\", \"16\", \"17\", \"18\", \"19\", \"20\", \"21\", \"22\", \"23\", \"24\", \"25\", \"26\", \"27\", \"28\", \"29\", \"30\", \"31\", \"32\", \"33\", \"34\", \"35\", \"36\", \"37\", \"38\", \"39\", \"42\", \"43\"], \"mode\": \"markers\", \"name\": \"precision_score_weighted\", \"stepped\": false, \"type\": \"scatter\", \"data\": [0.8237683758533973, 0.8403871377947292, 0.861982141838074, 0.8246055689970092, 0.8305697128653261, 0.8337369342085628, 0.8435929341927867, 0.8580043607309056, 0.7829165191728193, 0.7695882951514441, 0.8254686650150072, 0.8386205837924965, 0.826759619927128, 0.8438901283454351, 0.8511864449598582, 0.6019922322856948, 0.7963011864232116, 0.8011335311429166, 0.8342024102148116, 0.8449394581537387, 0.8451035465289152, 0.8149944788901683, 0.8281592459619365, 0.845462159732287, 0.8186412080668598, 0.5542051490946873, 0.8521972344758332, 0.8349551036792257, 0.793737268094523, 0.8495723516958609, 0.8316405870866174, 0.8398810904809432, 0.8497670534606131, 0.8202747697331276, 0.8458486361626629, 0.4689005075169971, 0.8357234811272354, 0.8526632989845184, 0.8410258614132706, 0.8351264020373359, 0.8599866693557885, 0.4689005075169971]}, {\"categories\": [\"0\", \"1\", \"2\", \"3\", \"4\", \"5\", \"6\", \"7\", \"8\", \"9\", \"10\", \"11\", \"12\", \"13\", \"14\", \"15\", \"16\", \"17\", \"18\", \"19\", \"20\", \"21\", \"22\", \"23\", \"24\", \"25\", \"26\", \"27\", \"28\", \"29\", \"30\", \"31\", \"32\", \"33\", \"34\", \"35\", \"36\", \"37\", \"38\", \"39\", \"42\", \"43\"], \"mode\": \"lines\", \"name\": \"precision_score_weighted_max\", \"stepped\": true, \"type\": \"scatter\", \"data\": [0.8237683758533973, 0.8403871377947292, 0.861982141838074, 0.861982141838074, 0.861982141838074, 0.861982141838074, 0.861982141838074, 0.861982141838074, 0.861982141838074, 0.861982141838074, 0.861982141838074, 0.861982141838074, 0.861982141838074, 0.861982141838074, 0.861982141838074, 0.861982141838074, 0.861982141838074, 0.861982141838074, 0.861982141838074, 0.861982141838074, 0.861982141838074, 0.861982141838074, 0.861982141838074, 0.861982141838074, 0.861982141838074, 0.861982141838074, 0.861982141838074, 0.861982141838074, 0.861982141838074, 0.861982141838074, 0.861982141838074, 0.861982141838074, 0.861982141838074, 0.861982141838074, 0.861982141838074, 0.861982141838074, 0.861982141838074, 0.861982141838074, 0.861982141838074, 0.861982141838074, 0.861982141838074, 0.861982141838074]}], \"average_precision_score_macro\": [{\"categories\": [\"0\", \"1\", \"2\", \"3\", \"4\", \"5\", \"6\", \"7\", \"8\", \"9\", \"10\", \"11\", \"12\", \"13\", \"14\", \"15\", \"16\", \"17\", \"18\", \"19\", \"20\", \"21\", \"22\", \"23\", \"24\", \"25\", \"26\", \"27\", \"28\", \"29\", \"30\", \"31\", \"32\", \"33\", \"34\", \"35\", \"36\", \"37\", \"38\", \"39\", \"42\", \"43\"], \"mode\": \"markers\", \"name\": \"average_precision_score_macro\", \"stepped\": false, \"type\": \"scatter\", \"data\": [0.8655792376041671, 0.8826936933050062, 0.8816654177732989, 0.8708559836887373, 0.880817263411765, 0.8755005590725977, 0.8901311473252435, 0.875944429888851, 0.8547330228637524, 0.7455889577323558, 0.8632653466548297, 0.8895057141434772, 0.8880527542722166, 0.855197604648712, 0.8720140483840595, 0.5525347928626576, 0.8710995587117395, 0.8316135804933156, 0.8813453571259904, 0.8968251072606875, 0.8903552756716715, 0.8458686421130832, 0.839991642205937, 0.8989592585058069, 0.8778249693927551, 0.5002708990723186, 0.8933131880424254, 0.883983033297741, 0.8219306543453037, 0.8859177092063772, 0.8868593968927664, 0.894243191823312, 0.8849277272915396, 0.8534000385592513, 0.8828824081484375, 0.6921540658359173, 0.8703020044589295, 0.8957170294640491, 0.890189335077846, 0.8946921479539242, 0.9100324469100484, 0.9076855993332342]}, {\"categories\": [\"0\", \"1\", \"2\", \"3\", \"4\", \"5\", \"6\", \"7\", \"8\", \"9\", \"10\", \"11\", \"12\", \"13\", \"14\", \"15\", \"16\", \"17\", \"18\", \"19\", \"20\", \"21\", \"22\", \"23\", \"24\", \"25\", \"26\", \"27\", \"28\", \"29\", \"30\", \"31\", \"32\", \"33\", \"34\", \"35\", \"36\", \"37\", \"38\", \"39\", \"42\", \"43\"], \"mode\": \"lines\", \"name\": \"average_precision_score_macro_max\", \"stepped\": true, \"type\": \"scatter\", \"data\": [0.8655792376041671, 0.8826936933050062, 0.8826936933050062, 0.8826936933050062, 0.8826936933050062, 0.8826936933050062, 0.8901311473252435, 0.8901311473252435, 0.8901311473252435, 0.8901311473252435, 0.8901311473252435, 0.8901311473252435, 0.8901311473252435, 0.8901311473252435, 0.8901311473252435, 0.8901311473252435, 0.8901311473252435, 0.8901311473252435, 0.8901311473252435, 0.8968251072606875, 0.8968251072606875, 0.8968251072606875, 0.8968251072606875, 0.8989592585058069, 0.8989592585058069, 0.8989592585058069, 0.8989592585058069, 0.8989592585058069, 0.8989592585058069, 0.8989592585058069, 0.8989592585058069, 0.8989592585058069, 0.8989592585058069, 0.8989592585058069, 0.8989592585058069, 0.8989592585058069, 0.8989592585058069, 0.8989592585058069, 0.8989592585058069, 0.8989592585058069, 0.9100324469100484, 0.9100324469100484]}], \"norm_macro_recall\": [{\"categories\": [\"0\", \"1\", \"2\", \"3\", \"4\", \"5\", \"6\", \"7\", \"8\", \"9\", \"10\", \"11\", \"12\", \"13\", \"14\", \"15\", \"16\", \"17\", \"18\", \"19\", \"20\", \"21\", \"22\", \"23\", \"24\", \"25\", \"26\", \"27\", \"28\", \"29\", \"30\", \"31\", \"32\", \"33\", \"34\", \"35\", \"36\", \"37\", \"38\", \"39\", \"42\", \"43\"], \"mode\": \"markers\", \"name\": \"norm_macro_recall\", \"stepped\": false, \"type\": \"scatter\", \"data\": [0.5520418050941306, 0.6120251937984496, 0.6442095791805095, 0.4315393133997786, 0.5878502214839425, 0.5567275747508306, 0.6136918604651164, 0.6072369878183832, 0.3068881506090807, 0.34136074197120714, 0.4099916943521594, 0.5192691029900331, 0.5838801218161683, 0.5884191583610188, 0.6326882613510522, 0.07768133997785158, 0.3560382059800664, 0.5376287375415283, 0.6045514950166113, 0.5869905869324474, 0.6178322259136213, 0.5490060908084164, 0.5714465669988925, 0.6358181063122924, 0.4759357696566999, 0.062364341085271356, 0.6327643964562568, 0.5944310631229236, 0.11761904761904765, 0.6166846622369878, 0.5904263565891472, 0.6036918604651164, 0.6034869878183832, 0.5237763012181617, 0.6192954042081948, 0.0, 0.5837596899224806, 0.6255024916943521, 0.5621179401993356, 0.6213884274640089, 0.6456298449612403, 0.0]}, {\"categories\": [\"0\", \"1\", \"2\", \"3\", \"4\", \"5\", \"6\", \"7\", \"8\", \"9\", \"10\", \"11\", \"12\", \"13\", \"14\", \"15\", \"16\", \"17\", \"18\", \"19\", \"20\", \"21\", \"22\", \"23\", \"24\", \"25\", \"26\", \"27\", \"28\", \"29\", \"30\", \"31\", \"32\", \"33\", \"34\", \"35\", \"36\", \"37\", \"38\", \"39\", \"42\", \"43\"], \"mode\": \"lines\", \"name\": \"norm_macro_recall_max\", \"stepped\": true, \"type\": \"scatter\", \"data\": [0.5520418050941306, 0.6120251937984496, 0.6442095791805095, 0.6442095791805095, 0.6442095791805095, 0.6442095791805095, 0.6442095791805095, 0.6442095791805095, 0.6442095791805095, 0.6442095791805095, 0.6442095791805095, 0.6442095791805095, 0.6442095791805095, 0.6442095791805095, 0.6442095791805095, 0.6442095791805095, 0.6442095791805095, 0.6442095791805095, 0.6442095791805095, 0.6442095791805095, 0.6442095791805095, 0.6442095791805095, 0.6442095791805095, 0.6442095791805095, 0.6442095791805095, 0.6442095791805095, 0.6442095791805095, 0.6442095791805095, 0.6442095791805095, 0.6442095791805095, 0.6442095791805095, 0.6442095791805095, 0.6442095791805095, 0.6442095791805095, 0.6442095791805095, 0.6442095791805095, 0.6442095791805095, 0.6442095791805095, 0.6442095791805095, 0.6442095791805095, 0.6456298449612403, 0.6456298449612403]}], \"precision_score_micro\": [{\"categories\": [\"0\", \"1\", \"2\", \"3\", \"4\", \"5\", \"6\", \"7\", \"8\", \"9\", \"10\", \"11\", \"12\", \"13\", \"14\", \"15\", \"16\", \"17\", \"18\", \"19\", \"20\", \"21\", \"22\", \"23\", \"24\", \"25\", \"26\", \"27\", \"28\", \"29\", \"30\", \"31\", \"32\", \"33\", \"34\", \"35\", \"36\", \"37\", \"38\", \"39\", \"42\", \"43\"], \"mode\": \"markers\", \"name\": \"precision_score_micro\", \"stepped\": false, \"type\": \"scatter\", \"data\": [0.8059887005649717, 0.8259322033898304, 0.8528248587570622, 0.7926553672316385, 0.8124858757062146, 0.8059322033898306, 0.8292090395480226, 0.8428248587570621, 0.7559322033898306, 0.7593220338983051, 0.7926553672316385, 0.8193785310734463, 0.772316384180791, 0.8227118644067797, 0.8193220338983049, 0.6153107344632769, 0.7624293785310734, 0.782542372881356, 0.8024293785310734, 0.822768361581921, 0.8327683615819209, 0.7959322033898306, 0.8159887005649716, 0.8192655367231637, 0.8026553672316383, 0.6724293785310734, 0.8361016949152542, 0.8160451977401131, 0.7125423728813558, 0.8359887005649718, 0.8159322033898306, 0.8258757062146893, 0.8361581920903955, 0.7993220338983051, 0.8325988700564972, 0.67909604519774, 0.8158757062146892, 0.8393785310734463, 0.8227118644067797, 0.8024293785310734, 0.8461581920903954, 0.67909604519774]}, {\"categories\": [\"0\", \"1\", \"2\", \"3\", \"4\", \"5\", \"6\", \"7\", \"8\", \"9\", \"10\", \"11\", \"12\", \"13\", \"14\", \"15\", \"16\", \"17\", \"18\", \"19\", \"20\", \"21\", \"22\", \"23\", \"24\", \"25\", \"26\", \"27\", \"28\", \"29\", \"30\", \"31\", \"32\", \"33\", \"34\", \"35\", \"36\", \"37\", \"38\", \"39\", \"42\", \"43\"], \"mode\": \"lines\", \"name\": \"precision_score_micro_max\", \"stepped\": true, \"type\": \"scatter\", \"data\": [0.8059887005649717, 0.8259322033898304, 0.8528248587570622, 0.8528248587570622, 0.8528248587570622, 0.8528248587570622, 0.8528248587570622, 0.8528248587570622, 0.8528248587570622, 0.8528248587570622, 0.8528248587570622, 0.8528248587570622, 0.8528248587570622, 0.8528248587570622, 0.8528248587570622, 0.8528248587570622, 0.8528248587570622, 0.8528248587570622, 0.8528248587570622, 0.8528248587570622, 0.8528248587570622, 0.8528248587570622, 0.8528248587570622, 0.8528248587570622, 0.8528248587570622, 0.8528248587570622, 0.8528248587570622, 0.8528248587570622, 0.8528248587570622, 0.8528248587570622, 0.8528248587570622, 0.8528248587570622, 0.8528248587570622, 0.8528248587570622, 0.8528248587570622, 0.8528248587570622, 0.8528248587570622, 0.8528248587570622, 0.8528248587570622, 0.8528248587570622, 0.8528248587570622, 0.8528248587570622]}], \"f1_score_weighted\": [{\"categories\": [\"0\", \"1\", \"2\", \"3\", \"4\", \"5\", \"6\", \"7\", \"8\", \"9\", \"10\", \"11\", \"12\", \"13\", \"14\", \"15\", \"16\", \"17\", \"18\", \"19\", \"20\", \"21\", \"22\", \"23\", \"24\", \"25\", \"26\", \"27\", \"28\", \"29\", \"30\", \"31\", \"32\", \"33\", \"34\", \"35\", \"36\", \"37\", \"38\", \"39\", \"42\", \"43\"], \"mode\": \"markers\", \"name\": \"f1_score_weighted\", \"stepped\": false, \"type\": \"scatter\", \"data\": [0.8014398448329555, 0.8237396450256732, 0.8501129737319625, 0.7644699813410789, 0.8125052387213259, 0.7971254000356358, 0.8270271136098273, 0.8368762156936651, 0.7201726956858886, 0.7359836357954517, 0.7634790128156581, 0.8044217385538082, 0.7806830551711623, 0.8183010761922818, 0.8219954706615347, 0.5942320550697178, 0.7216404481434722, 0.7841690643783861, 0.8075527759243112, 0.8150351468661906, 0.831405166245322, 0.7975097090193761, 0.8142895193335231, 0.8224973219136797, 0.7879042522871595, 0.5819730190202076, 0.8358269634947602, 0.8158330920108547, 0.6269395226395883, 0.8318941672273839, 0.814854497160737, 0.82355690675586, 0.830865752378824, 0.7927667575744215, 0.8316548792498116, 0.5526564268547016, 0.8134262090442789, 0.8349621006512068, 0.8140557135367443, 0.8087896310736118, 0.8431068610269488, 0.5526564268547016]}, {\"categories\": [\"0\", \"1\", \"2\", \"3\", \"4\", \"5\", \"6\", \"7\", \"8\", \"9\", \"10\", \"11\", \"12\", \"13\", \"14\", \"15\", \"16\", \"17\", \"18\", \"19\", \"20\", \"21\", \"22\", \"23\", \"24\", \"25\", \"26\", \"27\", \"28\", \"29\", \"30\", \"31\", \"32\", \"33\", \"34\", \"35\", \"36\", \"37\", \"38\", \"39\", \"42\", \"43\"], \"mode\": \"lines\", \"name\": \"f1_score_weighted_max\", \"stepped\": true, \"type\": \"scatter\", \"data\": [0.8014398448329555, 0.8237396450256732, 0.8501129737319625, 0.8501129737319625, 0.8501129737319625, 0.8501129737319625, 0.8501129737319625, 0.8501129737319625, 0.8501129737319625, 0.8501129737319625, 0.8501129737319625, 0.8501129737319625, 0.8501129737319625, 0.8501129737319625, 0.8501129737319625, 0.8501129737319625, 0.8501129737319625, 0.8501129737319625, 0.8501129737319625, 0.8501129737319625, 0.8501129737319625, 0.8501129737319625, 0.8501129737319625, 0.8501129737319625, 0.8501129737319625, 0.8501129737319625, 0.8501129737319625, 0.8501129737319625, 0.8501129737319625, 0.8501129737319625, 0.8501129737319625, 0.8501129737319625, 0.8501129737319625, 0.8501129737319625, 0.8501129737319625, 0.8501129737319625, 0.8501129737319625, 0.8501129737319625, 0.8501129737319625, 0.8501129737319625, 0.8501129737319625, 0.8501129737319625]}], \"AUC_weighted\": [{\"categories\": [\"0\", \"1\", \"2\", \"3\", \"4\", \"5\", \"6\", \"7\", \"8\", \"9\", \"10\", \"11\", \"12\", \"13\", \"14\", \"15\", \"16\", \"17\", \"18\", \"19\", \"20\", \"21\", \"22\", \"23\", \"24\", \"25\", \"26\", \"27\", \"28\", \"29\", \"30\", \"31\", \"32\", \"33\", \"34\", \"35\", \"36\", \"37\", \"38\", \"39\", \"42\", \"43\"], \"mode\": \"markers\", \"name\": \"AUC_weighted\", \"stepped\": false, \"type\": \"scatter\", \"data\": [0.8811331210778885, 0.8929591177556293, 0.9012808231819859, 0.8836704272794389, 0.8985653608342563, 0.8905268318567737, 0.894684292510527, 0.8863030177187152, 0.8714805740125507, 0.7514726836471023, 0.8688782761166483, 0.9002851144333702, 0.8954728912882983, 0.8724925941306754, 0.8864616786637136, 0.48227655500184563, 0.8853003414544112, 0.8464793743078628, 0.8982915051679585, 0.9071683739387228, 0.9013346022517534, 0.8588954641934293, 0.8632153700627537, 0.9097261904761904, 0.8916191399040236, 0.45647435631229233, 0.9057255214101145, 0.8956299603174603, 0.8361386120339607, 0.8960079365079366, 0.893902593207826, 0.9019405454042081, 0.8958855435585086, 0.8733706856773719, 0.9016203165374677, 0.7369391726651902, 0.8886138796603913, 0.9039128829826504, 0.9045192414174972, 0.9050577473237358, 0.9185826411960134, 0.916516103728313]}, {\"categories\": [\"0\", \"1\", \"2\", \"3\", \"4\", \"5\", \"6\", \"7\", \"8\", \"9\", \"10\", \"11\", \"12\", \"13\", \"14\", \"15\", \"16\", \"17\", \"18\", \"19\", \"20\", \"21\", \"22\", \"23\", \"24\", \"25\", \"26\", \"27\", \"28\", \"29\", \"30\", \"31\", \"32\", \"33\", \"34\", \"35\", \"36\", \"37\", \"38\", \"39\", \"42\", \"43\"], \"mode\": \"lines\", \"name\": \"AUC_weighted_max\", \"stepped\": true, \"type\": \"scatter\", \"data\": [0.8811331210778885, 0.8929591177556293, 0.9012808231819859, 0.9012808231819859, 0.9012808231819859, 0.9012808231819859, 0.9012808231819859, 0.9012808231819859, 0.9012808231819859, 0.9012808231819859, 0.9012808231819859, 0.9012808231819859, 0.9012808231819859, 0.9012808231819859, 0.9012808231819859, 0.9012808231819859, 0.9012808231819859, 0.9012808231819859, 0.9012808231819859, 0.9071683739387228, 0.9071683739387228, 0.9071683739387228, 0.9071683739387228, 0.9097261904761904, 0.9097261904761904, 0.9097261904761904, 0.9097261904761904, 0.9097261904761904, 0.9097261904761904, 0.9097261904761904, 0.9097261904761904, 0.9097261904761904, 0.9097261904761904, 0.9097261904761904, 0.9097261904761904, 0.9097261904761904, 0.9097261904761904, 0.9097261904761904, 0.9097261904761904, 0.9097261904761904, 0.9185826411960134, 0.9185826411960134]}], \"AUC_micro\": [{\"categories\": [\"0\", \"1\", \"2\", \"3\", \"4\", \"5\", \"6\", \"7\", \"8\", \"9\", \"10\", \"11\", \"12\", \"13\", \"14\", \"15\", \"16\", \"17\", \"18\", \"19\", \"20\", \"21\", \"22\", \"23\", \"24\", \"25\", \"26\", \"27\", \"28\", \"29\", \"30\", \"31\", \"32\", \"33\", \"34\", \"35\", \"36\", \"37\", \"38\", \"39\", \"42\", \"43\"], \"mode\": \"markers\", \"name\": \"AUC_micro\", \"stepped\": false, \"type\": \"scatter\", \"data\": [0.8880105014523284, 0.8999905678444892, 0.9120124006511539, 0.8758889527275049, 0.9010674933767435, 0.8820171566280444, 0.9078058587889813, 0.8966363273644227, 0.8593262791662678, 0.8076344600849055, 0.8634530626576016, 0.891912684732995, 0.8868766318746211, 0.8803034887803631, 0.8901434772894123, 0.6273795684509559, 0.8704164990902997, 0.8583177407513805, 0.892053736155, 0.9034644418908998, 0.9134993456541862, 0.8762099492483003, 0.8776358804941109, 0.909133023716046, 0.8884763158734719, 0.6552855182099652, 0.9115133422707394, 0.9036387053528679, 0.8222194452424272, 0.9038210443997574, 0.8934293306521115, 0.9096087969612817, 0.8984587442944237, 0.8836755162948068, 0.9036448817389638, 0.7796719812314468, 0.8940062402247119, 0.9101387053528679, 0.9061325289667721, 0.8969958026109992, 0.9201880845223276, 0.8546173513358231]}, {\"categories\": [\"0\", \"1\", \"2\", \"3\", \"4\", \"5\", \"6\", \"7\", \"8\", \"9\", \"10\", \"11\", \"12\", \"13\", \"14\", \"15\", \"16\", \"17\", \"18\", \"19\", \"20\", \"21\", \"22\", \"23\", \"24\", \"25\", \"26\", \"27\", \"28\", \"29\", \"30\", \"31\", \"32\", \"33\", \"34\", \"35\", \"36\", \"37\", \"38\", \"39\", \"42\", \"43\"], \"mode\": \"lines\", \"name\": \"AUC_micro_max\", \"stepped\": true, \"type\": \"scatter\", \"data\": [0.8880105014523284, 0.8999905678444892, 0.9120124006511539, 0.9120124006511539, 0.9120124006511539, 0.9120124006511539, 0.9120124006511539, 0.9120124006511539, 0.9120124006511539, 0.9120124006511539, 0.9120124006511539, 0.9120124006511539, 0.9120124006511539, 0.9120124006511539, 0.9120124006511539, 0.9120124006511539, 0.9120124006511539, 0.9120124006511539, 0.9120124006511539, 0.9120124006511539, 0.9134993456541862, 0.9134993456541862, 0.9134993456541862, 0.9134993456541862, 0.9134993456541862, 0.9134993456541862, 0.9134993456541862, 0.9134993456541862, 0.9134993456541862, 0.9134993456541862, 0.9134993456541862, 0.9134993456541862, 0.9134993456541862, 0.9134993456541862, 0.9134993456541862, 0.9134993456541862, 0.9134993456541862, 0.9134993456541862, 0.9134993456541862, 0.9134993456541862, 0.9201880845223276, 0.9201880845223276]}], \"precision_score_macro\": [{\"categories\": [\"0\", \"1\", \"2\", \"3\", \"4\", \"5\", \"6\", \"7\", \"8\", \"9\", \"10\", \"11\", \"12\", \"13\", \"14\", \"15\", \"16\", \"17\", \"18\", \"19\", \"20\", \"21\", \"22\", \"23\", \"24\", \"25\", \"26\", \"27\", \"28\", \"29\", \"30\", \"31\", \"32\", \"33\", \"34\", \"35\", \"36\", \"37\", \"38\", \"39\", \"42\", \"43\"], \"mode\": \"markers\", \"name\": \"precision_score_macro\", \"stepped\": false, \"type\": \"scatter\", \"data\": [0.7889041743265773, 0.8086642059265495, 0.837711038961039, 0.8271787847023695, 0.7872492295286413, 0.8006262847695073, 0.8083389064266214, 0.8376663771117425, 0.7802150972306354, 0.7573881765399129, 0.8385223066488325, 0.8347726242011955, 0.7573030696796554, 0.8109524825683231, 0.7986647743920783, 0.5343494917780632, 0.7859216843020864, 0.7521980176901965, 0.779140773440263, 0.8193051204115033, 0.8104011452874035, 0.7648984765459342, 0.7911834398134996, 0.7950484066457137, 0.8069116889179915, 0.49430512016718914, 0.8148005161413254, 0.7935481609488566, 0.8320753320525691, 0.818915330172237, 0.7896214019898231, 0.8050788331665482, 0.826966150922868, 0.7874544012351963, 0.8085154889850588, 0.33954802259887, 0.7950172392220447, 0.8239806341637006, 0.8185507944436516, 0.7774870173399584, 0.830962106797347, 0.33954802259887]}, {\"categories\": [\"0\", \"1\", \"2\", \"3\", \"4\", \"5\", \"6\", \"7\", \"8\", \"9\", \"10\", \"11\", \"12\", \"13\", \"14\", \"15\", \"16\", \"17\", \"18\", \"19\", \"20\", \"21\", \"22\", \"23\", \"24\", \"25\", \"26\", \"27\", \"28\", \"29\", \"30\", \"31\", \"32\", \"33\", \"34\", \"35\", \"36\", \"37\", \"38\", \"39\", \"42\", \"43\"], \"mode\": \"lines\", \"name\": \"precision_score_macro_max\", \"stepped\": true, \"type\": \"scatter\", \"data\": [0.7889041743265773, 0.8086642059265495, 0.837711038961039, 0.837711038961039, 0.837711038961039, 0.837711038961039, 0.837711038961039, 0.837711038961039, 0.837711038961039, 0.837711038961039, 0.8385223066488325, 0.8385223066488325, 0.8385223066488325, 0.8385223066488325, 0.8385223066488325, 0.8385223066488325, 0.8385223066488325, 0.8385223066488325, 0.8385223066488325, 0.8385223066488325, 0.8385223066488325, 0.8385223066488325, 0.8385223066488325, 0.8385223066488325, 0.8385223066488325, 0.8385223066488325, 0.8385223066488325, 0.8385223066488325, 0.8385223066488325, 0.8385223066488325, 0.8385223066488325, 0.8385223066488325, 0.8385223066488325, 0.8385223066488325, 0.8385223066488325, 0.8385223066488325, 0.8385223066488325, 0.8385223066488325, 0.8385223066488325, 0.8385223066488325, 0.8385223066488325, 0.8385223066488325]}], \"weighted_accuracy\": [{\"categories\": [\"0\", \"1\", \"2\", \"3\", \"4\", \"5\", \"6\", \"7\", \"8\", \"9\", \"10\", \"11\", \"12\", \"13\", \"14\", \"15\", \"16\", \"17\", \"18\", \"19\", \"20\", \"21\", \"22\", \"23\", \"24\", \"25\", \"26\", \"27\", \"28\", \"29\", \"30\", \"31\", \"32\", \"33\", \"34\", \"35\", \"36\", \"37\", \"38\", \"39\", \"42\", \"43\"], \"mode\": \"markers\", \"name\": \"weighted_accuracy\", \"stepped\": false, \"type\": \"scatter\", \"data\": [0.8252063202764133, 0.8406325321291572, 0.8740084015360502, 0.8461880610314882, 0.8253790785100957, 0.8257836686899761, 0.8442103813210906, 0.8695346998194313, 0.8251613738720638, 0.8191552656124355, 0.8543043199244259, 0.8616100482107376, 0.7570236594080594, 0.843066254008803, 0.8210400973035042, 0.6722707401586747, 0.8189638289637845, 0.791046394333909, 0.8021705614034653, 0.8430591145166788, 0.849442585450719, 0.8101036211428216, 0.8356741321799357, 0.8201272595305543, 0.8471878974026709, 0.7711539879063055, 0.8504955191670346, 0.8288968977707325, 0.8143824446475036, 0.8553624889385685, 0.831069794491273, 0.8422103813210906, 0.8610537003399935, 0.8264487188523069, 0.8486474450205114, 0.7971865900207855, 0.8324723877401212, 0.8573695682548553, 0.8502211981338897, 0.7952967208702579, 0.8621510454727369, 0.7971865900207855]}, {\"categories\": [\"0\", \"1\", \"2\", \"3\", \"4\", \"5\", \"6\", \"7\", \"8\", \"9\", \"10\", \"11\", \"12\", \"13\", \"14\", \"15\", \"16\", \"17\", \"18\", \"19\", \"20\", \"21\", \"22\", \"23\", \"24\", \"25\", \"26\", \"27\", \"28\", \"29\", \"30\", \"31\", \"32\", \"33\", \"34\", \"35\", \"36\", \"37\", \"38\", \"39\", \"42\", \"43\"], \"mode\": \"lines\", \"name\": \"weighted_accuracy_max\", \"stepped\": true, \"type\": \"scatter\", \"data\": [0.8252063202764133, 0.8406325321291572, 0.8740084015360502, 0.8740084015360502, 0.8740084015360502, 0.8740084015360502, 0.8740084015360502, 0.8740084015360502, 0.8740084015360502, 0.8740084015360502, 0.8740084015360502, 0.8740084015360502, 0.8740084015360502, 0.8740084015360502, 0.8740084015360502, 0.8740084015360502, 0.8740084015360502, 0.8740084015360502, 0.8740084015360502, 0.8740084015360502, 0.8740084015360502, 0.8740084015360502, 0.8740084015360502, 0.8740084015360502, 0.8740084015360502, 0.8740084015360502, 0.8740084015360502, 0.8740084015360502, 0.8740084015360502, 0.8740084015360502, 0.8740084015360502, 0.8740084015360502, 0.8740084015360502, 0.8740084015360502, 0.8740084015360502, 0.8740084015360502, 0.8740084015360502, 0.8740084015360502, 0.8740084015360502, 0.8740084015360502, 0.8740084015360502, 0.8740084015360502]}], \"log_loss\": [{\"categories\": [\"0\", \"1\", \"2\", \"3\", \"4\", \"5\", \"6\", \"7\", \"8\", \"9\", \"10\", \"11\", \"12\", \"13\", \"14\", \"15\", \"16\", \"17\", \"18\", \"19\", \"20\", \"21\", \"22\", \"23\", \"24\", \"25\", \"26\", \"27\", \"28\", \"29\", \"30\", \"31\", \"32\", \"33\", \"34\", \"35\", \"36\", \"37\", \"38\", \"39\", \"42\", \"43\"], \"mode\": \"markers\", \"name\": \"log_loss\", \"stepped\": false, \"type\": \"scatter\", \"data\": [0.5282491261622873, 0.43217688137359717, 0.38666299379978375, 0.47292985228041295, 0.40743802676192764, 0.42321420340844706, 0.4827020378426573, 0.423063851130326, 0.48999523980949294, 1.292911173952953, 0.488067592336966, 0.44610367875631385, 0.44613668920388905, 0.4264763570732268, 0.451407682334071, 0.8093375881662283, 0.48060690761135766, 0.6300143674786481, 0.5302673174980558, 0.4840841195277533, 0.49012167167382137, 0.5173733257265043, 0.49946546024254124, 0.4694037021618137, 0.4444659811599746, 0.6864479130767581, 0.39392080934351226, 0.4234024554643746, 0.5556798155280688, 0.39027268909343743, 0.43475846268475793, 0.38187452180506376, 0.41678416196984563, 0.42670551083390695, 0.5056321998522333, 0.5818162051096741, 0.5525416568989849, 0.38014112946324496, 0.3913328104575253, 0.44281840247200543, 0.40235664130752163, 0.6360842454181006]}, {\"categories\": [\"0\", \"1\", \"2\", \"3\", \"4\", \"5\", \"6\", \"7\", \"8\", \"9\", \"10\", \"11\", \"12\", \"13\", \"14\", \"15\", \"16\", \"17\", \"18\", \"19\", \"20\", \"21\", \"22\", \"23\", \"24\", \"25\", \"26\", \"27\", \"28\", \"29\", \"30\", \"31\", \"32\", \"33\", \"34\", \"35\", \"36\", \"37\", \"38\", \"39\", \"42\", \"43\"], \"mode\": \"lines\", \"name\": \"log_loss_min\", \"stepped\": true, \"type\": \"scatter\", \"data\": [0.5282491261622873, 0.43217688137359717, 0.38666299379978375, 0.38666299379978375, 0.38666299379978375, 0.38666299379978375, 0.38666299379978375, 0.38666299379978375, 0.38666299379978375, 0.38666299379978375, 0.38666299379978375, 0.38666299379978375, 0.38666299379978375, 0.38666299379978375, 0.38666299379978375, 0.38666299379978375, 0.38666299379978375, 0.38666299379978375, 0.38666299379978375, 0.38666299379978375, 0.38666299379978375, 0.38666299379978375, 0.38666299379978375, 0.38666299379978375, 0.38666299379978375, 0.38666299379978375, 0.38666299379978375, 0.38666299379978375, 0.38666299379978375, 0.38666299379978375, 0.38666299379978375, 0.38187452180506376, 0.38187452180506376, 0.38187452180506376, 0.38187452180506376, 0.38187452180506376, 0.38187452180506376, 0.38014112946324496, 0.38014112946324496, 0.38014112946324496, 0.38014112946324496, 0.38014112946324496]}], \"AUC_macro\": [{\"categories\": [\"0\", \"1\", \"2\", \"3\", \"4\", \"5\", \"6\", \"7\", \"8\", \"9\", \"10\", \"11\", \"12\", \"13\", \"14\", \"15\", \"16\", \"17\", \"18\", \"19\", \"20\", \"21\", \"22\", \"23\", \"24\", \"25\", \"26\", \"27\", \"28\", \"29\", \"30\", \"31\", \"32\", \"33\", \"34\", \"35\", \"36\", \"37\", \"38\", \"39\", \"42\", \"43\"], \"mode\": \"markers\", \"name\": \"AUC_macro\", \"stepped\": false, \"type\": \"scatter\", \"data\": [0.8811331210778885, 0.8929591177556295, 0.9012808231819859, 0.8836704272794389, 0.8985653608342563, 0.8905268318567737, 0.8947592169619787, 0.8863030177187152, 0.8714805740125507, 0.7514726836471023, 0.8688782761166483, 0.9002851144333702, 0.8954728912882983, 0.8724925941306754, 0.8864616786637136, 0.48227655500184563, 0.8853003414544112, 0.8464793743078627, 0.8982915051679585, 0.9071683739387228, 0.9013346022517534, 0.8588954641934293, 0.8632153700627537, 0.9097261904761904, 0.8916191399040236, 0.45647435631229233, 0.9057255214101143, 0.8956299603174603, 0.836138612033961, 0.8960079365079366, 0.893902593207826, 0.9019405454042081, 0.8958855435585086, 0.8733706856773719, 0.9016203165374677, 0.7369391726651902, 0.8886138796603913, 0.9039128829826504, 0.9045192414174972, 0.9050577473237358, 0.9185826411960132, 0.916516103728313]}, {\"categories\": [\"0\", \"1\", \"2\", \"3\", \"4\", \"5\", \"6\", \"7\", \"8\", \"9\", \"10\", \"11\", \"12\", \"13\", \"14\", \"15\", \"16\", \"17\", \"18\", \"19\", \"20\", \"21\", \"22\", \"23\", \"24\", \"25\", \"26\", \"27\", \"28\", \"29\", \"30\", \"31\", \"32\", \"33\", \"34\", \"35\", \"36\", \"37\", \"38\", \"39\", \"42\", \"43\"], \"mode\": \"lines\", \"name\": \"AUC_macro_max\", \"stepped\": true, \"type\": \"scatter\", \"data\": [0.8811331210778885, 0.8929591177556295, 0.9012808231819859, 0.9012808231819859, 0.9012808231819859, 0.9012808231819859, 0.9012808231819859, 0.9012808231819859, 0.9012808231819859, 0.9012808231819859, 0.9012808231819859, 0.9012808231819859, 0.9012808231819859, 0.9012808231819859, 0.9012808231819859, 0.9012808231819859, 0.9012808231819859, 0.9012808231819859, 0.9012808231819859, 0.9071683739387228, 0.9071683739387228, 0.9071683739387228, 0.9071683739387228, 0.9097261904761904, 0.9097261904761904, 0.9097261904761904, 0.9097261904761904, 0.9097261904761904, 0.9097261904761904, 0.9097261904761904, 0.9097261904761904, 0.9097261904761904, 0.9097261904761904, 0.9097261904761904, 0.9097261904761904, 0.9097261904761904, 0.9097261904761904, 0.9097261904761904, 0.9097261904761904, 0.9097261904761904, 0.9185826411960132, 0.9185826411960132]}], \"f1_score_macro\": [{\"categories\": [\"0\", \"1\", \"2\", \"3\", \"4\", \"5\", \"6\", \"7\", \"8\", \"9\", \"10\", \"11\", \"12\", \"13\", \"14\", \"15\", \"16\", \"17\", \"18\", \"19\", \"20\", \"21\", \"22\", \"23\", \"24\", \"25\", \"26\", \"27\", \"28\", \"29\", \"30\", \"31\", \"32\", \"33\", \"34\", \"35\", \"36\", \"37\", \"38\", \"39\", \"42\", \"43\"], \"mode\": \"markers\", \"name\": \"f1_score_macro\", \"stepped\": false, \"type\": \"scatter\", \"data\": [0.7682096405971308, 0.7972526241921125, 0.8210205763922455, 0.7184990550131258, 0.7803959493445067, 0.7652819419519233, 0.7975943135496493, 0.8061536379367154, 0.6564152087833441, 0.677864504364746, 0.7147324610255644, 0.768405246465092, 0.7523591319083078, 0.7858167613018765, 0.7916415272239219, 0.5173668796330508, 0.6672510010896187, 0.7511692682109812, 0.7777214745157516, 0.7866232883423862, 0.8002777647518068, 0.7596082847088483, 0.7799650588444915, 0.7945764100528824, 0.7458375715777047, 0.4692989500259014, 0.805506327006327, 0.783904869252847, 0.5162412864637295, 0.8017781466264836, 0.78178325302835, 0.7935282437750276, 0.800858225502337, 0.7555778520995913, 0.8004234469220253, 0.40276783177038933, 0.7797039714582688, 0.8064034950176502, 0.7805003246851296, 0.7818162781596436, 0.815798150104302, 0.40276783177038933]}, {\"categories\": [\"0\", \"1\", \"2\", \"3\", \"4\", \"5\", \"6\", \"7\", \"8\", \"9\", \"10\", \"11\", \"12\", \"13\", \"14\", \"15\", \"16\", \"17\", \"18\", \"19\", \"20\", \"21\", \"22\", \"23\", \"24\", \"25\", \"26\", \"27\", \"28\", \"29\", \"30\", \"31\", \"32\", \"33\", \"34\", \"35\", \"36\", \"37\", \"38\", \"39\", \"42\", \"43\"], \"mode\": \"lines\", \"name\": \"f1_score_macro_max\", \"stepped\": true, \"type\": \"scatter\", \"data\": [0.7682096405971308, 0.7972526241921125, 0.8210205763922455, 0.8210205763922455, 0.8210205763922455, 0.8210205763922455, 0.8210205763922455, 0.8210205763922455, 0.8210205763922455, 0.8210205763922455, 0.8210205763922455, 0.8210205763922455, 0.8210205763922455, 0.8210205763922455, 0.8210205763922455, 0.8210205763922455, 0.8210205763922455, 0.8210205763922455, 0.8210205763922455, 0.8210205763922455, 0.8210205763922455, 0.8210205763922455, 0.8210205763922455, 0.8210205763922455, 0.8210205763922455, 0.8210205763922455, 0.8210205763922455, 0.8210205763922455, 0.8210205763922455, 0.8210205763922455, 0.8210205763922455, 0.8210205763922455, 0.8210205763922455, 0.8210205763922455, 0.8210205763922455, 0.8210205763922455, 0.8210205763922455, 0.8210205763922455, 0.8210205763922455, 0.8210205763922455, 0.8210205763922455, 0.8210205763922455]}], \"recall_score_weighted\": [{\"categories\": [\"0\", \"1\", \"2\", \"3\", \"4\", \"5\", \"6\", \"7\", \"8\", \"9\", \"10\", \"11\", \"12\", \"13\", \"14\", \"15\", \"16\", \"17\", \"18\", \"19\", \"20\", \"21\", \"22\", \"23\", \"24\", \"25\", \"26\", \"27\", \"28\", \"29\", \"30\", \"31\", \"32\", \"33\", \"34\", \"35\", \"36\", \"37\", \"38\", \"39\", \"42\", \"43\"], \"mode\": \"markers\", \"name\": \"recall_score_weighted\", \"stepped\": false, \"type\": \"scatter\", \"data\": [0.8059887005649717, 0.8259322033898304, 0.8528248587570622, 0.7926553672316385, 0.8124858757062146, 0.8059322033898306, 0.8292090395480226, 0.8428248587570621, 0.7559322033898306, 0.7593220338983051, 0.7926553672316385, 0.8193785310734463, 0.772316384180791, 0.8227118644067797, 0.8193220338983049, 0.6153107344632769, 0.7624293785310734, 0.782542372881356, 0.8024293785310734, 0.822768361581921, 0.8327683615819209, 0.7959322033898306, 0.8159887005649716, 0.8192655367231637, 0.8026553672316383, 0.6724293785310734, 0.8361016949152542, 0.8160451977401131, 0.7125423728813558, 0.8359887005649718, 0.8159322033898306, 0.8258757062146893, 0.8361581920903955, 0.7993220338983051, 0.8325988700564972, 0.67909604519774, 0.8158757062146892, 0.8393785310734463, 0.8227118644067797, 0.8024293785310734, 0.8461581920903954, 0.67909604519774]}, {\"categories\": [\"0\", \"1\", \"2\", \"3\", \"4\", \"5\", \"6\", \"7\", \"8\", \"9\", \"10\", \"11\", \"12\", \"13\", \"14\", \"15\", \"16\", \"17\", \"18\", \"19\", \"20\", \"21\", \"22\", \"23\", \"24\", \"25\", \"26\", \"27\", \"28\", \"29\", \"30\", \"31\", \"32\", \"33\", \"34\", \"35\", \"36\", \"37\", \"38\", \"39\", \"42\", \"43\"], \"mode\": \"lines\", \"name\": \"recall_score_weighted_max\", \"stepped\": true, \"type\": \"scatter\", \"data\": [0.8059887005649717, 0.8259322033898304, 0.8528248587570622, 0.8528248587570622, 0.8528248587570622, 0.8528248587570622, 0.8528248587570622, 0.8528248587570622, 0.8528248587570622, 0.8528248587570622, 0.8528248587570622, 0.8528248587570622, 0.8528248587570622, 0.8528248587570622, 0.8528248587570622, 0.8528248587570622, 0.8528248587570622, 0.8528248587570622, 0.8528248587570622, 0.8528248587570622, 0.8528248587570622, 0.8528248587570622, 0.8528248587570622, 0.8528248587570622, 0.8528248587570622, 0.8528248587570622, 0.8528248587570622, 0.8528248587570622, 0.8528248587570622, 0.8528248587570622, 0.8528248587570622, 0.8528248587570622, 0.8528248587570622, 0.8528248587570622, 0.8528248587570622, 0.8528248587570622, 0.8528248587570622, 0.8528248587570622, 0.8528248587570622, 0.8528248587570622, 0.8528248587570622, 0.8528248587570622]}], \"recall_score_macro\": [{\"categories\": [\"0\", \"1\", \"2\", \"3\", \"4\", \"5\", \"6\", \"7\", \"8\", \"9\", \"10\", \"11\", \"12\", \"13\", \"14\", \"15\", \"16\", \"17\", \"18\", \"19\", \"20\", \"21\", \"22\", \"23\", \"24\", \"25\", \"26\", \"27\", \"28\", \"29\", \"30\", \"31\", \"32\", \"33\", \"34\", \"35\", \"36\", \"37\", \"38\", \"39\", \"42\", \"43\"], \"mode\": \"markers\", \"name\": \"recall_score_macro\", \"stepped\": false, \"type\": \"scatter\", \"data\": [0.7760209025470652, 0.8060125968992248, 0.8221047895902547, 0.7157696566998892, 0.7939251107419711, 0.7783637873754152, 0.8068459302325582, 0.8036184939091916, 0.6534440753045404, 0.6706803709856035, 0.7049958471760797, 0.7596345514950166, 0.7919400609080842, 0.7942095791805094, 0.816344130675526, 0.5313406699889258, 0.6780191029900332, 0.768814368770764, 0.8022757475083055, 0.7934952934662236, 0.8089161129568107, 0.7745030454042081, 0.7857232834994463, 0.8179090531561461, 0.7379678848283499, 0.5261821705426357, 0.8163821982281284, 0.7972155315614617, 0.5588095238095238, 0.8083423311184939, 0.7952131782945736, 0.8018459302325581, 0.8017434939091916, 0.7618881506090809, 0.8096477021040975, 0.5, 0.7918798449612403, 0.8127512458471762, 0.7810589700996677, 0.8106942137320043, 0.8228149224806203, 0.5]}, {\"categories\": [\"0\", \"1\", \"2\", \"3\", \"4\", \"5\", \"6\", \"7\", \"8\", \"9\", \"10\", \"11\", \"12\", \"13\", \"14\", \"15\", \"16\", \"17\", \"18\", \"19\", \"20\", \"21\", \"22\", \"23\", \"24\", \"25\", \"26\", \"27\", \"28\", \"29\", \"30\", \"31\", \"32\", \"33\", \"34\", \"35\", \"36\", \"37\", \"38\", \"39\", \"42\", \"43\"], \"mode\": \"lines\", \"name\": \"recall_score_macro_max\", \"stepped\": true, \"type\": \"scatter\", \"data\": [0.7760209025470652, 0.8060125968992248, 0.8221047895902547, 0.8221047895902547, 0.8221047895902547, 0.8221047895902547, 0.8221047895902547, 0.8221047895902547, 0.8221047895902547, 0.8221047895902547, 0.8221047895902547, 0.8221047895902547, 0.8221047895902547, 0.8221047895902547, 0.8221047895902547, 0.8221047895902547, 0.8221047895902547, 0.8221047895902547, 0.8221047895902547, 0.8221047895902547, 0.8221047895902547, 0.8221047895902547, 0.8221047895902547, 0.8221047895902547, 0.8221047895902547, 0.8221047895902547, 0.8221047895902547, 0.8221047895902547, 0.8221047895902547, 0.8221047895902547, 0.8221047895902547, 0.8221047895902547, 0.8221047895902547, 0.8221047895902547, 0.8221047895902547, 0.8221047895902547, 0.8221047895902547, 0.8221047895902547, 0.8221047895902547, 0.8221047895902547, 0.8228149224806203, 0.8228149224806203]}], \"balanced_accuracy\": [{\"categories\": [\"0\", \"1\", \"2\", \"3\", \"4\", \"5\", \"6\", \"7\", \"8\", \"9\", \"10\", \"11\", \"12\", \"13\", \"14\", \"15\", \"16\", \"17\", \"18\", \"19\", \"20\", \"21\", \"22\", \"23\", \"24\", \"25\", \"26\", \"27\", \"28\", \"29\", \"30\", \"31\", \"32\", \"33\", \"34\", \"35\", \"36\", \"37\", \"38\", \"39\", \"42\", \"43\"], \"mode\": \"markers\", \"name\": \"balanced_accuracy\", \"stepped\": false, \"type\": \"scatter\", \"data\": [0.7760209025470652, 0.8060125968992248, 0.8221047895902547, 0.7157696566998892, 0.7939251107419711, 0.7783637873754152, 0.8068459302325582, 0.8036184939091916, 0.6534440753045404, 0.6706803709856035, 0.7049958471760797, 0.7596345514950166, 0.7919400609080842, 0.7942095791805094, 0.816344130675526, 0.5313406699889258, 0.6780191029900332, 0.768814368770764, 0.8022757475083055, 0.7934952934662236, 0.8089161129568107, 0.7745030454042081, 0.7857232834994463, 0.8179090531561461, 0.7379678848283499, 0.5261821705426357, 0.8163821982281284, 0.7972155315614617, 0.5588095238095238, 0.8083423311184939, 0.7952131782945736, 0.8018459302325581, 0.8017434939091916, 0.7618881506090809, 0.8096477021040975, 0.5, 0.7918798449612403, 0.8127512458471762, 0.7810589700996677, 0.8106942137320043, 0.8228149224806203, 0.5]}, {\"categories\": [\"0\", \"1\", \"2\", \"3\", \"4\", \"5\", \"6\", \"7\", \"8\", \"9\", \"10\", \"11\", \"12\", \"13\", \"14\", \"15\", \"16\", \"17\", \"18\", \"19\", \"20\", \"21\", \"22\", \"23\", \"24\", \"25\", \"26\", \"27\", \"28\", \"29\", \"30\", \"31\", \"32\", \"33\", \"34\", \"35\", \"36\", \"37\", \"38\", \"39\", \"42\", \"43\"], \"mode\": \"lines\", \"name\": \"balanced_accuracy_max\", \"stepped\": true, \"type\": \"scatter\", \"data\": [0.7760209025470652, 0.8060125968992248, 0.8221047895902547, 0.8221047895902547, 0.8221047895902547, 0.8221047895902547, 0.8221047895902547, 0.8221047895902547, 0.8221047895902547, 0.8221047895902547, 0.8221047895902547, 0.8221047895902547, 0.8221047895902547, 0.8221047895902547, 0.8221047895902547, 0.8221047895902547, 0.8221047895902547, 0.8221047895902547, 0.8221047895902547, 0.8221047895902547, 0.8221047895902547, 0.8221047895902547, 0.8221047895902547, 0.8221047895902547, 0.8221047895902547, 0.8221047895902547, 0.8221047895902547, 0.8221047895902547, 0.8221047895902547, 0.8221047895902547, 0.8221047895902547, 0.8221047895902547, 0.8221047895902547, 0.8221047895902547, 0.8221047895902547, 0.8221047895902547, 0.8221047895902547, 0.8221047895902547, 0.8221047895902547, 0.8221047895902547, 0.8228149224806203, 0.8228149224806203]}], \"average_precision_score_micro\": [{\"categories\": [\"0\", \"1\", \"2\", \"3\", \"4\", \"5\", \"6\", \"7\", \"8\", \"9\", \"10\", \"11\", \"12\", \"13\", \"14\", \"15\", \"16\", \"17\", \"18\", \"19\", \"20\", \"21\", \"22\", \"23\", \"24\", \"25\", \"26\", \"27\", \"28\", \"29\", \"30\", \"31\", \"32\", \"33\", \"34\", \"35\", \"36\", \"37\", \"38\", \"39\", \"42\", \"43\"], \"mode\": \"markers\", \"name\": \"average_precision_score_micro\", \"stepped\": false, \"type\": \"scatter\", \"data\": [0.887958292631032, 0.9018582931163117, 0.9146780369950207, 0.8791409338818662, 0.9020521087944356, 0.887278226773625, 0.906324955321255, 0.8945994268793512, 0.8636364918678673, 0.7923478012471382, 0.8626808615153971, 0.8949845232822751, 0.8918478394157404, 0.8826788382831736, 0.8891538911171881, 0.6180888504381511, 0.8809452026826069, 0.8609850082080703, 0.8924191443789897, 0.906038430526013, 0.9083543786491978, 0.8717702490076367, 0.8731720850662936, 0.9091290512427179, 0.896356856714054, 0.6281118298574266, 0.9089288069518509, 0.9019433565140395, 0.8282269645119303, 0.9034699461187199, 0.8916113399968756, 0.9114085631765262, 0.8982768648707451, 0.886459634916735, 0.906762304911736, 0.7776506551282587, 0.896251436029315, 0.9123606751158974, 0.9091929907984783, 0.9011342889268054, 0.922431452270323, 0.8701359460105618]}, {\"categories\": [\"0\", \"1\", \"2\", \"3\", \"4\", \"5\", \"6\", \"7\", \"8\", \"9\", \"10\", \"11\", \"12\", \"13\", \"14\", \"15\", \"16\", \"17\", \"18\", \"19\", \"20\", \"21\", \"22\", \"23\", \"24\", \"25\", \"26\", \"27\", \"28\", \"29\", \"30\", \"31\", \"32\", \"33\", \"34\", \"35\", \"36\", \"37\", \"38\", \"39\", \"42\", \"43\"], \"mode\": \"lines\", \"name\": \"average_precision_score_micro_max\", \"stepped\": true, \"type\": \"scatter\", \"data\": [0.887958292631032, 0.9018582931163117, 0.9146780369950207, 0.9146780369950207, 0.9146780369950207, 0.9146780369950207, 0.9146780369950207, 0.9146780369950207, 0.9146780369950207, 0.9146780369950207, 0.9146780369950207, 0.9146780369950207, 0.9146780369950207, 0.9146780369950207, 0.9146780369950207, 0.9146780369950207, 0.9146780369950207, 0.9146780369950207, 0.9146780369950207, 0.9146780369950207, 0.9146780369950207, 0.9146780369950207, 0.9146780369950207, 0.9146780369950207, 0.9146780369950207, 0.9146780369950207, 0.9146780369950207, 0.9146780369950207, 0.9146780369950207, 0.9146780369950207, 0.9146780369950207, 0.9146780369950207, 0.9146780369950207, 0.9146780369950207, 0.9146780369950207, 0.9146780369950207, 0.9146780369950207, 0.9146780369950207, 0.9146780369950207, 0.9146780369950207, 0.922431452270323, 0.922431452270323]}], \"f1_score_micro\": [{\"categories\": [\"0\", \"1\", \"2\", \"3\", \"4\", \"5\", \"6\", \"7\", \"8\", \"9\", \"10\", \"11\", \"12\", \"13\", \"14\", \"15\", \"16\", \"17\", \"18\", \"19\", \"20\", \"21\", \"22\", \"23\", \"24\", \"25\", \"26\", \"27\", \"28\", \"29\", \"30\", \"31\", \"32\", \"33\", \"34\", \"35\", \"36\", \"37\", \"38\", \"39\", \"42\", \"43\"], \"mode\": \"markers\", \"name\": \"f1_score_micro\", \"stepped\": false, \"type\": \"scatter\", \"data\": [0.8059887005649718, 0.8259322033898304, 0.8528248587570623, 0.7926553672316385, 0.8124858757062148, 0.8059322033898306, 0.8292090395480226, 0.8428248587570621, 0.7559322033898306, 0.7593220338983051, 0.7926553672316385, 0.8193785310734464, 0.772316384180791, 0.8227118644067797, 0.8193220338983049, 0.6153107344632769, 0.7624293785310735, 0.782542372881356, 0.8024293785310734, 0.822768361581921, 0.8327683615819209, 0.7959322033898306, 0.8159887005649716, 0.8192655367231639, 0.8026553672316383, 0.6724293785310734, 0.8361016949152542, 0.8160451977401131, 0.7125423728813558, 0.8359887005649718, 0.8159322033898306, 0.8258757062146893, 0.8361581920903955, 0.7993220338983051, 0.8325988700564972, 0.67909604519774, 0.8158757062146892, 0.8393785310734463, 0.8227118644067797, 0.8024293785310734, 0.8461581920903954, 0.67909604519774]}, {\"categories\": [\"0\", \"1\", \"2\", \"3\", \"4\", \"5\", \"6\", \"7\", \"8\", \"9\", \"10\", \"11\", \"12\", \"13\", \"14\", \"15\", \"16\", \"17\", \"18\", \"19\", \"20\", \"21\", \"22\", \"23\", \"24\", \"25\", \"26\", \"27\", \"28\", \"29\", \"30\", \"31\", \"32\", \"33\", \"34\", \"35\", \"36\", \"37\", \"38\", \"39\", \"42\", \"43\"], \"mode\": \"lines\", \"name\": \"f1_score_micro_max\", \"stepped\": true, \"type\": \"scatter\", \"data\": [0.8059887005649718, 0.8259322033898304, 0.8528248587570623, 0.8528248587570623, 0.8528248587570623, 0.8528248587570623, 0.8528248587570623, 0.8528248587570623, 0.8528248587570623, 0.8528248587570623, 0.8528248587570623, 0.8528248587570623, 0.8528248587570623, 0.8528248587570623, 0.8528248587570623, 0.8528248587570623, 0.8528248587570623, 0.8528248587570623, 0.8528248587570623, 0.8528248587570623, 0.8528248587570623, 0.8528248587570623, 0.8528248587570623, 0.8528248587570623, 0.8528248587570623, 0.8528248587570623, 0.8528248587570623, 0.8528248587570623, 0.8528248587570623, 0.8528248587570623, 0.8528248587570623, 0.8528248587570623, 0.8528248587570623, 0.8528248587570623, 0.8528248587570623, 0.8528248587570623, 0.8528248587570623, 0.8528248587570623, 0.8528248587570623, 0.8528248587570623, 0.8528248587570623, 0.8528248587570623]}], \"matthews_correlation\": [{\"categories\": [\"0\", \"1\", \"2\", \"3\", \"4\", \"5\", \"6\", \"7\", \"8\", \"9\", \"10\", \"11\", \"12\", \"13\", \"14\", \"15\", \"16\", \"17\", \"18\", \"19\", \"20\", \"21\", \"22\", \"23\", \"24\", \"25\", \"26\", \"27\", \"28\", \"29\", \"30\", \"31\", \"32\", \"33\", \"34\", \"35\", \"36\", \"37\", \"38\", \"39\", \"42\", \"43\"], \"mode\": \"markers\", \"name\": \"matthews_correlation\", \"stepped\": false, \"type\": \"scatter\", \"data\": [0.5628617041183437, 0.6132552509330647, 0.6579061185343419, 0.5240179763466207, 0.5795918787714065, 0.5733586786118026, 0.6138040682516805, 0.6387233267739348, 0.41259846379899506, 0.416717014557646, 0.5237150079274384, 0.5868842682087899, 0.5473288728326893, 0.6019732997198831, 0.6126524823087506, 0.06532248141362067, 0.4294669612747544, 0.5197828517721642, 0.5795986937024631, 0.6085141333410464, 0.6174471376274921, 0.5376681097344116, 0.5758711332831166, 0.6111059664434524, 0.5379844393500681, 0.07032893008673508, 0.6293468014744497, 0.5888640492311432, 0.2719166927469664, 0.6253243883210196, 0.5829820865926634, 0.6055542049194602, 0.6263024233615819, 0.5453593024997495, 0.6168013327606616, 0.0, 0.5844746013395448, 0.634823089648606, 0.5954507318759688, 0.5867461878133129, 0.6519309961863636, 0.0]}, {\"categories\": [\"0\", \"1\", \"2\", \"3\", \"4\", \"5\", \"6\", \"7\", \"8\", \"9\", \"10\", \"11\", \"12\", \"13\", \"14\", \"15\", \"16\", \"17\", \"18\", \"19\", \"20\", \"21\", \"22\", \"23\", \"24\", \"25\", \"26\", \"27\", \"28\", \"29\", \"30\", \"31\", \"32\", \"33\", \"34\", \"35\", \"36\", \"37\", \"38\", \"39\", \"42\", \"43\"], \"mode\": \"lines\", \"name\": \"matthews_correlation_max\", \"stepped\": true, \"type\": \"scatter\", \"data\": [0.5628617041183437, 0.6132552509330647, 0.6579061185343419, 0.6579061185343419, 0.6579061185343419, 0.6579061185343419, 0.6579061185343419, 0.6579061185343419, 0.6579061185343419, 0.6579061185343419, 0.6579061185343419, 0.6579061185343419, 0.6579061185343419, 0.6579061185343419, 0.6579061185343419, 0.6579061185343419, 0.6579061185343419, 0.6579061185343419, 0.6579061185343419, 0.6579061185343419, 0.6579061185343419, 0.6579061185343419, 0.6579061185343419, 0.6579061185343419, 0.6579061185343419, 0.6579061185343419, 0.6579061185343419, 0.6579061185343419, 0.6579061185343419, 0.6579061185343419, 0.6579061185343419, 0.6579061185343419, 0.6579061185343419, 0.6579061185343419, 0.6579061185343419, 0.6579061185343419, 0.6579061185343419, 0.6579061185343419, 0.6579061185343419, 0.6579061185343419, 0.6579061185343419, 0.6579061185343419]}]}, \"metricName\": null, \"primaryMetricName\": \"AUC_weighted\", \"showLegend\": false}, \"run_metrics\": [{\"name\": \"experiment_status\", \"run_id\": \"AutoML_4fd07cb0-ac80-4b7d-b7e2-ef09714ad672\", \"categories\": [0, 1, 2, 3, 4, 5], \"series\": [{\"data\": [\"DatasetEvaluation\", \"FeaturesGeneration\", \"DatasetFeaturization\", \"DatasetFeaturizationCompleted\", \"DatasetCrossValidationSplit\", \"ModelSelection\"]}]}, {\"name\": \"experiment_status_description\", \"run_id\": \"AutoML_4fd07cb0-ac80-4b7d-b7e2-ef09714ad672\", \"categories\": [0, 1, 2, 3, 4, 5], \"series\": [{\"data\": [\"Gathering dataset statistics.\", \"Generating features for the dataset.\", \"Beginning to fit featurizers and featurize the dataset.\", \"Completed fit featurizers and featurizing the dataset.\", \"Generating individually featurized CV splits.\", \"Beginning model selection.\"]}]}, {\"name\": \"matthews_correlation\", \"run_id\": \"AutoML_4fd07cb0-ac80-4b7d-b7e2-ef09714ad672\", \"categories\": [0], \"series\": [{\"data\": [0.6519309961863636]}]}, {\"name\": \"precision_score_micro\", \"run_id\": \"AutoML_4fd07cb0-ac80-4b7d-b7e2-ef09714ad672\", \"categories\": [0], \"series\": [{\"data\": [0.8461581920903954]}]}, {\"name\": \"weighted_accuracy\", \"run_id\": \"AutoML_4fd07cb0-ac80-4b7d-b7e2-ef09714ad672\", \"categories\": [0], \"series\": [{\"data\": [0.8621510454727369]}]}, {\"name\": \"precision_score_weighted\", \"run_id\": \"AutoML_4fd07cb0-ac80-4b7d-b7e2-ef09714ad672\", \"categories\": [0], \"series\": [{\"data\": [0.8599866693557885]}]}, {\"name\": \"AUC_macro\", \"run_id\": \"AutoML_4fd07cb0-ac80-4b7d-b7e2-ef09714ad672\", \"categories\": [0], \"series\": [{\"data\": [0.9185826411960132]}]}, {\"name\": \"f1_score_micro\", \"run_id\": \"AutoML_4fd07cb0-ac80-4b7d-b7e2-ef09714ad672\", \"categories\": [0], \"series\": [{\"data\": [0.8461581920903954]}]}, {\"name\": \"recall_score_macro\", \"run_id\": \"AutoML_4fd07cb0-ac80-4b7d-b7e2-ef09714ad672\", \"categories\": [0], \"series\": [{\"data\": [0.8228149224806203]}]}, {\"name\": \"recall_score_weighted\", \"run_id\": \"AutoML_4fd07cb0-ac80-4b7d-b7e2-ef09714ad672\", \"categories\": [0], \"series\": [{\"data\": [0.8461581920903954]}]}, {\"name\": \"f1_score_macro\", \"run_id\": \"AutoML_4fd07cb0-ac80-4b7d-b7e2-ef09714ad672\", \"categories\": [0], \"series\": [{\"data\": [0.815798150104302]}]}, {\"name\": \"f1_score_weighted\", \"run_id\": \"AutoML_4fd07cb0-ac80-4b7d-b7e2-ef09714ad672\", \"categories\": [0], \"series\": [{\"data\": [0.8431068610269488]}]}, {\"name\": \"norm_macro_recall\", \"run_id\": \"AutoML_4fd07cb0-ac80-4b7d-b7e2-ef09714ad672\", \"categories\": [0], \"series\": [{\"data\": [0.6456298449612403]}]}, {\"name\": \"AUC_weighted\", \"run_id\": \"AutoML_4fd07cb0-ac80-4b7d-b7e2-ef09714ad672\", \"categories\": [0], \"series\": [{\"data\": [0.9185826411960134]}]}, {\"name\": \"average_precision_score_micro\", \"run_id\": \"AutoML_4fd07cb0-ac80-4b7d-b7e2-ef09714ad672\", \"categories\": [0], \"series\": [{\"data\": [0.922431452270323]}]}, {\"name\": \"AUC_micro\", \"run_id\": \"AutoML_4fd07cb0-ac80-4b7d-b7e2-ef09714ad672\", \"categories\": [0], \"series\": [{\"data\": [0.9201880845223276]}]}, {\"name\": \"average_precision_score_macro\", \"run_id\": \"AutoML_4fd07cb0-ac80-4b7d-b7e2-ef09714ad672\", \"categories\": [0], \"series\": [{\"data\": [0.9100324469100484]}]}, {\"name\": \"accuracy\", \"run_id\": \"AutoML_4fd07cb0-ac80-4b7d-b7e2-ef09714ad672\", \"categories\": [0], \"series\": [{\"data\": [0.8461581920903954]}]}, {\"name\": \"balanced_accuracy\", \"run_id\": \"AutoML_4fd07cb0-ac80-4b7d-b7e2-ef09714ad672\", \"categories\": [0], \"series\": [{\"data\": [0.8228149224806203]}]}, {\"name\": \"log_loss\", \"run_id\": \"AutoML_4fd07cb0-ac80-4b7d-b7e2-ef09714ad672\", \"categories\": [0], \"series\": [{\"data\": [0.40235664130752163]}]}, {\"name\": \"precision_score_macro\", \"run_id\": \"AutoML_4fd07cb0-ac80-4b7d-b7e2-ef09714ad672\", \"categories\": [0], \"series\": [{\"data\": [0.830962106797347]}]}, {\"name\": \"average_precision_score_weighted\", \"run_id\": \"AutoML_4fd07cb0-ac80-4b7d-b7e2-ef09714ad672\", \"categories\": [0], \"series\": [{\"data\": [0.9305214589292345]}]}, {\"name\": \"recall_score_micro\", \"run_id\": \"AutoML_4fd07cb0-ac80-4b7d-b7e2-ef09714ad672\", \"categories\": [0], \"series\": [{\"data\": [0.8461581920903954]}]}], \"run_logs\": \"\\nRun is completed.\", \"graph\": {}, \"widget_settings\": {\"childWidgetDisplay\": \"popup\", \"send_telemetry\": false, \"log_level\": \"INFO\", \"sdk_version\": \"1.19.0\"}, \"loading\": false}"
          },
          "metadata": {}
        }
      ],
      "execution_count": 10,
      "metadata": {
        "gather": {
          "logged": 1598431121770
        },
        "jupyter": {
          "outputs_hidden": false,
          "source_hidden": false
        },
        "nteract": {
          "transient": {
            "deleting": false
          }
        }
      }
    },
    {
      "cell_type": "code",
      "source": [
        "remote_run.wait_for_completion(show_output=True)"
      ],
      "outputs": [
        {
          "output_type": "stream",
          "name": "stdout",
          "text": [
            "\n",
            "\n",
            "****************************************************************************************************\n",
            "DATA GUARDRAILS: \n",
            "\n",
            "TYPE:         Class balancing detection\n",
            "STATUS:       PASSED\n",
            "DESCRIPTION:  Your inputs were analyzed, and all classes are balanced in your training data.\n",
            "              Learn more about imbalanced data: https://aka.ms/AutomatedMLImbalancedData\n",
            "\n",
            "****************************************************************************************************\n",
            "\n",
            "TYPE:         Missing feature values imputation\n",
            "STATUS:       PASSED\n",
            "DESCRIPTION:  No feature missing values were detected in the training data.\n",
            "              Learn more about missing value imputation: https://aka.ms/AutomatedMLFeaturization\n",
            "\n",
            "****************************************************************************************************\n",
            "\n",
            "TYPE:         High cardinality feature detection\n",
            "STATUS:       PASSED\n",
            "DESCRIPTION:  Your inputs were analyzed, and no high cardinality features were detected.\n",
            "              Learn more about high cardinality feature handling: https://aka.ms/AutomatedMLFeaturization\n",
            "\n",
            "****************************************************************************************************\n",
            "\n",
            "****************************************************************************************************\n",
            "ITERATION: The iteration being evaluated.\n",
            "PIPELINE: A summary description of the pipeline being evaluated.\n",
            "DURATION: Time taken for the current iteration.\n",
            "METRIC: The result of computing score on the fitted pipeline.\n",
            "BEST: The best observed score thus far.\n",
            "****************************************************************************************************\n",
            "\n",
            " ITERATION   PIPELINE                                       DURATION      METRIC      BEST\n",
            "         0   MaxAbsScaler LightGBM                          0:00:45       0.8811    0.8811\n",
            "         1   MaxAbsScaler XGBoostClassifier                 0:00:49       0.8930    0.8930\n",
            "         2   MinMaxScaler RandomForest                      0:00:46       0.9013    0.9013\n",
            "         3   RobustScaler ExtremeRandomTrees                0:00:42       0.8837    0.9013\n",
            "         4   MinMaxScaler RandomForest                      0:00:59       0.8986    0.9013\n",
            "         5   MinMaxScaler RandomForest                      0:03:15       0.8905    0.9013\n",
            "         6   StandardScalerWrapper RandomForest             0:03:14       0.8947    0.9013\n",
            "         7   MinMaxScaler ExtremeRandomTrees                0:03:20       0.8863    0.9013\n",
            "         8   MinMaxScaler ExtremeRandomTrees                0:00:46       0.8715    0.9013\n",
            "         9   SparseNormalizer KNN                           0:00:45       0.7515    0.9013\n",
            "        10   MinMaxScaler ExtremeRandomTrees                0:00:52       0.8689    0.9013\n",
            "        11   RobustScaler ExtremeRandomTrees                0:00:44       0.9003    0.9013\n",
            "        12   StandardScalerWrapper RandomForest             0:00:47       0.8955    0.9013\n",
            "        13   StandardScalerWrapper SGD                      0:00:40       0.8725    0.9013\n",
            "        14   RobustScaler RandomForest                      0:00:50       0.8865    0.9013\n",
            "        15   StandardScalerWrapper KNN                      0:00:39       0.4823    0.9013\n",
            "        16   MinMaxScaler RandomForest                      0:00:55       0.8853    0.9013\n",
            "        17   MinMaxScaler ExtremeRandomTrees                0:00:41       0.8465    0.9013\n",
            "        18   MaxAbsScaler RandomForest                      0:00:40       0.8983    0.9013\n",
            "        19   StandardScalerWrapper XGBoostClassifier        0:00:46       0.9072    0.9072\n",
            "        20   MaxAbsScaler RandomForest                      0:00:50       0.9013    0.9072\n",
            "        21   MaxAbsScaler ExtremeRandomTrees                0:00:40       0.8589    0.9072\n",
            "        22   MaxAbsScaler ExtremeRandomTrees                0:00:39       0.8632    0.9072\n",
            "        23   MinMaxScaler RandomForest                      0:00:53       0.9097    0.9097\n",
            "        24   MaxAbsScaler RandomForest                      0:00:43       0.8916    0.9097\n",
            "        25   PCA XGBoostClassifier                          0:00:48       0.4565    0.9097\n",
            "        26   MinMaxScaler ExtremeRandomTrees                0:00:37       0.9057    0.9097\n",
            "        27   MaxAbsScaler ExtremeRandomTrees                0:00:49       0.8956    0.9097\n",
            "        28   StandardScalerWrapper LightGBM                 0:00:44       0.8361    0.9097\n",
            "        29   MaxAbsScaler LightGBM                          0:00:47       0.8960    0.9097\n",
            "        30   RobustScaler RandomForest                      0:00:39       0.8939    0.9097\n",
            "        31   StandardScalerWrapper LightGBM                 0:00:47       0.9019    0.9097\n",
            "        32   StandardScalerWrapper LightGBM                 0:00:41       0.8959    0.9097\n",
            "        33   StandardScalerWrapper SVM                      0:00:49       0.8734    0.9097\n",
            "        34   StandardScalerWrapper XGBoostClassifier        0:00:46       0.9016    0.9097\n",
            "        35   RobustScaler RandomForest                      0:00:44       0.7369    0.9097\n",
            "        36   StandardScalerWrapper XGBoostClassifier        0:00:45       0.8886    0.9097\n",
            "        37   StandardScalerWrapper XGBoostClassifier        0:00:42       0.9039    0.9097\n",
            "        38   RobustScaler GradientBoosting                  0:00:41       0.9045    0.9097\n",
            "        39   MaxAbsScaler RandomForest                      0:00:29       0.9051    0.9097\n",
            "        40                                                  0:00:19          nan    0.9097\n",
            "        41                                                  0:00:24          nan    0.9097\n",
            "        42    VotingEnsemble                                0:01:31       0.9186    0.9186\n",
            "        43    StackEnsemble                                 0:01:29       0.9165    0.9186\n"
          ]
        },
        {
          "output_type": "execute_result",
          "execution_count": 11,
          "data": {
            "text/plain": "{'runId': 'AutoML_4fd07cb0-ac80-4b7d-b7e2-ef09714ad672',\n 'target': 'cpu-cluster',\n 'status': 'Completed',\n 'startTimeUtc': '2021-01-02T21:04:10.101827Z',\n 'endTimeUtc': '2021-01-02T21:24:30.2221Z',\n 'properties': {'num_iterations': '1000',\n  'training_type': 'TrainFull',\n  'acquisition_function': 'EI',\n  'primary_metric': 'AUC_weighted',\n  'train_split': '0',\n  'acquisition_parameter': '0',\n  'num_cross_validation': '5',\n  'target': 'cpu-cluster',\n  'AMLSettingsJsonString': '{\"path\":null,\"name\":\"capstone-heart-failure-exp\",\"subscription_id\":\"6971f5ac-8af1-446e-8034-05acea24681f\",\"resource_group\":\"aml-quickstarts-133024\",\"workspace_name\":\"quick-starts-ws-133024\",\"region\":\"southcentralus\",\"compute_target\":\"cpu-cluster\",\"spark_service\":null,\"azure_service\":\"remote\",\"many_models\":false,\"pipeline_fetch_max_batch_size\":1,\"iterations\":1000,\"primary_metric\":\"AUC_weighted\",\"task_type\":\"classification\",\"data_script\":null,\"validation_size\":0.0,\"n_cross_validations\":5,\"y_min\":null,\"y_max\":null,\"num_classes\":null,\"featurization\":\"auto\",\"_ignore_package_version_incompatibilities\":false,\"is_timeseries\":false,\"max_cores_per_iteration\":1,\"max_concurrent_iterations\":5,\"iteration_timeout_minutes\":null,\"mem_in_mb\":null,\"enforce_time_on_windows\":false,\"experiment_timeout_minutes\":30,\"experiment_exit_score\":null,\"whitelist_models\":null,\"blacklist_algos\":[\"TensorFlowLinearClassifier\",\"TensorFlowDNN\"],\"supported_models\":[\"LightGBM\",\"TensorFlowLinearClassifier\",\"BernoulliNaiveBayes\",\"KNN\",\"SVM\",\"LinearSVM\",\"GradientBoosting\",\"LogisticRegression\",\"MultinomialNaiveBayes\",\"DecisionTree\",\"AveragedPerceptronClassifier\",\"SGD\",\"TensorFlowDNN\",\"RandomForest\",\"ExtremeRandomTrees\",\"XGBoostClassifier\"],\"auto_blacklist\":true,\"blacklist_samples_reached\":false,\"exclude_nan_labels\":true,\"verbosity\":20,\"_debug_log\":\"azureml_automl.log\",\"show_warnings\":false,\"model_explainability\":true,\"service_url\":null,\"sdk_url\":null,\"sdk_packages\":null,\"enable_onnx_compatible_models\":false,\"enable_split_onnx_featurizer_estimator_models\":false,\"vm_type\":\"STANDARD_D2_V2\",\"telemetry_verbosity\":20,\"send_telemetry\":true,\"enable_dnn\":false,\"scenario\":\"SDK-1.13.0\",\"environment_label\":null,\"force_text_dnn\":false,\"enable_feature_sweeping\":true,\"enable_early_stopping\":true,\"early_stopping_n_iters\":10,\"metrics\":null,\"enable_ensembling\":true,\"enable_stack_ensembling\":true,\"ensemble_iterations\":15,\"enable_tf\":false,\"enable_subsampling\":null,\"subsample_seed\":null,\"enable_nimbusml\":false,\"enable_streaming\":false,\"force_streaming\":false,\"track_child_runs\":true,\"allowed_private_models\":[],\"label_column_name\":\"DEATH_EVENT\",\"weight_column_name\":null,\"cv_split_column_names\":null,\"enable_local_managed\":false,\"_local_managed_run_id\":null,\"cost_mode\":1,\"lag_length\":0,\"metric_operation\":\"maximize\",\"preprocess\":true}',\n  'DataPrepJsonString': '{\\\\\"training_data\\\\\": \\\\\"{\\\\\\\\\\\\\"blocks\\\\\\\\\\\\\": [{\\\\\\\\\\\\\"id\\\\\\\\\\\\\": \\\\\\\\\\\\\"1d0c95a3-8dee-4f88-84f6-8411aff6e924\\\\\\\\\\\\\", \\\\\\\\\\\\\"type\\\\\\\\\\\\\": \\\\\\\\\\\\\"Microsoft.DPrep.GetDatastoreFilesBlock\\\\\\\\\\\\\", \\\\\\\\\\\\\"arguments\\\\\\\\\\\\\": {\\\\\\\\\\\\\"datastores\\\\\\\\\\\\\": [{\\\\\\\\\\\\\"datastoreName\\\\\\\\\\\\\": \\\\\\\\\\\\\"workspaceblobstore\\\\\\\\\\\\\", \\\\\\\\\\\\\"path\\\\\\\\\\\\\": \\\\\\\\\\\\\"UI/01-02-2021_085414_UTC/heart_failure_clinical_records_dataset.csv\\\\\\\\\\\\\", \\\\\\\\\\\\\"resourceGroup\\\\\\\\\\\\\": \\\\\\\\\\\\\"aml-quickstarts-133024\\\\\\\\\\\\\", \\\\\\\\\\\\\"subscription\\\\\\\\\\\\\": \\\\\\\\\\\\\"6971f5ac-8af1-446e-8034-05acea24681f\\\\\\\\\\\\\", \\\\\\\\\\\\\"workspaceName\\\\\\\\\\\\\": \\\\\\\\\\\\\"quick-starts-ws-133024\\\\\\\\\\\\\"}]}, \\\\\\\\\\\\\"localData\\\\\\\\\\\\\": {}, \\\\\\\\\\\\\"isEnabled\\\\\\\\\\\\\": true, \\\\\\\\\\\\\"name\\\\\\\\\\\\\": null, \\\\\\\\\\\\\"annotation\\\\\\\\\\\\\": null}, {\\\\\\\\\\\\\"id\\\\\\\\\\\\\": \\\\\\\\\\\\\"7ae63c35-456e-44ac-a3ef-53a80076b2fd\\\\\\\\\\\\\", \\\\\\\\\\\\\"type\\\\\\\\\\\\\": \\\\\\\\\\\\\"Microsoft.DPrep.ParseDelimitedBlock\\\\\\\\\\\\\", \\\\\\\\\\\\\"arguments\\\\\\\\\\\\\": {\\\\\\\\\\\\\"columnHeadersMode\\\\\\\\\\\\\": 1, \\\\\\\\\\\\\"fileEncoding\\\\\\\\\\\\\": 0, \\\\\\\\\\\\\"handleQuotedLineBreaks\\\\\\\\\\\\\": false, \\\\\\\\\\\\\"preview\\\\\\\\\\\\\": false, \\\\\\\\\\\\\"separator\\\\\\\\\\\\\": \\\\\\\\\\\\\",\\\\\\\\\\\\\", \\\\\\\\\\\\\"skipRows\\\\\\\\\\\\\": 0, \\\\\\\\\\\\\"skipRowsMode\\\\\\\\\\\\\": 0}, \\\\\\\\\\\\\"localData\\\\\\\\\\\\\": {}, \\\\\\\\\\\\\"isEnabled\\\\\\\\\\\\\": true, \\\\\\\\\\\\\"name\\\\\\\\\\\\\": null, \\\\\\\\\\\\\"annotation\\\\\\\\\\\\\": null}, {\\\\\\\\\\\\\"id\\\\\\\\\\\\\": \\\\\\\\\\\\\"cdd36863-b3ec-4f65-9ee5-9a04a3989ffc\\\\\\\\\\\\\", \\\\\\\\\\\\\"type\\\\\\\\\\\\\": \\\\\\\\\\\\\"Microsoft.DPrep.DropColumnsBlock\\\\\\\\\\\\\", \\\\\\\\\\\\\"arguments\\\\\\\\\\\\\": {\\\\\\\\\\\\\"columns\\\\\\\\\\\\\": {\\\\\\\\\\\\\"type\\\\\\\\\\\\\": 0, \\\\\\\\\\\\\"details\\\\\\\\\\\\\": {\\\\\\\\\\\\\"selectedColumns\\\\\\\\\\\\\": [\\\\\\\\\\\\\"Path\\\\\\\\\\\\\"]}}}, \\\\\\\\\\\\\"localData\\\\\\\\\\\\\": {}, \\\\\\\\\\\\\"isEnabled\\\\\\\\\\\\\": true, \\\\\\\\\\\\\"name\\\\\\\\\\\\\": null, \\\\\\\\\\\\\"annotation\\\\\\\\\\\\\": null}, {\\\\\\\\\\\\\"id\\\\\\\\\\\\\": \\\\\\\\\\\\\"f0eb8085-44f9-49b1-bea2-716b4c081c80\\\\\\\\\\\\\", \\\\\\\\\\\\\"type\\\\\\\\\\\\\": \\\\\\\\\\\\\"Microsoft.DPrep.SetColumnTypesBlock\\\\\\\\\\\\\", \\\\\\\\\\\\\"arguments\\\\\\\\\\\\\": {\\\\\\\\\\\\\"columnConversion\\\\\\\\\\\\\": [{\\\\\\\\\\\\\"column\\\\\\\\\\\\\": {\\\\\\\\\\\\\"type\\\\\\\\\\\\\": 2, \\\\\\\\\\\\\"details\\\\\\\\\\\\\": {\\\\\\\\\\\\\"selectedColumn\\\\\\\\\\\\\": \\\\\\\\\\\\\"Path\\\\\\\\\\\\\"}}, \\\\\\\\\\\\\"typeProperty\\\\\\\\\\\\\": 0}, {\\\\\\\\\\\\\"column\\\\\\\\\\\\\": {\\\\\\\\\\\\\"type\\\\\\\\\\\\\": 2, \\\\\\\\\\\\\"details\\\\\\\\\\\\\": {\\\\\\\\\\\\\"selectedColumn\\\\\\\\\\\\\": \\\\\\\\\\\\\"age\\\\\\\\\\\\\"}}, \\\\\\\\\\\\\"typeProperty\\\\\\\\\\\\\": 3}, {\\\\\\\\\\\\\"column\\\\\\\\\\\\\": {\\\\\\\\\\\\\"type\\\\\\\\\\\\\": 2, \\\\\\\\\\\\\"details\\\\\\\\\\\\\": {\\\\\\\\\\\\\"selectedColumn\\\\\\\\\\\\\": \\\\\\\\\\\\\"anaemia\\\\\\\\\\\\\"}}, \\\\\\\\\\\\\"typeProperty\\\\\\\\\\\\\": 2}, {\\\\\\\\\\\\\"column\\\\\\\\\\\\\": {\\\\\\\\\\\\\"type\\\\\\\\\\\\\": 2, \\\\\\\\\\\\\"details\\\\\\\\\\\\\": {\\\\\\\\\\\\\"selectedColumn\\\\\\\\\\\\\": \\\\\\\\\\\\\"creatinine_phosphokinase\\\\\\\\\\\\\"}}, \\\\\\\\\\\\\"typeProperty\\\\\\\\\\\\\": 2}, {\\\\\\\\\\\\\"column\\\\\\\\\\\\\": {\\\\\\\\\\\\\"type\\\\\\\\\\\\\": 2, \\\\\\\\\\\\\"details\\\\\\\\\\\\\": {\\\\\\\\\\\\\"selectedColumn\\\\\\\\\\\\\": \\\\\\\\\\\\\"diabetes\\\\\\\\\\\\\"}}, \\\\\\\\\\\\\"typeProperty\\\\\\\\\\\\\": 2}, {\\\\\\\\\\\\\"column\\\\\\\\\\\\\": {\\\\\\\\\\\\\"type\\\\\\\\\\\\\": 2, \\\\\\\\\\\\\"details\\\\\\\\\\\\\": {\\\\\\\\\\\\\"selectedColumn\\\\\\\\\\\\\": \\\\\\\\\\\\\"ejection_fraction\\\\\\\\\\\\\"}}, \\\\\\\\\\\\\"typeProperty\\\\\\\\\\\\\": 2}, {\\\\\\\\\\\\\"column\\\\\\\\\\\\\": {\\\\\\\\\\\\\"type\\\\\\\\\\\\\": 2, \\\\\\\\\\\\\"details\\\\\\\\\\\\\": {\\\\\\\\\\\\\"selectedColumn\\\\\\\\\\\\\": \\\\\\\\\\\\\"high_blood_pressure\\\\\\\\\\\\\"}}, \\\\\\\\\\\\\"typeProperty\\\\\\\\\\\\\": 2}, {\\\\\\\\\\\\\"column\\\\\\\\\\\\\": {\\\\\\\\\\\\\"type\\\\\\\\\\\\\": 2, \\\\\\\\\\\\\"details\\\\\\\\\\\\\": {\\\\\\\\\\\\\"selectedColumn\\\\\\\\\\\\\": \\\\\\\\\\\\\"platelets\\\\\\\\\\\\\"}}, \\\\\\\\\\\\\"typeProperty\\\\\\\\\\\\\": 3}, {\\\\\\\\\\\\\"column\\\\\\\\\\\\\": {\\\\\\\\\\\\\"type\\\\\\\\\\\\\": 2, \\\\\\\\\\\\\"details\\\\\\\\\\\\\": {\\\\\\\\\\\\\"selectedColumn\\\\\\\\\\\\\": \\\\\\\\\\\\\"serum_creatinine\\\\\\\\\\\\\"}}, \\\\\\\\\\\\\"typeProperty\\\\\\\\\\\\\": 3}, {\\\\\\\\\\\\\"column\\\\\\\\\\\\\": {\\\\\\\\\\\\\"type\\\\\\\\\\\\\": 2, \\\\\\\\\\\\\"details\\\\\\\\\\\\\": {\\\\\\\\\\\\\"selectedColumn\\\\\\\\\\\\\": \\\\\\\\\\\\\"serum_sodium\\\\\\\\\\\\\"}}, \\\\\\\\\\\\\"typeProperty\\\\\\\\\\\\\": 2}, {\\\\\\\\\\\\\"column\\\\\\\\\\\\\": {\\\\\\\\\\\\\"type\\\\\\\\\\\\\": 2, \\\\\\\\\\\\\"details\\\\\\\\\\\\\": {\\\\\\\\\\\\\"selectedColumn\\\\\\\\\\\\\": \\\\\\\\\\\\\"sex\\\\\\\\\\\\\"}}, \\\\\\\\\\\\\"typeProperty\\\\\\\\\\\\\": 2}, {\\\\\\\\\\\\\"column\\\\\\\\\\\\\": {\\\\\\\\\\\\\"type\\\\\\\\\\\\\": 2, \\\\\\\\\\\\\"details\\\\\\\\\\\\\": {\\\\\\\\\\\\\"selectedColumn\\\\\\\\\\\\\": \\\\\\\\\\\\\"smoking\\\\\\\\\\\\\"}}, \\\\\\\\\\\\\"typeProperty\\\\\\\\\\\\\": 2}, {\\\\\\\\\\\\\"column\\\\\\\\\\\\\": {\\\\\\\\\\\\\"type\\\\\\\\\\\\\": 2, \\\\\\\\\\\\\"details\\\\\\\\\\\\\": {\\\\\\\\\\\\\"selectedColumn\\\\\\\\\\\\\": \\\\\\\\\\\\\"time\\\\\\\\\\\\\"}}, \\\\\\\\\\\\\"typeProperty\\\\\\\\\\\\\": 2}, {\\\\\\\\\\\\\"column\\\\\\\\\\\\\": {\\\\\\\\\\\\\"type\\\\\\\\\\\\\": 2, \\\\\\\\\\\\\"details\\\\\\\\\\\\\": {\\\\\\\\\\\\\"selectedColumn\\\\\\\\\\\\\": \\\\\\\\\\\\\"DEATH_EVENT\\\\\\\\\\\\\"}}, \\\\\\\\\\\\\"typeProperty\\\\\\\\\\\\\": 2}]}, \\\\\\\\\\\\\"localData\\\\\\\\\\\\\": {}, \\\\\\\\\\\\\"isEnabled\\\\\\\\\\\\\": true, \\\\\\\\\\\\\"name\\\\\\\\\\\\\": null, \\\\\\\\\\\\\"annotation\\\\\\\\\\\\\": null}], \\\\\\\\\\\\\"inspectors\\\\\\\\\\\\\": [], \\\\\\\\\\\\\"meta\\\\\\\\\\\\\": {\\\\\\\\\\\\\"savedDatasetId\\\\\\\\\\\\\": \\\\\\\\\\\\\"0c56c727-865c-40dd-bbc0-429abeef289c\\\\\\\\\\\\\", \\\\\\\\\\\\\"datasetType\\\\\\\\\\\\\": \\\\\\\\\\\\\"tabular\\\\\\\\\\\\\", \\\\\\\\\\\\\"subscriptionId\\\\\\\\\\\\\": \\\\\\\\\\\\\"6971f5ac-8af1-446e-8034-05acea24681f\\\\\\\\\\\\\", \\\\\\\\\\\\\"workspaceId\\\\\\\\\\\\\": \\\\\\\\\\\\\"a6459fb7-b53d-4a0f-8403-bcfbe0fb6a1d\\\\\\\\\\\\\", \\\\\\\\\\\\\"workspaceLocation\\\\\\\\\\\\\": \\\\\\\\\\\\\"southcentralus\\\\\\\\\\\\\"}}\\\\\", \\\\\"activities\\\\\": 0}',\n  'EnableSubsampling': None,\n  'runTemplate': 'AutoML',\n  'azureml.runsource': 'automl',\n  'display_task_type': 'classification',\n  'dependencies_versions': '{\"azureml-widgets\": \"1.19.0\", \"azureml-train\": \"1.19.0\", \"azureml-train-restclients-hyperdrive\": \"1.19.0\", \"azureml-train-core\": \"1.19.0\", \"azureml-train-automl\": \"1.19.0\", \"azureml-train-automl-runtime\": \"1.19.0\", \"azureml-train-automl-client\": \"1.19.0\", \"azureml-tensorboard\": \"1.19.0\", \"azureml-telemetry\": \"1.19.0\", \"azureml-sdk\": \"1.19.0\", \"azureml-samples\": \"0+unknown\", \"azureml-pipeline\": \"1.19.0\", \"azureml-pipeline-steps\": \"1.19.0\", \"azureml-pipeline-core\": \"1.19.0\", \"azureml-opendatasets\": \"1.19.0\", \"azureml-model-management-sdk\": \"1.0.1b6.post1\", \"azureml-mlflow\": \"1.19.0\", \"azureml-interpret\": \"1.19.0\", \"azureml-explain-model\": \"1.19.0\", \"azureml-defaults\": \"1.19.0\", \"azureml-dataset-runtime\": \"1.19.0\", \"azureml-dataprep\": \"2.6.1\", \"azureml-dataprep-rslex\": \"1.4.0\", \"azureml-dataprep-native\": \"26.0.0\", \"azureml-datadrift\": \"1.19.0\", \"azureml-core\": \"1.19.0\", \"azureml-contrib-services\": \"1.19.0\", \"azureml-contrib-server\": \"1.19.0\", \"azureml-contrib-reinforcementlearning\": \"1.19.0\", \"azureml-contrib-pipeline-steps\": \"1.19.0\", \"azureml-contrib-notebook\": \"1.19.0\", \"azureml-contrib-interpret\": \"1.19.0\", \"azureml-contrib-gbdt\": \"1.19.0\", \"azureml-contrib-fairness\": \"1.19.0\", \"azureml-contrib-dataset\": \"1.19.0\", \"azureml-cli-common\": \"1.19.0\", \"azureml-automl-runtime\": \"1.19.0\", \"azureml-automl-core\": \"1.19.0\", \"azureml-accel-models\": \"1.19.0\"}',\n  '_aml_system_scenario_identification': 'Remote.Parent',\n  'ClientType': 'SDK',\n  'environment_cpu_name': 'AzureML-AutoML',\n  'environment_cpu_label': 'prod',\n  'environment_gpu_name': 'AzureML-AutoML-GPU',\n  'environment_gpu_label': 'prod',\n  'root_attribution': 'automl',\n  'attribution': 'AutoML',\n  'Orchestrator': 'AutoML',\n  'CancelUri': 'https://southcentralus.experiments.azureml.net/jasmine/v1.0/subscriptions/6971f5ac-8af1-446e-8034-05acea24681f/resourceGroups/aml-quickstarts-133024/providers/Microsoft.MachineLearningServices/workspaces/quick-starts-ws-133024/experimentids/cf884178-1240-4f98-8fa1-a7bb053fb78d/cancel/AutoML_4fd07cb0-ac80-4b7d-b7e2-ef09714ad672',\n  'ClientSdkVersion': '1.19.0',\n  'snapshotId': '00000000-0000-0000-0000-000000000000',\n  'SetupRunId': 'AutoML_4fd07cb0-ac80-4b7d-b7e2-ef09714ad672_setup',\n  'SetupRunContainerId': 'dcid.AutoML_4fd07cb0-ac80-4b7d-b7e2-ef09714ad672_setup',\n  'FeaturizationRunJsonPath': 'featurizer_container.json',\n  'FeaturizationRunId': 'AutoML_4fd07cb0-ac80-4b7d-b7e2-ef09714ad672_featurize',\n  'ProblemInfoJsonString': '{\"dataset_num_categorical\": 0, \"is_sparse\": false, \"subsampling\": false, \"dataset_classes\": 2, \"dataset_features\": 12, \"dataset_samples\": 299, \"single_frequency_class_detected\": false}',\n  'ModelExplainRunId': 'AutoML_4fd07cb0-ac80-4b7d-b7e2-ef09714ad672_ModelExplain'},\n 'inputDatasets': [{'dataset': {'id': '0c56c727-865c-40dd-bbc0-429abeef289c'}, 'consumptionDetails': {'type': 'RunInput', 'inputName': 'training_data', 'mechanism': 'Direct'}}],\n 'outputDatasets': [],\n 'logFiles': {}}"
          },
          "metadata": {}
        }
      ],
      "execution_count": 11,
      "metadata": {}
    },
    {
      "cell_type": "markdown",
      "source": [
        "## Best Model\n",
        "\n",
        "TODO: In the cell below, get the best model from the automl experiments and display all the properties of the model.\n",
        "\n"
      ],
      "metadata": {}
    },
    {
      "cell_type": "code",
      "source": [
        "best_run, fitted_model = remote_run.get_output()\n",
        "print(best_run)\n",
        "print(fitted_model)"
      ],
      "outputs": [
        {
          "output_type": "stream",
          "name": "stdout",
          "text": [
            "Run(Experiment: capstone-heart-failure-exp,\n",
            "Id: AutoML_4fd07cb0-ac80-4b7d-b7e2-ef09714ad672_42,\n",
            "Type: azureml.scriptrun,\n",
            "Status: Completed)\n",
            "Pipeline(memory=None,\n",
            "         steps=[('datatransformer',\n",
            "                 DataTransformer(enable_dnn=None, enable_feature_sweeping=None,\n",
            "                                 feature_sweeping_config=None,\n",
            "                                 feature_sweeping_timeout=None,\n",
            "                                 featurization_config=None, force_text_dnn=None,\n",
            "                                 is_cross_validation=None,\n",
            "                                 is_onnx_compatible=None, logger=None,\n",
            "                                 observer=None, task=None, working_dir=None)),\n",
            "                ('prefittedsoftvotingclassifier',...\n",
            "                                                                                                    n_estimators=25,\n",
            "                                                                                                    n_jobs=1,\n",
            "                                                                                                    oob_score=False,\n",
            "                                                                                                    random_state=None,\n",
            "                                                                                                    verbose=0,\n",
            "                                                                                                    warm_start=False))],\n",
            "                                                                     verbose=False))],\n",
            "                                               flatten_transform=None,\n",
            "                                               weights=[0.06666666666666667,\n",
            "                                                        0.13333333333333333,\n",
            "                                                        0.2,\n",
            "                                                        0.06666666666666667,\n",
            "                                                        0.06666666666666667,\n",
            "                                                        0.06666666666666667,\n",
            "                                                        0.06666666666666667,\n",
            "                                                        0.13333333333333333,\n",
            "                                                        0.06666666666666667,\n",
            "                                                        0.06666666666666667,\n",
            "                                                        0.06666666666666667]))],\n",
            "         verbose=False)\n"
          ]
        }
      ],
      "execution_count": 12,
      "metadata": {
        "gather": {
          "logged": 1598431425670
        },
        "jupyter": {
          "outputs_hidden": false,
          "source_hidden": false
        },
        "nteract": {
          "transient": {
            "deleting": false
          }
        }
      }
    },
    {
      "cell_type": "code",
      "source": [
        "best_run_metrics = best_run.get_metrics()\n",
        "for metric_name in best_run_metrics:\n",
        "    metric = best_run_metrics[metric_name]\n",
        "    print(metric_name)\n",
        "    print(metric)"
      ],
      "outputs": [
        {
          "output_type": "stream",
          "name": "stdout",
          "text": [
            "average_precision_score_weighted\n",
            "0.9305214589292345\n",
            "recall_score_micro\n",
            "0.8461581920903954\n",
            "log_loss\n",
            "0.40235664130752163\n",
            "precision_score_macro\n",
            "0.830962106797347\n",
            "balanced_accuracy\n",
            "0.8228149224806203\n",
            "AUC_macro\n",
            "0.9185826411960132\n",
            "accuracy\n",
            "0.8461581920903954\n",
            "AUC_weighted\n",
            "0.9185826411960134\n",
            "average_precision_score_macro\n",
            "0.9100324469100484\n",
            "AUC_micro\n",
            "0.9201880845223276\n",
            "recall_score_weighted\n",
            "0.8461581920903954\n",
            "matthews_correlation\n",
            "0.6519309961863636\n",
            "recall_score_macro\n",
            "0.8228149224806203\n",
            "precision_score_weighted\n",
            "0.8599866693557885\n",
            "f1_score_macro\n",
            "0.815798150104302\n",
            "f1_score_micro\n",
            "0.8461581920903954\n",
            "weighted_accuracy\n",
            "0.8621510454727369\n",
            "f1_score_weighted\n",
            "0.8431068610269488\n",
            "precision_score_micro\n",
            "0.8461581920903954\n",
            "average_precision_score_micro\n",
            "0.922431452270323\n",
            "norm_macro_recall\n",
            "0.6456298449612403\n",
            "accuracy_table\n",
            "aml://artifactId/ExperimentRun/dcid.AutoML_4fd07cb0-ac80-4b7d-b7e2-ef09714ad672_42/accuracy_table\n",
            "confusion_matrix\n",
            "aml://artifactId/ExperimentRun/dcid.AutoML_4fd07cb0-ac80-4b7d-b7e2-ef09714ad672_42/confusion_matrix\n"
          ]
        }
      ],
      "execution_count": 13,
      "metadata": {}
    },
    {
      "cell_type": "code",
      "source": [
        "best_run"
      ],
      "outputs": [
        {
          "output_type": "execute_result",
          "execution_count": 14,
          "data": {
            "text/html": "<table style=\"width:100%\"><tr><th>Experiment</th><th>Id</th><th>Type</th><th>Status</th><th>Details Page</th><th>Docs Page</th></tr><tr><td>capstone-heart-failure-exp</td><td>AutoML_4fd07cb0-ac80-4b7d-b7e2-ef09714ad672_42</td><td>azureml.scriptrun</td><td>Completed</td><td><a href=\"https://ml.azure.com/experiments/capstone-heart-failure-exp/runs/AutoML_4fd07cb0-ac80-4b7d-b7e2-ef09714ad672_42?wsid=/subscriptions/6971f5ac-8af1-446e-8034-05acea24681f/resourcegroups/aml-quickstarts-133024/workspaces/quick-starts-ws-133024\" target=\"_blank\" rel=\"noopener\">Link to Azure Machine Learning studio</a></td><td><a href=\"https://docs.microsoft.com/en-us/python/api/azureml-core/azureml.core.run.Run?view=azure-ml-py\" target=\"_blank\" rel=\"noopener\">Link to Documentation</a></td></tr></table>",
            "text/plain": "Run(Experiment: capstone-heart-failure-exp,\nId: AutoML_4fd07cb0-ac80-4b7d-b7e2-ef09714ad672_42,\nType: azureml.scriptrun,\nStatus: Completed)"
          },
          "metadata": {}
        }
      ],
      "execution_count": 14,
      "metadata": {}
    },
    {
      "cell_type": "code",
      "source": [
        "print('Best Run Id: ', best_run.id)\n",
        "print('\\n AUC_weighted :', best_run_metrics['AUC_weighted'])\n",
        "print(best_run.get_tags())"
      ],
      "outputs": [
        {
          "output_type": "stream",
          "name": "stdout",
          "text": [
            "Best Run Id:  AutoML_4fd07cb0-ac80-4b7d-b7e2-ef09714ad672_42\n",
            "\n",
            " AUC_weighted : 0.9185826411960134\n",
            "{'_aml_system_azureml.automlComponent': 'AutoML', '_aml_system_ComputeTargetStatus': '{\"AllocationState\":\"steady\",\"PreparingNodeCount\":0,\"RunningNodeCount\":3,\"CurrentNodeCount\":4}', 'ensembled_iterations': '[23, 19, 26, 38, 37, 4, 27, 6, 5, 14, 16]', 'ensembled_algorithms': \"['RandomForest', 'XGBoostClassifier', 'ExtremeRandomTrees', 'GradientBoosting', 'XGBoostClassifier', 'RandomForest', 'ExtremeRandomTrees', 'RandomForest', 'RandomForest', 'RandomForest', 'RandomForest']\", 'ensemble_weights': '[0.06666666666666667, 0.13333333333333333, 0.2, 0.06666666666666667, 0.06666666666666667, 0.06666666666666667, 0.06666666666666667, 0.13333333333333333, 0.06666666666666667, 0.06666666666666667, 0.06666666666666667]', 'best_individual_pipeline_score': '0.9097261904761904', 'best_individual_iteration': '23', '_aml_system_automl_is_child_run_end_telemetry_event_logged': 'True'}\n"
          ]
        }
      ],
      "execution_count": 15,
      "metadata": {}
    },
    {
      "cell_type": "code",
      "source": [
        "#TODO: Save the best model\n",
        "\n",
        "best_run.register_model(model_name='automl_model',model_path='/outputs',properties={'AUC_weighted':best_run_metrics['AUC_weighted']},tags={'Training context':'Auto ML'})"
      ],
      "outputs": [
        {
          "output_type": "execute_result",
          "execution_count": 16,
          "data": {
            "text/plain": "Model(workspace=Workspace.create(name='quick-starts-ws-133024', subscription_id='6971f5ac-8af1-446e-8034-05acea24681f', resource_group='aml-quickstarts-133024'), name=automl_model, id=automl_model:1, version=1, tags={'Training context': 'Auto ML'}, properties={'AUC_weighted': '0.9185826411960134'})"
          },
          "metadata": {}
        }
      ],
      "execution_count": 16,
      "metadata": {
        "gather": {
          "logged": 1598431426111
        },
        "jupyter": {
          "outputs_hidden": false,
          "source_hidden": false
        },
        "nteract": {
          "transient": {
            "deleting": false
          }
        }
      }
    },
    {
      "cell_type": "code",
      "source": [
        "model_name = best_run.properties['model_name']"
      ],
      "outputs": [],
      "execution_count": 17,
      "metadata": {}
    },
    {
      "cell_type": "markdown",
      "source": [
        "## Model Deployment\n",
        "\n",
        "Remember you have to deploy only one of the two models you trained.. Perform the steps in the rest of this notebook only if you wish to deploy this model.\n",
        "\n",
        "TODO: In the cell below, register the model, create an inference config and deploy the model as a web service."
      ],
      "metadata": {}
    },
    {
      "cell_type": "code",
      "source": [
        "# Register the model\n",
        "\n",
        "model = remote_run.register_model(model_name = model_name,\n",
        "                                  description = 'Automl model')\n",
        "\n",
        "print('Name:', model.name)"
      ],
      "outputs": [
        {
          "output_type": "stream",
          "name": "stdout",
          "text": [
            "Name: AutoMLef15e003952\n"
          ]
        }
      ],
      "execution_count": 20,
      "metadata": {}
    },
    {
      "cell_type": "code",
      "source": [
        "env = best_run.get_environment()\n",
        "\n",
        "script_name = 'score.py'\n",
        "\n",
        "\n",
        "best_run.download_file('outputs/scoring_file_v_1_0_0.py', 'score.py')"
      ],
      "outputs": [],
      "execution_count": 26,
      "metadata": {}
    },
    {
      "cell_type": "code",
      "source": [
        "# Create an inference config\n",
        "\n",
        "inference_config = InferenceConfig(entry_script= script_name, environment=env)\n",
        "\n",
        "aci_config = AciWebservice.deploy_configuration(cpu_cores=1, memory_gb=1, enable_app_insights=True)\n",
        "aci_service_name='capstone-service'\n"
      ],
      "outputs": [],
      "execution_count": 56,
      "metadata": {}
    },
    {
      "cell_type": "code",
      "source": [
        "service = Model.deploy(ws, aci_service_name, [model], inference_config, aci_config)\n",
        "                        "
      ],
      "outputs": [],
      "execution_count": 57,
      "metadata": {}
    },
    {
      "cell_type": "code",
      "source": [
        "service.wait_for_deployment(show_output=True)\n",
        "\n",
        "print(service.state)"
      ],
      "outputs": [
        {
          "output_type": "stream",
          "name": "stdout",
          "text": [
            "Tips: You can try get_logs(): https://aka.ms/debugimage#dockerlog or local deployment: https://aka.ms/debugimage#debug-locally to debug if deployment takes longer than 10 minutes.\n",
            "Running...............\n",
            "Succeeded\n",
            "ACI service creation operation finished, operation \"Succeeded\"\n",
            "Healthy\n"
          ]
        }
      ],
      "execution_count": 58,
      "metadata": {}
    },
    {
      "cell_type": "markdown",
      "source": [
        "TODO: In the cell below, send a request to the web service you deployed to test it."
      ],
      "metadata": {
        "collapsed": true,
        "gather": {
          "logged": 1598431657736
        },
        "jupyter": {
          "outputs_hidden": false,
          "source_hidden": false
        },
        "nteract": {
          "transient": {
            "deleting": false
          }
        }
      }
    },
    {
      "cell_type": "code",
      "source": [
        "%run endpoint.py"
      ],
      "outputs": [
        {
          "output_type": "stream",
          "name": "stdout",
          "text": [
            "{\"result\": [1, 1]}\n"
          ]
        }
      ],
      "execution_count": 59,
      "metadata": {}
    },
    {
      "cell_type": "code",
      "source": [
        "data_test = dataset.to_pandas_dataframe().dropna()\n",
        "data_sample = data_test.sample(3)\n",
        "y_true = data_sample.pop('DEATH_EVENT')\n",
        "sample_json = json.dumps({'data':data_sample.to_dict(orient='records')})\n",
        "print(sample_json)"
      ],
      "outputs": [
        {
          "output_type": "stream",
          "name": "stdout",
          "text": [
            "{\"data\": [{\"age\": 46.0, \"anaemia\": 1, \"creatinine_phosphokinase\": 291, \"diabetes\": 0, \"ejection_fraction\": 35, \"high_blood_pressure\": 0, \"platelets\": 348000.0, \"serum_creatinine\": 0.9, \"serum_sodium\": 140, \"sex\": 0, \"smoking\": 0, \"time\": 109}, {\"age\": 60.0, \"anaemia\": 1, \"creatinine_phosphokinase\": 260, \"diabetes\": 1, \"ejection_fraction\": 38, \"high_blood_pressure\": 0, \"platelets\": 255000.0, \"serum_creatinine\": 2.2, \"serum_sodium\": 132, \"sex\": 0, \"smoking\": 1, \"time\": 45}, {\"age\": 60.0, \"anaemia\": 1, \"creatinine_phosphokinase\": 582, \"diabetes\": 0, \"ejection_fraction\": 30, \"high_blood_pressure\": 1, \"platelets\": 127000.0, \"serum_creatinine\": 0.9, \"serum_sodium\": 145, \"sex\": 0, \"smoking\": 0, \"time\": 95}]}\n"
          ]
        }
      ],
      "execution_count": 60,
      "metadata": {}
    },
    {
      "cell_type": "markdown",
      "source": [
        "TODO: In the cell below, print the logs of the web service and delete the service"
      ],
      "metadata": {
        "collapsed": true,
        "gather": {
          "logged": 1598432765711
        },
        "jupyter": {
          "outputs_hidden": false,
          "source_hidden": false
        },
        "nteract": {
          "transient": {
            "deleting": false
          }
        }
      }
    },
    {
      "cell_type": "code",
      "source": [
        "output = service.run(sample_json)\n",
        "print('Prediction: ', output)\n",
        "print('True Values: ', y_true.values)"
      ],
      "outputs": [
        {
          "output_type": "stream",
          "name": "stdout",
          "text": [
            "Prediction:  {\"result\": [0, 1, 0]}\n",
            "True Values:  [0 1 0]\n"
          ]
        }
      ],
      "execution_count": 61,
      "metadata": {}
    },
    {
      "cell_type": "code",
      "source": [
        "service.get_logs()"
      ],
      "outputs": [
        {
          "output_type": "execute_result",
          "execution_count": 62,
          "data": {
            "text/plain": "'2021-01-01T10:59:11,013593300+00:00 - gunicorn/run \\n2021-01-01T10:59:11,015230800+00:00 - iot-server/run \\n2021-01-01T10:59:11,040872500+00:00 - nginx/run \\n2021-01-01T10:59:11,022283600+00:00 - rsyslog/run \\n/usr/sbin/nginx: /azureml-envs/azureml_8eff28b157f42edcd2424a5aae6c8074/lib/libcrypto.so.1.0.0: no version information available (required by /usr/sbin/nginx)\\n/usr/sbin/nginx: /azureml-envs/azureml_8eff28b157f42edcd2424a5aae6c8074/lib/libcrypto.so.1.0.0: no version information available (required by /usr/sbin/nginx)\\n/usr/sbin/nginx: /azureml-envs/azureml_8eff28b157f42edcd2424a5aae6c8074/lib/libssl.so.1.0.0: no version information available (required by /usr/sbin/nginx)\\n/usr/sbin/nginx: /azureml-envs/azureml_8eff28b157f42edcd2424a5aae6c8074/lib/libssl.so.1.0.0: no version information available (required by /usr/sbin/nginx)\\n/usr/sbin/nginx: /azureml-envs/azureml_8eff28b157f42edcd2424a5aae6c8074/lib/libssl.so.1.0.0: no version information available (required by /usr/sbin/nginx)\\nrsyslogd: /azureml-envs/azureml_8eff28b157f42edcd2424a5aae6c8074/lib/libuuid.so.1: no version information available (required by rsyslogd)\\nEdgeHubConnectionString and IOTEDGE_IOTHUBHOSTNAME are not set. Exiting...\\n2021-01-01T10:59:12,408920400+00:00 - iot-server/finish 1 0\\n2021-01-01T10:59:12,417048200+00:00 - Exit code 1 is normal. Not restarting iot-server.\\nStarting gunicorn 19.9.0\\nListening at: http://127.0.0.1:31311 (66)\\nUsing worker: sync\\nworker timeout is set to 300\\nBooting worker with pid: 96\\nSPARK_HOME not set. Skipping PySpark Initialization.\\nGenerating new fontManager, this may take some time...\\nInitializing logger\\n2021-01-01 10:59:17,973 | root | INFO | Starting up app insights client\\nStarting up app insights client\\n2021-01-01 10:59:17,976 | root | INFO | Starting up request id generator\\nStarting up request id generator\\n2021-01-01 10:59:17,976 | root | INFO | Starting up app insight hooks\\nStarting up app insight hooks\\n2021-01-01 10:59:17,976 | root | INFO | Invoking user\\'s init function\\nInvoking user\\'s init function\\n2021-01-01 10:59:26,562 | root | INFO | Users\\'s init has completed successfully\\nUsers\\'s init has completed successfully\\n2021-01-01 10:59:26,569 | root | INFO | Skipping middleware: dbg_model_info as it\\'s not enabled.\\nSkipping middleware: dbg_model_info as it\\'s not enabled.\\n2021-01-01 10:59:26,569 | root | INFO | Skipping middleware: dbg_resource_usage as it\\'s not enabled.\\nSkipping middleware: dbg_resource_usage as it\\'s not enabled.\\n2021-01-01 10:59:26,572 | root | INFO | Scoring timeout is found from os.environ: 60000 ms\\nScoring timeout is found from os.environ: 60000 ms\\n2021-01-01 10:59:26,620 | root | INFO | 200\\n200\\n127.0.0.1 - - [01/Jan/2021:10:59:26 +0000] \"GET /swagger.json HTTP/1.0\" 200 2862 \"-\" \"Go-http-client/1.1\"\\n2021-01-01 10:59:29,969 | root | INFO | 200\\n200\\n127.0.0.1 - - [01/Jan/2021:10:59:29 +0000] \"GET /swagger.json HTTP/1.0\" 200 2862 \"-\" \"Go-http-client/1.1\"\\n2021-01-01 10:59:49,992 | root | INFO | 200\\n200\\n127.0.0.1 - - [01/Jan/2021:10:59:49 +0000] \"GET /swagger.json HTTP/1.0\" 200 2862 \"-\" \"Go-http-client/1.1\"\\n2021-01-01 10:59:50,717 | root | INFO | 200\\n200\\n127.0.0.1 - - [01/Jan/2021:10:59:50 +0000] \"GET /swagger.json HTTP/1.0\" 200 2862 \"-\" \"Go-http-client/1.1\"\\n2021-01-01 11:00:35,600 | root | INFO | Validation Request Content-Type\\nValidation Request Content-Type\\n2021-01-01 11:00:35,600 | root | INFO | \\tHost: localhost:5001\\n\\tHost: localhost:5001\\n2021-01-01 11:00:35,601 | root | INFO | \\tX-Real-Ip: 127.0.0.1\\n\\tX-Real-Ip: 127.0.0.1\\n2021-01-01 11:00:35,601 | root | INFO | \\tX-Forwarded-For: 127.0.0.1\\n\\tX-Forwarded-For: 127.0.0.1\\n2021-01-01 11:00:35,601 | root | INFO | \\tX-Forwarded-Proto: http\\n\\tX-Forwarded-Proto: http\\n2021-01-01 11:00:35,601 | root | INFO | \\tConnection: close\\n\\tConnection: close\\n2021-01-01 11:00:35,601 | root | INFO | \\tContent-Length: 472\\n\\tContent-Length: 472\\n2021-01-01 11:00:35,601 | root | INFO | \\tUser-Agent: python-requests/2.25.0\\n\\tUser-Agent: python-requests/2.25.0\\n2021-01-01 11:00:35,601 | root | INFO | \\tAccept: */*\\n\\tAccept: */*\\n2021-01-01 11:00:35,602 | root | INFO | \\tAccept-Encoding: gzip, deflate\\n\\tAccept-Encoding: gzip, deflate\\n2021-01-01 11:00:35,602 | root | INFO | \\tContent-Type: application/json\\n\\tContent-Type: application/json\\n2021-01-01 11:00:35,603 | root | INFO | \\tX-Ms-Request-Id: 71ba613a-6f8f-4dd5-87ed-c3ea3e366645\\n\\tX-Ms-Request-Id: 71ba613a-6f8f-4dd5-87ed-c3ea3e366645\\n2021-01-01 11:00:35,604 | root | INFO | Scoring Timer is set to 60.0 seconds\\nScoring Timer is set to 60.0 seconds\\n2021-01-01 11:00:36,148 | root | INFO | 200\\n200\\n127.0.0.1 - - [01/Jan/2021:11:00:36 +0000] \"POST /score HTTP/1.0\" 200 22 \"-\" \"python-requests/2.25.0\"\\n2021-01-01 11:00:45,760 | root | INFO | Validation Request Content-Type\\nValidation Request Content-Type\\n2021-01-01 11:00:45,761 | root | INFO | \\tHost: localhost:5001\\n\\tHost: localhost:5001\\n2021-01-01 11:00:45,761 | root | INFO | \\tX-Real-Ip: 127.0.0.1\\n\\tX-Real-Ip: 127.0.0.1\\n2021-01-01 11:00:45,762 | root | INFO | \\tX-Forwarded-For: 127.0.0.1\\n\\tX-Forwarded-For: 127.0.0.1\\n2021-01-01 11:00:45,762 | root | INFO | \\tX-Forwarded-Proto: http\\n\\tX-Forwarded-Proto: http\\n2021-01-01 11:00:45,763 | root | INFO | \\tConnection: close\\n\\tConnection: close\\n2021-01-01 11:00:45,763 | root | INFO | \\tContent-Length: 472\\n\\tContent-Length: 472\\n2021-01-01 11:00:45,763 | root | INFO | \\tUser-Agent: python-requests/2.25.0\\n\\tUser-Agent: python-requests/2.25.0\\n2021-01-01 11:00:45,764 | root | INFO | \\tAccept: */*\\n\\tAccept: */*\\n2021-01-01 11:00:45,764 | root | INFO | \\tAccept-Encoding: gzip, deflate\\n\\tAccept-Encoding: gzip, deflate\\n2021-01-01 11:00:45,764 | root | INFO | \\tContent-Type: application/json\\n\\tContent-Type: application/json\\n2021-01-01 11:00:45,765 | root | INFO | \\tX-Ms-Request-Id: 0d3e98a9-b487-4c34-a7d0-2456bcb6d0b6\\n\\tX-Ms-Request-Id: 0d3e98a9-b487-4c34-a7d0-2456bcb6d0b6\\n2021-01-01 11:00:45,765 | root | INFO | Scoring Timer is set to 60.0 seconds\\nScoring Timer is set to 60.0 seconds\\n2021-01-01 11:00:46,332 | root | INFO | 200\\n200\\n127.0.0.1 - - [01/Jan/2021:11:00:46 +0000] \"POST /score HTTP/1.0\" 200 22 \"-\" \"python-requests/2.25.0\"\\n2021-01-01 11:00:55,936 | root | INFO | Validation Request Content-Type\\nValidation Request Content-Type\\n2021-01-01 11:00:55,937 | root | INFO | \\tHost: localhost:5001\\n\\tHost: localhost:5001\\n2021-01-01 11:00:55,937 | root | INFO | \\tX-Real-Ip: 127.0.0.1\\n\\tX-Real-Ip: 127.0.0.1\\n2021-01-01 11:00:55,938 | root | INFO | \\tX-Forwarded-For: 127.0.0.1\\n\\tX-Forwarded-For: 127.0.0.1\\n2021-01-01 11:00:55,938 | root | INFO | \\tX-Forwarded-Proto: http\\n\\tX-Forwarded-Proto: http\\n2021-01-01 11:00:55,938 | root | INFO | \\tConnection: close\\n\\tConnection: close\\n2021-01-01 11:00:55,939 | root | INFO | \\tContent-Length: 710\\n\\tContent-Length: 710\\n2021-01-01 11:00:55,939 | root | INFO | \\tUser-Agent: python-requests/2.25.0\\n\\tUser-Agent: python-requests/2.25.0\\n2021-01-01 11:00:55,939 | root | INFO | \\tAccept: application/json\\n\\tAccept: application/json\\n2021-01-01 11:00:55,940 | root | INFO | \\tAccept-Encoding: gzip, deflate\\n\\tAccept-Encoding: gzip, deflate\\n2021-01-01 11:00:55,940 | root | INFO | \\tContent-Type: application/json\\n\\tContent-Type: application/json\\n2021-01-01 11:00:55,940 | root | INFO | \\tX-Ms-Request-Id: ebbacbb1-6050-4208-8502-98d27f8df6fd\\n\\tX-Ms-Request-Id: ebbacbb1-6050-4208-8502-98d27f8df6fd\\n2021-01-01 11:00:55,940 | root | INFO | Scoring Timer is set to 60.0 seconds\\nScoring Timer is set to 60.0 seconds\\n2021-01-01 11:00:56,479 | root | INFO | 200\\n200\\n127.0.0.1 - - [01/Jan/2021:11:00:56 +0000] \"POST /score HTTP/1.0\" 200 25 \"-\" \"python-requests/2.25.0\"\\n'"
          },
          "metadata": {}
        }
      ],
      "execution_count": 62,
      "metadata": {}
    },
    {
      "cell_type": "code",
      "source": [
        "# Delete the service\n",
        "service.delete()"
      ],
      "outputs": [],
      "execution_count": 54,
      "metadata": {
        "jupyter": {
          "outputs_hidden": false,
          "source_hidden": false
        },
        "nteract": {
          "transient": {
            "deleting": false
          }
        }
      }
    },
    {
      "cell_type": "code",
      "source": [
        "new_cluster.delete()"
      ],
      "outputs": [],
      "execution_count": 55,
      "metadata": {}
    }
  ],
  "metadata": {
    "kernel_info": {
      "name": "python3-azureml"
    },
    "kernelspec": {
      "display_name": "Python 3.6 - AzureML",
      "language": "python",
      "name": "python3-azureml"
    },
    "language_info": {
      "codemirror_mode": {
        "name": "ipython",
        "version": 3
      },
      "file_extension": ".py",
      "mimetype": "text/x-python",
      "name": "python",
      "nbconvert_exporter": "python",
      "pygments_lexer": "ipython3",
      "version": "3.6.9"
    },
    "nteract": {
      "version": "nteract-front-end@1.0.0"
    }
  },
  "nbformat": 4,
  "nbformat_minor": 2
}