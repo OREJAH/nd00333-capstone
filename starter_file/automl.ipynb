{
  "cells": [
    {
      "cell_type": "markdown",
      "source": [
        "# Automated ML\n",
        "\n",
        "Below are the dependencies that will be needed to complete the project."
      ],
      "metadata": {}
    },
    {
      "cell_type": "code",
      "source": [
        "import azureml.core\n",
        "from azureml.core.compute import ComputeTarget, AmlCompute\n",
        "from azureml.core.compute_target import ComputeTargetException\n",
        "from azureml.core.dataset import Dataset\n",
        "from azureml.core.workspace import Workspace\n",
        "from azureml.core import Experiment, Webservice, Model\n",
        "from azureml.train.automl import AutoMLConfig\n",
        "from azureml.widgets import RunDetails\n",
        "from azureml.core.environment import Environment\n",
        "from azureml.core.model import InferenceConfig\n",
        "from azureml.core.webservice import AciWebservice\n",
        "\n",
        "\n",
        "import pandas as pd\n",
        "import sklearn\n",
        "import json\n",
        "\n",
        "# Check core SDK version number\n",
        "print(\"SDK version:\", azureml.core.VERSION)"
      ],
      "outputs": [
        {
          "output_type": "stream",
          "name": "stdout",
          "text": [
            "SDK version: 1.19.0\n"
          ]
        }
      ],
      "execution_count": 1,
      "metadata": {
        "gather": {
          "logged": 1598423888013
        },
        "jupyter": {
          "outputs_hidden": false,
          "source_hidden": false
        },
        "nteract": {
          "transient": {
            "deleting": false
          }
        }
      }
    },
    {
      "cell_type": "markdown",
      "source": [
        "## Dataset\n",
        "\n",
        "### Overview\n",
        "TODO: In this markdown cell, give an overview of the dataset you are using. Also mention the task you will be performing.\n",
        "\n",
        "\n",
        "TODO: Get data. In the cell below, write code to access the data you will be using in this project. Remember that the dataset needs to be external."
      ],
      "metadata": {}
    },
    {
      "cell_type": "code",
      "source": [
        "ws = Workspace.from_config()\n",
        "print(ws.name, ws.resource_group, ws.subscription_id, sep = '\\n')"
      ],
      "outputs": [
        {
          "output_type": "stream",
          "name": "stdout",
          "text": [
            "quick-starts-ws-132732\n",
            "aml-quickstarts-132732\n",
            "a0a76bad-11a1-4a2d-9887-97a29122c8ed\n"
          ]
        }
      ],
      "execution_count": 2,
      "metadata": {}
    },
    {
      "cell_type": "code",
      "source": [
        "# choose a name for experiment\n",
        "experiment_name = 'capstone-heart-failure-exp'\n",
        "\n",
        "experiment=Experiment(ws, experiment_name)\n",
        "experiment"
      ],
      "outputs": [
        {
          "output_type": "execute_result",
          "execution_count": 3,
          "data": {
            "text/html": "<table style=\"width:100%\"><tr><th>Name</th><th>Workspace</th><th>Report Page</th><th>Docs Page</th></tr><tr><td>capstone-heart-failure-exp</td><td>quick-starts-ws-132732</td><td><a href=\"https://ml.azure.com/experiments/capstone-heart-failure-exp?wsid=/subscriptions/a0a76bad-11a1-4a2d-9887-97a29122c8ed/resourcegroups/aml-quickstarts-132732/workspaces/quick-starts-ws-132732\" target=\"_blank\" rel=\"noopener\">Link to Azure Machine Learning studio</a></td><td><a href=\"https://docs.microsoft.com/en-us/python/api/azureml-core/azureml.core.experiment.Experiment?view=azure-ml-py\" target=\"_blank\" rel=\"noopener\">Link to Documentation</a></td></tr></table>",
            "text/plain": "Experiment(Name: capstone-heart-failure-exp,\nWorkspace: quick-starts-ws-132732)"
          },
          "metadata": {}
        }
      ],
      "execution_count": 3,
      "metadata": {
        "gather": {
          "logged": 1598423890461
        },
        "jupyter": {
          "outputs_hidden": false,
          "source_hidden": false
        },
        "nteract": {
          "transient": {
            "deleting": false
          }
        }
      }
    },
    {
      "cell_type": "code",
      "source": [
        "# TODO: Create compute cluster\n",
        "# Use vm_size = \"Standard_D2_V2\" in your provisioning configuration.\n",
        "# max_nodes should be no greater than 4.\n",
        "\n",
        "### YOUR CODE HERE ###\n",
        "cluster_name=\"cpu-cluster\"\n",
        "\n",
        "try:\n",
        "    new_cluster=ComputeTarget(workspace=ws, name=\"cpu-cluster\")\n",
        "    print(\"Existing cluster detected, make use of it!\")\n",
        "    \n",
        "except ComputeTargetException:\n",
        "    print(\"New compute cluster creation in progress...\")\n",
        "    compute_config = AmlCompute.provisioning_configuration(vm_size='STANDARD_D2_V2',vm_priority='dedicated',min_nodes=None,max_nodes=4)\n",
        "    new_cluster = ComputeTarget.create(ws, \"new_cluster\", compute_config)    \n",
        "    new_cluster.wait_for_completion(show_output=True)         \n",
        "    print(\"Cluster is ready\")"
      ],
      "outputs": [
        {
          "output_type": "stream",
          "name": "stdout",
          "text": [
            "Existing cluster detected, make use of it!\n"
          ]
        }
      ],
      "execution_count": 4,
      "metadata": {}
    },
    {
      "cell_type": "code",
      "source": [
        "datastore = ws.get_default_datastore()\n",
        "\n",
        "datastore.upload(src_dir='./', target_path='dataset/')"
      ],
      "outputs": [
        {
          "output_type": "stream",
          "name": "stdout",
          "text": [
            "Uploading an estimated of 8 files\n",
            "Uploading ./automl.ipynb\n",
            "Uploaded ./automl.ipynb, 1 files out of an estimated total of 8\n",
            "Uploading ./endpoint.py\n",
            "Uploaded ./endpoint.py, 2 files out of an estimated total of 8\n",
            "Uploading ./hyperparameter_tuning.ipynb\n",
            "Uploaded ./hyperparameter_tuning.ipynb, 3 files out of an estimated total of 8\n",
            "Uploading ./score.py\n",
            "Uploaded ./score.py, 4 files out of an estimated total of 8\n",
            "Uploading ./train.py\n",
            "Uploaded ./train.py, 5 files out of an estimated total of 8\n",
            "Uploading ./.ipynb_aml_checkpoints/automl-checkpoint2021-0-1-9-14-26.ipynb\n",
            "Uploaded ./.ipynb_aml_checkpoints/automl-checkpoint2021-0-1-9-14-26.ipynb, 6 files out of an estimated total of 8\n",
            "Uploading ./.ipynb_aml_checkpoints/hyperparameter_tuning-checkpoint2021-0-1-9-15-5.ipynb\n",
            "Uploaded ./.ipynb_aml_checkpoints/hyperparameter_tuning-checkpoint2021-0-1-9-15-5.ipynb, 7 files out of an estimated total of 8\n",
            "Uploading ./.ipynb_checkpoints/automl-checkpoint.ipynb\n",
            "Uploaded ./.ipynb_checkpoints/automl-checkpoint.ipynb, 8 files out of an estimated total of 8\n",
            "Uploaded 8 files\n"
          ]
        },
        {
          "output_type": "execute_result",
          "execution_count": 5,
          "data": {
            "text/plain": "$AZUREML_DATAREFERENCE_fb993b057a944d7ba28c619803a00f4d"
          },
          "metadata": {}
        }
      ],
      "execution_count": 5,
      "metadata": {}
    },
    {
      "cell_type": "code",
      "source": [
        "dataset = Dataset.get_by_name(ws, name=\"heart-failure\")\n",
        "print(\"Dataset is registered\")\n",
        "dataset"
      ],
      "outputs": [
        {
          "output_type": "stream",
          "name": "stdout",
          "text": [
            "Dataset is registered\n"
          ]
        },
        {
          "output_type": "execute_result",
          "execution_count": 6,
          "data": {
            "text/plain": "{\n  \"source\": [\n    \"('workspaceblobstore', 'UI/01-01-2021_091159_UTC/heart_failure_clinical_records_dataset.csv')\"\n  ],\n  \"definition\": [\n    \"GetDatastoreFiles\",\n    \"ParseDelimited\",\n    \"DropColumns\",\n    \"SetColumnTypes\"\n  ],\n  \"registration\": {\n    \"id\": \"dd6971b3-2e94-44b4-a4de-625490ca74dc\",\n    \"name\": \"heart-failure\",\n    \"version\": 1,\n    \"description\": \"External data from kaggle\",\n    \"workspace\": \"Workspace.create(name='quick-starts-ws-132732', subscription_id='a0a76bad-11a1-4a2d-9887-97a29122c8ed', resource_group='aml-quickstarts-132732')\"\n  }\n}"
          },
          "metadata": {}
        }
      ],
      "execution_count": 6,
      "metadata": {}
    },
    {
      "cell_type": "code",
      "source": [
        "dataset.take(5).to_pandas_dataframe()"
      ],
      "outputs": [
        {
          "output_type": "execute_result",
          "execution_count": 7,
          "data": {
            "text/html": "<div>\n<style scoped>\n    .dataframe tbody tr th:only-of-type {\n        vertical-align: middle;\n    }\n\n    .dataframe tbody tr th {\n        vertical-align: top;\n    }\n\n    .dataframe thead th {\n        text-align: right;\n    }\n</style>\n<table border=\"1\" class=\"dataframe\">\n  <thead>\n    <tr style=\"text-align: right;\">\n      <th></th>\n      <th>age</th>\n      <th>anaemia</th>\n      <th>creatinine_phosphokinase</th>\n      <th>diabetes</th>\n      <th>ejection_fraction</th>\n      <th>high_blood_pressure</th>\n      <th>platelets</th>\n      <th>serum_creatinine</th>\n      <th>serum_sodium</th>\n      <th>sex</th>\n      <th>smoking</th>\n      <th>time</th>\n      <th>DEATH_EVENT</th>\n    </tr>\n  </thead>\n  <tbody>\n    <tr>\n      <th>0</th>\n      <td>75.0</td>\n      <td>0</td>\n      <td>582</td>\n      <td>0</td>\n      <td>20</td>\n      <td>1</td>\n      <td>265000.00</td>\n      <td>1.9</td>\n      <td>130</td>\n      <td>1</td>\n      <td>0</td>\n      <td>4</td>\n      <td>1</td>\n    </tr>\n    <tr>\n      <th>1</th>\n      <td>55.0</td>\n      <td>0</td>\n      <td>7861</td>\n      <td>0</td>\n      <td>38</td>\n      <td>0</td>\n      <td>263358.03</td>\n      <td>1.1</td>\n      <td>136</td>\n      <td>1</td>\n      <td>0</td>\n      <td>6</td>\n      <td>1</td>\n    </tr>\n    <tr>\n      <th>2</th>\n      <td>65.0</td>\n      <td>0</td>\n      <td>146</td>\n      <td>0</td>\n      <td>20</td>\n      <td>0</td>\n      <td>162000.00</td>\n      <td>1.3</td>\n      <td>129</td>\n      <td>1</td>\n      <td>1</td>\n      <td>7</td>\n      <td>1</td>\n    </tr>\n    <tr>\n      <th>3</th>\n      <td>50.0</td>\n      <td>1</td>\n      <td>111</td>\n      <td>0</td>\n      <td>20</td>\n      <td>0</td>\n      <td>210000.00</td>\n      <td>1.9</td>\n      <td>137</td>\n      <td>1</td>\n      <td>0</td>\n      <td>7</td>\n      <td>1</td>\n    </tr>\n    <tr>\n      <th>4</th>\n      <td>65.0</td>\n      <td>1</td>\n      <td>160</td>\n      <td>1</td>\n      <td>20</td>\n      <td>0</td>\n      <td>327000.00</td>\n      <td>2.7</td>\n      <td>116</td>\n      <td>0</td>\n      <td>0</td>\n      <td>8</td>\n      <td>1</td>\n    </tr>\n  </tbody>\n</table>\n</div>",
            "text/plain": "    age  anaemia  creatinine_phosphokinase  diabetes  ejection_fraction  \\\n0  75.0        0                       582         0                 20   \n1  55.0        0                      7861         0                 38   \n2  65.0        0                       146         0                 20   \n3  50.0        1                       111         0                 20   \n4  65.0        1                       160         1                 20   \n\n   high_blood_pressure  platelets  serum_creatinine  serum_sodium  sex  \\\n0                    1  265000.00               1.9           130    1   \n1                    0  263358.03               1.1           136    1   \n2                    0  162000.00               1.3           129    1   \n3                    0  210000.00               1.9           137    1   \n4                    0  327000.00               2.7           116    0   \n\n   smoking  time  DEATH_EVENT  \n0        0     4            1  \n1        0     6            1  \n2        1     7            1  \n3        0     7            1  \n4        0     8            1  "
          },
          "metadata": {}
        }
      ],
      "execution_count": 7,
      "metadata": {}
    },
    {
      "cell_type": "markdown",
      "source": [
        "## AutoML Configuration\n",
        "\n",
        "The following code shows a basic example of creating an AutoMLConfig object and submitting an experiment for classification.\n",
        "I chose the automl settings below because I wanted to specify the experiment type as classification. The classification experiment will be carried out using AUC weighted as the primary metric with experiment timeout minutes set to 30 minutes and 5 cross-validation folds with the maximum number of iterations that would be executed concurrently set to 4.\n",
        "All of these settings defines the machine learning task.\n",
        "\n",
        "\n",
        "The configuration object below contains and persists the parameters for configuring the experiment run, as well as the training data to be used at run time."
      ],
      "metadata": {}
    },
    {
      "cell_type": "code",
      "source": [
        "automl_settings = {\n",
        "    \"experiment_timeout_minutes\": 30,\n",
        "    \"max_concurrent_iterations\": 5,\n",
        "    \"primary_metric\" : 'AUC_weighted',\n",
        "    \"n_cross_validations\": 5\n",
        "}\n",
        "automl_config = AutoMLConfig(compute_target=new_cluster,\n",
        "                             task = \"classification\",\n",
        "                             training_data=dataset,\n",
        "                             label_column_name=\"DEATH_EVENT\", \n",
        "                             enable_early_stopping= True,\n",
        "                             featurization= 'auto',\n",
        "                             enable_voting_ensemble= True,\n",
        "                             **automl_settings\n",
        "                            )"
      ],
      "outputs": [],
      "execution_count": 8,
      "metadata": {
        "gather": {
          "logged": 1598429217746
        },
        "jupyter": {
          "outputs_hidden": false,
          "source_hidden": false
        },
        "nteract": {
          "transient": {
            "deleting": false
          }
        }
      }
    },
    {
      "cell_type": "code",
      "source": [
        "# TODO: Submit your experiment\n",
        "\n",
        "remote_run = experiment.submit(automl_config, show_output=True)"
      ],
      "outputs": [
        {
          "output_type": "stream",
          "name": "stdout",
          "text": [
            "Running on remote.\n",
            "No run_configuration provided, running on cpu-cluster with default configuration\n",
            "Running on remote compute: cpu-cluster\n",
            "Parent Run ID: AutoML_ef15e003-9024-458d-bef1-ff584eb1739a\n",
            "\n",
            "Current status: FeaturesGeneration. Generating features for the dataset.\n",
            "Current status: ModelSelection. Beginning model selection.\n",
            "\n",
            "****************************************************************************************************\n",
            "DATA GUARDRAILS: \n",
            "\n",
            "TYPE:         Class balancing detection\n",
            "STATUS:       PASSED\n",
            "DESCRIPTION:  Your inputs were analyzed, and all classes are balanced in your training data.\n",
            "              Learn more about imbalanced data: https://aka.ms/AutomatedMLImbalancedData\n",
            "\n",
            "****************************************************************************************************\n",
            "\n",
            "TYPE:         Missing feature values imputation\n",
            "STATUS:       PASSED\n",
            "DESCRIPTION:  No feature missing values were detected in the training data.\n",
            "              Learn more about missing value imputation: https://aka.ms/AutomatedMLFeaturization\n",
            "\n",
            "****************************************************************************************************\n",
            "\n",
            "TYPE:         High cardinality feature detection\n",
            "STATUS:       PASSED\n",
            "DESCRIPTION:  Your inputs were analyzed, and no high cardinality features were detected.\n",
            "              Learn more about high cardinality feature handling: https://aka.ms/AutomatedMLFeaturization\n",
            "\n",
            "****************************************************************************************************\n",
            "\n",
            "****************************************************************************************************\n",
            "ITERATION: The iteration being evaluated.\n",
            "PIPELINE: A summary description of the pipeline being evaluated.\n",
            "DURATION: Time taken for the current iteration.\n",
            "METRIC: The result of computing score on the fitted pipeline.\n",
            "BEST: The best observed score thus far.\n",
            "****************************************************************************************************\n",
            "\n",
            " ITERATION   PIPELINE                                       DURATION      METRIC      BEST\n",
            "         0   MaxAbsScaler LightGBM                          0:00:42       0.8811    0.8811\n",
            "         4   MinMaxScaler RandomForest                      0:00:44       0.9042    0.9042\n",
            "         3   RobustScaler ExtremeRandomTrees                0:00:43       0.8839    0.9042\n",
            "         2   MinMaxScaler RandomForest                      0:00:42       0.9047    0.9047\n",
            "         1   MaxAbsScaler XGBoostClassifier                 0:00:43       0.8930    0.9047\n",
            "         8   MinMaxScaler ExtremeRandomTrees                0:00:42       0.8594    0.9047\n",
            "         9   SparseNormalizer KNN                           0:00:49       0.7515    0.9047\n",
            "        10   MinMaxScaler ExtremeRandomTrees                0:00:51       0.8909    0.9047\n",
            "         5   MinMaxScaler RandomForest                      0:03:21       0.8927    0.9047\n",
            "         6   StandardScalerWrapper RandomForest             0:03:21       0.8968    0.9047\n",
            "         7   MinMaxScaler ExtremeRandomTrees                0:03:20       0.8947    0.9047\n",
            "        11   RobustScaler ExtremeRandomTrees                0:00:48       0.8922    0.9047\n",
            "        12   StandardScalerWrapper RandomForest             0:00:44       0.9108    0.9108\n",
            "        13   StandardScalerWrapper SGD                      0:00:42       0.8705    0.9108\n",
            "        14   RobustScaler RandomForest                      0:00:46       0.8732    0.9108\n",
            "        15   StandardScalerWrapper KNN                      0:00:43       0.4823    0.9108\n",
            "        16   MinMaxScaler RandomForest                      0:00:49       0.8973    0.9108\n",
            "        17   MinMaxScaler ExtremeRandomTrees                0:00:43       0.8377    0.9108\n",
            "        18   MaxAbsScaler RandomForest                      0:00:48       0.8988    0.9108\n",
            "        19   StandardScalerWrapper XGBoostClassifier        0:00:39       0.9072    0.9108\n",
            "        20   MaxAbsScaler RandomForest                      0:00:47       0.8963    0.9108\n",
            "        21   MaxAbsScaler ExtremeRandomTrees                0:00:39       0.8700    0.9108\n",
            "        22   MaxAbsScaler ExtremeRandomTrees                0:00:46       0.8548    0.9108\n",
            "        23   MaxAbsScaler LightGBM                          0:00:43       0.8960    0.9108\n",
            "        24   MinMaxScaler ExtremeRandomTrees                0:00:51       0.8997    0.9108\n",
            "        25   MinMaxScaler RandomForest                      0:00:36       0.8983    0.9108\n",
            "        26   MaxAbsScaler ExtremeRandomTrees                0:00:46       0.9023    0.9108\n",
            "        27   StandardScalerWrapper LightGBM                 0:00:45       0.8361    0.9108\n",
            "        28   MaxAbsScaler RandomForest                      0:00:48       0.9083    0.9108\n",
            "        30   RobustScaler LightGBM                          0:00:34       0.8916    0.9108\n",
            "        29   MaxAbsScaler RandomForest                      0:00:42       0.8633    0.9108\n",
            "        31   MinMaxScaler RandomForest                      0:00:43       0.9094    0.9108\n",
            "        32   StandardScalerWrapper XGBoostClassifier        0:00:43       0.9073    0.9108\n",
            "        33   RobustScaler RandomForest                      0:00:44       0.9151    0.9151\n",
            "        34   RobustScaler LightGBM                          0:00:43       0.9040    0.9151\n",
            "        37                                                  0:00:18          nan    0.9151\n",
            "        35   TruncatedSVDWrapper RandomForest               0:00:34       0.7482    0.9151\n",
            "        36                                                  0:00:21          nan    0.9151\n",
            "        38   StandardScalerWrapper XGBoostClassifier        0:00:40       0.9009    0.9151\n",
            "        39   StandardScalerWrapper LogisticRegression       0:00:42       0.8702    0.9151\n",
            "        40   SparseNormalizer RandomForest                  0:00:36       0.8571    0.9151\n",
            "        42   RobustScaler LightGBM                          0:00:39       0.8964    0.9151\n",
            "        41   SparseNormalizer XGBoostClassifier             0:00:43       0.8629    0.9151\n",
            "        43   SparseNormalizer XGBoostClassifier             0:00:37       0.9026    0.9151\n",
            "        44   MinMaxScaler RandomForest                      0:00:37       0.9075    0.9151\n",
            "        45   MinMaxScaler RandomForest                      0:00:42       0.8967    0.9151\n",
            "        46   MaxAbsScaler ExtremeRandomTrees                0:00:39       0.8893    0.9151\n",
            "        47   StandardScalerWrapper RandomForest             0:00:40       0.9148    0.9151\n",
            "        48   StandardScalerWrapper LightGBM                 0:00:36       0.8832    0.9151\n",
            "        49   RobustScaler LightGBM                          0:00:40       0.8949    0.9151\n",
            "        50                                                  0:00:13          nan    0.9151\n",
            "        51                                                  0:00:08          nan    0.9151\n",
            "        52    VotingEnsemble                                0:01:39       0.9268    0.9268\n",
            "        53    StackEnsemble                                 0:01:48       0.9218    0.9268\n"
          ]
        }
      ],
      "execution_count": 9,
      "metadata": {
        "gather": {
          "logged": 1598431107951
        },
        "jupyter": {
          "outputs_hidden": false,
          "source_hidden": false
        },
        "nteract": {
          "transient": {
            "deleting": false
          }
        }
      }
    },
    {
      "cell_type": "markdown",
      "source": [
        "## Run Details\n",
        "\n",
        "OPTIONAL: Write about the different models trained and their performance. Why do you think some models did better than others?\n",
        "\n",
        "TODO: In the cell below, use the `RunDetails` widget to show the different experiments."
      ],
      "metadata": {}
    },
    {
      "cell_type": "code",
      "source": [
        "RunDetails(remote_run).show()"
      ],
      "outputs": [
        {
          "output_type": "display_data",
          "data": {
            "application/vnd.jupyter.widget-view+json": {
              "model_id": "71059b89b379458c83844ec7dabe3252",
              "version_major": 2,
              "version_minor": 0
            },
            "text/plain": "_AutoMLWidget(widget_settings={'childWidgetDisplay': 'popup', 'send_telemetry': False, 'log_level': 'INFO', 's…"
          },
          "metadata": {}
        },
        {
          "output_type": "display_data",
          "data": {
            "application/aml.mini.widget.v1": "{\"status\": \"Completed\", \"workbench_run_details_uri\": \"https://ml.azure.com/experiments/capstone-heart-failure-exp/runs/AutoML_ef15e003-9024-458d-bef1-ff584eb1739a?wsid=/subscriptions/a0a76bad-11a1-4a2d-9887-97a29122c8ed/resourcegroups/aml-quickstarts-132732/workspaces/quick-starts-ws-132732\", \"run_id\": \"AutoML_ef15e003-9024-458d-bef1-ff584eb1739a\", \"run_properties\": {\"run_id\": \"AutoML_ef15e003-9024-458d-bef1-ff584eb1739a\", \"created_utc\": \"2021-01-01T09:18:53.845232Z\", \"properties\": {\"num_iterations\": \"1000\", \"training_type\": \"TrainFull\", \"acquisition_function\": \"EI\", \"primary_metric\": \"AUC_weighted\", \"train_split\": \"0\", \"acquisition_parameter\": \"0\", \"num_cross_validation\": \"5\", \"target\": \"cpu-cluster\", \"AMLSettingsJsonString\": \"{\\\"path\\\":null,\\\"name\\\":\\\"capstone-heart-failure-exp\\\",\\\"subscription_id\\\":\\\"a0a76bad-11a1-4a2d-9887-97a29122c8ed\\\",\\\"resource_group\\\":\\\"aml-quickstarts-132732\\\",\\\"workspace_name\\\":\\\"quick-starts-ws-132732\\\",\\\"region\\\":\\\"southcentralus\\\",\\\"compute_target\\\":\\\"cpu-cluster\\\",\\\"spark_service\\\":null,\\\"azure_service\\\":\\\"remote\\\",\\\"many_models\\\":false,\\\"pipeline_fetch_max_batch_size\\\":1,\\\"iterations\\\":1000,\\\"primary_metric\\\":\\\"AUC_weighted\\\",\\\"task_type\\\":\\\"classification\\\",\\\"data_script\\\":null,\\\"validation_size\\\":0.0,\\\"n_cross_validations\\\":5,\\\"y_min\\\":null,\\\"y_max\\\":null,\\\"num_classes\\\":null,\\\"featurization\\\":\\\"auto\\\",\\\"_ignore_package_version_incompatibilities\\\":false,\\\"is_timeseries\\\":false,\\\"max_cores_per_iteration\\\":1,\\\"max_concurrent_iterations\\\":5,\\\"iteration_timeout_minutes\\\":null,\\\"mem_in_mb\\\":null,\\\"enforce_time_on_windows\\\":false,\\\"experiment_timeout_minutes\\\":30,\\\"experiment_exit_score\\\":null,\\\"whitelist_models\\\":null,\\\"blacklist_algos\\\":[\\\"TensorFlowLinearClassifier\\\",\\\"TensorFlowDNN\\\"],\\\"supported_models\\\":[\\\"TensorFlowDNN\\\",\\\"BernoulliNaiveBayes\\\",\\\"RandomForest\\\",\\\"LogisticRegression\\\",\\\"GradientBoosting\\\",\\\"XGBoostClassifier\\\",\\\"MultinomialNaiveBayes\\\",\\\"LinearSVM\\\",\\\"ExtremeRandomTrees\\\",\\\"KNN\\\",\\\"LightGBM\\\",\\\"TensorFlowLinearClassifier\\\",\\\"DecisionTree\\\",\\\"SVM\\\",\\\"SGD\\\",\\\"AveragedPerceptronClassifier\\\"],\\\"auto_blacklist\\\":true,\\\"blacklist_samples_reached\\\":false,\\\"exclude_nan_labels\\\":true,\\\"verbosity\\\":20,\\\"_debug_log\\\":\\\"azureml_automl.log\\\",\\\"show_warnings\\\":false,\\\"model_explainability\\\":true,\\\"service_url\\\":null,\\\"sdk_url\\\":null,\\\"sdk_packages\\\":null,\\\"enable_onnx_compatible_models\\\":false,\\\"enable_split_onnx_featurizer_estimator_models\\\":false,\\\"vm_type\\\":\\\"STANDARD_D2_V2\\\",\\\"telemetry_verbosity\\\":20,\\\"send_telemetry\\\":true,\\\"enable_dnn\\\":false,\\\"scenario\\\":\\\"SDK-1.13.0\\\",\\\"environment_label\\\":null,\\\"force_text_dnn\\\":false,\\\"enable_feature_sweeping\\\":true,\\\"enable_early_stopping\\\":true,\\\"early_stopping_n_iters\\\":10,\\\"metrics\\\":null,\\\"enable_ensembling\\\":true,\\\"enable_stack_ensembling\\\":true,\\\"ensemble_iterations\\\":15,\\\"enable_tf\\\":false,\\\"enable_subsampling\\\":null,\\\"subsample_seed\\\":null,\\\"enable_nimbusml\\\":false,\\\"enable_streaming\\\":false,\\\"force_streaming\\\":false,\\\"track_child_runs\\\":true,\\\"allowed_private_models\\\":[],\\\"label_column_name\\\":\\\"DEATH_EVENT\\\",\\\"weight_column_name\\\":null,\\\"cv_split_column_names\\\":null,\\\"enable_local_managed\\\":false,\\\"_local_managed_run_id\\\":null,\\\"cost_mode\\\":1,\\\"lag_length\\\":0,\\\"metric_operation\\\":\\\"maximize\\\",\\\"preprocess\\\":true}\", \"DataPrepJsonString\": \"{\\\\\\\"training_data\\\\\\\": \\\\\\\"{\\\\\\\\\\\\\\\"blocks\\\\\\\\\\\\\\\": [{\\\\\\\\\\\\\\\"id\\\\\\\\\\\\\\\": \\\\\\\\\\\\\\\"35662c80-ca83-492a-893f-780d579e14b0\\\\\\\\\\\\\\\", \\\\\\\\\\\\\\\"type\\\\\\\\\\\\\\\": \\\\\\\\\\\\\\\"Microsoft.DPrep.GetDatastoreFilesBlock\\\\\\\\\\\\\\\", \\\\\\\\\\\\\\\"arguments\\\\\\\\\\\\\\\": {\\\\\\\\\\\\\\\"datastores\\\\\\\\\\\\\\\": [{\\\\\\\\\\\\\\\"datastoreName\\\\\\\\\\\\\\\": \\\\\\\\\\\\\\\"workspaceblobstore\\\\\\\\\\\\\\\", \\\\\\\\\\\\\\\"path\\\\\\\\\\\\\\\": \\\\\\\\\\\\\\\"UI/01-01-2021_091159_UTC/heart_failure_clinical_records_dataset.csv\\\\\\\\\\\\\\\", \\\\\\\\\\\\\\\"resourceGroup\\\\\\\\\\\\\\\": \\\\\\\\\\\\\\\"aml-quickstarts-132732\\\\\\\\\\\\\\\", \\\\\\\\\\\\\\\"subscription\\\\\\\\\\\\\\\": \\\\\\\\\\\\\\\"a0a76bad-11a1-4a2d-9887-97a29122c8ed\\\\\\\\\\\\\\\", \\\\\\\\\\\\\\\"workspaceName\\\\\\\\\\\\\\\": \\\\\\\\\\\\\\\"quick-starts-ws-132732\\\\\\\\\\\\\\\"}]}, \\\\\\\\\\\\\\\"localData\\\\\\\\\\\\\\\": {}, \\\\\\\\\\\\\\\"isEnabled\\\\\\\\\\\\\\\": true, \\\\\\\\\\\\\\\"name\\\\\\\\\\\\\\\": null, \\\\\\\\\\\\\\\"annotation\\\\\\\\\\\\\\\": null}, {\\\\\\\\\\\\\\\"id\\\\\\\\\\\\\\\": \\\\\\\\\\\\\\\"aaa3d342-f5f5-4224-9fdf-eefc43f044b6\\\\\\\\\\\\\\\", \\\\\\\\\\\\\\\"type\\\\\\\\\\\\\\\": \\\\\\\\\\\\\\\"Microsoft.DPrep.ParseDelimitedBlock\\\\\\\\\\\\\\\", \\\\\\\\\\\\\\\"arguments\\\\\\\\\\\\\\\": {\\\\\\\\\\\\\\\"columnHeadersMode\\\\\\\\\\\\\\\": 1, \\\\\\\\\\\\\\\"fileEncoding\\\\\\\\\\\\\\\": 0, \\\\\\\\\\\\\\\"handleQuotedLineBreaks\\\\\\\\\\\\\\\": false, \\\\\\\\\\\\\\\"preview\\\\\\\\\\\\\\\": false, \\\\\\\\\\\\\\\"separator\\\\\\\\\\\\\\\": \\\\\\\\\\\\\\\",\\\\\\\\\\\\\\\", \\\\\\\\\\\\\\\"skipRows\\\\\\\\\\\\\\\": 0, \\\\\\\\\\\\\\\"skipRowsMode\\\\\\\\\\\\\\\": 0}, \\\\\\\\\\\\\\\"localData\\\\\\\\\\\\\\\": {}, \\\\\\\\\\\\\\\"isEnabled\\\\\\\\\\\\\\\": true, \\\\\\\\\\\\\\\"name\\\\\\\\\\\\\\\": null, \\\\\\\\\\\\\\\"annotation\\\\\\\\\\\\\\\": null}, {\\\\\\\\\\\\\\\"id\\\\\\\\\\\\\\\": \\\\\\\\\\\\\\\"f54d91c2-c5cd-47c4-a8e7-4c9a57055e3a\\\\\\\\\\\\\\\", \\\\\\\\\\\\\\\"type\\\\\\\\\\\\\\\": \\\\\\\\\\\\\\\"Microsoft.DPrep.DropColumnsBlock\\\\\\\\\\\\\\\", \\\\\\\\\\\\\\\"arguments\\\\\\\\\\\\\\\": {\\\\\\\\\\\\\\\"columns\\\\\\\\\\\\\\\": {\\\\\\\\\\\\\\\"type\\\\\\\\\\\\\\\": 0, \\\\\\\\\\\\\\\"details\\\\\\\\\\\\\\\": {\\\\\\\\\\\\\\\"selectedColumns\\\\\\\\\\\\\\\": [\\\\\\\\\\\\\\\"Path\\\\\\\\\\\\\\\"]}}}, \\\\\\\\\\\\\\\"localData\\\\\\\\\\\\\\\": {}, \\\\\\\\\\\\\\\"isEnabled\\\\\\\\\\\\\\\": true, \\\\\\\\\\\\\\\"name\\\\\\\\\\\\\\\": null, \\\\\\\\\\\\\\\"annotation\\\\\\\\\\\\\\\": null}, {\\\\\\\\\\\\\\\"id\\\\\\\\\\\\\\\": \\\\\\\\\\\\\\\"840f7662-b528-4e69-8bb8-c1bba4022782\\\\\\\\\\\\\\\", \\\\\\\\\\\\\\\"type\\\\\\\\\\\\\\\": \\\\\\\\\\\\\\\"Microsoft.DPrep.SetColumnTypesBlock\\\\\\\\\\\\\\\", \\\\\\\\\\\\\\\"arguments\\\\\\\\\\\\\\\": {\\\\\\\\\\\\\\\"columnConversion\\\\\\\\\\\\\\\": [{\\\\\\\\\\\\\\\"column\\\\\\\\\\\\\\\": {\\\\\\\\\\\\\\\"type\\\\\\\\\\\\\\\": 2, \\\\\\\\\\\\\\\"details\\\\\\\\\\\\\\\": {\\\\\\\\\\\\\\\"selectedColumn\\\\\\\\\\\\\\\": \\\\\\\\\\\\\\\"Path\\\\\\\\\\\\\\\"}}, \\\\\\\\\\\\\\\"typeProperty\\\\\\\\\\\\\\\": 0}, {\\\\\\\\\\\\\\\"column\\\\\\\\\\\\\\\": {\\\\\\\\\\\\\\\"type\\\\\\\\\\\\\\\": 2, \\\\\\\\\\\\\\\"details\\\\\\\\\\\\\\\": {\\\\\\\\\\\\\\\"selectedColumn\\\\\\\\\\\\\\\": \\\\\\\\\\\\\\\"age\\\\\\\\\\\\\\\"}}, \\\\\\\\\\\\\\\"typeProperty\\\\\\\\\\\\\\\": 3}, {\\\\\\\\\\\\\\\"column\\\\\\\\\\\\\\\": {\\\\\\\\\\\\\\\"type\\\\\\\\\\\\\\\": 2, \\\\\\\\\\\\\\\"details\\\\\\\\\\\\\\\": {\\\\\\\\\\\\\\\"selectedColumn\\\\\\\\\\\\\\\": \\\\\\\\\\\\\\\"anaemia\\\\\\\\\\\\\\\"}}, \\\\\\\\\\\\\\\"typeProperty\\\\\\\\\\\\\\\": 2}, {\\\\\\\\\\\\\\\"column\\\\\\\\\\\\\\\": {\\\\\\\\\\\\\\\"type\\\\\\\\\\\\\\\": 2, \\\\\\\\\\\\\\\"details\\\\\\\\\\\\\\\": {\\\\\\\\\\\\\\\"selectedColumn\\\\\\\\\\\\\\\": \\\\\\\\\\\\\\\"creatinine_phosphokinase\\\\\\\\\\\\\\\"}}, \\\\\\\\\\\\\\\"typeProperty\\\\\\\\\\\\\\\": 2}, {\\\\\\\\\\\\\\\"column\\\\\\\\\\\\\\\": {\\\\\\\\\\\\\\\"type\\\\\\\\\\\\\\\": 2, \\\\\\\\\\\\\\\"details\\\\\\\\\\\\\\\": {\\\\\\\\\\\\\\\"selectedColumn\\\\\\\\\\\\\\\": \\\\\\\\\\\\\\\"diabetes\\\\\\\\\\\\\\\"}}, \\\\\\\\\\\\\\\"typeProperty\\\\\\\\\\\\\\\": 2}, {\\\\\\\\\\\\\\\"column\\\\\\\\\\\\\\\": {\\\\\\\\\\\\\\\"type\\\\\\\\\\\\\\\": 2, \\\\\\\\\\\\\\\"details\\\\\\\\\\\\\\\": {\\\\\\\\\\\\\\\"selectedColumn\\\\\\\\\\\\\\\": \\\\\\\\\\\\\\\"ejection_fraction\\\\\\\\\\\\\\\"}}, \\\\\\\\\\\\\\\"typeProperty\\\\\\\\\\\\\\\": 2}, {\\\\\\\\\\\\\\\"column\\\\\\\\\\\\\\\": {\\\\\\\\\\\\\\\"type\\\\\\\\\\\\\\\": 2, \\\\\\\\\\\\\\\"details\\\\\\\\\\\\\\\": {\\\\\\\\\\\\\\\"selectedColumn\\\\\\\\\\\\\\\": \\\\\\\\\\\\\\\"high_blood_pressure\\\\\\\\\\\\\\\"}}, \\\\\\\\\\\\\\\"typeProperty\\\\\\\\\\\\\\\": 2}, {\\\\\\\\\\\\\\\"column\\\\\\\\\\\\\\\": {\\\\\\\\\\\\\\\"type\\\\\\\\\\\\\\\": 2, \\\\\\\\\\\\\\\"details\\\\\\\\\\\\\\\": {\\\\\\\\\\\\\\\"selectedColumn\\\\\\\\\\\\\\\": \\\\\\\\\\\\\\\"platelets\\\\\\\\\\\\\\\"}}, \\\\\\\\\\\\\\\"typeProperty\\\\\\\\\\\\\\\": 3}, {\\\\\\\\\\\\\\\"column\\\\\\\\\\\\\\\": {\\\\\\\\\\\\\\\"type\\\\\\\\\\\\\\\": 2, \\\\\\\\\\\\\\\"details\\\\\\\\\\\\\\\": {\\\\\\\\\\\\\\\"selectedColumn\\\\\\\\\\\\\\\": \\\\\\\\\\\\\\\"serum_creatinine\\\\\\\\\\\\\\\"}}, \\\\\\\\\\\\\\\"typeProperty\\\\\\\\\\\\\\\": 3}, {\\\\\\\\\\\\\\\"column\\\\\\\\\\\\\\\": {\\\\\\\\\\\\\\\"type\\\\\\\\\\\\\\\": 2, \\\\\\\\\\\\\\\"details\\\\\\\\\\\\\\\": {\\\\\\\\\\\\\\\"selectedColumn\\\\\\\\\\\\\\\": \\\\\\\\\\\\\\\"serum_sodium\\\\\\\\\\\\\\\"}}, \\\\\\\\\\\\\\\"typeProperty\\\\\\\\\\\\\\\": 2}, {\\\\\\\\\\\\\\\"column\\\\\\\\\\\\\\\": {\\\\\\\\\\\\\\\"type\\\\\\\\\\\\\\\": 2, \\\\\\\\\\\\\\\"details\\\\\\\\\\\\\\\": {\\\\\\\\\\\\\\\"selectedColumn\\\\\\\\\\\\\\\": \\\\\\\\\\\\\\\"sex\\\\\\\\\\\\\\\"}}, \\\\\\\\\\\\\\\"typeProperty\\\\\\\\\\\\\\\": 2}, {\\\\\\\\\\\\\\\"column\\\\\\\\\\\\\\\": {\\\\\\\\\\\\\\\"type\\\\\\\\\\\\\\\": 2, \\\\\\\\\\\\\\\"details\\\\\\\\\\\\\\\": {\\\\\\\\\\\\\\\"selectedColumn\\\\\\\\\\\\\\\": \\\\\\\\\\\\\\\"smoking\\\\\\\\\\\\\\\"}}, \\\\\\\\\\\\\\\"typeProperty\\\\\\\\\\\\\\\": 2}, {\\\\\\\\\\\\\\\"column\\\\\\\\\\\\\\\": {\\\\\\\\\\\\\\\"type\\\\\\\\\\\\\\\": 2, \\\\\\\\\\\\\\\"details\\\\\\\\\\\\\\\": {\\\\\\\\\\\\\\\"selectedColumn\\\\\\\\\\\\\\\": \\\\\\\\\\\\\\\"time\\\\\\\\\\\\\\\"}}, \\\\\\\\\\\\\\\"typeProperty\\\\\\\\\\\\\\\": 2}, {\\\\\\\\\\\\\\\"column\\\\\\\\\\\\\\\": {\\\\\\\\\\\\\\\"type\\\\\\\\\\\\\\\": 2, \\\\\\\\\\\\\\\"details\\\\\\\\\\\\\\\": {\\\\\\\\\\\\\\\"selectedColumn\\\\\\\\\\\\\\\": \\\\\\\\\\\\\\\"DEATH_EVENT\\\\\\\\\\\\\\\"}}, \\\\\\\\\\\\\\\"typeProperty\\\\\\\\\\\\\\\": 2}]}, \\\\\\\\\\\\\\\"localData\\\\\\\\\\\\\\\": {}, \\\\\\\\\\\\\\\"isEnabled\\\\\\\\\\\\\\\": true, \\\\\\\\\\\\\\\"name\\\\\\\\\\\\\\\": null, \\\\\\\\\\\\\\\"annotation\\\\\\\\\\\\\\\": null}], \\\\\\\\\\\\\\\"inspectors\\\\\\\\\\\\\\\": [], \\\\\\\\\\\\\\\"meta\\\\\\\\\\\\\\\": {\\\\\\\\\\\\\\\"savedDatasetId\\\\\\\\\\\\\\\": \\\\\\\\\\\\\\\"dd6971b3-2e94-44b4-a4de-625490ca74dc\\\\\\\\\\\\\\\", \\\\\\\\\\\\\\\"datasetType\\\\\\\\\\\\\\\": \\\\\\\\\\\\\\\"tabular\\\\\\\\\\\\\\\", \\\\\\\\\\\\\\\"subscriptionId\\\\\\\\\\\\\\\": \\\\\\\\\\\\\\\"a0a76bad-11a1-4a2d-9887-97a29122c8ed\\\\\\\\\\\\\\\", \\\\\\\\\\\\\\\"workspaceId\\\\\\\\\\\\\\\": \\\\\\\\\\\\\\\"3675a786-09c2-4ceb-93ab-531b16b1a674\\\\\\\\\\\\\\\", \\\\\\\\\\\\\\\"workspaceLocation\\\\\\\\\\\\\\\": \\\\\\\\\\\\\\\"southcentralus\\\\\\\\\\\\\\\"}}\\\\\\\", \\\\\\\"activities\\\\\\\": 0}\", \"EnableSubsampling\": null, \"runTemplate\": \"AutoML\", \"azureml.runsource\": \"automl\", \"display_task_type\": \"classification\", \"dependencies_versions\": \"{\\\"azureml-widgets\\\": \\\"1.19.0\\\", \\\"azureml-train\\\": \\\"1.19.0\\\", \\\"azureml-train-restclients-hyperdrive\\\": \\\"1.19.0\\\", \\\"azureml-train-core\\\": \\\"1.19.0\\\", \\\"azureml-train-automl\\\": \\\"1.19.0\\\", \\\"azureml-train-automl-runtime\\\": \\\"1.19.0\\\", \\\"azureml-train-automl-client\\\": \\\"1.19.0\\\", \\\"azureml-tensorboard\\\": \\\"1.19.0\\\", \\\"azureml-telemetry\\\": \\\"1.19.0\\\", \\\"azureml-sdk\\\": \\\"1.19.0\\\", \\\"azureml-samples\\\": \\\"0+unknown\\\", \\\"azureml-pipeline\\\": \\\"1.19.0\\\", \\\"azureml-pipeline-steps\\\": \\\"1.19.0\\\", \\\"azureml-pipeline-core\\\": \\\"1.19.0\\\", \\\"azureml-opendatasets\\\": \\\"1.19.0\\\", \\\"azureml-model-management-sdk\\\": \\\"1.0.1b6.post1\\\", \\\"azureml-mlflow\\\": \\\"1.19.0\\\", \\\"azureml-interpret\\\": \\\"1.19.0\\\", \\\"azureml-explain-model\\\": \\\"1.19.0\\\", \\\"azureml-defaults\\\": \\\"1.19.0\\\", \\\"azureml-dataset-runtime\\\": \\\"1.19.0\\\", \\\"azureml-dataprep\\\": \\\"2.6.1\\\", \\\"azureml-dataprep-rslex\\\": \\\"1.4.0\\\", \\\"azureml-dataprep-native\\\": \\\"26.0.0\\\", \\\"azureml-datadrift\\\": \\\"1.19.0\\\", \\\"azureml-core\\\": \\\"1.19.0\\\", \\\"azureml-contrib-services\\\": \\\"1.19.0\\\", \\\"azureml-contrib-server\\\": \\\"1.19.0\\\", \\\"azureml-contrib-reinforcementlearning\\\": \\\"1.19.0\\\", \\\"azureml-contrib-pipeline-steps\\\": \\\"1.19.0\\\", \\\"azureml-contrib-notebook\\\": \\\"1.19.0\\\", \\\"azureml-contrib-interpret\\\": \\\"1.19.0\\\", \\\"azureml-contrib-gbdt\\\": \\\"1.19.0\\\", \\\"azureml-contrib-fairness\\\": \\\"1.19.0\\\", \\\"azureml-contrib-dataset\\\": \\\"1.19.0\\\", \\\"azureml-cli-common\\\": \\\"1.19.0\\\", \\\"azureml-automl-runtime\\\": \\\"1.19.0\\\", \\\"azureml-automl-core\\\": \\\"1.19.0\\\", \\\"azureml-accel-models\\\": \\\"1.19.0\\\"}\", \"_aml_system_scenario_identification\": \"Remote.Parent\", \"ClientType\": \"SDK\", \"environment_cpu_name\": \"AzureML-AutoML\", \"environment_cpu_label\": \"prod\", \"environment_gpu_name\": \"AzureML-AutoML-GPU\", \"environment_gpu_label\": \"prod\", \"root_attribution\": \"automl\", \"attribution\": \"AutoML\", \"Orchestrator\": \"AutoML\", \"CancelUri\": \"https://southcentralus.experiments.azureml.net/jasmine/v1.0/subscriptions/a0a76bad-11a1-4a2d-9887-97a29122c8ed/resourceGroups/aml-quickstarts-132732/providers/Microsoft.MachineLearningServices/workspaces/quick-starts-ws-132732/experimentids/e88c1590-5443-416b-959d-03ef2addd101/cancel/AutoML_ef15e003-9024-458d-bef1-ff584eb1739a\", \"ClientSdkVersion\": \"1.19.0\", \"snapshotId\": \"00000000-0000-0000-0000-000000000000\", \"SetupRunId\": \"AutoML_ef15e003-9024-458d-bef1-ff584eb1739a_setup\", \"SetupRunContainerId\": \"dcid.AutoML_ef15e003-9024-458d-bef1-ff584eb1739a_setup\", \"FeaturizationRunJsonPath\": \"featurizer_container.json\", \"FeaturizationRunId\": \"AutoML_ef15e003-9024-458d-bef1-ff584eb1739a_featurize\", \"ProblemInfoJsonString\": \"{\\\"dataset_num_categorical\\\": 0, \\\"is_sparse\\\": false, \\\"subsampling\\\": false, \\\"dataset_classes\\\": 2, \\\"dataset_features\\\": 12, \\\"dataset_samples\\\": 299, \\\"single_frequency_class_detected\\\": false}\", \"ModelExplainRunId\": \"AutoML_ef15e003-9024-458d-bef1-ff584eb1739a_ModelExplain\"}, \"tags\": {\"model_explain_run\": \"best_run\", \"_aml_system_azureml.automlComponent\": \"AutoML\", \"pipeline_id\": \"\", \"score\": \"\", \"predicted_cost\": \"\", \"fit_time\": \"\", \"training_percent\": \"\", \"iteration\": \"\", \"run_preprocessor\": \"\", \"run_algorithm\": \"\", \"dynamic_whitelisting_iterations\": \"<25>;<29>;<35>;<40>;<45>;<50>;\", \"automl_best_child_run_id\": \"AutoML_ef15e003-9024-458d-bef1-ff584eb1739a_52\", \"model_explain_best_run_child_id\": \"AutoML_ef15e003-9024-458d-bef1-ff584eb1739a_52\"}, \"end_time_utc\": \"2021-01-01T09:43:15.631352Z\", \"status\": \"Completed\", \"log_files\": {}, \"log_groups\": [], \"run_duration\": \"0:24:21\"}, \"child_runs\": [{\"run_id\": \"AutoML_ef15e003-9024-458d-bef1-ff584eb1739a_0\", \"run_number\": 5, \"metric\": null, \"status\": \"Completed\", \"run_type\": \"azureml.scriptrun\", \"training_percent\": \"100\", \"start_time\": \"2021-01-01T09:26:20.843876Z\", \"end_time\": \"2021-01-01T09:27:02.691563Z\", \"created_time\": \"2021-01-01T09:26:10.643733Z\", \"created_time_dt\": \"2021-01-01T09:26:10.643733Z\", \"duration\": \"0:00:52\", \"iteration\": \"0\", \"goal\": \"AUC_weighted_max\", \"run_name\": \"MaxAbsScaler, LightGBM\", \"run_properties\": \"copy=True\", \"primary_metric\": 0.88113312, \"best_metric\": 0.88113312}, {\"run_id\": \"AutoML_ef15e003-9024-458d-bef1-ff584eb1739a_4\", \"run_number\": 6, \"metric\": null, \"status\": \"Completed\", \"run_type\": \"azureml.scriptrun\", \"training_percent\": \"100\", \"start_time\": \"2021-01-01T09:27:05.805357Z\", \"end_time\": \"2021-01-01T09:27:50.198252Z\", \"created_time\": \"2021-01-01T09:26:10.757398Z\", \"created_time_dt\": \"2021-01-01T09:26:10.757398Z\", \"duration\": \"0:01:39\", \"iteration\": \"4\", \"goal\": \"AUC_weighted_max\", \"run_name\": \"MinMaxScaler, RandomForest\", \"run_properties\": \"copy=True, feature_range=(0, 1\", \"primary_metric\": 0.90423293, \"best_metric\": 0.90468344}, {\"run_id\": \"AutoML_ef15e003-9024-458d-bef1-ff584eb1739a_3\", \"run_number\": 7, \"metric\": null, \"status\": \"Completed\", \"run_type\": \"azureml.scriptrun\", \"training_percent\": \"100\", \"start_time\": \"2021-01-01T09:27:55.249071Z\", \"end_time\": \"2021-01-01T09:28:38.250737Z\", \"created_time\": \"2021-01-01T09:26:10.776684Z\", \"created_time_dt\": \"2021-01-01T09:26:10.776684Z\", \"duration\": \"0:02:27\", \"iteration\": \"3\", \"goal\": \"AUC_weighted_max\", \"run_name\": \"RobustScaler, ExtremeRandomTrees\", \"run_properties\": \"copy=True, quantile_range=[10, 90], with_centering=False,\\n             with_scaling=False\", \"primary_metric\": 0.88394574, \"best_metric\": 0.90468344}, {\"run_id\": \"AutoML_ef15e003-9024-458d-bef1-ff584eb1739a_2\", \"run_number\": 8, \"metric\": null, \"status\": \"Completed\", \"run_type\": \"azureml.scriptrun\", \"training_percent\": \"100\", \"start_time\": \"2021-01-01T09:28:43.569038Z\", \"end_time\": \"2021-01-01T09:29:25.366657Z\", \"created_time\": \"2021-01-01T09:26:10.758183Z\", \"created_time_dt\": \"2021-01-01T09:26:10.758183Z\", \"duration\": \"0:03:14\", \"iteration\": \"2\", \"goal\": \"AUC_weighted_max\", \"run_name\": \"MinMaxScaler, RandomForest\", \"run_properties\": \"copy=True, feature_range=(0, 1\", \"primary_metric\": 0.90468344, \"best_metric\": 0.90468344}, {\"run_id\": \"AutoML_ef15e003-9024-458d-bef1-ff584eb1739a_1\", \"run_number\": 9, \"metric\": null, \"status\": \"Completed\", \"run_type\": \"azureml.scriptrun\", \"training_percent\": \"100\", \"start_time\": \"2021-01-01T09:29:27.036435Z\", \"end_time\": \"2021-01-01T09:30:09.853119Z\", \"created_time\": \"2021-01-01T09:26:10.782613Z\", \"created_time_dt\": \"2021-01-01T09:26:10.782613Z\", \"duration\": \"0:03:59\", \"iteration\": \"1\", \"goal\": \"AUC_weighted_max\", \"run_name\": \"MaxAbsScaler, XGBoostClassifier\", \"run_properties\": \"copy=True\", \"primary_metric\": 0.89295912, \"best_metric\": 0.89295912}, {\"run_id\": \"AutoML_ef15e003-9024-458d-bef1-ff584eb1739a_5\", \"run_number\": 10, \"metric\": null, \"status\": \"Completed\", \"run_type\": \"azureml.scriptrun\", \"training_percent\": \"100\", \"start_time\": \"2021-01-01T09:29:46.023439Z\", \"end_time\": \"2021-01-01T09:33:06.634969Z\", \"created_time\": \"2021-01-01T09:27:05.090156Z\", \"created_time_dt\": \"2021-01-01T09:27:05.090156Z\", \"duration\": \"0:06:01\", \"iteration\": \"5\", \"goal\": \"AUC_weighted_max\", \"run_name\": \"MinMaxScaler, RandomForest\", \"run_properties\": \"copy=True, feature_range=(0, 1\", \"primary_metric\": 0.89272665, \"best_metric\": 0.90468344}, {\"run_id\": \"AutoML_ef15e003-9024-458d-bef1-ff584eb1739a_6\", \"run_number\": 11, \"metric\": null, \"status\": \"Completed\", \"run_type\": \"azureml.scriptrun\", \"training_percent\": \"100\", \"start_time\": \"2021-01-01T09:29:48.040917Z\", \"end_time\": \"2021-01-01T09:33:08.873711Z\", \"created_time\": \"2021-01-01T09:27:53.582224Z\", \"created_time_dt\": \"2021-01-01T09:27:53.582224Z\", \"duration\": \"0:05:15\", \"iteration\": \"6\", \"goal\": \"AUC_weighted_max\", \"run_name\": \"StandardScalerWrapper, RandomForest\", \"run_properties\": \"<azureml.automl.runtime.shared.model_wrappers.StandardScalerWrapper object at 0x7fc1e9533278\", \"primary_metric\": 0.89676812, \"best_metric\": 0.90468344}, {\"run_id\": \"AutoML_ef15e003-9024-458d-bef1-ff584eb1739a_7\", \"run_number\": 12, \"metric\": null, \"status\": \"Completed\", \"run_type\": \"azureml.scriptrun\", \"training_percent\": \"100\", \"start_time\": \"2021-01-01T09:29:46.604526Z\", \"end_time\": \"2021-01-01T09:33:06.562364Z\", \"created_time\": \"2021-01-01T09:28:41.632913Z\", \"created_time_dt\": \"2021-01-01T09:28:41.632913Z\", \"duration\": \"0:04:24\", \"iteration\": \"7\", \"goal\": \"AUC_weighted_max\", \"run_name\": \"MinMaxScaler, ExtremeRandomTrees\", \"run_properties\": \"copy=True, feature_range=(0, 1\", \"primary_metric\": 0.89471537, \"best_metric\": 0.90468344}, {\"run_id\": \"AutoML_ef15e003-9024-458d-bef1-ff584eb1739a_8\", \"run_number\": 13, \"metric\": null, \"status\": \"Completed\", \"run_type\": \"azureml.scriptrun\", \"training_percent\": \"100\", \"start_time\": \"2021-01-01T09:30:13.649871Z\", \"end_time\": \"2021-01-01T09:30:55.46835Z\", \"created_time\": \"2021-01-01T09:29:28.950945Z\", \"created_time_dt\": \"2021-01-01T09:29:28.950945Z\", \"duration\": \"0:01:26\", \"iteration\": \"8\", \"goal\": \"AUC_weighted_max\", \"run_name\": \"MinMaxScaler, ExtremeRandomTrees\", \"run_properties\": \"copy=True, feature_range=(0, 1\", \"primary_metric\": 0.85944135, \"best_metric\": 0.90468344}, {\"run_id\": \"AutoML_ef15e003-9024-458d-bef1-ff584eb1739a_9\", \"run_number\": 14, \"metric\": null, \"status\": \"Completed\", \"run_type\": \"azureml.scriptrun\", \"training_percent\": \"100\", \"start_time\": \"2021-01-01T09:30:57.331677Z\", \"end_time\": \"2021-01-01T09:31:45.867217Z\", \"created_time\": \"2021-01-01T09:30:13.241771Z\", \"created_time_dt\": \"2021-01-01T09:30:13.241771Z\", \"duration\": \"0:01:32\", \"iteration\": \"9\", \"goal\": \"AUC_weighted_max\", \"run_name\": \"SparseNormalizer, KNN\", \"run_properties\": \"<azureml.automl.runtime.shared.model_wrappers.SparseNormalizer object at 0x7f2728457390\", \"primary_metric\": 0.75147268, \"best_metric\": 0.90468344}, {\"run_id\": \"AutoML_ef15e003-9024-458d-bef1-ff584eb1739a_10\", \"run_number\": 15, \"metric\": null, \"status\": \"Completed\", \"run_type\": \"azureml.scriptrun\", \"training_percent\": \"100\", \"start_time\": \"2021-01-01T09:31:48.386638Z\", \"end_time\": \"2021-01-01T09:32:39.260672Z\", \"created_time\": \"2021-01-01T09:30:58.797053Z\", \"created_time_dt\": \"2021-01-01T09:30:58.797053Z\", \"duration\": \"0:01:40\", \"iteration\": \"10\", \"goal\": \"AUC_weighted_max\", \"run_name\": \"MinMaxScaler, ExtremeRandomTrees\", \"run_properties\": \"copy=True, feature_range=(0, 1\", \"primary_metric\": 0.89089897, \"best_metric\": 0.90468344}, {\"run_id\": \"AutoML_ef15e003-9024-458d-bef1-ff584eb1739a_11\", \"run_number\": 16, \"metric\": null, \"status\": \"Completed\", \"run_type\": \"azureml.scriptrun\", \"training_percent\": \"100\", \"start_time\": \"2021-01-01T09:32:41.601674Z\", \"end_time\": \"2021-01-01T09:33:29.251608Z\", \"created_time\": \"2021-01-01T09:31:49.333586Z\", \"created_time_dt\": \"2021-01-01T09:31:49.333586Z\", \"duration\": \"0:01:39\", \"iteration\": \"11\", \"goal\": \"AUC_weighted_max\", \"run_name\": \"RobustScaler, ExtremeRandomTrees\", \"run_properties\": \"copy=True, quantile_range=[10, 90], with_centering=True,\\n             with_scaling=False\", \"primary_metric\": 0.892195, \"best_metric\": 0.90468344}, {\"run_id\": \"AutoML_ef15e003-9024-458d-bef1-ff584eb1739a_12\", \"run_number\": 17, \"metric\": null, \"status\": \"Completed\", \"run_type\": \"azureml.scriptrun\", \"training_percent\": \"100\", \"start_time\": \"2021-01-01T09:33:08.940629Z\", \"end_time\": \"2021-01-01T09:33:53.184744Z\", \"created_time\": \"2021-01-01T09:32:42.938663Z\", \"created_time_dt\": \"2021-01-01T09:32:42.938663Z\", \"duration\": \"0:01:10\", \"iteration\": \"12\", \"goal\": \"AUC_weighted_max\", \"run_name\": \"StandardScalerWrapper, RandomForest\", \"run_properties\": \"<azureml.automl.runtime.shared.model_wrappers.StandardScalerWrapper object at 0x7fad9aab00b8\", \"primary_metric\": 0.91084134, \"best_metric\": 0.91084134}, {\"run_id\": \"AutoML_ef15e003-9024-458d-bef1-ff584eb1739a_14\", \"run_number\": 18, \"metric\": null, \"status\": \"Completed\", \"run_type\": \"azureml.scriptrun\", \"training_percent\": \"100\", \"start_time\": \"2021-01-01T09:33:23.302723Z\", \"end_time\": \"2021-01-01T09:34:09.074354Z\", \"created_time\": \"2021-01-01T09:33:11.078076Z\", \"created_time_dt\": \"2021-01-01T09:33:11.078076Z\", \"duration\": \"0:00:57\", \"iteration\": \"14\", \"goal\": \"AUC_weighted_max\", \"run_name\": \"RobustScaler, RandomForest\", \"run_properties\": \"copy=True, quantile_range=[10, 90], with_centering=True,\\n             with_scaling=False\", \"primary_metric\": 0.87319211, \"best_metric\": 0.91084134}, {\"run_id\": \"AutoML_ef15e003-9024-458d-bef1-ff584eb1739a_13\", \"run_number\": 19, \"metric\": null, \"status\": \"Completed\", \"run_type\": \"azureml.scriptrun\", \"training_percent\": \"100\", \"start_time\": \"2021-01-01T09:33:23.786603Z\", \"end_time\": \"2021-01-01T09:34:05.666972Z\", \"created_time\": \"2021-01-01T09:33:11.065988Z\", \"created_time_dt\": \"2021-01-01T09:33:11.065988Z\", \"duration\": \"0:00:54\", \"iteration\": \"13\", \"goal\": \"AUC_weighted_max\", \"run_name\": \"StandardScalerWrapper, SGD\", \"run_properties\": \"<azureml.automl.runtime.shared.model_wrappers.StandardScalerWrapper object at 0x7f09c008ad68\", \"primary_metric\": 0.87045381, \"best_metric\": 0.91084134}, {\"run_id\": \"AutoML_ef15e003-9024-458d-bef1-ff584eb1739a_15\", \"run_number\": 20, \"metric\": null, \"status\": \"Completed\", \"run_type\": \"azureml.scriptrun\", \"training_percent\": \"100\", \"start_time\": \"2021-01-01T09:33:30.856385Z\", \"end_time\": \"2021-01-01T09:34:13.866048Z\", \"created_time\": \"2021-01-01T09:33:18.373349Z\", \"created_time_dt\": \"2021-01-01T09:33:18.373349Z\", \"duration\": \"0:00:55\", \"iteration\": \"15\", \"goal\": \"AUC_weighted_max\", \"run_name\": \"StandardScalerWrapper, KNN\", \"run_properties\": \"<azureml.automl.runtime.shared.model_wrappers.StandardScalerWrapper object at 0x7f72948ba7f0\", \"primary_metric\": 0.48227656, \"best_metric\": 0.91084134}, {\"run_id\": \"AutoML_ef15e003-9024-458d-bef1-ff584eb1739a_16\", \"run_number\": 21, \"metric\": null, \"status\": \"Completed\", \"run_type\": \"azureml.scriptrun\", \"training_percent\": \"100\", \"start_time\": \"2021-01-01T09:33:56.63778Z\", \"end_time\": \"2021-01-01T09:34:46.04277Z\", \"created_time\": \"2021-01-01T09:33:33.269198Z\", \"created_time_dt\": \"2021-01-01T09:33:33.269198Z\", \"duration\": \"0:01:12\", \"iteration\": \"16\", \"goal\": \"AUC_weighted_max\", \"run_name\": \"MinMaxScaler, RandomForest\", \"run_properties\": \"copy=True, feature_range=(0, 1\", \"primary_metric\": 0.89734704, \"best_metric\": 0.91084134}, {\"run_id\": \"AutoML_ef15e003-9024-458d-bef1-ff584eb1739a_17\", \"run_number\": 22, \"metric\": null, \"status\": \"Completed\", \"run_type\": \"azureml.scriptrun\", \"training_percent\": \"100\", \"start_time\": \"2021-01-01T09:34:11.007264Z\", \"end_time\": \"2021-01-01T09:34:53.530829Z\", \"created_time\": \"2021-01-01T09:33:57.399476Z\", \"created_time_dt\": \"2021-01-01T09:33:57.399476Z\", \"duration\": \"0:00:56\", \"iteration\": \"17\", \"goal\": \"AUC_weighted_max\", \"run_name\": \"MinMaxScaler, ExtremeRandomTrees\", \"run_properties\": \"copy=True, feature_range=(0, 1\", \"primary_metric\": 0.83771076, \"best_metric\": 0.91084134}, {\"run_id\": \"AutoML_ef15e003-9024-458d-bef1-ff584eb1739a_18\", \"run_number\": 23, \"metric\": null, \"status\": \"Completed\", \"run_type\": \"azureml.scriptrun\", \"training_percent\": \"100\", \"start_time\": \"2021-01-01T09:34:21.114817Z\", \"end_time\": \"2021-01-01T09:35:08.661756Z\", \"created_time\": \"2021-01-01T09:34:09.752558Z\", \"created_time_dt\": \"2021-01-01T09:34:09.752558Z\", \"duration\": \"0:00:58\", \"iteration\": \"18\", \"goal\": \"AUC_weighted_max\", \"run_name\": \"MaxAbsScaler, RandomForest\", \"run_properties\": \"copy=True\", \"primary_metric\": 0.89879185, \"best_metric\": 0.91084134}, {\"run_id\": \"AutoML_ef15e003-9024-458d-bef1-ff584eb1739a_19\", \"run_number\": 24, \"metric\": null, \"status\": \"Completed\", \"run_type\": \"azureml.scriptrun\", \"training_percent\": \"100\", \"start_time\": \"2021-01-01T09:34:27.459681Z\", \"end_time\": \"2021-01-01T09:35:06.560277Z\", \"created_time\": \"2021-01-01T09:34:16.487828Z\", \"created_time_dt\": \"2021-01-01T09:34:16.487828Z\", \"duration\": \"0:00:50\", \"iteration\": \"19\", \"goal\": \"AUC_weighted_max\", \"run_name\": \"StandardScalerWrapper, XGBoostClassifier\", \"run_properties\": \"<azureml.automl.runtime.shared.model_wrappers.StandardScalerWrapper object at 0x7fa3b2852b38\", \"primary_metric\": 0.90716837, \"best_metric\": 0.91084134}, {\"run_id\": \"AutoML_ef15e003-9024-458d-bef1-ff584eb1739a_20\", \"run_number\": 25, \"metric\": null, \"status\": \"Completed\", \"run_type\": \"azureml.scriptrun\", \"training_percent\": \"100\", \"start_time\": \"2021-01-01T09:34:48.785506Z\", \"end_time\": \"2021-01-01T09:35:35.695599Z\", \"created_time\": \"2021-01-01T09:34:22.776212Z\", \"created_time_dt\": \"2021-01-01T09:34:22.776212Z\", \"duration\": \"0:01:12\", \"iteration\": \"20\", \"goal\": \"AUC_weighted_max\", \"run_name\": \"MaxAbsScaler, RandomForest\", \"run_properties\": \"copy=True\", \"primary_metric\": 0.89632909, \"best_metric\": 0.91084134}, {\"run_id\": \"AutoML_ef15e003-9024-458d-bef1-ff584eb1739a_21\", \"run_number\": 26, \"metric\": null, \"status\": \"Completed\", \"run_type\": \"azureml.scriptrun\", \"training_percent\": \"100\", \"start_time\": \"2021-01-01T09:35:01.097061Z\", \"end_time\": \"2021-01-01T09:35:40.241128Z\", \"created_time\": \"2021-01-01T09:34:50.362514Z\", \"created_time_dt\": \"2021-01-01T09:34:50.362514Z\", \"duration\": \"0:00:49\", \"iteration\": \"21\", \"goal\": \"AUC_weighted_max\", \"run_name\": \"MaxAbsScaler, ExtremeRandomTrees\", \"run_properties\": \"copy=True\", \"primary_metric\": 0.87004155, \"best_metric\": 0.91084134}, {\"run_id\": \"AutoML_ef15e003-9024-458d-bef1-ff584eb1739a_22\", \"run_number\": 27, \"metric\": null, \"status\": \"Completed\", \"run_type\": \"azureml.scriptrun\", \"training_percent\": \"100\", \"start_time\": \"2021-01-01T09:35:10.367262Z\", \"end_time\": \"2021-01-01T09:35:56.278524Z\", \"created_time\": \"2021-01-01T09:34:57.601932Z\", \"created_time_dt\": \"2021-01-01T09:34:57.601932Z\", \"duration\": \"0:00:58\", \"iteration\": \"22\", \"goal\": \"AUC_weighted_max\", \"run_name\": \"MaxAbsScaler, ExtremeRandomTrees\", \"run_properties\": \"copy=True\", \"primary_metric\": 0.85475927, \"best_metric\": 0.91084134}, {\"run_id\": \"AutoML_ef15e003-9024-458d-bef1-ff584eb1739a_23\", \"run_number\": 28, \"metric\": null, \"status\": \"Completed\", \"run_type\": \"azureml.scriptrun\", \"training_percent\": \"100\", \"start_time\": \"2021-01-01T09:35:23.433369Z\", \"end_time\": \"2021-01-01T09:36:06.315331Z\", \"created_time\": \"2021-01-01T09:35:10.506564Z\", \"created_time_dt\": \"2021-01-01T09:35:10.506564Z\", \"duration\": \"0:00:55\", \"iteration\": \"23\", \"goal\": \"AUC_weighted_max\", \"run_name\": \"MaxAbsScaler, LightGBM\", \"run_properties\": \"copy=True\", \"primary_metric\": 0.89600794, \"best_metric\": 0.91084134}, {\"run_id\": \"AutoML_ef15e003-9024-458d-bef1-ff584eb1739a_24\", \"run_number\": 29, \"metric\": null, \"status\": \"Completed\", \"run_type\": \"azureml.scriptrun\", \"training_percent\": \"100\", \"start_time\": \"2021-01-01T09:35:36.639167Z\", \"end_time\": \"2021-01-01T09:36:27.22708Z\", \"created_time\": \"2021-01-01T09:35:16.418624Z\", \"created_time_dt\": \"2021-01-01T09:35:16.418624Z\", \"duration\": \"0:01:10\", \"iteration\": \"24\", \"goal\": \"AUC_weighted_max\", \"run_name\": \"MinMaxScaler, ExtremeRandomTrees\", \"run_properties\": \"copy=True, feature_range=(0, 1\", \"primary_metric\": 0.89970646, \"best_metric\": 0.91084134}, {\"run_id\": \"AutoML_ef15e003-9024-458d-bef1-ff584eb1739a_25\", \"run_number\": 30, \"metric\": null, \"status\": \"Completed\", \"run_type\": \"azureml.scriptrun\", \"training_percent\": \"100\", \"start_time\": \"2021-01-01T09:35:50.619122Z\", \"end_time\": \"2021-01-01T09:36:26.887519Z\", \"created_time\": \"2021-01-01T09:35:40.402027Z\", \"created_time_dt\": \"2021-01-01T09:35:40.402027Z\", \"duration\": \"0:00:46\", \"iteration\": \"25\", \"goal\": \"AUC_weighted_max\", \"run_name\": \"MinMaxScaler, RandomForest\", \"run_properties\": \"copy=True, feature_range=(0, 1\", \"primary_metric\": 0.89830613, \"best_metric\": 0.91084134}, {\"run_id\": \"AutoML_ef15e003-9024-458d-bef1-ff584eb1739a_26\", \"run_number\": 31, \"metric\": null, \"status\": \"Completed\", \"run_type\": \"azureml.scriptrun\", \"training_percent\": \"100\", \"start_time\": \"2021-01-01T09:36:00.110603Z\", \"end_time\": \"2021-01-01T09:36:46.22538Z\", \"created_time\": \"2021-01-01T09:35:44.103062Z\", \"created_time_dt\": \"2021-01-01T09:35:44.103062Z\", \"duration\": \"0:01:02\", \"iteration\": \"26\", \"goal\": \"AUC_weighted_max\", \"run_name\": \"MaxAbsScaler, ExtremeRandomTrees\", \"run_properties\": \"copy=True\", \"primary_metric\": 0.90229204, \"best_metric\": 0.91084134}, {\"run_id\": \"AutoML_ef15e003-9024-458d-bef1-ff584eb1739a_27\", \"run_number\": 32, \"metric\": null, \"status\": \"Completed\", \"run_type\": \"azureml.scriptrun\", \"training_percent\": \"100\", \"start_time\": \"2021-01-01T09:36:09.330374Z\", \"end_time\": \"2021-01-01T09:36:54.028499Z\", \"created_time\": \"2021-01-01T09:35:58.573677Z\", \"created_time_dt\": \"2021-01-01T09:35:58.573677Z\", \"duration\": \"0:00:55\", \"iteration\": \"27\", \"goal\": \"AUC_weighted_max\", \"run_name\": \"StandardScalerWrapper, LightGBM\", \"run_properties\": \"<azureml.automl.runtime.shared.model_wrappers.StandardScalerWrapper object at 0x7f1b7808f278\", \"primary_metric\": 0.83613861, \"best_metric\": 0.91084134}, {\"run_id\": \"AutoML_ef15e003-9024-458d-bef1-ff584eb1739a_28\", \"run_number\": 33, \"metric\": null, \"status\": \"Completed\", \"run_type\": \"azureml.scriptrun\", \"training_percent\": \"100\", \"start_time\": \"2021-01-01T09:36:28.764331Z\", \"end_time\": \"2021-01-01T09:37:16.329518Z\", \"created_time\": \"2021-01-01T09:36:08.581798Z\", \"created_time_dt\": \"2021-01-01T09:36:08.581798Z\", \"duration\": \"0:01:07\", \"iteration\": \"28\", \"goal\": \"AUC_weighted_max\", \"run_name\": \"MaxAbsScaler, RandomForest\", \"run_properties\": \"copy=True\", \"primary_metric\": 0.90833456, \"best_metric\": 0.91084134}, {\"run_id\": \"AutoML_ef15e003-9024-458d-bef1-ff584eb1739a_29\", \"run_number\": 34, \"metric\": null, \"status\": \"Completed\", \"run_type\": \"azureml.scriptrun\", \"training_percent\": \"100\", \"start_time\": \"2021-01-01T09:36:50.974406Z\", \"end_time\": \"2021-01-01T09:37:32.974803Z\", \"created_time\": \"2021-01-01T09:36:30.233138Z\", \"created_time_dt\": \"2021-01-01T09:36:30.233138Z\", \"duration\": \"0:01:02\", \"iteration\": \"29\", \"goal\": \"AUC_weighted_max\", \"run_name\": \"MaxAbsScaler, RandomForest\", \"run_properties\": \"copy=True\", \"primary_metric\": 0.86326159, \"best_metric\": 0.91084134}, {\"run_id\": \"AutoML_ef15e003-9024-458d-bef1-ff584eb1739a_30\", \"run_number\": 35, \"metric\": null, \"status\": \"Completed\", \"run_type\": \"azureml.scriptrun\", \"training_percent\": \"100\", \"start_time\": \"2021-01-01T09:36:43.337143Z\", \"end_time\": \"2021-01-01T09:37:17.79691Z\", \"created_time\": \"2021-01-01T09:36:30.372324Z\", \"created_time_dt\": \"2021-01-01T09:36:30.372324Z\", \"duration\": \"0:00:47\", \"iteration\": \"30\", \"goal\": \"AUC_weighted_max\", \"run_name\": \"RobustScaler, LightGBM\", \"run_properties\": \"copy=True, quantile_range=[10, 90], with_centering=True,\\n             with_scaling=True\", \"primary_metric\": 0.89164569, \"best_metric\": 0.91084134}, {\"run_id\": \"AutoML_ef15e003-9024-458d-bef1-ff584eb1739a_31\", \"run_number\": 36, \"metric\": null, \"status\": \"Completed\", \"run_type\": \"azureml.scriptrun\", \"training_percent\": \"100\", \"start_time\": \"2021-01-01T09:37:02.345531Z\", \"end_time\": \"2021-01-01T09:37:45.128602Z\", \"created_time\": \"2021-01-01T09:36:49.965891Z\", \"created_time_dt\": \"2021-01-01T09:36:49.965891Z\", \"duration\": \"0:00:55\", \"iteration\": \"31\", \"goal\": \"AUC_weighted_max\", \"run_name\": \"MinMaxScaler, RandomForest\", \"run_properties\": \"copy=True, feature_range=(0, 1\", \"primary_metric\": 0.9094166, \"best_metric\": 0.91084134}, {\"run_id\": \"AutoML_ef15e003-9024-458d-bef1-ff584eb1739a_32\", \"run_number\": 37, \"metric\": null, \"status\": \"Completed\", \"run_type\": \"azureml.scriptrun\", \"training_percent\": \"100\", \"start_time\": \"2021-01-01T09:37:19.461365Z\", \"end_time\": \"2021-01-01T09:38:02.402981Z\", \"created_time\": \"2021-01-01T09:36:56.312664Z\", \"created_time_dt\": \"2021-01-01T09:36:56.312664Z\", \"duration\": \"0:01:06\", \"iteration\": \"32\", \"goal\": \"AUC_weighted_max\", \"run_name\": \"StandardScalerWrapper, XGBoostClassifier\", \"run_properties\": \"<azureml.automl.runtime.shared.model_wrappers.StandardScalerWrapper object at 0x7f036330ae80\", \"primary_metric\": 0.90729157, \"best_metric\": 0.91084134}, {\"run_id\": \"AutoML_ef15e003-9024-458d-bef1-ff584eb1739a_33\", \"run_number\": 38, \"metric\": null, \"status\": \"Canceled\", \"run_type\": \"azureml.scriptrun\", \"training_percent\": \"100\", \"start_time\": \"2021-01-01T09:37:37.953331Z\", \"end_time\": \"2021-01-01T09:38:21.771032Z\", \"created_time\": \"2021-01-01T09:37:19.73432Z\", \"created_time_dt\": \"2021-01-01T09:37:19.73432Z\", \"duration\": \"0:01:02\", \"iteration\": \"33\", \"goal\": \"AUC_weighted_max\", \"run_name\": \"RobustScaler, RandomForest\", \"run_properties\": \"copy=True, quantile_range=[25, 75], with_centering=True,\\n             with_scaling=False\", \"primary_metric\": 0.91507662, \"best_metric\": 0.91507662}, {\"run_id\": \"AutoML_ef15e003-9024-458d-bef1-ff584eb1739a_34\", \"run_number\": 39, \"metric\": null, \"status\": \"Completed\", \"run_type\": \"azureml.scriptrun\", \"training_percent\": \"100\", \"start_time\": \"2021-01-01T09:37:31.708337Z\", \"end_time\": \"2021-01-01T09:38:14.416844Z\", \"created_time\": \"2021-01-01T09:37:19.746687Z\", \"created_time_dt\": \"2021-01-01T09:37:19.746687Z\", \"duration\": \"0:00:54\", \"iteration\": \"34\", \"goal\": \"AUC_weighted_max\", \"run_name\": \"RobustScaler, LightGBM\", \"run_properties\": \"copy=True, quantile_range=[25, 75], with_centering=False,\\n             with_scaling=True\", \"primary_metric\": 0.90398219, \"best_metric\": 0.91507662}, {\"run_id\": \"AutoML_ef15e003-9024-458d-bef1-ff584eb1739a_35\", \"run_number\": 40, \"metric\": null, \"status\": \"Canceled\", \"run_type\": \"azureml.scriptrun\", \"training_percent\": \"100\", \"start_time\": \"2021-01-01T09:37:49.216321Z\", \"end_time\": \"2021-01-01T09:38:23.7067Z\", \"created_time\": \"2021-01-01T09:37:36.06481Z\", \"created_time_dt\": \"2021-01-01T09:37:36.06481Z\", \"duration\": \"0:00:47\", \"iteration\": \"35\", \"goal\": \"AUC_weighted_max\", \"run_name\": \"TruncatedSVDWrapper, RandomForest\", \"run_properties\": \"n_components=0.3068421052631579, random_state=None\", \"primary_metric\": 0.74824734, \"best_metric\": 0.91507662}, {\"run_id\": \"AutoML_ef15e003-9024-458d-bef1-ff584eb1739a_36\", \"run_number\": 41, \"metric\": null, \"status\": \"Canceled\", \"run_type\": \"azureml.scriptrun\", \"training_percent\": \"100\", \"start_time\": \"2021-01-01T09:38:03.922398Z\", \"end_time\": \"2021-01-01T09:38:24.624299Z\", \"created_time\": \"2021-01-01T09:37:47.453599Z\", \"created_time_dt\": \"2021-01-01T09:37:47.453599Z\", \"duration\": \"0:00:37\", \"iteration\": \"36\", \"goal\": null, \"run_name\": \"Canceled\", \"run_properties\": null}, {\"run_id\": \"AutoML_ef15e003-9024-458d-bef1-ff584eb1739a_37\", \"run_number\": 42, \"metric\": null, \"status\": \"Canceled\", \"run_type\": \"azureml.scriptrun\", \"training_percent\": \"100\", \"start_time\": \"2021-01-01T09:38:05.340172Z\", \"end_time\": \"2021-01-01T09:38:22.950358Z\", \"created_time\": \"2021-01-01T09:38:05.340172Z\", \"created_time_dt\": \"2021-01-01T09:38:05.340172Z\", \"duration\": \"0:00:17\", \"iteration\": \"37\", \"goal\": null, \"run_name\": \"Canceled\", \"run_properties\": null}, {\"run_id\": \"AutoML_ef15e003-9024-458d-bef1-ff584eb1739a_38\", \"run_number\": 43, \"metric\": null, \"status\": \"Completed\", \"run_type\": \"azureml.scriptrun\", \"training_percent\": \"100\", \"start_time\": \"2021-01-01T09:38:36.655266Z\", \"end_time\": \"2021-01-01T09:39:16.621729Z\", \"created_time\": \"2021-01-01T09:38:24.071285Z\", \"created_time_dt\": \"2021-01-01T09:38:24.071285Z\", \"duration\": \"0:00:52\", \"iteration\": \"38\", \"goal\": \"AUC_weighted_max\", \"run_name\": \"StandardScalerWrapper, XGBoostClassifier\", \"run_properties\": \"<azureml.automl.runtime.shared.model_wrappers.StandardScalerWrapper object at 0x7feb49b5f208\", \"primary_metric\": 0.90085897, \"best_metric\": 0.91507662}, {\"run_id\": \"AutoML_ef15e003-9024-458d-bef1-ff584eb1739a_39\", \"run_number\": 44, \"metric\": null, \"status\": \"Completed\", \"run_type\": \"azureml.scriptrun\", \"training_percent\": \"100\", \"start_time\": \"2021-01-01T09:38:34.254095Z\", \"end_time\": \"2021-01-01T09:39:16.098904Z\", \"created_time\": \"2021-01-01T09:38:24.105559Z\", \"created_time_dt\": \"2021-01-01T09:38:24.105559Z\", \"duration\": \"0:00:51\", \"iteration\": \"39\", \"goal\": \"AUC_weighted_max\", \"run_name\": \"StandardScalerWrapper, LogisticRegression\", \"run_properties\": \"<azureml.automl.runtime.shared.model_wrappers.StandardScalerWrapper object at 0x7efe2a8c1940\", \"primary_metric\": 0.87019285, \"best_metric\": 0.91507662}, {\"run_id\": \"AutoML_ef15e003-9024-458d-bef1-ff584eb1739a_41\", \"run_number\": 45, \"metric\": null, \"status\": \"Completed\", \"run_type\": \"azureml.scriptrun\", \"training_percent\": \"100\", \"start_time\": \"2021-01-01T09:39:19.302403Z\", \"end_time\": \"2021-01-01T09:40:02.076465Z\", \"created_time\": \"2021-01-01T09:38:29.786178Z\", \"created_time_dt\": \"2021-01-01T09:38:29.786178Z\", \"duration\": \"0:01:32\", \"iteration\": \"41\", \"goal\": \"AUC_weighted_max\", \"run_name\": \"SparseNormalizer, XGBoostClassifier\", \"run_properties\": \"<azureml.automl.runtime.shared.model_wrappers.SparseNormalizer object at 0x7fdda40f9ac8\", \"primary_metric\": 0.86291223, \"best_metric\": 0.91507662}, {\"run_id\": \"AutoML_ef15e003-9024-458d-bef1-ff584eb1739a_40\", \"run_number\": 46, \"metric\": null, \"status\": \"Completed\", \"run_type\": \"azureml.scriptrun\", \"training_percent\": \"100\", \"start_time\": \"2021-01-01T09:38:40.699288Z\", \"end_time\": \"2021-01-01T09:39:17.029324Z\", \"created_time\": \"2021-01-01T09:38:29.81168Z\", \"created_time_dt\": \"2021-01-01T09:38:29.81168Z\", \"duration\": \"0:00:47\", \"iteration\": \"40\", \"goal\": \"AUC_weighted_max\", \"run_name\": \"SparseNormalizer, RandomForest\", \"run_properties\": \"<azureml.automl.runtime.shared.model_wrappers.SparseNormalizer object at 0x7fb944092b38\", \"primary_metric\": 0.85708175, \"best_metric\": 0.91507662}, {\"run_id\": \"AutoML_ef15e003-9024-458d-bef1-ff584eb1739a_42\", \"run_number\": 47, \"metric\": null, \"status\": \"Completed\", \"run_type\": \"azureml.scriptrun\", \"training_percent\": \"100\", \"start_time\": \"2021-01-01T09:38:41.371124Z\", \"end_time\": \"2021-01-01T09:39:20.365734Z\", \"created_time\": \"2021-01-01T09:38:29.96707Z\", \"created_time_dt\": \"2021-01-01T09:38:29.96707Z\", \"duration\": \"0:00:50\", \"iteration\": \"42\", \"goal\": \"AUC_weighted_max\", \"run_name\": \"RobustScaler, LightGBM\", \"run_properties\": \"copy=True, quantile_range=[25, 75], with_centering=True,\\n             with_scaling=False\", \"primary_metric\": 0.89641314, \"best_metric\": 0.91507662}, {\"run_id\": \"AutoML_ef15e003-9024-458d-bef1-ff584eb1739a_44\", \"run_number\": 48, \"metric\": null, \"status\": \"Completed\", \"run_type\": \"azureml.scriptrun\", \"training_percent\": \"100\", \"start_time\": \"2021-01-01T09:39:30.029152Z\", \"end_time\": \"2021-01-01T09:40:07.113871Z\", \"created_time\": \"2021-01-01T09:39:18.296103Z\", \"created_time_dt\": \"2021-01-01T09:39:18.296103Z\", \"duration\": \"0:00:48\", \"iteration\": \"44\", \"goal\": \"AUC_weighted_max\", \"run_name\": \"MinMaxScaler, RandomForest\", \"run_properties\": \"copy=True, feature_range=(0, 1\", \"primary_metric\": 0.90751308, \"best_metric\": 0.91507662}, {\"run_id\": \"AutoML_ef15e003-9024-458d-bef1-ff584eb1739a_43\", \"run_number\": 49, \"metric\": null, \"status\": \"Completed\", \"run_type\": \"azureml.scriptrun\", \"training_percent\": \"100\", \"start_time\": \"2021-01-01T09:39:30.691939Z\", \"end_time\": \"2021-01-01T09:40:07.795512Z\", \"created_time\": \"2021-01-01T09:39:18.303838Z\", \"created_time_dt\": \"2021-01-01T09:39:18.303838Z\", \"duration\": \"0:00:49\", \"iteration\": \"43\", \"goal\": \"AUC_weighted_max\", \"run_name\": \"SparseNormalizer, XGBoostClassifier\", \"run_properties\": \"<azureml.automl.runtime.shared.model_wrappers.SparseNormalizer object at 0x7f921005fda0\", \"primary_metric\": 0.90255945, \"best_metric\": 0.91507662}, {\"run_id\": \"AutoML_ef15e003-9024-458d-bef1-ff584eb1739a_45\", \"run_number\": 50, \"metric\": null, \"status\": \"Completed\", \"run_type\": \"azureml.scriptrun\", \"training_percent\": \"100\", \"start_time\": \"2021-01-01T09:39:33.880952Z\", \"end_time\": \"2021-01-01T09:40:15.68973Z\", \"created_time\": \"2021-01-01T09:39:23.909986Z\", \"created_time_dt\": \"2021-01-01T09:39:23.909986Z\", \"duration\": \"0:00:51\", \"iteration\": \"45\", \"goal\": \"AUC_weighted_max\", \"run_name\": \"MinMaxScaler, RandomForest\", \"run_properties\": \"copy=True, feature_range=(0, 1\", \"primary_metric\": 0.89670461, \"best_metric\": 0.91507662}, {\"run_id\": \"AutoML_ef15e003-9024-458d-bef1-ff584eb1739a_46\", \"run_number\": 51, \"metric\": null, \"status\": \"Completed\", \"run_type\": \"azureml.scriptrun\", \"training_percent\": \"100\", \"start_time\": \"2021-01-01T09:40:06.967874Z\", \"end_time\": \"2021-01-01T09:40:45.672451Z\", \"created_time\": \"2021-01-01T09:39:23.921578Z\", \"created_time_dt\": \"2021-01-01T09:39:23.921578Z\", \"duration\": \"0:01:21\", \"iteration\": \"46\", \"goal\": \"AUC_weighted_max\", \"run_name\": \"MaxAbsScaler, ExtremeRandomTrees\", \"run_properties\": \"copy=True\", \"primary_metric\": 0.88932216, \"best_metric\": 0.91507662}, {\"run_id\": \"AutoML_ef15e003-9024-458d-bef1-ff584eb1739a_47\", \"run_number\": 52, \"metric\": null, \"status\": \"Completed\", \"run_type\": \"azureml.scriptrun\", \"training_percent\": \"100\", \"start_time\": \"2021-01-01T09:40:17.045801Z\", \"end_time\": \"2021-01-01T09:40:57.117692Z\", \"created_time\": \"2021-01-01T09:40:04.17847Z\", \"created_time_dt\": \"2021-01-01T09:40:04.17847Z\", \"duration\": \"0:00:52\", \"iteration\": \"47\", \"goal\": \"AUC_weighted_max\", \"run_name\": \"StandardScalerWrapper, RandomForest\", \"run_properties\": \"<azureml.automl.runtime.shared.model_wrappers.StandardScalerWrapper object at 0x7f677c8bef98\", \"primary_metric\": 0.91481557, \"best_metric\": 0.91507662}, {\"run_id\": \"AutoML_ef15e003-9024-458d-bef1-ff584eb1739a_49\", \"run_number\": 53, \"metric\": null, \"status\": \"Canceled\", \"run_type\": \"azureml.scriptrun\", \"training_percent\": \"100\", \"start_time\": \"2021-01-01T09:40:23.933862Z\", \"end_time\": \"2021-01-01T09:41:03.957405Z\", \"created_time\": \"2021-01-01T09:40:09.477381Z\", \"created_time_dt\": \"2021-01-01T09:40:09.477381Z\", \"duration\": \"0:00:54\", \"iteration\": \"49\", \"goal\": \"AUC_weighted_max\", \"run_name\": \"RobustScaler, LightGBM\", \"run_properties\": \"copy=True, quantile_range=[25, 75], with_centering=False,\\n             with_scaling=True\", \"primary_metric\": 0.89492141, \"best_metric\": 0.91507662}, {\"run_id\": \"AutoML_ef15e003-9024-458d-bef1-ff584eb1739a_48\", \"run_number\": 54, \"metric\": null, \"status\": \"Completed\", \"run_type\": \"azureml.scriptrun\", \"training_percent\": \"100\", \"start_time\": \"2021-01-01T09:40:20.655804Z\", \"end_time\": \"2021-01-01T09:40:56.931823Z\", \"created_time\": \"2021-01-01T09:40:09.485589Z\", \"created_time_dt\": \"2021-01-01T09:40:09.485589Z\", \"duration\": \"0:00:47\", \"iteration\": \"48\", \"goal\": \"AUC_weighted_max\", \"run_name\": \"StandardScalerWrapper, LightGBM\", \"run_properties\": \"<azureml.automl.runtime.shared.model_wrappers.StandardScalerWrapper object at 0x7f8c588b45c0\", \"primary_metric\": 0.88323266, \"best_metric\": 0.91507662}, {\"run_id\": \"AutoML_ef15e003-9024-458d-bef1-ff584eb1739a_50\", \"run_number\": 55, \"metric\": null, \"status\": \"Canceled\", \"run_type\": \"azureml.scriptrun\", \"training_percent\": \"100\", \"start_time\": \"2021-01-01T09:40:51.468591Z\", \"end_time\": \"2021-01-01T09:41:04.611748Z\", \"created_time\": \"2021-01-01T09:40:18.929757Z\", \"created_time_dt\": \"2021-01-01T09:40:18.929757Z\", \"duration\": \"0:00:45\", \"iteration\": \"50\", \"goal\": null, \"run_name\": \"Canceled\", \"run_properties\": null}, {\"run_id\": \"AutoML_ef15e003-9024-458d-bef1-ff584eb1739a_51\", \"run_number\": 56, \"metric\": null, \"status\": \"Canceled\", \"run_type\": \"azureml.scriptrun\", \"training_percent\": \"100\", \"start_time\": \"2021-01-01T09:40:57.998783Z\", \"end_time\": \"2021-01-01T09:41:05.50923Z\", \"created_time\": \"2021-01-01T09:40:47.89783Z\", \"created_time_dt\": \"2021-01-01T09:40:47.89783Z\", \"duration\": \"0:00:17\", \"iteration\": \"51\", \"goal\": null, \"run_name\": \"Canceled\", \"run_properties\": null}, {\"run_id\": \"AutoML_ef15e003-9024-458d-bef1-ff584eb1739a_52\", \"run_number\": 57, \"metric\": null, \"status\": \"Completed\", \"run_type\": \"azureml.scriptrun\", \"training_percent\": \"100\", \"start_time\": \"2021-01-01T09:41:18.060687Z\", \"end_time\": \"2021-01-01T09:42:56.606269Z\", \"created_time\": \"2021-01-01T09:41:06.462268Z\", \"created_time_dt\": \"2021-01-01T09:41:06.462268Z\", \"duration\": \"0:01:50\", \"iteration\": \"52\", \"goal\": \"AUC_weighted_max\", \"run_name\": \"VotingEnsemble\", \"run_properties\": \"classification_labels=None,\\n                              estimators=[('33',\\n                                           Pipeline(memory=None,\\n                                                    steps=[('robustscaler',\\n                                                            RobustScaler(copy=True,\\n                                                                         quantile_range=[25,\\n                                                                                         75],\\n                                                                         with_centering=True,\\n                                                                         with_scaling=False\", \"primary_metric\": 0.92683509, \"best_metric\": 0.92683509}, {\"run_id\": \"AutoML_ef15e003-9024-458d-bef1-ff584eb1739a_53\", \"run_number\": 58, \"metric\": null, \"status\": \"Completed\", \"run_type\": \"azureml.scriptrun\", \"training_percent\": \"100\", \"start_time\": \"2021-01-01T09:41:16.865704Z\", \"end_time\": \"2021-01-01T09:43:04.503513Z\", \"created_time\": \"2021-01-01T09:41:06.584346Z\", \"created_time_dt\": \"2021-01-01T09:41:06.584346Z\", \"duration\": \"0:01:57\", \"iteration\": \"53\", \"goal\": \"AUC_weighted_max\", \"run_name\": \"StackEnsemble\", \"run_properties\": \"base_learners=[('33',\\n                                        Pipeline(memory=None,\\n                                                 steps=[('robustscaler',\\n                                                         RobustScaler(copy=True,\\n                                                                      quantile_range=[25,\\n                                                                                      75],\\n                                                                      with_centering=True,\\n                                                                      with_scaling=False\", \"primary_metric\": 0.92181603, \"best_metric\": 0.92683509}], \"children_metrics\": {\"categories\": [0], \"series\": {\"f1_score_micro\": [{\"categories\": [\"0\", \"1\", \"2\", \"3\", \"4\", \"5\", \"6\", \"7\", \"8\", \"9\", \"10\", \"11\", \"12\", \"13\", \"14\", \"15\", \"16\", \"17\", \"18\", \"19\", \"20\", \"21\", \"22\", \"23\", \"24\", \"25\", \"26\", \"27\", \"28\", \"29\", \"30\", \"31\", \"32\", \"33\", \"34\", \"35\", \"38\", \"39\", \"40\", \"41\", \"42\", \"43\", \"44\", \"45\", \"46\", \"47\", \"48\", \"49\", \"52\", \"53\"], \"mode\": \"markers\", \"name\": \"f1_score_micro\", \"stepped\": false, \"type\": \"scatter\", \"data\": [0.8059887005649718, 0.8259322033898304, 0.8325423728813559, 0.782542372881356, 0.8258757062146893, 0.8228248587570622, 0.822598870056497, 0.8293785310734464, 0.7592090395480225, 0.7593220338983051, 0.8128813559322035, 0.8261581920903955, 0.8124293785310736, 0.8227118644067797, 0.8125423728813559, 0.6153107344632769, 0.7659322033898306, 0.7959322033898306, 0.812542372881356, 0.822768361581921, 0.8290960451977402, 0.7993785310734464, 0.8193785310734464, 0.8359887005649718, 0.8394350282485876, 0.8191525423728814, 0.8226553672316385, 0.7125423728813558, 0.8361581920903955, 0.846045197740113, 0.7861016949152542, 0.8191525423728814, 0.836045197740113, 0.8191525423728814, 0.8394350282485876, 0.7059322033898305, 0.8425988700564971, 0.8160451977401131, 0.7927683615819208, 0.822768361581921, 0.8160451977401131, 0.8697175141242937, 0.8291525423728814, 0.8192090395480227, 0.8428813559322034, 0.8358757062146893, 0.8193785310734464, 0.836045197740113, 0.8629378531073446, 0.7157627118644068]}, {\"categories\": [\"0\", \"1\", \"2\", \"3\", \"4\", \"5\", \"6\", \"7\", \"8\", \"9\", \"10\", \"11\", \"12\", \"13\", \"14\", \"15\", \"16\", \"17\", \"18\", \"19\", \"20\", \"21\", \"22\", \"23\", \"24\", \"25\", \"26\", \"27\", \"28\", \"29\", \"30\", \"31\", \"32\", \"33\", \"34\", \"35\", \"38\", \"39\", \"40\", \"41\", \"42\", \"43\", \"44\", \"45\", \"46\", \"47\", \"48\", \"49\", \"52\", \"53\"], \"mode\": \"lines\", \"name\": \"f1_score_micro_max\", \"stepped\": true, \"type\": \"scatter\", \"data\": [0.8059887005649718, 0.8259322033898304, 0.8325423728813559, 0.8325423728813559, 0.8325423728813559, 0.8325423728813559, 0.8325423728813559, 0.8325423728813559, 0.8325423728813559, 0.8325423728813559, 0.8325423728813559, 0.8325423728813559, 0.8325423728813559, 0.8325423728813559, 0.8325423728813559, 0.8325423728813559, 0.8325423728813559, 0.8325423728813559, 0.8325423728813559, 0.8325423728813559, 0.8325423728813559, 0.8325423728813559, 0.8325423728813559, 0.8359887005649718, 0.8394350282485876, 0.8394350282485876, 0.8394350282485876, 0.8394350282485876, 0.8394350282485876, 0.846045197740113, 0.846045197740113, 0.846045197740113, 0.846045197740113, 0.846045197740113, 0.846045197740113, 0.846045197740113, 0.846045197740113, 0.846045197740113, 0.846045197740113, 0.846045197740113, 0.846045197740113, 0.8697175141242937, 0.8697175141242937, 0.8697175141242937, 0.8697175141242937, 0.8697175141242937, 0.8697175141242937, 0.8697175141242937, 0.8697175141242937, 0.8697175141242937]}], \"precision_score_micro\": [{\"categories\": [\"0\", \"1\", \"2\", \"3\", \"4\", \"5\", \"6\", \"7\", \"8\", \"9\", \"10\", \"11\", \"12\", \"13\", \"14\", \"15\", \"16\", \"17\", \"18\", \"19\", \"20\", \"21\", \"22\", \"23\", \"24\", \"25\", \"26\", \"27\", \"28\", \"29\", \"30\", \"31\", \"32\", \"33\", \"34\", \"35\", \"38\", \"39\", \"40\", \"41\", \"42\", \"43\", \"44\", \"45\", \"46\", \"47\", \"48\", \"49\", \"52\", \"53\"], \"mode\": \"markers\", \"name\": \"precision_score_micro\", \"stepped\": false, \"type\": \"scatter\", \"data\": [0.8059887005649717, 0.8259322033898304, 0.8325423728813559, 0.782542372881356, 0.8258757062146893, 0.8228248587570622, 0.822598870056497, 0.8293785310734464, 0.7592090395480225, 0.7593220338983051, 0.8128813559322035, 0.8261581920903955, 0.8124293785310736, 0.8227118644067797, 0.8125423728813559, 0.6153107344632769, 0.7659322033898306, 0.7959322033898306, 0.8125423728813559, 0.822768361581921, 0.8290960451977402, 0.7993785310734464, 0.8193785310734463, 0.8359887005649718, 0.8394350282485876, 0.8191525423728814, 0.8226553672316383, 0.7125423728813558, 0.8361581920903955, 0.846045197740113, 0.7861016949152542, 0.8191525423728814, 0.836045197740113, 0.8191525423728814, 0.8394350282485876, 0.7059322033898305, 0.8425988700564971, 0.8160451977401131, 0.7927683615819208, 0.822768361581921, 0.8160451977401131, 0.8697175141242937, 0.8291525423728814, 0.8192090395480227, 0.8428813559322034, 0.8358757062146893, 0.8193785310734463, 0.836045197740113, 0.8629378531073446, 0.7157627118644067]}, {\"categories\": [\"0\", \"1\", \"2\", \"3\", \"4\", \"5\", \"6\", \"7\", \"8\", \"9\", \"10\", \"11\", \"12\", \"13\", \"14\", \"15\", \"16\", \"17\", \"18\", \"19\", \"20\", \"21\", \"22\", \"23\", \"24\", \"25\", \"26\", \"27\", \"28\", \"29\", \"30\", \"31\", \"32\", \"33\", \"34\", \"35\", \"38\", \"39\", \"40\", \"41\", \"42\", \"43\", \"44\", \"45\", \"46\", \"47\", \"48\", \"49\", \"52\", \"53\"], \"mode\": \"lines\", \"name\": \"precision_score_micro_max\", \"stepped\": true, \"type\": \"scatter\", \"data\": [0.8059887005649717, 0.8259322033898304, 0.8325423728813559, 0.8325423728813559, 0.8325423728813559, 0.8325423728813559, 0.8325423728813559, 0.8325423728813559, 0.8325423728813559, 0.8325423728813559, 0.8325423728813559, 0.8325423728813559, 0.8325423728813559, 0.8325423728813559, 0.8325423728813559, 0.8325423728813559, 0.8325423728813559, 0.8325423728813559, 0.8325423728813559, 0.8325423728813559, 0.8325423728813559, 0.8325423728813559, 0.8325423728813559, 0.8359887005649718, 0.8394350282485876, 0.8394350282485876, 0.8394350282485876, 0.8394350282485876, 0.8394350282485876, 0.846045197740113, 0.846045197740113, 0.846045197740113, 0.846045197740113, 0.846045197740113, 0.846045197740113, 0.846045197740113, 0.846045197740113, 0.846045197740113, 0.846045197740113, 0.846045197740113, 0.846045197740113, 0.8697175141242937, 0.8697175141242937, 0.8697175141242937, 0.8697175141242937, 0.8697175141242937, 0.8697175141242937, 0.8697175141242937, 0.8697175141242937, 0.8697175141242937]}], \"recall_score_micro\": [{\"categories\": [\"0\", \"1\", \"2\", \"3\", \"4\", \"5\", \"6\", \"7\", \"8\", \"9\", \"10\", \"11\", \"12\", \"13\", \"14\", \"15\", \"16\", \"17\", \"18\", \"19\", \"20\", \"21\", \"22\", \"23\", \"24\", \"25\", \"26\", \"27\", \"28\", \"29\", \"30\", \"31\", \"32\", \"33\", \"34\", \"35\", \"38\", \"39\", \"40\", \"41\", \"42\", \"43\", \"44\", \"45\", \"46\", \"47\", \"48\", \"49\", \"52\", \"53\"], \"mode\": \"markers\", \"name\": \"recall_score_micro\", \"stepped\": false, \"type\": \"scatter\", \"data\": [0.8059887005649717, 0.8259322033898304, 0.8325423728813559, 0.782542372881356, 0.8258757062146893, 0.8228248587570622, 0.822598870056497, 0.8293785310734464, 0.7592090395480225, 0.7593220338983051, 0.8128813559322035, 0.8261581920903955, 0.8124293785310736, 0.8227118644067797, 0.8125423728813559, 0.6153107344632769, 0.7659322033898306, 0.7959322033898306, 0.8125423728813559, 0.822768361581921, 0.8290960451977402, 0.7993785310734464, 0.8193785310734463, 0.8359887005649718, 0.8394350282485876, 0.8191525423728814, 0.8226553672316383, 0.7125423728813558, 0.8361581920903955, 0.846045197740113, 0.7861016949152542, 0.8191525423728814, 0.836045197740113, 0.8191525423728814, 0.8394350282485876, 0.7059322033898305, 0.8425988700564971, 0.8160451977401131, 0.7927683615819208, 0.822768361581921, 0.8160451977401131, 0.8697175141242937, 0.8291525423728814, 0.8192090395480227, 0.8428813559322034, 0.8358757062146893, 0.8193785310734463, 0.836045197740113, 0.8629378531073446, 0.7157627118644067]}, {\"categories\": [\"0\", \"1\", \"2\", \"3\", \"4\", \"5\", \"6\", \"7\", \"8\", \"9\", \"10\", \"11\", \"12\", \"13\", \"14\", \"15\", \"16\", \"17\", \"18\", \"19\", \"20\", \"21\", \"22\", \"23\", \"24\", \"25\", \"26\", \"27\", \"28\", \"29\", \"30\", \"31\", \"32\", \"33\", \"34\", \"35\", \"38\", \"39\", \"40\", \"41\", \"42\", \"43\", \"44\", \"45\", \"46\", \"47\", \"48\", \"49\", \"52\", \"53\"], \"mode\": \"lines\", \"name\": \"recall_score_micro_max\", \"stepped\": true, \"type\": \"scatter\", \"data\": [0.8059887005649717, 0.8259322033898304, 0.8325423728813559, 0.8325423728813559, 0.8325423728813559, 0.8325423728813559, 0.8325423728813559, 0.8325423728813559, 0.8325423728813559, 0.8325423728813559, 0.8325423728813559, 0.8325423728813559, 0.8325423728813559, 0.8325423728813559, 0.8325423728813559, 0.8325423728813559, 0.8325423728813559, 0.8325423728813559, 0.8325423728813559, 0.8325423728813559, 0.8325423728813559, 0.8325423728813559, 0.8325423728813559, 0.8359887005649718, 0.8394350282485876, 0.8394350282485876, 0.8394350282485876, 0.8394350282485876, 0.8394350282485876, 0.846045197740113, 0.846045197740113, 0.846045197740113, 0.846045197740113, 0.846045197740113, 0.846045197740113, 0.846045197740113, 0.846045197740113, 0.846045197740113, 0.846045197740113, 0.846045197740113, 0.846045197740113, 0.8697175141242937, 0.8697175141242937, 0.8697175141242937, 0.8697175141242937, 0.8697175141242937, 0.8697175141242937, 0.8697175141242937, 0.8697175141242937, 0.8697175141242937]}], \"AUC_weighted\": [{\"categories\": [\"0\", \"1\", \"2\", \"3\", \"4\", \"5\", \"6\", \"7\", \"8\", \"9\", \"10\", \"11\", \"12\", \"13\", \"14\", \"15\", \"16\", \"17\", \"18\", \"19\", \"20\", \"21\", \"22\", \"23\", \"24\", \"25\", \"26\", \"27\", \"28\", \"29\", \"30\", \"31\", \"32\", \"33\", \"34\", \"35\", \"38\", \"39\", \"40\", \"41\", \"42\", \"43\", \"44\", \"45\", \"46\", \"47\", \"48\", \"49\", \"52\", \"53\"], \"mode\": \"markers\", \"name\": \"AUC_weighted\", \"stepped\": false, \"type\": \"scatter\", \"data\": [0.8811331210778885, 0.8929591177556293, 0.9046834394610557, 0.8839457364341085, 0.9042329272794388, 0.8927266519010704, 0.896768120115935, 0.8947153700627538, 0.8594413528977481, 0.7514726836471023, 0.8908989710225177, 0.8921949981543005, 0.910841339055002, 0.8704538113695091, 0.8731921142488002, 0.48227655500184563, 0.8973470376522702, 0.8377107558139535, 0.8987918512366185, 0.9071683739387228, 0.8963290882244372, 0.8700415513104467, 0.8547592746400886, 0.8960079365079366, 0.8997064645625692, 0.8983061323366556, 0.9022920358065706, 0.8361386120339607, 0.9083345561092655, 0.8632615933001107, 0.8916456949058693, 0.9094165974529347, 0.9072915743816907, 0.9150766196013288, 0.9039821889996309, 0.7482473352713178, 0.9008589654854189, 0.8701928525286083, 0.8570817529531194, 0.8629122254521964, 0.8964131367663345, 0.9025594545957919, 0.9075130813953489, 0.896704607327427, 0.8893221553156145, 0.9148155684754521, 0.8832326619601328, 0.8949214078073091, 0.9268350867478775, 0.9218160299003323]}, {\"categories\": [\"0\", \"1\", \"2\", \"3\", \"4\", \"5\", \"6\", \"7\", \"8\", \"9\", \"10\", \"11\", \"12\", \"13\", \"14\", \"15\", \"16\", \"17\", \"18\", \"19\", \"20\", \"21\", \"22\", \"23\", \"24\", \"25\", \"26\", \"27\", \"28\", \"29\", \"30\", \"31\", \"32\", \"33\", \"34\", \"35\", \"38\", \"39\", \"40\", \"41\", \"42\", \"43\", \"44\", \"45\", \"46\", \"47\", \"48\", \"49\", \"52\", \"53\"], \"mode\": \"lines\", \"name\": \"AUC_weighted_max\", \"stepped\": true, \"type\": \"scatter\", \"data\": [0.8811331210778885, 0.8929591177556293, 0.9046834394610557, 0.9046834394610557, 0.9046834394610557, 0.9046834394610557, 0.9046834394610557, 0.9046834394610557, 0.9046834394610557, 0.9046834394610557, 0.9046834394610557, 0.9046834394610557, 0.910841339055002, 0.910841339055002, 0.910841339055002, 0.910841339055002, 0.910841339055002, 0.910841339055002, 0.910841339055002, 0.910841339055002, 0.910841339055002, 0.910841339055002, 0.910841339055002, 0.910841339055002, 0.910841339055002, 0.910841339055002, 0.910841339055002, 0.910841339055002, 0.910841339055002, 0.910841339055002, 0.910841339055002, 0.910841339055002, 0.910841339055002, 0.9150766196013288, 0.9150766196013288, 0.9150766196013288, 0.9150766196013288, 0.9150766196013288, 0.9150766196013288, 0.9150766196013288, 0.9150766196013288, 0.9150766196013288, 0.9150766196013288, 0.9150766196013288, 0.9150766196013288, 0.9150766196013288, 0.9150766196013288, 0.9150766196013288, 0.9268350867478775, 0.9268350867478775]}], \"AUC_macro\": [{\"categories\": [\"0\", \"1\", \"2\", \"3\", \"4\", \"5\", \"6\", \"7\", \"8\", \"9\", \"10\", \"11\", \"12\", \"13\", \"14\", \"15\", \"16\", \"17\", \"18\", \"19\", \"20\", \"21\", \"22\", \"23\", \"24\", \"25\", \"26\", \"27\", \"28\", \"29\", \"30\", \"31\", \"32\", \"33\", \"34\", \"35\", \"38\", \"39\", \"40\", \"41\", \"42\", \"43\", \"44\", \"45\", \"46\", \"47\", \"48\", \"49\", \"52\", \"53\"], \"mode\": \"markers\", \"name\": \"AUC_macro\", \"stepped\": false, \"type\": \"scatter\", \"data\": [0.8811331210778885, 0.8929591177556295, 0.904683439461056, 0.8839457364341085, 0.9042329272794388, 0.8927266519010704, 0.8969048714931709, 0.8947153700627538, 0.8594413528977481, 0.7514726836471023, 0.8908989710225177, 0.8921949981543005, 0.9108413390550018, 0.8704538113695091, 0.8731921142488002, 0.48227655500184563, 0.8973470376522702, 0.8377107558139535, 0.8987918512366185, 0.9071683739387228, 0.8963290882244369, 0.8700415513104467, 0.8547592746400886, 0.8960079365079366, 0.8997064645625692, 0.8983061323366556, 0.9022920358065708, 0.836138612033961, 0.9083345561092655, 0.8632615933001107, 0.8916456949058693, 0.9094165974529347, 0.9072915743816907, 0.915076619601329, 0.9039821889996309, 0.7482473352713178, 0.9008589654854189, 0.8701928525286083, 0.8570817529531194, 0.8629122254521964, 0.8964131367663345, 0.9025594545957919, 0.9075130813953489, 0.8967046073274272, 0.8893221553156145, 0.9148155684754521, 0.8832326619601328, 0.8949214078073089, 0.9268350867478775, 0.9218160299003323]}, {\"categories\": [\"0\", \"1\", \"2\", \"3\", \"4\", \"5\", \"6\", \"7\", \"8\", \"9\", \"10\", \"11\", \"12\", \"13\", \"14\", \"15\", \"16\", \"17\", \"18\", \"19\", \"20\", \"21\", \"22\", \"23\", \"24\", \"25\", \"26\", \"27\", \"28\", \"29\", \"30\", \"31\", \"32\", \"33\", \"34\", \"35\", \"38\", \"39\", \"40\", \"41\", \"42\", \"43\", \"44\", \"45\", \"46\", \"47\", \"48\", \"49\", \"52\", \"53\"], \"mode\": \"lines\", \"name\": \"AUC_macro_max\", \"stepped\": true, \"type\": \"scatter\", \"data\": [0.8811331210778885, 0.8929591177556295, 0.904683439461056, 0.904683439461056, 0.904683439461056, 0.904683439461056, 0.904683439461056, 0.904683439461056, 0.904683439461056, 0.904683439461056, 0.904683439461056, 0.904683439461056, 0.9108413390550018, 0.9108413390550018, 0.9108413390550018, 0.9108413390550018, 0.9108413390550018, 0.9108413390550018, 0.9108413390550018, 0.9108413390550018, 0.9108413390550018, 0.9108413390550018, 0.9108413390550018, 0.9108413390550018, 0.9108413390550018, 0.9108413390550018, 0.9108413390550018, 0.9108413390550018, 0.9108413390550018, 0.9108413390550018, 0.9108413390550018, 0.9108413390550018, 0.9108413390550018, 0.915076619601329, 0.915076619601329, 0.915076619601329, 0.915076619601329, 0.915076619601329, 0.915076619601329, 0.915076619601329, 0.915076619601329, 0.915076619601329, 0.915076619601329, 0.915076619601329, 0.915076619601329, 0.915076619601329, 0.915076619601329, 0.915076619601329, 0.9268350867478775, 0.9268350867478775]}], \"balanced_accuracy\": [{\"categories\": [\"0\", \"1\", \"2\", \"3\", \"4\", \"5\", \"6\", \"7\", \"8\", \"9\", \"10\", \"11\", \"12\", \"13\", \"14\", \"15\", \"16\", \"17\", \"18\", \"19\", \"20\", \"21\", \"22\", \"23\", \"24\", \"25\", \"26\", \"27\", \"28\", \"29\", \"30\", \"31\", \"32\", \"33\", \"34\", \"35\", \"38\", \"39\", \"40\", \"41\", \"42\", \"43\", \"44\", \"45\", \"46\", \"47\", \"48\", \"49\", \"52\", \"53\"], \"mode\": \"markers\", \"name\": \"balanced_accuracy\", \"stepped\": false, \"type\": \"scatter\", \"data\": [0.7760209025470652, 0.8060125968992248, 0.8131554540420819, 0.6913053709856036, 0.8089846345514949, 0.7691327519379845, 0.7966334440753045, 0.7943500830564784, 0.6541625138427465, 0.6706803709856035, 0.7267857142857143, 0.7643154761904762, 0.8254900332225914, 0.7942095791805094, 0.7919096068660021, 0.5313406699889258, 0.6751661129568106, 0.7742607973421927, 0.8164763289036545, 0.7934952934662236, 0.8059786821705426, 0.7758167220376523, 0.7855488648947951, 0.8083423311184939, 0.8151363510520486, 0.8154644241417499, 0.8073857973421926, 0.5588095238095238, 0.7846982281284607, 0.8022155315614619, 0.6995833333333333, 0.8129049003322258, 0.8117393410852713, 0.8135596622369878, 0.8100768272425249, 0.5565988372093023, 0.8168798449612403, 0.7870667220376523, 0.7545923311184939, 0.7559738372093023, 0.768703626799557, 0.8398214285714285, 0.8192781007751938, 0.8127858527131784, 0.7980571705426356, 0.8204727297895904, 0.7785250553709855, 0.791501245847176, 0.8362756090808418, 0.5392857142857143]}, {\"categories\": [\"0\", \"1\", \"2\", \"3\", \"4\", \"5\", \"6\", \"7\", \"8\", \"9\", \"10\", \"11\", \"12\", \"13\", \"14\", \"15\", \"16\", \"17\", \"18\", \"19\", \"20\", \"21\", \"22\", \"23\", \"24\", \"25\", \"26\", \"27\", \"28\", \"29\", \"30\", \"31\", \"32\", \"33\", \"34\", \"35\", \"38\", \"39\", \"40\", \"41\", \"42\", \"43\", \"44\", \"45\", \"46\", \"47\", \"48\", \"49\", \"52\", \"53\"], \"mode\": \"lines\", \"name\": \"balanced_accuracy_max\", \"stepped\": true, \"type\": \"scatter\", \"data\": [0.7760209025470652, 0.8060125968992248, 0.8131554540420819, 0.8131554540420819, 0.8131554540420819, 0.8131554540420819, 0.8131554540420819, 0.8131554540420819, 0.8131554540420819, 0.8131554540420819, 0.8131554540420819, 0.8131554540420819, 0.8254900332225914, 0.8254900332225914, 0.8254900332225914, 0.8254900332225914, 0.8254900332225914, 0.8254900332225914, 0.8254900332225914, 0.8254900332225914, 0.8254900332225914, 0.8254900332225914, 0.8254900332225914, 0.8254900332225914, 0.8254900332225914, 0.8254900332225914, 0.8254900332225914, 0.8254900332225914, 0.8254900332225914, 0.8254900332225914, 0.8254900332225914, 0.8254900332225914, 0.8254900332225914, 0.8254900332225914, 0.8254900332225914, 0.8254900332225914, 0.8254900332225914, 0.8254900332225914, 0.8254900332225914, 0.8254900332225914, 0.8254900332225914, 0.8398214285714285, 0.8398214285714285, 0.8398214285714285, 0.8398214285714285, 0.8398214285714285, 0.8398214285714285, 0.8398214285714285, 0.8398214285714285, 0.8398214285714285]}], \"f1_score_weighted\": [{\"categories\": [\"0\", \"1\", \"2\", \"3\", \"4\", \"5\", \"6\", \"7\", \"8\", \"9\", \"10\", \"11\", \"12\", \"13\", \"14\", \"15\", \"16\", \"17\", \"18\", \"19\", \"20\", \"21\", \"22\", \"23\", \"24\", \"25\", \"26\", \"27\", \"28\", \"29\", \"30\", \"31\", \"32\", \"33\", \"34\", \"35\", \"38\", \"39\", \"40\", \"41\", \"42\", \"43\", \"44\", \"45\", \"46\", \"47\", \"48\", \"49\", \"52\", \"53\"], \"mode\": \"markers\", \"name\": \"f1_score_weighted\", \"stepped\": false, \"type\": \"scatter\", \"data\": [0.8014398448329555, 0.8237396450256732, 0.8317317662958891, 0.7563523223417576, 0.82660868350875, 0.8124272843058623, 0.8209910375475206, 0.824775035901656, 0.7211155915074268, 0.7359836357954517, 0.7941331691706361, 0.8129905175941788, 0.8187723853098733, 0.8183010761922818, 0.8111826346444866, 0.5942320550697178, 0.7264526121243711, 0.7978603240390784, 0.8173426202880085, 0.8150351468661906, 0.8265734197204022, 0.8000659345507438, 0.8171412811317333, 0.8318941672273839, 0.8367626791205701, 0.8230430915850164, 0.8238308654520352, 0.6269395226395883, 0.8254871769264, 0.8414033222959677, 0.757136168162142, 0.8226305367488882, 0.832926514255275, 0.8228707146070138, 0.8345337708817532, 0.6160286719690872, 0.8392593288311744, 0.8096299902531776, 0.7896284013423022, 0.8126605857564803, 0.8057765472688168, 0.8660381924665994, 0.8325576089322103, 0.820522991255207, 0.8363307724283388, 0.8371312712471267, 0.8108433014317414, 0.8294192767119221, 0.8601186963038343, 0.615382936344496]}, {\"categories\": [\"0\", \"1\", \"2\", \"3\", \"4\", \"5\", \"6\", \"7\", \"8\", \"9\", \"10\", \"11\", \"12\", \"13\", \"14\", \"15\", \"16\", \"17\", \"18\", \"19\", \"20\", \"21\", \"22\", \"23\", \"24\", \"25\", \"26\", \"27\", \"28\", \"29\", \"30\", \"31\", \"32\", \"33\", \"34\", \"35\", \"38\", \"39\", \"40\", \"41\", \"42\", \"43\", \"44\", \"45\", \"46\", \"47\", \"48\", \"49\", \"52\", \"53\"], \"mode\": \"lines\", \"name\": \"f1_score_weighted_max\", \"stepped\": true, \"type\": \"scatter\", \"data\": [0.8014398448329555, 0.8237396450256732, 0.8317317662958891, 0.8317317662958891, 0.8317317662958891, 0.8317317662958891, 0.8317317662958891, 0.8317317662958891, 0.8317317662958891, 0.8317317662958891, 0.8317317662958891, 0.8317317662958891, 0.8317317662958891, 0.8317317662958891, 0.8317317662958891, 0.8317317662958891, 0.8317317662958891, 0.8317317662958891, 0.8317317662958891, 0.8317317662958891, 0.8317317662958891, 0.8317317662958891, 0.8317317662958891, 0.8318941672273839, 0.8367626791205701, 0.8367626791205701, 0.8367626791205701, 0.8367626791205701, 0.8367626791205701, 0.8414033222959677, 0.8414033222959677, 0.8414033222959677, 0.8414033222959677, 0.8414033222959677, 0.8414033222959677, 0.8414033222959677, 0.8414033222959677, 0.8414033222959677, 0.8414033222959677, 0.8414033222959677, 0.8414033222959677, 0.8660381924665994, 0.8660381924665994, 0.8660381924665994, 0.8660381924665994, 0.8660381924665994, 0.8660381924665994, 0.8660381924665994, 0.8660381924665994, 0.8660381924665994]}], \"recall_score_macro\": [{\"categories\": [\"0\", \"1\", \"2\", \"3\", \"4\", \"5\", \"6\", \"7\", \"8\", \"9\", \"10\", \"11\", \"12\", \"13\", \"14\", \"15\", \"16\", \"17\", \"18\", \"19\", \"20\", \"21\", \"22\", \"23\", \"24\", \"25\", \"26\", \"27\", \"28\", \"29\", \"30\", \"31\", \"32\", \"33\", \"34\", \"35\", \"38\", \"39\", \"40\", \"41\", \"42\", \"43\", \"44\", \"45\", \"46\", \"47\", \"48\", \"49\", \"52\", \"53\"], \"mode\": \"markers\", \"name\": \"recall_score_macro\", \"stepped\": false, \"type\": \"scatter\", \"data\": [0.7760209025470652, 0.8060125968992248, 0.8131554540420819, 0.6913053709856036, 0.8089846345514949, 0.7691327519379845, 0.7966334440753045, 0.7943500830564784, 0.6541625138427465, 0.6706803709856035, 0.7267857142857143, 0.7643154761904762, 0.8254900332225914, 0.7942095791805094, 0.7919096068660021, 0.5313406699889258, 0.6751661129568106, 0.7742607973421927, 0.8164763289036545, 0.7934952934662236, 0.8059786821705426, 0.7758167220376523, 0.7855488648947951, 0.8083423311184939, 0.8151363510520486, 0.8154644241417499, 0.8073857973421926, 0.5588095238095238, 0.7846982281284607, 0.8022155315614619, 0.6995833333333333, 0.8129049003322258, 0.8117393410852713, 0.8135596622369878, 0.8100768272425249, 0.5565988372093023, 0.8168798449612403, 0.7870667220376523, 0.7545923311184939, 0.7559738372093023, 0.768703626799557, 0.8398214285714285, 0.8192781007751938, 0.8127858527131784, 0.7980571705426356, 0.8204727297895904, 0.7785250553709855, 0.791501245847176, 0.8362756090808418, 0.5392857142857143]}, {\"categories\": [\"0\", \"1\", \"2\", \"3\", \"4\", \"5\", \"6\", \"7\", \"8\", \"9\", \"10\", \"11\", \"12\", \"13\", \"14\", \"15\", \"16\", \"17\", \"18\", \"19\", \"20\", \"21\", \"22\", \"23\", \"24\", \"25\", \"26\", \"27\", \"28\", \"29\", \"30\", \"31\", \"32\", \"33\", \"34\", \"35\", \"38\", \"39\", \"40\", \"41\", \"42\", \"43\", \"44\", \"45\", \"46\", \"47\", \"48\", \"49\", \"52\", \"53\"], \"mode\": \"lines\", \"name\": \"recall_score_macro_max\", \"stepped\": true, \"type\": \"scatter\", \"data\": [0.7760209025470652, 0.8060125968992248, 0.8131554540420819, 0.8131554540420819, 0.8131554540420819, 0.8131554540420819, 0.8131554540420819, 0.8131554540420819, 0.8131554540420819, 0.8131554540420819, 0.8131554540420819, 0.8131554540420819, 0.8254900332225914, 0.8254900332225914, 0.8254900332225914, 0.8254900332225914, 0.8254900332225914, 0.8254900332225914, 0.8254900332225914, 0.8254900332225914, 0.8254900332225914, 0.8254900332225914, 0.8254900332225914, 0.8254900332225914, 0.8254900332225914, 0.8254900332225914, 0.8254900332225914, 0.8254900332225914, 0.8254900332225914, 0.8254900332225914, 0.8254900332225914, 0.8254900332225914, 0.8254900332225914, 0.8254900332225914, 0.8254900332225914, 0.8254900332225914, 0.8254900332225914, 0.8254900332225914, 0.8254900332225914, 0.8254900332225914, 0.8254900332225914, 0.8398214285714285, 0.8398214285714285, 0.8398214285714285, 0.8398214285714285, 0.8398214285714285, 0.8398214285714285, 0.8398214285714285, 0.8398214285714285, 0.8398214285714285]}], \"average_precision_score_micro\": [{\"categories\": [\"0\", \"1\", \"2\", \"3\", \"4\", \"5\", \"6\", \"7\", \"8\", \"9\", \"10\", \"11\", \"12\", \"13\", \"14\", \"15\", \"16\", \"17\", \"18\", \"19\", \"20\", \"21\", \"22\", \"23\", \"24\", \"25\", \"26\", \"27\", \"28\", \"29\", \"30\", \"31\", \"32\", \"33\", \"34\", \"35\", \"38\", \"39\", \"40\", \"41\", \"42\", \"43\", \"44\", \"45\", \"46\", \"47\", \"48\", \"49\", \"52\", \"53\"], \"mode\": \"markers\", \"name\": \"average_precision_score_micro\", \"stepped\": false, \"type\": \"scatter\", \"data\": [0.887958292631032, 0.9018582931163117, 0.9112679134652726, 0.8824817878080952, 0.9131255961064673, 0.9015286759867512, 0.9022055134732933, 0.9029242138196288, 0.8615579185888821, 0.7923478012471382, 0.8857227239453416, 0.895734679814731, 0.9102802863089192, 0.8823428187356456, 0.8810542672922057, 0.6180888504381511, 0.8805054871705, 0.8374451790258524, 0.8959503400520875, 0.906038430526013, 0.9021291241146834, 0.8839050831868095, 0.8745765086564719, 0.9034699461187199, 0.9068565782538569, 0.8932698744817233, 0.9104477131674272, 0.8282269645119303, 0.9068527009944412, 0.8635646417011487, 0.8758497582445456, 0.910452215597229, 0.9144088249020454, 0.9145440973432395, 0.9120438756055865, 0.782591221692776, 0.9083783648243428, 0.8812560804594346, 0.8637709124758854, 0.8732062568795336, 0.8851569799607626, 0.9049542199730285, 0.9080267458542011, 0.8838004729817319, 0.8989195097214286, 0.9207562659558253, 0.8714983601404628, 0.8923347516749198, 0.9302751427379299, 0.886005638869442]}, {\"categories\": [\"0\", \"1\", \"2\", \"3\", \"4\", \"5\", \"6\", \"7\", \"8\", \"9\", \"10\", \"11\", \"12\", \"13\", \"14\", \"15\", \"16\", \"17\", \"18\", \"19\", \"20\", \"21\", \"22\", \"23\", \"24\", \"25\", \"26\", \"27\", \"28\", \"29\", \"30\", \"31\", \"32\", \"33\", \"34\", \"35\", \"38\", \"39\", \"40\", \"41\", \"42\", \"43\", \"44\", \"45\", \"46\", \"47\", \"48\", \"49\", \"52\", \"53\"], \"mode\": \"lines\", \"name\": \"average_precision_score_micro_max\", \"stepped\": true, \"type\": \"scatter\", \"data\": [0.887958292631032, 0.9018582931163117, 0.9112679134652726, 0.9112679134652726, 0.9131255961064673, 0.9131255961064673, 0.9131255961064673, 0.9131255961064673, 0.9131255961064673, 0.9131255961064673, 0.9131255961064673, 0.9131255961064673, 0.9131255961064673, 0.9131255961064673, 0.9131255961064673, 0.9131255961064673, 0.9131255961064673, 0.9131255961064673, 0.9131255961064673, 0.9131255961064673, 0.9131255961064673, 0.9131255961064673, 0.9131255961064673, 0.9131255961064673, 0.9131255961064673, 0.9131255961064673, 0.9131255961064673, 0.9131255961064673, 0.9131255961064673, 0.9131255961064673, 0.9131255961064673, 0.9131255961064673, 0.9144088249020454, 0.9145440973432395, 0.9145440973432395, 0.9145440973432395, 0.9145440973432395, 0.9145440973432395, 0.9145440973432395, 0.9145440973432395, 0.9145440973432395, 0.9145440973432395, 0.9145440973432395, 0.9145440973432395, 0.9145440973432395, 0.9207562659558253, 0.9207562659558253, 0.9207562659558253, 0.9302751427379299, 0.9302751427379299]}], \"weighted_accuracy\": [{\"categories\": [\"0\", \"1\", \"2\", \"3\", \"4\", \"5\", \"6\", \"7\", \"8\", \"9\", \"10\", \"11\", \"12\", \"13\", \"14\", \"15\", \"16\", \"17\", \"18\", \"19\", \"20\", \"21\", \"22\", \"23\", \"24\", \"25\", \"26\", \"27\", \"28\", \"29\", \"30\", \"31\", \"32\", \"33\", \"34\", \"35\", \"38\", \"39\", \"40\", \"41\", \"42\", \"43\", \"44\", \"45\", \"46\", \"47\", \"48\", \"49\", \"52\", \"53\"], \"mode\": \"markers\", \"name\": \"weighted_accuracy\", \"stepped\": false, \"type\": \"scatter\", \"data\": [0.8252063202764133, 0.8406325321291572, 0.847542326488538, 0.8436547085737791, 0.8369370960542376, 0.8611248240578051, 0.840565910058556, 0.8531801033952773, 0.8314600183082925, 0.8191552656124355, 0.8693012596121626, 0.8684366309279898, 0.8034417743134081, 0.843066254008803, 0.8259514784914661, 0.6722707401586747, 0.8261282413034582, 0.8105395151228887, 0.8112952626366168, 0.8430591145166788, 0.8440660722448019, 0.8154733336548207, 0.8417596428687718, 0.8553624889385685, 0.8557282005817273, 0.8205770854533982, 0.8333434115495567, 0.8143824446475036, 0.872391525428619, 0.8756027801236737, 0.8459107147199578, 0.8236189039507085, 0.8525453447601479, 0.8226378177109028, 0.8594550789436916, 0.8026165187618781, 0.8597572836462272, 0.8368715637433162, 0.8183612240094996, 0.8659412741532828, 0.8490971406997627, 0.890486504332042, 0.8353978286414728, 0.8248281448160372, 0.8730208698870632, 0.8461128725595298, 0.8492533093619178, 0.8663107447254437, 0.8803598943707976, 0.8312573864809625]}, {\"categories\": [\"0\", \"1\", \"2\", \"3\", \"4\", \"5\", \"6\", \"7\", \"8\", \"9\", \"10\", \"11\", \"12\", \"13\", \"14\", \"15\", \"16\", \"17\", \"18\", \"19\", \"20\", \"21\", \"22\", \"23\", \"24\", \"25\", \"26\", \"27\", \"28\", \"29\", \"30\", \"31\", \"32\", \"33\", \"34\", \"35\", \"38\", \"39\", \"40\", \"41\", \"42\", \"43\", \"44\", \"45\", \"46\", \"47\", \"48\", \"49\", \"52\", \"53\"], \"mode\": \"lines\", \"name\": \"weighted_accuracy_max\", \"stepped\": true, \"type\": \"scatter\", \"data\": [0.8252063202764133, 0.8406325321291572, 0.847542326488538, 0.847542326488538, 0.847542326488538, 0.8611248240578051, 0.8611248240578051, 0.8611248240578051, 0.8611248240578051, 0.8611248240578051, 0.8693012596121626, 0.8693012596121626, 0.8693012596121626, 0.8693012596121626, 0.8693012596121626, 0.8693012596121626, 0.8693012596121626, 0.8693012596121626, 0.8693012596121626, 0.8693012596121626, 0.8693012596121626, 0.8693012596121626, 0.8693012596121626, 0.8693012596121626, 0.8693012596121626, 0.8693012596121626, 0.8693012596121626, 0.8693012596121626, 0.872391525428619, 0.8756027801236737, 0.8756027801236737, 0.8756027801236737, 0.8756027801236737, 0.8756027801236737, 0.8756027801236737, 0.8756027801236737, 0.8756027801236737, 0.8756027801236737, 0.8756027801236737, 0.8756027801236737, 0.8756027801236737, 0.890486504332042, 0.890486504332042, 0.890486504332042, 0.890486504332042, 0.890486504332042, 0.890486504332042, 0.890486504332042, 0.890486504332042, 0.890486504332042]}], \"AUC_micro\": [{\"categories\": [\"0\", \"1\", \"2\", \"3\", \"4\", \"5\", \"6\", \"7\", \"8\", \"9\", \"10\", \"11\", \"12\", \"13\", \"14\", \"15\", \"16\", \"17\", \"18\", \"19\", \"20\", \"21\", \"22\", \"23\", \"24\", \"25\", \"26\", \"27\", \"28\", \"29\", \"30\", \"31\", \"32\", \"33\", \"34\", \"35\", \"38\", \"39\", \"40\", \"41\", \"42\", \"43\", \"44\", \"45\", \"46\", \"47\", \"48\", \"49\", \"52\", \"53\"], \"mode\": \"markers\", \"name\": \"AUC_micro\", \"stepped\": false, \"type\": \"scatter\", \"data\": [0.8880105014523284, 0.8999905678444892, 0.9094696766574101, 0.8793899103067446, 0.9110921829614733, 0.9008580867566792, 0.9030962127741071, 0.902819145200932, 0.8553960866928405, 0.8076344600849055, 0.8822251268792491, 0.8937028152829647, 0.9051776628682691, 0.880096460148744, 0.8807351335823039, 0.6273795684509559, 0.8742184717035334, 0.8473804143126177, 0.8960731909732198, 0.9034644418908998, 0.8995527865555875, 0.8796220913530595, 0.8792764371668422, 0.9038210443997574, 0.9084084075457243, 0.8952854543713492, 0.909927399533978, 0.8222194452424272, 0.9009720386862012, 0.88399388745252, 0.8762298828561397, 0.9094549618564269, 0.9123671039611863, 0.9110219126049348, 0.910370423569217, 0.7859440454530946, 0.9047203868620128, 0.8793452711545212, 0.8631130581888986, 0.8789596859140094, 0.8848452711545214, 0.9057630948961026, 0.9068324555523637, 0.8875100545820166, 0.9005636790194387, 0.9174155415110601, 0.8799440294934406, 0.8907716652302978, 0.9271391681828339, 0.8748371955696002]}, {\"categories\": [\"0\", \"1\", \"2\", \"3\", \"4\", \"5\", \"6\", \"7\", \"8\", \"9\", \"10\", \"11\", \"12\", \"13\", \"14\", \"15\", \"16\", \"17\", \"18\", \"19\", \"20\", \"21\", \"22\", \"23\", \"24\", \"25\", \"26\", \"27\", \"28\", \"29\", \"30\", \"31\", \"32\", \"33\", \"34\", \"35\", \"38\", \"39\", \"40\", \"41\", \"42\", \"43\", \"44\", \"45\", \"46\", \"47\", \"48\", \"49\", \"52\", \"53\"], \"mode\": \"lines\", \"name\": \"AUC_micro_max\", \"stepped\": true, \"type\": \"scatter\", \"data\": [0.8880105014523284, 0.8999905678444892, 0.9094696766574101, 0.9094696766574101, 0.9110921829614733, 0.9110921829614733, 0.9110921829614733, 0.9110921829614733, 0.9110921829614733, 0.9110921829614733, 0.9110921829614733, 0.9110921829614733, 0.9110921829614733, 0.9110921829614733, 0.9110921829614733, 0.9110921829614733, 0.9110921829614733, 0.9110921829614733, 0.9110921829614733, 0.9110921829614733, 0.9110921829614733, 0.9110921829614733, 0.9110921829614733, 0.9110921829614733, 0.9110921829614733, 0.9110921829614733, 0.9110921829614733, 0.9110921829614733, 0.9110921829614733, 0.9110921829614733, 0.9110921829614733, 0.9110921829614733, 0.9123671039611863, 0.9123671039611863, 0.9123671039611863, 0.9123671039611863, 0.9123671039611863, 0.9123671039611863, 0.9123671039611863, 0.9123671039611863, 0.9123671039611863, 0.9123671039611863, 0.9123671039611863, 0.9123671039611863, 0.9123671039611863, 0.9174155415110601, 0.9174155415110601, 0.9174155415110601, 0.9271391681828339, 0.9271391681828339]}], \"f1_score_macro\": [{\"categories\": [\"0\", \"1\", \"2\", \"3\", \"4\", \"5\", \"6\", \"7\", \"8\", \"9\", \"10\", \"11\", \"12\", \"13\", \"14\", \"15\", \"16\", \"17\", \"18\", \"19\", \"20\", \"21\", \"22\", \"23\", \"24\", \"25\", \"26\", \"27\", \"28\", \"29\", \"30\", \"31\", \"32\", \"33\", \"34\", \"35\", \"38\", \"39\", \"40\", \"41\", \"42\", \"43\", \"44\", \"45\", \"46\", \"47\", \"48\", \"49\", \"52\", \"53\"], \"mode\": \"markers\", \"name\": \"f1_score_macro\", \"stepped\": false, \"type\": \"scatter\", \"data\": [0.7682096405971308, 0.7972526241921125, 0.8017965048701331, 0.6970114045115011, 0.7979390525202179, 0.7765251800056777, 0.7937635952375685, 0.794621399841988, 0.6524804108675075, 0.677864504364746, 0.7485731127204, 0.7761953115965083, 0.7921230946665585, 0.7858167613018765, 0.778960377377929, 0.5173668796330508, 0.6718366314267643, 0.7615868496915956, 0.7896207725270351, 0.7866232883423862, 0.796861616555619, 0.7665900753578432, 0.7827512797100743, 0.8017781466264836, 0.8075599875280058, 0.7956922659449794, 0.792952515980254, 0.5162412864637295, 0.793951801594368, 0.8096824318472666, 0.7072838568350738, 0.7930398881118105, 0.803339892426506, 0.7939553593981513, 0.8058290879653528, 0.5000405022088917, 0.8114582339701608, 0.7768120710169557, 0.7523939019680307, 0.7729521662332359, 0.7703178542388571, 0.8426687397986956, 0.8026452604547553, 0.7917306656351943, 0.8068983762607773, 0.8083087330784278, 0.7769082064865381, 0.7972965954614303, 0.836343911792978, 0.46862521646835364]}, {\"categories\": [\"0\", \"1\", \"2\", \"3\", \"4\", \"5\", \"6\", \"7\", \"8\", \"9\", \"10\", \"11\", \"12\", \"13\", \"14\", \"15\", \"16\", \"17\", \"18\", \"19\", \"20\", \"21\", \"22\", \"23\", \"24\", \"25\", \"26\", \"27\", \"28\", \"29\", \"30\", \"31\", \"32\", \"33\", \"34\", \"35\", \"38\", \"39\", \"40\", \"41\", \"42\", \"43\", \"44\", \"45\", \"46\", \"47\", \"48\", \"49\", \"52\", \"53\"], \"mode\": \"lines\", \"name\": \"f1_score_macro_max\", \"stepped\": true, \"type\": \"scatter\", \"data\": [0.7682096405971308, 0.7972526241921125, 0.8017965048701331, 0.8017965048701331, 0.8017965048701331, 0.8017965048701331, 0.8017965048701331, 0.8017965048701331, 0.8017965048701331, 0.8017965048701331, 0.8017965048701331, 0.8017965048701331, 0.8017965048701331, 0.8017965048701331, 0.8017965048701331, 0.8017965048701331, 0.8017965048701331, 0.8017965048701331, 0.8017965048701331, 0.8017965048701331, 0.8017965048701331, 0.8017965048701331, 0.8017965048701331, 0.8017965048701331, 0.8075599875280058, 0.8075599875280058, 0.8075599875280058, 0.8075599875280058, 0.8075599875280058, 0.8096824318472666, 0.8096824318472666, 0.8096824318472666, 0.8096824318472666, 0.8096824318472666, 0.8096824318472666, 0.8096824318472666, 0.8114582339701608, 0.8114582339701608, 0.8114582339701608, 0.8114582339701608, 0.8114582339701608, 0.8426687397986956, 0.8426687397986956, 0.8426687397986956, 0.8426687397986956, 0.8426687397986956, 0.8426687397986956, 0.8426687397986956, 0.8426687397986956, 0.8426687397986956]}], \"average_precision_score_weighted\": [{\"categories\": [\"0\", \"1\", \"2\", \"3\", \"4\", \"5\", \"6\", \"7\", \"8\", \"9\", \"10\", \"11\", \"12\", \"13\", \"14\", \"15\", \"16\", \"17\", \"18\", \"19\", \"20\", \"21\", \"22\", \"23\", \"24\", \"25\", \"26\", \"27\", \"28\", \"29\", \"30\", \"31\", \"32\", \"33\", \"34\", \"35\", \"38\", \"39\", \"40\", \"41\", \"42\", \"43\", \"44\", \"45\", \"46\", \"47\", \"48\", \"49\", \"52\", \"53\"], \"mode\": \"markers\", \"name\": \"average_precision_score_weighted\", \"stepped\": false, \"type\": \"scatter\", \"data\": [0.8955370396295249, 0.9103506263314479, 0.9173852073364758, 0.8994571823422394, 0.9155217257068022, 0.904364836431838, 0.9075006416403614, 0.9075809668417808, 0.8778526865635532, 0.7862334416854537, 0.9064414483374094, 0.9101434668136031, 0.9215874011187646, 0.8883302015493332, 0.8889141186706832, 0.6031702289152213, 0.9120980766805842, 0.8563689471881926, 0.9117448307349406, 0.919057585478878, 0.9059641695085572, 0.8889524502516097, 0.8750461687609109, 0.9102791215546692, 0.9112364060446622, 0.9099031468176264, 0.9149710260842878, 0.857171522290308, 0.9236699959263388, 0.865345515887191, 0.9028193205003493, 0.9219088046260795, 0.9198666910823382, 0.9284476755992092, 0.9190163665523586, 0.7673638706554726, 0.9138207071746194, 0.8906688081373607, 0.8651841150917878, 0.874844318303019, 0.9045538671669101, 0.9121897751979653, 0.9181837246350548, 0.9062109255388512, 0.9023369315492454, 0.9279685813975103, 0.8834553640512148, 0.9027762092699959, 0.9381112777032025, 0.9333980265220575]}, {\"categories\": [\"0\", \"1\", \"2\", \"3\", \"4\", \"5\", \"6\", \"7\", \"8\", \"9\", \"10\", \"11\", \"12\", \"13\", \"14\", \"15\", \"16\", \"17\", \"18\", \"19\", \"20\", \"21\", \"22\", \"23\", \"24\", \"25\", \"26\", \"27\", \"28\", \"29\", \"30\", \"31\", \"32\", \"33\", \"34\", \"35\", \"38\", \"39\", \"40\", \"41\", \"42\", \"43\", \"44\", \"45\", \"46\", \"47\", \"48\", \"49\", \"52\", \"53\"], \"mode\": \"lines\", \"name\": \"average_precision_score_weighted_max\", \"stepped\": true, \"type\": \"scatter\", \"data\": [0.8955370396295249, 0.9103506263314479, 0.9173852073364758, 0.9173852073364758, 0.9173852073364758, 0.9173852073364758, 0.9173852073364758, 0.9173852073364758, 0.9173852073364758, 0.9173852073364758, 0.9173852073364758, 0.9173852073364758, 0.9215874011187646, 0.9215874011187646, 0.9215874011187646, 0.9215874011187646, 0.9215874011187646, 0.9215874011187646, 0.9215874011187646, 0.9215874011187646, 0.9215874011187646, 0.9215874011187646, 0.9215874011187646, 0.9215874011187646, 0.9215874011187646, 0.9215874011187646, 0.9215874011187646, 0.9215874011187646, 0.9236699959263388, 0.9236699959263388, 0.9236699959263388, 0.9236699959263388, 0.9236699959263388, 0.9284476755992092, 0.9284476755992092, 0.9284476755992092, 0.9284476755992092, 0.9284476755992092, 0.9284476755992092, 0.9284476755992092, 0.9284476755992092, 0.9284476755992092, 0.9284476755992092, 0.9284476755992092, 0.9284476755992092, 0.9284476755992092, 0.9284476755992092, 0.9284476755992092, 0.9381112777032025, 0.9381112777032025]}], \"average_precision_score_macro\": [{\"categories\": [\"0\", \"1\", \"2\", \"3\", \"4\", \"5\", \"6\", \"7\", \"8\", \"9\", \"10\", \"11\", \"12\", \"13\", \"14\", \"15\", \"16\", \"17\", \"18\", \"19\", \"20\", \"21\", \"22\", \"23\", \"24\", \"25\", \"26\", \"27\", \"28\", \"29\", \"30\", \"31\", \"32\", \"33\", \"34\", \"35\", \"38\", \"39\", \"40\", \"41\", \"42\", \"43\", \"44\", \"45\", \"46\", \"47\", \"48\", \"49\", \"52\", \"53\"], \"mode\": \"markers\", \"name\": \"average_precision_score_macro\", \"stepped\": false, \"type\": \"scatter\", \"data\": [0.8655792376041671, 0.8826936933050062, 0.8942047368313597, 0.8700448022943063, 0.8907150034593118, 0.8721960650355461, 0.8829102149507996, 0.8823916427555932, 0.8432345315449867, 0.7455889577323558, 0.8841112159960064, 0.8863447473203893, 0.8950761399913713, 0.8510122029604735, 0.8512632946956369, 0.5525347928626576, 0.8870981060308921, 0.8154133723916666, 0.8836029440981354, 0.8968251072606875, 0.8740577090764589, 0.8532940847010497, 0.8445439843296038, 0.8859177092063772, 0.8866784952490686, 0.8796218638503273, 0.8910509696843514, 0.8219306543453037, 0.8993799131055477, 0.8347790287141981, 0.8778949409495468, 0.8991178617034159, 0.8960368340809566, 0.9072883282281261, 0.8950295729092101, 0.7055778497363783, 0.8868371568277335, 0.8571347747087176, 0.8249705300323624, 0.8439457628971774, 0.8784549197133644, 0.8830875749392616, 0.893887939541818, 0.8777302298901303, 0.8757225972424768, 0.9047468118817752, 0.8564691787706348, 0.8760218001471836, 0.9176143083457242, 0.9120121693152804]}, {\"categories\": [\"0\", \"1\", \"2\", \"3\", \"4\", \"5\", \"6\", \"7\", \"8\", \"9\", \"10\", \"11\", \"12\", \"13\", \"14\", \"15\", \"16\", \"17\", \"18\", \"19\", \"20\", \"21\", \"22\", \"23\", \"24\", \"25\", \"26\", \"27\", \"28\", \"29\", \"30\", \"31\", \"32\", \"33\", \"34\", \"35\", \"38\", \"39\", \"40\", \"41\", \"42\", \"43\", \"44\", \"45\", \"46\", \"47\", \"48\", \"49\", \"52\", \"53\"], \"mode\": \"lines\", \"name\": \"average_precision_score_macro_max\", \"stepped\": true, \"type\": \"scatter\", \"data\": [0.8655792376041671, 0.8826936933050062, 0.8942047368313597, 0.8942047368313597, 0.8942047368313597, 0.8942047368313597, 0.8942047368313597, 0.8942047368313597, 0.8942047368313597, 0.8942047368313597, 0.8942047368313597, 0.8942047368313597, 0.8950761399913713, 0.8950761399913713, 0.8950761399913713, 0.8950761399913713, 0.8950761399913713, 0.8950761399913713, 0.8950761399913713, 0.8968251072606875, 0.8968251072606875, 0.8968251072606875, 0.8968251072606875, 0.8968251072606875, 0.8968251072606875, 0.8968251072606875, 0.8968251072606875, 0.8968251072606875, 0.8993799131055477, 0.8993799131055477, 0.8993799131055477, 0.8993799131055477, 0.8993799131055477, 0.9072883282281261, 0.9072883282281261, 0.9072883282281261, 0.9072883282281261, 0.9072883282281261, 0.9072883282281261, 0.9072883282281261, 0.9072883282281261, 0.9072883282281261, 0.9072883282281261, 0.9072883282281261, 0.9072883282281261, 0.9072883282281261, 0.9072883282281261, 0.9072883282281261, 0.9176143083457242, 0.9176143083457242]}], \"precision_score_macro\": [{\"categories\": [\"0\", \"1\", \"2\", \"3\", \"4\", \"5\", \"6\", \"7\", \"8\", \"9\", \"10\", \"11\", \"12\", \"13\", \"14\", \"15\", \"16\", \"17\", \"18\", \"19\", \"20\", \"21\", \"22\", \"23\", \"24\", \"25\", \"26\", \"27\", \"28\", \"29\", \"30\", \"31\", \"32\", \"33\", \"34\", \"35\", \"38\", \"39\", \"40\", \"41\", \"42\", \"43\", \"44\", \"45\", \"46\", \"47\", \"48\", \"49\", \"52\", \"53\"], \"mode\": \"markers\", \"name\": \"precision_score_macro\", \"stepped\": false, \"type\": \"scatter\", \"data\": [0.7889041743265773, 0.8086642059265495, 0.8085742212346944, 0.7960400281324651, 0.8016187601723127, 0.8233542657106486, 0.8046642615870063, 0.8181632040167847, 0.7800026387473669, 0.7573881765399129, 0.8568841502345339, 0.8459054261169336, 0.7876155996117485, 0.8109524825683231, 0.789041891344523, 0.5343494917780632, 0.8058390804597699, 0.7737675139254572, 0.7870058487398492, 0.8193051204115033, 0.8122887235326193, 0.771168880318766, 0.7955119468413145, 0.818915330172237, 0.8217160764562659, 0.7906208296397084, 0.7959063924891198, 0.8320753320525691, 0.8493438972488221, 0.8342662560332667, 0.8272373203159326, 0.7920469578381543, 0.8175228310010919, 0.7916061745272271, 0.8266297147194465, 0.5025623069740717, 0.8296288196265069, 0.8081734986343239, 0.7629075153304171, 0.8261940476846673, 0.8107871182603574, 0.872463834474704, 0.7978531240236046, 0.8000554521206695, 0.8427423782478627, 0.8086731554399134, 0.8122371529436748, 0.8283040329235982, 0.8563525276280952, 0.45152081171451625]}, {\"categories\": [\"0\", \"1\", \"2\", \"3\", \"4\", \"5\", \"6\", \"7\", \"8\", \"9\", \"10\", \"11\", \"12\", \"13\", \"14\", \"15\", \"16\", \"17\", \"18\", \"19\", \"20\", \"21\", \"22\", \"23\", \"24\", \"25\", \"26\", \"27\", \"28\", \"29\", \"30\", \"31\", \"32\", \"33\", \"34\", \"35\", \"38\", \"39\", \"40\", \"41\", \"42\", \"43\", \"44\", \"45\", \"46\", \"47\", \"48\", \"49\", \"52\", \"53\"], \"mode\": \"lines\", \"name\": \"precision_score_macro_max\", \"stepped\": true, \"type\": \"scatter\", \"data\": [0.7889041743265773, 0.8086642059265495, 0.8086642059265495, 0.8086642059265495, 0.8086642059265495, 0.8233542657106486, 0.8233542657106486, 0.8233542657106486, 0.8233542657106486, 0.8233542657106486, 0.8568841502345339, 0.8568841502345339, 0.8568841502345339, 0.8568841502345339, 0.8568841502345339, 0.8568841502345339, 0.8568841502345339, 0.8568841502345339, 0.8568841502345339, 0.8568841502345339, 0.8568841502345339, 0.8568841502345339, 0.8568841502345339, 0.8568841502345339, 0.8568841502345339, 0.8568841502345339, 0.8568841502345339, 0.8568841502345339, 0.8568841502345339, 0.8568841502345339, 0.8568841502345339, 0.8568841502345339, 0.8568841502345339, 0.8568841502345339, 0.8568841502345339, 0.8568841502345339, 0.8568841502345339, 0.8568841502345339, 0.8568841502345339, 0.8568841502345339, 0.8568841502345339, 0.872463834474704, 0.872463834474704, 0.872463834474704, 0.872463834474704, 0.872463834474704, 0.872463834474704, 0.872463834474704, 0.872463834474704, 0.872463834474704]}], \"matthews_correlation\": [{\"categories\": [\"0\", \"1\", \"2\", \"3\", \"4\", \"5\", \"6\", \"7\", \"8\", \"9\", \"10\", \"11\", \"12\", \"13\", \"14\", \"15\", \"16\", \"17\", \"18\", \"19\", \"20\", \"21\", \"22\", \"23\", \"24\", \"25\", \"26\", \"27\", \"28\", \"29\", \"30\", \"31\", \"32\", \"33\", \"34\", \"35\", \"38\", \"39\", \"40\", \"41\", \"42\", \"43\", \"44\", \"45\", \"46\", \"47\", \"48\", \"49\", \"52\", \"53\"], \"mode\": \"markers\", \"name\": \"matthews_correlation\", \"stepped\": false, \"type\": \"scatter\", \"data\": [0.5628617041183437, 0.6132552509330647, 0.6200890655401926, 0.4705088714166207, 0.6097436760747492, 0.5874265158621549, 0.6005789570084485, 0.6108158063942473, 0.41059221761845066, 0.416717014557646, 0.5678394695381416, 0.6007799569641813, 0.6109256783475289, 0.6019732997198831, 0.5794267787816374, 0.06532248141362067, 0.448729169406718, 0.5462619072468244, 0.6012472057060912, 0.6085141333410464, 0.6164540781825368, 0.5457972383695364, 0.5799759651614179, 0.6253243883210196, 0.6349631713310113, 0.6051246636109366, 0.6018521690235333, 0.2719166927469664, 0.6282109620387628, 0.6352756555411476, 0.5065501115861701, 0.6033697628818347, 0.6274309016561259, 0.6038468459893493, 0.6345326778937685, 0.15234864048554295, 0.6447484517161443, 0.590829539771007, 0.5166773128580301, 0.5772459868463906, 0.5756816923554033, 0.709382166406126, 0.616108713867489, 0.6102776299325247, 0.6382716252510556, 0.6282495297035318, 0.5871034578705034, 0.6178231972574668, 0.69066326054509, 0.10130345833461925]}, {\"categories\": [\"0\", \"1\", \"2\", \"3\", \"4\", \"5\", \"6\", \"7\", \"8\", \"9\", \"10\", \"11\", \"12\", \"13\", \"14\", \"15\", \"16\", \"17\", \"18\", \"19\", \"20\", \"21\", \"22\", \"23\", \"24\", \"25\", \"26\", \"27\", \"28\", \"29\", \"30\", \"31\", \"32\", \"33\", \"34\", \"35\", \"38\", \"39\", \"40\", \"41\", \"42\", \"43\", \"44\", \"45\", \"46\", \"47\", \"48\", \"49\", \"52\", \"53\"], \"mode\": \"lines\", \"name\": \"matthews_correlation_max\", \"stepped\": true, \"type\": \"scatter\", \"data\": [0.5628617041183437, 0.6132552509330647, 0.6200890655401926, 0.6200890655401926, 0.6200890655401926, 0.6200890655401926, 0.6200890655401926, 0.6200890655401926, 0.6200890655401926, 0.6200890655401926, 0.6200890655401926, 0.6200890655401926, 0.6200890655401926, 0.6200890655401926, 0.6200890655401926, 0.6200890655401926, 0.6200890655401926, 0.6200890655401926, 0.6200890655401926, 0.6200890655401926, 0.6200890655401926, 0.6200890655401926, 0.6200890655401926, 0.6253243883210196, 0.6349631713310113, 0.6349631713310113, 0.6349631713310113, 0.6349631713310113, 0.6349631713310113, 0.6352756555411476, 0.6352756555411476, 0.6352756555411476, 0.6352756555411476, 0.6352756555411476, 0.6352756555411476, 0.6352756555411476, 0.6447484517161443, 0.6447484517161443, 0.6447484517161443, 0.6447484517161443, 0.6447484517161443, 0.709382166406126, 0.709382166406126, 0.709382166406126, 0.709382166406126, 0.709382166406126, 0.709382166406126, 0.709382166406126, 0.709382166406126, 0.709382166406126]}], \"recall_score_weighted\": [{\"categories\": [\"0\", \"1\", \"2\", \"3\", \"4\", \"5\", \"6\", \"7\", \"8\", \"9\", \"10\", \"11\", \"12\", \"13\", \"14\", \"15\", \"16\", \"17\", \"18\", \"19\", \"20\", \"21\", \"22\", \"23\", \"24\", \"25\", \"26\", \"27\", \"28\", \"29\", \"30\", \"31\", \"32\", \"33\", \"34\", \"35\", \"38\", \"39\", \"40\", \"41\", \"42\", \"43\", \"44\", \"45\", \"46\", \"47\", \"48\", \"49\", \"52\", \"53\"], \"mode\": \"markers\", \"name\": \"recall_score_weighted\", \"stepped\": false, \"type\": \"scatter\", \"data\": [0.8059887005649717, 0.8259322033898304, 0.8325423728813559, 0.782542372881356, 0.8258757062146893, 0.8228248587570622, 0.822598870056497, 0.8293785310734464, 0.7592090395480225, 0.7593220338983051, 0.8128813559322035, 0.8261581920903955, 0.8124293785310736, 0.8227118644067797, 0.8125423728813559, 0.6153107344632769, 0.7659322033898306, 0.7959322033898306, 0.8125423728813559, 0.822768361581921, 0.8290960451977402, 0.7993785310734464, 0.8193785310734463, 0.8359887005649718, 0.8394350282485876, 0.8191525423728814, 0.8226553672316383, 0.7125423728813558, 0.8361581920903955, 0.846045197740113, 0.7861016949152542, 0.8191525423728814, 0.836045197740113, 0.8191525423728814, 0.8394350282485876, 0.7059322033898305, 0.8425988700564971, 0.8160451977401131, 0.7927683615819208, 0.822768361581921, 0.8160451977401131, 0.8697175141242937, 0.8291525423728814, 0.8192090395480227, 0.8428813559322034, 0.8358757062146893, 0.8193785310734463, 0.836045197740113, 0.8629378531073446, 0.7157627118644067]}, {\"categories\": [\"0\", \"1\", \"2\", \"3\", \"4\", \"5\", \"6\", \"7\", \"8\", \"9\", \"10\", \"11\", \"12\", \"13\", \"14\", \"15\", \"16\", \"17\", \"18\", \"19\", \"20\", \"21\", \"22\", \"23\", \"24\", \"25\", \"26\", \"27\", \"28\", \"29\", \"30\", \"31\", \"32\", \"33\", \"34\", \"35\", \"38\", \"39\", \"40\", \"41\", \"42\", \"43\", \"44\", \"45\", \"46\", \"47\", \"48\", \"49\", \"52\", \"53\"], \"mode\": \"lines\", \"name\": \"recall_score_weighted_max\", \"stepped\": true, \"type\": \"scatter\", \"data\": [0.8059887005649717, 0.8259322033898304, 0.8325423728813559, 0.8325423728813559, 0.8325423728813559, 0.8325423728813559, 0.8325423728813559, 0.8325423728813559, 0.8325423728813559, 0.8325423728813559, 0.8325423728813559, 0.8325423728813559, 0.8325423728813559, 0.8325423728813559, 0.8325423728813559, 0.8325423728813559, 0.8325423728813559, 0.8325423728813559, 0.8325423728813559, 0.8325423728813559, 0.8325423728813559, 0.8325423728813559, 0.8325423728813559, 0.8359887005649718, 0.8394350282485876, 0.8394350282485876, 0.8394350282485876, 0.8394350282485876, 0.8394350282485876, 0.846045197740113, 0.846045197740113, 0.846045197740113, 0.846045197740113, 0.846045197740113, 0.846045197740113, 0.846045197740113, 0.846045197740113, 0.846045197740113, 0.846045197740113, 0.846045197740113, 0.846045197740113, 0.8697175141242937, 0.8697175141242937, 0.8697175141242937, 0.8697175141242937, 0.8697175141242937, 0.8697175141242937, 0.8697175141242937, 0.8697175141242937, 0.8697175141242937]}], \"log_loss\": [{\"categories\": [\"0\", \"1\", \"2\", \"3\", \"4\", \"5\", \"6\", \"7\", \"8\", \"9\", \"10\", \"11\", \"12\", \"13\", \"14\", \"15\", \"16\", \"17\", \"18\", \"19\", \"20\", \"21\", \"22\", \"23\", \"24\", \"25\", \"26\", \"27\", \"28\", \"29\", \"30\", \"31\", \"32\", \"33\", \"34\", \"35\", \"38\", \"39\", \"40\", \"41\", \"42\", \"43\", \"44\", \"45\", \"46\", \"47\", \"48\", \"49\", \"52\", \"53\"], \"mode\": \"markers\", \"name\": \"log_loss\", \"stepped\": false, \"type\": \"scatter\", \"data\": [0.5282491261622873, 0.43217688137359717, 0.38531022660299774, 0.467879269431165, 0.391107738451814, 0.41107015114083784, 0.49625358014093435, 0.40866323202417043, 0.4947735058237369, 1.292911173952953, 0.4742123361970526, 0.44513760010169856, 0.43160430166499086, 0.4261603481584098, 0.4561737387658772, 0.8093375881662283, 0.47916770439445233, 0.6321957677742929, 0.5259868114487223, 0.4840841195277533, 0.4046282158199691, 0.512198408805087, 0.49324825312732185, 0.39027268909343743, 0.39639342613900086, 0.4399250010823808, 0.421736490444174, 0.5556798155280688, 0.4386081474006045, 0.4204754267976896, 0.4875601161515622, 0.46506827858703453, 0.3800293170281463, 0.41898126034244304, 0.38095626934830873, 0.574447754036329, 0.4075297253796041, 0.4350226647344175, 0.4717805823287587, 0.4953485164249628, 0.4761686574014415, 0.410854942644942, 0.4019597374204432, 0.42643463520738756, 0.5009870664806401, 0.38692107223659655, 0.4762111558741241, 0.45534713279399525, 0.3953965133064009, 0.5620122510699501]}, {\"categories\": [\"0\", \"1\", \"2\", \"3\", \"4\", \"5\", \"6\", \"7\", \"8\", \"9\", \"10\", \"11\", \"12\", \"13\", \"14\", \"15\", \"16\", \"17\", \"18\", \"19\", \"20\", \"21\", \"22\", \"23\", \"24\", \"25\", \"26\", \"27\", \"28\", \"29\", \"30\", \"31\", \"32\", \"33\", \"34\", \"35\", \"38\", \"39\", \"40\", \"41\", \"42\", \"43\", \"44\", \"45\", \"46\", \"47\", \"48\", \"49\", \"52\", \"53\"], \"mode\": \"lines\", \"name\": \"log_loss_min\", \"stepped\": true, \"type\": \"scatter\", \"data\": [0.5282491261622873, 0.43217688137359717, 0.38531022660299774, 0.38531022660299774, 0.38531022660299774, 0.38531022660299774, 0.38531022660299774, 0.38531022660299774, 0.38531022660299774, 0.38531022660299774, 0.38531022660299774, 0.38531022660299774, 0.38531022660299774, 0.38531022660299774, 0.38531022660299774, 0.38531022660299774, 0.38531022660299774, 0.38531022660299774, 0.38531022660299774, 0.38531022660299774, 0.38531022660299774, 0.38531022660299774, 0.38531022660299774, 0.38531022660299774, 0.38531022660299774, 0.38531022660299774, 0.38531022660299774, 0.38531022660299774, 0.38531022660299774, 0.38531022660299774, 0.38531022660299774, 0.38531022660299774, 0.3800293170281463, 0.3800293170281463, 0.3800293170281463, 0.3800293170281463, 0.3800293170281463, 0.3800293170281463, 0.3800293170281463, 0.3800293170281463, 0.3800293170281463, 0.3800293170281463, 0.3800293170281463, 0.3800293170281463, 0.3800293170281463, 0.3800293170281463, 0.3800293170281463, 0.3800293170281463, 0.3800293170281463, 0.3800293170281463]}], \"precision_score_weighted\": [{\"categories\": [\"0\", \"1\", \"2\", \"3\", \"4\", \"5\", \"6\", \"7\", \"8\", \"9\", \"10\", \"11\", \"12\", \"13\", \"14\", \"15\", \"16\", \"17\", \"18\", \"19\", \"20\", \"21\", \"22\", \"23\", \"24\", \"25\", \"26\", \"27\", \"28\", \"29\", \"30\", \"31\", \"32\", \"33\", \"34\", \"35\", \"38\", \"39\", \"40\", \"41\", \"42\", \"43\", \"44\", \"45\", \"46\", \"47\", \"48\", \"49\", \"52\", \"53\"], \"mode\": \"markers\", \"name\": \"precision_score_weighted\", \"stepped\": false, \"type\": \"scatter\", \"data\": [0.8237683758533973, 0.8403871377947292, 0.8461960843753304, 0.8025148805901405, 0.8407464894413508, 0.8341202573921651, 0.8323770506079822, 0.842206963712664, 0.7842700674817156, 0.7695882951514441, 0.8399248246673672, 0.845027509564197, 0.8475345463079267, 0.8438901283454351, 0.8305587465639503, 0.6019922322856948, 0.8028781955538238, 0.8210800091132114, 0.8406314467983567, 0.8449394581537387, 0.8473575878903651, 0.8119740215698406, 0.8290628723824671, 0.8495723516958609, 0.853058462508635, 0.8389670228902668, 0.8395730240981756, 0.793737268094523, 0.8543563177822261, 0.8523734049721758, 0.8186281319775418, 0.8413947554637877, 0.8501215314450393, 0.8407365614858925, 0.8523939168681169, 0.5786452470021762, 0.858410399260052, 0.8409258788158359, 0.7978459570942991, 0.8311337879036478, 0.8312449988859376, 0.8856775262593244, 0.8453159519660314, 0.8465822082358561, 0.8536159482908546, 0.8493104786324539, 0.8354339791053128, 0.8461817675487536, 0.8743951425377446, 0.5750048159070198]}, {\"categories\": [\"0\", \"1\", \"2\", \"3\", \"4\", \"5\", \"6\", \"7\", \"8\", \"9\", \"10\", \"11\", \"12\", \"13\", \"14\", \"15\", \"16\", \"17\", \"18\", \"19\", \"20\", \"21\", \"22\", \"23\", \"24\", \"25\", \"26\", \"27\", \"28\", \"29\", \"30\", \"31\", \"32\", \"33\", \"34\", \"35\", \"38\", \"39\", \"40\", \"41\", \"42\", \"43\", \"44\", \"45\", \"46\", \"47\", \"48\", \"49\", \"52\", \"53\"], \"mode\": \"lines\", \"name\": \"precision_score_weighted_max\", \"stepped\": true, \"type\": \"scatter\", \"data\": [0.8237683758533973, 0.8403871377947292, 0.8461960843753304, 0.8461960843753304, 0.8461960843753304, 0.8461960843753304, 0.8461960843753304, 0.8461960843753304, 0.8461960843753304, 0.8461960843753304, 0.8461960843753304, 0.8461960843753304, 0.8475345463079267, 0.8475345463079267, 0.8475345463079267, 0.8475345463079267, 0.8475345463079267, 0.8475345463079267, 0.8475345463079267, 0.8475345463079267, 0.8475345463079267, 0.8475345463079267, 0.8475345463079267, 0.8495723516958609, 0.853058462508635, 0.853058462508635, 0.853058462508635, 0.853058462508635, 0.8543563177822261, 0.8543563177822261, 0.8543563177822261, 0.8543563177822261, 0.8543563177822261, 0.8543563177822261, 0.8543563177822261, 0.8543563177822261, 0.858410399260052, 0.858410399260052, 0.858410399260052, 0.858410399260052, 0.858410399260052, 0.8856775262593244, 0.8856775262593244, 0.8856775262593244, 0.8856775262593244, 0.8856775262593244, 0.8856775262593244, 0.8856775262593244, 0.8856775262593244, 0.8856775262593244]}], \"norm_macro_recall\": [{\"categories\": [\"0\", \"1\", \"2\", \"3\", \"4\", \"5\", \"6\", \"7\", \"8\", \"9\", \"10\", \"11\", \"12\", \"13\", \"14\", \"15\", \"16\", \"17\", \"18\", \"19\", \"20\", \"21\", \"22\", \"23\", \"24\", \"25\", \"26\", \"27\", \"28\", \"29\", \"30\", \"31\", \"32\", \"33\", \"34\", \"35\", \"38\", \"39\", \"40\", \"41\", \"42\", \"43\", \"44\", \"45\", \"46\", \"47\", \"48\", \"49\", \"52\", \"53\"], \"mode\": \"markers\", \"name\": \"norm_macro_recall\", \"stepped\": false, \"type\": \"scatter\", \"data\": [0.5520418050941306, 0.6120251937984496, 0.6263109080841638, 0.38261074197120715, 0.6179692691029901, 0.538265503875969, 0.5932668881506091, 0.5887001661129568, 0.3083250276854928, 0.34136074197120714, 0.45357142857142857, 0.5286309523809524, 0.6509800664451827, 0.5884191583610188, 0.5838192137320044, 0.07768133997785158, 0.35033222591362123, 0.5485215946843853, 0.632952657807309, 0.5869905869324474, 0.6119573643410854, 0.5516334440753046, 0.5710977297895903, 0.6166846622369878, 0.6302727021040975, 0.6309288482834995, 0.6147715946843855, 0.11761904761904765, 0.5693964562569214, 0.6044310631229235, 0.39916666666666667, 0.6258098006644517, 0.6234786821705426, 0.6271193244739757, 0.6201536544850498, 0.1131976744186046, 0.6337596899224807, 0.5741334440753045, 0.5091846622369879, 0.5119476744186047, 0.5374072535991139, 0.6796428571428571, 0.6385562015503876, 0.6255717054263565, 0.5961143410852714, 0.6409454595791806, 0.5570501107419712, 0.5830024916943521, 0.6725512181616834, 0.07857142857142856]}, {\"categories\": [\"0\", \"1\", \"2\", \"3\", \"4\", \"5\", \"6\", \"7\", \"8\", \"9\", \"10\", \"11\", \"12\", \"13\", \"14\", \"15\", \"16\", \"17\", \"18\", \"19\", \"20\", \"21\", \"22\", \"23\", \"24\", \"25\", \"26\", \"27\", \"28\", \"29\", \"30\", \"31\", \"32\", \"33\", \"34\", \"35\", \"38\", \"39\", \"40\", \"41\", \"42\", \"43\", \"44\", \"45\", \"46\", \"47\", \"48\", \"49\", \"52\", \"53\"], \"mode\": \"lines\", \"name\": \"norm_macro_recall_max\", \"stepped\": true, \"type\": \"scatter\", \"data\": [0.5520418050941306, 0.6120251937984496, 0.6263109080841638, 0.6263109080841638, 0.6263109080841638, 0.6263109080841638, 0.6263109080841638, 0.6263109080841638, 0.6263109080841638, 0.6263109080841638, 0.6263109080841638, 0.6263109080841638, 0.6509800664451827, 0.6509800664451827, 0.6509800664451827, 0.6509800664451827, 0.6509800664451827, 0.6509800664451827, 0.6509800664451827, 0.6509800664451827, 0.6509800664451827, 0.6509800664451827, 0.6509800664451827, 0.6509800664451827, 0.6509800664451827, 0.6509800664451827, 0.6509800664451827, 0.6509800664451827, 0.6509800664451827, 0.6509800664451827, 0.6509800664451827, 0.6509800664451827, 0.6509800664451827, 0.6509800664451827, 0.6509800664451827, 0.6509800664451827, 0.6509800664451827, 0.6509800664451827, 0.6509800664451827, 0.6509800664451827, 0.6509800664451827, 0.6796428571428571, 0.6796428571428571, 0.6796428571428571, 0.6796428571428571, 0.6796428571428571, 0.6796428571428571, 0.6796428571428571, 0.6796428571428571, 0.6796428571428571]}], \"accuracy\": [{\"categories\": [\"0\", \"1\", \"2\", \"3\", \"4\", \"5\", \"6\", \"7\", \"8\", \"9\", \"10\", \"11\", \"12\", \"13\", \"14\", \"15\", \"16\", \"17\", \"18\", \"19\", \"20\", \"21\", \"22\", \"23\", \"24\", \"25\", \"26\", \"27\", \"28\", \"29\", \"30\", \"31\", \"32\", \"33\", \"34\", \"35\", \"38\", \"39\", \"40\", \"41\", \"42\", \"43\", \"44\", \"45\", \"46\", \"47\", \"48\", \"49\", \"52\", \"53\"], \"mode\": \"markers\", \"name\": \"accuracy\", \"stepped\": false, \"type\": \"scatter\", \"data\": [0.8059887005649717, 0.8259322033898304, 0.8325423728813559, 0.782542372881356, 0.8258757062146893, 0.8228248587570622, 0.822598870056497, 0.8293785310734464, 0.7592090395480225, 0.7593220338983051, 0.8128813559322035, 0.8261581920903955, 0.8124293785310736, 0.8227118644067797, 0.8125423728813559, 0.6153107344632769, 0.7659322033898306, 0.7959322033898306, 0.8125423728813559, 0.822768361581921, 0.8290960451977402, 0.7993785310734464, 0.8193785310734463, 0.8359887005649718, 0.8394350282485876, 0.8191525423728814, 0.8226553672316383, 0.7125423728813558, 0.8361581920903955, 0.846045197740113, 0.7861016949152542, 0.8191525423728814, 0.836045197740113, 0.8191525423728814, 0.8394350282485876, 0.7059322033898305, 0.8425988700564971, 0.8160451977401131, 0.7927683615819208, 0.822768361581921, 0.8160451977401131, 0.8697175141242937, 0.8291525423728814, 0.8192090395480227, 0.8428813559322034, 0.8358757062146893, 0.8193785310734463, 0.836045197740113, 0.8629378531073446, 0.7157627118644067]}, {\"categories\": [\"0\", \"1\", \"2\", \"3\", \"4\", \"5\", \"6\", \"7\", \"8\", \"9\", \"10\", \"11\", \"12\", \"13\", \"14\", \"15\", \"16\", \"17\", \"18\", \"19\", \"20\", \"21\", \"22\", \"23\", \"24\", \"25\", \"26\", \"27\", \"28\", \"29\", \"30\", \"31\", \"32\", \"33\", \"34\", \"35\", \"38\", \"39\", \"40\", \"41\", \"42\", \"43\", \"44\", \"45\", \"46\", \"47\", \"48\", \"49\", \"52\", \"53\"], \"mode\": \"lines\", \"name\": \"accuracy_max\", \"stepped\": true, \"type\": \"scatter\", \"data\": [0.8059887005649717, 0.8259322033898304, 0.8325423728813559, 0.8325423728813559, 0.8325423728813559, 0.8325423728813559, 0.8325423728813559, 0.8325423728813559, 0.8325423728813559, 0.8325423728813559, 0.8325423728813559, 0.8325423728813559, 0.8325423728813559, 0.8325423728813559, 0.8325423728813559, 0.8325423728813559, 0.8325423728813559, 0.8325423728813559, 0.8325423728813559, 0.8325423728813559, 0.8325423728813559, 0.8325423728813559, 0.8325423728813559, 0.8359887005649718, 0.8394350282485876, 0.8394350282485876, 0.8394350282485876, 0.8394350282485876, 0.8394350282485876, 0.846045197740113, 0.846045197740113, 0.846045197740113, 0.846045197740113, 0.846045197740113, 0.846045197740113, 0.846045197740113, 0.846045197740113, 0.846045197740113, 0.846045197740113, 0.846045197740113, 0.846045197740113, 0.8697175141242937, 0.8697175141242937, 0.8697175141242937, 0.8697175141242937, 0.8697175141242937, 0.8697175141242937, 0.8697175141242937, 0.8697175141242937, 0.8697175141242937]}]}, \"metricName\": null, \"primaryMetricName\": \"AUC_weighted\", \"showLegend\": false}, \"run_metrics\": [{\"name\": \"experiment_status\", \"run_id\": \"AutoML_ef15e003-9024-458d-bef1-ff584eb1739a\", \"categories\": [0, 1, 2, 3, 4, 5, 6, 7, 8, 9, 10, 11, 12, 13], \"series\": [{\"data\": [\"DatasetEvaluation\", \"FeaturesGeneration\", \"DatasetFeaturization\", \"DatasetFeaturizationCompleted\", \"DatasetCrossValidationSplit\", \"ModelSelection\", \"BestRunExplainModel\", \"ModelExplanationDataSetSetup\", \"PickSurrogateModel\", \"EngineeredFeatureExplanations\", \"EngineeredFeatureExplanations\", \"RawFeaturesExplanations\", \"RawFeaturesExplanations\", \"BestRunExplainModel\"]}]}, {\"name\": \"experiment_status_description\", \"run_id\": \"AutoML_ef15e003-9024-458d-bef1-ff584eb1739a\", \"categories\": [0, 1, 2, 3, 4, 5, 6, 7, 8, 9, 10, 11, 12, 13], \"series\": [{\"data\": [\"Gathering dataset statistics.\", \"Generating features for the dataset.\", \"Beginning to fit featurizers and featurize the dataset.\", \"Completed fit featurizers and featurizing the dataset.\", \"Generating individually featurized CV splits.\", \"Beginning model selection.\", \"Best run model explanations started\", \"Model explanations data setup completed\", \"Choosing LightGBM as the surrogate model for explanations\", \"Computation of engineered features started\", \"Computation of engineered features completed\", \"Computation of raw features started\", \"Computation of raw features completed\", \"Best run model explanations completed\"]}]}, {\"name\": \"matthews_correlation\", \"run_id\": \"AutoML_ef15e003-9024-458d-bef1-ff584eb1739a\", \"categories\": [0], \"series\": [{\"data\": [0.69066326054509]}]}, {\"name\": \"AUC_micro\", \"run_id\": \"AutoML_ef15e003-9024-458d-bef1-ff584eb1739a\", \"categories\": [0], \"series\": [{\"data\": [0.9271391681828339]}]}, {\"name\": \"norm_macro_recall\", \"run_id\": \"AutoML_ef15e003-9024-458d-bef1-ff584eb1739a\", \"categories\": [0], \"series\": [{\"data\": [0.6725512181616834]}]}, {\"name\": \"recall_score_weighted\", \"run_id\": \"AutoML_ef15e003-9024-458d-bef1-ff584eb1739a\", \"categories\": [0], \"series\": [{\"data\": [0.8629378531073446]}]}, {\"name\": \"AUC_macro\", \"run_id\": \"AutoML_ef15e003-9024-458d-bef1-ff584eb1739a\", \"categories\": [0], \"series\": [{\"data\": [0.9268350867478775]}]}, {\"name\": \"recall_score_macro\", \"run_id\": \"AutoML_ef15e003-9024-458d-bef1-ff584eb1739a\", \"categories\": [0], \"series\": [{\"data\": [0.8362756090808418]}]}, {\"name\": \"f1_score_macro\", \"run_id\": \"AutoML_ef15e003-9024-458d-bef1-ff584eb1739a\", \"categories\": [0], \"series\": [{\"data\": [0.836343911792978]}]}, {\"name\": \"precision_score_weighted\", \"run_id\": \"AutoML_ef15e003-9024-458d-bef1-ff584eb1739a\", \"categories\": [0], \"series\": [{\"data\": [0.8743951425377446]}]}, {\"name\": \"average_precision_score_weighted\", \"run_id\": \"AutoML_ef15e003-9024-458d-bef1-ff584eb1739a\", \"categories\": [0], \"series\": [{\"data\": [0.9381112777032025]}]}, {\"name\": \"f1_score_weighted\", \"run_id\": \"AutoML_ef15e003-9024-458d-bef1-ff584eb1739a\", \"categories\": [0], \"series\": [{\"data\": [0.8601186963038343]}]}, {\"name\": \"recall_score_micro\", \"run_id\": \"AutoML_ef15e003-9024-458d-bef1-ff584eb1739a\", \"categories\": [0], \"series\": [{\"data\": [0.8629378531073446]}]}, {\"name\": \"AUC_weighted\", \"run_id\": \"AutoML_ef15e003-9024-458d-bef1-ff584eb1739a\", \"categories\": [0], \"series\": [{\"data\": [0.9268350867478775]}]}, {\"name\": \"log_loss\", \"run_id\": \"AutoML_ef15e003-9024-458d-bef1-ff584eb1739a\", \"categories\": [0], \"series\": [{\"data\": [0.3953965133064009]}]}, {\"name\": \"balanced_accuracy\", \"run_id\": \"AutoML_ef15e003-9024-458d-bef1-ff584eb1739a\", \"categories\": [0], \"series\": [{\"data\": [0.8362756090808418]}]}, {\"name\": \"precision_score_micro\", \"run_id\": \"AutoML_ef15e003-9024-458d-bef1-ff584eb1739a\", \"categories\": [0], \"series\": [{\"data\": [0.8629378531073446]}]}, {\"name\": \"weighted_accuracy\", \"run_id\": \"AutoML_ef15e003-9024-458d-bef1-ff584eb1739a\", \"categories\": [0], \"series\": [{\"data\": [0.8803598943707976]}]}, {\"name\": \"average_precision_score_macro\", \"run_id\": \"AutoML_ef15e003-9024-458d-bef1-ff584eb1739a\", \"categories\": [0], \"series\": [{\"data\": [0.9176143083457242]}]}, {\"name\": \"accuracy\", \"run_id\": \"AutoML_ef15e003-9024-458d-bef1-ff584eb1739a\", \"categories\": [0], \"series\": [{\"data\": [0.8629378531073446]}]}, {\"name\": \"average_precision_score_micro\", \"run_id\": \"AutoML_ef15e003-9024-458d-bef1-ff584eb1739a\", \"categories\": [0], \"series\": [{\"data\": [0.9302751427379299]}]}, {\"name\": \"f1_score_micro\", \"run_id\": \"AutoML_ef15e003-9024-458d-bef1-ff584eb1739a\", \"categories\": [0], \"series\": [{\"data\": [0.8629378531073446]}]}, {\"name\": \"precision_score_macro\", \"run_id\": \"AutoML_ef15e003-9024-458d-bef1-ff584eb1739a\", \"categories\": [0], \"series\": [{\"data\": [0.8563525276280952]}]}], \"run_logs\": \"\\nRun is completed.\", \"graph\": {}, \"widget_settings\": {\"childWidgetDisplay\": \"popup\", \"send_telemetry\": false, \"log_level\": \"INFO\", \"sdk_version\": \"1.19.0\"}, \"loading\": false}"
          },
          "metadata": {}
        }
      ],
      "execution_count": 10,
      "metadata": {
        "gather": {
          "logged": 1598431121770
        },
        "jupyter": {
          "outputs_hidden": false,
          "source_hidden": false
        },
        "nteract": {
          "transient": {
            "deleting": false
          }
        }
      }
    },
    {
      "cell_type": "code",
      "source": [
        "remote_run.wait_for_completion(show_output=True)"
      ],
      "outputs": [
        {
          "output_type": "stream",
          "name": "stdout",
          "text": [
            "\n",
            "\n",
            "****************************************************************************************************\n",
            "DATA GUARDRAILS: \n",
            "\n",
            "TYPE:         Class balancing detection\n",
            "STATUS:       PASSED\n",
            "DESCRIPTION:  Your inputs were analyzed, and all classes are balanced in your training data.\n",
            "              Learn more about imbalanced data: https://aka.ms/AutomatedMLImbalancedData\n",
            "\n",
            "****************************************************************************************************\n",
            "\n",
            "TYPE:         Missing feature values imputation\n",
            "STATUS:       PASSED\n",
            "DESCRIPTION:  No feature missing values were detected in the training data.\n",
            "              Learn more about missing value imputation: https://aka.ms/AutomatedMLFeaturization\n",
            "\n",
            "****************************************************************************************************\n",
            "\n",
            "TYPE:         High cardinality feature detection\n",
            "STATUS:       PASSED\n",
            "DESCRIPTION:  Your inputs were analyzed, and no high cardinality features were detected.\n",
            "              Learn more about high cardinality feature handling: https://aka.ms/AutomatedMLFeaturization\n",
            "\n",
            "****************************************************************************************************\n",
            "\n",
            "****************************************************************************************************\n",
            "ITERATION: The iteration being evaluated.\n",
            "PIPELINE: A summary description of the pipeline being evaluated.\n",
            "DURATION: Time taken for the current iteration.\n",
            "METRIC: The result of computing score on the fitted pipeline.\n",
            "BEST: The best observed score thus far.\n",
            "****************************************************************************************************\n",
            "\n",
            " ITERATION   PIPELINE                                       DURATION      METRIC      BEST\n",
            "         0   MaxAbsScaler LightGBM                          0:00:42       0.8811    0.8811\n",
            "         1   MaxAbsScaler XGBoostClassifier                 0:00:43       0.8930    0.8930\n",
            "         2   MinMaxScaler RandomForest                      0:00:42       0.9047    0.9047\n",
            "         3   RobustScaler ExtremeRandomTrees                0:00:43       0.8839    0.9047\n",
            "         4   MinMaxScaler RandomForest                      0:00:44       0.9042    0.9047\n",
            "         5   MinMaxScaler RandomForest                      0:03:21       0.8927    0.9047\n",
            "         6   StandardScalerWrapper RandomForest             0:03:21       0.8968    0.9047\n",
            "         7   MinMaxScaler ExtremeRandomTrees                0:03:20       0.8947    0.9047\n",
            "         8   MinMaxScaler ExtremeRandomTrees                0:00:42       0.8594    0.9047\n",
            "         9   SparseNormalizer KNN                           0:00:49       0.7515    0.9047\n",
            "        10   MinMaxScaler ExtremeRandomTrees                0:00:51       0.8909    0.9047\n",
            "        11   RobustScaler ExtremeRandomTrees                0:00:48       0.8922    0.9047\n",
            "        12   StandardScalerWrapper RandomForest             0:00:44       0.9108    0.9108\n",
            "        13   StandardScalerWrapper SGD                      0:00:42       0.8705    0.9108\n",
            "        14   RobustScaler RandomForest                      0:00:46       0.8732    0.9108\n",
            "        15   StandardScalerWrapper KNN                      0:00:43       0.4823    0.9108\n",
            "        16   MinMaxScaler RandomForest                      0:00:49       0.8973    0.9108\n",
            "        17   MinMaxScaler ExtremeRandomTrees                0:00:43       0.8377    0.9108\n",
            "        18   MaxAbsScaler RandomForest                      0:00:48       0.8988    0.9108\n",
            "        19   StandardScalerWrapper XGBoostClassifier        0:00:39       0.9072    0.9108\n",
            "        20   MaxAbsScaler RandomForest                      0:00:47       0.8963    0.9108\n",
            "        21   MaxAbsScaler ExtremeRandomTrees                0:00:39       0.8700    0.9108\n",
            "        22   MaxAbsScaler ExtremeRandomTrees                0:00:46       0.8548    0.9108\n",
            "        23   MaxAbsScaler LightGBM                          0:00:43       0.8960    0.9108\n",
            "        24   MinMaxScaler ExtremeRandomTrees                0:00:51       0.8997    0.9108\n",
            "        25   MinMaxScaler RandomForest                      0:00:36       0.8983    0.9108\n",
            "        26   MaxAbsScaler ExtremeRandomTrees                0:00:46       0.9023    0.9108\n",
            "        27   StandardScalerWrapper LightGBM                 0:00:45       0.8361    0.9108\n",
            "        28   MaxAbsScaler RandomForest                      0:00:48       0.9083    0.9108\n",
            "        29   MaxAbsScaler RandomForest                      0:00:42       0.8633    0.9108\n",
            "        30   RobustScaler LightGBM                          0:00:34       0.8916    0.9108\n",
            "        31   MinMaxScaler RandomForest                      0:00:43       0.9094    0.9108\n",
            "        32   StandardScalerWrapper XGBoostClassifier        0:00:43       0.9073    0.9108\n",
            "        33   RobustScaler RandomForest                      0:00:44       0.9151    0.9151\n",
            "        34   RobustScaler LightGBM                          0:00:43       0.9040    0.9151\n",
            "        35   TruncatedSVDWrapper RandomForest               0:00:34       0.7482    0.9151\n",
            "        36                                                  0:00:21          nan    0.9151\n",
            "        37                                                  0:00:18          nan    0.9151\n",
            "        38   StandardScalerWrapper XGBoostClassifier        0:00:40       0.9009    0.9151\n",
            "        39   StandardScalerWrapper LogisticRegression       0:00:42       0.8702    0.9151\n",
            "        40   SparseNormalizer RandomForest                  0:00:36       0.8571    0.9151\n",
            "        41   SparseNormalizer XGBoostClassifier             0:00:43       0.8629    0.9151\n",
            "        42   RobustScaler LightGBM                          0:00:39       0.8964    0.9151\n",
            "        43   SparseNormalizer XGBoostClassifier             0:00:37       0.9026    0.9151\n",
            "        44   MinMaxScaler RandomForest                      0:00:37       0.9075    0.9151\n",
            "        45   MinMaxScaler RandomForest                      0:00:42       0.8967    0.9151\n",
            "        46   MaxAbsScaler ExtremeRandomTrees                0:00:39       0.8893    0.9151\n",
            "        47   StandardScalerWrapper RandomForest             0:00:40       0.9148    0.9151\n",
            "        48   StandardScalerWrapper LightGBM                 0:00:36       0.8832    0.9151\n",
            "        49   RobustScaler LightGBM                          0:00:40       0.8949    0.9151\n",
            "        50                                                  0:00:13          nan    0.9151\n",
            "        51                                                  0:00:08          nan    0.9151\n",
            "        52    VotingEnsemble                                0:01:39       0.9268    0.9268\n",
            "        53    StackEnsemble                                 0:01:48       0.9218    0.9268\n"
          ]
        },
        {
          "output_type": "execute_result",
          "execution_count": 11,
          "data": {
            "text/plain": "{'runId': 'AutoML_ef15e003-9024-458d-bef1-ff584eb1739a',\n 'target': 'cpu-cluster',\n 'status': 'Completed',\n 'startTimeUtc': '2021-01-01T09:19:11.85318Z',\n 'endTimeUtc': '2021-01-01T09:43:15.631352Z',\n 'properties': {'num_iterations': '1000',\n  'training_type': 'TrainFull',\n  'acquisition_function': 'EI',\n  'primary_metric': 'AUC_weighted',\n  'train_split': '0',\n  'acquisition_parameter': '0',\n  'num_cross_validation': '5',\n  'target': 'cpu-cluster',\n  'AMLSettingsJsonString': '{\"path\":null,\"name\":\"capstone-heart-failure-exp\",\"subscription_id\":\"a0a76bad-11a1-4a2d-9887-97a29122c8ed\",\"resource_group\":\"aml-quickstarts-132732\",\"workspace_name\":\"quick-starts-ws-132732\",\"region\":\"southcentralus\",\"compute_target\":\"cpu-cluster\",\"spark_service\":null,\"azure_service\":\"remote\",\"many_models\":false,\"pipeline_fetch_max_batch_size\":1,\"iterations\":1000,\"primary_metric\":\"AUC_weighted\",\"task_type\":\"classification\",\"data_script\":null,\"validation_size\":0.0,\"n_cross_validations\":5,\"y_min\":null,\"y_max\":null,\"num_classes\":null,\"featurization\":\"auto\",\"_ignore_package_version_incompatibilities\":false,\"is_timeseries\":false,\"max_cores_per_iteration\":1,\"max_concurrent_iterations\":5,\"iteration_timeout_minutes\":null,\"mem_in_mb\":null,\"enforce_time_on_windows\":false,\"experiment_timeout_minutes\":30,\"experiment_exit_score\":null,\"whitelist_models\":null,\"blacklist_algos\":[\"TensorFlowLinearClassifier\",\"TensorFlowDNN\"],\"supported_models\":[\"TensorFlowDNN\",\"BernoulliNaiveBayes\",\"RandomForest\",\"LogisticRegression\",\"GradientBoosting\",\"XGBoostClassifier\",\"MultinomialNaiveBayes\",\"LinearSVM\",\"ExtremeRandomTrees\",\"KNN\",\"LightGBM\",\"TensorFlowLinearClassifier\",\"DecisionTree\",\"SVM\",\"SGD\",\"AveragedPerceptronClassifier\"],\"auto_blacklist\":true,\"blacklist_samples_reached\":false,\"exclude_nan_labels\":true,\"verbosity\":20,\"_debug_log\":\"azureml_automl.log\",\"show_warnings\":false,\"model_explainability\":true,\"service_url\":null,\"sdk_url\":null,\"sdk_packages\":null,\"enable_onnx_compatible_models\":false,\"enable_split_onnx_featurizer_estimator_models\":false,\"vm_type\":\"STANDARD_D2_V2\",\"telemetry_verbosity\":20,\"send_telemetry\":true,\"enable_dnn\":false,\"scenario\":\"SDK-1.13.0\",\"environment_label\":null,\"force_text_dnn\":false,\"enable_feature_sweeping\":true,\"enable_early_stopping\":true,\"early_stopping_n_iters\":10,\"metrics\":null,\"enable_ensembling\":true,\"enable_stack_ensembling\":true,\"ensemble_iterations\":15,\"enable_tf\":false,\"enable_subsampling\":null,\"subsample_seed\":null,\"enable_nimbusml\":false,\"enable_streaming\":false,\"force_streaming\":false,\"track_child_runs\":true,\"allowed_private_models\":[],\"label_column_name\":\"DEATH_EVENT\",\"weight_column_name\":null,\"cv_split_column_names\":null,\"enable_local_managed\":false,\"_local_managed_run_id\":null,\"cost_mode\":1,\"lag_length\":0,\"metric_operation\":\"maximize\",\"preprocess\":true}',\n  'DataPrepJsonString': '{\\\\\"training_data\\\\\": \\\\\"{\\\\\\\\\\\\\"blocks\\\\\\\\\\\\\": [{\\\\\\\\\\\\\"id\\\\\\\\\\\\\": \\\\\\\\\\\\\"35662c80-ca83-492a-893f-780d579e14b0\\\\\\\\\\\\\", \\\\\\\\\\\\\"type\\\\\\\\\\\\\": \\\\\\\\\\\\\"Microsoft.DPrep.GetDatastoreFilesBlock\\\\\\\\\\\\\", \\\\\\\\\\\\\"arguments\\\\\\\\\\\\\": {\\\\\\\\\\\\\"datastores\\\\\\\\\\\\\": [{\\\\\\\\\\\\\"datastoreName\\\\\\\\\\\\\": \\\\\\\\\\\\\"workspaceblobstore\\\\\\\\\\\\\", \\\\\\\\\\\\\"path\\\\\\\\\\\\\": \\\\\\\\\\\\\"UI/01-01-2021_091159_UTC/heart_failure_clinical_records_dataset.csv\\\\\\\\\\\\\", \\\\\\\\\\\\\"resourceGroup\\\\\\\\\\\\\": \\\\\\\\\\\\\"aml-quickstarts-132732\\\\\\\\\\\\\", \\\\\\\\\\\\\"subscription\\\\\\\\\\\\\": \\\\\\\\\\\\\"a0a76bad-11a1-4a2d-9887-97a29122c8ed\\\\\\\\\\\\\", \\\\\\\\\\\\\"workspaceName\\\\\\\\\\\\\": \\\\\\\\\\\\\"quick-starts-ws-132732\\\\\\\\\\\\\"}]}, \\\\\\\\\\\\\"localData\\\\\\\\\\\\\": {}, \\\\\\\\\\\\\"isEnabled\\\\\\\\\\\\\": true, \\\\\\\\\\\\\"name\\\\\\\\\\\\\": null, \\\\\\\\\\\\\"annotation\\\\\\\\\\\\\": null}, {\\\\\\\\\\\\\"id\\\\\\\\\\\\\": \\\\\\\\\\\\\"aaa3d342-f5f5-4224-9fdf-eefc43f044b6\\\\\\\\\\\\\", \\\\\\\\\\\\\"type\\\\\\\\\\\\\": \\\\\\\\\\\\\"Microsoft.DPrep.ParseDelimitedBlock\\\\\\\\\\\\\", \\\\\\\\\\\\\"arguments\\\\\\\\\\\\\": {\\\\\\\\\\\\\"columnHeadersMode\\\\\\\\\\\\\": 1, \\\\\\\\\\\\\"fileEncoding\\\\\\\\\\\\\": 0, \\\\\\\\\\\\\"handleQuotedLineBreaks\\\\\\\\\\\\\": false, \\\\\\\\\\\\\"preview\\\\\\\\\\\\\": false, \\\\\\\\\\\\\"separator\\\\\\\\\\\\\": \\\\\\\\\\\\\",\\\\\\\\\\\\\", \\\\\\\\\\\\\"skipRows\\\\\\\\\\\\\": 0, \\\\\\\\\\\\\"skipRowsMode\\\\\\\\\\\\\": 0}, \\\\\\\\\\\\\"localData\\\\\\\\\\\\\": {}, \\\\\\\\\\\\\"isEnabled\\\\\\\\\\\\\": true, \\\\\\\\\\\\\"name\\\\\\\\\\\\\": null, \\\\\\\\\\\\\"annotation\\\\\\\\\\\\\": null}, {\\\\\\\\\\\\\"id\\\\\\\\\\\\\": \\\\\\\\\\\\\"f54d91c2-c5cd-47c4-a8e7-4c9a57055e3a\\\\\\\\\\\\\", \\\\\\\\\\\\\"type\\\\\\\\\\\\\": \\\\\\\\\\\\\"Microsoft.DPrep.DropColumnsBlock\\\\\\\\\\\\\", \\\\\\\\\\\\\"arguments\\\\\\\\\\\\\": {\\\\\\\\\\\\\"columns\\\\\\\\\\\\\": {\\\\\\\\\\\\\"type\\\\\\\\\\\\\": 0, \\\\\\\\\\\\\"details\\\\\\\\\\\\\": {\\\\\\\\\\\\\"selectedColumns\\\\\\\\\\\\\": [\\\\\\\\\\\\\"Path\\\\\\\\\\\\\"]}}}, \\\\\\\\\\\\\"localData\\\\\\\\\\\\\": {}, \\\\\\\\\\\\\"isEnabled\\\\\\\\\\\\\": true, \\\\\\\\\\\\\"name\\\\\\\\\\\\\": null, \\\\\\\\\\\\\"annotation\\\\\\\\\\\\\": null}, {\\\\\\\\\\\\\"id\\\\\\\\\\\\\": \\\\\\\\\\\\\"840f7662-b528-4e69-8bb8-c1bba4022782\\\\\\\\\\\\\", \\\\\\\\\\\\\"type\\\\\\\\\\\\\": \\\\\\\\\\\\\"Microsoft.DPrep.SetColumnTypesBlock\\\\\\\\\\\\\", \\\\\\\\\\\\\"arguments\\\\\\\\\\\\\": {\\\\\\\\\\\\\"columnConversion\\\\\\\\\\\\\": [{\\\\\\\\\\\\\"column\\\\\\\\\\\\\": {\\\\\\\\\\\\\"type\\\\\\\\\\\\\": 2, \\\\\\\\\\\\\"details\\\\\\\\\\\\\": {\\\\\\\\\\\\\"selectedColumn\\\\\\\\\\\\\": \\\\\\\\\\\\\"Path\\\\\\\\\\\\\"}}, \\\\\\\\\\\\\"typeProperty\\\\\\\\\\\\\": 0}, {\\\\\\\\\\\\\"column\\\\\\\\\\\\\": {\\\\\\\\\\\\\"type\\\\\\\\\\\\\": 2, \\\\\\\\\\\\\"details\\\\\\\\\\\\\": {\\\\\\\\\\\\\"selectedColumn\\\\\\\\\\\\\": \\\\\\\\\\\\\"age\\\\\\\\\\\\\"}}, \\\\\\\\\\\\\"typeProperty\\\\\\\\\\\\\": 3}, {\\\\\\\\\\\\\"column\\\\\\\\\\\\\": {\\\\\\\\\\\\\"type\\\\\\\\\\\\\": 2, \\\\\\\\\\\\\"details\\\\\\\\\\\\\": {\\\\\\\\\\\\\"selectedColumn\\\\\\\\\\\\\": \\\\\\\\\\\\\"anaemia\\\\\\\\\\\\\"}}, \\\\\\\\\\\\\"typeProperty\\\\\\\\\\\\\": 2}, {\\\\\\\\\\\\\"column\\\\\\\\\\\\\": {\\\\\\\\\\\\\"type\\\\\\\\\\\\\": 2, \\\\\\\\\\\\\"details\\\\\\\\\\\\\": {\\\\\\\\\\\\\"selectedColumn\\\\\\\\\\\\\": \\\\\\\\\\\\\"creatinine_phosphokinase\\\\\\\\\\\\\"}}, \\\\\\\\\\\\\"typeProperty\\\\\\\\\\\\\": 2}, {\\\\\\\\\\\\\"column\\\\\\\\\\\\\": {\\\\\\\\\\\\\"type\\\\\\\\\\\\\": 2, \\\\\\\\\\\\\"details\\\\\\\\\\\\\": {\\\\\\\\\\\\\"selectedColumn\\\\\\\\\\\\\": \\\\\\\\\\\\\"diabetes\\\\\\\\\\\\\"}}, \\\\\\\\\\\\\"typeProperty\\\\\\\\\\\\\": 2}, {\\\\\\\\\\\\\"column\\\\\\\\\\\\\": {\\\\\\\\\\\\\"type\\\\\\\\\\\\\": 2, \\\\\\\\\\\\\"details\\\\\\\\\\\\\": {\\\\\\\\\\\\\"selectedColumn\\\\\\\\\\\\\": \\\\\\\\\\\\\"ejection_fraction\\\\\\\\\\\\\"}}, \\\\\\\\\\\\\"typeProperty\\\\\\\\\\\\\": 2}, {\\\\\\\\\\\\\"column\\\\\\\\\\\\\": {\\\\\\\\\\\\\"type\\\\\\\\\\\\\": 2, \\\\\\\\\\\\\"details\\\\\\\\\\\\\": {\\\\\\\\\\\\\"selectedColumn\\\\\\\\\\\\\": \\\\\\\\\\\\\"high_blood_pressure\\\\\\\\\\\\\"}}, \\\\\\\\\\\\\"typeProperty\\\\\\\\\\\\\": 2}, {\\\\\\\\\\\\\"column\\\\\\\\\\\\\": {\\\\\\\\\\\\\"type\\\\\\\\\\\\\": 2, \\\\\\\\\\\\\"details\\\\\\\\\\\\\": {\\\\\\\\\\\\\"selectedColumn\\\\\\\\\\\\\": \\\\\\\\\\\\\"platelets\\\\\\\\\\\\\"}}, \\\\\\\\\\\\\"typeProperty\\\\\\\\\\\\\": 3}, {\\\\\\\\\\\\\"column\\\\\\\\\\\\\": {\\\\\\\\\\\\\"type\\\\\\\\\\\\\": 2, \\\\\\\\\\\\\"details\\\\\\\\\\\\\": {\\\\\\\\\\\\\"selectedColumn\\\\\\\\\\\\\": \\\\\\\\\\\\\"serum_creatinine\\\\\\\\\\\\\"}}, \\\\\\\\\\\\\"typeProperty\\\\\\\\\\\\\": 3}, {\\\\\\\\\\\\\"column\\\\\\\\\\\\\": {\\\\\\\\\\\\\"type\\\\\\\\\\\\\": 2, \\\\\\\\\\\\\"details\\\\\\\\\\\\\": {\\\\\\\\\\\\\"selectedColumn\\\\\\\\\\\\\": \\\\\\\\\\\\\"serum_sodium\\\\\\\\\\\\\"}}, \\\\\\\\\\\\\"typeProperty\\\\\\\\\\\\\": 2}, {\\\\\\\\\\\\\"column\\\\\\\\\\\\\": {\\\\\\\\\\\\\"type\\\\\\\\\\\\\": 2, \\\\\\\\\\\\\"details\\\\\\\\\\\\\": {\\\\\\\\\\\\\"selectedColumn\\\\\\\\\\\\\": \\\\\\\\\\\\\"sex\\\\\\\\\\\\\"}}, \\\\\\\\\\\\\"typeProperty\\\\\\\\\\\\\": 2}, {\\\\\\\\\\\\\"column\\\\\\\\\\\\\": {\\\\\\\\\\\\\"type\\\\\\\\\\\\\": 2, \\\\\\\\\\\\\"details\\\\\\\\\\\\\": {\\\\\\\\\\\\\"selectedColumn\\\\\\\\\\\\\": \\\\\\\\\\\\\"smoking\\\\\\\\\\\\\"}}, \\\\\\\\\\\\\"typeProperty\\\\\\\\\\\\\": 2}, {\\\\\\\\\\\\\"column\\\\\\\\\\\\\": {\\\\\\\\\\\\\"type\\\\\\\\\\\\\": 2, \\\\\\\\\\\\\"details\\\\\\\\\\\\\": {\\\\\\\\\\\\\"selectedColumn\\\\\\\\\\\\\": \\\\\\\\\\\\\"time\\\\\\\\\\\\\"}}, \\\\\\\\\\\\\"typeProperty\\\\\\\\\\\\\": 2}, {\\\\\\\\\\\\\"column\\\\\\\\\\\\\": {\\\\\\\\\\\\\"type\\\\\\\\\\\\\": 2, \\\\\\\\\\\\\"details\\\\\\\\\\\\\": {\\\\\\\\\\\\\"selectedColumn\\\\\\\\\\\\\": \\\\\\\\\\\\\"DEATH_EVENT\\\\\\\\\\\\\"}}, \\\\\\\\\\\\\"typeProperty\\\\\\\\\\\\\": 2}]}, \\\\\\\\\\\\\"localData\\\\\\\\\\\\\": {}, \\\\\\\\\\\\\"isEnabled\\\\\\\\\\\\\": true, \\\\\\\\\\\\\"name\\\\\\\\\\\\\": null, \\\\\\\\\\\\\"annotation\\\\\\\\\\\\\": null}], \\\\\\\\\\\\\"inspectors\\\\\\\\\\\\\": [], \\\\\\\\\\\\\"meta\\\\\\\\\\\\\": {\\\\\\\\\\\\\"savedDatasetId\\\\\\\\\\\\\": \\\\\\\\\\\\\"dd6971b3-2e94-44b4-a4de-625490ca74dc\\\\\\\\\\\\\", \\\\\\\\\\\\\"datasetType\\\\\\\\\\\\\": \\\\\\\\\\\\\"tabular\\\\\\\\\\\\\", \\\\\\\\\\\\\"subscriptionId\\\\\\\\\\\\\": \\\\\\\\\\\\\"a0a76bad-11a1-4a2d-9887-97a29122c8ed\\\\\\\\\\\\\", \\\\\\\\\\\\\"workspaceId\\\\\\\\\\\\\": \\\\\\\\\\\\\"3675a786-09c2-4ceb-93ab-531b16b1a674\\\\\\\\\\\\\", \\\\\\\\\\\\\"workspaceLocation\\\\\\\\\\\\\": \\\\\\\\\\\\\"southcentralus\\\\\\\\\\\\\"}}\\\\\", \\\\\"activities\\\\\": 0}',\n  'EnableSubsampling': None,\n  'runTemplate': 'AutoML',\n  'azureml.runsource': 'automl',\n  'display_task_type': 'classification',\n  'dependencies_versions': '{\"azureml-widgets\": \"1.19.0\", \"azureml-train\": \"1.19.0\", \"azureml-train-restclients-hyperdrive\": \"1.19.0\", \"azureml-train-core\": \"1.19.0\", \"azureml-train-automl\": \"1.19.0\", \"azureml-train-automl-runtime\": \"1.19.0\", \"azureml-train-automl-client\": \"1.19.0\", \"azureml-tensorboard\": \"1.19.0\", \"azureml-telemetry\": \"1.19.0\", \"azureml-sdk\": \"1.19.0\", \"azureml-samples\": \"0+unknown\", \"azureml-pipeline\": \"1.19.0\", \"azureml-pipeline-steps\": \"1.19.0\", \"azureml-pipeline-core\": \"1.19.0\", \"azureml-opendatasets\": \"1.19.0\", \"azureml-model-management-sdk\": \"1.0.1b6.post1\", \"azureml-mlflow\": \"1.19.0\", \"azureml-interpret\": \"1.19.0\", \"azureml-explain-model\": \"1.19.0\", \"azureml-defaults\": \"1.19.0\", \"azureml-dataset-runtime\": \"1.19.0\", \"azureml-dataprep\": \"2.6.1\", \"azureml-dataprep-rslex\": \"1.4.0\", \"azureml-dataprep-native\": \"26.0.0\", \"azureml-datadrift\": \"1.19.0\", \"azureml-core\": \"1.19.0\", \"azureml-contrib-services\": \"1.19.0\", \"azureml-contrib-server\": \"1.19.0\", \"azureml-contrib-reinforcementlearning\": \"1.19.0\", \"azureml-contrib-pipeline-steps\": \"1.19.0\", \"azureml-contrib-notebook\": \"1.19.0\", \"azureml-contrib-interpret\": \"1.19.0\", \"azureml-contrib-gbdt\": \"1.19.0\", \"azureml-contrib-fairness\": \"1.19.0\", \"azureml-contrib-dataset\": \"1.19.0\", \"azureml-cli-common\": \"1.19.0\", \"azureml-automl-runtime\": \"1.19.0\", \"azureml-automl-core\": \"1.19.0\", \"azureml-accel-models\": \"1.19.0\"}',\n  '_aml_system_scenario_identification': 'Remote.Parent',\n  'ClientType': 'SDK',\n  'environment_cpu_name': 'AzureML-AutoML',\n  'environment_cpu_label': 'prod',\n  'environment_gpu_name': 'AzureML-AutoML-GPU',\n  'environment_gpu_label': 'prod',\n  'root_attribution': 'automl',\n  'attribution': 'AutoML',\n  'Orchestrator': 'AutoML',\n  'CancelUri': 'https://southcentralus.experiments.azureml.net/jasmine/v1.0/subscriptions/a0a76bad-11a1-4a2d-9887-97a29122c8ed/resourceGroups/aml-quickstarts-132732/providers/Microsoft.MachineLearningServices/workspaces/quick-starts-ws-132732/experimentids/e88c1590-5443-416b-959d-03ef2addd101/cancel/AutoML_ef15e003-9024-458d-bef1-ff584eb1739a',\n  'ClientSdkVersion': '1.19.0',\n  'snapshotId': '00000000-0000-0000-0000-000000000000',\n  'SetupRunId': 'AutoML_ef15e003-9024-458d-bef1-ff584eb1739a_setup',\n  'SetupRunContainerId': 'dcid.AutoML_ef15e003-9024-458d-bef1-ff584eb1739a_setup',\n  'FeaturizationRunJsonPath': 'featurizer_container.json',\n  'FeaturizationRunId': 'AutoML_ef15e003-9024-458d-bef1-ff584eb1739a_featurize',\n  'ProblemInfoJsonString': '{\"dataset_num_categorical\": 0, \"is_sparse\": false, \"subsampling\": false, \"dataset_classes\": 2, \"dataset_features\": 12, \"dataset_samples\": 299, \"single_frequency_class_detected\": false}',\n  'ModelExplainRunId': 'AutoML_ef15e003-9024-458d-bef1-ff584eb1739a_ModelExplain'},\n 'inputDatasets': [{'dataset': {'id': 'dd6971b3-2e94-44b4-a4de-625490ca74dc'}, 'consumptionDetails': {'type': 'RunInput', 'inputName': 'training_data', 'mechanism': 'Direct'}}],\n 'outputDatasets': [],\n 'logFiles': {}}"
          },
          "metadata": {}
        }
      ],
      "execution_count": 11,
      "metadata": {}
    },
    {
      "cell_type": "markdown",
      "source": [
        "## Best Model\n",
        "\n",
        "TODO: In the cell below, get the best model from the automl experiments and display all the properties of the model.\n",
        "\n"
      ],
      "metadata": {}
    },
    {
      "cell_type": "code",
      "source": [
        "best_run, fitted_model = remote_run.get_output()\n",
        "print(best_run)\n",
        "print(fitted_model)"
      ],
      "outputs": [
        {
          "output_type": "stream",
          "name": "stdout",
          "text": [
            "Run(Experiment: capstone-heart-failure-exp,\n",
            "Id: AutoML_ef15e003-9024-458d-bef1-ff584eb1739a_52,\n",
            "Type: azureml.scriptrun,\n",
            "Status: Completed)\n",
            "Pipeline(memory=None,\n",
            "         steps=[('datatransformer',\n",
            "                 DataTransformer(enable_dnn=None, enable_feature_sweeping=None,\n",
            "                                 feature_sweeping_config=None,\n",
            "                                 feature_sweeping_timeout=None,\n",
            "                                 featurization_config=None, force_text_dnn=None,\n",
            "                                 is_cross_validation=None,\n",
            "                                 is_onnx_compatible=None, logger=None,\n",
            "                                 observer=None, task=None, working_dir=None)),\n",
            "                ('prefittedsoftvotingclassifier',...\n",
            "                                                                                               reg_alpha=1.0416666666666667,\n",
            "                                                                                               reg_lambda=1.4583333333333335,\n",
            "                                                                                               scale_pos_weight=1,\n",
            "                                                                                               seed=None,\n",
            "                                                                                               silent=None,\n",
            "                                                                                               subsample=0.7,\n",
            "                                                                                               tree_method='hist',\n",
            "                                                                                               verbose=-10,\n",
            "                                                                                               verbosity=0))],\n",
            "                                                                     verbose=False))],\n",
            "                                               flatten_transform=None,\n",
            "                                               weights=[0.08333333333333333,\n",
            "                                                        0.08333333333333333,\n",
            "                                                        0.16666666666666666,\n",
            "                                                        0.08333333333333333,\n",
            "                                                        0.25,\n",
            "                                                        0.08333333333333333,\n",
            "                                                        0.16666666666666666,\n",
            "                                                        0.08333333333333333]))],\n",
            "         verbose=False)\n"
          ]
        }
      ],
      "execution_count": 13,
      "metadata": {
        "gather": {
          "logged": 1598431425670
        },
        "jupyter": {
          "outputs_hidden": false,
          "source_hidden": false
        },
        "nteract": {
          "transient": {
            "deleting": false
          }
        }
      }
    },
    {
      "cell_type": "code",
      "source": [
        "best_run_metrics = best_run.get_metrics()\n",
        "for metric_name in best_run_metrics:\n",
        "    metric = best_run_metrics[metric_name]\n",
        "    print(metric_name)\n",
        "    print(metric)"
      ],
      "outputs": [
        {
          "output_type": "stream",
          "name": "stdout",
          "text": [
            "f1_score_micro\n",
            "0.8629378531073446\n",
            "precision_score_macro\n",
            "0.8563525276280952\n",
            "average_precision_score_micro\n",
            "0.9302751427379299\n",
            "average_precision_score_weighted\n",
            "0.9381112777032025\n",
            "recall_score_micro\n",
            "0.8629378531073446\n",
            "recall_score_weighted\n",
            "0.8629378531073446\n",
            "balanced_accuracy\n",
            "0.8362756090808418\n",
            "log_loss\n",
            "0.3953965133064009\n",
            "AUC_weighted\n",
            "0.9268350867478775\n",
            "accuracy\n",
            "0.8629378531073446\n",
            "weighted_accuracy\n",
            "0.8803598943707976\n",
            "norm_macro_recall\n",
            "0.6725512181616834\n",
            "AUC_macro\n",
            "0.9268350867478775\n",
            "matthews_correlation\n",
            "0.69066326054509\n",
            "AUC_micro\n",
            "0.9271391681828339\n",
            "average_precision_score_macro\n",
            "0.9176143083457242\n",
            "precision_score_micro\n",
            "0.8629378531073446\n",
            "f1_score_weighted\n",
            "0.8601186963038343\n",
            "recall_score_macro\n",
            "0.8362756090808418\n",
            "precision_score_weighted\n",
            "0.8743951425377446\n",
            "f1_score_macro\n",
            "0.836343911792978\n",
            "confusion_matrix\n",
            "aml://artifactId/ExperimentRun/dcid.AutoML_ef15e003-9024-458d-bef1-ff584eb1739a_52/confusion_matrix\n",
            "accuracy_table\n",
            "aml://artifactId/ExperimentRun/dcid.AutoML_ef15e003-9024-458d-bef1-ff584eb1739a_52/accuracy_table\n"
          ]
        }
      ],
      "execution_count": 14,
      "metadata": {}
    },
    {
      "cell_type": "code",
      "source": [
        "best_run"
      ],
      "outputs": [
        {
          "output_type": "execute_result",
          "execution_count": 15,
          "data": {
            "text/html": "<table style=\"width:100%\"><tr><th>Experiment</th><th>Id</th><th>Type</th><th>Status</th><th>Details Page</th><th>Docs Page</th></tr><tr><td>capstone-heart-failure-exp</td><td>AutoML_ef15e003-9024-458d-bef1-ff584eb1739a_52</td><td>azureml.scriptrun</td><td>Completed</td><td><a href=\"https://ml.azure.com/experiments/capstone-heart-failure-exp/runs/AutoML_ef15e003-9024-458d-bef1-ff584eb1739a_52?wsid=/subscriptions/a0a76bad-11a1-4a2d-9887-97a29122c8ed/resourcegroups/aml-quickstarts-132732/workspaces/quick-starts-ws-132732\" target=\"_blank\" rel=\"noopener\">Link to Azure Machine Learning studio</a></td><td><a href=\"https://docs.microsoft.com/en-us/python/api/azureml-core/azureml.core.run.Run?view=azure-ml-py\" target=\"_blank\" rel=\"noopener\">Link to Documentation</a></td></tr></table>",
            "text/plain": "Run(Experiment: capstone-heart-failure-exp,\nId: AutoML_ef15e003-9024-458d-bef1-ff584eb1739a_52,\nType: azureml.scriptrun,\nStatus: Completed)"
          },
          "metadata": {}
        }
      ],
      "execution_count": 15,
      "metadata": {}
    },
    {
      "cell_type": "code",
      "source": [
        "print('Best Run Id: ', best_run.id)\n",
        "print('\\n Accuracy:', best_run_metrics['accuracy'])\n",
        "print(best_run.get_tags())"
      ],
      "outputs": [
        {
          "output_type": "stream",
          "name": "stdout",
          "text": [
            "Best Run Id:  AutoML_ef15e003-9024-458d-bef1-ff584eb1739a_52\n",
            "\n",
            " Accuracy: 0.8629378531073446\n",
            "{'_aml_system_azureml.automlComponent': 'AutoML', '_aml_system_ComputeTargetStatus': '{\"AllocationState\":\"steady\",\"PreparingNodeCount\":0,\"RunningNodeCount\":3,\"CurrentNodeCount\":4}', 'ensembled_iterations': '[33, 47, 12, 31, 28, 19, 43, 38]', 'ensembled_algorithms': \"['RandomForest', 'RandomForest', 'RandomForest', 'RandomForest', 'RandomForest', 'XGBoostClassifier', 'XGBoostClassifier', 'XGBoostClassifier']\", 'ensemble_weights': '[0.08333333333333333, 0.08333333333333333, 0.16666666666666666, 0.08333333333333333, 0.25, 0.08333333333333333, 0.16666666666666666, 0.08333333333333333]', 'best_individual_pipeline_score': '0.9150766196013288', 'best_individual_iteration': '33', '_aml_system_automl_is_child_run_end_telemetry_event_logged': 'True', 'model_explain_run_id': 'AutoML_ef15e003-9024-458d-bef1-ff584eb1739a_ModelExplain', 'model_explanation': 'True'}\n"
          ]
        }
      ],
      "execution_count": 17,
      "metadata": {}
    },
    {
      "cell_type": "code",
      "source": [
        "#TODO: Save the best model\n",
        "\n",
        "best_run.register_model(model_name='automl_model',model_path='/outputs',properties={'AUC_weighted':best_run_metrics['AUC_weighted']},tags={'Training context':'Auto ML'})"
      ],
      "outputs": [
        {
          "output_type": "execute_result",
          "execution_count": 18,
          "data": {
            "text/plain": "Model(workspace=Workspace.create(name='quick-starts-ws-132732', subscription_id='a0a76bad-11a1-4a2d-9887-97a29122c8ed', resource_group='aml-quickstarts-132732'), name=automl_model, id=automl_model:1, version=1, tags={'Training context': 'Auto ML'}, properties={'AUC_weighted': '0.9268350867478775'})"
          },
          "metadata": {}
        }
      ],
      "execution_count": 18,
      "metadata": {
        "gather": {
          "logged": 1598431426111
        },
        "jupyter": {
          "outputs_hidden": false,
          "source_hidden": false
        },
        "nteract": {
          "transient": {
            "deleting": false
          }
        }
      }
    },
    {
      "cell_type": "code",
      "source": [
        "model_name = best_run.properties['model_name']"
      ],
      "outputs": [],
      "execution_count": 19,
      "metadata": {}
    },
    {
      "cell_type": "markdown",
      "source": [
        "## Model Deployment\n",
        "\n",
        "Remember you have to deploy only one of the two models you trained.. Perform the steps in the rest of this notebook only if you wish to deploy this model.\n",
        "\n",
        "TODO: In the cell below, register the model, create an inference config and deploy the model as a web service."
      ],
      "metadata": {}
    },
    {
      "cell_type": "code",
      "source": [
        "# Register the model\n",
        "\n",
        "model = remote_run.register_model(model_name = model_name,\n",
        "                                  description = 'Automl model')\n",
        "\n",
        "print('Name:', model.name)"
      ],
      "outputs": [
        {
          "output_type": "stream",
          "name": "stdout",
          "text": [
            "Name: AutoMLef15e003952\n"
          ]
        }
      ],
      "execution_count": 20,
      "metadata": {}
    },
    {
      "cell_type": "code",
      "source": [
        "env = best_run.get_environment()\n",
        "\n",
        "script_name = 'score.py'\n",
        "\n",
        "\n",
        "best_run.download_file('outputs/scoring_file_v_1_0_0.py', 'score.py')"
      ],
      "outputs": [],
      "execution_count": 26,
      "metadata": {}
    },
    {
      "cell_type": "code",
      "source": [
        "# Create an inference config\n",
        "\n",
        "inference_config = InferenceConfig(entry_script= script_name, environment=env)\n",
        "\n",
        "aci_config = AciWebservice.deploy_configuration(cpu_cores=1, memory_gb=1, enable_app_insights=True)\n",
        "aci_service_name='capstone-service'\n"
      ],
      "outputs": [],
      "execution_count": 56,
      "metadata": {}
    },
    {
      "cell_type": "code",
      "source": [
        "service = Model.deploy(ws, aci_service_name, [model], inference_config, aci_config)\n",
        "                        "
      ],
      "outputs": [],
      "execution_count": 57,
      "metadata": {}
    },
    {
      "cell_type": "code",
      "source": [
        "service.wait_for_deployment(show_output=True)\n",
        "\n",
        "print(service.state)"
      ],
      "outputs": [
        {
          "output_type": "stream",
          "name": "stdout",
          "text": [
            "Tips: You can try get_logs(): https://aka.ms/debugimage#dockerlog or local deployment: https://aka.ms/debugimage#debug-locally to debug if deployment takes longer than 10 minutes.\n",
            "Running...............\n",
            "Succeeded\n",
            "ACI service creation operation finished, operation \"Succeeded\"\n",
            "Healthy\n"
          ]
        }
      ],
      "execution_count": 58,
      "metadata": {}
    },
    {
      "cell_type": "markdown",
      "source": [
        "TODO: In the cell below, send a request to the web service you deployed to test it."
      ],
      "metadata": {
        "collapsed": true,
        "gather": {
          "logged": 1598431657736
        },
        "jupyter": {
          "outputs_hidden": false,
          "source_hidden": false
        },
        "nteract": {
          "transient": {
            "deleting": false
          }
        }
      }
    },
    {
      "cell_type": "code",
      "source": [
        "%run endpoint.py"
      ],
      "outputs": [
        {
          "output_type": "stream",
          "name": "stdout",
          "text": [
            "{\"result\": [1, 1]}\n"
          ]
        }
      ],
      "execution_count": 59,
      "metadata": {}
    },
    {
      "cell_type": "code",
      "source": [
        "data_test = dataset.to_pandas_dataframe().dropna()\n",
        "data_sample = data_test.sample(3)\n",
        "y_true = data_sample.pop('DEATH_EVENT')\n",
        "sample_json = json.dumps({'data':data_sample.to_dict(orient='records')})\n",
        "print(sample_json)"
      ],
      "outputs": [
        {
          "output_type": "stream",
          "name": "stdout",
          "text": [
            "{\"data\": [{\"age\": 46.0, \"anaemia\": 1, \"creatinine_phosphokinase\": 291, \"diabetes\": 0, \"ejection_fraction\": 35, \"high_blood_pressure\": 0, \"platelets\": 348000.0, \"serum_creatinine\": 0.9, \"serum_sodium\": 140, \"sex\": 0, \"smoking\": 0, \"time\": 109}, {\"age\": 60.0, \"anaemia\": 1, \"creatinine_phosphokinase\": 260, \"diabetes\": 1, \"ejection_fraction\": 38, \"high_blood_pressure\": 0, \"platelets\": 255000.0, \"serum_creatinine\": 2.2, \"serum_sodium\": 132, \"sex\": 0, \"smoking\": 1, \"time\": 45}, {\"age\": 60.0, \"anaemia\": 1, \"creatinine_phosphokinase\": 582, \"diabetes\": 0, \"ejection_fraction\": 30, \"high_blood_pressure\": 1, \"platelets\": 127000.0, \"serum_creatinine\": 0.9, \"serum_sodium\": 145, \"sex\": 0, \"smoking\": 0, \"time\": 95}]}\n"
          ]
        }
      ],
      "execution_count": 60,
      "metadata": {}
    },
    {
      "cell_type": "markdown",
      "source": [
        "TODO: In the cell below, print the logs of the web service and delete the service"
      ],
      "metadata": {
        "collapsed": true,
        "gather": {
          "logged": 1598432765711
        },
        "jupyter": {
          "outputs_hidden": false,
          "source_hidden": false
        },
        "nteract": {
          "transient": {
            "deleting": false
          }
        }
      }
    },
    {
      "cell_type": "code",
      "source": [
        "output = service.run(sample_json)\n",
        "print('Prediction: ', output)\n",
        "print('True Values: ', y_true.values)"
      ],
      "outputs": [
        {
          "output_type": "stream",
          "name": "stdout",
          "text": [
            "Prediction:  {\"result\": [0, 1, 0]}\n",
            "True Values:  [0 1 0]\n"
          ]
        }
      ],
      "execution_count": 61,
      "metadata": {}
    },
    {
      "cell_type": "code",
      "source": [
        "service.get_logs()"
      ],
      "outputs": [
        {
          "output_type": "execute_result",
          "execution_count": 62,
          "data": {
            "text/plain": "'2021-01-01T10:59:11,013593300+00:00 - gunicorn/run \\n2021-01-01T10:59:11,015230800+00:00 - iot-server/run \\n2021-01-01T10:59:11,040872500+00:00 - nginx/run \\n2021-01-01T10:59:11,022283600+00:00 - rsyslog/run \\n/usr/sbin/nginx: /azureml-envs/azureml_8eff28b157f42edcd2424a5aae6c8074/lib/libcrypto.so.1.0.0: no version information available (required by /usr/sbin/nginx)\\n/usr/sbin/nginx: /azureml-envs/azureml_8eff28b157f42edcd2424a5aae6c8074/lib/libcrypto.so.1.0.0: no version information available (required by /usr/sbin/nginx)\\n/usr/sbin/nginx: /azureml-envs/azureml_8eff28b157f42edcd2424a5aae6c8074/lib/libssl.so.1.0.0: no version information available (required by /usr/sbin/nginx)\\n/usr/sbin/nginx: /azureml-envs/azureml_8eff28b157f42edcd2424a5aae6c8074/lib/libssl.so.1.0.0: no version information available (required by /usr/sbin/nginx)\\n/usr/sbin/nginx: /azureml-envs/azureml_8eff28b157f42edcd2424a5aae6c8074/lib/libssl.so.1.0.0: no version information available (required by /usr/sbin/nginx)\\nrsyslogd: /azureml-envs/azureml_8eff28b157f42edcd2424a5aae6c8074/lib/libuuid.so.1: no version information available (required by rsyslogd)\\nEdgeHubConnectionString and IOTEDGE_IOTHUBHOSTNAME are not set. Exiting...\\n2021-01-01T10:59:12,408920400+00:00 - iot-server/finish 1 0\\n2021-01-01T10:59:12,417048200+00:00 - Exit code 1 is normal. Not restarting iot-server.\\nStarting gunicorn 19.9.0\\nListening at: http://127.0.0.1:31311 (66)\\nUsing worker: sync\\nworker timeout is set to 300\\nBooting worker with pid: 96\\nSPARK_HOME not set. Skipping PySpark Initialization.\\nGenerating new fontManager, this may take some time...\\nInitializing logger\\n2021-01-01 10:59:17,973 | root | INFO | Starting up app insights client\\nStarting up app insights client\\n2021-01-01 10:59:17,976 | root | INFO | Starting up request id generator\\nStarting up request id generator\\n2021-01-01 10:59:17,976 | root | INFO | Starting up app insight hooks\\nStarting up app insight hooks\\n2021-01-01 10:59:17,976 | root | INFO | Invoking user\\'s init function\\nInvoking user\\'s init function\\n2021-01-01 10:59:26,562 | root | INFO | Users\\'s init has completed successfully\\nUsers\\'s init has completed successfully\\n2021-01-01 10:59:26,569 | root | INFO | Skipping middleware: dbg_model_info as it\\'s not enabled.\\nSkipping middleware: dbg_model_info as it\\'s not enabled.\\n2021-01-01 10:59:26,569 | root | INFO | Skipping middleware: dbg_resource_usage as it\\'s not enabled.\\nSkipping middleware: dbg_resource_usage as it\\'s not enabled.\\n2021-01-01 10:59:26,572 | root | INFO | Scoring timeout is found from os.environ: 60000 ms\\nScoring timeout is found from os.environ: 60000 ms\\n2021-01-01 10:59:26,620 | root | INFO | 200\\n200\\n127.0.0.1 - - [01/Jan/2021:10:59:26 +0000] \"GET /swagger.json HTTP/1.0\" 200 2862 \"-\" \"Go-http-client/1.1\"\\n2021-01-01 10:59:29,969 | root | INFO | 200\\n200\\n127.0.0.1 - - [01/Jan/2021:10:59:29 +0000] \"GET /swagger.json HTTP/1.0\" 200 2862 \"-\" \"Go-http-client/1.1\"\\n2021-01-01 10:59:49,992 | root | INFO | 200\\n200\\n127.0.0.1 - - [01/Jan/2021:10:59:49 +0000] \"GET /swagger.json HTTP/1.0\" 200 2862 \"-\" \"Go-http-client/1.1\"\\n2021-01-01 10:59:50,717 | root | INFO | 200\\n200\\n127.0.0.1 - - [01/Jan/2021:10:59:50 +0000] \"GET /swagger.json HTTP/1.0\" 200 2862 \"-\" \"Go-http-client/1.1\"\\n2021-01-01 11:00:35,600 | root | INFO | Validation Request Content-Type\\nValidation Request Content-Type\\n2021-01-01 11:00:35,600 | root | INFO | \\tHost: localhost:5001\\n\\tHost: localhost:5001\\n2021-01-01 11:00:35,601 | root | INFO | \\tX-Real-Ip: 127.0.0.1\\n\\tX-Real-Ip: 127.0.0.1\\n2021-01-01 11:00:35,601 | root | INFO | \\tX-Forwarded-For: 127.0.0.1\\n\\tX-Forwarded-For: 127.0.0.1\\n2021-01-01 11:00:35,601 | root | INFO | \\tX-Forwarded-Proto: http\\n\\tX-Forwarded-Proto: http\\n2021-01-01 11:00:35,601 | root | INFO | \\tConnection: close\\n\\tConnection: close\\n2021-01-01 11:00:35,601 | root | INFO | \\tContent-Length: 472\\n\\tContent-Length: 472\\n2021-01-01 11:00:35,601 | root | INFO | \\tUser-Agent: python-requests/2.25.0\\n\\tUser-Agent: python-requests/2.25.0\\n2021-01-01 11:00:35,601 | root | INFO | \\tAccept: */*\\n\\tAccept: */*\\n2021-01-01 11:00:35,602 | root | INFO | \\tAccept-Encoding: gzip, deflate\\n\\tAccept-Encoding: gzip, deflate\\n2021-01-01 11:00:35,602 | root | INFO | \\tContent-Type: application/json\\n\\tContent-Type: application/json\\n2021-01-01 11:00:35,603 | root | INFO | \\tX-Ms-Request-Id: 71ba613a-6f8f-4dd5-87ed-c3ea3e366645\\n\\tX-Ms-Request-Id: 71ba613a-6f8f-4dd5-87ed-c3ea3e366645\\n2021-01-01 11:00:35,604 | root | INFO | Scoring Timer is set to 60.0 seconds\\nScoring Timer is set to 60.0 seconds\\n2021-01-01 11:00:36,148 | root | INFO | 200\\n200\\n127.0.0.1 - - [01/Jan/2021:11:00:36 +0000] \"POST /score HTTP/1.0\" 200 22 \"-\" \"python-requests/2.25.0\"\\n2021-01-01 11:00:45,760 | root | INFO | Validation Request Content-Type\\nValidation Request Content-Type\\n2021-01-01 11:00:45,761 | root | INFO | \\tHost: localhost:5001\\n\\tHost: localhost:5001\\n2021-01-01 11:00:45,761 | root | INFO | \\tX-Real-Ip: 127.0.0.1\\n\\tX-Real-Ip: 127.0.0.1\\n2021-01-01 11:00:45,762 | root | INFO | \\tX-Forwarded-For: 127.0.0.1\\n\\tX-Forwarded-For: 127.0.0.1\\n2021-01-01 11:00:45,762 | root | INFO | \\tX-Forwarded-Proto: http\\n\\tX-Forwarded-Proto: http\\n2021-01-01 11:00:45,763 | root | INFO | \\tConnection: close\\n\\tConnection: close\\n2021-01-01 11:00:45,763 | root | INFO | \\tContent-Length: 472\\n\\tContent-Length: 472\\n2021-01-01 11:00:45,763 | root | INFO | \\tUser-Agent: python-requests/2.25.0\\n\\tUser-Agent: python-requests/2.25.0\\n2021-01-01 11:00:45,764 | root | INFO | \\tAccept: */*\\n\\tAccept: */*\\n2021-01-01 11:00:45,764 | root | INFO | \\tAccept-Encoding: gzip, deflate\\n\\tAccept-Encoding: gzip, deflate\\n2021-01-01 11:00:45,764 | root | INFO | \\tContent-Type: application/json\\n\\tContent-Type: application/json\\n2021-01-01 11:00:45,765 | root | INFO | \\tX-Ms-Request-Id: 0d3e98a9-b487-4c34-a7d0-2456bcb6d0b6\\n\\tX-Ms-Request-Id: 0d3e98a9-b487-4c34-a7d0-2456bcb6d0b6\\n2021-01-01 11:00:45,765 | root | INFO | Scoring Timer is set to 60.0 seconds\\nScoring Timer is set to 60.0 seconds\\n2021-01-01 11:00:46,332 | root | INFO | 200\\n200\\n127.0.0.1 - - [01/Jan/2021:11:00:46 +0000] \"POST /score HTTP/1.0\" 200 22 \"-\" \"python-requests/2.25.0\"\\n2021-01-01 11:00:55,936 | root | INFO | Validation Request Content-Type\\nValidation Request Content-Type\\n2021-01-01 11:00:55,937 | root | INFO | \\tHost: localhost:5001\\n\\tHost: localhost:5001\\n2021-01-01 11:00:55,937 | root | INFO | \\tX-Real-Ip: 127.0.0.1\\n\\tX-Real-Ip: 127.0.0.1\\n2021-01-01 11:00:55,938 | root | INFO | \\tX-Forwarded-For: 127.0.0.1\\n\\tX-Forwarded-For: 127.0.0.1\\n2021-01-01 11:00:55,938 | root | INFO | \\tX-Forwarded-Proto: http\\n\\tX-Forwarded-Proto: http\\n2021-01-01 11:00:55,938 | root | INFO | \\tConnection: close\\n\\tConnection: close\\n2021-01-01 11:00:55,939 | root | INFO | \\tContent-Length: 710\\n\\tContent-Length: 710\\n2021-01-01 11:00:55,939 | root | INFO | \\tUser-Agent: python-requests/2.25.0\\n\\tUser-Agent: python-requests/2.25.0\\n2021-01-01 11:00:55,939 | root | INFO | \\tAccept: application/json\\n\\tAccept: application/json\\n2021-01-01 11:00:55,940 | root | INFO | \\tAccept-Encoding: gzip, deflate\\n\\tAccept-Encoding: gzip, deflate\\n2021-01-01 11:00:55,940 | root | INFO | \\tContent-Type: application/json\\n\\tContent-Type: application/json\\n2021-01-01 11:00:55,940 | root | INFO | \\tX-Ms-Request-Id: ebbacbb1-6050-4208-8502-98d27f8df6fd\\n\\tX-Ms-Request-Id: ebbacbb1-6050-4208-8502-98d27f8df6fd\\n2021-01-01 11:00:55,940 | root | INFO | Scoring Timer is set to 60.0 seconds\\nScoring Timer is set to 60.0 seconds\\n2021-01-01 11:00:56,479 | root | INFO | 200\\n200\\n127.0.0.1 - - [01/Jan/2021:11:00:56 +0000] \"POST /score HTTP/1.0\" 200 25 \"-\" \"python-requests/2.25.0\"\\n'"
          },
          "metadata": {}
        }
      ],
      "execution_count": 62,
      "metadata": {}
    },
    {
      "cell_type": "code",
      "source": [
        "# Delete the service\n",
        "service.delete()"
      ],
      "outputs": [],
      "execution_count": 54,
      "metadata": {
        "jupyter": {
          "outputs_hidden": false,
          "source_hidden": false
        },
        "nteract": {
          "transient": {
            "deleting": false
          }
        }
      }
    },
    {
      "cell_type": "code",
      "source": [
        "new_cluster.delete()"
      ],
      "outputs": [],
      "execution_count": 55,
      "metadata": {}
    }
  ],
  "metadata": {
    "kernel_info": {
      "name": "python3-azureml"
    },
    "kernelspec": {
      "display_name": "Python 3.6 - AzureML",
      "language": "python",
      "name": "python3-azureml"
    },
    "language_info": {
      "codemirror_mode": {
        "name": "ipython",
        "version": 3
      },
      "file_extension": ".py",
      "mimetype": "text/x-python",
      "name": "python",
      "nbconvert_exporter": "python",
      "pygments_lexer": "ipython3",
      "version": "3.6.9"
    },
    "nteract": {
      "version": "nteract-front-end@1.0.0"
    }
  },
  "nbformat": 4,
  "nbformat_minor": 2
}