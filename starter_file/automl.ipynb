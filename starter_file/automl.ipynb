{
  "cells": [
    {
      "cell_type": "markdown",
      "source": [
        "# Automated ML\n",
        "\n",
        "Below are the dependencies that will be needed to complete the project."
      ],
      "metadata": {}
    },
    {
      "cell_type": "code",
      "source": [
        "import azureml.core\n",
        "from azureml.core.compute import ComputeTarget, AmlCompute\n",
        "from azureml.core.compute_target import ComputeTargetException\n",
        "from azureml.core.dataset import Dataset\n",
        "from azureml.core.workspace import Workspace\n",
        "from azureml.core import Experiment, Webservice, Model\n",
        "from azureml.train.automl import AutoMLConfig\n",
        "from azureml.widgets import RunDetails\n",
        "from azureml.core.environment import Environment\n",
        "from azureml.core.model import InferenceConfig\n",
        "from azureml.core.webservice import AciWebservice\n",
        "from azureml.core.conda_dependencies import CondaDependencies\n",
        "\n",
        "\n",
        "import pandas as pd\n",
        "import sklearn\n",
        "import json\n",
        "\n",
        "# Check core SDK version number\n",
        "print(\"SDK version:\", azureml.core.VERSION)"
      ],
      "outputs": [
        {
          "output_type": "stream",
          "name": "stdout",
          "text": [
            "SDK version: 1.19.0\n"
          ]
        }
      ],
      "execution_count": 1,
      "metadata": {
        "gather": {
          "logged": 1598423888013
        },
        "jupyter": {
          "outputs_hidden": false,
          "source_hidden": false
        },
        "nteract": {
          "transient": {
            "deleting": false
          }
        }
      }
    },
    {
      "cell_type": "markdown",
      "source": [
        "## Dataset\n",
        "\n",
        "### Overview\n",
        "TODO: In this markdown cell, give an overview of the dataset you are using. Also mention the task you will be performing.\n",
        "\n",
        "\n",
        "TODO: Get data. In the cell below, write code to access the data you will be using in this project. Remember that the dataset needs to be external."
      ],
      "metadata": {}
    },
    {
      "cell_type": "code",
      "source": [
        "ws = Workspace.from_config()\n",
        "print(ws.name, ws.resource_group, ws.subscription_id, sep = '\\n')"
      ],
      "outputs": [
        {
          "output_type": "stream",
          "name": "stdout",
          "text": [
            "quick-starts-ws-132535\n",
            "aml-quickstarts-132535\n",
            "f9d5a085-54dc-4215-9ba6-dad5d86e60a0\n"
          ]
        }
      ],
      "execution_count": 2,
      "metadata": {}
    },
    {
      "cell_type": "code",
      "source": [
        "# choose a name for experiment\n",
        "experiment_name = 'capstone-heart-failure-exp'\n",
        "\n",
        "experiment=Experiment(ws, experiment_name)\n",
        "experiment"
      ],
      "outputs": [
        {
          "output_type": "execute_result",
          "execution_count": 3,
          "data": {
            "text/html": "<table style=\"width:100%\"><tr><th>Name</th><th>Workspace</th><th>Report Page</th><th>Docs Page</th></tr><tr><td>capstone-heart-failure-exp</td><td>quick-starts-ws-132535</td><td><a href=\"https://ml.azure.com/experiments/capstone-heart-failure-exp?wsid=/subscriptions/f9d5a085-54dc-4215-9ba6-dad5d86e60a0/resourcegroups/aml-quickstarts-132535/workspaces/quick-starts-ws-132535\" target=\"_blank\" rel=\"noopener\">Link to Azure Machine Learning studio</a></td><td><a href=\"https://docs.microsoft.com/en-us/python/api/azureml-core/azureml.core.experiment.Experiment?view=azure-ml-py\" target=\"_blank\" rel=\"noopener\">Link to Documentation</a></td></tr></table>",
            "text/plain": "Experiment(Name: capstone-heart-failure-exp,\nWorkspace: quick-starts-ws-132535)"
          },
          "metadata": {}
        }
      ],
      "execution_count": 3,
      "metadata": {
        "gather": {
          "logged": 1598423890461
        },
        "jupyter": {
          "outputs_hidden": false,
          "source_hidden": false
        },
        "nteract": {
          "transient": {
            "deleting": false
          }
        }
      }
    },
    {
      "cell_type": "code",
      "source": [
        "# TODO: Create compute cluster\n",
        "# Use vm_size = \"Standard_D2_V2\" in your provisioning configuration.\n",
        "# max_nodes should be no greater than 4.\n",
        "\n",
        "### YOUR CODE HERE ###\n",
        "cluster_name=\"cpu-cluster\"\n",
        "\n",
        "try:\n",
        "    new_cluster=ComputeTarget(workspace=ws, name=\"cpu-cluster\")\n",
        "    print(\"Existing cluster detected, make use of it!\")\n",
        "    \n",
        "except ComputeTargetException:\n",
        "    print(\"New compute cluster creation in progress...\")\n",
        "    compute_config = AmlCompute.provisioning_configuration(vm_size='STANDARD_D2_V2',vm_priority='dedicated',min_nodes=None,max_nodes=4)\n",
        "    new_cluster = ComputeTarget.create(ws, \"new_cluster\", compute_config)    \n",
        "    new_cluster.wait_for_completion(show_output=True)         \n",
        "    print(\"Cluster is ready\")"
      ],
      "outputs": [
        {
          "output_type": "stream",
          "name": "stdout",
          "text": [
            "Existing cluster detected, make use of it!\n"
          ]
        }
      ],
      "execution_count": 4,
      "metadata": {}
    },
    {
      "cell_type": "code",
      "source": [
        "datastore = ws.get_default_datastore()\n",
        "\n",
        "datastore.upload(src_dir='./', target_path='dataset/')"
      ],
      "outputs": [
        {
          "output_type": "stream",
          "name": "stdout",
          "text": [
            "Uploading an estimated of 15 files\n",
            "Target already exists. Skipping upload for dataset/automl.ipynb\n",
            "Target already exists. Skipping upload for dataset/automl.log\n",
            "Target already exists. Skipping upload for dataset/azureml_automl.log\n",
            "Target already exists. Skipping upload for dataset/score.py\n",
            "Target already exists. Skipping upload for dataset/.ipynb_aml_checkpoints/automl-checkpoint2020-11-30-19-47-52.ipynb\n",
            "Target already exists. Skipping upload for dataset/.ipynb_checkpoints/automl-checkpoint.ipynb\n",
            "Target already exists. Skipping upload for dataset/deploy-to-cloud/model-register-and-deploy.ipynb\n",
            "Target already exists. Skipping upload for dataset/deploy-to-cloud/model-register-and-deploy.yml\n",
            "Target already exists. Skipping upload for dataset/deploy-to-cloud/README.md\n",
            "Target already exists. Skipping upload for dataset/deploy-to-cloud/score.py\n",
            "Target already exists. Skipping upload for dataset/enable-app-insights-in-production-service/enable-app-insights-in-production-service.ipynb\n",
            "Target already exists. Skipping upload for dataset/enable-app-insights-in-production-service/enable-app-insights-in-production-service.yml\n",
            "Target already exists. Skipping upload for dataset/enable-app-insights-in-production-service/sklearn_regression_model.pkl\n",
            "Target already exists. Skipping upload for dataset/enable-app-insights-in-production-service/.ipynb_checkpoints/enable-app-insights-in-production-service-checkpoint.ipynb\n",
            "Uploading ./deploy-to-cloud/.ipynb_checkpoints/model-register-and-deploy-checkpoint.ipynb\n",
            "Uploaded ./deploy-to-cloud/.ipynb_checkpoints/model-register-and-deploy-checkpoint.ipynb, 1 files out of an estimated total of 5\n",
            "Uploaded 1 files\n"
          ]
        },
        {
          "output_type": "execute_result",
          "execution_count": 51,
          "data": {
            "text/plain": "$AZUREML_DATAREFERENCE_5634db4b0fe74072b91bcb5495598737"
          },
          "metadata": {}
        }
      ],
      "execution_count": 51,
      "metadata": {}
    },
    {
      "cell_type": "code",
      "source": [
        "dataset = Dataset.get_by_name(ws, name=\"heart-failure\")\n",
        "print(\"Dataset is registered\")\n",
        "dataset"
      ],
      "outputs": [
        {
          "output_type": "stream",
          "name": "stdout",
          "text": [
            "Dataset is registered\n"
          ]
        },
        {
          "output_type": "execute_result",
          "execution_count": 6,
          "data": {
            "text/plain": "{\n  \"source\": [\n    \"('workspaceblobstore', 'UI/12-30-2020_075053_UTC/heart_failure_clinical_records_dataset.csv')\"\n  ],\n  \"definition\": [\n    \"GetDatastoreFiles\",\n    \"ParseDelimited\",\n    \"DropColumns\",\n    \"SetColumnTypes\"\n  ],\n  \"registration\": {\n    \"id\": \"ca7c8ad6-58e5-4b4b-ad00-6b116befbde0\",\n    \"name\": \"heart-failure\",\n    \"version\": 1,\n    \"description\": \"External data from kaggle\",\n    \"workspace\": \"Workspace.create(name='quick-starts-ws-132535', subscription_id='f9d5a085-54dc-4215-9ba6-dad5d86e60a0', resource_group='aml-quickstarts-132535')\"\n  }\n}"
          },
          "metadata": {}
        }
      ],
      "execution_count": 6,
      "metadata": {}
    },
    {
      "cell_type": "code",
      "source": [
        "dataset.take(5).to_pandas_dataframe()"
      ],
      "outputs": [
        {
          "output_type": "execute_result",
          "execution_count": 7,
          "data": {
            "text/html": "<div>\n<style scoped>\n    .dataframe tbody tr th:only-of-type {\n        vertical-align: middle;\n    }\n\n    .dataframe tbody tr th {\n        vertical-align: top;\n    }\n\n    .dataframe thead th {\n        text-align: right;\n    }\n</style>\n<table border=\"1\" class=\"dataframe\">\n  <thead>\n    <tr style=\"text-align: right;\">\n      <th></th>\n      <th>age</th>\n      <th>anaemia</th>\n      <th>creatinine_phosphokinase</th>\n      <th>diabetes</th>\n      <th>ejection_fraction</th>\n      <th>high_blood_pressure</th>\n      <th>platelets</th>\n      <th>serum_creatinine</th>\n      <th>serum_sodium</th>\n      <th>sex</th>\n      <th>smoking</th>\n      <th>time</th>\n      <th>DEATH_EVENT</th>\n    </tr>\n  </thead>\n  <tbody>\n    <tr>\n      <th>0</th>\n      <td>75.0</td>\n      <td>0</td>\n      <td>582</td>\n      <td>0</td>\n      <td>20</td>\n      <td>1</td>\n      <td>265000.00</td>\n      <td>1.9</td>\n      <td>130</td>\n      <td>1</td>\n      <td>0</td>\n      <td>4</td>\n      <td>1</td>\n    </tr>\n    <tr>\n      <th>1</th>\n      <td>55.0</td>\n      <td>0</td>\n      <td>7861</td>\n      <td>0</td>\n      <td>38</td>\n      <td>0</td>\n      <td>263358.03</td>\n      <td>1.1</td>\n      <td>136</td>\n      <td>1</td>\n      <td>0</td>\n      <td>6</td>\n      <td>1</td>\n    </tr>\n    <tr>\n      <th>2</th>\n      <td>65.0</td>\n      <td>0</td>\n      <td>146</td>\n      <td>0</td>\n      <td>20</td>\n      <td>0</td>\n      <td>162000.00</td>\n      <td>1.3</td>\n      <td>129</td>\n      <td>1</td>\n      <td>1</td>\n      <td>7</td>\n      <td>1</td>\n    </tr>\n    <tr>\n      <th>3</th>\n      <td>50.0</td>\n      <td>1</td>\n      <td>111</td>\n      <td>0</td>\n      <td>20</td>\n      <td>0</td>\n      <td>210000.00</td>\n      <td>1.9</td>\n      <td>137</td>\n      <td>1</td>\n      <td>0</td>\n      <td>7</td>\n      <td>1</td>\n    </tr>\n    <tr>\n      <th>4</th>\n      <td>65.0</td>\n      <td>1</td>\n      <td>160</td>\n      <td>1</td>\n      <td>20</td>\n      <td>0</td>\n      <td>327000.00</td>\n      <td>2.7</td>\n      <td>116</td>\n      <td>0</td>\n      <td>0</td>\n      <td>8</td>\n      <td>1</td>\n    </tr>\n  </tbody>\n</table>\n</div>",
            "text/plain": "    age  anaemia  creatinine_phosphokinase  diabetes  ejection_fraction  \\\n0  75.0        0                       582         0                 20   \n1  55.0        0                      7861         0                 38   \n2  65.0        0                       146         0                 20   \n3  50.0        1                       111         0                 20   \n4  65.0        1                       160         1                 20   \n\n   high_blood_pressure  platelets  serum_creatinine  serum_sodium  sex  \\\n0                    1  265000.00               1.9           130    1   \n1                    0  263358.03               1.1           136    1   \n2                    0  162000.00               1.3           129    1   \n3                    0  210000.00               1.9           137    1   \n4                    0  327000.00               2.7           116    0   \n\n   smoking  time  DEATH_EVENT  \n0        0     4            1  \n1        0     6            1  \n2        1     7            1  \n3        0     7            1  \n4        0     8            1  "
          },
          "metadata": {}
        }
      ],
      "execution_count": 7,
      "metadata": {}
    },
    {
      "cell_type": "markdown",
      "source": [
        "## AutoML Configuration\n",
        "\n",
        "The following code shows a basic example of creating an AutoMLConfig object and submitting an experiment for classification.\n",
        "I chose the automl settings below because I wanted to specify the experiment type as classification. The classification experiment will be carried out using AUC weighted as the primary metric with experiment timeout minutes set to 30 minutes and 5 cross-validation folds with the maximum number of iterations that would be executed concurrently set to 4.\n",
        "All of these settings defines the machine learning task.\n",
        "\n",
        "\n",
        "The configuration object below contains and persists the parameters for configuring the experiment run, as well as the training data to be used at run time."
      ],
      "metadata": {}
    },
    {
      "cell_type": "code",
      "source": [
        "automl_settings = {\n",
        "    \"experiment_timeout_minutes\": 30,\n",
        "    \"max_concurrent_iterations\": 5,\n",
        "    \"primary_metric\" : 'AUC_weighted',\n",
        "    \"n_cross_validations\": 5\n",
        "}\n",
        "automl_config = AutoMLConfig(compute_target=new_cluster,\n",
        "                             task = \"classification\",\n",
        "                             training_data=dataset,\n",
        "                             label_column_name=\"DEATH_EVENT\", \n",
        "                             enable_early_stopping= True,\n",
        "                             featurization= 'auto',\n",
        "                             enable_voting_ensemble= True,\n",
        "                             **automl_settings\n",
        "                            )"
      ],
      "outputs": [],
      "execution_count": 8,
      "metadata": {
        "gather": {
          "logged": 1598429217746
        },
        "jupyter": {
          "outputs_hidden": false,
          "source_hidden": false
        },
        "nteract": {
          "transient": {
            "deleting": false
          }
        }
      }
    },
    {
      "cell_type": "code",
      "source": [
        "# TODO: Submit your experiment\n",
        "\n",
        "remote_run = experiment.submit(automl_config, show_output=True)"
      ],
      "outputs": [
        {
          "output_type": "stream",
          "name": "stdout",
          "text": [
            "Running on remote.\n",
            "No run_configuration provided, running on cpu-cluster with default configuration\n",
            "Running on remote compute: cpu-cluster\n",
            "Parent Run ID: AutoML_61692633-c857-46d4-a6b3-629dfff50e12\n",
            "\n",
            "Current status: FeaturesGeneration. Generating features for the dataset.\n",
            "Current status: ModelSelection. Beginning model selection.\n",
            "\n",
            "****************************************************************************************************\n",
            "DATA GUARDRAILS: \n",
            "\n",
            "TYPE:         Class balancing detection\n",
            "STATUS:       PASSED\n",
            "DESCRIPTION:  Your inputs were analyzed, and all classes are balanced in your training data.\n",
            "              Learn more about imbalanced data: https://aka.ms/AutomatedMLImbalancedData\n",
            "\n",
            "****************************************************************************************************\n",
            "\n",
            "TYPE:         Missing feature values imputation\n",
            "STATUS:       PASSED\n",
            "DESCRIPTION:  No feature missing values were detected in the training data.\n",
            "              Learn more about missing value imputation: https://aka.ms/AutomatedMLFeaturization\n",
            "\n",
            "****************************************************************************************************\n",
            "\n",
            "TYPE:         High cardinality feature detection\n",
            "STATUS:       PASSED\n",
            "DESCRIPTION:  Your inputs were analyzed, and no high cardinality features were detected.\n",
            "              Learn more about high cardinality feature handling: https://aka.ms/AutomatedMLFeaturization\n",
            "\n",
            "****************************************************************************************************\n",
            "\n",
            "****************************************************************************************************\n",
            "ITERATION: The iteration being evaluated.\n",
            "PIPELINE: A summary description of the pipeline being evaluated.\n",
            "DURATION: Time taken for the current iteration.\n",
            "METRIC: The result of computing score on the fitted pipeline.\n",
            "BEST: The best observed score thus far.\n",
            "****************************************************************************************************\n",
            "\n",
            " ITERATION   PIPELINE                                       DURATION      METRIC      BEST\n",
            "         1   MaxAbsScaler XGBoostClassifier                 0:00:42       0.8930    0.8930\n",
            "         0   MaxAbsScaler LightGBM                          0:00:45       0.8811    0.8930\n",
            "         3   RobustScaler ExtremeRandomTrees                0:00:43       0.8791    0.8930\n",
            "         4   MinMaxScaler RandomForest                      0:00:47       0.9109    0.9109\n",
            "         7   MinMaxScaler ExtremeRandomTrees                0:00:47       0.8880    0.9109\n",
            "         8   MinMaxScaler ExtremeRandomTrees                0:00:50       0.8541    0.9109\n",
            "         9   SparseNormalizer KNN                           0:00:44       0.7515    0.9109\n",
            "         2   MinMaxScaler RandomForest                      0:03:18       0.8932    0.9109\n",
            "         5   MinMaxScaler RandomForest                      0:03:17       0.9048    0.9109\n",
            "         6   StandardScalerWrapper RandomForest             0:03:21       0.8929    0.9109\n",
            "        10   MinMaxScaler ExtremeRandomTrees                0:00:40       0.8884    0.9109\n",
            "        12   StandardScalerWrapper RandomForest             0:00:42       0.9009    0.9109\n",
            "        11   RobustScaler ExtremeRandomTrees                0:00:53       0.8928    0.9109\n",
            "        14   RobustScaler RandomForest                      0:00:44       0.8907    0.9109\n",
            "        13   StandardScalerWrapper SGD                      0:00:43       0.8737    0.9109\n",
            "        15   StandardScalerWrapper KNN                      0:00:46       0.4823    0.9109\n",
            "        16   MinMaxScaler RandomForest                      0:00:51       0.8901    0.9109\n",
            "        17   MinMaxScaler ExtremeRandomTrees                0:00:38       0.8053    0.9109\n",
            "        18   MaxAbsScaler RandomForest                      0:00:42       0.8918    0.9109\n",
            "        19   StandardScalerWrapper XGBoostClassifier        0:00:40       0.9072    0.9109\n",
            "        20   MaxAbsScaler RandomForest                      0:00:43       0.8984    0.9109\n",
            "        21   MaxAbsScaler ExtremeRandomTrees                0:00:26       0.8624    0.9109\n",
            "        22   MaxAbsScaler ExtremeRandomTrees                0:00:38       0.8612    0.9109\n",
            "        23   MinMaxScaler RandomForest                      0:00:44       0.9071    0.9109\n",
            "        24   MaxAbsScaler ExtremeRandomTrees                0:00:52       0.8978    0.9109\n",
            "        25   MinMaxScaler RandomForest                      0:00:42       0.8829    0.9109\n",
            "        26   MinMaxScaler ExtremeRandomTrees                0:00:38       0.9028    0.9109\n",
            "        27   MaxAbsScaler RandomForest                      0:00:42       0.8982    0.9109\n",
            "        28   StandardScalerWrapper LightGBM                 0:00:40       0.8361    0.9109\n",
            "        29   RobustScaler LightGBM                          0:00:43       0.8916    0.9109\n",
            "        30   RobustScaler RandomForest                      0:00:37       0.7891    0.9109\n",
            "        31   StandardScalerWrapper XGBoostClassifier        0:00:50       0.9065    0.9109\n",
            "        32   RobustScaler RandomForest                      0:00:45       0.9156    0.9156\n",
            "        33   StandardScalerWrapper RandomForest             0:00:44       0.9090    0.9156\n",
            "        34   MaxAbsScaler RandomForest                      0:00:43       0.8993    0.9156\n",
            "        35   StandardScalerWrapper LightGBM                 0:00:45       0.8985    0.9156\n",
            "        36   RobustScaler LightGBM                          0:00:39       0.9040    0.9156\n",
            "        37   MinMaxScaler LightGBM                          0:00:41       0.8956    0.9156\n",
            "        38   StandardScalerWrapper LightGBM                 0:00:48       0.8979    0.9156\n",
            "        39   MaxAbsScaler LightGBM                          0:00:43       0.9110    0.9156\n",
            "        40   RobustScaler RandomForest                      0:00:43       0.8815    0.9156\n",
            "        41   MinMaxScaler GradientBoosting                  0:00:41       0.9081    0.9156\n",
            "        42   MaxAbsScaler GradientBoosting                  0:00:42       0.9068    0.9156\n",
            "        43   RobustScaler RandomForest                      0:00:42       0.9125    0.9156\n",
            "        44   MaxAbsScaler GradientBoosting                  0:00:41       0.9078    0.9156\n",
            "        45   TruncatedSVDWrapper RandomForest               0:00:39       0.8223    0.9156\n",
            "        46   RobustScaler GradientBoosting                  0:00:47       0.8875    0.9156\n",
            "        47   StandardScalerWrapper RandomForest             0:00:40       0.9061    0.9156\n",
            "        48   StandardScalerWrapper GradientBoosting         0:00:35       0.8921    0.9156\n",
            "        49                                                  0:00:19          nan    0.9156\n",
            "        50                                                  0:00:20          nan    0.9156\n",
            "        51    VotingEnsemble                                0:01:50       0.9208    0.9208\n",
            "        52    StackEnsemble                                 0:01:46       0.9173    0.9208\n"
          ]
        }
      ],
      "execution_count": 9,
      "metadata": {
        "gather": {
          "logged": 1598431107951
        },
        "jupyter": {
          "outputs_hidden": false,
          "source_hidden": false
        },
        "nteract": {
          "transient": {
            "deleting": false
          }
        }
      }
    },
    {
      "cell_type": "markdown",
      "source": [
        "## Run Details\n",
        "\n",
        "OPTIONAL: Write about the different models trained and their performance. Why do you think some models did better than others?\n",
        "\n",
        "TODO: In the cell below, use the `RunDetails` widget to show the different experiments."
      ],
      "metadata": {}
    },
    {
      "cell_type": "code",
      "source": [
        "RunDetails(remote_run).show()"
      ],
      "outputs": [
        {
          "output_type": "display_data",
          "data": {
            "application/vnd.jupyter.widget-view+json": {
              "model_id": "16baa94b7dca4f21a5ed6292e5ecc2b3",
              "version_major": 2,
              "version_minor": 0
            },
            "text/plain": "_AutoMLWidget(widget_settings={'childWidgetDisplay': 'popup', 'send_telemetry': False, 'log_level': 'INFO', 's…"
          },
          "metadata": {}
        },
        {
          "output_type": "display_data",
          "data": {
            "application/aml.mini.widget.v1": "{\"status\": \"Completed\", \"workbench_run_details_uri\": \"https://ml.azure.com/experiments/capstone-heart-failure-exp/runs/AutoML_61692633-c857-46d4-a6b3-629dfff50e12?wsid=/subscriptions/f9d5a085-54dc-4215-9ba6-dad5d86e60a0/resourcegroups/aml-quickstarts-132535/workspaces/quick-starts-ws-132535\", \"run_id\": \"AutoML_61692633-c857-46d4-a6b3-629dfff50e12\", \"run_properties\": {\"run_id\": \"AutoML_61692633-c857-46d4-a6b3-629dfff50e12\", \"created_utc\": \"2020-12-30T19:52:45.442302Z\", \"properties\": {\"num_iterations\": \"1000\", \"training_type\": \"TrainFull\", \"acquisition_function\": \"EI\", \"primary_metric\": \"AUC_weighted\", \"train_split\": \"0\", \"acquisition_parameter\": \"0\", \"num_cross_validation\": \"5\", \"target\": \"cpu-cluster\", \"AMLSettingsJsonString\": \"{\\\"path\\\":null,\\\"name\\\":\\\"capstone-heart-failure-exp\\\",\\\"subscription_id\\\":\\\"f9d5a085-54dc-4215-9ba6-dad5d86e60a0\\\",\\\"resource_group\\\":\\\"aml-quickstarts-132535\\\",\\\"workspace_name\\\":\\\"quick-starts-ws-132535\\\",\\\"region\\\":\\\"southcentralus\\\",\\\"compute_target\\\":\\\"cpu-cluster\\\",\\\"spark_service\\\":null,\\\"azure_service\\\":\\\"remote\\\",\\\"many_models\\\":false,\\\"pipeline_fetch_max_batch_size\\\":1,\\\"iterations\\\":1000,\\\"primary_metric\\\":\\\"AUC_weighted\\\",\\\"task_type\\\":\\\"classification\\\",\\\"data_script\\\":null,\\\"validation_size\\\":0.0,\\\"n_cross_validations\\\":5,\\\"y_min\\\":null,\\\"y_max\\\":null,\\\"num_classes\\\":null,\\\"featurization\\\":\\\"auto\\\",\\\"_ignore_package_version_incompatibilities\\\":false,\\\"is_timeseries\\\":false,\\\"max_cores_per_iteration\\\":1,\\\"max_concurrent_iterations\\\":5,\\\"iteration_timeout_minutes\\\":null,\\\"mem_in_mb\\\":null,\\\"enforce_time_on_windows\\\":false,\\\"experiment_timeout_minutes\\\":30,\\\"experiment_exit_score\\\":null,\\\"whitelist_models\\\":null,\\\"blacklist_algos\\\":[\\\"TensorFlowLinearClassifier\\\",\\\"TensorFlowDNN\\\"],\\\"supported_models\\\":[\\\"LinearSVM\\\",\\\"RandomForest\\\",\\\"AveragedPerceptronClassifier\\\",\\\"LogisticRegression\\\",\\\"ExtremeRandomTrees\\\",\\\"KNN\\\",\\\"LightGBM\\\",\\\"SVM\\\",\\\"MultinomialNaiveBayes\\\",\\\"TensorFlowLinearClassifier\\\",\\\"DecisionTree\\\",\\\"XGBoostClassifier\\\",\\\"BernoulliNaiveBayes\\\",\\\"SGD\\\",\\\"GradientBoosting\\\",\\\"TensorFlowDNN\\\"],\\\"auto_blacklist\\\":true,\\\"blacklist_samples_reached\\\":false,\\\"exclude_nan_labels\\\":true,\\\"verbosity\\\":20,\\\"_debug_log\\\":\\\"azureml_automl.log\\\",\\\"show_warnings\\\":false,\\\"model_explainability\\\":true,\\\"service_url\\\":null,\\\"sdk_url\\\":null,\\\"sdk_packages\\\":null,\\\"enable_onnx_compatible_models\\\":false,\\\"enable_split_onnx_featurizer_estimator_models\\\":false,\\\"vm_type\\\":\\\"STANDARD_D2_V2\\\",\\\"telemetry_verbosity\\\":20,\\\"send_telemetry\\\":true,\\\"enable_dnn\\\":false,\\\"scenario\\\":\\\"SDK-1.13.0\\\",\\\"environment_label\\\":null,\\\"force_text_dnn\\\":false,\\\"enable_feature_sweeping\\\":true,\\\"enable_early_stopping\\\":true,\\\"early_stopping_n_iters\\\":10,\\\"metrics\\\":null,\\\"enable_ensembling\\\":true,\\\"enable_stack_ensembling\\\":true,\\\"ensemble_iterations\\\":15,\\\"enable_tf\\\":false,\\\"enable_subsampling\\\":null,\\\"subsample_seed\\\":null,\\\"enable_nimbusml\\\":false,\\\"enable_streaming\\\":false,\\\"force_streaming\\\":false,\\\"track_child_runs\\\":true,\\\"allowed_private_models\\\":[],\\\"label_column_name\\\":\\\"DEATH_EVENT\\\",\\\"weight_column_name\\\":null,\\\"cv_split_column_names\\\":null,\\\"enable_local_managed\\\":false,\\\"_local_managed_run_id\\\":null,\\\"cost_mode\\\":1,\\\"lag_length\\\":0,\\\"metric_operation\\\":\\\"maximize\\\",\\\"preprocess\\\":true}\", \"DataPrepJsonString\": \"{\\\\\\\"training_data\\\\\\\": \\\\\\\"{\\\\\\\\\\\\\\\"blocks\\\\\\\\\\\\\\\": [{\\\\\\\\\\\\\\\"id\\\\\\\\\\\\\\\": \\\\\\\\\\\\\\\"b33242f9-7fc3-447c-990c-830125dd3a77\\\\\\\\\\\\\\\", \\\\\\\\\\\\\\\"type\\\\\\\\\\\\\\\": \\\\\\\\\\\\\\\"Microsoft.DPrep.GetDatastoreFilesBlock\\\\\\\\\\\\\\\", \\\\\\\\\\\\\\\"arguments\\\\\\\\\\\\\\\": {\\\\\\\\\\\\\\\"datastores\\\\\\\\\\\\\\\": [{\\\\\\\\\\\\\\\"datastoreName\\\\\\\\\\\\\\\": \\\\\\\\\\\\\\\"workspaceblobstore\\\\\\\\\\\\\\\", \\\\\\\\\\\\\\\"path\\\\\\\\\\\\\\\": \\\\\\\\\\\\\\\"UI/12-30-2020_075053_UTC/heart_failure_clinical_records_dataset.csv\\\\\\\\\\\\\\\", \\\\\\\\\\\\\\\"resourceGroup\\\\\\\\\\\\\\\": \\\\\\\\\\\\\\\"aml-quickstarts-132535\\\\\\\\\\\\\\\", \\\\\\\\\\\\\\\"subscription\\\\\\\\\\\\\\\": \\\\\\\\\\\\\\\"f9d5a085-54dc-4215-9ba6-dad5d86e60a0\\\\\\\\\\\\\\\", \\\\\\\\\\\\\\\"workspaceName\\\\\\\\\\\\\\\": \\\\\\\\\\\\\\\"quick-starts-ws-132535\\\\\\\\\\\\\\\"}]}, \\\\\\\\\\\\\\\"localData\\\\\\\\\\\\\\\": {}, \\\\\\\\\\\\\\\"isEnabled\\\\\\\\\\\\\\\": true, \\\\\\\\\\\\\\\"name\\\\\\\\\\\\\\\": null, \\\\\\\\\\\\\\\"annotation\\\\\\\\\\\\\\\": null}, {\\\\\\\\\\\\\\\"id\\\\\\\\\\\\\\\": \\\\\\\\\\\\\\\"534b1d39-a020-4d34-befe-a1abf6f4b799\\\\\\\\\\\\\\\", \\\\\\\\\\\\\\\"type\\\\\\\\\\\\\\\": \\\\\\\\\\\\\\\"Microsoft.DPrep.ParseDelimitedBlock\\\\\\\\\\\\\\\", \\\\\\\\\\\\\\\"arguments\\\\\\\\\\\\\\\": {\\\\\\\\\\\\\\\"columnHeadersMode\\\\\\\\\\\\\\\": 1, \\\\\\\\\\\\\\\"fileEncoding\\\\\\\\\\\\\\\": 0, \\\\\\\\\\\\\\\"handleQuotedLineBreaks\\\\\\\\\\\\\\\": false, \\\\\\\\\\\\\\\"preview\\\\\\\\\\\\\\\": false, \\\\\\\\\\\\\\\"separator\\\\\\\\\\\\\\\": \\\\\\\\\\\\\\\",\\\\\\\\\\\\\\\", \\\\\\\\\\\\\\\"skipRows\\\\\\\\\\\\\\\": 0, \\\\\\\\\\\\\\\"skipRowsMode\\\\\\\\\\\\\\\": 0}, \\\\\\\\\\\\\\\"localData\\\\\\\\\\\\\\\": {}, \\\\\\\\\\\\\\\"isEnabled\\\\\\\\\\\\\\\": true, \\\\\\\\\\\\\\\"name\\\\\\\\\\\\\\\": null, \\\\\\\\\\\\\\\"annotation\\\\\\\\\\\\\\\": null}, {\\\\\\\\\\\\\\\"id\\\\\\\\\\\\\\\": \\\\\\\\\\\\\\\"47f4b1c6-3e76-44d1-a99e-419fb261baea\\\\\\\\\\\\\\\", \\\\\\\\\\\\\\\"type\\\\\\\\\\\\\\\": \\\\\\\\\\\\\\\"Microsoft.DPrep.DropColumnsBlock\\\\\\\\\\\\\\\", \\\\\\\\\\\\\\\"arguments\\\\\\\\\\\\\\\": {\\\\\\\\\\\\\\\"columns\\\\\\\\\\\\\\\": {\\\\\\\\\\\\\\\"type\\\\\\\\\\\\\\\": 0, \\\\\\\\\\\\\\\"details\\\\\\\\\\\\\\\": {\\\\\\\\\\\\\\\"selectedColumns\\\\\\\\\\\\\\\": [\\\\\\\\\\\\\\\"Path\\\\\\\\\\\\\\\"]}}}, \\\\\\\\\\\\\\\"localData\\\\\\\\\\\\\\\": {}, \\\\\\\\\\\\\\\"isEnabled\\\\\\\\\\\\\\\": true, \\\\\\\\\\\\\\\"name\\\\\\\\\\\\\\\": null, \\\\\\\\\\\\\\\"annotation\\\\\\\\\\\\\\\": null}, {\\\\\\\\\\\\\\\"id\\\\\\\\\\\\\\\": \\\\\\\\\\\\\\\"0cd5117b-30a3-45c5-91ca-548939f0b202\\\\\\\\\\\\\\\", \\\\\\\\\\\\\\\"type\\\\\\\\\\\\\\\": \\\\\\\\\\\\\\\"Microsoft.DPrep.SetColumnTypesBlock\\\\\\\\\\\\\\\", \\\\\\\\\\\\\\\"arguments\\\\\\\\\\\\\\\": {\\\\\\\\\\\\\\\"columnConversion\\\\\\\\\\\\\\\": [{\\\\\\\\\\\\\\\"column\\\\\\\\\\\\\\\": {\\\\\\\\\\\\\\\"type\\\\\\\\\\\\\\\": 2, \\\\\\\\\\\\\\\"details\\\\\\\\\\\\\\\": {\\\\\\\\\\\\\\\"selectedColumn\\\\\\\\\\\\\\\": \\\\\\\\\\\\\\\"Path\\\\\\\\\\\\\\\"}}, \\\\\\\\\\\\\\\"typeProperty\\\\\\\\\\\\\\\": 0}, {\\\\\\\\\\\\\\\"column\\\\\\\\\\\\\\\": {\\\\\\\\\\\\\\\"type\\\\\\\\\\\\\\\": 2, \\\\\\\\\\\\\\\"details\\\\\\\\\\\\\\\": {\\\\\\\\\\\\\\\"selectedColumn\\\\\\\\\\\\\\\": \\\\\\\\\\\\\\\"age\\\\\\\\\\\\\\\"}}, \\\\\\\\\\\\\\\"typeProperty\\\\\\\\\\\\\\\": 3}, {\\\\\\\\\\\\\\\"column\\\\\\\\\\\\\\\": {\\\\\\\\\\\\\\\"type\\\\\\\\\\\\\\\": 2, \\\\\\\\\\\\\\\"details\\\\\\\\\\\\\\\": {\\\\\\\\\\\\\\\"selectedColumn\\\\\\\\\\\\\\\": \\\\\\\\\\\\\\\"anaemia\\\\\\\\\\\\\\\"}}, \\\\\\\\\\\\\\\"typeProperty\\\\\\\\\\\\\\\": 2}, {\\\\\\\\\\\\\\\"column\\\\\\\\\\\\\\\": {\\\\\\\\\\\\\\\"type\\\\\\\\\\\\\\\": 2, \\\\\\\\\\\\\\\"details\\\\\\\\\\\\\\\": {\\\\\\\\\\\\\\\"selectedColumn\\\\\\\\\\\\\\\": \\\\\\\\\\\\\\\"creatinine_phosphokinase\\\\\\\\\\\\\\\"}}, \\\\\\\\\\\\\\\"typeProperty\\\\\\\\\\\\\\\": 2}, {\\\\\\\\\\\\\\\"column\\\\\\\\\\\\\\\": {\\\\\\\\\\\\\\\"type\\\\\\\\\\\\\\\": 2, \\\\\\\\\\\\\\\"details\\\\\\\\\\\\\\\": {\\\\\\\\\\\\\\\"selectedColumn\\\\\\\\\\\\\\\": \\\\\\\\\\\\\\\"diabetes\\\\\\\\\\\\\\\"}}, \\\\\\\\\\\\\\\"typeProperty\\\\\\\\\\\\\\\": 2}, {\\\\\\\\\\\\\\\"column\\\\\\\\\\\\\\\": {\\\\\\\\\\\\\\\"type\\\\\\\\\\\\\\\": 2, \\\\\\\\\\\\\\\"details\\\\\\\\\\\\\\\": {\\\\\\\\\\\\\\\"selectedColumn\\\\\\\\\\\\\\\": \\\\\\\\\\\\\\\"ejection_fraction\\\\\\\\\\\\\\\"}}, \\\\\\\\\\\\\\\"typeProperty\\\\\\\\\\\\\\\": 2}, {\\\\\\\\\\\\\\\"column\\\\\\\\\\\\\\\": {\\\\\\\\\\\\\\\"type\\\\\\\\\\\\\\\": 2, \\\\\\\\\\\\\\\"details\\\\\\\\\\\\\\\": {\\\\\\\\\\\\\\\"selectedColumn\\\\\\\\\\\\\\\": \\\\\\\\\\\\\\\"high_blood_pressure\\\\\\\\\\\\\\\"}}, \\\\\\\\\\\\\\\"typeProperty\\\\\\\\\\\\\\\": 2}, {\\\\\\\\\\\\\\\"column\\\\\\\\\\\\\\\": {\\\\\\\\\\\\\\\"type\\\\\\\\\\\\\\\": 2, \\\\\\\\\\\\\\\"details\\\\\\\\\\\\\\\": {\\\\\\\\\\\\\\\"selectedColumn\\\\\\\\\\\\\\\": \\\\\\\\\\\\\\\"platelets\\\\\\\\\\\\\\\"}}, \\\\\\\\\\\\\\\"typeProperty\\\\\\\\\\\\\\\": 3}, {\\\\\\\\\\\\\\\"column\\\\\\\\\\\\\\\": {\\\\\\\\\\\\\\\"type\\\\\\\\\\\\\\\": 2, \\\\\\\\\\\\\\\"details\\\\\\\\\\\\\\\": {\\\\\\\\\\\\\\\"selectedColumn\\\\\\\\\\\\\\\": \\\\\\\\\\\\\\\"serum_creatinine\\\\\\\\\\\\\\\"}}, \\\\\\\\\\\\\\\"typeProperty\\\\\\\\\\\\\\\": 3}, {\\\\\\\\\\\\\\\"column\\\\\\\\\\\\\\\": {\\\\\\\\\\\\\\\"type\\\\\\\\\\\\\\\": 2, \\\\\\\\\\\\\\\"details\\\\\\\\\\\\\\\": {\\\\\\\\\\\\\\\"selectedColumn\\\\\\\\\\\\\\\": \\\\\\\\\\\\\\\"serum_sodium\\\\\\\\\\\\\\\"}}, \\\\\\\\\\\\\\\"typeProperty\\\\\\\\\\\\\\\": 2}, {\\\\\\\\\\\\\\\"column\\\\\\\\\\\\\\\": {\\\\\\\\\\\\\\\"type\\\\\\\\\\\\\\\": 2, \\\\\\\\\\\\\\\"details\\\\\\\\\\\\\\\": {\\\\\\\\\\\\\\\"selectedColumn\\\\\\\\\\\\\\\": \\\\\\\\\\\\\\\"sex\\\\\\\\\\\\\\\"}}, \\\\\\\\\\\\\\\"typeProperty\\\\\\\\\\\\\\\": 2}, {\\\\\\\\\\\\\\\"column\\\\\\\\\\\\\\\": {\\\\\\\\\\\\\\\"type\\\\\\\\\\\\\\\": 2, \\\\\\\\\\\\\\\"details\\\\\\\\\\\\\\\": {\\\\\\\\\\\\\\\"selectedColumn\\\\\\\\\\\\\\\": \\\\\\\\\\\\\\\"smoking\\\\\\\\\\\\\\\"}}, \\\\\\\\\\\\\\\"typeProperty\\\\\\\\\\\\\\\": 2}, {\\\\\\\\\\\\\\\"column\\\\\\\\\\\\\\\": {\\\\\\\\\\\\\\\"type\\\\\\\\\\\\\\\": 2, \\\\\\\\\\\\\\\"details\\\\\\\\\\\\\\\": {\\\\\\\\\\\\\\\"selectedColumn\\\\\\\\\\\\\\\": \\\\\\\\\\\\\\\"time\\\\\\\\\\\\\\\"}}, \\\\\\\\\\\\\\\"typeProperty\\\\\\\\\\\\\\\": 2}, {\\\\\\\\\\\\\\\"column\\\\\\\\\\\\\\\": {\\\\\\\\\\\\\\\"type\\\\\\\\\\\\\\\": 2, \\\\\\\\\\\\\\\"details\\\\\\\\\\\\\\\": {\\\\\\\\\\\\\\\"selectedColumn\\\\\\\\\\\\\\\": \\\\\\\\\\\\\\\"DEATH_EVENT\\\\\\\\\\\\\\\"}}, \\\\\\\\\\\\\\\"typeProperty\\\\\\\\\\\\\\\": 2}]}, \\\\\\\\\\\\\\\"localData\\\\\\\\\\\\\\\": {}, \\\\\\\\\\\\\\\"isEnabled\\\\\\\\\\\\\\\": true, \\\\\\\\\\\\\\\"name\\\\\\\\\\\\\\\": null, \\\\\\\\\\\\\\\"annotation\\\\\\\\\\\\\\\": null}], \\\\\\\\\\\\\\\"inspectors\\\\\\\\\\\\\\\": [], \\\\\\\\\\\\\\\"meta\\\\\\\\\\\\\\\": {\\\\\\\\\\\\\\\"savedDatasetId\\\\\\\\\\\\\\\": \\\\\\\\\\\\\\\"ca7c8ad6-58e5-4b4b-ad00-6b116befbde0\\\\\\\\\\\\\\\", \\\\\\\\\\\\\\\"datasetType\\\\\\\\\\\\\\\": \\\\\\\\\\\\\\\"tabular\\\\\\\\\\\\\\\", \\\\\\\\\\\\\\\"subscriptionId\\\\\\\\\\\\\\\": \\\\\\\\\\\\\\\"f9d5a085-54dc-4215-9ba6-dad5d86e60a0\\\\\\\\\\\\\\\", \\\\\\\\\\\\\\\"workspaceId\\\\\\\\\\\\\\\": \\\\\\\\\\\\\\\"6d040b22-e724-421b-af0c-30e7c7d4bf20\\\\\\\\\\\\\\\", \\\\\\\\\\\\\\\"workspaceLocation\\\\\\\\\\\\\\\": \\\\\\\\\\\\\\\"southcentralus\\\\\\\\\\\\\\\"}}\\\\\\\", \\\\\\\"activities\\\\\\\": 0}\", \"EnableSubsampling\": null, \"runTemplate\": \"AutoML\", \"azureml.runsource\": \"automl\", \"display_task_type\": \"classification\", \"dependencies_versions\": \"{\\\"azureml-widgets\\\": \\\"1.19.0\\\", \\\"azureml-train\\\": \\\"1.19.0\\\", \\\"azureml-train-restclients-hyperdrive\\\": \\\"1.19.0\\\", \\\"azureml-train-core\\\": \\\"1.19.0\\\", \\\"azureml-train-automl\\\": \\\"1.19.0\\\", \\\"azureml-train-automl-runtime\\\": \\\"1.19.0\\\", \\\"azureml-train-automl-client\\\": \\\"1.19.0\\\", \\\"azureml-tensorboard\\\": \\\"1.19.0\\\", \\\"azureml-telemetry\\\": \\\"1.19.0\\\", \\\"azureml-sdk\\\": \\\"1.19.0\\\", \\\"azureml-samples\\\": \\\"0+unknown\\\", \\\"azureml-pipeline\\\": \\\"1.19.0\\\", \\\"azureml-pipeline-steps\\\": \\\"1.19.0\\\", \\\"azureml-pipeline-core\\\": \\\"1.19.0\\\", \\\"azureml-opendatasets\\\": \\\"1.19.0\\\", \\\"azureml-model-management-sdk\\\": \\\"1.0.1b6.post1\\\", \\\"azureml-mlflow\\\": \\\"1.19.0\\\", \\\"azureml-interpret\\\": \\\"1.19.0\\\", \\\"azureml-explain-model\\\": \\\"1.19.0\\\", \\\"azureml-defaults\\\": \\\"1.19.0\\\", \\\"azureml-dataset-runtime\\\": \\\"1.19.0\\\", \\\"azureml-dataprep\\\": \\\"2.6.1\\\", \\\"azureml-dataprep-rslex\\\": \\\"1.4.0\\\", \\\"azureml-dataprep-native\\\": \\\"26.0.0\\\", \\\"azureml-datadrift\\\": \\\"1.19.0\\\", \\\"azureml-core\\\": \\\"1.19.0\\\", \\\"azureml-contrib-services\\\": \\\"1.19.0\\\", \\\"azureml-contrib-server\\\": \\\"1.19.0\\\", \\\"azureml-contrib-reinforcementlearning\\\": \\\"1.19.0\\\", \\\"azureml-contrib-pipeline-steps\\\": \\\"1.19.0\\\", \\\"azureml-contrib-notebook\\\": \\\"1.19.0\\\", \\\"azureml-contrib-interpret\\\": \\\"1.19.0\\\", \\\"azureml-contrib-gbdt\\\": \\\"1.19.0\\\", \\\"azureml-contrib-fairness\\\": \\\"1.19.0\\\", \\\"azureml-contrib-dataset\\\": \\\"1.19.0\\\", \\\"azureml-cli-common\\\": \\\"1.19.0\\\", \\\"azureml-automl-runtime\\\": \\\"1.19.0\\\", \\\"azureml-automl-core\\\": \\\"1.19.0\\\", \\\"azureml-accel-models\\\": \\\"1.19.0\\\"}\", \"_aml_system_scenario_identification\": \"Remote.Parent\", \"ClientType\": \"SDK\", \"environment_cpu_name\": \"AzureML-AutoML\", \"environment_cpu_label\": \"prod\", \"environment_gpu_name\": \"AzureML-AutoML-GPU\", \"environment_gpu_label\": \"prod\", \"root_attribution\": \"automl\", \"attribution\": \"AutoML\", \"Orchestrator\": \"AutoML\", \"CancelUri\": \"https://southcentralus.experiments.azureml.net/jasmine/v1.0/subscriptions/f9d5a085-54dc-4215-9ba6-dad5d86e60a0/resourceGroups/aml-quickstarts-132535/providers/Microsoft.MachineLearningServices/workspaces/quick-starts-ws-132535/experimentids/5482e67b-debd-44da-b9f8-fbcabaae6484/cancel/AutoML_61692633-c857-46d4-a6b3-629dfff50e12\", \"ClientSdkVersion\": \"1.19.0\", \"snapshotId\": \"00000000-0000-0000-0000-000000000000\", \"SetupRunId\": \"AutoML_61692633-c857-46d4-a6b3-629dfff50e12_setup\", \"SetupRunContainerId\": \"dcid.AutoML_61692633-c857-46d4-a6b3-629dfff50e12_setup\", \"FeaturizationRunJsonPath\": \"featurizer_container.json\", \"FeaturizationRunId\": \"AutoML_61692633-c857-46d4-a6b3-629dfff50e12_featurize\", \"ProblemInfoJsonString\": \"{\\\"dataset_num_categorical\\\": 0, \\\"is_sparse\\\": false, \\\"subsampling\\\": false, \\\"dataset_classes\\\": 2, \\\"dataset_features\\\": 12, \\\"dataset_samples\\\": 299, \\\"single_frequency_class_detected\\\": false}\", \"ModelExplainRunId\": \"AutoML_61692633-c857-46d4-a6b3-629dfff50e12_ModelExplain\"}, \"tags\": {\"model_explain_run\": \"best_run\", \"_aml_system_azureml.automlComponent\": \"AutoML\", \"pipeline_id\": \"\", \"score\": \"\", \"predicted_cost\": \"\", \"fit_time\": \"\", \"training_percent\": \"\", \"iteration\": \"\", \"run_preprocessor\": \"\", \"run_algorithm\": \"\", \"dynamic_whitelisting_iterations\": \"<25>;<30>;<34>;<40>;<45>;<50>;\", \"automl_best_child_run_id\": \"AutoML_61692633-c857-46d4-a6b3-629dfff50e12_51\", \"model_explain_best_run_child_id\": \"AutoML_61692633-c857-46d4-a6b3-629dfff50e12_51\"}, \"end_time_utc\": \"2020-12-30T20:18:39.441908Z\", \"status\": \"Completed\", \"log_files\": {}, \"log_groups\": [], \"run_duration\": \"0:25:53\"}, \"child_runs\": [{\"run_id\": \"AutoML_61692633-c857-46d4-a6b3-629dfff50e12_2\", \"run_number\": 5, \"metric\": null, \"status\": \"Completed\", \"run_type\": \"azureml.scriptrun\", \"training_percent\": \"100\", \"start_time\": \"2020-12-30T20:04:40.74045Z\", \"end_time\": \"2020-12-30T20:07:58.665645Z\", \"created_time\": \"2020-12-30T20:02:06.170348Z\", \"created_time_dt\": \"2020-12-30T20:02:06.170348Z\", \"duration\": \"0:05:52\", \"iteration\": \"2\", \"goal\": \"AUC_weighted_max\", \"run_name\": \"MinMaxScaler, RandomForest\", \"run_properties\": \"copy=True, feature_range=(0, 1\", \"primary_metric\": 0.89323978, \"best_metric\": 0.89323978}, {\"run_id\": \"AutoML_61692633-c857-46d4-a6b3-629dfff50e12_3\", \"run_number\": 6, \"metric\": null, \"status\": \"Completed\", \"run_type\": \"azureml.scriptrun\", \"training_percent\": \"100\", \"start_time\": \"2020-12-30T20:03:49.018374Z\", \"end_time\": \"2020-12-30T20:04:31.603028Z\", \"created_time\": \"2020-12-30T20:02:06.183282Z\", \"created_time_dt\": \"2020-12-30T20:02:06.183282Z\", \"duration\": \"0:02:25\", \"iteration\": \"3\", \"goal\": \"AUC_weighted_max\", \"run_name\": \"RobustScaler, ExtremeRandomTrees\", \"run_properties\": \"copy=True, quantile_range=[10, 90], with_centering=False,\\n             with_scaling=False\", \"primary_metric\": 0.87906195, \"best_metric\": 0.89323978}, {\"run_id\": \"AutoML_61692633-c857-46d4-a6b3-629dfff50e12_4\", \"run_number\": 7, \"metric\": null, \"status\": \"Completed\", \"run_type\": \"azureml.scriptrun\", \"training_percent\": \"100\", \"start_time\": \"2020-12-30T20:04:36.097766Z\", \"end_time\": \"2020-12-30T20:05:23.164581Z\", \"created_time\": \"2020-12-30T20:02:06.218195Z\", \"created_time_dt\": \"2020-12-30T20:02:06.218195Z\", \"duration\": \"0:03:16\", \"iteration\": \"4\", \"goal\": \"AUC_weighted_max\", \"run_name\": \"MinMaxScaler, RandomForest\", \"run_properties\": \"copy=True, feature_range=(0, 1\", \"primary_metric\": 0.91091491, \"best_metric\": 0.91091491}, {\"run_id\": \"AutoML_61692633-c857-46d4-a6b3-629dfff50e12_1\", \"run_number\": 8, \"metric\": null, \"status\": \"Completed\", \"run_type\": \"azureml.scriptrun\", \"training_percent\": \"100\", \"start_time\": \"2020-12-30T20:02:16.758582Z\", \"end_time\": \"2020-12-30T20:02:58.591864Z\", \"created_time\": \"2020-12-30T20:02:06.244711Z\", \"created_time_dt\": \"2020-12-30T20:02:06.244711Z\", \"duration\": \"0:00:52\", \"iteration\": \"1\", \"goal\": \"AUC_weighted_max\", \"run_name\": \"MaxAbsScaler, XGBoostClassifier\", \"run_properties\": \"copy=True\", \"primary_metric\": 0.89295912, \"best_metric\": 0.89295912}, {\"run_id\": \"AutoML_61692633-c857-46d4-a6b3-629dfff50e12_0\", \"run_number\": 9, \"metric\": null, \"status\": \"Completed\", \"run_type\": \"azureml.scriptrun\", \"training_percent\": \"100\", \"start_time\": \"2020-12-30T20:03:01.418969Z\", \"end_time\": \"2020-12-30T20:03:46.351481Z\", \"created_time\": \"2020-12-30T20:02:06.178354Z\", \"created_time_dt\": \"2020-12-30T20:02:06.178354Z\", \"duration\": \"0:01:40\", \"iteration\": \"0\", \"goal\": \"AUC_weighted_max\", \"run_name\": \"MaxAbsScaler, LightGBM\", \"run_properties\": \"copy=True\", \"primary_metric\": 0.88113312, \"best_metric\": 0.88113312}, {\"run_id\": \"AutoML_61692633-c857-46d4-a6b3-629dfff50e12_5\", \"run_number\": 10, \"metric\": null, \"status\": \"Completed\", \"run_type\": \"azureml.scriptrun\", \"training_percent\": \"100\", \"start_time\": \"2020-12-30T20:04:42.862323Z\", \"end_time\": \"2020-12-30T20:07:59.660246Z\", \"created_time\": \"2020-12-30T20:03:01.494847Z\", \"created_time_dt\": \"2020-12-30T20:03:01.494847Z\", \"duration\": \"0:04:58\", \"iteration\": \"5\", \"goal\": \"AUC_weighted_max\", \"run_name\": \"MinMaxScaler, RandomForest\", \"run_properties\": \"copy=True, feature_range=(0, 1\", \"primary_metric\": 0.90476073, \"best_metric\": 0.91091491}, {\"run_id\": \"AutoML_61692633-c857-46d4-a6b3-629dfff50e12_6\", \"run_number\": 11, \"metric\": null, \"status\": \"Completed\", \"run_type\": \"azureml.scriptrun\", \"training_percent\": \"100\", \"start_time\": \"2020-12-30T20:04:41.017496Z\", \"end_time\": \"2020-12-30T20:08:02.131776Z\", \"created_time\": \"2020-12-30T20:03:48.877435Z\", \"created_time_dt\": \"2020-12-30T20:03:48.877435Z\", \"duration\": \"0:04:13\", \"iteration\": \"6\", \"goal\": \"AUC_weighted_max\", \"run_name\": \"StandardScalerWrapper, RandomForest\", \"run_properties\": \"<azureml.automl.runtime.shared.model_wrappers.StandardScalerWrapper object at 0x7f7480dab9e8\", \"primary_metric\": 0.89285, \"best_metric\": 0.91091491}, {\"run_id\": \"AutoML_61692633-c857-46d4-a6b3-629dfff50e12_7\", \"run_number\": 12, \"metric\": null, \"status\": \"Completed\", \"run_type\": \"azureml.scriptrun\", \"training_percent\": \"100\", \"start_time\": \"2020-12-30T20:05:26.095622Z\", \"end_time\": \"2020-12-30T20:06:13.501134Z\", \"created_time\": \"2020-12-30T20:04:35.22602Z\", \"created_time_dt\": \"2020-12-30T20:04:35.22602Z\", \"duration\": \"0:01:38\", \"iteration\": \"7\", \"goal\": \"AUC_weighted_max\", \"run_name\": \"MinMaxScaler, ExtremeRandomTrees\", \"run_properties\": \"copy=True, feature_range=(0, 1\", \"primary_metric\": 0.88799709, \"best_metric\": 0.91091491}, {\"run_id\": \"AutoML_61692633-c857-46d4-a6b3-629dfff50e12_8\", \"run_number\": 13, \"metric\": null, \"status\": \"Completed\", \"run_type\": \"azureml.scriptrun\", \"training_percent\": \"100\", \"start_time\": \"2020-12-30T20:06:14.994615Z\", \"end_time\": \"2020-12-30T20:07:04.615986Z\", \"created_time\": \"2020-12-30T20:05:26.834708Z\", \"created_time_dt\": \"2020-12-30T20:05:26.834708Z\", \"duration\": \"0:01:37\", \"iteration\": \"8\", \"goal\": \"AUC_weighted_max\", \"run_name\": \"MinMaxScaler, ExtremeRandomTrees\", \"run_properties\": \"copy=True, feature_range=(0, 1\", \"primary_metric\": 0.85410087, \"best_metric\": 0.91091491}, {\"run_id\": \"AutoML_61692633-c857-46d4-a6b3-629dfff50e12_9\", \"run_number\": 14, \"metric\": null, \"status\": \"Completed\", \"run_type\": \"azureml.scriptrun\", \"training_percent\": \"100\", \"start_time\": \"2020-12-30T20:07:07.316004Z\", \"end_time\": \"2020-12-30T20:07:50.977758Z\", \"created_time\": \"2020-12-30T20:06:17.585529Z\", \"created_time_dt\": \"2020-12-30T20:06:17.585529Z\", \"duration\": \"0:01:33\", \"iteration\": \"9\", \"goal\": \"AUC_weighted_max\", \"run_name\": \"SparseNormalizer, KNN\", \"run_properties\": \"<azureml.automl.runtime.shared.model_wrappers.SparseNormalizer object at 0x7efefd6c29e8\", \"primary_metric\": 0.75147268, \"best_metric\": 0.91091491}, {\"run_id\": \"AutoML_61692633-c857-46d4-a6b3-629dfff50e12_10\", \"run_number\": 15, \"metric\": null, \"status\": \"Completed\", \"run_type\": \"azureml.scriptrun\", \"training_percent\": \"100\", \"start_time\": \"2020-12-30T20:07:55.956652Z\", \"end_time\": \"2020-12-30T20:08:36.367935Z\", \"created_time\": \"2020-12-30T20:07:09.082682Z\", \"created_time_dt\": \"2020-12-30T20:07:09.082682Z\", \"duration\": \"0:01:27\", \"iteration\": \"10\", \"goal\": \"AUC_weighted_max\", \"run_name\": \"MinMaxScaler, ExtremeRandomTrees\", \"run_properties\": \"copy=True, feature_range=(0, 1\", \"primary_metric\": 0.88841471, \"best_metric\": 0.91091491}, {\"run_id\": \"AutoML_61692633-c857-46d4-a6b3-629dfff50e12_11\", \"run_number\": 16, \"metric\": null, \"status\": \"Completed\", \"run_type\": \"azureml.scriptrun\", \"training_percent\": \"100\", \"start_time\": \"2020-12-30T20:08:08.567719Z\", \"end_time\": \"2020-12-30T20:09:01.717651Z\", \"created_time\": \"2020-12-30T20:07:55.401423Z\", \"created_time_dt\": \"2020-12-30T20:07:55.401423Z\", \"duration\": \"0:01:06\", \"iteration\": \"11\", \"goal\": \"AUC_weighted_max\", \"run_name\": \"RobustScaler, ExtremeRandomTrees\", \"run_properties\": \"copy=True, quantile_range=[10, 90], with_centering=True,\\n             with_scaling=False\", \"primary_metric\": 0.8928475, \"best_metric\": 0.91091491}, {\"run_id\": \"AutoML_61692633-c857-46d4-a6b3-629dfff50e12_12\", \"run_number\": 17, \"metric\": null, \"status\": \"Completed\", \"run_type\": \"azureml.scriptrun\", \"training_percent\": \"100\", \"start_time\": \"2020-12-30T20:08:15.11008Z\", \"end_time\": \"2020-12-30T20:08:57.416073Z\", \"created_time\": \"2020-12-30T20:08:02.293544Z\", \"created_time_dt\": \"2020-12-30T20:08:02.293544Z\", \"duration\": \"0:00:55\", \"iteration\": \"12\", \"goal\": \"AUC_weighted_max\", \"run_name\": \"StandardScalerWrapper, RandomForest\", \"run_properties\": \"<azureml.automl.runtime.shared.model_wrappers.StandardScalerWrapper object at 0x7f412e392240\", \"primary_metric\": 0.90090003, \"best_metric\": 0.91091491}, {\"run_id\": \"AutoML_61692633-c857-46d4-a6b3-629dfff50e12_13\", \"run_number\": 18, \"metric\": null, \"status\": \"Completed\", \"run_type\": \"azureml.scriptrun\", \"training_percent\": \"100\", \"start_time\": \"2020-12-30T20:08:38.523762Z\", \"end_time\": \"2020-12-30T20:09:21.679558Z\", \"created_time\": \"2020-12-30T20:08:09.214371Z\", \"created_time_dt\": \"2020-12-30T20:08:09.214371Z\", \"duration\": \"0:01:12\", \"iteration\": \"13\", \"goal\": \"AUC_weighted_max\", \"run_name\": \"StandardScalerWrapper, SGD\", \"run_properties\": \"<azureml.automl.runtime.shared.model_wrappers.StandardScalerWrapper object at 0x7fbc3f2b0978\", \"primary_metric\": 0.87366415, \"best_metric\": 0.91091491}, {\"run_id\": \"AutoML_61692633-c857-46d4-a6b3-629dfff50e12_14\", \"run_number\": 19, \"metric\": null, \"status\": \"Completed\", \"run_type\": \"azureml.scriptrun\", \"training_percent\": \"100\", \"start_time\": \"2020-12-30T20:08:22.192655Z\", \"end_time\": \"2020-12-30T20:09:06.336872Z\", \"created_time\": \"2020-12-30T20:08:09.425001Z\", \"created_time_dt\": \"2020-12-30T20:08:09.425001Z\", \"duration\": \"0:00:56\", \"iteration\": \"14\", \"goal\": \"AUC_weighted_max\", \"run_name\": \"RobustScaler, RandomForest\", \"run_properties\": \"copy=True, quantile_range=[10, 90], with_centering=True,\\n             with_scaling=False\", \"primary_metric\": 0.89074105, \"best_metric\": 0.91091491}, {\"run_id\": \"AutoML_61692633-c857-46d4-a6b3-629dfff50e12_15\", \"run_number\": 20, \"metric\": null, \"status\": \"Completed\", \"run_type\": \"azureml.scriptrun\", \"training_percent\": \"100\", \"start_time\": \"2020-12-30T20:09:00.686005Z\", \"end_time\": \"2020-12-30T20:09:46.333467Z\", \"created_time\": \"2020-12-30T20:08:40.670121Z\", \"created_time_dt\": \"2020-12-30T20:08:40.670121Z\", \"duration\": \"0:01:05\", \"iteration\": \"15\", \"goal\": \"AUC_weighted_max\", \"run_name\": \"StandardScalerWrapper, KNN\", \"run_properties\": \"<azureml.automl.runtime.shared.model_wrappers.StandardScalerWrapper object at 0x7f8e6416b160\", \"primary_metric\": 0.48227656, \"best_metric\": 0.91091491}, {\"run_id\": \"AutoML_61692633-c857-46d4-a6b3-629dfff50e12_16\", \"run_number\": 21, \"metric\": null, \"status\": \"Completed\", \"run_type\": \"azureml.scriptrun\", \"training_percent\": \"100\", \"start_time\": \"2020-12-30T20:09:13.482198Z\", \"end_time\": \"2020-12-30T20:10:04.876167Z\", \"created_time\": \"2020-12-30T20:09:01.871108Z\", \"created_time_dt\": \"2020-12-30T20:09:01.871108Z\", \"duration\": \"0:01:03\", \"iteration\": \"16\", \"goal\": \"AUC_weighted_max\", \"run_name\": \"MinMaxScaler, RandomForest\", \"run_properties\": \"copy=True, feature_range=(0, 1\", \"primary_metric\": 0.8901121, \"best_metric\": 0.91091491}, {\"run_id\": \"AutoML_61692633-c857-46d4-a6b3-629dfff50e12_17\", \"run_number\": 22, \"metric\": null, \"status\": \"Completed\", \"run_type\": \"azureml.scriptrun\", \"training_percent\": \"100\", \"start_time\": \"2020-12-30T20:09:22.007216Z\", \"end_time\": \"2020-12-30T20:09:59.695077Z\", \"created_time\": \"2020-12-30T20:09:09.080884Z\", \"created_time_dt\": \"2020-12-30T20:09:09.080884Z\", \"duration\": \"0:00:50\", \"iteration\": \"17\", \"goal\": \"AUC_weighted_max\", \"run_name\": \"MinMaxScaler, ExtremeRandomTrees\", \"run_properties\": \"copy=True, feature_range=(0, 1\", \"primary_metric\": 0.80529144, \"best_metric\": 0.91091491}, {\"run_id\": \"AutoML_61692633-c857-46d4-a6b3-629dfff50e12_18\", \"run_number\": 23, \"metric\": null, \"status\": \"Completed\", \"run_type\": \"azureml.scriptrun\", \"training_percent\": \"100\", \"start_time\": \"2020-12-30T20:09:28.304378Z\", \"end_time\": \"2020-12-30T20:10:10.210366Z\", \"created_time\": \"2020-12-30T20:09:16.597657Z\", \"created_time_dt\": \"2020-12-30T20:09:16.597657Z\", \"duration\": \"0:00:53\", \"iteration\": \"18\", \"goal\": \"AUC_weighted_max\", \"run_name\": \"MaxAbsScaler, RandomForest\", \"run_properties\": \"copy=True\", \"primary_metric\": 0.89177759, \"best_metric\": 0.91091491}, {\"run_id\": \"AutoML_61692633-c857-46d4-a6b3-629dfff50e12_19\", \"run_number\": 24, \"metric\": null, \"status\": \"Completed\", \"run_type\": \"azureml.scriptrun\", \"training_percent\": \"100\", \"start_time\": \"2020-12-30T20:09:50.167596Z\", \"end_time\": \"2020-12-30T20:10:30.087155Z\", \"created_time\": \"2020-12-30T20:09:26.17463Z\", \"created_time_dt\": \"2020-12-30T20:09:26.17463Z\", \"duration\": \"0:01:03\", \"iteration\": \"19\", \"goal\": \"AUC_weighted_max\", \"run_name\": \"StandardScalerWrapper, XGBoostClassifier\", \"run_properties\": \"<azureml.automl.runtime.shared.model_wrappers.StandardScalerWrapper object at 0x7f7b95fccb00\", \"primary_metric\": 0.90716837, \"best_metric\": 0.91091491}, {\"run_id\": \"AutoML_61692633-c857-46d4-a6b3-629dfff50e12_20\", \"run_number\": 25, \"metric\": null, \"status\": \"Completed\", \"run_type\": \"azureml.scriptrun\", \"training_percent\": \"100\", \"start_time\": \"2020-12-30T20:10:04.693992Z\", \"end_time\": \"2020-12-30T20:10:47.641917Z\", \"created_time\": \"2020-12-30T20:09:51.219275Z\", \"created_time_dt\": \"2020-12-30T20:09:51.219275Z\", \"duration\": \"0:00:56\", \"iteration\": \"20\", \"goal\": \"AUC_weighted_max\", \"run_name\": \"MaxAbsScaler, RandomForest\", \"run_properties\": \"copy=True\", \"primary_metric\": 0.89839632, \"best_metric\": 0.91091491}, {\"run_id\": \"AutoML_61692633-c857-46d4-a6b3-629dfff50e12_21\", \"run_number\": 26, \"metric\": null, \"status\": \"Completed\", \"run_type\": \"azureml.scriptrun\", \"training_percent\": \"100\", \"start_time\": \"2020-12-30T20:10:31.650019Z\", \"end_time\": \"2020-12-30T20:10:57.470486Z\", \"created_time\": \"2020-12-30T20:10:04.927798Z\", \"created_time_dt\": \"2020-12-30T20:10:04.927798Z\", \"duration\": \"0:00:52\", \"iteration\": \"21\", \"goal\": \"AUC_weighted_max\", \"run_name\": \"MaxAbsScaler, ExtremeRandomTrees\", \"run_properties\": \"copy=True\", \"primary_metric\": 0.8623547, \"best_metric\": 0.91091491}, {\"run_id\": \"AutoML_61692633-c857-46d4-a6b3-629dfff50e12_22\", \"run_number\": 27, \"metric\": null, \"status\": \"Completed\", \"run_type\": \"azureml.scriptrun\", \"training_percent\": \"100\", \"start_time\": \"2020-12-30T20:10:24.508152Z\", \"end_time\": \"2020-12-30T20:11:02.39906Z\", \"created_time\": \"2020-12-30T20:10:11.336016Z\", \"created_time_dt\": \"2020-12-30T20:10:11.336016Z\", \"duration\": \"0:00:51\", \"iteration\": \"22\", \"goal\": \"AUC_weighted_max\", \"run_name\": \"MaxAbsScaler, ExtremeRandomTrees\", \"run_properties\": \"copy=True\", \"primary_metric\": 0.86121004, \"best_metric\": 0.91091491}, {\"run_id\": \"AutoML_61692633-c857-46d4-a6b3-629dfff50e12_23\", \"run_number\": 28, \"metric\": null, \"status\": \"Completed\", \"run_type\": \"azureml.scriptrun\", \"training_percent\": \"100\", \"start_time\": \"2020-12-30T20:10:36.503238Z\", \"end_time\": \"2020-12-30T20:11:20.596361Z\", \"created_time\": \"2020-12-30T20:10:18.07295Z\", \"created_time_dt\": \"2020-12-30T20:10:18.07295Z\", \"duration\": \"0:01:02\", \"iteration\": \"23\", \"goal\": \"AUC_weighted_max\", \"run_name\": \"MinMaxScaler, RandomForest\", \"run_properties\": \"copy=True, feature_range=(0, 1\", \"primary_metric\": 0.90708631, \"best_metric\": 0.91091491}, {\"run_id\": \"AutoML_61692633-c857-46d4-a6b3-629dfff50e12_24\", \"run_number\": 29, \"metric\": null, \"status\": \"Completed\", \"run_type\": \"azureml.scriptrun\", \"training_percent\": \"100\", \"start_time\": \"2020-12-30T20:10:50.287756Z\", \"end_time\": \"2020-12-30T20:11:42.71751Z\", \"created_time\": \"2020-12-30T20:10:33.639673Z\", \"created_time_dt\": \"2020-12-30T20:10:33.639673Z\", \"duration\": \"0:01:09\", \"iteration\": \"24\", \"goal\": \"AUC_weighted_max\", \"run_name\": \"MaxAbsScaler, ExtremeRandomTrees\", \"run_properties\": \"copy=True\", \"primary_metric\": 0.8977927, \"best_metric\": 0.91091491}, {\"run_id\": \"AutoML_61692633-c857-46d4-a6b3-629dfff50e12_25\", \"run_number\": 30, \"metric\": null, \"status\": \"Completed\", \"run_type\": \"azureml.scriptrun\", \"training_percent\": \"100\", \"start_time\": \"2020-12-30T20:11:05.68975Z\", \"end_time\": \"2020-12-30T20:11:47.972574Z\", \"created_time\": \"2020-12-30T20:10:52.613065Z\", \"created_time_dt\": \"2020-12-30T20:10:52.613065Z\", \"duration\": \"0:00:55\", \"iteration\": \"25\", \"goal\": \"AUC_weighted_max\", \"run_name\": \"MinMaxScaler, RandomForest\", \"run_properties\": \"copy=True, feature_range=(0, 1\", \"primary_metric\": 0.88291244, \"best_metric\": 0.91091491}, {\"run_id\": \"AutoML_61692633-c857-46d4-a6b3-629dfff50e12_26\", \"run_number\": 31, \"metric\": null, \"status\": \"Completed\", \"run_type\": \"azureml.scriptrun\", \"training_percent\": \"100\", \"start_time\": \"2020-12-30T20:11:12.192914Z\", \"end_time\": \"2020-12-30T20:11:49.764138Z\", \"created_time\": \"2020-12-30T20:10:59.738756Z\", \"created_time_dt\": \"2020-12-30T20:10:59.738756Z\", \"duration\": \"0:00:50\", \"iteration\": \"26\", \"goal\": \"AUC_weighted_max\", \"run_name\": \"MinMaxScaler, ExtremeRandomTrees\", \"run_properties\": \"copy=True, feature_range=(0, 1\", \"primary_metric\": 0.90282563, \"best_metric\": 0.91091491}, {\"run_id\": \"AutoML_61692633-c857-46d4-a6b3-629dfff50e12_27\", \"run_number\": 32, \"metric\": null, \"status\": \"Completed\", \"run_type\": \"azureml.scriptrun\", \"training_percent\": \"100\", \"start_time\": \"2020-12-30T20:11:26.000692Z\", \"end_time\": \"2020-12-30T20:12:07.966422Z\", \"created_time\": \"2020-12-30T20:11:05.653536Z\", \"created_time_dt\": \"2020-12-30T20:11:05.653536Z\", \"duration\": \"0:01:02\", \"iteration\": \"27\", \"goal\": \"AUC_weighted_max\", \"run_name\": \"MaxAbsScaler, RandomForest\", \"run_properties\": \"copy=True\", \"primary_metric\": 0.89823226, \"best_metric\": 0.91091491}, {\"run_id\": \"AutoML_61692633-c857-46d4-a6b3-629dfff50e12_28\", \"run_number\": 33, \"metric\": null, \"status\": \"Completed\", \"run_type\": \"azureml.scriptrun\", \"training_percent\": \"100\", \"start_time\": \"2020-12-30T20:11:48.172385Z\", \"end_time\": \"2020-12-30T20:12:28.394992Z\", \"created_time\": \"2020-12-30T20:11:22.903048Z\", \"created_time_dt\": \"2020-12-30T20:11:22.903048Z\", \"duration\": \"0:01:05\", \"iteration\": \"28\", \"goal\": \"AUC_weighted_max\", \"run_name\": \"StandardScalerWrapper, LightGBM\", \"run_properties\": \"<azureml.automl.runtime.shared.model_wrappers.StandardScalerWrapper object at 0x7f5045d23438\", \"primary_metric\": 0.83613861, \"best_metric\": 0.91091491}, {\"run_id\": \"AutoML_61692633-c857-46d4-a6b3-629dfff50e12_29\", \"run_number\": 34, \"metric\": null, \"status\": \"Completed\", \"run_type\": \"azureml.scriptrun\", \"training_percent\": \"100\", \"start_time\": \"2020-12-30T20:12:00.007601Z\", \"end_time\": \"2020-12-30T20:12:42.742234Z\", \"created_time\": \"2020-12-30T20:11:45.181922Z\", \"created_time_dt\": \"2020-12-30T20:11:45.181922Z\", \"duration\": \"0:00:57\", \"iteration\": \"29\", \"goal\": \"AUC_weighted_max\", \"run_name\": \"RobustScaler, LightGBM\", \"run_properties\": \"copy=True, quantile_range=[10, 90], with_centering=True,\\n             with_scaling=True\", \"primary_metric\": 0.89164569, \"best_metric\": 0.91091491}, {\"run_id\": \"AutoML_61692633-c857-46d4-a6b3-629dfff50e12_30\", \"run_number\": 35, \"metric\": null, \"status\": \"Completed\", \"run_type\": \"azureml.scriptrun\", \"training_percent\": \"100\", \"start_time\": \"2020-12-30T20:12:04.842096Z\", \"end_time\": \"2020-12-30T20:12:42.262336Z\", \"created_time\": \"2020-12-30T20:11:53.148275Z\", \"created_time_dt\": \"2020-12-30T20:11:53.148275Z\", \"duration\": \"0:00:49\", \"iteration\": \"30\", \"goal\": \"AUC_weighted_max\", \"run_name\": \"RobustScaler, RandomForest\", \"run_properties\": \"copy=True, quantile_range=[25, 75], with_centering=False,\\n             with_scaling=True\", \"primary_metric\": 0.78909425, \"best_metric\": 0.91091491}, {\"run_id\": \"AutoML_61692633-c857-46d4-a6b3-629dfff50e12_31\", \"run_number\": 36, \"metric\": null, \"status\": \"Completed\", \"run_type\": \"azureml.scriptrun\", \"training_percent\": \"100\", \"start_time\": \"2020-12-30T20:12:10.355703Z\", \"end_time\": \"2020-12-30T20:13:00.608778Z\", \"created_time\": \"2020-12-30T20:11:53.408996Z\", \"created_time_dt\": \"2020-12-30T20:11:53.408996Z\", \"duration\": \"0:01:07\", \"iteration\": \"31\", \"goal\": \"AUC_weighted_max\", \"run_name\": \"StandardScalerWrapper, XGBoostClassifier\", \"run_properties\": \"<azureml.automl.runtime.shared.model_wrappers.StandardScalerWrapper object at 0x7fe9566ad8d0\", \"primary_metric\": 0.90653994, \"best_metric\": 0.91091491}, {\"run_id\": \"AutoML_61692633-c857-46d4-a6b3-629dfff50e12_32\", \"run_number\": 37, \"metric\": null, \"status\": \"Completed\", \"run_type\": \"azureml.scriptrun\", \"training_percent\": \"100\", \"start_time\": \"2020-12-30T20:12:32.561218Z\", \"end_time\": \"2020-12-30T20:13:17.793364Z\", \"created_time\": \"2020-12-30T20:12:10.096634Z\", \"created_time_dt\": \"2020-12-30T20:12:10.096634Z\", \"duration\": \"0:01:07\", \"iteration\": \"32\", \"goal\": \"AUC_weighted_max\", \"run_name\": \"RobustScaler, RandomForest\", \"run_properties\": \"copy=True, quantile_range=[25, 75], with_centering=True,\\n             with_scaling=False\", \"primary_metric\": 0.91560045, \"best_metric\": 0.91560045}, {\"run_id\": \"AutoML_61692633-c857-46d4-a6b3-629dfff50e12_33\", \"run_number\": 38, \"metric\": null, \"status\": \"Completed\", \"run_type\": \"azureml.scriptrun\", \"training_percent\": \"100\", \"start_time\": \"2020-12-30T20:12:46.940028Z\", \"end_time\": \"2020-12-30T20:13:31.019167Z\", \"created_time\": \"2020-12-30T20:12:31.001242Z\", \"created_time_dt\": \"2020-12-30T20:12:31.001242Z\", \"duration\": \"0:01:00\", \"iteration\": \"33\", \"goal\": \"AUC_weighted_max\", \"run_name\": \"StandardScalerWrapper, RandomForest\", \"run_properties\": \"<azureml.automl.runtime.shared.model_wrappers.StandardScalerWrapper object at 0x7f15985f79b0\", \"primary_metric\": 0.90902482, \"best_metric\": 0.91560045}, {\"run_id\": \"AutoML_61692633-c857-46d4-a6b3-629dfff50e12_34\", \"run_number\": 39, \"metric\": null, \"status\": \"Completed\", \"run_type\": \"azureml.scriptrun\", \"training_percent\": \"100\", \"start_time\": \"2020-12-30T20:12:57.346021Z\", \"end_time\": \"2020-12-30T20:13:40.09968Z\", \"created_time\": \"2020-12-30T20:12:45.56133Z\", \"created_time_dt\": \"2020-12-30T20:12:45.56133Z\", \"duration\": \"0:00:54\", \"iteration\": \"34\", \"goal\": \"AUC_weighted_max\", \"run_name\": \"MaxAbsScaler, RandomForest\", \"run_properties\": \"copy=True\", \"primary_metric\": 0.89931155, \"best_metric\": 0.91560045}, {\"run_id\": \"AutoML_61692633-c857-46d4-a6b3-629dfff50e12_35\", \"run_number\": 40, \"metric\": null, \"status\": \"Completed\", \"run_type\": \"azureml.scriptrun\", \"training_percent\": \"100\", \"start_time\": \"2020-12-30T20:13:04.376374Z\", \"end_time\": \"2020-12-30T20:13:49.396382Z\", \"created_time\": \"2020-12-30T20:12:45.691856Z\", \"created_time_dt\": \"2020-12-30T20:12:45.691856Z\", \"duration\": \"0:01:03\", \"iteration\": \"35\", \"goal\": \"AUC_weighted_max\", \"run_name\": \"StandardScalerWrapper, LightGBM\", \"run_properties\": \"<azureml.automl.runtime.shared.model_wrappers.StandardScalerWrapper object at 0x7f413d4f3c18\", \"primary_metric\": 0.89854363, \"best_metric\": 0.91560045}, {\"run_id\": \"AutoML_61692633-c857-46d4-a6b3-629dfff50e12_36\", \"run_number\": 41, \"metric\": null, \"status\": \"Completed\", \"run_type\": \"azureml.scriptrun\", \"training_percent\": \"100\", \"start_time\": \"2020-12-30T20:13:22.507724Z\", \"end_time\": \"2020-12-30T20:14:01.805999Z\", \"created_time\": \"2020-12-30T20:13:02.791906Z\", \"created_time_dt\": \"2020-12-30T20:13:02.791906Z\", \"duration\": \"0:00:59\", \"iteration\": \"36\", \"goal\": \"AUC_weighted_max\", \"run_name\": \"RobustScaler, LightGBM\", \"run_properties\": \"copy=True, quantile_range=[25, 75], with_centering=False,\\n             with_scaling=True\", \"primary_metric\": 0.90398219, \"best_metric\": 0.91560045}, {\"run_id\": \"AutoML_61692633-c857-46d4-a6b3-629dfff50e12_37\", \"run_number\": 42, \"metric\": null, \"status\": \"Completed\", \"run_type\": \"azureml.scriptrun\", \"training_percent\": \"100\", \"start_time\": \"2020-12-30T20:13:35.298959Z\", \"end_time\": \"2020-12-30T20:14:16.014005Z\", \"created_time\": \"2020-12-30T20:13:20.575856Z\", \"created_time_dt\": \"2020-12-30T20:13:20.575856Z\", \"duration\": \"0:00:55\", \"iteration\": \"37\", \"goal\": \"AUC_weighted_max\", \"run_name\": \"MinMaxScaler, LightGBM\", \"run_properties\": \"copy=True, feature_range=(0, 1\", \"primary_metric\": 0.89558317, \"best_metric\": 0.91560045}, {\"run_id\": \"AutoML_61692633-c857-46d4-a6b3-629dfff50e12_38\", \"run_number\": 43, \"metric\": null, \"status\": \"Completed\", \"run_type\": \"azureml.scriptrun\", \"training_percent\": \"100\", \"start_time\": \"2020-12-30T20:13:44.549179Z\", \"end_time\": \"2020-12-30T20:14:32.132078Z\", \"created_time\": \"2020-12-30T20:13:33.340185Z\", \"created_time_dt\": \"2020-12-30T20:13:33.340185Z\", \"duration\": \"0:00:58\", \"iteration\": \"38\", \"goal\": \"AUC_weighted_max\", \"run_name\": \"StandardScalerWrapper, LightGBM\", \"run_properties\": \"<azureml.automl.runtime.shared.model_wrappers.StandardScalerWrapper object at 0x7f6bfc083550\", \"primary_metric\": 0.89793565, \"best_metric\": 0.91560045}, {\"run_id\": \"AutoML_61692633-c857-46d4-a6b3-629dfff50e12_39\", \"run_number\": 44, \"metric\": null, \"status\": \"Completed\", \"run_type\": \"azureml.scriptrun\", \"training_percent\": \"100\", \"start_time\": \"2020-12-30T20:13:54.729328Z\", \"end_time\": \"2020-12-30T20:14:37.663359Z\", \"created_time\": \"2020-12-30T20:13:42.430283Z\", \"created_time_dt\": \"2020-12-30T20:13:42.430283Z\", \"duration\": \"0:00:55\", \"iteration\": \"39\", \"goal\": \"AUC_weighted_max\", \"run_name\": \"MaxAbsScaler, LightGBM\", \"run_properties\": \"copy=True\", \"primary_metric\": 0.91103055, \"best_metric\": 0.91560045}, {\"run_id\": \"AutoML_61692633-c857-46d4-a6b3-629dfff50e12_40\", \"run_number\": 45, \"metric\": null, \"status\": \"Completed\", \"run_type\": \"azureml.scriptrun\", \"training_percent\": \"100\", \"start_time\": \"2020-12-30T20:14:07.928166Z\", \"end_time\": \"2020-12-30T20:14:51.274053Z\", \"created_time\": \"2020-12-30T20:13:52.935405Z\", \"created_time_dt\": \"2020-12-30T20:13:52.935405Z\", \"duration\": \"0:00:58\", \"iteration\": \"40\", \"goal\": \"AUC_weighted_max\", \"run_name\": \"RobustScaler, RandomForest\", \"run_properties\": \"copy=True, quantile_range=[10, 90], with_centering=True,\\n             with_scaling=False\", \"primary_metric\": 0.88152206, \"best_metric\": 0.91560045}, {\"run_id\": \"AutoML_61692633-c857-46d4-a6b3-629dfff50e12_41\", \"run_number\": 46, \"metric\": null, \"status\": \"Completed\", \"run_type\": \"azureml.scriptrun\", \"training_percent\": \"100\", \"start_time\": \"2020-12-30T20:14:21.866534Z\", \"end_time\": \"2020-12-30T20:15:03.140634Z\", \"created_time\": \"2020-12-30T20:14:04.643352Z\", \"created_time_dt\": \"2020-12-30T20:14:04.643352Z\", \"duration\": \"0:00:58\", \"iteration\": \"41\", \"goal\": \"AUC_weighted_max\", \"run_name\": \"MinMaxScaler, GradientBoosting\", \"run_properties\": \"copy=True, feature_range=(0, 1\", \"primary_metric\": 0.90805989, \"best_metric\": 0.91560045}, {\"run_id\": \"AutoML_61692633-c857-46d4-a6b3-629dfff50e12_42\", \"run_number\": 47, \"metric\": null, \"status\": \"Completed\", \"run_type\": \"azureml.scriptrun\", \"training_percent\": \"100\", \"start_time\": \"2020-12-30T20:14:37.794696Z\", \"end_time\": \"2020-12-30T20:15:19.456396Z\", \"created_time\": \"2020-12-30T20:14:18.105237Z\", \"created_time_dt\": \"2020-12-30T20:14:18.105237Z\", \"duration\": \"0:01:01\", \"iteration\": \"42\", \"goal\": \"AUC_weighted_max\", \"run_name\": \"MaxAbsScaler, GradientBoosting\", \"run_properties\": \"copy=True\", \"primary_metric\": 0.90683818, \"best_metric\": 0.91560045}, {\"run_id\": \"AutoML_61692633-c857-46d4-a6b3-629dfff50e12_43\", \"run_number\": 48, \"metric\": null, \"status\": \"Completed\", \"run_type\": \"azureml.scriptrun\", \"training_percent\": \"100\", \"start_time\": \"2020-12-30T20:14:45.895889Z\", \"end_time\": \"2020-12-30T20:15:27.735794Z\", \"created_time\": \"2020-12-30T20:14:34.568898Z\", \"created_time_dt\": \"2020-12-30T20:14:34.568898Z\", \"duration\": \"0:00:53\", \"iteration\": \"43\", \"goal\": \"AUC_weighted_max\", \"run_name\": \"RobustScaler, RandomForest\", \"run_properties\": \"copy=True, quantile_range=[10, 90], with_centering=True,\\n             with_scaling=True\", \"primary_metric\": 0.91249716, \"best_metric\": 0.91560045}, {\"run_id\": \"AutoML_61692633-c857-46d4-a6b3-629dfff50e12_44\", \"run_number\": 49, \"metric\": null, \"status\": \"Completed\", \"run_type\": \"azureml.scriptrun\", \"training_percent\": \"100\", \"start_time\": \"2020-12-30T20:14:54.684218Z\", \"end_time\": \"2020-12-30T20:15:35.540715Z\", \"created_time\": \"2020-12-30T20:14:39.852592Z\", \"created_time_dt\": \"2020-12-30T20:14:39.852592Z\", \"duration\": \"0:00:55\", \"iteration\": \"44\", \"goal\": \"AUC_weighted_max\", \"run_name\": \"MaxAbsScaler, GradientBoosting\", \"run_properties\": \"copy=True\", \"primary_metric\": 0.90775102, \"best_metric\": 0.91560045}, {\"run_id\": \"AutoML_61692633-c857-46d4-a6b3-629dfff50e12_45\", \"run_number\": 50, \"metric\": null, \"status\": \"Completed\", \"run_type\": \"azureml.scriptrun\", \"training_percent\": \"100\", \"start_time\": \"2020-12-30T20:15:13.755572Z\", \"end_time\": \"2020-12-30T20:15:53.049238Z\", \"created_time\": \"2020-12-30T20:14:55.504953Z\", \"created_time_dt\": \"2020-12-30T20:14:55.504953Z\", \"duration\": \"0:00:57\", \"iteration\": \"45\", \"goal\": \"AUC_weighted_max\", \"run_name\": \"TruncatedSVDWrapper, RandomForest\", \"run_properties\": \"n_components=0.45526315789473687, random_state=None\", \"primary_metric\": 0.82230152, \"best_metric\": 0.91560045}, {\"run_id\": \"AutoML_61692633-c857-46d4-a6b3-629dfff50e12_46\", \"run_number\": 51, \"metric\": null, \"status\": \"Completed\", \"run_type\": \"azureml.scriptrun\", \"training_percent\": \"100\", \"start_time\": \"2020-12-30T20:15:21.574404Z\", \"end_time\": \"2020-12-30T20:16:08.626111Z\", \"created_time\": \"2020-12-30T20:15:07.449911Z\", \"created_time_dt\": \"2020-12-30T20:15:07.449911Z\", \"duration\": \"0:01:01\", \"iteration\": \"46\", \"goal\": \"AUC_weighted_max\", \"run_name\": \"RobustScaler, GradientBoosting\", \"run_properties\": \"copy=True, quantile_range=[10, 90], with_centering=False,\\n             with_scaling=True\", \"primary_metric\": 0.88752203, \"best_metric\": 0.91560045}, {\"run_id\": \"AutoML_61692633-c857-46d4-a6b3-629dfff50e12_47\", \"run_number\": 52, \"metric\": null, \"status\": \"Canceled\", \"run_type\": \"azureml.scriptrun\", \"training_percent\": \"100\", \"start_time\": \"2020-12-30T20:15:38.426034Z\", \"end_time\": \"2020-12-30T20:16:18.400892Z\", \"created_time\": \"2020-12-30T20:15:22.005355Z\", \"created_time_dt\": \"2020-12-30T20:15:22.005355Z\", \"duration\": \"0:00:56\", \"iteration\": \"47\", \"goal\": \"AUC_weighted_max\", \"run_name\": \"StandardScalerWrapper, RandomForest\", \"run_properties\": \"<azureml.automl.runtime.shared.model_wrappers.StandardScalerWrapper object at 0x7fbb604f1208\", \"primary_metric\": 0.90611499, \"best_metric\": 0.91560045}, {\"run_id\": \"AutoML_61692633-c857-46d4-a6b3-629dfff50e12_48\", \"run_number\": 53, \"metric\": null, \"status\": \"Canceled\", \"run_type\": \"azureml.scriptrun\", \"training_percent\": \"100\", \"start_time\": \"2020-12-30T20:15:43.512684Z\", \"end_time\": \"2020-12-30T20:16:18.681063Z\", \"created_time\": \"2020-12-30T20:15:31.060386Z\", \"created_time_dt\": \"2020-12-30T20:15:31.060386Z\", \"duration\": \"0:00:47\", \"iteration\": \"48\", \"goal\": \"AUC_weighted_max\", \"run_name\": \"StandardScalerWrapper, GradientBoosting\", \"run_properties\": \"<azureml.automl.runtime.shared.model_wrappers.StandardScalerWrapper object at 0x7f88d488b6d8\", \"primary_metric\": 0.8921241, \"best_metric\": 0.91560045}, {\"run_id\": \"AutoML_61692633-c857-46d4-a6b3-629dfff50e12_49\", \"run_number\": 54, \"metric\": null, \"status\": \"Canceled\", \"run_type\": \"azureml.scriptrun\", \"training_percent\": \"100\", \"start_time\": \"2020-12-30T20:15:58.320449Z\", \"end_time\": \"2020-12-30T20:16:17.669792Z\", \"created_time\": \"2020-12-30T20:15:37.930264Z\", \"created_time_dt\": \"2020-12-30T20:15:37.930264Z\", \"duration\": \"0:00:39\", \"iteration\": \"49\", \"goal\": null, \"run_name\": \"Canceled\", \"run_properties\": null}, {\"run_id\": \"AutoML_61692633-c857-46d4-a6b3-629dfff50e12_50\", \"run_number\": 55, \"metric\": null, \"status\": \"Canceled\", \"run_type\": \"azureml.scriptrun\", \"training_percent\": \"100\", \"start_time\": \"2020-12-30T20:15:57.298575Z\", \"end_time\": \"2020-12-30T20:16:17.178128Z\", \"created_time\": \"2020-12-30T20:15:57.298575Z\", \"created_time_dt\": \"2020-12-30T20:15:57.298575Z\", \"duration\": \"0:00:19\", \"iteration\": \"50\", \"goal\": null, \"run_name\": \"Canceled\", \"run_properties\": null}, {\"run_id\": \"AutoML_61692633-c857-46d4-a6b3-629dfff50e12_52\", \"run_number\": 56, \"metric\": null, \"status\": \"Completed\", \"run_type\": \"azureml.scriptrun\", \"training_percent\": \"100\", \"start_time\": \"2020-12-30T20:16:34.483604Z\", \"end_time\": \"2020-12-30T20:18:20.917797Z\", \"created_time\": \"2020-12-30T20:16:21.62562Z\", \"created_time_dt\": \"2020-12-30T20:16:21.62562Z\", \"duration\": \"0:01:59\", \"iteration\": \"52\", \"goal\": \"AUC_weighted_max\", \"run_name\": \"StackEnsemble\", \"run_properties\": \"base_learners=[('32',\\n                                        Pipeline(memory=None,\\n                                                 steps=[('robustscaler',\\n                                                         RobustScaler(copy=True,\\n                                                                      quantile_range=[25,\\n                                                                                      75],\\n                                                                      with_centering=True,\\n                                                                      with_scaling=False\", \"primary_metric\": 0.91732159, \"best_metric\": 0.92075441}, {\"run_id\": \"AutoML_61692633-c857-46d4-a6b3-629dfff50e12_51\", \"run_number\": 57, \"metric\": null, \"status\": \"Completed\", \"run_type\": \"azureml.scriptrun\", \"training_percent\": \"100\", \"start_time\": \"2020-12-30T20:16:33.998788Z\", \"end_time\": \"2020-12-30T20:18:23.728319Z\", \"created_time\": \"2020-12-30T20:16:21.776765Z\", \"created_time_dt\": \"2020-12-30T20:16:21.776765Z\", \"duration\": \"0:02:01\", \"iteration\": \"51\", \"goal\": \"AUC_weighted_max\", \"run_name\": \"VotingEnsemble\", \"run_properties\": \"classification_labels=None,\\n                              estimators=[('32',\\n                                           Pipeline(memory=None,\\n                                                    steps=[('robustscaler',\\n                                                            RobustScaler(copy=True,\\n                                                                         quantile_range=[25,\\n                                                                                         75],\\n                                                                         with_centering=True,\\n                                                                         with_scaling=False\", \"primary_metric\": 0.92075441, \"best_metric\": 0.92075441}], \"children_metrics\": {\"categories\": [0], \"series\": {\"matthews_correlation\": [{\"categories\": [\"0\", \"1\", \"2\", \"3\", \"4\", \"5\", \"6\", \"7\", \"8\", \"9\", \"10\", \"11\", \"12\", \"13\", \"14\", \"15\", \"16\", \"17\", \"18\", \"19\", \"20\", \"21\", \"22\", \"23\", \"24\", \"25\", \"26\", \"27\", \"28\", \"29\", \"30\", \"31\", \"32\", \"33\", \"34\", \"35\", \"36\", \"37\", \"38\", \"39\", \"40\", \"41\", \"42\", \"43\", \"44\", \"45\", \"46\", \"47\", \"48\", \"51\", \"52\"], \"mode\": \"markers\", \"name\": \"matthews_correlation\", \"stepped\": false, \"type\": \"scatter\", \"data\": [0.5628617041183437, 0.6132552509330647, 0.6018738809927684, 0.4761155622347665, 0.6167054309434994, 0.5754990551033685, 0.638515066770834, 0.6323545198732663, 0.46414137347203743, 0.416717014557646, 0.5186594415276158, 0.5781076956261504, 0.5934784411643441, 0.5964305782013576, 0.5972894681748262, 0.06532248141362067, 0.4324409238750504, 0.5044706352287095, 0.58580706510509, 0.6085141333410464, 0.6668945653793777, 0.6018893062904436, 0.5979359175474227, 0.632604190843089, 0.5921793986696271, 0.6105743510979392, 0.610782418906771, 0.6300334107339441, 0.2719166927469664, 0.5065501115861701, 0.25244059188373563, 0.6369268557168787, 0.5924207891033049, 0.6269430665638166, 0.5801078304822594, 0.6247295897834755, 0.6345326778937685, 0.6186347314667876, 0.5863650517559996, 0.6148746300374947, 0.6320402957830947, 0.6191833570450467, 0.625814793499502, 0.5640127159659265, 0.646314056590306, 0.3112931304354634, 0.5925847500446177, 0.5945578763417401, 0.60125495066059, 0.6300012983615647, 0.15833333333333333]}, {\"categories\": [\"0\", \"1\", \"2\", \"3\", \"4\", \"5\", \"6\", \"7\", \"8\", \"9\", \"10\", \"11\", \"12\", \"13\", \"14\", \"15\", \"16\", \"17\", \"18\", \"19\", \"20\", \"21\", \"22\", \"23\", \"24\", \"25\", \"26\", \"27\", \"28\", \"29\", \"30\", \"31\", \"32\", \"33\", \"34\", \"35\", \"36\", \"37\", \"38\", \"39\", \"40\", \"41\", \"42\", \"43\", \"44\", \"45\", \"46\", \"47\", \"48\", \"51\", \"52\"], \"mode\": \"lines\", \"name\": \"matthews_correlation_max\", \"stepped\": true, \"type\": \"scatter\", \"data\": [0.5628617041183437, 0.6132552509330647, 0.6132552509330647, 0.6132552509330647, 0.6167054309434994, 0.6167054309434994, 0.638515066770834, 0.638515066770834, 0.638515066770834, 0.638515066770834, 0.638515066770834, 0.638515066770834, 0.638515066770834, 0.638515066770834, 0.638515066770834, 0.638515066770834, 0.638515066770834, 0.638515066770834, 0.638515066770834, 0.638515066770834, 0.6668945653793777, 0.6668945653793777, 0.6668945653793777, 0.6668945653793777, 0.6668945653793777, 0.6668945653793777, 0.6668945653793777, 0.6668945653793777, 0.6668945653793777, 0.6668945653793777, 0.6668945653793777, 0.6668945653793777, 0.6668945653793777, 0.6668945653793777, 0.6668945653793777, 0.6668945653793777, 0.6668945653793777, 0.6668945653793777, 0.6668945653793777, 0.6668945653793777, 0.6668945653793777, 0.6668945653793777, 0.6668945653793777, 0.6668945653793777, 0.6668945653793777, 0.6668945653793777, 0.6668945653793777, 0.6668945653793777, 0.6668945653793777, 0.6668945653793777, 0.6668945653793777]}], \"average_precision_score_micro\": [{\"categories\": [\"0\", \"1\", \"2\", \"3\", \"4\", \"5\", \"6\", \"7\", \"8\", \"9\", \"10\", \"11\", \"12\", \"13\", \"14\", \"15\", \"16\", \"17\", \"18\", \"19\", \"20\", \"21\", \"22\", \"23\", \"24\", \"25\", \"26\", \"27\", \"28\", \"29\", \"30\", \"31\", \"32\", \"33\", \"34\", \"35\", \"36\", \"37\", \"38\", \"39\", \"40\", \"41\", \"42\", \"43\", \"44\", \"45\", \"46\", \"47\", \"48\", \"51\", \"52\"], \"mode\": \"markers\", \"name\": \"average_precision_score_micro\", \"stepped\": false, \"type\": \"scatter\", \"data\": [0.887958292631032, 0.9018582931163117, 0.9069128366636832, 0.8775462246207949, 0.9221528639155316, 0.9076852426017054, 0.9011939932612754, 0.9017281610303837, 0.852101863083129, 0.7923478012471382, 0.8848591335276842, 0.9012341003462627, 0.8945868487248131, 0.8837366338501873, 0.8964538702899935, 0.6180888504381511, 0.8809403222671669, 0.8350079113592592, 0.8949733462168679, 0.906038430526013, 0.9118172357459702, 0.8621092443233612, 0.8744430621751833, 0.9192038364921625, 0.9037177962073721, 0.8860568611074011, 0.9095404550709567, 0.9014529190845983, 0.8282269645119303, 0.8758497582445456, 0.7938449010903543, 0.9107656602857921, 0.9132741566057649, 0.9149172091844526, 0.9071666191046643, 0.9050630453870339, 0.9120438756055865, 0.9041814816882855, 0.9047814010632997, 0.9208895704445258, 0.8601752052910987, 0.9157920699098948, 0.9123558004910896, 0.9044267504451785, 0.9127813425902508, 0.8274986879860169, 0.8987898065387142, 0.9075477967984696, 0.902911397164479, 0.9248199850524783, 0.8740849032531461]}, {\"categories\": [\"0\", \"1\", \"2\", \"3\", \"4\", \"5\", \"6\", \"7\", \"8\", \"9\", \"10\", \"11\", \"12\", \"13\", \"14\", \"15\", \"16\", \"17\", \"18\", \"19\", \"20\", \"21\", \"22\", \"23\", \"24\", \"25\", \"26\", \"27\", \"28\", \"29\", \"30\", \"31\", \"32\", \"33\", \"34\", \"35\", \"36\", \"37\", \"38\", \"39\", \"40\", \"41\", \"42\", \"43\", \"44\", \"45\", \"46\", \"47\", \"48\", \"51\", \"52\"], \"mode\": \"lines\", \"name\": \"average_precision_score_micro_max\", \"stepped\": true, \"type\": \"scatter\", \"data\": [0.887958292631032, 0.9018582931163117, 0.9069128366636832, 0.9069128366636832, 0.9221528639155316, 0.9221528639155316, 0.9221528639155316, 0.9221528639155316, 0.9221528639155316, 0.9221528639155316, 0.9221528639155316, 0.9221528639155316, 0.9221528639155316, 0.9221528639155316, 0.9221528639155316, 0.9221528639155316, 0.9221528639155316, 0.9221528639155316, 0.9221528639155316, 0.9221528639155316, 0.9221528639155316, 0.9221528639155316, 0.9221528639155316, 0.9221528639155316, 0.9221528639155316, 0.9221528639155316, 0.9221528639155316, 0.9221528639155316, 0.9221528639155316, 0.9221528639155316, 0.9221528639155316, 0.9221528639155316, 0.9221528639155316, 0.9221528639155316, 0.9221528639155316, 0.9221528639155316, 0.9221528639155316, 0.9221528639155316, 0.9221528639155316, 0.9221528639155316, 0.9221528639155316, 0.9221528639155316, 0.9221528639155316, 0.9221528639155316, 0.9221528639155316, 0.9221528639155316, 0.9221528639155316, 0.9221528639155316, 0.9221528639155316, 0.9248199850524783, 0.9248199850524783]}], \"f1_score_weighted\": [{\"categories\": [\"0\", \"1\", \"2\", \"3\", \"4\", \"5\", \"6\", \"7\", \"8\", \"9\", \"10\", \"11\", \"12\", \"13\", \"14\", \"15\", \"16\", \"17\", \"18\", \"19\", \"20\", \"21\", \"22\", \"23\", \"24\", \"25\", \"26\", \"27\", \"28\", \"29\", \"30\", \"31\", \"32\", \"33\", \"34\", \"35\", \"36\", \"37\", \"38\", \"39\", \"40\", \"41\", \"42\", \"43\", \"44\", \"45\", \"46\", \"47\", \"48\", \"51\", \"52\"], \"mode\": \"markers\", \"name\": \"f1_score_weighted\", \"stepped\": false, \"type\": \"scatter\", \"data\": [0.8014398448329555, 0.8237396450256732, 0.8221352727739581, 0.7522626940131323, 0.8291798906613581, 0.807790970013456, 0.839399379826222, 0.8305969669987421, 0.7407537426011958, 0.7359836357954517, 0.778569356376382, 0.8078752806602019, 0.8081368363796841, 0.8140339155459918, 0.8176631674289346, 0.5942320550697178, 0.7263228998900422, 0.782446039402668, 0.8141811008227157, 0.8150351468661906, 0.8533758599598453, 0.8172640561957752, 0.8215388069338345, 0.8377598586697605, 0.8183687808909589, 0.8236425665379423, 0.8253419884196799, 0.8286537031984528, 0.6269395226395883, 0.757136168162142, 0.6349651458312774, 0.8348301172645318, 0.8160564658231229, 0.8361125531247156, 0.8139897385441388, 0.8311988535041992, 0.8345337708817532, 0.8287321365721928, 0.8132394474260666, 0.8287813589412899, 0.8375425956362745, 0.8298035732847404, 0.8312348788006133, 0.790415465502271, 0.8404011645590377, 0.6629288414798328, 0.8155957802580425, 0.8204773615175931, 0.8190458468554815, 0.8346537385376189, 0.597100871299146]}, {\"categories\": [\"0\", \"1\", \"2\", \"3\", \"4\", \"5\", \"6\", \"7\", \"8\", \"9\", \"10\", \"11\", \"12\", \"13\", \"14\", \"15\", \"16\", \"17\", \"18\", \"19\", \"20\", \"21\", \"22\", \"23\", \"24\", \"25\", \"26\", \"27\", \"28\", \"29\", \"30\", \"31\", \"32\", \"33\", \"34\", \"35\", \"36\", \"37\", \"38\", \"39\", \"40\", \"41\", \"42\", \"43\", \"44\", \"45\", \"46\", \"47\", \"48\", \"51\", \"52\"], \"mode\": \"lines\", \"name\": \"f1_score_weighted_max\", \"stepped\": true, \"type\": \"scatter\", \"data\": [0.8014398448329555, 0.8237396450256732, 0.8237396450256732, 0.8237396450256732, 0.8291798906613581, 0.8291798906613581, 0.839399379826222, 0.839399379826222, 0.839399379826222, 0.839399379826222, 0.839399379826222, 0.839399379826222, 0.839399379826222, 0.839399379826222, 0.839399379826222, 0.839399379826222, 0.839399379826222, 0.839399379826222, 0.839399379826222, 0.839399379826222, 0.8533758599598453, 0.8533758599598453, 0.8533758599598453, 0.8533758599598453, 0.8533758599598453, 0.8533758599598453, 0.8533758599598453, 0.8533758599598453, 0.8533758599598453, 0.8533758599598453, 0.8533758599598453, 0.8533758599598453, 0.8533758599598453, 0.8533758599598453, 0.8533758599598453, 0.8533758599598453, 0.8533758599598453, 0.8533758599598453, 0.8533758599598453, 0.8533758599598453, 0.8533758599598453, 0.8533758599598453, 0.8533758599598453, 0.8533758599598453, 0.8533758599598453, 0.8533758599598453, 0.8533758599598453, 0.8533758599598453, 0.8533758599598453, 0.8533758599598453, 0.8533758599598453]}], \"precision_score_macro\": [{\"categories\": [\"0\", \"1\", \"2\", \"3\", \"4\", \"5\", \"6\", \"7\", \"8\", \"9\", \"10\", \"11\", \"12\", \"13\", \"14\", \"15\", \"16\", \"17\", \"18\", \"19\", \"20\", \"21\", \"22\", \"23\", \"24\", \"25\", \"26\", \"27\", \"28\", \"29\", \"30\", \"31\", \"32\", \"33\", \"34\", \"35\", \"36\", \"37\", \"38\", \"39\", \"40\", \"41\", \"42\", \"43\", \"44\", \"45\", \"46\", \"47\", \"48\", \"51\", \"52\"], \"mode\": \"markers\", \"name\": \"precision_score_macro\", \"stepped\": false, \"type\": \"scatter\", \"data\": [0.7889041743265773, 0.8086642059265495, 0.8085854318043506, 0.8037374152782093, 0.8052740389760851, 0.7980851063829787, 0.8274744409420276, 0.8417211580040943, 0.7982217841396135, 0.7573881765399129, 0.8276732797197056, 0.8360915101061621, 0.783298504393773, 0.809534042852011, 0.791401222452558, 0.5343494917780632, 0.8221980859259904, 0.7474550304537517, 0.7800951280701443, 0.8193051204115033, 0.8419475525110537, 0.7882502010019172, 0.8051100288600288, 0.8336938868790602, 0.7952394678168868, 0.7934910938734469, 0.8052877789864794, 0.8561038205880284, 0.8320753320525691, 0.8272373203159326, 0.5355825835730975, 0.8282778391820946, 0.7863813441586227, 0.8227370949546817, 0.7845397506576045, 0.8213425704730053, 0.8266297147194465, 0.8146801748975662, 0.8074968623740235, 0.8147853727638289, 0.8308686003320289, 0.816365796039709, 0.8236052485402265, 0.7637435953740301, 0.8409943945200652, 0.7539277484967141, 0.8088066251183734, 0.7850791889795484, 0.8081397108571021, 0.8146399965078455, 0.4387146892655367]}, {\"categories\": [\"0\", \"1\", \"2\", \"3\", \"4\", \"5\", \"6\", \"7\", \"8\", \"9\", \"10\", \"11\", \"12\", \"13\", \"14\", \"15\", \"16\", \"17\", \"18\", \"19\", \"20\", \"21\", \"22\", \"23\", \"24\", \"25\", \"26\", \"27\", \"28\", \"29\", \"30\", \"31\", \"32\", \"33\", \"34\", \"35\", \"36\", \"37\", \"38\", \"39\", \"40\", \"41\", \"42\", \"43\", \"44\", \"45\", \"46\", \"47\", \"48\", \"51\", \"52\"], \"mode\": \"lines\", \"name\": \"precision_score_macro_max\", \"stepped\": true, \"type\": \"scatter\", \"data\": [0.7889041743265773, 0.8086642059265495, 0.8086642059265495, 0.8086642059265495, 0.8086642059265495, 0.8086642059265495, 0.8274744409420276, 0.8417211580040943, 0.8417211580040943, 0.8417211580040943, 0.8417211580040943, 0.8417211580040943, 0.8417211580040943, 0.8417211580040943, 0.8417211580040943, 0.8417211580040943, 0.8417211580040943, 0.8417211580040943, 0.8417211580040943, 0.8417211580040943, 0.8419475525110537, 0.8419475525110537, 0.8419475525110537, 0.8419475525110537, 0.8419475525110537, 0.8419475525110537, 0.8419475525110537, 0.8561038205880284, 0.8561038205880284, 0.8561038205880284, 0.8561038205880284, 0.8561038205880284, 0.8561038205880284, 0.8561038205880284, 0.8561038205880284, 0.8561038205880284, 0.8561038205880284, 0.8561038205880284, 0.8561038205880284, 0.8561038205880284, 0.8561038205880284, 0.8561038205880284, 0.8561038205880284, 0.8561038205880284, 0.8561038205880284, 0.8561038205880284, 0.8561038205880284, 0.8561038205880284, 0.8561038205880284, 0.8561038205880284, 0.8561038205880284]}], \"AUC_macro\": [{\"categories\": [\"0\", \"1\", \"2\", \"3\", \"4\", \"5\", \"6\", \"7\", \"8\", \"9\", \"10\", \"11\", \"12\", \"13\", \"14\", \"15\", \"16\", \"17\", \"18\", \"19\", \"20\", \"21\", \"22\", \"23\", \"24\", \"25\", \"26\", \"27\", \"28\", \"29\", \"30\", \"31\", \"32\", \"33\", \"34\", \"35\", \"36\", \"37\", \"38\", \"39\", \"40\", \"41\", \"42\", \"43\", \"44\", \"45\", \"46\", \"47\", \"48\", \"51\", \"52\"], \"mode\": \"markers\", \"name\": \"AUC_macro\", \"stepped\": false, \"type\": \"scatter\", \"data\": [0.8811331210778885, 0.8929591177556295, 0.8932397794389073, 0.8790619462901439, 0.9109149132521226, 0.9047607281284608, 0.8928500023071244, 0.8879970930232558, 0.8541008674787743, 0.7514726836471023, 0.8884147056109265, 0.8928474990771502, 0.9009000322997416, 0.8736641519010705, 0.8907410483573275, 0.48227655500184563, 0.8901121031746031, 0.8052914359542267, 0.8917775932078257, 0.9071683739387228, 0.8983963178294573, 0.8623546973052786, 0.8612100406053894, 0.9070863095238095, 0.8977927048726467, 0.8829124446290144, 0.9028256275378368, 0.8982322582133628, 0.836138612033961, 0.8916456949058693, 0.789094246031746, 0.9065399363233666, 0.9156004521963824, 0.9090248246585455, 0.899311554078996, 0.8985436277224069, 0.9039821889996309, 0.8955831718346253, 0.8979356543004797, 0.9110305463270579, 0.8815220561092654, 0.9080598929494277, 0.9068381782945736, 0.9124971622369877, 0.907751015134736, 0.8223015180878553, 0.8875220330380212, 0.9061149870801033, 0.892124100221484, 0.9207544066076043, 0.9173215900701367]}, {\"categories\": [\"0\", \"1\", \"2\", \"3\", \"4\", \"5\", \"6\", \"7\", \"8\", \"9\", \"10\", \"11\", \"12\", \"13\", \"14\", \"15\", \"16\", \"17\", \"18\", \"19\", \"20\", \"21\", \"22\", \"23\", \"24\", \"25\", \"26\", \"27\", \"28\", \"29\", \"30\", \"31\", \"32\", \"33\", \"34\", \"35\", \"36\", \"37\", \"38\", \"39\", \"40\", \"41\", \"42\", \"43\", \"44\", \"45\", \"46\", \"47\", \"48\", \"51\", \"52\"], \"mode\": \"lines\", \"name\": \"AUC_macro_max\", \"stepped\": true, \"type\": \"scatter\", \"data\": [0.8811331210778885, 0.8929591177556295, 0.8932397794389073, 0.8932397794389073, 0.9109149132521226, 0.9109149132521226, 0.9109149132521226, 0.9109149132521226, 0.9109149132521226, 0.9109149132521226, 0.9109149132521226, 0.9109149132521226, 0.9109149132521226, 0.9109149132521226, 0.9109149132521226, 0.9109149132521226, 0.9109149132521226, 0.9109149132521226, 0.9109149132521226, 0.9109149132521226, 0.9109149132521226, 0.9109149132521226, 0.9109149132521226, 0.9109149132521226, 0.9109149132521226, 0.9109149132521226, 0.9109149132521226, 0.9109149132521226, 0.9109149132521226, 0.9109149132521226, 0.9109149132521226, 0.9109149132521226, 0.9156004521963824, 0.9156004521963824, 0.9156004521963824, 0.9156004521963824, 0.9156004521963824, 0.9156004521963824, 0.9156004521963824, 0.9156004521963824, 0.9156004521963824, 0.9156004521963824, 0.9156004521963824, 0.9156004521963824, 0.9156004521963824, 0.9156004521963824, 0.9156004521963824, 0.9156004521963824, 0.9156004521963824, 0.9207544066076043, 0.9207544066076043]}], \"recall_score_weighted\": [{\"categories\": [\"0\", \"1\", \"2\", \"3\", \"4\", \"5\", \"6\", \"7\", \"8\", \"9\", \"10\", \"11\", \"12\", \"13\", \"14\", \"15\", \"16\", \"17\", \"18\", \"19\", \"20\", \"21\", \"22\", \"23\", \"24\", \"25\", \"26\", \"27\", \"28\", \"29\", \"30\", \"31\", \"32\", \"33\", \"34\", \"35\", \"36\", \"37\", \"38\", \"39\", \"40\", \"41\", \"42\", \"43\", \"44\", \"45\", \"46\", \"47\", \"48\", \"51\", \"52\"], \"mode\": \"markers\", \"name\": \"recall_score_weighted\", \"stepped\": false, \"type\": \"scatter\", \"data\": [0.8059887005649717, 0.8259322033898304, 0.8260451977401131, 0.779322033898305, 0.8292655367231638, 0.8127683615819208, 0.8425988700564971, 0.8394350282485876, 0.7725988700564972, 0.7593220338983051, 0.8026553672316383, 0.8226553672316385, 0.8023728813559323, 0.8193785310734464, 0.8159322033898306, 0.6153107344632769, 0.766045197740113, 0.782542372881356, 0.8092655367231638, 0.822768361581921, 0.8561581920903955, 0.8125988700564971, 0.8228248587570622, 0.8428248587570621, 0.8193220338983049, 0.8190395480225989, 0.8261016949152541, 0.8394915254237288, 0.7125423728813558, 0.7861016949152542, 0.6889830508474576, 0.8392655367231638, 0.8124858757062146, 0.8393785310734463, 0.8125423728813559, 0.836045197740113, 0.8394350282485876, 0.8325988700564972, 0.8193220338983052, 0.8326553672316385, 0.8427118644067797, 0.8328248587570621, 0.8361016949152542, 0.7823728813559322, 0.8462146892655367, 0.7259322033898306, 0.8227118644067797, 0.8158192090395481, 0.8227118644067797, 0.836045197740113, 0.7057627118644068]}, {\"categories\": [\"0\", \"1\", \"2\", \"3\", \"4\", \"5\", \"6\", \"7\", \"8\", \"9\", \"10\", \"11\", \"12\", \"13\", \"14\", \"15\", \"16\", \"17\", \"18\", \"19\", \"20\", \"21\", \"22\", \"23\", \"24\", \"25\", \"26\", \"27\", \"28\", \"29\", \"30\", \"31\", \"32\", \"33\", \"34\", \"35\", \"36\", \"37\", \"38\", \"39\", \"40\", \"41\", \"42\", \"43\", \"44\", \"45\", \"46\", \"47\", \"48\", \"51\", \"52\"], \"mode\": \"lines\", \"name\": \"recall_score_weighted_max\", \"stepped\": true, \"type\": \"scatter\", \"data\": [0.8059887005649717, 0.8259322033898304, 0.8260451977401131, 0.8260451977401131, 0.8292655367231638, 0.8292655367231638, 0.8425988700564971, 0.8425988700564971, 0.8425988700564971, 0.8425988700564971, 0.8425988700564971, 0.8425988700564971, 0.8425988700564971, 0.8425988700564971, 0.8425988700564971, 0.8425988700564971, 0.8425988700564971, 0.8425988700564971, 0.8425988700564971, 0.8425988700564971, 0.8561581920903955, 0.8561581920903955, 0.8561581920903955, 0.8561581920903955, 0.8561581920903955, 0.8561581920903955, 0.8561581920903955, 0.8561581920903955, 0.8561581920903955, 0.8561581920903955, 0.8561581920903955, 0.8561581920903955, 0.8561581920903955, 0.8561581920903955, 0.8561581920903955, 0.8561581920903955, 0.8561581920903955, 0.8561581920903955, 0.8561581920903955, 0.8561581920903955, 0.8561581920903955, 0.8561581920903955, 0.8561581920903955, 0.8561581920903955, 0.8561581920903955, 0.8561581920903955, 0.8561581920903955, 0.8561581920903955, 0.8561581920903955, 0.8561581920903955, 0.8561581920903955]}], \"log_loss\": [{\"categories\": [\"0\", \"1\", \"2\", \"3\", \"4\", \"5\", \"6\", \"7\", \"8\", \"9\", \"10\", \"11\", \"12\", \"13\", \"14\", \"15\", \"16\", \"17\", \"18\", \"19\", \"20\", \"21\", \"22\", \"23\", \"24\", \"25\", \"26\", \"27\", \"28\", \"29\", \"30\", \"31\", \"32\", \"33\", \"34\", \"35\", \"36\", \"37\", \"38\", \"39\", \"40\", \"41\", \"42\", \"43\", \"44\", \"45\", \"46\", \"47\", \"48\", \"51\", \"52\"], \"mode\": \"markers\", \"name\": \"log_loss\", \"stepped\": false, \"type\": \"scatter\", \"data\": [0.5282491261622873, 0.43217688137359717, 0.40125412220480144, 0.4747669753686413, 0.3774337703402081, 0.40425601111272924, 0.6033474903119845, 0.4185381881095999, 0.49417574383994956, 1.292911173952953, 0.47026706648960503, 0.4379201713655999, 0.4395274337848343, 0.4258598784672379, 0.4294538807059559, 0.8093375881662283, 0.48334095713477526, 0.6383217773086252, 0.5308085135449297, 0.4840841195277533, 0.3801865897482016, 0.5101647877142123, 0.4953368941133706, 0.3979812797613046, 0.4214123387287315, 0.45213741949338343, 0.39580341074674014, 0.4432579254489776, 0.5556798155280688, 0.4875601161515622, 0.5626091893542969, 0.4194321583824906, 0.4177683981564928, 0.39378590029484284, 0.4671072507971753, 0.3899201413464256, 0.38095626934830873, 0.3882378583588506, 0.39058522174116284, 0.37164805276572876, 0.4918007709290956, 0.3751793492988994, 0.3928227263952676, 0.4181943441477931, 0.38912658034668074, 0.541463395532759, 0.47266209769754086, 0.46005285786408445, 0.43656480565235134, 0.4154808232498463, 0.5849672061530289]}, {\"categories\": [\"0\", \"1\", \"2\", \"3\", \"4\", \"5\", \"6\", \"7\", \"8\", \"9\", \"10\", \"11\", \"12\", \"13\", \"14\", \"15\", \"16\", \"17\", \"18\", \"19\", \"20\", \"21\", \"22\", \"23\", \"24\", \"25\", \"26\", \"27\", \"28\", \"29\", \"30\", \"31\", \"32\", \"33\", \"34\", \"35\", \"36\", \"37\", \"38\", \"39\", \"40\", \"41\", \"42\", \"43\", \"44\", \"45\", \"46\", \"47\", \"48\", \"51\", \"52\"], \"mode\": \"lines\", \"name\": \"log_loss_min\", \"stepped\": true, \"type\": \"scatter\", \"data\": [0.5282491261622873, 0.43217688137359717, 0.40125412220480144, 0.40125412220480144, 0.3774337703402081, 0.3774337703402081, 0.3774337703402081, 0.3774337703402081, 0.3774337703402081, 0.3774337703402081, 0.3774337703402081, 0.3774337703402081, 0.3774337703402081, 0.3774337703402081, 0.3774337703402081, 0.3774337703402081, 0.3774337703402081, 0.3774337703402081, 0.3774337703402081, 0.3774337703402081, 0.3774337703402081, 0.3774337703402081, 0.3774337703402081, 0.3774337703402081, 0.3774337703402081, 0.3774337703402081, 0.3774337703402081, 0.3774337703402081, 0.3774337703402081, 0.3774337703402081, 0.3774337703402081, 0.3774337703402081, 0.3774337703402081, 0.3774337703402081, 0.3774337703402081, 0.3774337703402081, 0.3774337703402081, 0.3774337703402081, 0.3774337703402081, 0.37164805276572876, 0.37164805276572876, 0.37164805276572876, 0.37164805276572876, 0.37164805276572876, 0.37164805276572876, 0.37164805276572876, 0.37164805276572876, 0.37164805276572876, 0.37164805276572876, 0.37164805276572876, 0.37164805276572876]}], \"accuracy\": [{\"categories\": [\"0\", \"1\", \"2\", \"3\", \"4\", \"5\", \"6\", \"7\", \"8\", \"9\", \"10\", \"11\", \"12\", \"13\", \"14\", \"15\", \"16\", \"17\", \"18\", \"19\", \"20\", \"21\", \"22\", \"23\", \"24\", \"25\", \"26\", \"27\", \"28\", \"29\", \"30\", \"31\", \"32\", \"33\", \"34\", \"35\", \"36\", \"37\", \"38\", \"39\", \"40\", \"41\", \"42\", \"43\", \"44\", \"45\", \"46\", \"47\", \"48\", \"51\", \"52\"], \"mode\": \"markers\", \"name\": \"accuracy\", \"stepped\": false, \"type\": \"scatter\", \"data\": [0.8059887005649717, 0.8259322033898304, 0.8260451977401131, 0.779322033898305, 0.8292655367231638, 0.8127683615819208, 0.8425988700564971, 0.8394350282485876, 0.7725988700564972, 0.7593220338983051, 0.8026553672316383, 0.8226553672316385, 0.8023728813559323, 0.8193785310734464, 0.8159322033898306, 0.6153107344632769, 0.766045197740113, 0.782542372881356, 0.8092655367231638, 0.822768361581921, 0.8561581920903955, 0.8125988700564971, 0.8228248587570622, 0.8428248587570621, 0.8193220338983049, 0.8190395480225989, 0.8261016949152541, 0.8394915254237288, 0.7125423728813558, 0.7861016949152542, 0.6889830508474576, 0.8392655367231638, 0.8124858757062146, 0.8393785310734463, 0.8125423728813559, 0.836045197740113, 0.8394350282485876, 0.8325988700564972, 0.8193220338983052, 0.8326553672316385, 0.8427118644067797, 0.8328248587570621, 0.8361016949152542, 0.7823728813559322, 0.8462146892655367, 0.7259322033898306, 0.8227118644067797, 0.8158192090395481, 0.8227118644067797, 0.836045197740113, 0.7057627118644068]}, {\"categories\": [\"0\", \"1\", \"2\", \"3\", \"4\", \"5\", \"6\", \"7\", \"8\", \"9\", \"10\", \"11\", \"12\", \"13\", \"14\", \"15\", \"16\", \"17\", \"18\", \"19\", \"20\", \"21\", \"22\", \"23\", \"24\", \"25\", \"26\", \"27\", \"28\", \"29\", \"30\", \"31\", \"32\", \"33\", \"34\", \"35\", \"36\", \"37\", \"38\", \"39\", \"40\", \"41\", \"42\", \"43\", \"44\", \"45\", \"46\", \"47\", \"48\", \"51\", \"52\"], \"mode\": \"lines\", \"name\": \"accuracy_max\", \"stepped\": true, \"type\": \"scatter\", \"data\": [0.8059887005649717, 0.8259322033898304, 0.8260451977401131, 0.8260451977401131, 0.8292655367231638, 0.8292655367231638, 0.8425988700564971, 0.8425988700564971, 0.8425988700564971, 0.8425988700564971, 0.8425988700564971, 0.8425988700564971, 0.8425988700564971, 0.8425988700564971, 0.8425988700564971, 0.8425988700564971, 0.8425988700564971, 0.8425988700564971, 0.8425988700564971, 0.8425988700564971, 0.8561581920903955, 0.8561581920903955, 0.8561581920903955, 0.8561581920903955, 0.8561581920903955, 0.8561581920903955, 0.8561581920903955, 0.8561581920903955, 0.8561581920903955, 0.8561581920903955, 0.8561581920903955, 0.8561581920903955, 0.8561581920903955, 0.8561581920903955, 0.8561581920903955, 0.8561581920903955, 0.8561581920903955, 0.8561581920903955, 0.8561581920903955, 0.8561581920903955, 0.8561581920903955, 0.8561581920903955, 0.8561581920903955, 0.8561581920903955, 0.8561581920903955, 0.8561581920903955, 0.8561581920903955, 0.8561581920903955, 0.8561581920903955, 0.8561581920903955, 0.8561581920903955]}], \"precision_score_weighted\": [{\"categories\": [\"0\", \"1\", \"2\", \"3\", \"4\", \"5\", \"6\", \"7\", \"8\", \"9\", \"10\", \"11\", \"12\", \"13\", \"14\", \"15\", \"16\", \"17\", \"18\", \"19\", \"20\", \"21\", \"22\", \"23\", \"24\", \"25\", \"26\", \"27\", \"28\", \"29\", \"30\", \"31\", \"32\", \"33\", \"34\", \"35\", \"36\", \"37\", \"38\", \"39\", \"40\", \"41\", \"42\", \"43\", \"44\", \"45\", \"46\", \"47\", \"48\", \"51\", \"52\"], \"mode\": \"markers\", \"name\": \"precision_score_weighted\", \"stepped\": false, \"type\": \"scatter\", \"data\": [0.8237683758533973, 0.8403871377947292, 0.8416212896461911, 0.806020266197397, 0.8446972627910251, 0.8294175849127166, 0.8511836709461326, 0.8517192695126157, 0.8014040669001528, 0.7695882951514441, 0.8269240721675356, 0.8361814987803624, 0.8388610552206938, 0.8423771259813689, 0.838089791583377, 0.6019922322856948, 0.8039097482951185, 0.7899240412559152, 0.833304978534858, 0.8449394581537387, 0.8650303288404946, 0.8443540583984674, 0.8368205256764579, 0.8509426272472116, 0.8363123063514593, 0.8443082104926571, 0.8438158101719162, 0.8571985569711915, 0.793737268094523, 0.8186281319775418, 0.6152834989373794, 0.8554854997949122, 0.8362683380818539, 0.8477337686826711, 0.8291693875725554, 0.8479626195469969, 0.8523939168681169, 0.8456597042521878, 0.8362507428532695, 0.8432009227655215, 0.851204341148042, 0.8471210485794126, 0.8479548578775995, 0.8307144779490641, 0.8572523771943643, 0.7611329507559783, 0.8364785510610625, 0.83793049745051, 0.8432713469817376, 0.8503712951261917, 0.5275671741836636]}, {\"categories\": [\"0\", \"1\", \"2\", \"3\", \"4\", \"5\", \"6\", \"7\", \"8\", \"9\", \"10\", \"11\", \"12\", \"13\", \"14\", \"15\", \"16\", \"17\", \"18\", \"19\", \"20\", \"21\", \"22\", \"23\", \"24\", \"25\", \"26\", \"27\", \"28\", \"29\", \"30\", \"31\", \"32\", \"33\", \"34\", \"35\", \"36\", \"37\", \"38\", \"39\", \"40\", \"41\", \"42\", \"43\", \"44\", \"45\", \"46\", \"47\", \"48\", \"51\", \"52\"], \"mode\": \"lines\", \"name\": \"precision_score_weighted_max\", \"stepped\": true, \"type\": \"scatter\", \"data\": [0.8237683758533973, 0.8403871377947292, 0.8416212896461911, 0.8416212896461911, 0.8446972627910251, 0.8446972627910251, 0.8511836709461326, 0.8517192695126157, 0.8517192695126157, 0.8517192695126157, 0.8517192695126157, 0.8517192695126157, 0.8517192695126157, 0.8517192695126157, 0.8517192695126157, 0.8517192695126157, 0.8517192695126157, 0.8517192695126157, 0.8517192695126157, 0.8517192695126157, 0.8650303288404946, 0.8650303288404946, 0.8650303288404946, 0.8650303288404946, 0.8650303288404946, 0.8650303288404946, 0.8650303288404946, 0.8650303288404946, 0.8650303288404946, 0.8650303288404946, 0.8650303288404946, 0.8650303288404946, 0.8650303288404946, 0.8650303288404946, 0.8650303288404946, 0.8650303288404946, 0.8650303288404946, 0.8650303288404946, 0.8650303288404946, 0.8650303288404946, 0.8650303288404946, 0.8650303288404946, 0.8650303288404946, 0.8650303288404946, 0.8650303288404946, 0.8650303288404946, 0.8650303288404946, 0.8650303288404946, 0.8650303288404946, 0.8650303288404946, 0.8650303288404946]}], \"precision_score_micro\": [{\"categories\": [\"0\", \"1\", \"2\", \"3\", \"4\", \"5\", \"6\", \"7\", \"8\", \"9\", \"10\", \"11\", \"12\", \"13\", \"14\", \"15\", \"16\", \"17\", \"18\", \"19\", \"20\", \"21\", \"22\", \"23\", \"24\", \"25\", \"26\", \"27\", \"28\", \"29\", \"30\", \"31\", \"32\", \"33\", \"34\", \"35\", \"36\", \"37\", \"38\", \"39\", \"40\", \"41\", \"42\", \"43\", \"44\", \"45\", \"46\", \"47\", \"48\", \"51\", \"52\"], \"mode\": \"markers\", \"name\": \"precision_score_micro\", \"stepped\": false, \"type\": \"scatter\", \"data\": [0.8059887005649717, 0.8259322033898304, 0.8260451977401131, 0.779322033898305, 0.8292655367231638, 0.8127683615819208, 0.8425988700564971, 0.8394350282485876, 0.7725988700564972, 0.7593220338983051, 0.8026553672316383, 0.8226553672316385, 0.8023728813559323, 0.8193785310734464, 0.8159322033898306, 0.6153107344632769, 0.766045197740113, 0.782542372881356, 0.8092655367231638, 0.822768361581921, 0.8561581920903955, 0.8125988700564971, 0.8228248587570622, 0.8428248587570621, 0.8193220338983049, 0.8190395480225989, 0.8261016949152541, 0.8394915254237288, 0.7125423728813558, 0.7861016949152542, 0.6889830508474576, 0.8392655367231638, 0.8124858757062146, 0.8393785310734463, 0.8125423728813559, 0.836045197740113, 0.8394350282485876, 0.8325988700564972, 0.8193220338983052, 0.8326553672316385, 0.8427118644067797, 0.8328248587570621, 0.8361016949152542, 0.7823728813559322, 0.8462146892655367, 0.7259322033898306, 0.8227118644067797, 0.8158192090395481, 0.8227118644067797, 0.836045197740113, 0.7057627118644068]}, {\"categories\": [\"0\", \"1\", \"2\", \"3\", \"4\", \"5\", \"6\", \"7\", \"8\", \"9\", \"10\", \"11\", \"12\", \"13\", \"14\", \"15\", \"16\", \"17\", \"18\", \"19\", \"20\", \"21\", \"22\", \"23\", \"24\", \"25\", \"26\", \"27\", \"28\", \"29\", \"30\", \"31\", \"32\", \"33\", \"34\", \"35\", \"36\", \"37\", \"38\", \"39\", \"40\", \"41\", \"42\", \"43\", \"44\", \"45\", \"46\", \"47\", \"48\", \"51\", \"52\"], \"mode\": \"lines\", \"name\": \"precision_score_micro_max\", \"stepped\": true, \"type\": \"scatter\", \"data\": [0.8059887005649717, 0.8259322033898304, 0.8260451977401131, 0.8260451977401131, 0.8292655367231638, 0.8292655367231638, 0.8425988700564971, 0.8425988700564971, 0.8425988700564971, 0.8425988700564971, 0.8425988700564971, 0.8425988700564971, 0.8425988700564971, 0.8425988700564971, 0.8425988700564971, 0.8425988700564971, 0.8425988700564971, 0.8425988700564971, 0.8425988700564971, 0.8425988700564971, 0.8561581920903955, 0.8561581920903955, 0.8561581920903955, 0.8561581920903955, 0.8561581920903955, 0.8561581920903955, 0.8561581920903955, 0.8561581920903955, 0.8561581920903955, 0.8561581920903955, 0.8561581920903955, 0.8561581920903955, 0.8561581920903955, 0.8561581920903955, 0.8561581920903955, 0.8561581920903955, 0.8561581920903955, 0.8561581920903955, 0.8561581920903955, 0.8561581920903955, 0.8561581920903955, 0.8561581920903955, 0.8561581920903955, 0.8561581920903955, 0.8561581920903955, 0.8561581920903955, 0.8561581920903955, 0.8561581920903955, 0.8561581920903955, 0.8561581920903955, 0.8561581920903955]}], \"AUC_weighted\": [{\"categories\": [\"0\", \"1\", \"2\", \"3\", \"4\", \"5\", \"6\", \"7\", \"8\", \"9\", \"10\", \"11\", \"12\", \"13\", \"14\", \"15\", \"16\", \"17\", \"18\", \"19\", \"20\", \"21\", \"22\", \"23\", \"24\", \"25\", \"26\", \"27\", \"28\", \"29\", \"30\", \"31\", \"32\", \"33\", \"34\", \"35\", \"36\", \"37\", \"38\", \"39\", \"40\", \"41\", \"42\", \"43\", \"44\", \"45\", \"46\", \"47\", \"48\", \"51\", \"52\"], \"mode\": \"markers\", \"name\": \"AUC_weighted\", \"stepped\": false, \"type\": \"scatter\", \"data\": [0.8811331210778885, 0.8929591177556293, 0.8932397794389073, 0.8790619462901439, 0.9109149132521226, 0.9047607281284608, 0.8928500023071244, 0.8879970930232558, 0.8541008674787743, 0.7514726836471023, 0.8884147056109265, 0.8928474990771502, 0.9009000322997416, 0.8736641519010704, 0.8907410483573275, 0.48227655500184563, 0.8901121031746031, 0.8052914359542267, 0.8917775932078257, 0.9071683739387228, 0.8983963178294573, 0.8623546973052786, 0.8612100406053894, 0.9070863095238095, 0.8977927048726467, 0.8829124446290144, 0.9028256275378368, 0.8982322582133628, 0.8361386120339607, 0.8916456949058693, 0.7890942460317459, 0.9065399363233665, 0.9156004521963824, 0.9090248246585457, 0.899311554078996, 0.8985436277224069, 0.9039821889996309, 0.8955831718346253, 0.89793565430048, 0.9110305463270579, 0.8815220561092654, 0.9080598929494277, 0.9068381782945737, 0.9124971622369877, 0.907751015134736, 0.8223015180878553, 0.8875220330380215, 0.9061149870801033, 0.8921241002214838, 0.9207544066076043, 0.9173215900701367]}, {\"categories\": [\"0\", \"1\", \"2\", \"3\", \"4\", \"5\", \"6\", \"7\", \"8\", \"9\", \"10\", \"11\", \"12\", \"13\", \"14\", \"15\", \"16\", \"17\", \"18\", \"19\", \"20\", \"21\", \"22\", \"23\", \"24\", \"25\", \"26\", \"27\", \"28\", \"29\", \"30\", \"31\", \"32\", \"33\", \"34\", \"35\", \"36\", \"37\", \"38\", \"39\", \"40\", \"41\", \"42\", \"43\", \"44\", \"45\", \"46\", \"47\", \"48\", \"51\", \"52\"], \"mode\": \"lines\", \"name\": \"AUC_weighted_max\", \"stepped\": true, \"type\": \"scatter\", \"data\": [0.8811331210778885, 0.8929591177556293, 0.8932397794389073, 0.8932397794389073, 0.9109149132521226, 0.9109149132521226, 0.9109149132521226, 0.9109149132521226, 0.9109149132521226, 0.9109149132521226, 0.9109149132521226, 0.9109149132521226, 0.9109149132521226, 0.9109149132521226, 0.9109149132521226, 0.9109149132521226, 0.9109149132521226, 0.9109149132521226, 0.9109149132521226, 0.9109149132521226, 0.9109149132521226, 0.9109149132521226, 0.9109149132521226, 0.9109149132521226, 0.9109149132521226, 0.9109149132521226, 0.9109149132521226, 0.9109149132521226, 0.9109149132521226, 0.9109149132521226, 0.9109149132521226, 0.9109149132521226, 0.9156004521963824, 0.9156004521963824, 0.9156004521963824, 0.9156004521963824, 0.9156004521963824, 0.9156004521963824, 0.9156004521963824, 0.9156004521963824, 0.9156004521963824, 0.9156004521963824, 0.9156004521963824, 0.9156004521963824, 0.9156004521963824, 0.9156004521963824, 0.9156004521963824, 0.9156004521963824, 0.9156004521963824, 0.9207544066076043, 0.9207544066076043]}], \"AUC_micro\": [{\"categories\": [\"0\", \"1\", \"2\", \"3\", \"4\", \"5\", \"6\", \"7\", \"8\", \"9\", \"10\", \"11\", \"12\", \"13\", \"14\", \"15\", \"16\", \"17\", \"18\", \"19\", \"20\", \"21\", \"22\", \"23\", \"24\", \"25\", \"26\", \"27\", \"28\", \"29\", \"30\", \"31\", \"32\", \"33\", \"34\", \"35\", \"36\", \"37\", \"38\", \"39\", \"40\", \"41\", \"42\", \"43\", \"44\", \"45\", \"46\", \"47\", \"48\", \"51\", \"52\"], \"mode\": \"markers\", \"name\": \"AUC_micro\", \"stepped\": false, \"type\": \"scatter\", \"data\": [0.8880105014523284, 0.8999905678444892, 0.9057218072712183, 0.8723723387276964, 0.9171638737272175, 0.9053989115515975, 0.9046092757509017, 0.8972896996393119, 0.8532859172013151, 0.8076344600849055, 0.8820632161894728, 0.8979027259089023, 0.8932493855533213, 0.8813780363241726, 0.8975712917743943, 0.6273795684509559, 0.8729402310957898, 0.8320575345526509, 0.8950974177279838, 0.9034644418908998, 0.9123293593794886, 0.8696657888856969, 0.8778732803472821, 0.9168457339844872, 0.9045698554055347, 0.8898927830444634, 0.9108870375690253, 0.8967749848383286, 0.8222194452424272, 0.8762298828561397, 0.7973453030738293, 0.906403667528488, 0.910481550639982, 0.9120969229787098, 0.9051453605285837, 0.9053633055635354, 0.910370423569217, 0.9033618851543299, 0.9039145839318202, 0.9177968336046474, 0.8774725493951291, 0.9135100226627086, 0.91265057933544, 0.89771090682754, 0.9141671933352485, 0.8269160362603338, 0.8955655782182642, 0.9053766159149669, 0.901680487727026, 0.9224620639024547, 0.8598281783650931]}, {\"categories\": [\"0\", \"1\", \"2\", \"3\", \"4\", \"5\", \"6\", \"7\", \"8\", \"9\", \"10\", \"11\", \"12\", \"13\", \"14\", \"15\", \"16\", \"17\", \"18\", \"19\", \"20\", \"21\", \"22\", \"23\", \"24\", \"25\", \"26\", \"27\", \"28\", \"29\", \"30\", \"31\", \"32\", \"33\", \"34\", \"35\", \"36\", \"37\", \"38\", \"39\", \"40\", \"41\", \"42\", \"43\", \"44\", \"45\", \"46\", \"47\", \"48\", \"51\", \"52\"], \"mode\": \"lines\", \"name\": \"AUC_micro_max\", \"stepped\": true, \"type\": \"scatter\", \"data\": [0.8880105014523284, 0.8999905678444892, 0.9057218072712183, 0.9057218072712183, 0.9171638737272175, 0.9171638737272175, 0.9171638737272175, 0.9171638737272175, 0.9171638737272175, 0.9171638737272175, 0.9171638737272175, 0.9171638737272175, 0.9171638737272175, 0.9171638737272175, 0.9171638737272175, 0.9171638737272175, 0.9171638737272175, 0.9171638737272175, 0.9171638737272175, 0.9171638737272175, 0.9171638737272175, 0.9171638737272175, 0.9171638737272175, 0.9171638737272175, 0.9171638737272175, 0.9171638737272175, 0.9171638737272175, 0.9171638737272175, 0.9171638737272175, 0.9171638737272175, 0.9171638737272175, 0.9171638737272175, 0.9171638737272175, 0.9171638737272175, 0.9171638737272175, 0.9171638737272175, 0.9171638737272175, 0.9171638737272175, 0.9171638737272175, 0.9177968336046474, 0.9177968336046474, 0.9177968336046474, 0.9177968336046474, 0.9177968336046474, 0.9177968336046474, 0.9177968336046474, 0.9177968336046474, 0.9177968336046474, 0.9177968336046474, 0.9224620639024547, 0.9224620639024547]}], \"average_precision_score_macro\": [{\"categories\": [\"0\", \"1\", \"2\", \"3\", \"4\", \"5\", \"6\", \"7\", \"8\", \"9\", \"10\", \"11\", \"12\", \"13\", \"14\", \"15\", \"16\", \"17\", \"18\", \"19\", \"20\", \"21\", \"22\", \"23\", \"24\", \"25\", \"26\", \"27\", \"28\", \"29\", \"30\", \"31\", \"32\", \"33\", \"34\", \"35\", \"36\", \"37\", \"38\", \"39\", \"40\", \"41\", \"42\", \"43\", \"44\", \"45\", \"46\", \"47\", \"48\", \"51\", \"52\"], \"mode\": \"markers\", \"name\": \"average_precision_score_macro\", \"stepped\": false, \"type\": \"scatter\", \"data\": [0.8655792376041671, 0.8826936933050062, 0.877793575177192, 0.866043108466679, 0.8954024584279209, 0.893710855950328, 0.8774960367939408, 0.8796732852561867, 0.8405317615865624, 0.7455889577323558, 0.8782251509699522, 0.8800438940191914, 0.8786891745536993, 0.8555334008091015, 0.8780544823605586, 0.5525347928626576, 0.8787506333413948, 0.803474128303517, 0.870506697920178, 0.8968251072606875, 0.8851623061334207, 0.8422198499545555, 0.8443779700519188, 0.898976419547561, 0.8862904486866252, 0.8674672768077333, 0.8940072187882653, 0.8879840932942049, 0.8219306543453037, 0.8778949409495468, 0.7314858550546302, 0.8882531359713969, 0.9068398792929777, 0.8994521490734151, 0.8769651167922587, 0.8910123645126603, 0.8950295729092101, 0.8863940645823037, 0.8885889823569668, 0.9016850322622536, 0.863039744754032, 0.8991186636382249, 0.8973586617001235, 0.9012662511243187, 0.9010390647227773, 0.7942598392513809, 0.8778838057047949, 0.8967298015013835, 0.8863266494081976, 0.9121959772074086, 0.9092916513031236]}, {\"categories\": [\"0\", \"1\", \"2\", \"3\", \"4\", \"5\", \"6\", \"7\", \"8\", \"9\", \"10\", \"11\", \"12\", \"13\", \"14\", \"15\", \"16\", \"17\", \"18\", \"19\", \"20\", \"21\", \"22\", \"23\", \"24\", \"25\", \"26\", \"27\", \"28\", \"29\", \"30\", \"31\", \"32\", \"33\", \"34\", \"35\", \"36\", \"37\", \"38\", \"39\", \"40\", \"41\", \"42\", \"43\", \"44\", \"45\", \"46\", \"47\", \"48\", \"51\", \"52\"], \"mode\": \"lines\", \"name\": \"average_precision_score_macro_max\", \"stepped\": true, \"type\": \"scatter\", \"data\": [0.8655792376041671, 0.8826936933050062, 0.8826936933050062, 0.8826936933050062, 0.8954024584279209, 0.8954024584279209, 0.8954024584279209, 0.8954024584279209, 0.8954024584279209, 0.8954024584279209, 0.8954024584279209, 0.8954024584279209, 0.8954024584279209, 0.8954024584279209, 0.8954024584279209, 0.8954024584279209, 0.8954024584279209, 0.8954024584279209, 0.8954024584279209, 0.8968251072606875, 0.8968251072606875, 0.8968251072606875, 0.8968251072606875, 0.898976419547561, 0.898976419547561, 0.898976419547561, 0.898976419547561, 0.898976419547561, 0.898976419547561, 0.898976419547561, 0.898976419547561, 0.898976419547561, 0.9068398792929777, 0.9068398792929777, 0.9068398792929777, 0.9068398792929777, 0.9068398792929777, 0.9068398792929777, 0.9068398792929777, 0.9068398792929777, 0.9068398792929777, 0.9068398792929777, 0.9068398792929777, 0.9068398792929777, 0.9068398792929777, 0.9068398792929777, 0.9068398792929777, 0.9068398792929777, 0.9068398792929777, 0.9121959772074086, 0.9121959772074086]}], \"norm_macro_recall\": [{\"categories\": [\"0\", \"1\", \"2\", \"3\", \"4\", \"5\", \"6\", \"7\", \"8\", \"9\", \"10\", \"11\", \"12\", \"13\", \"14\", \"15\", \"16\", \"17\", \"18\", \"19\", \"20\", \"21\", \"22\", \"23\", \"24\", \"25\", \"26\", \"27\", \"28\", \"29\", \"30\", \"31\", \"32\", \"33\", \"34\", \"35\", \"36\", \"37\", \"38\", \"39\", \"40\", \"41\", \"42\", \"43\", \"44\", \"45\", \"46\", \"47\", \"48\", \"51\", \"52\"], \"mode\": \"markers\", \"name\": \"norm_macro_recall\", \"stepped\": false, \"type\": \"scatter\", \"data\": [0.5520418050941306, 0.6120251937984496, 0.592296511627907, 0.3783250276854928, 0.6247715946843855, 0.5600858250276856, 0.6238192137320044, 0.5884952934662236, 0.372015503875969, 0.34136074197120714, 0.4196345514950166, 0.5036226467331119, 0.6228682170542637, 0.5812763012181617, 0.6149930786267996, 0.07768133997785158, 0.29534883720930233, 0.5159025470653378, 0.614389534883721, 0.5869905869324474, 0.6533762458471761, 0.6313621262458471, 0.5900429125138429, 0.6015905315614617, 0.5976370431893688, 0.6376896456256922, 0.6147882059800664, 0.5598726467331119, 0.11761904761904765, 0.39916666666666667, 0.27730620155038765, 0.6216168327796234, 0.6149764673311184, 0.6101370431893688, 0.5930966223698783, 0.6105024916943522, 0.6201536544850498, 0.6112001661129568, 0.5632918050941307, 0.6029941860465117, 0.6051453488372094, 0.6089631782945737, 0.6080024916943522, 0.6051979512735326, 0.6148048172757475, 0.1997535991140642, 0.5747452934662236, 0.6215323920265781, 0.5927131782945736, 0.6334703765227021, 0.15833333333333335]}, {\"categories\": [\"0\", \"1\", \"2\", \"3\", \"4\", \"5\", \"6\", \"7\", \"8\", \"9\", \"10\", \"11\", \"12\", \"13\", \"14\", \"15\", \"16\", \"17\", \"18\", \"19\", \"20\", \"21\", \"22\", \"23\", \"24\", \"25\", \"26\", \"27\", \"28\", \"29\", \"30\", \"31\", \"32\", \"33\", \"34\", \"35\", \"36\", \"37\", \"38\", \"39\", \"40\", \"41\", \"42\", \"43\", \"44\", \"45\", \"46\", \"47\", \"48\", \"51\", \"52\"], \"mode\": \"lines\", \"name\": \"norm_macro_recall_max\", \"stepped\": true, \"type\": \"scatter\", \"data\": [0.5520418050941306, 0.6120251937984496, 0.6120251937984496, 0.6120251937984496, 0.6247715946843855, 0.6247715946843855, 0.6247715946843855, 0.6247715946843855, 0.6247715946843855, 0.6247715946843855, 0.6247715946843855, 0.6247715946843855, 0.6247715946843855, 0.6247715946843855, 0.6247715946843855, 0.6247715946843855, 0.6247715946843855, 0.6247715946843855, 0.6247715946843855, 0.6247715946843855, 0.6533762458471761, 0.6533762458471761, 0.6533762458471761, 0.6533762458471761, 0.6533762458471761, 0.6533762458471761, 0.6533762458471761, 0.6533762458471761, 0.6533762458471761, 0.6533762458471761, 0.6533762458471761, 0.6533762458471761, 0.6533762458471761, 0.6533762458471761, 0.6533762458471761, 0.6533762458471761, 0.6533762458471761, 0.6533762458471761, 0.6533762458471761, 0.6533762458471761, 0.6533762458471761, 0.6533762458471761, 0.6533762458471761, 0.6533762458471761, 0.6533762458471761, 0.6533762458471761, 0.6533762458471761, 0.6533762458471761, 0.6533762458471761, 0.6533762458471761, 0.6533762458471761]}], \"balanced_accuracy\": [{\"categories\": [\"0\", \"1\", \"2\", \"3\", \"4\", \"5\", \"6\", \"7\", \"8\", \"9\", \"10\", \"11\", \"12\", \"13\", \"14\", \"15\", \"16\", \"17\", \"18\", \"19\", \"20\", \"21\", \"22\", \"23\", \"24\", \"25\", \"26\", \"27\", \"28\", \"29\", \"30\", \"31\", \"32\", \"33\", \"34\", \"35\", \"36\", \"37\", \"38\", \"39\", \"40\", \"41\", \"42\", \"43\", \"44\", \"45\", \"46\", \"47\", \"48\", \"51\", \"52\"], \"mode\": \"markers\", \"name\": \"balanced_accuracy\", \"stepped\": false, \"type\": \"scatter\", \"data\": [0.7760209025470652, 0.8060125968992248, 0.7961482558139534, 0.6891625138427464, 0.8123857973421927, 0.7800429125138428, 0.8119096068660022, 0.7942476467331119, 0.6860077519379845, 0.6706803709856035, 0.7098172757475083, 0.751811323366556, 0.8114341085271318, 0.7906381506090808, 0.8074965393133997, 0.5313406699889258, 0.6476744186046511, 0.7579512735326689, 0.8071947674418605, 0.7934952934662236, 0.826688122923588, 0.8156810631229237, 0.7950214562569214, 0.8007952657807309, 0.7988185215946844, 0.8188448228128461, 0.8073941029900332, 0.7799363233665559, 0.5588095238095238, 0.6995833333333333, 0.6386531007751938, 0.8108084163898118, 0.8074882336655593, 0.8050685215946844, 0.7965483111849391, 0.805251245847176, 0.8100768272425249, 0.8056000830564785, 0.7816459025470653, 0.8014970930232559, 0.8025726744186045, 0.8044815891472868, 0.8040012458471761, 0.8025989756367663, 0.8074024086378738, 0.599876799557032, 0.7873726467331118, 0.810766196013289, 0.7963565891472869, 0.8167351882613512, 0.5791666666666667]}, {\"categories\": [\"0\", \"1\", \"2\", \"3\", \"4\", \"5\", \"6\", \"7\", \"8\", \"9\", \"10\", \"11\", \"12\", \"13\", \"14\", \"15\", \"16\", \"17\", \"18\", \"19\", \"20\", \"21\", \"22\", \"23\", \"24\", \"25\", \"26\", \"27\", \"28\", \"29\", \"30\", \"31\", \"32\", \"33\", \"34\", \"35\", \"36\", \"37\", \"38\", \"39\", \"40\", \"41\", \"42\", \"43\", \"44\", \"45\", \"46\", \"47\", \"48\", \"51\", \"52\"], \"mode\": \"lines\", \"name\": \"balanced_accuracy_max\", \"stepped\": true, \"type\": \"scatter\", \"data\": [0.7760209025470652, 0.8060125968992248, 0.8060125968992248, 0.8060125968992248, 0.8123857973421927, 0.8123857973421927, 0.8123857973421927, 0.8123857973421927, 0.8123857973421927, 0.8123857973421927, 0.8123857973421927, 0.8123857973421927, 0.8123857973421927, 0.8123857973421927, 0.8123857973421927, 0.8123857973421927, 0.8123857973421927, 0.8123857973421927, 0.8123857973421927, 0.8123857973421927, 0.826688122923588, 0.826688122923588, 0.826688122923588, 0.826688122923588, 0.826688122923588, 0.826688122923588, 0.826688122923588, 0.826688122923588, 0.826688122923588, 0.826688122923588, 0.826688122923588, 0.826688122923588, 0.826688122923588, 0.826688122923588, 0.826688122923588, 0.826688122923588, 0.826688122923588, 0.826688122923588, 0.826688122923588, 0.826688122923588, 0.826688122923588, 0.826688122923588, 0.826688122923588, 0.826688122923588, 0.826688122923588, 0.826688122923588, 0.826688122923588, 0.826688122923588, 0.826688122923588, 0.826688122923588, 0.826688122923588]}], \"weighted_accuracy\": [{\"categories\": [\"0\", \"1\", \"2\", \"3\", \"4\", \"5\", \"6\", \"7\", \"8\", \"9\", \"10\", \"11\", \"12\", \"13\", \"14\", \"15\", \"16\", \"17\", \"18\", \"19\", \"20\", \"21\", \"22\", \"23\", \"24\", \"25\", \"26\", \"27\", \"28\", \"29\", \"30\", \"31\", \"32\", \"33\", \"34\", \"35\", \"36\", \"37\", \"38\", \"39\", \"40\", \"41\", \"42\", \"43\", \"44\", \"45\", \"46\", \"47\", \"48\", \"51\", \"52\"], \"mode\": \"markers\", \"name\": \"weighted_accuracy\", \"stepped\": false, \"type\": \"scatter\", \"data\": [0.8252063202764133, 0.8406325321291572, 0.8472675281703289, 0.8405003983557984, 0.8395879274081567, 0.836508012660007, 0.863236374397572, 0.8707661917309333, 0.8338436475130274, 0.8191552656124355, 0.8605781356454045, 0.8693492617949794, 0.7944779115522358, 0.8399689088760596, 0.8215168036903451, 0.6722707401586747, 0.8428448118742589, 0.7992511488020682, 0.8105166400615278, 0.8430591145166788, 0.875929970163501, 0.8104853964371784, 0.8420868329085991, 0.8706764563686026, 0.8337140419491531, 0.8198813472628033, 0.8393197426617423, 0.8805084784044996, 0.8143824446475036, 0.8459107147199578, 0.7298034220267471, 0.8586599385134838, 0.8155404725781595, 0.8619401143258474, 0.822678193224613, 0.8573695682548553, 0.8594550789436916, 0.8511985468771831, 0.8447461432852628, 0.8543814026987627, 0.869408089858187, 0.8511706533158743, 0.8588897582786084, 0.7680895622537582, 0.8720019561268689, 0.8127084748598955, 0.844882649286566, 0.8185736051467651, 0.8407289198066294, 0.8490773692278081, 0.799147374334511]}, {\"categories\": [\"0\", \"1\", \"2\", \"3\", \"4\", \"5\", \"6\", \"7\", \"8\", \"9\", \"10\", \"11\", \"12\", \"13\", \"14\", \"15\", \"16\", \"17\", \"18\", \"19\", \"20\", \"21\", \"22\", \"23\", \"24\", \"25\", \"26\", \"27\", \"28\", \"29\", \"30\", \"31\", \"32\", \"33\", \"34\", \"35\", \"36\", \"37\", \"38\", \"39\", \"40\", \"41\", \"42\", \"43\", \"44\", \"45\", \"46\", \"47\", \"48\", \"51\", \"52\"], \"mode\": \"lines\", \"name\": \"weighted_accuracy_max\", \"stepped\": true, \"type\": \"scatter\", \"data\": [0.8252063202764133, 0.8406325321291572, 0.8472675281703289, 0.8472675281703289, 0.8472675281703289, 0.8472675281703289, 0.863236374397572, 0.8707661917309333, 0.8707661917309333, 0.8707661917309333, 0.8707661917309333, 0.8707661917309333, 0.8707661917309333, 0.8707661917309333, 0.8707661917309333, 0.8707661917309333, 0.8707661917309333, 0.8707661917309333, 0.8707661917309333, 0.8707661917309333, 0.875929970163501, 0.875929970163501, 0.875929970163501, 0.875929970163501, 0.875929970163501, 0.875929970163501, 0.875929970163501, 0.8805084784044996, 0.8805084784044996, 0.8805084784044996, 0.8805084784044996, 0.8805084784044996, 0.8805084784044996, 0.8805084784044996, 0.8805084784044996, 0.8805084784044996, 0.8805084784044996, 0.8805084784044996, 0.8805084784044996, 0.8805084784044996, 0.8805084784044996, 0.8805084784044996, 0.8805084784044996, 0.8805084784044996, 0.8805084784044996, 0.8805084784044996, 0.8805084784044996, 0.8805084784044996, 0.8805084784044996, 0.8805084784044996, 0.8805084784044996]}], \"f1_score_macro\": [{\"categories\": [\"0\", \"1\", \"2\", \"3\", \"4\", \"5\", \"6\", \"7\", \"8\", \"9\", \"10\", \"11\", \"12\", \"13\", \"14\", \"15\", \"16\", \"17\", \"18\", \"19\", \"20\", \"21\", \"22\", \"23\", \"24\", \"25\", \"26\", \"27\", \"28\", \"29\", \"30\", \"31\", \"32\", \"33\", \"34\", \"35\", \"36\", \"37\", \"38\", \"39\", \"40\", \"41\", \"42\", \"43\", \"44\", \"45\", \"46\", \"47\", \"48\", \"51\", \"52\"], \"mode\": \"markers\", \"name\": \"f1_score_macro\", \"stepped\": false, \"type\": \"scatter\", \"data\": [0.7682096405971308, 0.7972526241921125, 0.7883904506198011, 0.6966267353336321, 0.8002211014427065, 0.7746600567510179, 0.8119274551968937, 0.8009190950777525, 0.6852267789529447, 0.677864504364746, 0.7202468466556999, 0.7653214123041708, 0.7827640320749438, 0.7813894689276869, 0.7886429883302316, 0.5173668796330508, 0.652741788561918, 0.7477318243191108, 0.7845733016590958, 0.7866232883423862, 0.8257094529342449, 0.7878786259504947, 0.7897900353506762, 0.8069112539507275, 0.7860286703265642, 0.7956426469651907, 0.795143072022223, 0.7945139107182806, 0.5162412864637295, 0.7072838568350738, 0.5687072222552654, 0.8064424972973665, 0.7869788895035433, 0.8061951822335436, 0.782712040783035, 0.8016414545470578, 0.8058290879653528, 0.7991200967596359, 0.7793071811229706, 0.7983514599645228, 0.8066957521474087, 0.7993238807488475, 0.8022383065666873, 0.7632340398572561, 0.811872894791701, 0.5753137211082332, 0.781542877806312, 0.7897792790299639, 0.7861365612629514, 0.8062578352247411, 0.4930456095481671]}, {\"categories\": [\"0\", \"1\", \"2\", \"3\", \"4\", \"5\", \"6\", \"7\", \"8\", \"9\", \"10\", \"11\", \"12\", \"13\", \"14\", \"15\", \"16\", \"17\", \"18\", \"19\", \"20\", \"21\", \"22\", \"23\", \"24\", \"25\", \"26\", \"27\", \"28\", \"29\", \"30\", \"31\", \"32\", \"33\", \"34\", \"35\", \"36\", \"37\", \"38\", \"39\", \"40\", \"41\", \"42\", \"43\", \"44\", \"45\", \"46\", \"47\", \"48\", \"51\", \"52\"], \"mode\": \"lines\", \"name\": \"f1_score_macro_max\", \"stepped\": true, \"type\": \"scatter\", \"data\": [0.7682096405971308, 0.7972526241921125, 0.7972526241921125, 0.7972526241921125, 0.8002211014427065, 0.8002211014427065, 0.8119274551968937, 0.8119274551968937, 0.8119274551968937, 0.8119274551968937, 0.8119274551968937, 0.8119274551968937, 0.8119274551968937, 0.8119274551968937, 0.8119274551968937, 0.8119274551968937, 0.8119274551968937, 0.8119274551968937, 0.8119274551968937, 0.8119274551968937, 0.8257094529342449, 0.8257094529342449, 0.8257094529342449, 0.8257094529342449, 0.8257094529342449, 0.8257094529342449, 0.8257094529342449, 0.8257094529342449, 0.8257094529342449, 0.8257094529342449, 0.8257094529342449, 0.8257094529342449, 0.8257094529342449, 0.8257094529342449, 0.8257094529342449, 0.8257094529342449, 0.8257094529342449, 0.8257094529342449, 0.8257094529342449, 0.8257094529342449, 0.8257094529342449, 0.8257094529342449, 0.8257094529342449, 0.8257094529342449, 0.8257094529342449, 0.8257094529342449, 0.8257094529342449, 0.8257094529342449, 0.8257094529342449, 0.8257094529342449, 0.8257094529342449]}], \"average_precision_score_weighted\": [{\"categories\": [\"0\", \"1\", \"2\", \"3\", \"4\", \"5\", \"6\", \"7\", \"8\", \"9\", \"10\", \"11\", \"12\", \"13\", \"14\", \"15\", \"16\", \"17\", \"18\", \"19\", \"20\", \"21\", \"22\", \"23\", \"24\", \"25\", \"26\", \"27\", \"28\", \"29\", \"30\", \"31\", \"32\", \"33\", \"34\", \"35\", \"36\", \"37\", \"38\", \"39\", \"40\", \"41\", \"42\", \"43\", \"44\", \"45\", \"46\", \"47\", \"48\", \"51\", \"52\"], \"mode\": \"markers\", \"name\": \"average_precision_score_weighted\", \"stepped\": false, \"type\": \"scatter\", \"data\": [0.8955370396295249, 0.9103506263314479, 0.9067167445144289, 0.8964228050548491, 0.9220790527508926, 0.9172954054065426, 0.9031844701173913, 0.9050954312027075, 0.8702941593996185, 0.7862334416854537, 0.9048316365450015, 0.9064559198136145, 0.9113484355812196, 0.8915187653517442, 0.9059231959967604, 0.6031702289152213, 0.9094467400544133, 0.838479559221668, 0.9024917157814821, 0.919057585478878, 0.9108357740283255, 0.876377754825597, 0.878059665814158, 0.9230878281808128, 0.9107575545818953, 0.8949897394229179, 0.9167627780379544, 0.9134359961926298, 0.857171522290308, 0.9028193205003493, 0.7884949997208514, 0.916457234309842, 0.9283429287462017, 0.9223542333121577, 0.9096703028659171, 0.9139643298661845, 0.9190163665523586, 0.9111493943224724, 0.912583768538106, 0.9249887740326124, 0.8872478495543941, 0.922584265603601, 0.9191104087217303, 0.925981486035861, 0.9210968064146658, 0.8388595235967395, 0.9046929604206111, 0.9203264339727673, 0.9106282033676388, 0.9327997348534453, 0.9303721881897113]}, {\"categories\": [\"0\", \"1\", \"2\", \"3\", \"4\", \"5\", \"6\", \"7\", \"8\", \"9\", \"10\", \"11\", \"12\", \"13\", \"14\", \"15\", \"16\", \"17\", \"18\", \"19\", \"20\", \"21\", \"22\", \"23\", \"24\", \"25\", \"26\", \"27\", \"28\", \"29\", \"30\", \"31\", \"32\", \"33\", \"34\", \"35\", \"36\", \"37\", \"38\", \"39\", \"40\", \"41\", \"42\", \"43\", \"44\", \"45\", \"46\", \"47\", \"48\", \"51\", \"52\"], \"mode\": \"lines\", \"name\": \"average_precision_score_weighted_max\", \"stepped\": true, \"type\": \"scatter\", \"data\": [0.8955370396295249, 0.9103506263314479, 0.9103506263314479, 0.9103506263314479, 0.9220790527508926, 0.9220790527508926, 0.9220790527508926, 0.9220790527508926, 0.9220790527508926, 0.9220790527508926, 0.9220790527508926, 0.9220790527508926, 0.9220790527508926, 0.9220790527508926, 0.9220790527508926, 0.9220790527508926, 0.9220790527508926, 0.9220790527508926, 0.9220790527508926, 0.9220790527508926, 0.9220790527508926, 0.9220790527508926, 0.9220790527508926, 0.9230878281808128, 0.9230878281808128, 0.9230878281808128, 0.9230878281808128, 0.9230878281808128, 0.9230878281808128, 0.9230878281808128, 0.9230878281808128, 0.9230878281808128, 0.9283429287462017, 0.9283429287462017, 0.9283429287462017, 0.9283429287462017, 0.9283429287462017, 0.9283429287462017, 0.9283429287462017, 0.9283429287462017, 0.9283429287462017, 0.9283429287462017, 0.9283429287462017, 0.9283429287462017, 0.9283429287462017, 0.9283429287462017, 0.9283429287462017, 0.9283429287462017, 0.9283429287462017, 0.9327997348534453, 0.9327997348534453]}], \"recall_score_macro\": [{\"categories\": [\"0\", \"1\", \"2\", \"3\", \"4\", \"5\", \"6\", \"7\", \"8\", \"9\", \"10\", \"11\", \"12\", \"13\", \"14\", \"15\", \"16\", \"17\", \"18\", \"19\", \"20\", \"21\", \"22\", \"23\", \"24\", \"25\", \"26\", \"27\", \"28\", \"29\", \"30\", \"31\", \"32\", \"33\", \"34\", \"35\", \"36\", \"37\", \"38\", \"39\", \"40\", \"41\", \"42\", \"43\", \"44\", \"45\", \"46\", \"47\", \"48\", \"51\", \"52\"], \"mode\": \"markers\", \"name\": \"recall_score_macro\", \"stepped\": false, \"type\": \"scatter\", \"data\": [0.7760209025470652, 0.8060125968992248, 0.7961482558139534, 0.6891625138427464, 0.8123857973421927, 0.7800429125138428, 0.8119096068660022, 0.7942476467331119, 0.6860077519379845, 0.6706803709856035, 0.7098172757475083, 0.751811323366556, 0.8114341085271318, 0.7906381506090808, 0.8074965393133997, 0.5313406699889258, 0.6476744186046511, 0.7579512735326689, 0.8071947674418605, 0.7934952934662236, 0.826688122923588, 0.8156810631229237, 0.7950214562569214, 0.8007952657807309, 0.7988185215946844, 0.8188448228128461, 0.8073941029900332, 0.7799363233665559, 0.5588095238095238, 0.6995833333333333, 0.6386531007751938, 0.8108084163898118, 0.8074882336655593, 0.8050685215946844, 0.7965483111849391, 0.805251245847176, 0.8100768272425249, 0.8056000830564785, 0.7816459025470653, 0.8014970930232559, 0.8025726744186045, 0.8044815891472868, 0.8040012458471761, 0.8025989756367663, 0.8074024086378738, 0.599876799557032, 0.7873726467331118, 0.810766196013289, 0.7963565891472869, 0.8167351882613512, 0.5791666666666667]}, {\"categories\": [\"0\", \"1\", \"2\", \"3\", \"4\", \"5\", \"6\", \"7\", \"8\", \"9\", \"10\", \"11\", \"12\", \"13\", \"14\", \"15\", \"16\", \"17\", \"18\", \"19\", \"20\", \"21\", \"22\", \"23\", \"24\", \"25\", \"26\", \"27\", \"28\", \"29\", \"30\", \"31\", \"32\", \"33\", \"34\", \"35\", \"36\", \"37\", \"38\", \"39\", \"40\", \"41\", \"42\", \"43\", \"44\", \"45\", \"46\", \"47\", \"48\", \"51\", \"52\"], \"mode\": \"lines\", \"name\": \"recall_score_macro_max\", \"stepped\": true, \"type\": \"scatter\", \"data\": [0.7760209025470652, 0.8060125968992248, 0.8060125968992248, 0.8060125968992248, 0.8123857973421927, 0.8123857973421927, 0.8123857973421927, 0.8123857973421927, 0.8123857973421927, 0.8123857973421927, 0.8123857973421927, 0.8123857973421927, 0.8123857973421927, 0.8123857973421927, 0.8123857973421927, 0.8123857973421927, 0.8123857973421927, 0.8123857973421927, 0.8123857973421927, 0.8123857973421927, 0.826688122923588, 0.826688122923588, 0.826688122923588, 0.826688122923588, 0.826688122923588, 0.826688122923588, 0.826688122923588, 0.826688122923588, 0.826688122923588, 0.826688122923588, 0.826688122923588, 0.826688122923588, 0.826688122923588, 0.826688122923588, 0.826688122923588, 0.826688122923588, 0.826688122923588, 0.826688122923588, 0.826688122923588, 0.826688122923588, 0.826688122923588, 0.826688122923588, 0.826688122923588, 0.826688122923588, 0.826688122923588, 0.826688122923588, 0.826688122923588, 0.826688122923588, 0.826688122923588, 0.826688122923588, 0.826688122923588]}], \"f1_score_micro\": [{\"categories\": [\"0\", \"1\", \"2\", \"3\", \"4\", \"5\", \"6\", \"7\", \"8\", \"9\", \"10\", \"11\", \"12\", \"13\", \"14\", \"15\", \"16\", \"17\", \"18\", \"19\", \"20\", \"21\", \"22\", \"23\", \"24\", \"25\", \"26\", \"27\", \"28\", \"29\", \"30\", \"31\", \"32\", \"33\", \"34\", \"35\", \"36\", \"37\", \"38\", \"39\", \"40\", \"41\", \"42\", \"43\", \"44\", \"45\", \"46\", \"47\", \"48\", \"51\", \"52\"], \"mode\": \"markers\", \"name\": \"f1_score_micro\", \"stepped\": false, \"type\": \"scatter\", \"data\": [0.8059887005649718, 0.8259322033898304, 0.8260451977401131, 0.779322033898305, 0.8292655367231638, 0.8127683615819208, 0.8425988700564971, 0.8394350282485876, 0.7725988700564972, 0.7593220338983051, 0.8026553672316383, 0.8226553672316385, 0.8023728813559323, 0.8193785310734464, 0.8159322033898306, 0.6153107344632769, 0.766045197740113, 0.782542372881356, 0.8092655367231638, 0.822768361581921, 0.8561581920903955, 0.8125988700564972, 0.8228248587570622, 0.8428248587570621, 0.8193220338983049, 0.8190395480225989, 0.8261016949152543, 0.8394915254237288, 0.7125423728813558, 0.7861016949152542, 0.6889830508474576, 0.8392655367231638, 0.8124858757062146, 0.8393785310734463, 0.8125423728813559, 0.836045197740113, 0.8394350282485876, 0.8325988700564972, 0.8193220338983052, 0.8326553672316385, 0.8427118644067797, 0.8328248587570621, 0.8361016949152542, 0.7823728813559322, 0.8462146892655367, 0.7259322033898306, 0.8227118644067797, 0.8158192090395481, 0.8227118644067797, 0.836045197740113, 0.7057627118644068]}, {\"categories\": [\"0\", \"1\", \"2\", \"3\", \"4\", \"5\", \"6\", \"7\", \"8\", \"9\", \"10\", \"11\", \"12\", \"13\", \"14\", \"15\", \"16\", \"17\", \"18\", \"19\", \"20\", \"21\", \"22\", \"23\", \"24\", \"25\", \"26\", \"27\", \"28\", \"29\", \"30\", \"31\", \"32\", \"33\", \"34\", \"35\", \"36\", \"37\", \"38\", \"39\", \"40\", \"41\", \"42\", \"43\", \"44\", \"45\", \"46\", \"47\", \"48\", \"51\", \"52\"], \"mode\": \"lines\", \"name\": \"f1_score_micro_max\", \"stepped\": true, \"type\": \"scatter\", \"data\": [0.8059887005649718, 0.8259322033898304, 0.8260451977401131, 0.8260451977401131, 0.8292655367231638, 0.8292655367231638, 0.8425988700564971, 0.8425988700564971, 0.8425988700564971, 0.8425988700564971, 0.8425988700564971, 0.8425988700564971, 0.8425988700564971, 0.8425988700564971, 0.8425988700564971, 0.8425988700564971, 0.8425988700564971, 0.8425988700564971, 0.8425988700564971, 0.8425988700564971, 0.8561581920903955, 0.8561581920903955, 0.8561581920903955, 0.8561581920903955, 0.8561581920903955, 0.8561581920903955, 0.8561581920903955, 0.8561581920903955, 0.8561581920903955, 0.8561581920903955, 0.8561581920903955, 0.8561581920903955, 0.8561581920903955, 0.8561581920903955, 0.8561581920903955, 0.8561581920903955, 0.8561581920903955, 0.8561581920903955, 0.8561581920903955, 0.8561581920903955, 0.8561581920903955, 0.8561581920903955, 0.8561581920903955, 0.8561581920903955, 0.8561581920903955, 0.8561581920903955, 0.8561581920903955, 0.8561581920903955, 0.8561581920903955, 0.8561581920903955, 0.8561581920903955]}], \"recall_score_micro\": [{\"categories\": [\"0\", \"1\", \"2\", \"3\", \"4\", \"5\", \"6\", \"7\", \"8\", \"9\", \"10\", \"11\", \"12\", \"13\", \"14\", \"15\", \"16\", \"17\", \"18\", \"19\", \"20\", \"21\", \"22\", \"23\", \"24\", \"25\", \"26\", \"27\", \"28\", \"29\", \"30\", \"31\", \"32\", \"33\", \"34\", \"35\", \"36\", \"37\", \"38\", \"39\", \"40\", \"41\", \"42\", \"43\", \"44\", \"45\", \"46\", \"47\", \"48\", \"51\", \"52\"], \"mode\": \"markers\", \"name\": \"recall_score_micro\", \"stepped\": false, \"type\": \"scatter\", \"data\": [0.8059887005649717, 0.8259322033898304, 0.8260451977401131, 0.779322033898305, 0.8292655367231638, 0.8127683615819208, 0.8425988700564971, 0.8394350282485876, 0.7725988700564972, 0.7593220338983051, 0.8026553672316383, 0.8226553672316385, 0.8023728813559323, 0.8193785310734464, 0.8159322033898306, 0.6153107344632769, 0.766045197740113, 0.782542372881356, 0.8092655367231638, 0.822768361581921, 0.8561581920903955, 0.8125988700564971, 0.8228248587570622, 0.8428248587570621, 0.8193220338983049, 0.8190395480225989, 0.8261016949152541, 0.8394915254237288, 0.7125423728813558, 0.7861016949152542, 0.6889830508474576, 0.8392655367231638, 0.8124858757062146, 0.8393785310734463, 0.8125423728813559, 0.836045197740113, 0.8394350282485876, 0.8325988700564972, 0.8193220338983052, 0.8326553672316385, 0.8427118644067797, 0.8328248587570621, 0.8361016949152542, 0.7823728813559322, 0.8462146892655367, 0.7259322033898306, 0.8227118644067797, 0.8158192090395481, 0.8227118644067797, 0.836045197740113, 0.7057627118644068]}, {\"categories\": [\"0\", \"1\", \"2\", \"3\", \"4\", \"5\", \"6\", \"7\", \"8\", \"9\", \"10\", \"11\", \"12\", \"13\", \"14\", \"15\", \"16\", \"17\", \"18\", \"19\", \"20\", \"21\", \"22\", \"23\", \"24\", \"25\", \"26\", \"27\", \"28\", \"29\", \"30\", \"31\", \"32\", \"33\", \"34\", \"35\", \"36\", \"37\", \"38\", \"39\", \"40\", \"41\", \"42\", \"43\", \"44\", \"45\", \"46\", \"47\", \"48\", \"51\", \"52\"], \"mode\": \"lines\", \"name\": \"recall_score_micro_max\", \"stepped\": true, \"type\": \"scatter\", \"data\": [0.8059887005649717, 0.8259322033898304, 0.8260451977401131, 0.8260451977401131, 0.8292655367231638, 0.8292655367231638, 0.8425988700564971, 0.8425988700564971, 0.8425988700564971, 0.8425988700564971, 0.8425988700564971, 0.8425988700564971, 0.8425988700564971, 0.8425988700564971, 0.8425988700564971, 0.8425988700564971, 0.8425988700564971, 0.8425988700564971, 0.8425988700564971, 0.8425988700564971, 0.8561581920903955, 0.8561581920903955, 0.8561581920903955, 0.8561581920903955, 0.8561581920903955, 0.8561581920903955, 0.8561581920903955, 0.8561581920903955, 0.8561581920903955, 0.8561581920903955, 0.8561581920903955, 0.8561581920903955, 0.8561581920903955, 0.8561581920903955, 0.8561581920903955, 0.8561581920903955, 0.8561581920903955, 0.8561581920903955, 0.8561581920903955, 0.8561581920903955, 0.8561581920903955, 0.8561581920903955, 0.8561581920903955, 0.8561581920903955, 0.8561581920903955, 0.8561581920903955, 0.8561581920903955, 0.8561581920903955, 0.8561581920903955, 0.8561581920903955, 0.8561581920903955]}]}, \"metricName\": null, \"primaryMetricName\": \"AUC_weighted\", \"showLegend\": false}, \"run_metrics\": [{\"name\": \"experiment_status\", \"run_id\": \"AutoML_61692633-c857-46d4-a6b3-629dfff50e12\", \"categories\": [0, 1, 2, 3, 4, 5, 6, 7, 8, 9, 10, 11, 12, 13], \"series\": [{\"data\": [\"DatasetEvaluation\", \"FeaturesGeneration\", \"DatasetFeaturization\", \"DatasetFeaturizationCompleted\", \"DatasetCrossValidationSplit\", \"ModelSelection\", \"BestRunExplainModel\", \"ModelExplanationDataSetSetup\", \"PickSurrogateModel\", \"EngineeredFeatureExplanations\", \"EngineeredFeatureExplanations\", \"RawFeaturesExplanations\", \"RawFeaturesExplanations\", \"BestRunExplainModel\"]}]}, {\"name\": \"experiment_status_description\", \"run_id\": \"AutoML_61692633-c857-46d4-a6b3-629dfff50e12\", \"categories\": [0, 1, 2, 3, 4, 5, 6, 7, 8, 9, 10, 11, 12, 13], \"series\": [{\"data\": [\"Gathering dataset statistics.\", \"Generating features for the dataset.\", \"Beginning to fit featurizers and featurize the dataset.\", \"Completed fit featurizers and featurizing the dataset.\", \"Generating individually featurized CV splits.\", \"Beginning model selection.\", \"Best run model explanations started\", \"Model explanations data setup completed\", \"Choosing LightGBM as the surrogate model for explanations\", \"Computation of engineered features started\", \"Computation of engineered features completed\", \"Computation of raw features started\", \"Computation of raw features completed\", \"Best run model explanations completed\"]}]}, {\"name\": \"f1_score_weighted\", \"run_id\": \"AutoML_61692633-c857-46d4-a6b3-629dfff50e12\", \"categories\": [0], \"series\": [{\"data\": [0.8346537385376189]}]}, {\"name\": \"AUC_macro\", \"run_id\": \"AutoML_61692633-c857-46d4-a6b3-629dfff50e12\", \"categories\": [0], \"series\": [{\"data\": [0.9207544066076043]}]}, {\"name\": \"recall_score_weighted\", \"run_id\": \"AutoML_61692633-c857-46d4-a6b3-629dfff50e12\", \"categories\": [0], \"series\": [{\"data\": [0.836045197740113]}]}, {\"name\": \"norm_macro_recall\", \"run_id\": \"AutoML_61692633-c857-46d4-a6b3-629dfff50e12\", \"categories\": [0], \"series\": [{\"data\": [0.6334703765227021]}]}, {\"name\": \"precision_score_macro\", \"run_id\": \"AutoML_61692633-c857-46d4-a6b3-629dfff50e12\", \"categories\": [0], \"series\": [{\"data\": [0.8146399965078455]}]}, {\"name\": \"precision_score_weighted\", \"run_id\": \"AutoML_61692633-c857-46d4-a6b3-629dfff50e12\", \"categories\": [0], \"series\": [{\"data\": [0.8503712951261917]}]}, {\"name\": \"AUC_weighted\", \"run_id\": \"AutoML_61692633-c857-46d4-a6b3-629dfff50e12\", \"categories\": [0], \"series\": [{\"data\": [0.9207544066076043]}]}, {\"name\": \"AUC_micro\", \"run_id\": \"AutoML_61692633-c857-46d4-a6b3-629dfff50e12\", \"categories\": [0], \"series\": [{\"data\": [0.9224620639024547]}]}, {\"name\": \"weighted_accuracy\", \"run_id\": \"AutoML_61692633-c857-46d4-a6b3-629dfff50e12\", \"categories\": [0], \"series\": [{\"data\": [0.8490773692278081]}]}, {\"name\": \"recall_score_micro\", \"run_id\": \"AutoML_61692633-c857-46d4-a6b3-629dfff50e12\", \"categories\": [0], \"series\": [{\"data\": [0.836045197740113]}]}, {\"name\": \"precision_score_micro\", \"run_id\": \"AutoML_61692633-c857-46d4-a6b3-629dfff50e12\", \"categories\": [0], \"series\": [{\"data\": [0.836045197740113]}]}, {\"name\": \"average_precision_score_micro\", \"run_id\": \"AutoML_61692633-c857-46d4-a6b3-629dfff50e12\", \"categories\": [0], \"series\": [{\"data\": [0.9248199850524783]}]}, {\"name\": \"average_precision_score_weighted\", \"run_id\": \"AutoML_61692633-c857-46d4-a6b3-629dfff50e12\", \"categories\": [0], \"series\": [{\"data\": [0.9327997348534453]}]}, {\"name\": \"average_precision_score_macro\", \"run_id\": \"AutoML_61692633-c857-46d4-a6b3-629dfff50e12\", \"categories\": [0], \"series\": [{\"data\": [0.9121959772074086]}]}, {\"name\": \"matthews_correlation\", \"run_id\": \"AutoML_61692633-c857-46d4-a6b3-629dfff50e12\", \"categories\": [0], \"series\": [{\"data\": [0.6300012983615647]}]}, {\"name\": \"recall_score_macro\", \"run_id\": \"AutoML_61692633-c857-46d4-a6b3-629dfff50e12\", \"categories\": [0], \"series\": [{\"data\": [0.8167351882613512]}]}, {\"name\": \"balanced_accuracy\", \"run_id\": \"AutoML_61692633-c857-46d4-a6b3-629dfff50e12\", \"categories\": [0], \"series\": [{\"data\": [0.8167351882613512]}]}, {\"name\": \"f1_score_macro\", \"run_id\": \"AutoML_61692633-c857-46d4-a6b3-629dfff50e12\", \"categories\": [0], \"series\": [{\"data\": [0.8062578352247411]}]}, {\"name\": \"accuracy\", \"run_id\": \"AutoML_61692633-c857-46d4-a6b3-629dfff50e12\", \"categories\": [0], \"series\": [{\"data\": [0.836045197740113]}]}, {\"name\": \"f1_score_micro\", \"run_id\": \"AutoML_61692633-c857-46d4-a6b3-629dfff50e12\", \"categories\": [0], \"series\": [{\"data\": [0.836045197740113]}]}, {\"name\": \"log_loss\", \"run_id\": \"AutoML_61692633-c857-46d4-a6b3-629dfff50e12\", \"categories\": [0], \"series\": [{\"data\": [0.4154808232498463]}]}], \"run_logs\": \"\\nRun is completed.\", \"graph\": {}, \"widget_settings\": {\"childWidgetDisplay\": \"popup\", \"send_telemetry\": false, \"log_level\": \"INFO\", \"sdk_version\": \"1.19.0\"}, \"loading\": false}"
          },
          "metadata": {}
        }
      ],
      "execution_count": 11,
      "metadata": {
        "gather": {
          "logged": 1598431121770
        },
        "jupyter": {
          "outputs_hidden": false,
          "source_hidden": false
        },
        "nteract": {
          "transient": {
            "deleting": false
          }
        }
      }
    },
    {
      "cell_type": "code",
      "source": [
        "remote_run.wait_for_completion(show_output=True)"
      ],
      "outputs": [
        {
          "output_type": "stream",
          "name": "stdout",
          "text": [
            "\n",
            "\n",
            "****************************************************************************************************\n",
            "DATA GUARDRAILS: \n",
            "\n",
            "TYPE:         Class balancing detection\n",
            "STATUS:       PASSED\n",
            "DESCRIPTION:  Your inputs were analyzed, and all classes are balanced in your training data.\n",
            "              Learn more about imbalanced data: https://aka.ms/AutomatedMLImbalancedData\n",
            "\n",
            "****************************************************************************************************\n",
            "\n",
            "TYPE:         Missing feature values imputation\n",
            "STATUS:       PASSED\n",
            "DESCRIPTION:  No feature missing values were detected in the training data.\n",
            "              Learn more about missing value imputation: https://aka.ms/AutomatedMLFeaturization\n",
            "\n",
            "****************************************************************************************************\n",
            "\n",
            "TYPE:         High cardinality feature detection\n",
            "STATUS:       PASSED\n",
            "DESCRIPTION:  Your inputs were analyzed, and no high cardinality features were detected.\n",
            "              Learn more about high cardinality feature handling: https://aka.ms/AutomatedMLFeaturization\n",
            "\n",
            "****************************************************************************************************\n",
            "\n",
            "****************************************************************************************************\n",
            "ITERATION: The iteration being evaluated.\n",
            "PIPELINE: A summary description of the pipeline being evaluated.\n",
            "DURATION: Time taken for the current iteration.\n",
            "METRIC: The result of computing score on the fitted pipeline.\n",
            "BEST: The best observed score thus far.\n",
            "****************************************************************************************************\n",
            "\n",
            " ITERATION   PIPELINE                                       DURATION      METRIC      BEST\n",
            "         0   MaxAbsScaler LightGBM                          0:00:45       0.8811    0.8811\n",
            "         1   MaxAbsScaler XGBoostClassifier                 0:00:42       0.8930    0.8930\n",
            "         2   MinMaxScaler RandomForest                      0:03:18       0.8932    0.8932\n",
            "         3   RobustScaler ExtremeRandomTrees                0:00:43       0.8791    0.8932\n",
            "         4   MinMaxScaler RandomForest                      0:00:47       0.9109    0.9109\n",
            "         5   MinMaxScaler RandomForest                      0:03:17       0.9048    0.9109\n",
            "         6   StandardScalerWrapper RandomForest             0:03:21       0.8929    0.9109\n",
            "         7   MinMaxScaler ExtremeRandomTrees                0:00:47       0.8880    0.9109\n",
            "         8   MinMaxScaler ExtremeRandomTrees                0:00:50       0.8541    0.9109\n",
            "         9   SparseNormalizer KNN                           0:00:44       0.7515    0.9109\n",
            "        10   MinMaxScaler ExtremeRandomTrees                0:00:40       0.8884    0.9109\n",
            "        11   RobustScaler ExtremeRandomTrees                0:00:53       0.8928    0.9109\n",
            "        12   StandardScalerWrapper RandomForest             0:00:42       0.9009    0.9109\n",
            "        13   StandardScalerWrapper SGD                      0:00:43       0.8737    0.9109\n",
            "        14   RobustScaler RandomForest                      0:00:44       0.8907    0.9109\n",
            "        15   StandardScalerWrapper KNN                      0:00:46       0.4823    0.9109\n",
            "        16   MinMaxScaler RandomForest                      0:00:51       0.8901    0.9109\n",
            "        17   MinMaxScaler ExtremeRandomTrees                0:00:38       0.8053    0.9109\n",
            "        18   MaxAbsScaler RandomForest                      0:00:42       0.8918    0.9109\n",
            "        19   StandardScalerWrapper XGBoostClassifier        0:00:40       0.9072    0.9109\n",
            "        20   MaxAbsScaler RandomForest                      0:00:43       0.8984    0.9109\n",
            "        21   MaxAbsScaler ExtremeRandomTrees                0:00:26       0.8624    0.9109\n",
            "        22   MaxAbsScaler ExtremeRandomTrees                0:00:38       0.8612    0.9109\n",
            "        23   MinMaxScaler RandomForest                      0:00:44       0.9071    0.9109\n",
            "        24   MaxAbsScaler ExtremeRandomTrees                0:00:52       0.8978    0.9109\n",
            "        25   MinMaxScaler RandomForest                      0:00:42       0.8829    0.9109\n",
            "        26   MinMaxScaler ExtremeRandomTrees                0:00:38       0.9028    0.9109\n",
            "        27   MaxAbsScaler RandomForest                      0:00:42       0.8982    0.9109\n",
            "        28   StandardScalerWrapper LightGBM                 0:00:40       0.8361    0.9109\n",
            "        29   RobustScaler LightGBM                          0:00:43       0.8916    0.9109\n",
            "        30   RobustScaler RandomForest                      0:00:37       0.7891    0.9109\n",
            "        31   StandardScalerWrapper XGBoostClassifier        0:00:50       0.9065    0.9109\n",
            "        32   RobustScaler RandomForest                      0:00:45       0.9156    0.9156\n",
            "        33   StandardScalerWrapper RandomForest             0:00:44       0.9090    0.9156\n",
            "        34   MaxAbsScaler RandomForest                      0:00:43       0.8993    0.9156\n",
            "        35   StandardScalerWrapper LightGBM                 0:00:45       0.8985    0.9156\n",
            "        36   RobustScaler LightGBM                          0:00:39       0.9040    0.9156\n",
            "        37   MinMaxScaler LightGBM                          0:00:41       0.8956    0.9156\n",
            "        38   StandardScalerWrapper LightGBM                 0:00:48       0.8979    0.9156\n",
            "        39   MaxAbsScaler LightGBM                          0:00:43       0.9110    0.9156\n",
            "        40   RobustScaler RandomForest                      0:00:43       0.8815    0.9156\n",
            "        41   MinMaxScaler GradientBoosting                  0:00:41       0.9081    0.9156\n",
            "        42   MaxAbsScaler GradientBoosting                  0:00:42       0.9068    0.9156\n",
            "        43   RobustScaler RandomForest                      0:00:42       0.9125    0.9156\n",
            "        44   MaxAbsScaler GradientBoosting                  0:00:41       0.9078    0.9156\n",
            "        45   TruncatedSVDWrapper RandomForest               0:00:39       0.8223    0.9156\n",
            "        46   RobustScaler GradientBoosting                  0:00:47       0.8875    0.9156\n",
            "        47   StandardScalerWrapper RandomForest             0:00:40       0.9061    0.9156\n",
            "        48   StandardScalerWrapper GradientBoosting         0:00:35       0.8921    0.9156\n",
            "        49                                                  0:00:19          nan    0.9156\n",
            "        50                                                  0:00:20          nan    0.9156\n",
            "        51    VotingEnsemble                                0:01:50       0.9208    0.9208\n",
            "        52    StackEnsemble                                 0:01:46       0.9173    0.9208\n"
          ]
        },
        {
          "output_type": "execute_result",
          "execution_count": 12,
          "data": {
            "text/plain": "{'runId': 'AutoML_61692633-c857-46d4-a6b3-629dfff50e12',\n 'target': 'cpu-cluster',\n 'status': 'Completed',\n 'startTimeUtc': '2020-12-30T19:53:00.152367Z',\n 'endTimeUtc': '2020-12-30T20:18:39.441908Z',\n 'properties': {'num_iterations': '1000',\n  'training_type': 'TrainFull',\n  'acquisition_function': 'EI',\n  'primary_metric': 'AUC_weighted',\n  'train_split': '0',\n  'acquisition_parameter': '0',\n  'num_cross_validation': '5',\n  'target': 'cpu-cluster',\n  'AMLSettingsJsonString': '{\"path\":null,\"name\":\"capstone-heart-failure-exp\",\"subscription_id\":\"f9d5a085-54dc-4215-9ba6-dad5d86e60a0\",\"resource_group\":\"aml-quickstarts-132535\",\"workspace_name\":\"quick-starts-ws-132535\",\"region\":\"southcentralus\",\"compute_target\":\"cpu-cluster\",\"spark_service\":null,\"azure_service\":\"remote\",\"many_models\":false,\"pipeline_fetch_max_batch_size\":1,\"iterations\":1000,\"primary_metric\":\"AUC_weighted\",\"task_type\":\"classification\",\"data_script\":null,\"validation_size\":0.0,\"n_cross_validations\":5,\"y_min\":null,\"y_max\":null,\"num_classes\":null,\"featurization\":\"auto\",\"_ignore_package_version_incompatibilities\":false,\"is_timeseries\":false,\"max_cores_per_iteration\":1,\"max_concurrent_iterations\":5,\"iteration_timeout_minutes\":null,\"mem_in_mb\":null,\"enforce_time_on_windows\":false,\"experiment_timeout_minutes\":30,\"experiment_exit_score\":null,\"whitelist_models\":null,\"blacklist_algos\":[\"TensorFlowLinearClassifier\",\"TensorFlowDNN\"],\"supported_models\":[\"LinearSVM\",\"RandomForest\",\"AveragedPerceptronClassifier\",\"LogisticRegression\",\"ExtremeRandomTrees\",\"KNN\",\"LightGBM\",\"SVM\",\"MultinomialNaiveBayes\",\"TensorFlowLinearClassifier\",\"DecisionTree\",\"XGBoostClassifier\",\"BernoulliNaiveBayes\",\"SGD\",\"GradientBoosting\",\"TensorFlowDNN\"],\"auto_blacklist\":true,\"blacklist_samples_reached\":false,\"exclude_nan_labels\":true,\"verbosity\":20,\"_debug_log\":\"azureml_automl.log\",\"show_warnings\":false,\"model_explainability\":true,\"service_url\":null,\"sdk_url\":null,\"sdk_packages\":null,\"enable_onnx_compatible_models\":false,\"enable_split_onnx_featurizer_estimator_models\":false,\"vm_type\":\"STANDARD_D2_V2\",\"telemetry_verbosity\":20,\"send_telemetry\":true,\"enable_dnn\":false,\"scenario\":\"SDK-1.13.0\",\"environment_label\":null,\"force_text_dnn\":false,\"enable_feature_sweeping\":true,\"enable_early_stopping\":true,\"early_stopping_n_iters\":10,\"metrics\":null,\"enable_ensembling\":true,\"enable_stack_ensembling\":true,\"ensemble_iterations\":15,\"enable_tf\":false,\"enable_subsampling\":null,\"subsample_seed\":null,\"enable_nimbusml\":false,\"enable_streaming\":false,\"force_streaming\":false,\"track_child_runs\":true,\"allowed_private_models\":[],\"label_column_name\":\"DEATH_EVENT\",\"weight_column_name\":null,\"cv_split_column_names\":null,\"enable_local_managed\":false,\"_local_managed_run_id\":null,\"cost_mode\":1,\"lag_length\":0,\"metric_operation\":\"maximize\",\"preprocess\":true}',\n  'DataPrepJsonString': '{\\\\\"training_data\\\\\": \\\\\"{\\\\\\\\\\\\\"blocks\\\\\\\\\\\\\": [{\\\\\\\\\\\\\"id\\\\\\\\\\\\\": \\\\\\\\\\\\\"b33242f9-7fc3-447c-990c-830125dd3a77\\\\\\\\\\\\\", \\\\\\\\\\\\\"type\\\\\\\\\\\\\": \\\\\\\\\\\\\"Microsoft.DPrep.GetDatastoreFilesBlock\\\\\\\\\\\\\", \\\\\\\\\\\\\"arguments\\\\\\\\\\\\\": {\\\\\\\\\\\\\"datastores\\\\\\\\\\\\\": [{\\\\\\\\\\\\\"datastoreName\\\\\\\\\\\\\": \\\\\\\\\\\\\"workspaceblobstore\\\\\\\\\\\\\", \\\\\\\\\\\\\"path\\\\\\\\\\\\\": \\\\\\\\\\\\\"UI/12-30-2020_075053_UTC/heart_failure_clinical_records_dataset.csv\\\\\\\\\\\\\", \\\\\\\\\\\\\"resourceGroup\\\\\\\\\\\\\": \\\\\\\\\\\\\"aml-quickstarts-132535\\\\\\\\\\\\\", \\\\\\\\\\\\\"subscription\\\\\\\\\\\\\": \\\\\\\\\\\\\"f9d5a085-54dc-4215-9ba6-dad5d86e60a0\\\\\\\\\\\\\", \\\\\\\\\\\\\"workspaceName\\\\\\\\\\\\\": \\\\\\\\\\\\\"quick-starts-ws-132535\\\\\\\\\\\\\"}]}, \\\\\\\\\\\\\"localData\\\\\\\\\\\\\": {}, \\\\\\\\\\\\\"isEnabled\\\\\\\\\\\\\": true, \\\\\\\\\\\\\"name\\\\\\\\\\\\\": null, \\\\\\\\\\\\\"annotation\\\\\\\\\\\\\": null}, {\\\\\\\\\\\\\"id\\\\\\\\\\\\\": \\\\\\\\\\\\\"534b1d39-a020-4d34-befe-a1abf6f4b799\\\\\\\\\\\\\", \\\\\\\\\\\\\"type\\\\\\\\\\\\\": \\\\\\\\\\\\\"Microsoft.DPrep.ParseDelimitedBlock\\\\\\\\\\\\\", \\\\\\\\\\\\\"arguments\\\\\\\\\\\\\": {\\\\\\\\\\\\\"columnHeadersMode\\\\\\\\\\\\\": 1, \\\\\\\\\\\\\"fileEncoding\\\\\\\\\\\\\": 0, \\\\\\\\\\\\\"handleQuotedLineBreaks\\\\\\\\\\\\\": false, \\\\\\\\\\\\\"preview\\\\\\\\\\\\\": false, \\\\\\\\\\\\\"separator\\\\\\\\\\\\\": \\\\\\\\\\\\\",\\\\\\\\\\\\\", \\\\\\\\\\\\\"skipRows\\\\\\\\\\\\\": 0, \\\\\\\\\\\\\"skipRowsMode\\\\\\\\\\\\\": 0}, \\\\\\\\\\\\\"localData\\\\\\\\\\\\\": {}, \\\\\\\\\\\\\"isEnabled\\\\\\\\\\\\\": true, \\\\\\\\\\\\\"name\\\\\\\\\\\\\": null, \\\\\\\\\\\\\"annotation\\\\\\\\\\\\\": null}, {\\\\\\\\\\\\\"id\\\\\\\\\\\\\": \\\\\\\\\\\\\"47f4b1c6-3e76-44d1-a99e-419fb261baea\\\\\\\\\\\\\", \\\\\\\\\\\\\"type\\\\\\\\\\\\\": \\\\\\\\\\\\\"Microsoft.DPrep.DropColumnsBlock\\\\\\\\\\\\\", \\\\\\\\\\\\\"arguments\\\\\\\\\\\\\": {\\\\\\\\\\\\\"columns\\\\\\\\\\\\\": {\\\\\\\\\\\\\"type\\\\\\\\\\\\\": 0, \\\\\\\\\\\\\"details\\\\\\\\\\\\\": {\\\\\\\\\\\\\"selectedColumns\\\\\\\\\\\\\": [\\\\\\\\\\\\\"Path\\\\\\\\\\\\\"]}}}, \\\\\\\\\\\\\"localData\\\\\\\\\\\\\": {}, \\\\\\\\\\\\\"isEnabled\\\\\\\\\\\\\": true, \\\\\\\\\\\\\"name\\\\\\\\\\\\\": null, \\\\\\\\\\\\\"annotation\\\\\\\\\\\\\": null}, {\\\\\\\\\\\\\"id\\\\\\\\\\\\\": \\\\\\\\\\\\\"0cd5117b-30a3-45c5-91ca-548939f0b202\\\\\\\\\\\\\", \\\\\\\\\\\\\"type\\\\\\\\\\\\\": \\\\\\\\\\\\\"Microsoft.DPrep.SetColumnTypesBlock\\\\\\\\\\\\\", \\\\\\\\\\\\\"arguments\\\\\\\\\\\\\": {\\\\\\\\\\\\\"columnConversion\\\\\\\\\\\\\": [{\\\\\\\\\\\\\"column\\\\\\\\\\\\\": {\\\\\\\\\\\\\"type\\\\\\\\\\\\\": 2, \\\\\\\\\\\\\"details\\\\\\\\\\\\\": {\\\\\\\\\\\\\"selectedColumn\\\\\\\\\\\\\": \\\\\\\\\\\\\"Path\\\\\\\\\\\\\"}}, \\\\\\\\\\\\\"typeProperty\\\\\\\\\\\\\": 0}, {\\\\\\\\\\\\\"column\\\\\\\\\\\\\": {\\\\\\\\\\\\\"type\\\\\\\\\\\\\": 2, \\\\\\\\\\\\\"details\\\\\\\\\\\\\": {\\\\\\\\\\\\\"selectedColumn\\\\\\\\\\\\\": \\\\\\\\\\\\\"age\\\\\\\\\\\\\"}}, \\\\\\\\\\\\\"typeProperty\\\\\\\\\\\\\": 3}, {\\\\\\\\\\\\\"column\\\\\\\\\\\\\": {\\\\\\\\\\\\\"type\\\\\\\\\\\\\": 2, \\\\\\\\\\\\\"details\\\\\\\\\\\\\": {\\\\\\\\\\\\\"selectedColumn\\\\\\\\\\\\\": \\\\\\\\\\\\\"anaemia\\\\\\\\\\\\\"}}, \\\\\\\\\\\\\"typeProperty\\\\\\\\\\\\\": 2}, {\\\\\\\\\\\\\"column\\\\\\\\\\\\\": {\\\\\\\\\\\\\"type\\\\\\\\\\\\\": 2, \\\\\\\\\\\\\"details\\\\\\\\\\\\\": {\\\\\\\\\\\\\"selectedColumn\\\\\\\\\\\\\": \\\\\\\\\\\\\"creatinine_phosphokinase\\\\\\\\\\\\\"}}, \\\\\\\\\\\\\"typeProperty\\\\\\\\\\\\\": 2}, {\\\\\\\\\\\\\"column\\\\\\\\\\\\\": {\\\\\\\\\\\\\"type\\\\\\\\\\\\\": 2, \\\\\\\\\\\\\"details\\\\\\\\\\\\\": {\\\\\\\\\\\\\"selectedColumn\\\\\\\\\\\\\": \\\\\\\\\\\\\"diabetes\\\\\\\\\\\\\"}}, \\\\\\\\\\\\\"typeProperty\\\\\\\\\\\\\": 2}, {\\\\\\\\\\\\\"column\\\\\\\\\\\\\": {\\\\\\\\\\\\\"type\\\\\\\\\\\\\": 2, \\\\\\\\\\\\\"details\\\\\\\\\\\\\": {\\\\\\\\\\\\\"selectedColumn\\\\\\\\\\\\\": \\\\\\\\\\\\\"ejection_fraction\\\\\\\\\\\\\"}}, \\\\\\\\\\\\\"typeProperty\\\\\\\\\\\\\": 2}, {\\\\\\\\\\\\\"column\\\\\\\\\\\\\": {\\\\\\\\\\\\\"type\\\\\\\\\\\\\": 2, \\\\\\\\\\\\\"details\\\\\\\\\\\\\": {\\\\\\\\\\\\\"selectedColumn\\\\\\\\\\\\\": \\\\\\\\\\\\\"high_blood_pressure\\\\\\\\\\\\\"}}, \\\\\\\\\\\\\"typeProperty\\\\\\\\\\\\\": 2}, {\\\\\\\\\\\\\"column\\\\\\\\\\\\\": {\\\\\\\\\\\\\"type\\\\\\\\\\\\\": 2, \\\\\\\\\\\\\"details\\\\\\\\\\\\\": {\\\\\\\\\\\\\"selectedColumn\\\\\\\\\\\\\": \\\\\\\\\\\\\"platelets\\\\\\\\\\\\\"}}, \\\\\\\\\\\\\"typeProperty\\\\\\\\\\\\\": 3}, {\\\\\\\\\\\\\"column\\\\\\\\\\\\\": {\\\\\\\\\\\\\"type\\\\\\\\\\\\\": 2, \\\\\\\\\\\\\"details\\\\\\\\\\\\\": {\\\\\\\\\\\\\"selectedColumn\\\\\\\\\\\\\": \\\\\\\\\\\\\"serum_creatinine\\\\\\\\\\\\\"}}, \\\\\\\\\\\\\"typeProperty\\\\\\\\\\\\\": 3}, {\\\\\\\\\\\\\"column\\\\\\\\\\\\\": {\\\\\\\\\\\\\"type\\\\\\\\\\\\\": 2, \\\\\\\\\\\\\"details\\\\\\\\\\\\\": {\\\\\\\\\\\\\"selectedColumn\\\\\\\\\\\\\": \\\\\\\\\\\\\"serum_sodium\\\\\\\\\\\\\"}}, \\\\\\\\\\\\\"typeProperty\\\\\\\\\\\\\": 2}, {\\\\\\\\\\\\\"column\\\\\\\\\\\\\": {\\\\\\\\\\\\\"type\\\\\\\\\\\\\": 2, \\\\\\\\\\\\\"details\\\\\\\\\\\\\": {\\\\\\\\\\\\\"selectedColumn\\\\\\\\\\\\\": \\\\\\\\\\\\\"sex\\\\\\\\\\\\\"}}, \\\\\\\\\\\\\"typeProperty\\\\\\\\\\\\\": 2}, {\\\\\\\\\\\\\"column\\\\\\\\\\\\\": {\\\\\\\\\\\\\"type\\\\\\\\\\\\\": 2, \\\\\\\\\\\\\"details\\\\\\\\\\\\\": {\\\\\\\\\\\\\"selectedColumn\\\\\\\\\\\\\": \\\\\\\\\\\\\"smoking\\\\\\\\\\\\\"}}, \\\\\\\\\\\\\"typeProperty\\\\\\\\\\\\\": 2}, {\\\\\\\\\\\\\"column\\\\\\\\\\\\\": {\\\\\\\\\\\\\"type\\\\\\\\\\\\\": 2, \\\\\\\\\\\\\"details\\\\\\\\\\\\\": {\\\\\\\\\\\\\"selectedColumn\\\\\\\\\\\\\": \\\\\\\\\\\\\"time\\\\\\\\\\\\\"}}, \\\\\\\\\\\\\"typeProperty\\\\\\\\\\\\\": 2}, {\\\\\\\\\\\\\"column\\\\\\\\\\\\\": {\\\\\\\\\\\\\"type\\\\\\\\\\\\\": 2, \\\\\\\\\\\\\"details\\\\\\\\\\\\\": {\\\\\\\\\\\\\"selectedColumn\\\\\\\\\\\\\": \\\\\\\\\\\\\"DEATH_EVENT\\\\\\\\\\\\\"}}, \\\\\\\\\\\\\"typeProperty\\\\\\\\\\\\\": 2}]}, \\\\\\\\\\\\\"localData\\\\\\\\\\\\\": {}, \\\\\\\\\\\\\"isEnabled\\\\\\\\\\\\\": true, \\\\\\\\\\\\\"name\\\\\\\\\\\\\": null, \\\\\\\\\\\\\"annotation\\\\\\\\\\\\\": null}], \\\\\\\\\\\\\"inspectors\\\\\\\\\\\\\": [], \\\\\\\\\\\\\"meta\\\\\\\\\\\\\": {\\\\\\\\\\\\\"savedDatasetId\\\\\\\\\\\\\": \\\\\\\\\\\\\"ca7c8ad6-58e5-4b4b-ad00-6b116befbde0\\\\\\\\\\\\\", \\\\\\\\\\\\\"datasetType\\\\\\\\\\\\\": \\\\\\\\\\\\\"tabular\\\\\\\\\\\\\", \\\\\\\\\\\\\"subscriptionId\\\\\\\\\\\\\": \\\\\\\\\\\\\"f9d5a085-54dc-4215-9ba6-dad5d86e60a0\\\\\\\\\\\\\", \\\\\\\\\\\\\"workspaceId\\\\\\\\\\\\\": \\\\\\\\\\\\\"6d040b22-e724-421b-af0c-30e7c7d4bf20\\\\\\\\\\\\\", \\\\\\\\\\\\\"workspaceLocation\\\\\\\\\\\\\": \\\\\\\\\\\\\"southcentralus\\\\\\\\\\\\\"}}\\\\\", \\\\\"activities\\\\\": 0}',\n  'EnableSubsampling': None,\n  'runTemplate': 'AutoML',\n  'azureml.runsource': 'automl',\n  'display_task_type': 'classification',\n  'dependencies_versions': '{\"azureml-widgets\": \"1.19.0\", \"azureml-train\": \"1.19.0\", \"azureml-train-restclients-hyperdrive\": \"1.19.0\", \"azureml-train-core\": \"1.19.0\", \"azureml-train-automl\": \"1.19.0\", \"azureml-train-automl-runtime\": \"1.19.0\", \"azureml-train-automl-client\": \"1.19.0\", \"azureml-tensorboard\": \"1.19.0\", \"azureml-telemetry\": \"1.19.0\", \"azureml-sdk\": \"1.19.0\", \"azureml-samples\": \"0+unknown\", \"azureml-pipeline\": \"1.19.0\", \"azureml-pipeline-steps\": \"1.19.0\", \"azureml-pipeline-core\": \"1.19.0\", \"azureml-opendatasets\": \"1.19.0\", \"azureml-model-management-sdk\": \"1.0.1b6.post1\", \"azureml-mlflow\": \"1.19.0\", \"azureml-interpret\": \"1.19.0\", \"azureml-explain-model\": \"1.19.0\", \"azureml-defaults\": \"1.19.0\", \"azureml-dataset-runtime\": \"1.19.0\", \"azureml-dataprep\": \"2.6.1\", \"azureml-dataprep-rslex\": \"1.4.0\", \"azureml-dataprep-native\": \"26.0.0\", \"azureml-datadrift\": \"1.19.0\", \"azureml-core\": \"1.19.0\", \"azureml-contrib-services\": \"1.19.0\", \"azureml-contrib-server\": \"1.19.0\", \"azureml-contrib-reinforcementlearning\": \"1.19.0\", \"azureml-contrib-pipeline-steps\": \"1.19.0\", \"azureml-contrib-notebook\": \"1.19.0\", \"azureml-contrib-interpret\": \"1.19.0\", \"azureml-contrib-gbdt\": \"1.19.0\", \"azureml-contrib-fairness\": \"1.19.0\", \"azureml-contrib-dataset\": \"1.19.0\", \"azureml-cli-common\": \"1.19.0\", \"azureml-automl-runtime\": \"1.19.0\", \"azureml-automl-core\": \"1.19.0\", \"azureml-accel-models\": \"1.19.0\"}',\n  '_aml_system_scenario_identification': 'Remote.Parent',\n  'ClientType': 'SDK',\n  'environment_cpu_name': 'AzureML-AutoML',\n  'environment_cpu_label': 'prod',\n  'environment_gpu_name': 'AzureML-AutoML-GPU',\n  'environment_gpu_label': 'prod',\n  'root_attribution': 'automl',\n  'attribution': 'AutoML',\n  'Orchestrator': 'AutoML',\n  'CancelUri': 'https://southcentralus.experiments.azureml.net/jasmine/v1.0/subscriptions/f9d5a085-54dc-4215-9ba6-dad5d86e60a0/resourceGroups/aml-quickstarts-132535/providers/Microsoft.MachineLearningServices/workspaces/quick-starts-ws-132535/experimentids/5482e67b-debd-44da-b9f8-fbcabaae6484/cancel/AutoML_61692633-c857-46d4-a6b3-629dfff50e12',\n  'ClientSdkVersion': '1.19.0',\n  'snapshotId': '00000000-0000-0000-0000-000000000000',\n  'SetupRunId': 'AutoML_61692633-c857-46d4-a6b3-629dfff50e12_setup',\n  'SetupRunContainerId': 'dcid.AutoML_61692633-c857-46d4-a6b3-629dfff50e12_setup',\n  'FeaturizationRunJsonPath': 'featurizer_container.json',\n  'FeaturizationRunId': 'AutoML_61692633-c857-46d4-a6b3-629dfff50e12_featurize',\n  'ProblemInfoJsonString': '{\"dataset_num_categorical\": 0, \"is_sparse\": false, \"subsampling\": false, \"dataset_classes\": 2, \"dataset_features\": 12, \"dataset_samples\": 299, \"single_frequency_class_detected\": false}',\n  'ModelExplainRunId': 'AutoML_61692633-c857-46d4-a6b3-629dfff50e12_ModelExplain'},\n 'inputDatasets': [{'dataset': {'id': 'ca7c8ad6-58e5-4b4b-ad00-6b116befbde0'}, 'consumptionDetails': {'type': 'RunInput', 'inputName': 'training_data', 'mechanism': 'Direct'}}],\n 'outputDatasets': [],\n 'logFiles': {}}"
          },
          "metadata": {}
        }
      ],
      "execution_count": 12,
      "metadata": {}
    },
    {
      "cell_type": "markdown",
      "source": [
        "## Best Model\n",
        "\n",
        "TODO: In the cell below, get the best model from the automl experiments and display all the properties of the model.\n",
        "\n"
      ],
      "metadata": {}
    },
    {
      "cell_type": "code",
      "source": [
        "best_run_id, fitted_model = remote_run.get_output()\n",
        "print(best_run_id)\n",
        "print(fitted_model)\n",
        "\n",
        "best_run_metrics = best_run.get_metrics()\n",
        "for metric_name in best_run_metrics:\n",
        "    metric = best_run_metrics[metric_name]\n",
        "    print(metric_name)\n",
        "    print(metric)"
      ],
      "outputs": [
        {
          "output_type": "stream",
          "name": "stdout",
          "text": [
            "Run(Experiment: capstone-heart-failure-exp,\n",
            "Id: AutoML_61692633-c857-46d4-a6b3-629dfff50e12_51,\n",
            "Type: azureml.scriptrun,\n",
            "Status: Completed)\n",
            "Pipeline(memory=None,\n",
            "         steps=[('datatransformer',\n",
            "                 DataTransformer(enable_dnn=None, enable_feature_sweeping=None,\n",
            "                                 feature_sweeping_config=None,\n",
            "                                 feature_sweeping_timeout=None,\n",
            "                                 featurization_config=None, force_text_dnn=None,\n",
            "                                 is_cross_validation=None,\n",
            "                                 is_onnx_compatible=None, logger=None,\n",
            "                                 observer=None, task=None, working_dir=None)),\n",
            "                ('prefittedsoftvotingclassifier',...\n",
            "                                                                                                    n_estimators=50,\n",
            "                                                                                                    n_jobs=1,\n",
            "                                                                                                    oob_score=False,\n",
            "                                                                                                    random_state=None,\n",
            "                                                                                                    verbose=0,\n",
            "                                                                                                    warm_start=False))],\n",
            "                                                                     verbose=False))],\n",
            "                                               flatten_transform=None,\n",
            "                                               weights=[0.07142857142857142,\n",
            "                                                        0.07142857142857142,\n",
            "                                                        0.07142857142857142,\n",
            "                                                        0.14285714285714285,\n",
            "                                                        0.14285714285714285,\n",
            "                                                        0.07142857142857142,\n",
            "                                                        0.07142857142857142,\n",
            "                                                        0.21428571428571427,\n",
            "                                                        0.07142857142857142,\n",
            "                                                        0.07142857142857142]))],\n",
            "         verbose=False)\n",
            "average_precision_score_macro\n",
            "0.9121959772074086\n",
            "log_loss\n",
            "0.4154808232498463\n",
            "AUC_weighted\n",
            "0.9207544066076043\n",
            "precision_score_weighted\n",
            "0.8503712951261917\n",
            "f1_score_micro\n",
            "0.836045197740113\n",
            "f1_score_macro\n",
            "0.8062578352247411\n",
            "accuracy\n",
            "0.836045197740113\n",
            "precision_score_macro\n",
            "0.8146399965078455\n",
            "recall_score_macro\n",
            "0.8167351882613512\n",
            "balanced_accuracy\n",
            "0.8167351882613512\n",
            "recall_score_weighted\n",
            "0.836045197740113\n",
            "matthews_correlation\n",
            "0.6300012983615647\n",
            "AUC_macro\n",
            "0.9207544066076043\n",
            "average_precision_score_weighted\n",
            "0.9327997348534453\n",
            "AUC_micro\n",
            "0.9224620639024547\n",
            "norm_macro_recall\n",
            "0.6334703765227021\n",
            "average_precision_score_micro\n",
            "0.9248199850524783\n",
            "precision_score_micro\n",
            "0.836045197740113\n",
            "weighted_accuracy\n",
            "0.8490773692278081\n",
            "recall_score_micro\n",
            "0.836045197740113\n",
            "f1_score_weighted\n",
            "0.8346537385376189\n",
            "confusion_matrix\n",
            "aml://artifactId/ExperimentRun/dcid.AutoML_61692633-c857-46d4-a6b3-629dfff50e12_51/confusion_matrix\n",
            "accuracy_table\n",
            "aml://artifactId/ExperimentRun/dcid.AutoML_61692633-c857-46d4-a6b3-629dfff50e12_51/accuracy_table\n"
          ]
        }
      ],
      "execution_count": 60,
      "metadata": {
        "gather": {
          "logged": 1598431425670
        },
        "jupyter": {
          "outputs_hidden": false,
          "source_hidden": false
        },
        "nteract": {
          "transient": {
            "deleting": false
          }
        }
      }
    },
    {
      "cell_type": "code",
      "source": [
        "#TODO: Save the best model\n",
        "\n",
        "best_run.register_model(model_name='automl_model',model_path='/outputs',properties={'AUC_weighted':best_run_metrics['AUC_weighted']},tags={'Training context':'Auto ML'})"
      ],
      "outputs": [
        {
          "output_type": "execute_result",
          "execution_count": 15,
          "data": {
            "text/plain": "Model(workspace=Workspace.create(name='quick-starts-ws-132535', subscription_id='f9d5a085-54dc-4215-9ba6-dad5d86e60a0', resource_group='aml-quickstarts-132535'), name=automl_model, id=automl_model:1, version=1, tags={'Training context': 'Auto ML'}, properties={'AUC_weighted': '0.9207544066076043'})"
          },
          "metadata": {}
        }
      ],
      "execution_count": 15,
      "metadata": {
        "gather": {
          "logged": 1598431426111
        },
        "jupyter": {
          "outputs_hidden": false,
          "source_hidden": false
        },
        "nteract": {
          "transient": {
            "deleting": false
          }
        }
      }
    },
    {
      "cell_type": "code",
      "source": [
        "best_run"
      ],
      "outputs": [
        {
          "output_type": "execute_result",
          "execution_count": 16,
          "data": {
            "text/html": "<table style=\"width:100%\"><tr><th>Experiment</th><th>Id</th><th>Type</th><th>Status</th><th>Details Page</th><th>Docs Page</th></tr><tr><td>capstone-heart-failure-exp</td><td>AutoML_61692633-c857-46d4-a6b3-629dfff50e12_51</td><td>azureml.scriptrun</td><td>Completed</td><td><a href=\"https://ml.azure.com/experiments/capstone-heart-failure-exp/runs/AutoML_61692633-c857-46d4-a6b3-629dfff50e12_51?wsid=/subscriptions/f9d5a085-54dc-4215-9ba6-dad5d86e60a0/resourcegroups/aml-quickstarts-132535/workspaces/quick-starts-ws-132535\" target=\"_blank\" rel=\"noopener\">Link to Azure Machine Learning studio</a></td><td><a href=\"https://docs.microsoft.com/en-us/python/api/azureml-core/azureml.core.run.Run?view=azure-ml-py\" target=\"_blank\" rel=\"noopener\">Link to Documentation</a></td></tr></table>",
            "text/plain": "Run(Experiment: capstone-heart-failure-exp,\nId: AutoML_61692633-c857-46d4-a6b3-629dfff50e12_51,\nType: azureml.scriptrun,\nStatus: Completed)"
          },
          "metadata": {}
        }
      ],
      "execution_count": 16,
      "metadata": {}
    },
    {
      "cell_type": "code",
      "source": [
        "model_name = best_run.properties['model_name']\n",
        "model_name"
      ],
      "outputs": [
        {
          "output_type": "execute_result",
          "execution_count": 55,
          "data": {
            "text/plain": "'AutoML61692633c51'"
          },
          "metadata": {}
        }
      ],
      "execution_count": 55,
      "metadata": {}
    },
    {
      "cell_type": "markdown",
      "source": [
        "## Model Deployment\n",
        "\n",
        "Remember you have to deploy only one of the two models you trained.. Perform the steps in the rest of this notebook only if you wish to deploy this model.\n",
        "\n",
        "TODO: In the cell below, register the model, create an inference config and deploy the model as a web service."
      ],
      "metadata": {}
    },
    {
      "cell_type": "code",
      "source": [
        "# Register the model\n",
        "\n",
        "model = remote_run.register_model(model_name = model_name,\n",
        "                                  description = 'Automl model')"
      ],
      "outputs": [],
      "execution_count": 56,
      "metadata": {}
    },
    {
      "cell_type": "code",
      "source": [
        "environment = Environment('capstone-project-environment')\n",
        "environment.python.conda_dependencies = CondaDependencies.create(pip_packages=[\n",
        "    'azureml-defaults',\n",
        "    'inference-schema[numpy-support]',\n",
        "    'joblib',\n",
        "    'numpy',\n",
        "    'scikit-learn=={}'.format(sklearn.__version__)\n",
        "])"
      ],
      "outputs": [],
      "execution_count": 57,
      "metadata": {
        "gather": {
          "logged": 1598431435189
        },
        "jupyter": {
          "outputs_hidden": false,
          "source_hidden": false
        },
        "nteract": {
          "transient": {
            "deleting": false
          }
        }
      }
    },
    {
      "cell_type": "code",
      "source": [
        "with open('score.py') as f:\n",
        "    print(f.read())"
      ],
      "outputs": [
        {
          "output_type": "stream",
          "name": "stdout",
          "text": [
            "import os\n",
            "import pickle\n",
            "import json\n",
            "import numpy\n",
            "from sklearn.externals import joblib\n",
            "\n",
            "def init():\n",
            "    global model\n",
            "   # AZUREML_MODEL_DIR is an environment variable created during deployment.\n",
            "    # It is the path to the model folder (./azureml-models/$MODEL_NAME/$VERSION)\n",
            "    # For multiple models, it points to the folder containing all deployed models (./azureml-models)\n",
            "    # model_path = os.path.join(os.getenv('AZUREML_MODEL_DIR'), 'sklearn_classification_model.pkl')\n",
            "\n",
            "    # deserialize the model file back into a sklearn model\n",
            "    model = joblib.load(model_path)\n",
            "\n",
            "\n",
            "# note you can pass in multiple rows for scoring\n",
            "def run(raw_data):\n",
            "    try:\n",
            "        data = json.loads(raw_data)['data']\n",
            "        result = model.predict(data)\n",
            "        # you can return any datatype as long as it is JSON-serializable\n",
            "        return result.tolist()\n",
            "    except Exception as e:\n",
            "        error = str(e)\n",
            "        return error\n",
            "\n"
          ]
        }
      ],
      "execution_count": 62,
      "metadata": {}
    },
    {
      "cell_type": "code",
      "source": [
        "# Create an inference config\n",
        "service_name='capstone-service'\n",
        "\n",
        "inference_config = InferenceConfig(entry_script='score.py', environment=environment)\n",
        "aci_config = AciWebservice.deploy_configuration(cpu_cores=1, memory_gb=1, description=\"Predict death event using classification model\", enable_app_insights=True)\n",
        "\n",
        "service = Model.deploy(workspace=ws,\n",
        "                       name='capstone-encrypted-deploy',\n",
        "                       models=[model],\n",
        "                       inference_config=inference_config,\n",
        "                       deployment_config=aci_config\n",
        "                       )"
      ],
      "outputs": [],
      "execution_count": 63,
      "metadata": {}
    },
    {
      "cell_type": "code",
      "source": [
        "service.wait_for_deployment(show_output=True)\n",
        "print(\"State: \" + service.state)"
      ],
      "outputs": [],
      "execution_count": null,
      "metadata": {}
    },
    {
      "cell_type": "code",
      "source": [
        "aci_service_name = \"aci-service-appinsights\"\n",
        "\n",
        "aci_service = Model.deploy(ws, aci_service_name, [model], inference_config, aci_deployment_config, overwrite=True)\n",
        "aci_service.wait_for_deployment(show_output=True)\n",
        "\n",
        "print(aci_service.state)"
      ],
      "outputs": [],
      "execution_count": null,
      "metadata": {}
    },
    {
      "cell_type": "code",
      "source": [
        "if aci_service.state == \"Healthy\":\n",
        "    test_sample = json.dumps({\n",
        "        \"data\": [\n",
        "            [1,28,13,45,54,6,57,8,8,10],\n",
        "            [101,9,8,37,6,45,4,3,2,41]\n",
        "        ]\n",
        "    })\n",
        "\n",
        "    prediction = aci_service.run(test_sample)\n",
        "\n",
        "    print(prediction)\n",
        "else:\n",
        "    raise ValueError(\"Service deployment isn't healthy, can't call the service. Error: \", aci_service.error)"
      ],
      "outputs": [],
      "execution_count": null,
      "metadata": {}
    },
    {
      "cell_type": "markdown",
      "source": [
        "TODO: In the cell below, send a request to the web service you deployed to test it."
      ],
      "metadata": {
        "collapsed": true,
        "gather": {
          "logged": 1598431657736
        },
        "jupyter": {
          "outputs_hidden": false,
          "source_hidden": false
        },
        "nteract": {
          "transient": {
            "deleting": false
          }
        }
      }
    },
    {
      "cell_type": "code",
      "source": [
        "input_payload = json.dumps({\n",
        "    'data': dataset_x[0:2].tolist()\n",
        "})"
      ],
      "outputs": [],
      "execution_count": null,
      "metadata": {
        "gather": {
          "logged": 1598432707604
        },
        "jupyter": {
          "outputs_hidden": false,
          "source_hidden": false
        },
        "nteract": {
          "transient": {
            "deleting": false
          }
        }
      }
    },
    {
      "cell_type": "markdown",
      "source": [
        "TODO: In the cell below, print the logs of the web service and delete the service"
      ],
      "metadata": {
        "collapsed": true,
        "gather": {
          "logged": 1598432765711
        },
        "jupyter": {
          "outputs_hidden": false,
          "source_hidden": false
        },
        "nteract": {
          "transient": {
            "deleting": false
          }
        }
      }
    },
    {
      "cell_type": "code",
      "source": [
        "# Print the logs of the web service\n",
        "\n",
        "output = service.run(input_payload)\n",
        "\n",
        "print(output)\n",
        "\n",
        "# Delete the service\n",
        "service.delete()"
      ],
      "outputs": [],
      "execution_count": null,
      "metadata": {
        "jupyter": {
          "outputs_hidden": false,
          "source_hidden": false
        },
        "nteract": {
          "transient": {
            "deleting": false
          }
        }
      }
    }
  ],
  "metadata": {
    "kernel_info": {
      "name": "python3-azureml"
    },
    "kernelspec": {
      "display_name": "Python 3.6 - AzureML",
      "language": "python",
      "name": "python3-azureml"
    },
    "language_info": {
      "codemirror_mode": {
        "name": "ipython",
        "version": 3
      },
      "file_extension": ".py",
      "mimetype": "text/x-python",
      "name": "python",
      "nbconvert_exporter": "python",
      "pygments_lexer": "ipython3",
      "version": "3.6.9"
    },
    "nteract": {
      "version": "nteract-front-end@1.0.0"
    }
  },
  "nbformat": 4,
  "nbformat_minor": 2
}